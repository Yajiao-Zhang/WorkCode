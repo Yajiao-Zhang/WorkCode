{
 "cells": [
  {
   "cell_type": "code",
   "execution_count": 2,
   "id": "ea6b99d2",
   "metadata": {},
   "outputs": [
    {
     "name": "stderr",
     "output_type": "stream",
     "text": [
      "C:\\Users\\zhang\\AppData\\Local\\Temp\\ipykernel_61292\\1836960496.py:46: RuntimeWarning: overflow encountered in exp\n",
      "  if np.random.rand() < np.exp(-beta * (new_energy - current_energy)):\n"
     ]
    },
    {
     "data": {
      "image/png": "[encoded data removed]",
      "text/plain": [
       "<Figure size 432x288 with 1 Axes>"
      ]
     },
     "metadata": {
      "needs_background": "light"
     },
     "output_type": "display_data"
    }
   ],
   "source": [
    "import numpy as np\n",
    "import matplotlib.pyplot as plt\n",
    "\n",
    "def initialize_lattice(N, density, box_length):\n",
    "    \"\"\"\n",
    "    初始化晶格，N为粒子数，density为粒子密度，box_length为模拟盒子的边长\n",
    "    \"\"\"\n",
    "    positions = np.random.rand(N, 3) * box_length\n",
    "    return positions\n",
    "\n",
    "def lj_potential(r, epsilon, sigma):\n",
    "    \"\"\"\n",
    "    计算Lennard-Jones势能\n",
    "    \"\"\"\n",
    "    return 4 * epsilon * ((sigma / r) ** 12 - (sigma / r) ** 6)\n",
    "\n",
    "def total_energy(positions, epsilon, sigma, box_length):\n",
    "    \"\"\"\n",
    "    计算总势能\n",
    "    \"\"\"\n",
    "    N = len(positions)\n",
    "    total_energy = 0.0\n",
    "\n",
    "    for i in range(N - 1):\n",
    "        for j in range(i + 1, N):\n",
    "            rij = positions[i] - positions[j]\n",
    "            rij -= np.round(rij / box_length) * box_length\n",
    "            distance = np.linalg.norm(rij)\n",
    "            total_energy += lj_potential(distance, epsilon, sigma)\n",
    "\n",
    "    return total_energy\n",
    "\n",
    "def monte_carlo_step(positions, beta, epsilon, sigma, box_length):\n",
    "    \"\"\"\n",
    "    执行一步蒙特卡洛模拟\n",
    "    \"\"\"\n",
    "    N = len(positions)\n",
    "    particle = np.random.randint(N)\n",
    "    move = (np.random.rand(3) - 0.5) * 0.1  # 调整步长\n",
    "    new_positions = np.copy(positions)\n",
    "    new_positions[particle] += move\n",
    "\n",
    "    current_energy = total_energy(positions, epsilon, sigma, box_length)\n",
    "    new_energy = total_energy(new_positions, epsilon, sigma, box_length)\n",
    "\n",
    "    if np.random.rand() < np.exp(-beta * (new_energy - current_energy)):\n",
    "        positions[particle] += move\n",
    "\n",
    "    return positions\n",
    "\n",
    "def simulate(N, density, temperature, steps, epsilon, sigma, box_length):\n",
    "    \"\"\"\n",
    "    执行蒙特卡洛模拟\n",
    "    \"\"\"\n",
    "    positions = initialize_lattice(N, density, box_length)\n",
    "    beta = 1.0 / temperature\n",
    "    energies = []\n",
    "\n",
    "    for step in range(steps):\n",
    "        positions = monte_carlo_step(positions, beta, epsilon, sigma, box_length)\n",
    "        if step % 100 == 0:\n",
    "            energies.append(total_energy(positions, epsilon, sigma, box_length))\n",
    "\n",
    "    return positions, energies\n",
    "\n",
    "# 模拟参数\n",
    "N = 50  # 粒子数\n",
    "density = 0.8  # 初始密度\n",
    "temperature = 1.0  # 温度\n",
    "steps = 10000  # 模拟步数\n",
    "epsilon = 1.0  # Lennard-Jones势能深度\n",
    "sigma = 1.0  # Lennard-Jones硬核半径\n",
    "box_length = (N / density) ** (1/3)  # 模拟盒子的边长\n",
    "\n",
    "# 执行模拟\n",
    "final_positions, energy_trajectory = simulate(N, density, temperature, steps, epsilon, sigma, box_length)\n",
    "\n",
    "# 绘制能量轨迹\n",
    "plt.plot(energy_trajectory)\n",
    "plt.title('Energy Trajectory')\n",
    "plt.xlabel('MC Steps')\n",
    "plt.ylabel('Energy')\n",
    "plt.show()\n"
   ]
  },
  {
   "cell_type": "code",
   "execution_count": null,
   "id": "c2da31e1",
   "metadata": {},
   "outputs": [],
   "source": []
  },
  {
   "cell_type": "code",
   "execution_count": null,
   "id": "80a0496e",
   "metadata": {},
   "outputs": [],
   "source": []
  },
  {
   "cell_type": "code",
   "execution_count": null,
   "id": "6864d4b0",
   "metadata": {},
   "outputs": [],
   "source": []
  },
  {
   "cell_type": "code",
   "execution_count": null,
   "id": "360071c4",
   "metadata": {},
   "outputs": [],
   "source": []
  },
  {
   "cell_type": "code",
   "execution_count": null,
   "id": "d6ddb4b7",
   "metadata": {},
   "outputs": [],
   "source": []
  },
  {
   "cell_type": "code",
   "execution_count": null,
   "id": "b3c9a85c",
   "metadata": {},
   "outputs": [],
   "source": []
  }
 ],
 "metadata": {
  "kernelspec": {
   "display_name": "Python 3 (ipykernel)",
   "language": "python",
   "name": "python3"
  },
  "language_info": {
   "codemirror_mode": {
    "name": "ipython",
    "version": 3
   },
   "file_extension": ".py",
   "mimetype": "text/x-python",
   "name": "python",
   "nbconvert_exporter": "python",
   "pygments_lexer": "ipython3",
   "version": "3.10.6"
  }
 },
 "nbformat": 4,
 "nbformat_minor": 5
}
