{
 "cells": [
  {
   "cell_type": "code",
   "execution_count": 5,
   "id": "6dc1c02f-8d8d-4052-93e2-735760d09b95",
   "metadata": {},
   "outputs": [],
   "source": [
    "import numpy as np\n",
    "import os"
   ]
  },
  {
   "cell_type": "code",
   "execution_count": 32,
   "id": "f3ec9804-9961-478c-92b2-3a476fa8f4a8",
   "metadata": {},
   "outputs": [],
   "source": [
    "# 文件的根目录\n",
    "root = r'D:\\md_data\\AI_potential'"
   ]
  },
  {
   "cell_type": "code",
   "execution_count": 26,
   "id": "951b2759-e3f4-4cc6-b783-c2ca917a21d3",
   "metadata": {},
   "outputs": [],
   "source": [
    "file_name = '3000k-md.out'\n",
    "# 文件路径\n",
    "file_path = os.path.join(root,file_name)"
   ]
  },
  {
   "cell_type": "code",
   "execution_count": 27,
   "id": "0c858b60-c69d-4f99-8748-e661751995e6",
   "metadata": {},
   "outputs": [
    {
     "name": "stdout",
     "output_type": "stream",
     "text": [
      "共找到 47 个坐标段，每段 192 个原子。\n",
      "第一组前3个原子示例：\n",
      "['O', 0.24505462, -0.000554297, -0.002587389]\n",
      "['O', 0.625181806, 0.215201148, 0.002736926]\n",
      "['O', 0.12752303, 0.212948103, -0.003096283]\n"
     ]
    }
   ],
   "source": [
    "read_file =  file_path\n",
    "#\n",
    "atoms_list_alat = []\n",
    "num_atoms = None\n",
    "\n",
    "with open(read_file, \"r\") as f:\n",
    "    lines = f.readlines()\n",
    "\n",
    "i = 0\n",
    "while i < len(lines):\n",
    "    line = lines[i].strip()\n",
    "\n",
    "    # Step 1: 获取原子数\n",
    "    if num_atoms is None and line.startswith(\"number of atoms/cell\"):\n",
    "        parts = line.split(\"=\")\n",
    "        if len(parts) == 2:\n",
    "            num_atoms = int(parts[1].strip())\n",
    "\n",
    "    # Step 2: 遇到新的坐标段\n",
    "    elif \"new positions in cart coord (alat unit)\" in line:\n",
    "        if num_atoms is None:\n",
    "            raise ValueError(\"num_atoms 未定义，可能没有正确读取原子数量。\")\n",
    "\n",
    "        temp_list = []\n",
    "        for j in range(i + 1, i + 1 + num_atoms):\n",
    "            if j >= len(lines):\n",
    "                break\n",
    "            atom_line = lines[j].strip()\n",
    "            tokens = atom_line.split()\n",
    "            if len(tokens) >= 4:\n",
    "                element = tokens[0]\n",
    "                coords = list(map(float, tokens[1:4]))\n",
    "                temp_list.append([element] + coords)\n",
    "\n",
    "        atoms_list_alat.append(temp_list)\n",
    "        i += num_atoms  # 跳过这 num_atoms 行\n",
    "\n",
    "    i += 1\n",
    "\n",
    "# 输出确认\n",
    "print(f\"共找到 {len(atoms_list_alat)} 个坐标段，每段 {num_atoms} 个原子。\")\n",
    "print(\"第一组前3个原子示例：\")\n",
    "for atom in atoms_list_alat[0][:3]:\n",
    "    print(atom)\n"
   ]
  },
  {
   "cell_type": "code",
   "execution_count": 28,
   "id": "d18a0ca6-a1af-4c38-9910-de33a3a796a0",
   "metadata": {},
   "outputs": [
    {
     "name": "stdout",
     "output_type": "stream",
     "text": [
      "第一组前3个原子示例：\n",
      "['O', 2.586452460778619, -0.005850380783076875, -0.02730884504867335]\n",
      "['O', 6.598541258119193, 2.2713611308653707, 0.028887147639448635]\n",
      "['O', 1.3459540356735393, 2.247581151591791, -0.03268001551905858]\n"
     ]
    }
   ],
   "source": [
    "alat = 19.94530335  # 单位：Bohr\n",
    "bohr_to_angstrom = 0.529177\n",
    "\n",
    "# 遍历 atoms_list_alat 中的所有帧和原子，转换坐标\n",
    "atoms_list_angstrom = []\n",
    "\n",
    "for frame in atoms_list_alat:\n",
    "    frame_converted = []\n",
    "    for atom in frame:\n",
    "        element = atom[0]\n",
    "        coords = [c * alat * bohr_to_angstrom for c in atom[1:4]]\n",
    "        frame_converted.append([element] + coords)\n",
    "    atoms_list_angstrom.append(frame_converted)\n",
    "#\n",
    "print(\"第一组前3个原子示例：\")\n",
    "for atom in atoms_list_angstrom[0][:3]:\n",
    "    print(atom)"
   ]
  },
  {
   "cell_type": "markdown",
   "id": "85f913c6-1c04-40f8-a92e-a38080b2ba6a",
   "metadata": {},
   "source": [
    "# 输出xyz文件"
   ]
  },
  {
   "cell_type": "code",
   "execution_count": 29,
   "id": "93cd21aa-7cdf-45f9-9ac6-385462b22e47",
   "metadata": {},
   "outputs": [],
   "source": [
    "save_name = 'AIMD_3000k.xyz'\n",
    "# \n",
    "save_path = os.path.join(root,save_name)"
   ]
  },
  {
   "cell_type": "code",
   "execution_count": 30,
   "id": "f34ecfc8-bd55-43a6-96dc-d64ec33c96ab",
   "metadata": {},
   "outputs": [],
   "source": [
    "def save_atoms_to_file(atoms_list_angstrom, save_path):\n",
    "    with open(save_path, \"w\") as f:\n",
    "        for frame in atoms_list_angstrom:\n",
    "            num_atoms = len(frame)\n",
    "            f.write(f\"{num_atoms}\\n\")\n",
    "            f.write(\"Atoms\\n\")\n",
    "            for atom in frame:\n",
    "                element = atom[0]\n",
    "                x, y, z = atom[1:]\n",
    "                f.write(f\"{element:<4s} {x:12.6f} {y:12.6f} {z:12.6f}\\n\")"
   ]
  },
  {
   "cell_type": "code",
   "execution_count": 31,
   "id": "196d8af3-e25b-42db-80f1-a47a06fba2ba",
   "metadata": {},
   "outputs": [],
   "source": [
    "# 使用存储函数\n",
    "save_atoms_to_file(atoms_list_angstrom, save_path)"
   ]
  },
  {
   "cell_type": "code",
   "execution_count": null,
   "id": "99712e91-9117-4b27-a925-60c1d8e2a327",
   "metadata": {},
   "outputs": [],
   "source": []
  },
  {
   "cell_type": "code",
   "execution_count": null,
   "id": "7fe8cbbf-874f-40ea-9deb-4ddd6db5678e",
   "metadata": {},
   "outputs": [],
   "source": []
  },
  {
   "cell_type": "code",
   "execution_count": null,
   "id": "1c1e1ada-7ea6-452c-8ff0-841a3f645741",
   "metadata": {},
   "outputs": [],
   "source": []
  }
 ],
 "metadata": {
  "kernelspec": {
   "display_name": "Python 3 (ipykernel)",
   "language": "python",
   "name": "python3"
  },
  "language_info": {
   "codemirror_mode": {
    "name": "ipython",
    "version": 3
   },
   "file_extension": ".py",
   "mimetype": "text/x-python",
   "name": "python",
   "nbconvert_exporter": "python",
   "pygments_lexer": "ipython3",
   "version": "3.12.7"
  }
 },
 "nbformat": 4,
 "nbformat_minor": 5
}
