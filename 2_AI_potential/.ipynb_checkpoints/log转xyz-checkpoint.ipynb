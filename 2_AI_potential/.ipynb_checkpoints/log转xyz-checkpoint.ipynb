{
 "cells": [
  {
   "cell_type": "code",
   "execution_count": 5,
   "id": "6dc1c02f-8d8d-4052-93e2-735760d09b95",
   "metadata": {},
   "outputs": [],
   "source": [
    "import numpy as np\n",
    "import os"
   ]
  },
  {
   "cell_type": "code",
   "execution_count": 7,
   "id": "f3ec9804-9961-478c-92b2-3a476fa8f4a8",
   "metadata": {},
   "outputs": [],
   "source": [
    "# 文件处理的根目录\n",
    "root = r'D:\\md_data\\temporary_file'"
   ]
  },
  {
   "cell_type": "code",
   "execution_count": 8,
   "id": "951b2759-e3f4-4cc6-b783-c2ca917a21d3",
   "metadata": {},
   "outputs": [],
   "source": [
    "file_name = 'md.out'\n",
    "# \n",
    "file_path = os.path.join(root,file_name)"
   ]
  },
  {
   "cell_type": "code",
   "execution_count": null,
   "id": "0c858b60-c69d-4f99-8748-e661751995e6",
   "metadata": {},
   "outputs": [],
   "source": []
  },
  {
   "cell_type": "code",
   "execution_count": null,
   "id": "d18a0ca6-a1af-4c38-9910-de33a3a796a0",
   "metadata": {},
   "outputs": [],
   "source": []
  },
  {
   "cell_type": "code",
   "execution_count": null,
   "id": "b367719c-3420-48ad-a204-d57dfde09bfe",
   "metadata": {},
   "outputs": [],
   "source": []
  },
  {
   "cell_type": "code",
   "execution_count": null,
   "id": "93cd21aa-7cdf-45f9-9ac6-385462b22e47",
   "metadata": {},
   "outputs": [],
   "source": []
  }
 ],
 "metadata": {
  "kernelspec": {
   "display_name": "Python 3 (ipykernel)",
   "language": "python",
   "name": "python3"
  },
  "language_info": {
   "codemirror_mode": {
    "name": "ipython",
    "version": 3
   },
   "file_extension": ".py",
   "mimetype": "text/x-python",
   "name": "python",
   "nbconvert_exporter": "python",
   "pygments_lexer": "ipython3",
   "version": "3.12.7"
  }
 },
 "nbformat": 4,
 "nbformat_minor": 5
}
