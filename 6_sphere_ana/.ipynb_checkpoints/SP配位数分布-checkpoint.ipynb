{
 "cells": [
  {
   "cell_type": "code",
   "execution_count": 84,
   "id": "0f867e7a",
   "metadata": {},
   "outputs": [],
   "source": [
    "file_path = r'C:\\Users\\zhang\\Desktop\\1output_out.xyz'"
   ]
  },
  {
   "cell_type": "code",
   "execution_count": 91,
   "id": "36dd52ed",
   "metadata": {},
   "outputs": [],
   "source": [
    "# 设置中心点和计算参数\n",
    "center = (30, 30, 30)\n",
    "bin_size = 2\n",
    "max_radius = 20\n",
    "criteria = {'mid': ['Al'], 'neibor': ['O'], 'cutoff': 2.0}"
   ]
  },
  {
   "cell_type": "code",
   "execution_count": 92,
   "id": "41201e60",
   "metadata": {},
   "outputs": [],
   "source": [
    "import math\n",
    "import matplotlib.pyplot as plt\n",
    "\n",
    "def read_xyz_data(filename):\n",
    "    \"\"\"读取XYZ格式的文件数据\"\"\"\n",
    "    atoms = []\n",
    "    with open(filename, 'r') as file:\n",
    "        next(file)  # 跳过第一行（原子总数）\n",
    "        next(file)  # 跳过第二行（注释行）\n",
    "        for line in file:\n",
    "            parts = line.split()\n",
    "            if len(parts) == 4:  # 确保每行数据正确\n",
    "                atom_type, x, y, z = parts\n",
    "                atoms.append((atom_type, float(x), float(y), float(z)))\n",
    "    return atoms\n",
    "\n",
    "def calculate_cn_distribution(atoms, center, bin_size, max_radius, criteria):\n",
    "    \"\"\"计算不同Cn的数密度分布\"\"\"\n",
    "    mid_types = criteria['mid']  # 中心原子类型\n",
    "    neighbor_type = criteria['neibor']  # 邻居原子类型\n",
    "    cutoff = criteria['cutoff']  # 截断距离\n",
    "\n",
    "    # 初始化结果，最大Cn假设为C6\n",
    "    results = {f'C{i}': [0] * (int(max_radius / bin_size) + 1) for i in range(7)}\n",
    "\n",
    "    # 分类原子\n",
    "    mid_atoms = [(x, y, z) for atom, x, y, z in atoms if atom in mid_types]\n",
    "\n",
    "    neighbor_atoms = [(x, y, z) for atom, x, y, z in atoms if atom in neighbor_type]\n",
    "    max_bin = int(max_radius / bin_size)\n",
    "    # 遍历每个中心原子，计算配位数\n",
    "    for mx, my, mz in mid_atoms:\n",
    "        distance_to_center = math.sqrt((mx - center[0])**2 + (my - center[1])**2 + (mz - center[2])**2)\n",
    "        bin_index = int(distance_to_center / bin_size)\n",
    "        \n",
    "        if bin_index < max_bin:\n",
    "            cn_count = 0  # 计算每个中心原子的配位数\n",
    "            for nx, ny, nz in neighbor_atoms:\n",
    "                if math.sqrt((nx - mx)**2 + (ny - my)**2 + (nz - mz)**2) <= cutoff:\n",
    "                    cn_count += 1\n",
    "            cn_count = min(cn_count, 6)  # 限制最大配位数为C6\n",
    "            results[f'C{cn_count}'][bin_index] += 1\n",
    "\n",
    "    # 计算数密度\n",
    "    for key in results:\n",
    "        for i in range(len(results[key])):\n",
    "            outer_radius = (i + 1) * bin_size\n",
    "            inner_radius = i * bin_size\n",
    "            shell_volume = 4/3 * math.pi * (outer_radius**3 - inner_radius**3)\n",
    "            results[key][i] /= shell_volume  # 除以体积得到数密度\n",
    "\n",
    "    return results"
   ]
  },
  {
   "cell_type": "code",
   "execution_count": 93,
   "id": "4489b8df",
   "metadata": {},
   "outputs": [],
   "source": [
    "#  改版\n",
    "def calculate_cn_distribution1(atoms, center, bin_size, max_radius, criteria):\n",
    "    \"\"\"计算不同Cn的数密度分布\"\"\"\n",
    "    mid_types = criteria['mid']  # 中心原子类型\n",
    "    neighbor_type = criteria['neibor']  # 邻居原子类型\n",
    "    cutoff = criteria['cutoff']  # 截断距离\n",
    "\n",
    "    # 初始化结果，最大Cn假设为C6\n",
    "    results = {f'C{i}': [0] * (int(max_radius / bin_size) + 1) for i in range(6)}\n",
    "    # 分类原子\n",
    "    mid_atoms = [(x, y, z) for atom, x, y, z in atoms if atom in mid_types]\n",
    "    neighbor_atoms = [(x, y, z) for atom, x, y, z in atoms if atom in neighbor_type]\n",
    "    # 最远的距离\n",
    "    max_bin = int(max_radius / bin_size)+1\n",
    "    # 遍历每个中心原子，计算配位数\n",
    "    for mx, my, mz in mid_atoms:\n",
    "        distance_to_center = math.sqrt((mx - center[0])**2 + (my - center[1])**2 + (mz - center[2])**2)\n",
    "        bin_index = int(distance_to_center / bin_size)\n",
    "        # 只有符合要求的中心bin才计算\n",
    "        if bin_index < len(results['C0']):\n",
    "            cn_count = 0  # 计算每个中心原子的配位数\n",
    "            for nx, ny, nz in neighbor_atoms:\n",
    "                if math.sqrt((nx - mx)**2 + (ny - my)**2 + (nz - mz)**2) <= cutoff:\n",
    "                    cn_count += 1\n",
    "            cn_count = min(cn_count, 6)  # 限制最大配位数为C6\n",
    "            results[f'C{cn_count}'][bin_index] += 1\n",
    "\n",
    "    # 计算数密度\n",
    "    for key in results:\n",
    "        for i in range(len(results[key])):\n",
    "            outer_radius = (i + 1) * bin_size\n",
    "            inner_radius = i * bin_size\n",
    "            shell_volume = 4/3 * math.pi * (outer_radius**3 - inner_radius**3)\n",
    "            results[key][i] /= shell_volume  # 除以体积得到数密度\n",
    "\n",
    "    return results"
   ]
  },
  {
   "cell_type": "code",
   "execution_count": 79,
   "id": "8dafd9cb",
   "metadata": {},
   "outputs": [
    {
     "data": {
      "text/plain": [
       "{'C0': [0, 0, 0, 0, 0, 0, 0, 0, 0, 0, 0, 0, 0, 0, 0, 0, 0, 0, 0, 0, 0],\n",
       " 'C1': [0, 0, 0, 0, 0, 0, 0, 0, 0, 0, 0, 0, 0, 0, 0, 0, 0, 0, 0, 0, 0],\n",
       " 'C2': [0, 0, 0, 0, 0, 0, 0, 0, 0, 0, 0, 0, 0, 0, 0, 0, 0, 0, 0, 0, 0],\n",
       " 'C3': [0, 0, 0, 0, 0, 0, 0, 0, 0, 0, 0, 0, 0, 0, 0, 0, 0, 0, 0, 0, 0],\n",
       " 'C4': [0, 0, 0, 0, 0, 0, 0, 0, 0, 0, 0, 0, 0, 0, 0, 0, 0, 0, 0, 0, 0],\n",
       " 'C5': [0, 0, 0, 0, 0, 0, 0, 0, 0, 0, 0, 0, 0, 0, 0, 0, 0, 0, 0, 0, 0]}"
      ]
     },
     "execution_count": 79,
     "metadata": {},
     "output_type": "execute_result"
    }
   ],
   "source": [
    "results = {f'C{i}': [0] * (int(10 / 0.5) + 1) for i in range(6)}\n",
    "results"
   ]
  },
  {
   "cell_type": "code",
   "execution_count": 80,
   "id": "c6e194e7",
   "metadata": {},
   "outputs": [
    {
     "data": {
      "text/plain": [
       "0"
      ]
     },
     "execution_count": 80,
     "metadata": {},
     "output_type": "execute_result"
    }
   ],
   "source": [
    "results['C1'][5]"
   ]
  },
  {
   "cell_type": "code",
   "execution_count": 81,
   "id": "fb0192a2",
   "metadata": {},
   "outputs": [
    {
     "name": "stdout",
     "output_type": "stream",
     "text": [
      "C0\n",
      "C1\n",
      "C2\n",
      "C3\n",
      "C4\n",
      "C5\n"
     ]
    }
   ],
   "source": [
    "for i in results:\n",
    "    print(i)"
   ]
  },
  {
   "cell_type": "code",
   "execution_count": 94,
   "id": "c579a5e7",
   "metadata": {},
   "outputs": [
    {
     "data": {
      "image/png": "[encoded data removed]",
      "text/plain": [
       "<Figure size 720x432 with 1 Axes>"
      ]
     },
     "metadata": {
      "needs_background": "light"
     },
     "output_type": "display_data"
    }
   ],
   "source": [
    "# 示例文件路径\n",
    "filename = file_path\n",
    "# 读取原子数据\n",
    "atoms = read_xyz_data(filename)\n",
    "# 计算配位数分布\n",
    "coordination_numbers = calculate_cn_distribution(atoms, center, bin_size, max_radius, criteria)\n",
    "#绘图\n",
    "plt.figure(figsize=(10, 6))\n",
    "for cn, densities in coordination_numbers.items():\n",
    "    radii = [i * bin_size for i in range(len(densities))]\n",
    "    plt.plot(radii, densities, label=cn, marker='o')\n",
    "\n",
    "plt.title('Coordination Number Density Distribution')\n",
    "plt.xlabel('Distance from Center (Å)')\n",
    "plt.ylabel('Coordination Number Density (1/Å³)')\n",
    "plt.xlim(2,20)\n",
    "# plt.ylim(0,)\n",
    "\n",
    "plt.grid(True)\n",
    "plt.legend()\n",
    "plt.show()\n"
   ]
  },
  {
   "cell_type": "code",
   "execution_count": null,
   "id": "d2fa7c6e",
   "metadata": {},
   "outputs": [],
   "source": [
    "res"
   ]
  }
 ],
 "metadata": {
  "kernelspec": {
   "display_name": "Python 3 (ipykernel)",
   "language": "python",
   "name": "python3"
  },
  "language_info": {
   "codemirror_mode": {
    "name": "ipython",
    "version": 3
   },
   "file_extension": ".py",
   "mimetype": "text/x-python",
   "name": "python",
   "nbconvert_exporter": "python",
   "pygments_lexer": "ipython3",
   "version": "3.10.6"
  }
 },
 "nbformat": 4,
 "nbformat_minor": 5
}
