{
 "cells": [
  {
   "cell_type": "code",
   "execution_count": 3,
   "id": "217ed754",
   "metadata": {},
   "outputs": [],
   "source": [
    "import numpy as np"
   ]
  },
  {
   "cell_type": "markdown",
   "id": "372679a2",
   "metadata": {},
   "source": [
    "# 这个函数用来读取xyz文件"
   ]
  },
  {
   "cell_type": "code",
   "execution_count": 7,
   "id": "46cbc4df",
   "metadata": {},
   "outputs": [],
   "source": [
    "file_path = r'C:\\Users\\zhang\\Desktop\\桌面资料\\论文\\AI_test\\predict_lmp\\pre_file.xyz'\n",
    "file_type = 'xyz'\n",
    "\n",
    "# 分析的起始帧、终止帧、以及步长\n",
    "start_frame = 0\n",
    "steps_frame = 1\n",
    "final_frame = 1\n",
    "\n"
   ]
  },
  {
   "cell_type": "code",
   "execution_count": 10,
   "id": "54d1da41",
   "metadata": {},
   "outputs": [],
   "source": [
    "def read_one_frame_xyz(file_path='None',frame=0):\n",
    "    # 打开文件并读取所有行数据\n",
    "    with open(file_path, 'r') as file:\n",
    "        lines = file.readlines()\n",
    "    # 每一页的原子数\n",
    "    num_atom =int(lines[0])\n",
    "    # 定义一页的行数\n",
    "    lines_per_page = num_atom + 2\n",
    "    # 计算总页数\n",
    "    total_pages = (len(lines) + lines_per_page - 1) // lines_per_page\n",
    "\n",
    "    if frame>total_pages:\n",
    "        print('Input Error!')\n",
    "    data = lines[frame*lines_per_page:(frame+1)*lines_per_page]\n",
    "    ##  去除表头\n",
    "    data = data[2:]\n",
    "    ##  先对数据处理一遍\n",
    "    new_data = []\n",
    "    max_x,max_y,max_z = 0,0,0\n",
    "    for atom in data:\n",
    "        # 转换格式\n",
    "        atom = atom.split()\n",
    "        temp_x,temp_y,temp_z = float(atom[1]),float(atom[2]),float(atom[3])\n",
    "        max_x,max_y,max_z = max(temp_x,max_x),max(temp_y,max_y),max(temp_z,max_z)\n",
    "        new_data.append([atom[0],temp_x,temp_y,temp_z])\n",
    "    return new_data"
   ]
  },
  {
   "cell_type": "code",
   "execution_count": null,
   "id": "3b8a65c7",
   "metadata": {},
   "outputs": [],
   "source": []
  }
 ],
 "metadata": {
  "kernelspec": {
   "display_name": "Python 3 (ipykernel)",
   "language": "python",
   "name": "python3"
  },
  "language_info": {
   "codemirror_mode": {
    "name": "ipython",
    "version": 3
   },
   "file_extension": ".py",
   "mimetype": "text/x-python",
   "name": "python",
   "nbconvert_exporter": "python",
   "pygments_lexer": "ipython3",
   "version": "3.10.6"
  }
 },
 "nbformat": 4,
 "nbformat_minor": 5
}
