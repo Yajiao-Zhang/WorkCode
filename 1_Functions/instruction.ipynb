{
 "cells": [
  {
   "cell_type": "markdown",
   "id": "56c35319",
   "metadata": {},
   "source": [
    "# 读取文件的格式"
   ]
  },
  {
   "cell_type": "code",
   "execution_count": 5,
   "id": "a929331b",
   "metadata": {},
   "outputs": [],
   "source": [
    "import numpy as np\n",
    "import matplotlib.pyplot as plt\n",
    "####\n",
    "import sys\n",
    "sys.path.append(r'C:\\Users\\81004\\1_jupyter_code\\1_Functions')\n",
    "from ReadAll import read_file  as read_file"
   ]
  },
  {
   "cell_type": "code",
   "execution_count": null,
   "id": "623e406f",
   "metadata": {},
   "outputs": [],
   "source": []
  },
  {
   "cell_type": "code",
   "execution_count": null,
   "id": "46652288",
   "metadata": {},
   "outputs": [],
   "source": []
  }
 ],
 "metadata": {
  "kernelspec": {
   "display_name": "Python 3 (ipykernel)",
   "language": "python",
   "name": "python3"
  },
  "language_info": {
   "codemirror_mode": {
    "name": "ipython",
    "version": 3
   },
   "file_extension": ".py",
   "mimetype": "text/x-python",
   "name": "python",
   "nbconvert_exporter": "python",
   "pygments_lexer": "ipython3",
   "version": "3.12.3"
  }
 },
 "nbformat": 4,
 "nbformat_minor": 5
}
