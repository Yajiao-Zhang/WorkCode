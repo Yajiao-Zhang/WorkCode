{
 "cells": [
  {
   "cell_type": "code",
   "execution_count": 4,
   "id": "516e9487",
   "metadata": {},
   "outputs": [],
   "source": [
    "import numpy as np"
   ]
  },
  {
   "cell_type": "code",
   "execution_count": 5,
   "id": "1c727ba5",
   "metadata": {},
   "outputs": [],
   "source": [
    "# 计算ppp中的距离\n",
    "def cal_ppp_distance(pos1, pos2, box_size):\n",
    "    # 计算两个位置之间的最小距离，考虑周期性边界条件\n",
    "    pos1,pos2,box_size = np.array(pos1),np.array(pos2),np.array(box_size)\n",
    "    # 计算位置差矢量\n",
    "    delta = pos2 - pos1\n",
    "    \n",
    "    # 应用最小图像约束，确保距离在周期内最短\n",
    "    delta = delta - np.round(delta / box_size) * box_size\n",
    "    # 计算距离\n",
    "    distance = np.linalg.norm(delta)\n",
    "    if distance<1e-4:\n",
    "        distance = float('inf')\n",
    "    return distance"
   ]
  },
  {
   "cell_type": "code",
   "execution_count": 15,
   "id": "bbdb4567",
   "metadata": {},
   "outputs": [],
   "source": [
    "# 计算三维空间中的夹角\n",
    "def angle2(v1,v2):\n",
    "    x=np.array(v1)\n",
    "    y=np.array(v2)\n",
    "\n",
    "    # 分别计算两个向量的模：\n",
    "    module_x=np.sqrt(x.dot(x))\n",
    "    module_y=np.sqrt(y.dot(y))\n",
    "\n",
    "    # 计算两个向量的点积\n",
    "    dot_value=x.dot(y)\n",
    "\n",
    "    # 计算夹角的cos值：\n",
    "    cos_theta=dot_value/(module_x*module_y)\n",
    "\n",
    "    # 求得夹角（弧度制）：\n",
    "    angle_radian=np.arccos(cos_theta)\n",
    "\n",
    "    # 转换为角度值：\n",
    "    angle_value=angle_radian*180/np.pi\n",
    "    return angle_value\n",
    "\n",
    "def cal_ppp_bad(pos1,pos2,pos3):\n",
    "    pos1,pos2,pos3 = np.array(pos1),np.array(pos2),np.array(pos3)\n",
    "    v1 = pos1-pos2\n",
    "    v2 = pos3-pos2\n",
    "    return angle2(v1=v1,v2=v2)"
   ]
  },
  {
   "cell_type": "code",
   "execution_count": 16,
   "id": "769070e4",
   "metadata": {},
   "outputs": [],
   "source": [
    "def cal_ppp_pdf():\n",
    "    pass"
   ]
  },
  {
   "cell_type": "code",
   "execution_count": 17,
   "id": "19a678d8",
   "metadata": {},
   "outputs": [
    {
     "data": {
      "text/plain": [
       "15.793169048263968"
      ]
     },
     "execution_count": 17,
     "metadata": {},
     "output_type": "execute_result"
    }
   ],
   "source": [
    "cal_ppp_bad([1,1,1],[0,0,0],[2,2,1])"
   ]
  },
  {
   "cell_type": "code",
   "execution_count": 18,
   "id": "6b5c3dcb",
   "metadata": {},
   "outputs": [
    {
     "data": {
      "text/plain": [
       "6.511449459324276"
      ]
     },
     "execution_count": 18,
     "metadata": {},
     "output_type": "execute_result"
    }
   ],
   "source": [
    "cal_ppp_bad([2,3,5],[21,5,6],[3,1,5])"
   ]
  },
  {
   "cell_type": "code",
   "execution_count": null,
   "id": "3221ad38",
   "metadata": {},
   "outputs": [],
   "source": [
    "# 怎么计算夹角呢，还是得出三个点，三个"
   ]
  }
 ],
 "metadata": {
  "kernelspec": {
   "display_name": "Python 3 (ipykernel)",
   "language": "python",
   "name": "python3"
  },
  "language_info": {
   "codemirror_mode": {
    "name": "ipython",
    "version": 3
   },
   "file_extension": ".py",
   "mimetype": "text/x-python",
   "name": "python",
   "nbconvert_exporter": "python",
   "pygments_lexer": "ipython3",
   "version": "3.10.6"
  }
 },
 "nbformat": 4,
 "nbformat_minor": 5
}
