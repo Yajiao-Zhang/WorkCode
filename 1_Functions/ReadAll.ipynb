{
 "cells": [
  {
   "cell_type": "code",
   "execution_count": 79,
   "id": "0712b8b5",
   "metadata": {},
   "outputs": [],
   "source": [
    "# 写一个函数，既能够读取xyz，也能够读取lmp文件，然后根据输入读取"
   ]
  },
  {
   "cell_type": "code",
   "execution_count": 80,
   "id": "8ebbffdd",
   "metadata": {},
   "outputs": [],
   "source": [
    "# 自定义的Atom类，在各个类型文件读取中应用\n",
    "class Atom:\n",
    "    def __init__(self, atom_id=None, atom_type=None, charge=None, x=None, y=None, z=None, vx=None, vy=None, vz=None, fx=None, fy=None, fz=None, c_Ke_atom=None, c_Pe_atom=None, v_E_total=None):\n",
    "        self.atom_id = atom_id\n",
    "        self.atom_type = if atom_type\n",
    "        self.charge = charge\n",
    "        self.x = x\n",
    "        self.y = y\n",
    "        self.z = z\n",
    "        self.vx = vx\n",
    "        self.vy = vy\n",
    "        self.vz = vz\n",
    "        self.fx = fx\n",
    "        self.fy = fy\n",
    "        self.fz = fz\n",
    "        self.c_Ke_atom = c_Ke_atom\n",
    "        self.c_Pe_atom = c_Pe_atom\n",
    "        self.v_E_total = v_E_total\n",
    "        \n",
    "    \n",
    "    def print_non_default_values(self):\n",
    "        for attr_name, attr_value in vars(self).items():\n",
    "            if attr_value is not None:\n",
    "                print(attr_name, \":\", attr_value)\n",
    "    # 输出所有\n",
    "    def print_all(self):\n",
    "        attributes = vars(self)\n",
    "        for attribute, value in attributes.items():\n",
    "            print(attribute,' : ', value)\n",
    "    \n",
    "    # 更具dic值赋值\n",
    "    def set_properties(self, properties):\n",
    "        for key, value in properties.items():\n",
    "            if hasattr(self, key):\n",
    "                setattr(self, key, value)"
   ]
  },
  {
   "cell_type": "code",
   "execution_count": 1,
   "id": "159d6177",
   "metadata": {},
   "outputs": [],
   "source": [
    "# # 定义属性类型和对应的值\n",
    "# properties = {\n",
    "#     'atom_id': 1,\n",
    "#     'atom_type': 'H',\n",
    "#     'charge': 0.5,\n",
    "#     'x': 0.0,\n",
    "#     'y': 0.0,\n",
    "#     'z': 0.0\n",
    "# }\n",
    "# atom = Atom()\n",
    "# # 使用字典赋值给属性\n",
    "# atom.set_properties(properties)\n",
    "# # # 创建一个原子对象，提供特定属性值\n",
    "# # atom1 = Atom(atom_id=1, atom_type=2, x=3.14, v_E_total=10.5)\n",
    "\n",
    "# # 调用 print_non_default_values() 方法，输出不为默认值的属性信息\n",
    "# atom.print_non_default_values()"
   ]
  },
  {
   "cell_type": "code",
   "execution_count": 81,
   "id": "3e901ae8",
   "metadata": {},
   "outputs": [],
   "source": [
    "def read_file(file_path='None',file_type='None',start_frame=0,step_frame=0,end_frame=0,label=0,parameter=[]):\n",
    "    file_extension = file_path.split('.')[-1].lower()\n",
    "    # 检查格式\n",
    "    if file_extension!=file_type:\n",
    "        raise TypeError(\"File format error.\")\n",
    "    # 按照类型处理数据\n",
    "    if file_extension == 'xyz':\n",
    "        # 处理 xyz 文件格式的读取逻辑\n",
    "        data = read_xyz_file(file_path,start_frame=start_frame,step_frame=step_frame,end_frame=step_frame)\n",
    "        return data\n",
    "    \n",
    "    elif file_extension == 'lmp':\n",
    "        # 处理 lmp 文件格式的读取逻辑\n",
    "        data = read_lmp_file(file_path,start_frame=start_frame,step_frame=step_frame,end_frame=step_frame,label=label,parameter=[])\n",
    "        return data\n",
    "    \n",
    "    elif file_extension == 'con':\n",
    "        # 处理 con 文件格式的读取逻辑\n",
    "        data = read_con_file(file_path,start_frame=start_frame,step_frame=step_frame,end_frame=step_frame)\n",
    "        return data\n",
    "    \n",
    "    else:\n",
    "        raise TypeError(\"Unsupported file format.\")"
   ]
  },
  {
   "cell_type": "code",
   "execution_count": 82,
   "id": "d33c37fe",
   "metadata": {},
   "outputs": [],
   "source": [
    "def read_xyz_file(file_path):\n",
    "    pass\n",
    "    # 实现读取 xyz 文件的逻辑\n",
    "    # 返回读取到的数据\n",
    "def read_con_file(file_path):\n",
    "    # 实现读取 con 文件的逻辑\n",
    "    # 返回读取到的数据\n",
    "    pass"
   ]
  },
  {
   "cell_type": "code",
   "execution_count": 83,
   "id": "86261bcb",
   "metadata": {},
   "outputs": [],
   "source": [
    "# file_path = r'C:\\Users\\zhang\\Desktop\\桌面资料\\论文\\AI_test\\lmp_file\\1crystal_300k.lmp'"
   ]
  },
  {
   "cell_type": "code",
   "execution_count": 2,
   "id": "48b5d1e6",
   "metadata": {},
   "outputs": [],
   "source": [
    "def read_lmp_file(file_path='None',start_frame=0,step_frame=0,end_frame=0,label=0, parameter=[]):\n",
    "    # 实现读取 lmp 文件的逻辑\n",
    "    # 所有信息储存的总列表\n",
    "    list_all_frames = []\n",
    "    # 返回读取到的数据\n",
    "    if label==0:\n",
    "        print('Origin lmp file will be returned')  \n",
    "    # 返回读取到的自定义信息 \n",
    "    elif label==1:\n",
    "        print('Custom data will be returned:',parameter)\n",
    "        # 打开文件并读取所有行数据\n",
    "        with open(file_path, 'r') as file:\n",
    "            lines = file.readlines()\n",
    "        # 每一页的原子数\n",
    "        num_atom =int(lines[3])\n",
    "        # 定义一页的行数\n",
    "        lines_per_page = num_atom + 9\n",
    "        # 定义一行都有哪些属性\n",
    "        lines_feature = (lines[8].split())[2:]\n",
    "        # 需要返回的属性的索引\n",
    "        feature_index = [ index for index, value in enumerate(lines_feature) if value in parameter]\n",
    "        # print(lines_feature,feature_index)\n",
    "        # 定义性质的字典\n",
    "        feature_dic = {}\n",
    "        # 计算总页数\n",
    "        total_pages = (len(lines) + lines_per_page - 1) // lines_per_page\n",
    "        # 遍历每一页\n",
    "\n",
    "        for frame in range(start_frame,end_frame,step_frame):\n",
    "            # 每一页的数据存储在这个list中\n",
    "            list_frame = []\n",
    "            # 计算当前页的起始行号和结束行号\n",
    "            start_line = frame * lines_per_page\n",
    "            end_line = start_line + lines_per_page\n",
    "            # 从总行数据中获取当前页的行数据\n",
    "            page_lines = lines[start_line:end_line]\n",
    "            ## 开始分析每一页中的数据\n",
    "            #print(\"Current frame number :\",page)\n",
    "            # 每一页的第九行开始才是原子数据\n",
    "            for i_atom in page_lines[9:]:\n",
    "                atom = Atom()\n",
    "                ii = i_atom.split()\n",
    "                for i_para,i_index in zip(parameter,feature_index):\n",
    "                    if i_para=='id' or i_para=='type':\n",
    "                        i_para = 'atom_'+ i_para\n",
    "                    feature_dic[i_para] = ii[i_index]\n",
    "                # 设置值\n",
    "                atom.set_properties(feature_dic)\n",
    "                list_frame.append(atom)\n",
    "            list_all_frames.append(list_frame)\n",
    "        return list_all_frames"
   ]
  },
  {
   "cell_type": "code",
   "execution_count": 73,
   "id": "a5bbcb59",
   "metadata": {},
   "outputs": [
    {
     "name": "stdout",
     "output_type": "stream",
     "text": [
      "Custom data will be returned: ['id', 'type', 'x', 'y', 'z']\n"
     ]
    }
   ],
   "source": [
    "# x = read_lmp_file(file_path=file_path,start_frame=0,step_frame=2,end_frame=10,label=1,parameter= ['id','type','x','y','z'])"
   ]
  },
  {
   "cell_type": "code",
   "execution_count": 74,
   "id": "ce5b29b4",
   "metadata": {},
   "outputs": [],
   "source": [
    "# 定义一个函数能够返回需要的类型是第几个"
   ]
  },
  {
   "cell_type": "code",
   "execution_count": 78,
   "id": "8018afe7",
   "metadata": {},
   "outputs": [
    {
     "name": "stdout",
     "output_type": "stream",
     "text": [
      "atom_id  :  48\n",
      "atom_type  :  2\n",
      "charge  :  None\n",
      "x  :  5.11639\n",
      "y  :  3.02128\n",
      "z  :  13.4545\n",
      "vx  :  None\n",
      "vy  :  None\n",
      "vz  :  None\n",
      "fx  :  None\n",
      "fy  :  None\n",
      "fz  :  None\n",
      "c_Ke_atom  :  None\n",
      "c_Pe_atom  :  None\n",
      "v_E_total  :  None\n"
     ]
    }
   ],
   "source": [
    "# x[2][108].print_all()"
   ]
  },
  {
   "cell_type": "code",
   "execution_count": null,
   "id": "e445e4f3",
   "metadata": {},
   "outputs": [],
   "source": []
  }
 ],
 "metadata": {
  "kernelspec": {
   "display_name": "Python 3 (ipykernel)",
   "language": "python",
   "name": "python3"
  },
  "language_info": {
   "codemirror_mode": {
    "name": "ipython",
    "version": 3
   },
   "file_extension": ".py",
   "mimetype": "text/x-python",
   "name": "python",
   "nbconvert_exporter": "python",
   "pygments_lexer": "ipython3",
   "version": "3.12.3"
  }
 },
 "nbformat": 4,
 "nbformat_minor": 5
}
