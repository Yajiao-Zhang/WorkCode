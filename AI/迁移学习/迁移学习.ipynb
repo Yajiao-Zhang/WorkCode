{
 "cells": [
  {
   "cell_type": "markdown",
   "id": "c6dcea5b",
   "metadata": {},
   "source": [
    "# 本程序是对玻璃数据库的数据进行标准化处理"
   ]
  },
  {
   "cell_type": "code",
   "execution_count": 1,
   "id": "246913db",
   "metadata": {},
   "outputs": [],
   "source": [
    "import numpy as np\n",
    "import pandas as pd\n",
    "import matplotlib.pyplot as plt\n",
    "import re"
   ]
  },
  {
   "cell_type": "code",
   "execution_count": 2,
   "id": "78a99971",
   "metadata": {},
   "outputs": [],
   "source": [
    "file_path = r'C:\\Users\\zhang\\Desktop\\桌面资料\\论文\\迁移学习\\数据库\\mechanical.csv'"
   ]
  },
  {
   "cell_type": "code",
   "execution_count": 3,
   "id": "fda7d305",
   "metadata": {},
   "outputs": [],
   "source": [
    "full_data = pd.read_csv(file_path, encoding='latin-1',dtype='str')"
   ]
  },
  {
   "cell_type": "code",
   "execution_count": 4,
   "id": "50031842",
   "metadata": {},
   "outputs": [
    {
     "data": {
      "text/plain": [
       "(1550, 130)"
      ]
     },
     "execution_count": 4,
     "metadata": {},
     "output_type": "execute_result"
    }
   ],
   "source": [
    "full_data.shape"
   ]
  },
  {
   "cell_type": "code",
   "execution_count": 5,
   "id": "3577b362",
   "metadata": {},
   "outputs": [
    {
     "data": {
      "text/plain": [
       "'5'"
      ]
     },
     "execution_count": 5,
     "metadata": {},
     "output_type": "execute_result"
    }
   ],
   "source": [
    "full_data.iloc[2,2]"
   ]
  },
  {
   "cell_type": "code",
   "execution_count": 6,
   "id": "aa559968",
   "metadata": {},
   "outputs": [],
   "source": [
    "# 使用嵌套循环遍历每一个元素\n",
    "for row_index in range(full_data.shape[0]):\n",
    "    for column_index in range(full_data.shape[1]):\n",
    "        element = full_data.iloc[row_index,column_index]\n",
    "        if element.strip()=='*' or element.strip() == '':\n",
    "            element = 0\n",
    "        else:\n",
    "            element = float(element)\n",
    "        full_data.iloc[row_index,column_index] = element"
   ]
  },
  {
   "cell_type": "code",
   "execution_count": 7,
   "id": "8c2f989c",
   "metadata": {},
   "outputs": [
    {
     "data": {
      "text/plain": [
       "<bound method NDFrame.head of       SiO2  B2O3  Al2O3   MgO  CaO  BaO  Li2O  Na2O  K2O  Rb2O  ... O8  \\\n",
       "0        0     0    7.0  46.5    0    0     0     0    0     0  ...  0   \n",
       "1        0     0    5.0  52.5    0    0     0     0    0     0  ...  0   \n",
       "2        0     0    5.0  50.0    0    0     0     0    0     0  ...  0   \n",
       "3        0     0    5.0  47.5    0    0     0     0    0     0  ...  0   \n",
       "4        0     0    5.0  45.0    0    0     0     0    0     0  ...  0   \n",
       "...    ...   ...    ...   ...  ...  ...   ...   ...  ...   ...  ... ..   \n",
       "1545     0  60.0      0     0    0    0     0  20.0    0     0  ...  0   \n",
       "1546     0  60.0      0     0    0    0     0  20.0    0     0  ...  0   \n",
       "1547     0  60.0      0     0    0    0     0  20.0    0     0  ...  0   \n",
       "1548     0  60.0      0     0    0    0     0  20.0    0     0  ...  0   \n",
       "1549     0  60.0      0     0    0    0     0  20.0    0     0  ...  0   \n",
       "\n",
       "      CaAl2Si2O8  BaTiO3  AlN  Si3N4  Na2B4O7  Density at RT ( g/cm3 )  \\\n",
       "0              0       0    0      0        0                    2.495   \n",
       "1              0       0    0      0        0                    2.583   \n",
       "2              0       0    0      0        0                    2.551   \n",
       "3              0       0    0      0        0                    2.518   \n",
       "4              0       0    0      0        0                    2.478   \n",
       "...          ...     ...  ...    ...      ...                      ...   \n",
       "1545           0       0    0      0        0                     1.98   \n",
       "1546           0       0    0      0        0                      3.2   \n",
       "1547           0       0    0      0        0                     2.46   \n",
       "1548           0       0    0      0        0                     4.22   \n",
       "1549           0       0    0      0        0                      3.4   \n",
       "\n",
       "      Shear Modulus ( GPa )  Bulk Modulus ( GPa )  Poisson Ratio  \n",
       "0                     24.49                 41.07          0.251  \n",
       "1                     27.02                 49.01          0.267  \n",
       "2                     25.75                 44.82          0.259  \n",
       "3                     24.57                 41.16          0.251  \n",
       "4                     23.63                 39.49          0.251  \n",
       "...                     ...                   ...            ...  \n",
       "1545                   15.5                 24.79           0.24  \n",
       "1546                   14.1                 34.64           0.32  \n",
       "1547                   4.05                 10.81           0.33  \n",
       "1548                  32.45                 86.34           0.33  \n",
       "1549                   6.86                 15.27            0.3  \n",
       "\n",
       "[1550 rows x 130 columns]>"
      ]
     },
     "execution_count": 7,
     "metadata": {},
     "output_type": "execute_result"
    }
   ],
   "source": [
    "full_data.head"
   ]
  },
  {
   "cell_type": "code",
   "execution_count": 8,
   "id": "9027ef1c",
   "metadata": {},
   "outputs": [
    {
     "data": {
      "text/plain": [
       "Index([' SiO2', ' B2O3', ' Al2O3', ' MgO', ' CaO', ' BaO', ' Li2O', ' Na2O',\n",
       "       ' K2O', ' Rb2O',\n",
       "       ...\n",
       "       'O8', ' CaAl2Si2O8', ' BaTiO3', ' AlN', ' Si3N4', ' Na2B4O7',\n",
       "       ' Density at RT ( g/cm3 )', ' Shear Modulus ( GPa )',\n",
       "       ' Bulk Modulus ( GPa )', ' Poisson Ratio'],\n",
       "      dtype='object', length=130)"
      ]
     },
     "execution_count": 8,
     "metadata": {},
     "output_type": "execute_result"
    }
   ],
   "source": [
    "full_data.columns"
   ]
  },
  {
   "cell_type": "code",
   "execution_count": 9,
   "id": "25234773",
   "metadata": {},
   "outputs": [],
   "source": [
    "# 遍历每一列\n",
    "for column in full_data.columns:\n",
    "    # 检查列中的值是否全为空或者全为'*'\n",
    "    if all(value in [0] for value in full_data[column]):\n",
    "        # 删除满足条件的列\n",
    "        full_data = full_data.drop(column, axis=1)"
   ]
  },
  {
   "cell_type": "code",
   "execution_count": 10,
   "id": "e10d8050",
   "metadata": {},
   "outputs": [
    {
     "data": {
      "text/plain": [
       "(1550, 115)"
      ]
     },
     "execution_count": 10,
     "metadata": {},
     "output_type": "execute_result"
    }
   ],
   "source": [
    "full_data.shape"
   ]
  },
  {
   "cell_type": "code",
   "execution_count": 11,
   "id": "93b73b38",
   "metadata": {},
   "outputs": [
    {
     "data": {
      "text/plain": [
       "115"
      ]
     },
     "execution_count": 11,
     "metadata": {},
     "output_type": "execute_result"
    }
   ],
   "source": [
    "len(full_data.columns)"
   ]
  },
  {
   "cell_type": "code",
   "execution_count": 12,
   "id": "5528ee9d",
   "metadata": {},
   "outputs": [
    {
     "data": {
      "text/plain": [
       "Index([' Si3N4', ' Density at RT ( g/cm3 )', ' Shear Modulus ( GPa )',\n",
       "       ' Bulk Modulus ( GPa )', ' Poisson Ratio'],\n",
       "      dtype='object')"
      ]
     },
     "execution_count": 12,
     "metadata": {},
     "output_type": "execute_result"
    }
   ],
   "source": [
    "# 找到最后的标签值\n",
    "full_data.columns[-5:]"
   ]
  },
  {
   "cell_type": "code",
   "execution_count": 13,
   "id": "9666016b",
   "metadata": {},
   "outputs": [],
   "source": [
    "# 所有组分的名称\n",
    "component_col = full_data.columns[0:-4]"
   ]
  },
  {
   "cell_type": "code",
   "execution_count": 14,
   "id": "5346c410",
   "metadata": {},
   "outputs": [
    {
     "data": {
      "text/plain": [
       "Index([' SiO2', ' B2O3', ' Al2O3', ' MgO', ' CaO', ' BaO', ' Li2O', ' Na2O',\n",
       "       ' K2O', ' Rb2O',\n",
       "       ...\n",
       "       ' Dy', ' Ho', ' Er', ' Tm', ' Lu', ' Hf', ' Ta', ' Pt', ' AlN',\n",
       "       ' Si3N4'],\n",
       "      dtype='object', length=111)"
      ]
     },
     "execution_count": 14,
     "metadata": {},
     "output_type": "execute_result"
    }
   ],
   "source": [
    "component_col"
   ]
  },
  {
   "cell_type": "markdown",
   "id": "817e20c8",
   "metadata": {},
   "source": [
    "# 要构建元素周期表的一个列表，将full——data中的值转换到另一个表中"
   ]
  },
  {
   "cell_type": "code",
   "execution_count": 15,
   "id": "4a9ebac2",
   "metadata": {},
   "outputs": [],
   "source": [
    "periodic_table = ('H', 'He', 'Li', 'Be', 'B', 'C', 'N', 'O', 'F', 'Ne',\n",
    "                  'Na', 'Mg', 'Al', 'Si', 'P', 'S', 'Cl', 'Ar', 'K', 'Ca',\n",
    "                  'Sc', 'Ti', 'V', 'Cr', 'Mn', 'Fe', 'Co', 'Ni', 'Cu', 'Zn',\n",
    "                  'Ga', 'Ge', 'As', 'Se', 'Br', 'Kr', 'Rb', 'Sr', 'Y', 'Zr',\n",
    "                  'Nb', 'Mo', 'Tc', 'Ru', 'Rh', 'Pd', 'Ag', 'Cd', 'In', 'Sn', \n",
    "                  'Sb', 'Te', 'I', 'Xe', 'Cs', 'Ba', 'La', 'Ce', 'Pr', 'Nd',\n",
    "                  'Pm', 'Sm', 'Eu', 'Gd', 'Tb', 'Dy', 'Ho', 'Er', 'Tm', 'Yb',\n",
    "                  'Lu', 'Hf', 'Ta', 'W', 'Re', 'Os', 'Ir', 'Pt', 'Au', 'Hg',\n",
    "                  'Tl', 'Pb', 'Bi', 'Po', 'At', 'Rn', 'Fr', 'Ra', 'Ac', 'Th',\n",
    "                  'Pa', 'U', 'Np', 'Pu', 'Am', 'Cm', 'Bk', 'Cf', 'Es', 'Fm', \n",
    "                  'Md', 'No', 'Lr', 'Rf', 'Db', 'Sg', 'Bh', 'Hs', 'Mt', 'Ds',\n",
    "                  'Rg', 'Cn', 'Nh', 'Fl', 'Mc', 'Lv', 'Ts', 'Og')"
   ]
  },
  {
   "cell_type": "code",
   "execution_count": 16,
   "id": "8b0541c6",
   "metadata": {},
   "outputs": [
    {
     "data": {
      "text/plain": [
       "118"
      ]
     },
     "execution_count": 16,
     "metadata": {},
     "output_type": "execute_result"
    }
   ],
   "source": [
    "len(periodic_table)"
   ]
  },
  {
   "cell_type": "code",
   "execution_count": 17,
   "id": "5a85c7ae",
   "metadata": {},
   "outputs": [],
   "source": [
    "# 创建一个元素名称为键，初始值为0的字典\n",
    "element_dict = {element: np.zeros(1550) for element in periodic_table}"
   ]
  },
  {
   "cell_type": "code",
   "execution_count": 18,
   "id": "356f5698",
   "metadata": {},
   "outputs": [
    {
     "data": {
      "text/plain": [
       "{'H': array([0., 0., 0., ..., 0., 0., 0.]),\n",
       " 'He': array([0., 0., 0., ..., 0., 0., 0.]),\n",
       " 'Li': array([0., 0., 0., ..., 0., 0., 0.]),\n",
       " 'Be': array([0., 0., 0., ..., 0., 0., 0.]),\n",
       " 'B': array([0., 0., 0., ..., 0., 0., 0.]),\n",
       " 'C': array([0., 0., 0., ..., 0., 0., 0.]),\n",
       " 'N': array([0., 0., 0., ..., 0., 0., 0.]),\n",
       " 'O': array([0., 0., 0., ..., 0., 0., 0.]),\n",
       " 'F': array([0., 0., 0., ..., 0., 0., 0.]),\n",
       " 'Ne': array([0., 0., 0., ..., 0., 0., 0.]),\n",
       " 'Na': array([0., 0., 0., ..., 0., 0., 0.]),\n",
       " 'Mg': array([0., 0., 0., ..., 0., 0., 0.]),\n",
       " 'Al': array([0., 0., 0., ..., 0., 0., 0.]),\n",
       " 'Si': array([0., 0., 0., ..., 0., 0., 0.]),\n",
       " 'P': array([0., 0., 0., ..., 0., 0., 0.]),\n",
       " 'S': array([0., 0., 0., ..., 0., 0., 0.]),\n",
       " 'Cl': array([0., 0., 0., ..., 0., 0., 0.]),\n",
       " 'Ar': array([0., 0., 0., ..., 0., 0., 0.]),\n",
       " 'K': array([0., 0., 0., ..., 0., 0., 0.]),\n",
       " 'Ca': array([0., 0., 0., ..., 0., 0., 0.]),\n",
       " 'Sc': array([0., 0., 0., ..., 0., 0., 0.]),\n",
       " 'Ti': array([0., 0., 0., ..., 0., 0., 0.]),\n",
       " 'V': array([0., 0., 0., ..., 0., 0., 0.]),\n",
       " 'Cr': array([0., 0., 0., ..., 0., 0., 0.]),\n",
       " 'Mn': array([0., 0., 0., ..., 0., 0., 0.]),\n",
       " 'Fe': array([0., 0., 0., ..., 0., 0., 0.]),\n",
       " 'Co': array([0., 0., 0., ..., 0., 0., 0.]),\n",
       " 'Ni': array([0., 0., 0., ..., 0., 0., 0.]),\n",
       " 'Cu': array([0., 0., 0., ..., 0., 0., 0.]),\n",
       " 'Zn': array([0., 0., 0., ..., 0., 0., 0.]),\n",
       " 'Ga': array([0., 0., 0., ..., 0., 0., 0.]),\n",
       " 'Ge': array([0., 0., 0., ..., 0., 0., 0.]),\n",
       " 'As': array([0., 0., 0., ..., 0., 0., 0.]),\n",
       " 'Se': array([0., 0., 0., ..., 0., 0., 0.]),\n",
       " 'Br': array([0., 0., 0., ..., 0., 0., 0.]),\n",
       " 'Kr': array([0., 0., 0., ..., 0., 0., 0.]),\n",
       " 'Rb': array([0., 0., 0., ..., 0., 0., 0.]),\n",
       " 'Sr': array([0., 0., 0., ..., 0., 0., 0.]),\n",
       " 'Y': array([0., 0., 0., ..., 0., 0., 0.]),\n",
       " 'Zr': array([0., 0., 0., ..., 0., 0., 0.]),\n",
       " 'Nb': array([0., 0., 0., ..., 0., 0., 0.]),\n",
       " 'Mo': array([0., 0., 0., ..., 0., 0., 0.]),\n",
       " 'Tc': array([0., 0., 0., ..., 0., 0., 0.]),\n",
       " 'Ru': array([0., 0., 0., ..., 0., 0., 0.]),\n",
       " 'Rh': array([0., 0., 0., ..., 0., 0., 0.]),\n",
       " 'Pd': array([0., 0., 0., ..., 0., 0., 0.]),\n",
       " 'Ag': array([0., 0., 0., ..., 0., 0., 0.]),\n",
       " 'Cd': array([0., 0., 0., ..., 0., 0., 0.]),\n",
       " 'In': array([0., 0., 0., ..., 0., 0., 0.]),\n",
       " 'Sn': array([0., 0., 0., ..., 0., 0., 0.]),\n",
       " 'Sb': array([0., 0., 0., ..., 0., 0., 0.]),\n",
       " 'Te': array([0., 0., 0., ..., 0., 0., 0.]),\n",
       " 'I': array([0., 0., 0., ..., 0., 0., 0.]),\n",
       " 'Xe': array([0., 0., 0., ..., 0., 0., 0.]),\n",
       " 'Cs': array([0., 0., 0., ..., 0., 0., 0.]),\n",
       " 'Ba': array([0., 0., 0., ..., 0., 0., 0.]),\n",
       " 'La': array([0., 0., 0., ..., 0., 0., 0.]),\n",
       " 'Ce': array([0., 0., 0., ..., 0., 0., 0.]),\n",
       " 'Pr': array([0., 0., 0., ..., 0., 0., 0.]),\n",
       " 'Nd': array([0., 0., 0., ..., 0., 0., 0.]),\n",
       " 'Pm': array([0., 0., 0., ..., 0., 0., 0.]),\n",
       " 'Sm': array([0., 0., 0., ..., 0., 0., 0.]),\n",
       " 'Eu': array([0., 0., 0., ..., 0., 0., 0.]),\n",
       " 'Gd': array([0., 0., 0., ..., 0., 0., 0.]),\n",
       " 'Tb': array([0., 0., 0., ..., 0., 0., 0.]),\n",
       " 'Dy': array([0., 0., 0., ..., 0., 0., 0.]),\n",
       " 'Ho': array([0., 0., 0., ..., 0., 0., 0.]),\n",
       " 'Er': array([0., 0., 0., ..., 0., 0., 0.]),\n",
       " 'Tm': array([0., 0., 0., ..., 0., 0., 0.]),\n",
       " 'Yb': array([0., 0., 0., ..., 0., 0., 0.]),\n",
       " 'Lu': array([0., 0., 0., ..., 0., 0., 0.]),\n",
       " 'Hf': array([0., 0., 0., ..., 0., 0., 0.]),\n",
       " 'Ta': array([0., 0., 0., ..., 0., 0., 0.]),\n",
       " 'W': array([0., 0., 0., ..., 0., 0., 0.]),\n",
       " 'Re': array([0., 0., 0., ..., 0., 0., 0.]),\n",
       " 'Os': array([0., 0., 0., ..., 0., 0., 0.]),\n",
       " 'Ir': array([0., 0., 0., ..., 0., 0., 0.]),\n",
       " 'Pt': array([0., 0., 0., ..., 0., 0., 0.]),\n",
       " 'Au': array([0., 0., 0., ..., 0., 0., 0.]),\n",
       " 'Hg': array([0., 0., 0., ..., 0., 0., 0.]),\n",
       " 'Tl': array([0., 0., 0., ..., 0., 0., 0.]),\n",
       " 'Pb': array([0., 0., 0., ..., 0., 0., 0.]),\n",
       " 'Bi': array([0., 0., 0., ..., 0., 0., 0.]),\n",
       " 'Po': array([0., 0., 0., ..., 0., 0., 0.]),\n",
       " 'At': array([0., 0., 0., ..., 0., 0., 0.]),\n",
       " 'Rn': array([0., 0., 0., ..., 0., 0., 0.]),\n",
       " 'Fr': array([0., 0., 0., ..., 0., 0., 0.]),\n",
       " 'Ra': array([0., 0., 0., ..., 0., 0., 0.]),\n",
       " 'Ac': array([0., 0., 0., ..., 0., 0., 0.]),\n",
       " 'Th': array([0., 0., 0., ..., 0., 0., 0.]),\n",
       " 'Pa': array([0., 0., 0., ..., 0., 0., 0.]),\n",
       " 'U': array([0., 0., 0., ..., 0., 0., 0.]),\n",
       " 'Np': array([0., 0., 0., ..., 0., 0., 0.]),\n",
       " 'Pu': array([0., 0., 0., ..., 0., 0., 0.]),\n",
       " 'Am': array([0., 0., 0., ..., 0., 0., 0.]),\n",
       " 'Cm': array([0., 0., 0., ..., 0., 0., 0.]),\n",
       " 'Bk': array([0., 0., 0., ..., 0., 0., 0.]),\n",
       " 'Cf': array([0., 0., 0., ..., 0., 0., 0.]),\n",
       " 'Es': array([0., 0., 0., ..., 0., 0., 0.]),\n",
       " 'Fm': array([0., 0., 0., ..., 0., 0., 0.]),\n",
       " 'Md': array([0., 0., 0., ..., 0., 0., 0.]),\n",
       " 'No': array([0., 0., 0., ..., 0., 0., 0.]),\n",
       " 'Lr': array([0., 0., 0., ..., 0., 0., 0.]),\n",
       " 'Rf': array([0., 0., 0., ..., 0., 0., 0.]),\n",
       " 'Db': array([0., 0., 0., ..., 0., 0., 0.]),\n",
       " 'Sg': array([0., 0., 0., ..., 0., 0., 0.]),\n",
       " 'Bh': array([0., 0., 0., ..., 0., 0., 0.]),\n",
       " 'Hs': array([0., 0., 0., ..., 0., 0., 0.]),\n",
       " 'Mt': array([0., 0., 0., ..., 0., 0., 0.]),\n",
       " 'Ds': array([0., 0., 0., ..., 0., 0., 0.]),\n",
       " 'Rg': array([0., 0., 0., ..., 0., 0., 0.]),\n",
       " 'Cn': array([0., 0., 0., ..., 0., 0., 0.]),\n",
       " 'Nh': array([0., 0., 0., ..., 0., 0., 0.]),\n",
       " 'Fl': array([0., 0., 0., ..., 0., 0., 0.]),\n",
       " 'Mc': array([0., 0., 0., ..., 0., 0., 0.]),\n",
       " 'Lv': array([0., 0., 0., ..., 0., 0., 0.]),\n",
       " 'Ts': array([0., 0., 0., ..., 0., 0., 0.]),\n",
       " 'Og': array([0., 0., 0., ..., 0., 0., 0.])}"
      ]
     },
     "execution_count": 18,
     "metadata": {},
     "output_type": "execute_result"
    }
   ],
   "source": [
    "element_dict"
   ]
  },
  {
   "cell_type": "code",
   "execution_count": 19,
   "id": "2288c959",
   "metadata": {},
   "outputs": [
    {
     "data": {
      "text/plain": [
       "Index([' SiO2', ' B2O3', ' Al2O3', ' MgO', ' CaO'], dtype='object')"
      ]
     },
     "execution_count": 19,
     "metadata": {},
     "output_type": "execute_result"
    }
   ],
   "source": [
    "component_col[:5]"
   ]
  },
  {
   "cell_type": "code",
   "execution_count": 20,
   "id": "1a3d7279",
   "metadata": {},
   "outputs": [
    {
     "data": {
      "text/plain": [
       "' '"
      ]
     },
     "execution_count": 20,
     "metadata": {},
     "output_type": "execute_result"
    }
   ],
   "source": [
    "component_col[0][0]"
   ]
  },
  {
   "cell_type": "code",
   "execution_count": 21,
   "id": "e582b585",
   "metadata": {},
   "outputs": [
    {
     "data": {
      "text/plain": [
       "['', 'Si', 'O', '2']"
      ]
     },
     "execution_count": 21,
     "metadata": {},
     "output_type": "execute_result"
    }
   ],
   "source": [
    "# 使用正则表达式切分字符串，忽略空格\n",
    "re.split(r'(?=[A-Z0-9])|[\\s]+', component_col[0].strip())"
   ]
  },
  {
   "cell_type": "code",
   "execution_count": 22,
   "id": "d8fed171",
   "metadata": {},
   "outputs": [
    {
     "data": {
      "text/plain": [
       "['', '', 'Si', 'O', '2']"
      ]
     },
     "execution_count": 22,
     "metadata": {},
     "output_type": "execute_result"
    }
   ],
   "source": [
    "re.split(r'(?=[A-Z0-9])|[\\s\\t]+',component_col[0])"
   ]
  },
  {
   "cell_type": "code",
   "execution_count": 23,
   "id": "52778cec",
   "metadata": {},
   "outputs": [
    {
     "name": "stdout",
     "output_type": "stream",
     "text": [
      " SiO2\n",
      " B2O3\n",
      " Al2O3\n",
      " MgO\n",
      " CaO\n",
      " BaO\n",
      " Li2O\n",
      " Na2O\n",
      " K2O\n",
      " Rb2O\n",
      " Ag2O\n",
      " Cs2O\n",
      " Tl2O\n",
      " CoO\n",
      " ZnO\n",
      " SrO\n",
      " CdO\n",
      " PbO\n",
      " Cr2O3\n",
      " Fe2O3\n",
      " Ga2O3\n",
      " As2O3\n",
      " Y2O3\n",
      " Sb2O3\n",
      " La2O3\n",
      " Nd2O3\n",
      " Gd2O3\n",
      " Bi2O3\n",
      " TiO2\n",
      " GeO2\n",
      " ZrO2\n",
      " CeO2\n",
      " SnO2\n",
      " TeO2\n",
      " P2O5\n",
      " V2O5\n",
      " Nb2O5\n",
      " Ta2O5\n",
      " HfO2\n",
      " SO3\n",
      " MoO3\n",
      " WO3\n",
      " H2O\n",
      " Sm2O3\n",
      " Eu2O3\n",
      " Er2O3\n",
      " Yb2O3\n",
      " LiF\n",
      " NaF\n",
      " KF\n",
      " BeF2\n",
      " MgF2\n",
      " CaF2\n",
      " SrF2\n",
      " BaF2\n",
      " ZnF2\n",
      " PbF2\n",
      " YF3\n",
      " AlF3\n",
      " LaF3\n",
      " GdF3\n",
      " YbF3\n",
      " ZrF4\n",
      " ZnCl2\n",
      " Be\n",
      " B\n",
      " N\n",
      " O\n",
      " Mg\n",
      " Al\n",
      " Si\n",
      " P\n",
      " S\n",
      " Cl\n",
      " Ca\n",
      " Ti\n",
      " Fe\n",
      " Co\n",
      " Ni\n",
      " Cu\n",
      " Ge\n",
      " As\n",
      " Se\n",
      " Br\n",
      " Sr\n",
      " Y\n",
      " Zr\n",
      " Nb\n",
      " Mo\n",
      " Pd\n",
      " Cd\n",
      " Sn\n",
      " Sb\n",
      " Te\n",
      " I\n",
      " La\n",
      " Ce\n",
      " Pr\n",
      " Nd\n",
      " Gd\n",
      " Tb\n",
      " Dy\n",
      " Ho\n",
      " Er\n",
      " Tm\n",
      " Lu\n",
      " Hf\n",
      " Ta\n",
      " Pt\n",
      " AlN\n",
      " Si3N4\n"
     ]
    }
   ],
   "source": [
    "# 然后按照列遍历  只遍历组分列\n",
    "for column_name in full_data.columns[:-4]:\n",
    "    temp_list = re.split(r'(?=[A-Z0-9])|[\\s\\t]+',column_name.strip())\n",
    "    temp_list = [temp for temp in temp_list if temp!='']\n",
    "    # 遍历每一列 然后给字典的对应位置加上计量单位\n",
    "    print(column_name)\n",
    "    for i in range(len(temp_list)):\n",
    "        \n",
    "        #print(temp_list[i])\n",
    "        \n",
    "        # 如果是数字，直接跳过\n",
    "        if '0'<=temp_list[i]<='9':\n",
    "            #print('00')\n",
    "            continue\n",
    "            \n",
    "        # 如果下一位越界了，或者不是数字,就直接加字典上去\n",
    "        if (i+1)>=len(temp_list) or (not ('0'<=temp_list[i+1]<='9')):\n",
    "            #print('1')\n",
    "            data_array =  np.array(full_data[column_name].values, dtype=float)\n",
    "            element_dict[temp_list[i]] += data_array\n",
    "            \n",
    "        else: # 如果下一位是数字，乘上再加\n",
    "            #print('2')\n",
    "            data_array =  np.array(full_data[column_name].values, dtype=float)\n",
    "            element_dict[temp_list[i]] += data_array * float(temp_list[i+1])\n",
    "        #print(temp_list[i])"
   ]
  },
  {
   "cell_type": "code",
   "execution_count": 24,
   "id": "5307343c",
   "metadata": {},
   "outputs": [
    {
     "data": {
      "text/plain": [
       "{'H': array([0., 0., 0., ..., 0., 0., 0.]),\n",
       " 'He': array([0., 0., 0., ..., 0., 0., 0.]),\n",
       " 'Li': array([0., 0., 0., ..., 0., 0., 0.]),\n",
       " 'Be': array([0., 0., 0., ..., 0., 0., 0.]),\n",
       " 'B': array([  0.,   0.,   0., ..., 120., 120., 120.]),\n",
       " 'C': array([0., 0., 0., ..., 0., 0., 0.]),\n",
       " 'N': array([0., 0., 0., ..., 0., 0., 0.]),\n",
       " 'O': array([300., 280., 290., ..., 210., 205., 200.]),\n",
       " 'F': array([ 0.,  0.,  0., ..., 20., 30., 40.]),\n",
       " 'Ne': array([0., 0., 0., ..., 0., 0., 0.]),\n",
       " 'Na': array([ 0.,  0.,  0., ..., 40., 40., 40.]),\n",
       " 'Mg': array([46.5, 52.5, 50. , ...,  0. ,  0. ,  0. ]),\n",
       " 'Al': array([14., 10., 10., ...,  0.,  0.,  0.]),\n",
       " 'Si': array([0., 0., 0., ..., 0., 0., 0.]),\n",
       " 'P': array([93., 85., 90., ...,  0.,  0.,  0.]),\n",
       " 'S': array([0., 0., 0., ..., 0., 0., 0.]),\n",
       " 'Cl': array([0., 0., 0., ..., 0., 0., 0.]),\n",
       " 'Ar': array([0., 0., 0., ..., 0., 0., 0.]),\n",
       " 'K': array([0., 0., 0., ..., 0., 0., 0.]),\n",
       " 'Ca': array([0., 0., 0., ..., 0., 0., 0.]),\n",
       " 'Sc': array([0., 0., 0., ..., 0., 0., 0.]),\n",
       " 'Ti': array([0., 0., 0., ..., 0., 0., 0.]),\n",
       " 'V': array([0., 0., 0., ..., 0., 0., 0.]),\n",
       " 'Cr': array([0., 0., 0., ..., 0., 0., 0.]),\n",
       " 'Mn': array([0., 0., 0., ..., 0., 0., 0.]),\n",
       " 'Fe': array([0., 0., 0., ..., 0., 0., 0.]),\n",
       " 'Co': array([0., 0., 0., ..., 0., 0., 0.]),\n",
       " 'Ni': array([0., 0., 0., ..., 0., 0., 0.]),\n",
       " 'Cu': array([0., 0., 0., ..., 0., 0., 0.]),\n",
       " 'Zn': array([ 0.,  0.,  0., ..., 20., 20., 20.]),\n",
       " 'Ga': array([0., 0., 0., ..., 0., 0., 0.]),\n",
       " 'Ge': array([0., 0., 0., ..., 0., 0., 0.]),\n",
       " 'As': array([0., 0., 0., ..., 0., 0., 0.]),\n",
       " 'Se': array([0., 0., 0., ..., 0., 0., 0.]),\n",
       " 'Br': array([0., 0., 0., ..., 0., 0., 0.]),\n",
       " 'Kr': array([0., 0., 0., ..., 0., 0., 0.]),\n",
       " 'Rb': array([0., 0., 0., ..., 0., 0., 0.]),\n",
       " 'Sr': array([0., 0., 0., ..., 0., 0., 0.]),\n",
       " 'Y': array([0., 0., 0., ..., 0., 0., 0.]),\n",
       " 'Zr': array([0., 0., 0., ..., 0., 0., 0.]),\n",
       " 'Nb': array([0., 0., 0., ..., 0., 0., 0.]),\n",
       " 'Mo': array([0., 0., 0., ..., 0., 0., 0.]),\n",
       " 'Tc': array([0., 0., 0., ..., 0., 0., 0.]),\n",
       " 'Ru': array([0., 0., 0., ..., 0., 0., 0.]),\n",
       " 'Rh': array([0., 0., 0., ..., 0., 0., 0.]),\n",
       " 'Pd': array([0., 0., 0., ..., 0., 0., 0.]),\n",
       " 'Ag': array([0., 0., 0., ..., 0., 0., 0.]),\n",
       " 'Cd': array([0., 0., 0., ..., 0., 0., 0.]),\n",
       " 'In': array([0., 0., 0., ..., 0., 0., 0.]),\n",
       " 'Sn': array([0., 0., 0., ..., 0., 0., 0.]),\n",
       " 'Sb': array([0., 0., 0., ..., 0., 0., 0.]),\n",
       " 'Te': array([0., 0., 0., ..., 0., 0., 0.]),\n",
       " 'I': array([0., 0., 0., ..., 0., 0., 0.]),\n",
       " 'Xe': array([0., 0., 0., ..., 0., 0., 0.]),\n",
       " 'Cs': array([0., 0., 0., ..., 0., 0., 0.]),\n",
       " 'Ba': array([0., 0., 0., ..., 0., 0., 0.]),\n",
       " 'La': array([0., 0., 0., ..., 0., 0., 0.]),\n",
       " 'Ce': array([0., 0., 0., ..., 0., 0., 0.]),\n",
       " 'Pr': array([0., 0., 0., ..., 0., 0., 0.]),\n",
       " 'Nd': array([0., 0., 0., ..., 0., 0., 0.]),\n",
       " 'Pm': array([0., 0., 0., ..., 0., 0., 0.]),\n",
       " 'Sm': array([0., 0., 0., ..., 0., 0., 0.]),\n",
       " 'Eu': array([0., 0., 0., ..., 0., 0., 0.]),\n",
       " 'Gd': array([0., 0., 0., ..., 0., 0., 0.]),\n",
       " 'Tb': array([0., 0., 0., ..., 0., 0., 0.]),\n",
       " 'Dy': array([0., 0., 0., ..., 0., 0., 0.]),\n",
       " 'Ho': array([0., 0., 0., ..., 0., 0., 0.]),\n",
       " 'Er': array([0., 0., 0., ..., 0., 0., 0.]),\n",
       " 'Tm': array([0., 0., 0., ..., 0., 0., 0.]),\n",
       " 'Yb': array([0., 0., 0., ..., 0., 0., 0.]),\n",
       " 'Lu': array([0., 0., 0., ..., 0., 0., 0.]),\n",
       " 'Hf': array([0., 0., 0., ..., 0., 0., 0.]),\n",
       " 'Ta': array([0., 0., 0., ..., 0., 0., 0.]),\n",
       " 'W': array([0., 0., 0., ..., 0., 0., 0.]),\n",
       " 'Re': array([0., 0., 0., ..., 0., 0., 0.]),\n",
       " 'Os': array([0., 0., 0., ..., 0., 0., 0.]),\n",
       " 'Ir': array([0., 0., 0., ..., 0., 0., 0.]),\n",
       " 'Pt': array([0., 0., 0., ..., 0., 0., 0.]),\n",
       " 'Au': array([0., 0., 0., ..., 0., 0., 0.]),\n",
       " 'Hg': array([0., 0., 0., ..., 0., 0., 0.]),\n",
       " 'Tl': array([0., 0., 0., ..., 0., 0., 0.]),\n",
       " 'Pb': array([0., 0., 0., ..., 0., 0., 0.]),\n",
       " 'Bi': array([0., 0., 0., ..., 0., 0., 0.]),\n",
       " 'Po': array([0., 0., 0., ..., 0., 0., 0.]),\n",
       " 'At': array([0., 0., 0., ..., 0., 0., 0.]),\n",
       " 'Rn': array([0., 0., 0., ..., 0., 0., 0.]),\n",
       " 'Fr': array([0., 0., 0., ..., 0., 0., 0.]),\n",
       " 'Ra': array([0., 0., 0., ..., 0., 0., 0.]),\n",
       " 'Ac': array([0., 0., 0., ..., 0., 0., 0.]),\n",
       " 'Th': array([0., 0., 0., ..., 0., 0., 0.]),\n",
       " 'Pa': array([0., 0., 0., ..., 0., 0., 0.]),\n",
       " 'U': array([0., 0., 0., ..., 0., 0., 0.]),\n",
       " 'Np': array([0., 0., 0., ..., 0., 0., 0.]),\n",
       " 'Pu': array([0., 0., 0., ..., 0., 0., 0.]),\n",
       " 'Am': array([0., 0., 0., ..., 0., 0., 0.]),\n",
       " 'Cm': array([0., 0., 0., ..., 0., 0., 0.]),\n",
       " 'Bk': array([0., 0., 0., ..., 0., 0., 0.]),\n",
       " 'Cf': array([0., 0., 0., ..., 0., 0., 0.]),\n",
       " 'Es': array([0., 0., 0., ..., 0., 0., 0.]),\n",
       " 'Fm': array([0., 0., 0., ..., 0., 0., 0.]),\n",
       " 'Md': array([0., 0., 0., ..., 0., 0., 0.]),\n",
       " 'No': array([0., 0., 0., ..., 0., 0., 0.]),\n",
       " 'Lr': array([0., 0., 0., ..., 0., 0., 0.]),\n",
       " 'Rf': array([0., 0., 0., ..., 0., 0., 0.]),\n",
       " 'Db': array([0., 0., 0., ..., 0., 0., 0.]),\n",
       " 'Sg': array([0., 0., 0., ..., 0., 0., 0.]),\n",
       " 'Bh': array([0., 0., 0., ..., 0., 0., 0.]),\n",
       " 'Hs': array([0., 0., 0., ..., 0., 0., 0.]),\n",
       " 'Mt': array([0., 0., 0., ..., 0., 0., 0.]),\n",
       " 'Ds': array([0., 0., 0., ..., 0., 0., 0.]),\n",
       " 'Rg': array([0., 0., 0., ..., 0., 0., 0.]),\n",
       " 'Cn': array([0., 0., 0., ..., 0., 0., 0.]),\n",
       " 'Nh': array([0., 0., 0., ..., 0., 0., 0.]),\n",
       " 'Fl': array([0., 0., 0., ..., 0., 0., 0.]),\n",
       " 'Mc': array([0., 0., 0., ..., 0., 0., 0.]),\n",
       " 'Lv': array([0., 0., 0., ..., 0., 0., 0.]),\n",
       " 'Ts': array([0., 0., 0., ..., 0., 0., 0.]),\n",
       " 'Og': array([0., 0., 0., ..., 0., 0., 0.])}"
      ]
     },
     "execution_count": 24,
     "metadata": {},
     "output_type": "execute_result"
    }
   ],
   "source": [
    "element_dict"
   ]
  },
  {
   "cell_type": "code",
   "execution_count": 25,
   "id": "3fdb3501",
   "metadata": {},
   "outputs": [],
   "source": [
    "# 创建元素字典\n",
    "count_ele_dict = {element:0 for element in periodic_table}"
   ]
  },
  {
   "cell_type": "code",
   "execution_count": 26,
   "id": "1a515ee3",
   "metadata": {},
   "outputs": [],
   "source": [
    "for i in element_dict:\n",
    "    temp_list = element_dict[i]\n",
    "    count_ele_dict[i] = np.sum(temp_list)\n",
    "    if np.sum(temp_list)<=1 and np.sum(temp_list)!=0:\n",
    "        print(i)"
   ]
  },
  {
   "cell_type": "code",
   "execution_count": 27,
   "id": "af41bef0",
   "metadata": {},
   "outputs": [],
   "source": [
    "# 看元素分布 取log10\n",
    "for i in element_dict:\n",
    "    temp_list = element_dict[i]\n",
    "    count_ele_dict[i] = np.log10(np.sum(temp_list))if np.sum(temp_list)>=1 else 0"
   ]
  },
  {
   "cell_type": "code",
   "execution_count": 28,
   "id": "8f9e6af0",
   "metadata": {},
   "outputs": [
    {
     "name": "stdout",
     "output_type": "stream",
     "text": [
      "{'H': 3.292610452838321, 'He': 0, 'Li': 3.972946705786565, 'Be': 1.7201593034059568, 'B': 4.203185788353103, 'C': 0, 'N': 2.288696260590256, 'O': 5.542257498845583, 'F': 4.1656232407880305, 'Ne': 0, 'Na': 4.202315545746628, 'Mg': 3.4683842586449845, 'Al': 3.9690499629724383, 'Si': 4.3995032577266295, 'P': 4.698490800099567, 'S': 3.163092765347106, 'Cl': 3.3521825181113627, 'Ar': 0, 'K': 3.613266608516637, 'Ca': 3.742100334687487, 'Sc': 0, 'Ti': 3.0927592313325443, 'V': 3.5044028924681587, 'Cr': 2.113943352306837, 'Mn': 0, 'Fe': 3.0203281291317636, 'Co': 3.5237373647360233, 'Ni': 2.772028165324855, 'Cu': 2.7834747875822465, 'Zn': 3.4999673594827807, 'Ga': 1.8796692056320534, 'Ge': 4.061010797240957, 'As': 3.2928450714222137, 'Se': 3.2356950628251764, 'Br': 1.380211241711606, 'Kr': 0, 'Rb': 2.225309281725863, 'Sr': 2.5902732477957398, 'Y': 2.813460890540445, 'Zr': 3.440735959183332, 'Nb': 3.077687602769043, 'Mo': 4.0406209297350175, 'Tc': 0, 'Ru': 0, 'Rh': 0, 'Pd': 2.752432609261474, 'Ag': 2.3010299956639813, 'Cd': 2.133347265586243, 'In': 0, 'Sn': 1.8646297245455123, 'Sb': 3.181477712201226, 'Te': 4.089132581062589, 'I': 1.146128035678238, 'Xe': 0, 'Cs': 1.9731278535996986, 'Ba': 3.249961066858736, 'La': 2.9296079304142584, 'Ce': 2.0211892990699383, 'Pr': 2.060697840353612, 'Nd': 1.845098040014257, 'Pm': 0, 'Sm': 1.4771212547196624, 'Eu': 1.355643050220869, 'Gd': 2.1583624920952498, 'Tb': 1.7403626894942439, 'Dy': 1.7403626894942439, 'Ho': 2.041392685158225, 'Er': 2.011908613349154, 'Tm': 1.9731278535996986, 'Yb': 1.515873843711679, 'Lu': 2.143014800254095, 'Hf': 2.4405312703998914, 'Ta': 2.6794278966121188, 'W': 3.3645678790445164, 'Re': 0, 'Os': 0, 'Ir': 0, 'Pt': 1.7781512503836436, 'Au': 0, 'Hg': 0, 'Tl': 1.9030899869919435, 'Pb': 3.278831309854791, 'Bi': 2.570683012284951, 'Po': 0, 'At': 0, 'Rn': 0, 'Fr': 0, 'Ra': 0, 'Ac': 0, 'Th': 0, 'Pa': 0, 'U': 0, 'Np': 0, 'Pu': 0, 'Am': 0, 'Cm': 0, 'Bk': 0, 'Cf': 0, 'Es': 0, 'Fm': 0, 'Md': 0, 'No': 0, 'Lr': 0, 'Rf': 0, 'Db': 0, 'Sg': 0, 'Bh': 0, 'Hs': 0, 'Mt': 0, 'Ds': 0, 'Rg': 0, 'Cn': 0, 'Nh': 0, 'Fl': 0, 'Mc': 0, 'Lv': 0, 'Ts': 0, 'Og': 0}\n"
     ]
    }
   ],
   "source": [
    "print(count_ele_dict)"
   ]
  },
  {
   "cell_type": "code",
   "execution_count": 29,
   "id": "13abe043",
   "metadata": {},
   "outputs": [
    {
     "name": "stdout",
     "output_type": "stream",
     "text": [
      "5.542257498845583\n"
     ]
    }
   ],
   "source": [
    "max_count = 0\n",
    "for i in count_ele_dict:\n",
    "    max_count = count_ele_dict[i] if count_ele_dict[i]>max_count else max_count\n",
    "print(max_count)\n",
    "count_ele_dict[' '] = 0"
   ]
  },
  {
   "cell_type": "code",
   "execution_count": 30,
   "id": "06ffdfe7",
   "metadata": {},
   "outputs": [
    {
     "name": "stdout",
     "output_type": "stream",
     "text": [
      "O  : 170.5\n",
      "Na  : 37.0\n",
      "Si  : 70.5\n",
      "Ca  : 11.0\n"
     ]
    }
   ],
   "source": [
    "# 看一个系列的元素分布\n",
    "x = 54\n",
    "for i in element_dict:\n",
    "    if element_dict[i][x]!=0:\n",
    "        print(i,' :',element_dict[i][x])"
   ]
  },
  {
   "cell_type": "code",
   "execution_count": 31,
   "id": "988ffba8",
   "metadata": {},
   "outputs": [
    {
     "name": "stdout",
     "output_type": "stream",
     "text": [
      "所有元素的分布（取对数）\n"
     ]
    },
    {
     "data": {
      "text/plain": [
       "[<matplotlib.lines.Line2D at 0x23147f82ce0>]"
      ]
     },
     "execution_count": 31,
     "metadata": {},
     "output_type": "execute_result"
    },
    {
     "data": {
      "image/png": "[encoded data removed]",
      "text/plain": [
       "<Figure size 432x288 with 1 Axes>"
      ]
     },
     "metadata": {
      "needs_background": "light"
     },
     "output_type": "display_data"
    }
   ],
   "source": [
    "# 看一下数量的分布\n",
    "print('所有元素的分布（取对数）')\n",
    "list_q = []\n",
    "for i in count_ele_dict:\n",
    "    list_q.append(count_ele_dict[i])\n",
    "plt.plot(range(len(list_q)),list_q)\n"
   ]
  },
  {
   "cell_type": "code",
   "execution_count": 32,
   "id": "4b53cdbd",
   "metadata": {},
   "outputs": [
    {
     "data": {
      "text/plain": [
       "119"
      ]
     },
     "execution_count": 32,
     "metadata": {},
     "output_type": "execute_result"
    }
   ],
   "source": [
    "len(count_ele_dict)"
   ]
  },
  {
   "cell_type": "code",
   "execution_count": 33,
   "id": "47169691",
   "metadata": {},
   "outputs": [],
   "source": [
    "ptr_label = [' ' for i in range(9*18+10)]\n"
   ]
  },
  {
   "cell_type": "code",
   "execution_count": 34,
   "id": "7e448053",
   "metadata": {},
   "outputs": [
    {
     "data": {
      "text/plain": [
       "'Rf'"
      ]
     },
     "execution_count": 34,
     "metadata": {},
     "output_type": "execute_result"
    }
   ],
   "source": [
    "periodic_table[103]"
   ]
  },
  {
   "cell_type": "code",
   "execution_count": 35,
   "id": "44f60f97",
   "metadata": {},
   "outputs": [],
   "source": [
    "group_H = ['H','C','N','O','P','S','Se']\n",
    "\n",
    "group_Li = [ 'Li', 'Na', 'K', 'Rb', 'Cs', 'Fr'] #orange\n",
    "\n",
    "group_Be = ['Be', 'Mg', 'Ca', 'Sr', 'Ba', 'Ra'] # yellow\n",
    "\n",
    "group_Al = [ 'Al', 'Ga', 'In', 'Tl', 'Nh','Sn', 'Pb', 'Fl','Bi', 'Mc','Lv'] # 金属\n",
    "\n",
    "group_B = ['B', 'Si', 'Ge', 'As','Sb' ,'Te', 'Po']\n",
    "\n",
    "group_F = ['F', 'Cl', 'Br', 'I', 'At', 'Ts']  # 红\n",
    "\n",
    "group_He = ['He', 'Ne', 'Ar', 'Kr', 'Xe', 'Rn', 'Og'] # 灰\n",
    "\n",
    "group_la = [i for i in periodic_table[56:71]]\n",
    "\n",
    "group_ac = [i for i in periodic_table[88:103]]"
   ]
  },
  {
   "cell_type": "code",
   "execution_count": 36,
   "id": "fcb325ed",
   "metadata": {},
   "outputs": [],
   "source": [
    "color_dict ={ele:'white' for ele in periodic_table} \n",
    "# 再加个‘ ’\n",
    "color_dict[' '] = 'white'\n",
    "for i in group_H:\n",
    "    color_dict[i] = 'Green'\n",
    "for i in group_Li:\n",
    "    color_dict[i] = 'Pink'\n",
    "for i in group_Be:\n",
    "    color_dict[i] = 'purple'\n",
    "for i in group_Al:\n",
    "    color_dict[i] = 'Orange'\n",
    "for i in group_B:\n",
    "    color_dict[i] = 'Yellow'\n",
    "for i in group_F:\n",
    "    color_dict[i] = 'Red'\n",
    "for i in group_He:\n",
    "    color_dict[i] = 'Gray'\n",
    "for i in group_ac:\n",
    "    color_dict[i] = 'Brown'\n",
    "for i in group_la:\n",
    "    color_dict[i] = 'Teal'\n",
    "for i in periodic_table:\n",
    "    if i not in group_H and i not in group_Li and i not in group_Be and i not in group_Al and i not in group_B and i not in group_F and i not in group_He and i not in group_ac and i not in group_la:\n",
    "         color_dict[i] = 'Cyan'"
   ]
  },
  {
   "cell_type": "code",
   "execution_count": 37,
   "id": "8c57ea81",
   "metadata": {},
   "outputs": [
    {
     "data": {
      "text/plain": [
       "{'H': 'Green',\n",
       " 'He': 'Gray',\n",
       " 'Li': 'Pink',\n",
       " 'Be': 'purple',\n",
       " 'B': 'Yellow',\n",
       " 'C': 'Green',\n",
       " 'N': 'Green',\n",
       " 'O': 'Green',\n",
       " 'F': 'Red',\n",
       " 'Ne': 'Gray',\n",
       " 'Na': 'Pink',\n",
       " 'Mg': 'purple',\n",
       " 'Al': 'Orange',\n",
       " 'Si': 'Yellow',\n",
       " 'P': 'Green',\n",
       " 'S': 'Green',\n",
       " 'Cl': 'Red',\n",
       " 'Ar': 'Gray',\n",
       " 'K': 'Pink',\n",
       " 'Ca': 'purple',\n",
       " 'Sc': 'Cyan',\n",
       " 'Ti': 'Cyan',\n",
       " 'V': 'Cyan',\n",
       " 'Cr': 'Cyan',\n",
       " 'Mn': 'Cyan',\n",
       " 'Fe': 'Cyan',\n",
       " 'Co': 'Cyan',\n",
       " 'Ni': 'Cyan',\n",
       " 'Cu': 'Cyan',\n",
       " 'Zn': 'Cyan',\n",
       " 'Ga': 'Orange',\n",
       " 'Ge': 'Yellow',\n",
       " 'As': 'Yellow',\n",
       " 'Se': 'Green',\n",
       " 'Br': 'Red',\n",
       " 'Kr': 'Gray',\n",
       " 'Rb': 'Pink',\n",
       " 'Sr': 'purple',\n",
       " 'Y': 'Cyan',\n",
       " 'Zr': 'Cyan',\n",
       " 'Nb': 'Cyan',\n",
       " 'Mo': 'Cyan',\n",
       " 'Tc': 'Cyan',\n",
       " 'Ru': 'Cyan',\n",
       " 'Rh': 'Cyan',\n",
       " 'Pd': 'Cyan',\n",
       " 'Ag': 'Cyan',\n",
       " 'Cd': 'Cyan',\n",
       " 'In': 'Orange',\n",
       " 'Sn': 'Orange',\n",
       " 'Sb': 'Yellow',\n",
       " 'Te': 'Yellow',\n",
       " 'I': 'Red',\n",
       " 'Xe': 'Gray',\n",
       " 'Cs': 'Pink',\n",
       " 'Ba': 'purple',\n",
       " 'La': 'Teal',\n",
       " 'Ce': 'Teal',\n",
       " 'Pr': 'Teal',\n",
       " 'Nd': 'Teal',\n",
       " 'Pm': 'Teal',\n",
       " 'Sm': 'Teal',\n",
       " 'Eu': 'Teal',\n",
       " 'Gd': 'Teal',\n",
       " 'Tb': 'Teal',\n",
       " 'Dy': 'Teal',\n",
       " 'Ho': 'Teal',\n",
       " 'Er': 'Teal',\n",
       " 'Tm': 'Teal',\n",
       " 'Yb': 'Teal',\n",
       " 'Lu': 'Teal',\n",
       " 'Hf': 'Cyan',\n",
       " 'Ta': 'Cyan',\n",
       " 'W': 'Cyan',\n",
       " 'Re': 'Cyan',\n",
       " 'Os': 'Cyan',\n",
       " 'Ir': 'Cyan',\n",
       " 'Pt': 'Cyan',\n",
       " 'Au': 'Cyan',\n",
       " 'Hg': 'Cyan',\n",
       " 'Tl': 'Orange',\n",
       " 'Pb': 'Orange',\n",
       " 'Bi': 'Orange',\n",
       " 'Po': 'Yellow',\n",
       " 'At': 'Red',\n",
       " 'Rn': 'Gray',\n",
       " 'Fr': 'Pink',\n",
       " 'Ra': 'purple',\n",
       " 'Ac': 'Brown',\n",
       " 'Th': 'Brown',\n",
       " 'Pa': 'Brown',\n",
       " 'U': 'Brown',\n",
       " 'Np': 'Brown',\n",
       " 'Pu': 'Brown',\n",
       " 'Am': 'Brown',\n",
       " 'Cm': 'Brown',\n",
       " 'Bk': 'Brown',\n",
       " 'Cf': 'Brown',\n",
       " 'Es': 'Brown',\n",
       " 'Fm': 'Brown',\n",
       " 'Md': 'Brown',\n",
       " 'No': 'Brown',\n",
       " 'Lr': 'Brown',\n",
       " 'Rf': 'Cyan',\n",
       " 'Db': 'Cyan',\n",
       " 'Sg': 'Cyan',\n",
       " 'Bh': 'Cyan',\n",
       " 'Hs': 'Cyan',\n",
       " 'Mt': 'Cyan',\n",
       " 'Ds': 'Cyan',\n",
       " 'Rg': 'Cyan',\n",
       " 'Cn': 'Cyan',\n",
       " 'Nh': 'Orange',\n",
       " 'Fl': 'Orange',\n",
       " 'Mc': 'Orange',\n",
       " 'Lv': 'Orange',\n",
       " 'Ts': 'Red',\n",
       " 'Og': 'Gray',\n",
       " ' ': 'white'}"
      ]
     },
     "execution_count": 37,
     "metadata": {},
     "output_type": "execute_result"
    }
   ],
   "source": [
    "color_dict"
   ]
  },
  {
   "cell_type": "code",
   "execution_count": 41,
   "id": "b42be473",
   "metadata": {},
   "outputs": [],
   "source": [
    "ptr_label[1] = 'H'\n",
    "ptr_label[18] = 'He'\n",
    "ptr_label[19],ptr_label[20],ptr_label[31],ptr_label[32],ptr_label[33],ptr_label[34],ptr_label[35],ptr_label[36] = 'Li','Be','B','C','N','O','F','Ne'\n",
    "ptr_label[37],ptr_label[38] = 'Na','Mg'\n",
    "for i in range(93-49):\n",
    "    ptr_label[i+49] =  periodic_table[12+i]\n",
    "for i in range(88-72+1):\n",
    "    ptr_label[i+94] = periodic_table[71+i]\n",
    "for i in range(118-104+1):\n",
    "    ptr_label[i+112] = periodic_table[i+103]\n",
    "for i in range(71-57+1):\n",
    "    ptr_label[i+128] = periodic_table[i+56]\n",
    "for i in range(103-89+1):\n",
    "    ptr_label[i+146] = periodic_table[i+88]"
   ]
  },
  {
   "cell_type": "code",
   "execution_count": 42,
   "id": "0e9a0f46",
   "metadata": {},
   "outputs": [
    {
     "data": {
      "image/png": "[encoded data removed]",
      "text/plain": [
       "<Figure size 1080x576 with 1 Axes>"
      ]
     },
     "metadata": {
      "needs_background": "light"
     },
     "output_type": "display_data"
    }
   ],
   "source": [
    "import matplotlib.pyplot as plt\n",
    "import numpy as np\n",
    "\n",
    "# 创建一个9行18列的方格图\n",
    "rows = 9\n",
    "cols = 18\n",
    "\n",
    "# 创建一个新的图表和子图\n",
    "fig, ax = plt.subplots(figsize=(15, 8))\n",
    "\n",
    "# 绘制方格\n",
    "for row in range(rows):\n",
    "    for col in range(cols):\n",
    "        # 计算方格的编号\n",
    "        cell_number = row * cols + col + 1\n",
    "        \n",
    "        # 绘制方格\n",
    "        rect = plt.Rectangle((col, rows - row - 1), 1, 1, linewidth=1, edgecolor='black', facecolor='white')\n",
    "        ax.add_patch(rect)\n",
    "        \n",
    "        # 在方格内部标上编号\n",
    "        ax.text(col + 0.5, rows - row - 0.5, str(ptr_label[cell_number]), ha='center', va='center', fontsize=10)\n",
    "\n",
    "# 设置坐标轴\n",
    "ax.set_xlim(0, cols)\n",
    "ax.set_ylim(0, rows)\n",
    "ax.set_xticks(np.arange(0, cols + 1, 1))\n",
    "ax.set_yticks(np.arange(0, rows + 1, 1))\n",
    "ax.set_xticklabels([])\n",
    "ax.set_yticklabels([])\n",
    "\n",
    "# 设置标题\n",
    "plt.title('Grid with Numbers')\n",
    "\n",
    "# 移除所有刻度线\n",
    "ax.xaxis.set_ticks_position('none')\n",
    "ax.yaxis.set_ticks_position('none')\n",
    "\n",
    "plt.grid(True, which='both', linestyle='-', linewidth=0.5)\n",
    "plt.show()\n"
   ]
  },
  {
   "cell_type": "code",
   "execution_count": 46,
   "id": "598a8a1e",
   "metadata": {},
   "outputs": [
    {
     "data": {
      "image/png": "[encoded data removed]",
      "text/plain": [
       "<Figure size 720x432 with 1 Axes>"
      ]
     },
     "metadata": {
      "needs_background": "light"
     },
     "output_type": "display_data"
    }
   ],
   "source": [
    "import matplotlib.pyplot as plt\n",
    "import numpy as np\n",
    "\n",
    "# 创建一个9行18列的方格图\n",
    "rows = 9\n",
    "cols = 18\n",
    "\n",
    "# 创建一个新的图表和子图\n",
    "fig, ax = plt.subplots(figsize=(10, 6))\n",
    "\n",
    "# 绘制方格并上色\n",
    "for row in range(rows):\n",
    "    for col in range(cols):\n",
    "        # 计算方格的编号\n",
    "        cell_number = row * cols + col + 1\n",
    "        \n",
    "        # 计算颜色值，范围从0到1\n",
    "        color_value = (cell_number % 100) / 100\n",
    "        \n",
    "        # 绘制带有填充颜色的方格\n",
    "        rect = plt.Rectangle((col, rows - row - 1), 1, 1, linewidth=1, edgecolor='black', facecolor=color_dict[ptr_label[cell_number]])\n",
    "        ax.add_patch(rect)\n",
    "        \n",
    "        # 在方格内部标上编号\n",
    "        ax.text(col + 0.5, rows - row - 0.5, str(ptr_label[cell_number]), ha='center', va='center', fontsize=10, color='Black')\n",
    "\n",
    "# 设置坐标轴\n",
    "ax.set_xlim(0, cols)\n",
    "ax.set_ylim(0, rows)\n",
    "ax.set_xticks(np.arange(0, cols + 1, 1))\n",
    "ax.set_yticks(np.arange(0, rows + 1, 1))\n",
    "ax.set_xticklabels([])\n",
    "ax.set_yticklabels([])\n",
    "\n",
    "# 设置标题\n",
    "plt.title('Colored Grid with Numbers')\n",
    "\n",
    "# 移除所有刻度线\n",
    "ax.xaxis.set_ticks_position('none')\n",
    "ax.yaxis.set_ticks_position('none')\n",
    "\n",
    "plt.grid(True, which='both', linestyle='-', linewidth=0.5)\n",
    "plt.show()\n"
   ]
  },
  {
   "cell_type": "code",
   "execution_count": 50,
   "id": "b31544ff",
   "metadata": {},
   "outputs": [
    {
     "data": {
      "image/png": "[encoded data removed]",
      "text/plain": [
       "<Figure size 3000x1800 with 2 Axes>"
      ]
     },
     "metadata": {
      "needs_background": "light"
     },
     "output_type": "display_data"
    }
   ],
   "source": [
    "import matplotlib.pyplot as plt\n",
    "import numpy as np\n",
    "import matplotlib.cm as cm\n",
    "\n",
    "# 创建一个9行18列的方格图\n",
    "rows = 9\n",
    "cols = 18\n",
    "\n",
    "# 生成一些示例数值（范围从0到100）\n",
    "values = np.random.randint(0, 101, size=(rows, cols))\n",
    "\n",
    "# 创建一个颜色映射，从淡黄色到深绿色\n",
    "cmap = cm.get_cmap('YlGn')\n",
    "\n",
    "# 创建一个新的图表和子图\n",
    "fig, ax = plt.subplots(figsize=(10, 6))\n",
    "# 设置图像的DPI为300\n",
    "fig.dpi = 300\n",
    "# 绘制方格并上色，根据数值大小映射颜色\n",
    "for row in range(rows):\n",
    "    for col in range(cols):\n",
    "        # 计算方格的编号\n",
    "        cell_number = row * cols + col + 1\n",
    "        \n",
    "        # 计算颜色值，范围从0到1\n",
    "        # print(label[cell_number])\n",
    "        color_value = count_ele_dict[ptr_label[cell_number]]/max_count\n",
    "        facecolor = cmap(color_value)\n",
    "        # 有元素但是这个元素值为0的设置为灰色\n",
    "        if ptr_label[cell_number] in periodic_table and  count_ele_dict[ptr_label[cell_number]]==0:\n",
    "            \n",
    "            pass#facecolor= 'lightgray'\n",
    "        # 绘制带有填充颜色的方格\n",
    "        rect = plt.Rectangle((col, rows - row - 1), 1, 1, linewidth=1, edgecolor='black', facecolor=facecolor)\n",
    "        ax.add_patch(rect)\n",
    "        \n",
    "        # 在方格内部标上编号\n",
    "        ax.text(col + 0.5, rows - row - 0.5, str(ptr_label[cell_number]), ha='center', va='center', fontsize=10, color='Black')\n",
    "\n",
    "# 设置坐标轴\n",
    "ax.set_xlim(0, cols)\n",
    "ax.set_ylim(0, rows)\n",
    "ax.set_xticks(np.arange(0, cols + 1, 1))\n",
    "ax.set_yticks(np.arange(0, rows + 1, 1))\n",
    "ax.set_xticklabels([])\n",
    "ax.set_yticklabels([])\n",
    "\n",
    "# 设置标题\n",
    "plt.title('Distribution of Elements in Glass Overall')\n",
    "\n",
    "# 移除所有刻度线\n",
    "ax.xaxis.set_ticks_position('none')\n",
    "ax.yaxis.set_ticks_position('none')\n",
    "\n",
    "plt.grid(True, which='both', linestyle='-', linewidth=0.5)\n",
    "\n",
    "# 添加颜色映射的颜色条\n",
    "sm = plt.cm.ScalarMappable(cmap=cmap, norm=plt.Normalize(vmin=0, vmax=1))\n",
    "sm.set_array([])\n",
    "cbar = plt.colorbar(sm)\n",
    "cbar.set_label('Element Count')\n",
    "# 设置颜色条的标识\n",
    "cbar.set_ticks([0,np.log10(1e1)/np.log10(1e5),np.log10(1e3)/np.log10(1e5), np.log10(1e5)/np.log10(1e5)])  # 自定义标识的位置\n",
    "cbar.set_ticklabels(['0','1e1', '1e3', '1e5'])  # 自定义标识的标签\n",
    "\n",
    "plt.show()\n"
   ]
  },
  {
   "cell_type": "code",
   "execution_count": 51,
   "id": "71b73d48",
   "metadata": {},
   "outputs": [
    {
     "data": {
      "text/plain": [
       "5.0"
      ]
     },
     "execution_count": 51,
     "metadata": {},
     "output_type": "execute_result"
    }
   ],
   "source": [
    "np.log10(1e5)"
   ]
  },
  {
   "cell_type": "markdown",
   "id": "cc402901",
   "metadata": {},
   "source": [
    "# 然后对label进行分布分析"
   ]
  },
  {
   "cell_type": "code",
   "execution_count": 52,
   "id": "7f9822f8",
   "metadata": {},
   "outputs": [
    {
     "data": {
      "text/html": [
       "<div>\n",
       "<style scoped>\n",
       "    .dataframe tbody tr th:only-of-type {\n",
       "        vertical-align: middle;\n",
       "    }\n",
       "\n",
       "    .dataframe tbody tr th {\n",
       "        vertical-align: top;\n",
       "    }\n",
       "\n",
       "    .dataframe thead th {\n",
       "        text-align: right;\n",
       "    }\n",
       "</style>\n",
       "<table border=\"1\" class=\"dataframe\">\n",
       "  <thead>\n",
       "    <tr style=\"text-align: right;\">\n",
       "      <th></th>\n",
       "      <th>Lu</th>\n",
       "      <th>Hf</th>\n",
       "      <th>Ta</th>\n",
       "      <th>Pt</th>\n",
       "      <th>AlN</th>\n",
       "      <th>Si3N4</th>\n",
       "      <th>Density at RT ( g/cm3 )</th>\n",
       "      <th>Shear Modulus ( GPa )</th>\n",
       "      <th>Bulk Modulus ( GPa )</th>\n",
       "      <th>Poisson Ratio</th>\n",
       "    </tr>\n",
       "  </thead>\n",
       "  <tbody>\n",
       "    <tr>\n",
       "      <th>0</th>\n",
       "      <td>0</td>\n",
       "      <td>0</td>\n",
       "      <td>0</td>\n",
       "      <td>0</td>\n",
       "      <td>0</td>\n",
       "      <td>0</td>\n",
       "      <td>2.495</td>\n",
       "      <td>24.49</td>\n",
       "      <td>41.07</td>\n",
       "      <td>0.251</td>\n",
       "    </tr>\n",
       "    <tr>\n",
       "      <th>1</th>\n",
       "      <td>0</td>\n",
       "      <td>0</td>\n",
       "      <td>0</td>\n",
       "      <td>0</td>\n",
       "      <td>0</td>\n",
       "      <td>0</td>\n",
       "      <td>2.583</td>\n",
       "      <td>27.02</td>\n",
       "      <td>49.01</td>\n",
       "      <td>0.267</td>\n",
       "    </tr>\n",
       "  </tbody>\n",
       "</table>\n",
       "</div>"
      ],
      "text/plain": [
       "   Lu  Hf  Ta  Pt  AlN  Si3N4  Density at RT ( g/cm3 )  Shear Modulus ( GPa )  \\\n",
       "0   0   0   0   0    0      0                    2.495                  24.49   \n",
       "1   0   0   0   0    0      0                    2.583                  27.02   \n",
       "\n",
       "   Bulk Modulus ( GPa )  Poisson Ratio  \n",
       "0                 41.07          0.251  \n",
       "1                 49.01          0.267  "
      ]
     },
     "execution_count": 52,
     "metadata": {},
     "output_type": "execute_result"
    }
   ],
   "source": [
    "full_data.iloc[:2,-10:]"
   ]
  },
  {
   "cell_type": "code",
   "execution_count": 53,
   "id": "f0ceac79",
   "metadata": {},
   "outputs": [],
   "source": [
    "label = full_data.iloc[:,-4:]"
   ]
  },
  {
   "cell_type": "code",
   "execution_count": 54,
   "id": "6943a56d",
   "metadata": {},
   "outputs": [
    {
     "data": {
      "text/plain": [
       "Index([' Density at RT ( g/cm3 )', ' Shear Modulus ( GPa )',\n",
       "       ' Bulk Modulus ( GPa )', ' Poisson Ratio'],\n",
       "      dtype='object')"
      ]
     },
     "execution_count": 54,
     "metadata": {},
     "output_type": "execute_result"
    }
   ],
   "source": [
    "label.columns"
   ]
  },
  {
   "cell_type": "code",
   "execution_count": 55,
   "id": "6cf467d1",
   "metadata": {},
   "outputs": [
    {
     "data": {
      "text/plain": [
       "0       2.495\n",
       "1       2.583\n",
       "2       2.551\n",
       "3       2.518\n",
       "4       2.478\n",
       "        ...  \n",
       "1545     1.98\n",
       "1546      3.2\n",
       "1547     2.46\n",
       "1548     4.22\n",
       "1549      3.4\n",
       "Name:  Density at RT ( g/cm3 ), Length: 1550, dtype: object"
      ]
     },
     "execution_count": 55,
     "metadata": {},
     "output_type": "execute_result"
    }
   ],
   "source": [
    "label[' Density at RT ( g/cm3 )']"
   ]
  },
  {
   "cell_type": "code",
   "execution_count": 56,
   "id": "3c619e54",
   "metadata": {},
   "outputs": [
    {
     "data": {
      "text/plain": [
       "<matplotlib.collections.PathCollection at 0x2314ca72170>"
      ]
     },
     "execution_count": 56,
     "metadata": {},
     "output_type": "execute_result"
    },
    {
     "data": {
      "image/png": "[encoded data removed]",
      "text/plain": [
       "<Figure size 432x288 with 1 Axes>"
      ]
     },
     "metadata": {
      "needs_background": "light"
     },
     "output_type": "display_data"
    }
   ],
   "source": [
    "plt.title('Density')\n",
    "plt.scatter(range(label.shape[0]),label[' Density at RT ( g/cm3 )'], s=1)"
   ]
  },
  {
   "cell_type": "code",
   "execution_count": 57,
   "id": "07d4a50e",
   "metadata": {},
   "outputs": [
    {
     "data": {
      "text/plain": [
       "<matplotlib.collections.PathCollection at 0x2314c512ce0>"
      ]
     },
     "execution_count": 57,
     "metadata": {},
     "output_type": "execute_result"
    },
    {
     "data": {
      "image/png": "[encoded data removed]",
      "text/plain": [
       "<Figure size 432x288 with 1 Axes>"
      ]
     },
     "metadata": {
      "needs_background": "light"
     },
     "output_type": "display_data"
    }
   ],
   "source": [
    "plt.title('Shear Modulus ( GPa )')\n",
    "plt.scatter(range(label.shape[0]),label[' Shear Modulus ( GPa )'], s=1)"
   ]
  },
  {
   "cell_type": "code",
   "execution_count": 58,
   "id": "c73f37f8",
   "metadata": {},
   "outputs": [
    {
     "data": {
      "text/plain": [
       "<matplotlib.collections.PathCollection at 0x2314c154e20>"
      ]
     },
     "execution_count": 58,
     "metadata": {},
     "output_type": "execute_result"
    },
    {
     "data": {
      "image/png": "[encoded data removed]",
      "text/plain": [
       "<Figure size 432x288 with 1 Axes>"
      ]
     },
     "metadata": {
      "needs_background": "light"
     },
     "output_type": "display_data"
    }
   ],
   "source": [
    "plt.title(' Bulk Modulus ( GPa )')\n",
    "plt.scatter(range(label.shape[0]),label[' Bulk Modulus ( GPa )'], s=1)"
   ]
  },
  {
   "cell_type": "code",
   "execution_count": 59,
   "id": "b2fdf7a3",
   "metadata": {},
   "outputs": [
    {
     "data": {
      "text/plain": [
       "<matplotlib.collections.PathCollection at 0x2314c823490>"
      ]
     },
     "execution_count": 59,
     "metadata": {},
     "output_type": "execute_result"
    },
    {
     "data": {
      "image/png": "[encoded data removed]",
      "text/plain": [
       "<Figure size 432x288 with 1 Axes>"
      ]
     },
     "metadata": {
      "needs_background": "light"
     },
     "output_type": "display_data"
    }
   ],
   "source": [
    "plt.title(' Poisson Ratio')\n",
    "plt.scatter(range(label.shape[0]),label[' Poisson Ratio'], s=1)"
   ]
  },
  {
   "cell_type": "code",
   "execution_count": 60,
   "id": "eb9ff908",
   "metadata": {},
   "outputs": [
    {
     "name": "stdout",
     "output_type": "stream",
     "text": [
      " Density at RT ( g/cm3 )     3.542022\n",
      " Shear Modulus ( GPa )      24.912499\n",
      " Bulk Modulus ( GPa )       44.246074\n",
      " Poisson Ratio               0.258379\n",
      "dtype: float64  Density at RT ( g/cm3 )     1.367693\n",
      " Shear Modulus ( GPa )      10.889525\n",
      " Bulk Modulus ( GPa )       24.890467\n",
      " Poisson Ratio               0.042187\n",
      "dtype: float64\n"
     ]
    }
   ],
   "source": [
    "label_mean = label.mean()\n",
    "label_std = label.std()\n",
    "print(label_mean,label_std)"
   ]
  },
  {
   "cell_type": "code",
   "execution_count": 61,
   "id": "8aa26fd4",
   "metadata": {},
   "outputs": [],
   "source": [
    "nor_label = (label-label_mean)/label_std"
   ]
  },
  {
   "cell_type": "code",
   "execution_count": 62,
   "id": "c34b094e",
   "metadata": {},
   "outputs": [
    {
     "data": {
      "text/plain": [
       "(1550, 4)"
      ]
     },
     "execution_count": 62,
     "metadata": {},
     "output_type": "execute_result"
    }
   ],
   "source": [
    "nor_label.shape"
   ]
  },
  {
   "cell_type": "markdown",
   "id": "4eb0af46",
   "metadata": {},
   "source": [
    "# 训练四个力学性质的参数"
   ]
  },
  {
   "cell_type": "code",
   "execution_count": 63,
   "id": "426d0380",
   "metadata": {},
   "outputs": [
    {
     "name": "stdout",
     "output_type": "stream",
     "text": [
      "{'H': 0, 'He': 17, 'Li': 18, 'Be': 19, 'B': 30, 'C': 31, 'N': 32, 'O': 33, 'F': 34, 'Ne': 35, 'Na': 36, 'Mg': 37, 'Al': 48, 'Si': 49, 'P': 50, 'S': 51, 'Cl': 52, 'Ar': 53, 'K': 54, 'Ca': 55, 'Sc': 56, 'Ti': 57, 'V': 58, 'Cr': 59, 'Mn': 60, 'Fe': 61, 'Co': 62, 'Ni': 63, 'Cu': 64, 'Zn': 65, 'Ga': 66, 'Ge': 67, 'As': 68, 'Se': 69, 'Br': 70, 'Kr': 71, 'Rb': 72, 'Sr': 73, 'Y': 74, 'Zr': 75, 'Nb': 76, 'Mo': 77, 'Tc': 78, 'Ru': 79, 'Rh': 80, 'Pd': 81, 'Ag': 82, 'Cd': 83, 'In': 84, 'Sn': 85, 'Sb': 86, 'Te': 87, 'I': 88, 'Xe': 89, 'Cs': 90, 'Ba': 91, 'Hf': 93, 'Ta': 94, 'W': 95, 'Re': 96, 'Os': 97, 'Ir': 98, 'Pt': 99, 'Au': 100, 'Hg': 101, 'Tl': 102, 'Pb': 103, 'Bi': 104, 'Po': 105, 'At': 106, 'Rn': 107, 'Fr': 108, 'Ra': 109, 'Rf': 111, 'Db': 112, 'Sg': 113, 'Bh': 114, 'Hs': 115, 'Mt': 116, 'Ds': 117, 'Rg': 118, 'Cn': 119, 'Nh': 120, 'Fl': 121, 'Mc': 122, 'Lv': 123, 'Ts': 124, 'Og': 125, 'La': 127, 'Ce': 128, 'Pr': 129, 'Nd': 130, 'Pm': 131, 'Sm': 132, 'Eu': 133, 'Gd': 134, 'Tb': 135, 'Dy': 136, 'Ho': 137, 'Er': 138, 'Tm': 139, 'Yb': 140, 'Lu': 141, 'Ac': 145, 'Th': 146, 'Pa': 147, 'U': 148, 'Np': 149, 'Pu': 150, 'Am': 151, 'Cm': 152, 'Bk': 153, 'Cf': 154, 'Es': 155, 'Fm': 156, 'Md': 157, 'No': 158, 'Lr': 159}\n",
      "{'H': [0, 0], 'He': [0, 17], 'Li': [1, 0], 'Be': [1, 1], 'B': [1, 12], 'C': [1, 13], 'N': [1, 14], 'O': [1, 15], 'F': [1, 16], 'Ne': [1, 17], 'Na': [2, 0], 'Mg': [2, 1], 'Al': [2, 12], 'Si': [2, 13], 'P': [2, 14], 'S': [2, 15], 'Cl': [2, 16], 'Ar': [2, 17], 'K': [3, 0], 'Ca': [3, 1], 'Sc': [3, 2], 'Ti': [3, 3], 'V': [3, 4], 'Cr': [3, 5], 'Mn': [3, 6], 'Fe': [3, 7], 'Co': [3, 8], 'Ni': [3, 9], 'Cu': [3, 10], 'Zn': [3, 11], 'Ga': [3, 12], 'Ge': [3, 13], 'As': [3, 14], 'Se': [3, 15], 'Br': [3, 16], 'Kr': [3, 17], 'Rb': [4, 0], 'Sr': [4, 1], 'Y': [4, 2], 'Zr': [4, 3], 'Nb': [4, 4], 'Mo': [4, 5], 'Tc': [4, 6], 'Ru': [4, 7], 'Rh': [4, 8], 'Pd': [4, 9], 'Ag': [4, 10], 'Cd': [4, 11], 'In': [4, 12], 'Sn': [4, 13], 'Sb': [4, 14], 'Te': [4, 15], 'I': [4, 16], 'Xe': [4, 17], 'Cs': [5, 0], 'Ba': [5, 1], 'Hf': [5, 3], 'Ta': [5, 4], 'W': [5, 5], 'Re': [5, 6], 'Os': [5, 7], 'Ir': [5, 8], 'Pt': [5, 9], 'Au': [5, 10], 'Hg': [5, 11], 'Tl': [5, 12], 'Pb': [5, 13], 'Bi': [5, 14], 'Po': [5, 15], 'At': [5, 16], 'Rn': [5, 17], 'Fr': [6, 0], 'Ra': [6, 1], 'Rf': [6, 3], 'Db': [6, 4], 'Sg': [6, 5], 'Bh': [6, 6], 'Hs': [6, 7], 'Mt': [6, 8], 'Ds': [6, 9], 'Rg': [6, 10], 'Cn': [6, 11], 'Nh': [6, 12], 'Fl': [6, 13], 'Mc': [6, 14], 'Lv': [6, 15], 'Ts': [6, 16], 'Og': [6, 17], 'La': [7, 1], 'Ce': [7, 2], 'Pr': [7, 3], 'Nd': [7, 4], 'Pm': [7, 5], 'Sm': [7, 6], 'Eu': [7, 7], 'Gd': [7, 8], 'Tb': [7, 9], 'Dy': [7, 10], 'Ho': [7, 11], 'Er': [7, 12], 'Tm': [7, 13], 'Yb': [7, 14], 'Lu': [7, 15], 'Ac': [8, 1], 'Th': [8, 2], 'Pa': [8, 3], 'U': [8, 4], 'Np': [8, 5], 'Pu': [8, 6], 'Am': [8, 7], 'Cm': [8, 8], 'Bk': [8, 9], 'Cf': [8, 10], 'Es': [8, 11], 'Fm': [8, 12], 'Md': [8, 13], 'No': [8, 14], 'Lr': [8, 15]}\n"
     ]
    }
   ],
   "source": [
    "# 生成坐标\n",
    "element_order_dic = {}\n",
    "for i in range(len(ptr_label)):\n",
    "    if ptr_label[i]!=' ':\n",
    "        element_order_dic[ptr_label[i]]=i-1\n",
    "print(element_order_dic)\n",
    "element_order_dic_2d = {}\n",
    "for i in element_order_dic:\n",
    "    element_order_dic_2d[i]=[element_order_dic[i]//18,element_order_dic[i]%18]\n",
    "print(element_order_dic_2d)"
   ]
  },
  {
   "cell_type": "code",
   "execution_count": 64,
   "id": "6d1aa54a",
   "metadata": {},
   "outputs": [],
   "source": [
    "feature = []\n",
    "# 从组分列表里得出元素的ptr图\n",
    "for com in range(737):\n",
    "    temp_sum = 0\n",
    "    cal_com_percentage = {ele:0.0 for ele in periodic_table} # 原表不变，这个用来生成ptr\n",
    "    for i in element_dict:\n",
    "        value = element_dict[i][com]\n",
    "        if value!=0:\n",
    "            #print(value)\n",
    "            temp_sum += value\n",
    "    for i in element_dict:\n",
    "        value = element_dict[i][com]\n",
    "        if value!=0:\n",
    "            cal_com_percentage[i] = value/temp_sum\n",
    "    # 已经获得了一帧的数据，再将数据写成ptr格式，存入list\n",
    "    one_frame = np.zeros((9, 18), dtype=float)\n",
    "    # 或者元素对应的坐标值\n",
    "    for i in cal_com_percentage:\n",
    "        if cal_com_percentage[i]!=0:\n",
    "            [x,y] = element_order_dic_2d[i]\n",
    "            one_frame[x,y]=cal_com_percentage[i]\n",
    "    feature.append(one_frame)"
   ]
  },
  {
   "cell_type": "code",
   "execution_count": 65,
   "id": "a43f9fbe",
   "metadata": {},
   "outputs": [
    {
     "data": {
      "text/plain": [
       "array([[0.        , 0.        , 0.        , 0.        , 0.        ,\n",
       "        0.        , 0.        , 0.        , 0.        , 0.        ,\n",
       "        0.        , 0.        , 0.        , 0.        , 0.        ,\n",
       "        0.        , 0.        , 0.        ],\n",
       "       [0.        , 0.        , 0.        , 0.        , 0.        ,\n",
       "        0.        , 0.        , 0.        , 0.        , 0.        ,\n",
       "        0.        , 0.        , 0.        , 0.        , 0.        ,\n",
       "        0.6615215 , 0.        , 0.        ],\n",
       "       [0.        , 0.10253583, 0.        , 0.        , 0.        ,\n",
       "        0.        , 0.        , 0.        , 0.        , 0.        ,\n",
       "        0.        , 0.        , 0.030871  , 0.        , 0.20507166,\n",
       "        0.        , 0.        , 0.        ],\n",
       "       [0.        , 0.        , 0.        , 0.        , 0.        ,\n",
       "        0.        , 0.        , 0.        , 0.        , 0.        ,\n",
       "        0.        , 0.        , 0.        , 0.        , 0.        ,\n",
       "        0.        , 0.        , 0.        ],\n",
       "       [0.        , 0.        , 0.        , 0.        , 0.        ,\n",
       "        0.        , 0.        , 0.        , 0.        , 0.        ,\n",
       "        0.        , 0.        , 0.        , 0.        , 0.        ,\n",
       "        0.        , 0.        , 0.        ],\n",
       "       [0.        , 0.        , 0.        , 0.        , 0.        ,\n",
       "        0.        , 0.        , 0.        , 0.        , 0.        ,\n",
       "        0.        , 0.        , 0.        , 0.        , 0.        ,\n",
       "        0.        , 0.        , 0.        ],\n",
       "       [0.        , 0.        , 0.        , 0.        , 0.        ,\n",
       "        0.        , 0.        , 0.        , 0.        , 0.        ,\n",
       "        0.        , 0.        , 0.        , 0.        , 0.        ,\n",
       "        0.        , 0.        , 0.        ],\n",
       "       [0.        , 0.        , 0.        , 0.        , 0.        ,\n",
       "        0.        , 0.        , 0.        , 0.        , 0.        ,\n",
       "        0.        , 0.        , 0.        , 0.        , 0.        ,\n",
       "        0.        , 0.        , 0.        ],\n",
       "       [0.        , 0.        , 0.        , 0.        , 0.        ,\n",
       "        0.        , 0.        , 0.        , 0.        , 0.        ,\n",
       "        0.        , 0.        , 0.        , 0.        , 0.        ,\n",
       "        0.        , 0.        , 0.        ]])"
      ]
     },
     "execution_count": 65,
     "metadata": {},
     "output_type": "execute_result"
    }
   ],
   "source": [
    "feature[0]"
   ]
  },
  {
   "cell_type": "code",
   "execution_count": 66,
   "id": "a629ddea",
   "metadata": {},
   "outputs": [],
   "source": [
    "def non_zero_indices(matrix):\n",
    "    indices = []\n",
    "    for row_idx, row in enumerate(matrix):\n",
    "        for col_idx, value in enumerate(row):\n",
    "            if value != 0:\n",
    "                indices.append((row_idx, col_idx))\n",
    "    return indices"
   ]
  },
  {
   "cell_type": "code",
   "execution_count": 67,
   "id": "602d45b0",
   "metadata": {},
   "outputs": [
    {
     "name": "stdout",
     "output_type": "stream",
     "text": [
      "O 300.0\n",
      "Mg 46.5\n",
      "Al 14.0\n",
      "P 93.0\n"
     ]
    }
   ],
   "source": [
    "for i in element_dict:\n",
    "    if element_dict[i][0]!=0:\n",
    "        print(i,element_dict[i][0])"
   ]
  },
  {
   "cell_type": "code",
   "execution_count": 68,
   "id": "04affa98",
   "metadata": {},
   "outputs": [
    {
     "data": {
      "text/plain": [
       "[(1, 15), (2, 1), (2, 12), (2, 14)]"
      ]
     },
     "execution_count": 68,
     "metadata": {},
     "output_type": "execute_result"
    }
   ],
   "source": [
    "non_zero_indices(feature[0])"
   ]
  },
  {
   "cell_type": "code",
   "execution_count": 69,
   "id": "2208e4a2",
   "metadata": {},
   "outputs": [
    {
     "data": {
      "image/png": "[encoded data removed]",
      "text/plain": [
       "<Figure size 1080x576 with 1 Axes>"
      ]
     },
     "metadata": {
      "needs_background": "light"
     },
     "output_type": "display_data"
    }
   ],
   "source": [
    "# 创建一个9行18列的方格图\n",
    "rows = 9\n",
    "cols = 18\n",
    "draw_list = feature[0]\n",
    "# 创建一个新的图表和子图\n",
    "fig, ax = plt.subplots(figsize=(15, 8))\n",
    "\n",
    "# 绘制方格\n",
    "for row in range(rows):\n",
    "    for col in range(cols):\n",
    "        # 计算方格的编号\n",
    "        cell_number = row * cols + col + 1\n",
    "        # 设置输出的值\n",
    "        facecolor='white'\n",
    "        print_value = 0\n",
    "        if draw_list[row][col]!=0:\n",
    "            print_value = round(draw_list[row][col],2)\n",
    "            facecolor = 'lightpink'\n",
    "        # 绘制方格\n",
    "        rect = plt.Rectangle((col, rows - row - 1), 1, 1, linewidth=1, edgecolor='black', facecolor=facecolor)\n",
    "        ax.add_patch(rect)\n",
    "        \n",
    "        # 在方格内部标上编号\n",
    "        ax.text(col + 0.5, rows - row - 0.5, str(print_value), ha='center', va='center', fontsize=10)\n",
    "\n",
    "# 设置坐标轴\n",
    "ax.set_xlim(0, cols)\n",
    "ax.set_ylim(0, rows)\n",
    "ax.set_xticks(np.arange(0, cols + 1, 1))\n",
    "ax.set_yticks(np.arange(0, rows + 1, 1))\n",
    "ax.set_xticklabels([])\n",
    "ax.set_yticklabels([])\n",
    "\n",
    "# 设置标题\n",
    "plt.title('PTR of Glass(O:300,Mg:46,Al:14,P:93) ')\n",
    "\n",
    "# 移除所有刻度线\n",
    "ax.xaxis.set_ticks_position('none')\n",
    "ax.yaxis.set_ticks_position('none')\n",
    "\n",
    "plt.grid(True, which='both', linestyle='-', linewidth=0.5)\n",
    "plt.show()\n"
   ]
  },
  {
   "cell_type": "code",
   "execution_count": 61,
   "id": "efd5fb84",
   "metadata": {},
   "outputs": [],
   "source": [
    "# 说明生成的ptr表正确"
   ]
  },
  {
   "cell_type": "markdown",
   "id": "6fe21e20",
   "metadata": {},
   "source": [
    "# 建立网络开始训练"
   ]
  },
  {
   "cell_type": "code",
   "execution_count": 70,
   "id": "13edc5b4",
   "metadata": {},
   "outputs": [],
   "source": [
    "import torch\n",
    "import torch.nn as nn\n",
    "import torch.optim as optim\n",
    "from torch.utils.data import Dataset, DataLoader\n",
    "import torch.nn.functional as F\n",
    "import copy\n",
    "from sklearn.model_selection import KFold"
   ]
  },
  {
   "cell_type": "code",
   "execution_count": 67,
   "id": "6d2da405",
   "metadata": {},
   "outputs": [],
   "source": [
    "# 超参数设置\n",
    "batch_size = 32\n",
    "num_epochs = 20"
   ]
  },
  {
   "cell_type": "code",
   "execution_count": 71,
   "id": "0f9650e2",
   "metadata": {},
   "outputs": [],
   "source": [
    "import torch\n",
    "import torch.nn as nn\n",
    "\n",
    "class CNN(nn.Module):\n",
    "    def __init__(self):\n",
    "        super(CNN, self).__init__()\n",
    "        \n",
    "        self.conv1 = nn.Conv2d(in_channels=1, out_channels=32, kernel_size=3, stride=1, padding=1)\n",
    "        self.bn1 = nn.BatchNorm2d(32)  # Batch Normalization layer\n",
    "        self.relu = nn.ReLU()\n",
    "        self.pool1 = nn.MaxPool2d(kernel_size=2, stride=2)\n",
    "        \n",
    "        self.conv2 = nn.Conv2d(in_channels=32, out_channels=64, kernel_size=3, stride=1, padding=1)\n",
    "        self.bn2 = nn.BatchNorm2d(64)  # Batch Normalization layer\n",
    "        self.pool2 = nn.MaxPool2d(kernel_size=2, stride=2)\n",
    "        \n",
    "        self.fc1 = nn.Linear(in_features=512, out_features=128)\n",
    "        self.fc2 = nn.Linear(in_features=128, out_features=64)\n",
    "        self.output_layer = nn.Linear(in_features=64, out_features=4)\n",
    "\n",
    "    def forward(self, x):\n",
    "        x = self.pool1(self.relu(self.bn1(self.conv1(x))))\n",
    "        x = self.pool2(self.relu(self.bn2(self.conv2(x))))\n",
    "        x = x.view(x.size(0), -1)  \n",
    "        x = self.relu(self.fc1(x))\n",
    "        x = self.relu(self.fc2(x))\n",
    "        output = self.output_layer(x)\n",
    "        return output"
   ]
  },
  {
   "cell_type": "code",
   "execution_count": 178,
   "id": "7f65499c",
   "metadata": {},
   "outputs": [],
   "source": [
    "def train_model(model, train_loader, optimizer, criterion, num_epochs):\n",
    "    for epoch in range(num_epochs):\n",
    "        model.train()\n",
    "        for inputs, targets in train_loader:\n",
    "            optimizer.zero_grad()\n",
    "            outputs = model(inputs)\n",
    "            loss = criterion(outputs, targets)\n",
    "            loss.backward()\n",
    "            optimizer.step()\n",
    "        # print(f\"Epoch [{epoch+1}/{num_epochs}], Loss: {loss.item():.4f}\")\n"
   ]
  },
  {
   "cell_type": "markdown",
   "id": "7e2128b8",
   "metadata": {},
   "source": [
    "# 先将处理好的数据进行保存"
   ]
  },
  {
   "cell_type": "code",
   "execution_count": 179,
   "id": "b4117b70",
   "metadata": {},
   "outputs": [],
   "source": [
    "np.save('m_feature.npy',feature)\n",
    "np.save('m_label.npy',nor_label)"
   ]
  },
  {
   "cell_type": "markdown",
   "id": "a5f2ea95",
   "metadata": {},
   "source": [
    "# 实例化模型\n",
    "model = CNN()"
   ]
  },
  {
   "cell_type": "code",
   "execution_count": 180,
   "id": "4edd4813",
   "metadata": {},
   "outputs": [],
   "source": [
    "# 假设你有一个名为'features'和'targets'的数据\n",
    "temp_feature = copy.deepcopy(feature)\n",
    "features = np.array(temp_feature)[:, np.newaxis, :, :]\n",
    "targets = np.array(nor_label).astype(np.float32)\n",
    "# 超参数\n",
    "num_epochs = 50\n",
    "batch_size = 32\n",
    "learning_rate = 0.0001\n",
    "\n",
    "\n",
    "# 转换为PyTorch的张量\n",
    "features = torch.tensor(features, dtype=torch.float32)\n",
    "targets = torch.tensor(targets, dtype=torch.float32)\n",
    "\n",
    "model = CNN()\n",
    "# 定义损失函数和优化器\n",
    "criterion = nn.MSELoss()\n",
    "optimizer = torch.optim.Adam(model.parameters(), lr=learning_rate)\n"
   ]
  },
  {
   "cell_type": "code",
   "execution_count": 202,
   "id": "b853830a",
   "metadata": {},
   "outputs": [
    {
     "name": "stdout",
     "output_type": "stream",
     "text": [
      "Fold 1\n"
     ]
    },
    {
     "ename": "RuntimeError",
     "evalue": "The size of tensor a (4) must match the size of tensor b (32) at non-singleton dimension 1",
     "output_type": "error",
     "traceback": [
      "\u001b[1;31m---------------------------------------------------------------------------\u001b[0m",
      "\u001b[1;31mRuntimeError\u001b[0m                              Traceback (most recent call last)",
      "Input \u001b[1;32mIn [202]\u001b[0m, in \u001b[0;36m<cell line: 6>\u001b[1;34m()\u001b[0m\n\u001b[0;32m     15\u001b[0m train_loader \u001b[38;5;241m=\u001b[39m torch\u001b[38;5;241m.\u001b[39mutils\u001b[38;5;241m.\u001b[39mdata\u001b[38;5;241m.\u001b[39mDataLoader(train_dataset, batch_size\u001b[38;5;241m=\u001b[39mbatch_size, shuffle\u001b[38;5;241m=\u001b[39m\u001b[38;5;28;01mTrue\u001b[39;00m)\n\u001b[0;32m     17\u001b[0m \u001b[38;5;66;03m# 训练模型\u001b[39;00m\n\u001b[1;32m---> 18\u001b[0m \u001b[43mtrain_model\u001b[49m\u001b[43m(\u001b[49m\u001b[43mmodel\u001b[49m\u001b[43m,\u001b[49m\u001b[43m \u001b[49m\u001b[43mtrain_loader\u001b[49m\u001b[43m,\u001b[49m\u001b[43m \u001b[49m\u001b[43moptimizer\u001b[49m\u001b[43m,\u001b[49m\u001b[43m \u001b[49m\u001b[43mcriterion\u001b[49m\u001b[43m,\u001b[49m\u001b[43m \u001b[49m\u001b[43mnum_epochs\u001b[49m\u001b[43m)\u001b[49m\n\u001b[0;32m     20\u001b[0m \u001b[38;5;66;03m# 在验证集上进行评估\u001b[39;00m\n\u001b[0;32m     21\u001b[0m \u001b[38;5;28;01mwith\u001b[39;00m torch\u001b[38;5;241m.\u001b[39mno_grad():\n",
      "Input \u001b[1;32mIn [197]\u001b[0m, in \u001b[0;36mtrain_model\u001b[1;34m(model, train_loader, optimizer, criterion, num_epochs)\u001b[0m\n\u001b[0;32m      6\u001b[0m optimizer\u001b[38;5;241m.\u001b[39mzero_grad()\n\u001b[0;32m      7\u001b[0m outputs \u001b[38;5;241m=\u001b[39m model(inputs)\n\u001b[1;32m----> 8\u001b[0m loss \u001b[38;5;241m=\u001b[39m \u001b[43mcriterion\u001b[49m\u001b[43m(\u001b[49m\u001b[43moutputs\u001b[49m\u001b[43m,\u001b[49m\u001b[43m \u001b[49m\u001b[43mtargets\u001b[49m\u001b[43m)\u001b[49m\n\u001b[0;32m      9\u001b[0m loss\u001b[38;5;241m.\u001b[39mbackward()\n\u001b[0;32m     10\u001b[0m optimizer\u001b[38;5;241m.\u001b[39mstep()\n",
      "File \u001b[1;32mD:\\python_install\\lib\\site-packages\\torch\\nn\\modules\\module.py:1501\u001b[0m, in \u001b[0;36mModule._call_impl\u001b[1;34m(self, *args, **kwargs)\u001b[0m\n\u001b[0;32m   1496\u001b[0m \u001b[38;5;66;03m# If we don't have any hooks, we want to skip the rest of the logic in\u001b[39;00m\n\u001b[0;32m   1497\u001b[0m \u001b[38;5;66;03m# this function, and just call forward.\u001b[39;00m\n\u001b[0;32m   1498\u001b[0m \u001b[38;5;28;01mif\u001b[39;00m \u001b[38;5;129;01mnot\u001b[39;00m (\u001b[38;5;28mself\u001b[39m\u001b[38;5;241m.\u001b[39m_backward_hooks \u001b[38;5;129;01mor\u001b[39;00m \u001b[38;5;28mself\u001b[39m\u001b[38;5;241m.\u001b[39m_backward_pre_hooks \u001b[38;5;129;01mor\u001b[39;00m \u001b[38;5;28mself\u001b[39m\u001b[38;5;241m.\u001b[39m_forward_hooks \u001b[38;5;129;01mor\u001b[39;00m \u001b[38;5;28mself\u001b[39m\u001b[38;5;241m.\u001b[39m_forward_pre_hooks\n\u001b[0;32m   1499\u001b[0m         \u001b[38;5;129;01mor\u001b[39;00m _global_backward_pre_hooks \u001b[38;5;129;01mor\u001b[39;00m _global_backward_hooks\n\u001b[0;32m   1500\u001b[0m         \u001b[38;5;129;01mor\u001b[39;00m _global_forward_hooks \u001b[38;5;129;01mor\u001b[39;00m _global_forward_pre_hooks):\n\u001b[1;32m-> 1501\u001b[0m     \u001b[38;5;28;01mreturn\u001b[39;00m forward_call(\u001b[38;5;241m*\u001b[39margs, \u001b[38;5;241m*\u001b[39m\u001b[38;5;241m*\u001b[39mkwargs)\n\u001b[0;32m   1502\u001b[0m \u001b[38;5;66;03m# Do not call functions when jit is used\u001b[39;00m\n\u001b[0;32m   1503\u001b[0m full_backward_hooks, non_full_backward_hooks \u001b[38;5;241m=\u001b[39m [], []\n",
      "File \u001b[1;32mD:\\python_install\\lib\\site-packages\\torch\\nn\\modules\\loss.py:536\u001b[0m, in \u001b[0;36mMSELoss.forward\u001b[1;34m(self, input, target)\u001b[0m\n\u001b[0;32m    535\u001b[0m \u001b[38;5;28;01mdef\u001b[39;00m \u001b[38;5;21mforward\u001b[39m(\u001b[38;5;28mself\u001b[39m, \u001b[38;5;28minput\u001b[39m: Tensor, target: Tensor) \u001b[38;5;241m-\u001b[39m\u001b[38;5;241m>\u001b[39m Tensor:\n\u001b[1;32m--> 536\u001b[0m     \u001b[38;5;28;01mreturn\u001b[39;00m \u001b[43mF\u001b[49m\u001b[38;5;241;43m.\u001b[39;49m\u001b[43mmse_loss\u001b[49m\u001b[43m(\u001b[49m\u001b[38;5;28;43minput\u001b[39;49m\u001b[43m,\u001b[49m\u001b[43m \u001b[49m\u001b[43mtarget\u001b[49m\u001b[43m,\u001b[49m\u001b[43m \u001b[49m\u001b[43mreduction\u001b[49m\u001b[38;5;241;43m=\u001b[39;49m\u001b[38;5;28;43mself\u001b[39;49m\u001b[38;5;241;43m.\u001b[39;49m\u001b[43mreduction\u001b[49m\u001b[43m)\u001b[49m\n",
      "File \u001b[1;32mD:\\python_install\\lib\\site-packages\\torch\\nn\\functional.py:3294\u001b[0m, in \u001b[0;36mmse_loss\u001b[1;34m(input, target, size_average, reduce, reduction)\u001b[0m\n\u001b[0;32m   3291\u001b[0m \u001b[38;5;28;01mif\u001b[39;00m size_average \u001b[38;5;129;01mis\u001b[39;00m \u001b[38;5;129;01mnot\u001b[39;00m \u001b[38;5;28;01mNone\u001b[39;00m \u001b[38;5;129;01mor\u001b[39;00m reduce \u001b[38;5;129;01mis\u001b[39;00m \u001b[38;5;129;01mnot\u001b[39;00m \u001b[38;5;28;01mNone\u001b[39;00m:\n\u001b[0;32m   3292\u001b[0m     reduction \u001b[38;5;241m=\u001b[39m _Reduction\u001b[38;5;241m.\u001b[39mlegacy_get_string(size_average, reduce)\n\u001b[1;32m-> 3294\u001b[0m expanded_input, expanded_target \u001b[38;5;241m=\u001b[39m \u001b[43mtorch\u001b[49m\u001b[38;5;241;43m.\u001b[39;49m\u001b[43mbroadcast_tensors\u001b[49m\u001b[43m(\u001b[49m\u001b[38;5;28;43minput\u001b[39;49m\u001b[43m,\u001b[49m\u001b[43m \u001b[49m\u001b[43mtarget\u001b[49m\u001b[43m)\u001b[49m\n\u001b[0;32m   3295\u001b[0m \u001b[38;5;28;01mreturn\u001b[39;00m torch\u001b[38;5;241m.\u001b[39m_C\u001b[38;5;241m.\u001b[39m_nn\u001b[38;5;241m.\u001b[39mmse_loss(expanded_input, expanded_target, _Reduction\u001b[38;5;241m.\u001b[39mget_enum(reduction))\n",
      "File \u001b[1;32mD:\\python_install\\lib\\site-packages\\torch\\functional.py:74\u001b[0m, in \u001b[0;36mbroadcast_tensors\u001b[1;34m(*tensors)\u001b[0m\n\u001b[0;32m     72\u001b[0m \u001b[38;5;28;01mif\u001b[39;00m has_torch_function(tensors):\n\u001b[0;32m     73\u001b[0m     \u001b[38;5;28;01mreturn\u001b[39;00m handle_torch_function(broadcast_tensors, tensors, \u001b[38;5;241m*\u001b[39mtensors)\n\u001b[1;32m---> 74\u001b[0m \u001b[38;5;28;01mreturn\u001b[39;00m \u001b[43m_VF\u001b[49m\u001b[38;5;241;43m.\u001b[39;49m\u001b[43mbroadcast_tensors\u001b[49m\u001b[43m(\u001b[49m\u001b[43mtensors\u001b[49m\u001b[43m)\u001b[49m\n",
      "\u001b[1;31mRuntimeError\u001b[0m: The size of tensor a (4) must match the size of tensor b (32) at non-singleton dimension 1"
     ]
    }
   ],
   "source": [
    "# 初始化K折交叉验证\n",
    "kf = KFold(n_splits=5, shuffle=True, random_state=25)\n",
    "# 创建模型实例\n",
    "model = CNN()\n",
    "\n",
    "for fold, (train_index, val_index) in enumerate(kf.split(features)):\n",
    "    print(f\"Fold {fold + 1}\")\n",
    "    \n",
    "    # 划分训练集和验证集\n",
    "    train_features, val_features = features[train_index], features[val_index]\n",
    "    train_targets, val_targets = targets[train_index], targets[val_index]\n",
    "    \n",
    "    # 创建数据加载器\n",
    "    train_dataset = torch.utils.data.TensorDataset(train_features, train_targets)\n",
    "    train_loader = torch.utils.data.DataLoader(train_dataset, batch_size=batch_size, shuffle=True)\n",
    "    \n",
    "    # 训练模型\n",
    "    train_model(model, train_loader, optimizer, criterion, num_epochs)\n",
    "    \n",
    "    # 在验证集上进行评估\n",
    "    with torch.no_grad():\n",
    "        model.eval()\n",
    "        val_outputs = model(val_features)\n",
    "        val_loss = criterion(val_outputs, val_targets)\n",
    "        print(f\"Validation Loss: {val_loss.item():.4f}\")\n"
   ]
  },
  {
   "cell_type": "markdown",
   "id": "e4bee603",
   "metadata": {},
   "source": [
    "# 保存训练好的模型 然后准备迁移学习"
   ]
  },
  {
   "cell_type": "code",
   "execution_count": 184,
   "id": "7ad37d70",
   "metadata": {},
   "outputs": [],
   "source": [
    "torch.save(model.state_dict(), 'old_model.pth')"
   ]
  },
  {
   "cell_type": "markdown",
   "id": "4426a965",
   "metadata": {},
   "source": [
    "# 使用迁移学习试试"
   ]
  },
  {
   "cell_type": "code",
   "execution_count": 185,
   "id": "1b02d00d",
   "metadata": {},
   "outputs": [],
   "source": [
    "import torch\n",
    "import torch.nn as nn\n",
    "import torch.optim as optim\n",
    "from torch.utils.data import Dataset, DataLoader\n",
    "import torch.nn.functional as F\n",
    "import copy\n",
    "from sklearn.model_selection import KFold"
   ]
  },
  {
   "cell_type": "code",
   "execution_count": 186,
   "id": "200cf0e3",
   "metadata": {},
   "outputs": [
    {
     "name": "stdout",
     "output_type": "stream",
     "text": [
      "Pre_model: CNN(\n",
      "  (conv1): Conv2d(1, 32, kernel_size=(3, 3), stride=(1, 1), padding=(1, 1))\n",
      "  (bn1): BatchNorm2d(32, eps=1e-05, momentum=0.1, affine=True, track_running_stats=True)\n",
      "  (relu): ReLU()\n",
      "  (pool1): MaxPool2d(kernel_size=2, stride=2, padding=0, dilation=1, ceil_mode=False)\n",
      "  (conv2): Conv2d(32, 64, kernel_size=(3, 3), stride=(1, 1), padding=(1, 1))\n",
      "  (bn2): BatchNorm2d(64, eps=1e-05, momentum=0.1, affine=True, track_running_stats=True)\n",
      "  (pool2): MaxPool2d(kernel_size=2, stride=2, padding=0, dilation=1, ceil_mode=False)\n",
      "  (fc1): Linear(in_features=512, out_features=128, bias=True)\n",
      "  (fc2): Linear(in_features=128, out_features=64, bias=True)\n",
      "  (output_layer): Linear(in_features=64, out_features=4, bias=True)\n",
      ")\n",
      "--------------------------------------\n",
      "New FC Layer: CNN(\n",
      "  (conv1): Conv2d(1, 32, kernel_size=(3, 3), stride=(1, 1), padding=(1, 1))\n",
      "  (bn1): BatchNorm2d(32, eps=1e-05, momentum=0.1, affine=True, track_running_stats=True)\n",
      "  (relu): ReLU()\n",
      "  (pool1): MaxPool2d(kernel_size=2, stride=2, padding=0, dilation=1, ceil_mode=False)\n",
      "  (conv2): Conv2d(32, 64, kernel_size=(3, 3), stride=(1, 1), padding=(1, 1))\n",
      "  (bn2): BatchNorm2d(64, eps=1e-05, momentum=0.1, affine=True, track_running_stats=True)\n",
      "  (pool2): MaxPool2d(kernel_size=2, stride=2, padding=0, dilation=1, ceil_mode=False)\n",
      "  (fc1): Linear(in_features=512, out_features=128, bias=True)\n",
      "  (fc2): Linear(in_features=128, out_features=64, bias=True)\n",
      "  (output_layer): Linear(in_features=64, out_features=1, bias=True)\n",
      ")\n"
     ]
    }
   ],
   "source": [
    "# 创建旧模型实例\n",
    "pre_model = CNN()\n",
    "print(\"Pre_model:\", pre_model)\n",
    "# 加载预训练模型的参数\n",
    "pretrained_state_dict = torch.load('old_model.pth')\n",
    "\n",
    "# 应用预训练参数到旧模型（仅适用于共享部分的层，如卷积层）\n",
    "pre_model.load_state_dict(pretrained_state_dict, strict=False)\n",
    "\n",
    "# 冻结预训练模型的所有参数\n",
    "for param in pre_model.parameters():\n",
    "    param.requires_grad = False\n",
    "\n",
    "\n",
    "# 创建新的全连接头部\n",
    "new_fc_layer = nn.Linear(in_features=64, out_features=1)\n",
    "# 替换旧模型的全连接层\n",
    "\n",
    "pre_model.output_layer = new_fc_layer\n",
    "# 打印替换后的全连接层\n",
    "print('--------------------------------------')\n",
    "print(\"New FC Layer:\", pre_model)"
   ]
  },
  {
   "cell_type": "code",
   "execution_count": 187,
   "id": "dd1c0fbb",
   "metadata": {},
   "outputs": [],
   "source": [
    "# 先加载好新的数据\n",
    "w_feature = np.load('water_feature.npy')\n",
    "w_label = np.load('water_label.npy')"
   ]
  },
  {
   "cell_type": "code",
   "execution_count": 188,
   "id": "c6bd735b",
   "metadata": {},
   "outputs": [
    {
     "data": {
      "text/plain": [
       "(737, 9, 18)"
      ]
     },
     "execution_count": 188,
     "metadata": {},
     "output_type": "execute_result"
    }
   ],
   "source": [
    "w_feature.shape"
   ]
  },
  {
   "cell_type": "code",
   "execution_count": 189,
   "id": "9ce1a31e",
   "metadata": {},
   "outputs": [
    {
     "data": {
      "text/plain": [
       "(737,)"
      ]
     },
     "execution_count": 189,
     "metadata": {},
     "output_type": "execute_result"
    }
   ],
   "source": [
    "w_label.shape"
   ]
  },
  {
   "cell_type": "code",
   "execution_count": 190,
   "id": "17deb3e5",
   "metadata": {},
   "outputs": [],
   "source": [
    "# 名为'features'和'targets'的数据\n",
    "temp_feature = copy.deepcopy(w_feature)\n",
    "features = np.array(temp_feature)[:, np.newaxis, :, :]\n",
    "targets =  w_label\n",
    "# 超参数\n",
    "num_epochs = 20\n",
    "batch_size = 32\n",
    "learning_rate = 0.001\n",
    "\n",
    "# 转换为PyTorch的张量\n",
    "features = torch.tensor(features, dtype=torch.float32)\n",
    "targets = torch.tensor(targets, dtype=torch.float32)\n",
    "\n",
    "# 定义损失函数和优化器\n",
    "criterion = nn.MSELoss()\n",
    "optimizer = torch.optim.Adam(pre_model.parameters(), lr=learning_rate)\n"
   ]
  },
  {
   "cell_type": "code",
   "execution_count": 191,
   "id": "2c5fa231",
   "metadata": {},
   "outputs": [
    {
     "data": {
      "text/plain": [
       "torch.Size([737, 1, 9, 18])"
      ]
     },
     "execution_count": 191,
     "metadata": {},
     "output_type": "execute_result"
    }
   ],
   "source": [
    "features.shape"
   ]
  },
  {
   "cell_type": "code",
   "execution_count": 192,
   "id": "a7de0a14",
   "metadata": {},
   "outputs": [
    {
     "data": {
      "text/plain": [
       "torch.Size([737])"
      ]
     },
     "execution_count": 192,
     "metadata": {},
     "output_type": "execute_result"
    }
   ],
   "source": [
    "targets.shape"
   ]
  },
  {
   "cell_type": "code",
   "execution_count": 197,
   "id": "43c12aef",
   "metadata": {},
   "outputs": [],
   "source": [
    "def train_model(model, train_loader, optimizer, criterion, num_epochs):\n",
    "    for epoch in range(num_epochs):\n",
    "        model.train()\n",
    "        for inputs, targets in train_loader:\n",
    "            #print(inputs.shape,targets.shape)\n",
    "            optimizer.zero_grad()\n",
    "            outputs = model(inputs)\n",
    "            loss = criterion(outputs, targets)\n",
    "            loss.backward()\n",
    "            optimizer.step()\n",
    "        #print(f\"Epoch [{epoch+1}/{num_epochs}], Loss: {loss.item():.4f}\")\n"
   ]
  },
  {
   "cell_type": "code",
   "execution_count": 198,
   "id": "c22ca0e4",
   "metadata": {},
   "outputs": [
    {
     "data": {
      "text/plain": [
       "torch.Size([737])"
      ]
     },
     "execution_count": 198,
     "metadata": {},
     "output_type": "execute_result"
    }
   ],
   "source": [
    "targets.shape"
   ]
  },
  {
   "cell_type": "code",
   "execution_count": 199,
   "id": "71a150e8",
   "metadata": {},
   "outputs": [
    {
     "name": "stdout",
     "output_type": "stream",
     "text": [
      "CNN(\n",
      "  (conv1): Conv2d(1, 32, kernel_size=(3, 3), stride=(1, 1), padding=(1, 1))\n",
      "  (bn1): BatchNorm2d(32, eps=1e-05, momentum=0.1, affine=True, track_running_stats=True)\n",
      "  (relu): ReLU()\n",
      "  (pool1): MaxPool2d(kernel_size=2, stride=2, padding=0, dilation=1, ceil_mode=False)\n",
      "  (conv2): Conv2d(32, 64, kernel_size=(3, 3), stride=(1, 1), padding=(1, 1))\n",
      "  (bn2): BatchNorm2d(64, eps=1e-05, momentum=0.1, affine=True, track_running_stats=True)\n",
      "  (pool2): MaxPool2d(kernel_size=2, stride=2, padding=0, dilation=1, ceil_mode=False)\n",
      "  (fc1): Linear(in_features=512, out_features=128, bias=True)\n",
      "  (fc2): Linear(in_features=128, out_features=64, bias=True)\n",
      "  (output_layer): Linear(in_features=64, out_features=1, bias=True)\n",
      ")\n"
     ]
    }
   ],
   "source": [
    "print(pre_model)"
   ]
  },
  {
   "cell_type": "code",
   "execution_count": 200,
   "id": "88691edc",
   "metadata": {},
   "outputs": [
    {
     "name": "stdout",
     "output_type": "stream",
     "text": [
      "Fold 1\n",
      "Validation Loss: 1.7660\n",
      "Fold 2\n",
      "Validation Loss: 0.1985\n",
      "Fold 3\n",
      "Validation Loss: 0.1523\n",
      "Fold 4\n",
      "Validation Loss: 2.5751\n",
      "Fold 5\n",
      "Validation Loss: 0.3211\n"
     ]
    }
   ],
   "source": [
    "# 初始化K折交叉验证\n",
    "kf = KFold(n_splits=5, shuffle=True, random_state=25)\n",
    "\n",
    "for fold, (train_index, val_index) in enumerate(kf.split(features)):\n",
    "    print(f\"Fold {fold + 1}\")\n",
    "    \n",
    "    # 划分训练集和验证集\n",
    "    train_features, val_features = features[train_index], features[val_index]\n",
    "    train_targets, val_targets = targets[train_index], targets[val_index]\n",
    "    \n",
    "    \n",
    "    # 创建数据加载器\n",
    "    train_dataset = torch.utils.data.TensorDataset(train_features, train_targets)\n",
    "    train_loader = torch.utils.data.DataLoader(train_dataset, batch_size=batch_size, shuffle=True)\n",
    "    \n",
    "    # 训练模型\n",
    "    train_model(pre_model, train_loader, optimizer, criterion, num_epochs=num_epochs)\n",
    "    \n",
    "    # 在验证集上进行评估\n",
    "    with torch.no_grad():\n",
    "        pre_model.eval()\n",
    "        val_outputs = pre_model(val_features)\n",
    "        val_loss = criterion(val_outputs, val_targets)\n",
    "        print(f\"Validation Loss: {val_loss.item():.4f}\")\n"
   ]
  },
  {
   "cell_type": "code",
   "execution_count": 144,
   "id": "8f576721",
   "metadata": {},
   "outputs": [
    {
     "data": {
      "text/plain": [
       "torch.Size([737])"
      ]
     },
     "execution_count": 144,
     "metadata": {},
     "output_type": "execute_result"
    }
   ],
   "source": [
    "targets.shape"
   ]
  },
  {
   "cell_type": "code",
   "execution_count": null,
   "id": "07ae5134",
   "metadata": {},
   "outputs": [],
   "source": []
  },
  {
   "cell_type": "code",
   "execution_count": null,
   "id": "8ba544dd",
   "metadata": {},
   "outputs": [],
   "source": []
  },
  {
   "cell_type": "markdown",
   "id": "2672dae1",
   "metadata": {},
   "source": [
    "import torch\n",
    "import torch.nn as nn\n",
    "import torch.optim as optim\n",
    "from your_dataset import YourDataset  # 导入你的数据集\n",
    "\n",
    "# 创建数据加载器\n",
    "train_dataset = YourDataset(...)  # 创建你的训练数据集\n",
    "train_loader = torch.utils.data.DataLoader(train_dataset, batch_size=32, shuffle=True)\n",
    "\n",
    "# 定义损失函数和优化器\n",
    "criterion = nn.CrossEntropyLoss()  # 示例：使用交叉熵损失\n",
    "optimizer = optim.Adam(old_model.parameters(), lr=0.001)  # 示例：使用 Adam 优化器\n",
    "\n",
    "# 开始训练\n",
    "num_epochs = 10\n",
    "for epoch in range(num_epochs):\n",
    "    old_model.train()  # 设置模型为训练模式\n",
    "    for inputs, labels in train_loader:\n",
    "        optimizer.zero_grad()  # 清零梯度\n",
    "        outputs = old_model(inputs)  # 前向传播\n",
    "        loss = criterion(outputs, labels)  # 计算损失\n",
    "        loss.backward()  # 反向传播\n",
    "        optimizer.step()  # 更新参数\n",
    "\n",
    "    # 在验证集上计算验证损失等指标\n",
    "    validation_loss = ...\n",
    "    accuracy = ...\n",
    "    \n",
    "    print(f\"Epoch [{epoch+1}/{num_epochs}] - \"\n",
    "          f\"Train Loss: {loss:.4f} - Validation Loss: {validation_loss:.4f} - Accuracy: {accuracy:.2%}\")\n",
    "\n",
    "# 保存微调后的模型\n",
    "torch.save(old_model.state_dict(), 'finetuned_model.pth')\n"
   ]
  },
  {
   "cell_type": "code",
   "execution_count": null,
   "id": "93beaf24",
   "metadata": {},
   "outputs": [],
   "source": []
  },
  {
   "cell_type": "code",
   "execution_count": null,
   "id": "bc600e8e",
   "metadata": {},
   "outputs": [],
   "source": []
  },
  {
   "cell_type": "code",
   "execution_count": null,
   "id": "9b81926c",
   "metadata": {},
   "outputs": [],
   "source": []
  },
  {
   "cell_type": "code",
   "execution_count": null,
   "id": "2c1878e7",
   "metadata": {},
   "outputs": [],
   "source": []
  },
  {
   "cell_type": "code",
   "execution_count": 84,
   "id": "87831c7b",
   "metadata": {},
   "outputs": [
    {
     "ename": "NameError",
     "evalue": "name 'poisson_label' is not defined",
     "output_type": "error",
     "traceback": [
      "\u001b[1;31m---------------------------------------------------------------------------\u001b[0m",
      "\u001b[1;31mNameError\u001b[0m                                 Traceback (most recent call last)",
      "Input \u001b[1;32mIn [84]\u001b[0m, in \u001b[0;36m<cell line: 6>\u001b[1;34m()\u001b[0m\n\u001b[0;32m      4\u001b[0m poisson_data \u001b[38;5;241m=\u001b[39m np\u001b[38;5;241m.\u001b[39marray(temp)[:, np\u001b[38;5;241m.\u001b[39mnewaxis, :, :]\n\u001b[0;32m      5\u001b[0m train_data \u001b[38;5;241m=\u001b[39m torch\u001b[38;5;241m.\u001b[39mTensor(poisson_data)\n\u001b[1;32m----> 6\u001b[0m train_labels \u001b[38;5;241m=\u001b[39m torch\u001b[38;5;241m.\u001b[39mTensor(\u001b[43mpoisson_label\u001b[49m)\n\u001b[0;32m      8\u001b[0m \u001b[38;5;66;03m# 创建数据集和数据加载器\u001b[39;00m\n\u001b[0;32m     10\u001b[0m dataset \u001b[38;5;241m=\u001b[39m torch\u001b[38;5;241m.\u001b[39mutils\u001b[38;5;241m.\u001b[39mdata\u001b[38;5;241m.\u001b[39mTensorDataset(train_data, train_labels)\n",
      "\u001b[1;31mNameError\u001b[0m: name 'poisson_label' is not defined"
     ]
    }
   ],
   "source": [
    "# 假设您的数据是 poisson_feature 和 poisson_label\n",
    "# 将数据转换为Tensor\n",
    "\n",
    "w_feature = np.array(w_feature)[:, np.newaxis, :, :]\n",
    "train_data = torch.Tensor(poisson_data)\n",
    "train_labels = torch.Tensor(poisson_label)\n",
    "\n",
    "# 创建数据集和数据加载器\n",
    "\n",
    "dataset = torch.utils.data.TensorDataset(train_data, train_labels)\n",
    "dataloader = torch.utils.data.DataLoader(dataset, batch_size=batch_size, shuffle=True)"
   ]
  },
  {
   "cell_type": "code",
   "execution_count": 771,
   "id": "f4f7dc84",
   "metadata": {},
   "outputs": [
    {
     "name": "stdout",
     "output_type": "stream",
     "text": [
      "Input batch shape: torch.Size([64, 1, 9, 18])\n",
      "Target batch shape: torch.Size([64])\n"
     ]
    }
   ],
   "source": [
    "# 查看data形状\n",
    "sample_batch = next(iter(dataloader))\n",
    "inputs, targets = sample_batch\n",
    "print(\"Input batch shape:\", inputs.shape)\n",
    "print(\"Target batch shape:\", targets.shape)"
   ]
  },
  {
   "cell_type": "code",
   "execution_count": 773,
   "id": "0b10eb6b",
   "metadata": {},
   "outputs": [],
   "source": [
    "# Define the loss function\n",
    "criterion = nn.MSELoss()\n",
    "\n",
    "# Define the optimizer\n",
    "optimizer = optim.Adam(model.parameters(), lr=0.001)"
   ]
  },
  {
   "cell_type": "code",
   "execution_count": 774,
   "id": "9274aaaa",
   "metadata": {},
   "outputs": [
    {
     "name": "stderr",
     "output_type": "stream",
     "text": [
      "D:\\python_install\\lib\\site-packages\\torch\\nn\\modules\\loss.py:536: UserWarning: Using a target size (torch.Size([64])) that is different to the input size (torch.Size([64, 1])). This will likely lead to incorrect results due to broadcasting. Please ensure they have the same size.\n",
      "  return F.mse_loss(input, target, reduction=self.reduction)\n",
      "D:\\python_install\\lib\\site-packages\\torch\\nn\\modules\\loss.py:536: UserWarning: Using a target size (torch.Size([52])) that is different to the input size (torch.Size([52, 1])). This will likely lead to incorrect results due to broadcasting. Please ensure they have the same size.\n",
      "  return F.mse_loss(input, target, reduction=self.reduction)\n"
     ]
    },
    {
     "name": "stdout",
     "output_type": "stream",
     "text": [
      "Epoch [1/50] - Loss: 0.1268\n",
      "Epoch [2/50] - Loss: 0.0539\n",
      "Epoch [3/50] - Loss: 0.0527\n",
      "Epoch [4/50] - Loss: 0.0526\n",
      "Epoch [5/50] - Loss: 0.0518\n",
      "Epoch [6/50] - Loss: 0.0532\n",
      "Epoch [7/50] - Loss: 0.0536\n",
      "Epoch [8/50] - Loss: 0.0528\n",
      "Epoch [9/50] - Loss: 0.0511\n",
      "Epoch [10/50] - Loss: 0.0537\n",
      "Epoch [11/50] - Loss: 0.0538\n",
      "Epoch [12/50] - Loss: 0.0521\n",
      "Epoch [13/50] - Loss: 0.0516\n",
      "Epoch [14/50] - Loss: 0.0520\n",
      "Epoch [15/50] - Loss: 0.0529\n",
      "Epoch [16/50] - Loss: 0.0523\n",
      "Epoch [17/50] - Loss: 0.0528\n",
      "Epoch [18/50] - Loss: 0.0519\n",
      "Epoch [19/50] - Loss: 0.0515\n",
      "Epoch [20/50] - Loss: 0.0511\n",
      "Epoch [21/50] - Loss: 0.0506\n",
      "Epoch [22/50] - Loss: 0.0507\n",
      "Epoch [23/50] - Loss: 0.0507\n",
      "Epoch [24/50] - Loss: 0.0508\n",
      "Epoch [25/50] - Loss: 0.0515\n",
      "Epoch [26/50] - Loss: 0.0511\n",
      "Epoch [27/50] - Loss: 0.0521\n",
      "Epoch [28/50] - Loss: 0.0516\n",
      "Epoch [29/50] - Loss: 0.0514\n",
      "Epoch [30/50] - Loss: 0.0521\n",
      "Epoch [31/50] - Loss: 0.0502\n",
      "Epoch [32/50] - Loss: 0.0506\n",
      "Epoch [33/50] - Loss: 0.0507\n",
      "Epoch [34/50] - Loss: 0.0511\n",
      "Epoch [35/50] - Loss: 0.0506\n",
      "Epoch [36/50] - Loss: 0.0526\n",
      "Epoch [37/50] - Loss: 0.0514\n",
      "Epoch [38/50] - Loss: 0.0512\n",
      "Epoch [39/50] - Loss: 0.0501\n",
      "Epoch [40/50] - Loss: 0.0504\n",
      "Epoch [41/50] - Loss: 0.0510\n",
      "Epoch [42/50] - Loss: 0.0506\n",
      "Epoch [43/50] - Loss: 0.0511\n",
      "Epoch [44/50] - Loss: 0.0515\n",
      "Epoch [45/50] - Loss: 0.0508\n",
      "Epoch [46/50] - Loss: 0.0512\n",
      "Epoch [47/50] - Loss: 0.0504\n",
      "Epoch [48/50] - Loss: 0.0505\n",
      "Epoch [49/50] - Loss: 0.0508\n",
      "Epoch [50/50] - Loss: 0.0504\n",
      "Training finished\n"
     ]
    }
   ],
   "source": [
    "# Training loop\n",
    "err_with_epochs = []\n",
    "for epoch in range(num_epochs):\n",
    "    running_loss = 0.0\n",
    "    for inputs, labels in dataloader:  # Assuming dataloader provides batches of inputs and labels\n",
    "        optimizer.zero_grad()  # Zero the gradients\n",
    "        \n",
    "        # Forward pass\n",
    "        outputs = model(inputs)\n",
    "        \n",
    "        # Compute the loss\n",
    "        loss = criterion(outputs, labels)\n",
    "        \n",
    "        # Backpropagation and optimization\n",
    "        loss.backward()\n",
    "        optimizer.step()\n",
    "        \n",
    "        running_loss += loss.item()\n",
    "    \n",
    "    epoch_loss = running_loss / len(dataloader)\n",
    "    err_with_epochs.append(epoch_loss)\n",
    "    print(f\"Epoch [{epoch+1}/{num_epochs}] - Loss: {epoch_loss:.4f}\")\n",
    "\n",
    "print(\"Training finished\")"
   ]
  },
  {
   "cell_type": "code",
   "execution_count": 776,
   "id": "0ba06356",
   "metadata": {},
   "outputs": [
    {
     "data": {
      "text/plain": [
       "Text(0.5, 1.0, 'loss with epochs')"
      ]
     },
     "execution_count": 776,
     "metadata": {},
     "output_type": "execute_result"
    },
    {
     "data": {
      "image/png": "[encoded data removed]",
      "text/plain": [
       "<Figure size 432x288 with 1 Axes>"
      ]
     },
     "metadata": {
      "needs_background": "light"
     },
     "output_type": "display_data"
    }
   ],
   "source": [
    "plt.plot(range(50),err_with_epochs)\n",
    "plt.title('loss with epochs')"
   ]
  },
  {
   "cell_type": "markdown",
   "id": "d8ffd7e9",
   "metadata": {},
   "source": [
    "# 使用PADRE方法作数据增强处理"
   ]
  },
  {
   "cell_type": "code",
   "execution_count": null,
   "id": "1c7b3f6d",
   "metadata": {},
   "outputs": [],
   "source": []
  },
  {
   "cell_type": "code",
   "execution_count": null,
   "id": "14f65812",
   "metadata": {},
   "outputs": [],
   "source": []
  },
  {
   "cell_type": "code",
   "execution_count": null,
   "id": "7072c45c",
   "metadata": {},
   "outputs": [],
   "source": []
  }
 ],
 "metadata": {
  "kernelspec": {
   "display_name": "Python 3 (ipykernel)",
   "language": "python",
   "name": "python3"
  },
  "language_info": {
   "codemirror_mode": {
    "name": "ipython",
    "version": 3
   },
   "file_extension": ".py",
   "mimetype": "text/x-python",
   "name": "python",
   "nbconvert_exporter": "python",
   "pygments_lexer": "ipython3",
   "version": "3.10.6"
  }
 },
 "nbformat": 4,
 "nbformat_minor": 5
}
