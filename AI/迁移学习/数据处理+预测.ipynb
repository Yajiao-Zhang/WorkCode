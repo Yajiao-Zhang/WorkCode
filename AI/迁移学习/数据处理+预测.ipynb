{
 "cells": [
  {
   "cell_type": "markdown",
   "id": "c6dcea5b",
   "metadata": {},
   "source": [
    "# 本程序是对玻璃数据库的数据进行标准化处理"
   ]
  },
  {
   "cell_type": "code",
   "execution_count": 1,
   "id": "246913db",
   "metadata": {},
   "outputs": [],
   "source": [
    "import numpy as np\n",
    "import pandas as pd\n",
    "import matplotlib.pyplot as plt\n",
    "import re\n",
    "import math"
   ]
  },
  {
   "cell_type": "code",
   "execution_count": 2,
   "id": "78a99971",
   "metadata": {},
   "outputs": [],
   "source": [
    "file_path = r'C:\\Users\\zhang\\Desktop\\桌面资料\\论文\\迁移学习\\数据库\\new_m.csv'"
   ]
  },
  {
   "cell_type": "code",
   "execution_count": 3,
   "id": "fda7d305",
   "metadata": {},
   "outputs": [],
   "source": [
    "full_data = pd.read_csv(file_path, encoding='latin-1',dtype='str')"
   ]
  },
  {
   "cell_type": "code",
   "execution_count": 4,
   "id": "50031842",
   "metadata": {},
   "outputs": [
    {
     "data": {
      "text/plain": [
       "(11557, 230)"
      ]
     },
     "execution_count": 4,
     "metadata": {},
     "output_type": "execute_result"
    }
   ],
   "source": [
    "full_data.shape"
   ]
  },
  {
   "cell_type": "code",
   "execution_count": 5,
   "id": "3577b362",
   "metadata": {},
   "outputs": [
    {
     "data": {
      "text/plain": [
       "' '"
      ]
     },
     "execution_count": 5,
     "metadata": {},
     "output_type": "execute_result"
    }
   ],
   "source": [
    "full_data.iloc[2,2]"
   ]
  },
  {
   "cell_type": "code",
   "execution_count": 6,
   "id": "aa559968",
   "metadata": {},
   "outputs": [],
   "source": [
    "# 使用嵌套循环遍历每一个元素  \n",
    "# 某一行带有*则标注为inf\n",
    "for row_index in range(full_data.shape[0]):\n",
    "    for column_index in range(full_data.shape[1]):\n",
    "        element = full_data.iloc[row_index,column_index]\n",
    "        # 如果这个是str数据\n",
    "        if isinstance(element, str):\n",
    "            # 某个位置带有*\n",
    "            if element.strip()=='*':\n",
    "                # 先标记把\n",
    "                element  = float('inf')\n",
    "            elif element.strip() == '':\n",
    "                element = 0.0\n",
    "            else:\n",
    "                element = float(element)\n",
    "            # 再取出nan\n",
    "            if math.isnan(element):\n",
    "                element=0.0\n",
    "            # 赋值    \n",
    "            full_data.iloc[row_index,column_index] = element"
   ]
  },
  {
   "cell_type": "code",
   "execution_count": 7,
   "id": "8c2f989c",
   "metadata": {},
   "outputs": [
    {
     "data": {
      "text/plain": [
       "<bound method NDFrame.head of        SiO2  B2O3  Al2O3  MgO  CaO  BaO  Li2O  Na2O  K2O  Cu2O  ...  GeS  AlN  \\\n",
       "0       0.0   0.0    0.0  0.0  0.0  0.0   0.0   0.0  0.0   0.0  ...  0.0  0.0   \n",
       "1       0.0   0.0    0.0  0.0  0.0  0.0   0.0   0.0  0.0   0.0  ...  0.0  0.0   \n",
       "2       0.0   0.0    0.0  0.0  0.0  0.0   0.0   0.0  0.0   0.0  ...  0.0  0.0   \n",
       "3       0.0   0.0    0.0  0.0  0.0  0.0   0.0   0.0  0.0   0.0  ...  0.0  0.0   \n",
       "4       0.0   0.0    0.0  0.0  0.0  0.0   0.0   0.0  0.0   0.0  ...  0.0  0.0   \n",
       "...     ...   ...    ...  ...  ...  ...   ...   ...  ...   ...  ...  ...  ...   \n",
       "11552  68.5   0.0   13.5  8.5  8.5  0.0   0.0   0.0  0.0   0.0  ...  0.0  0.0   \n",
       "11553  68.2   0.0   14.3  7.0  8.5  0.0   0.0   0.0  0.0   0.0  ...  0.0  0.0   \n",
       "11554  68.2   0.5   14.3  7.8  8.7  0.0   0.0   0.0  0.0   0.0  ...  0.0  0.0   \n",
       "11555  68.3   0.0   13.5  9.1  8.6  0.0   0.0   0.0  0.0   0.0  ...  0.0  0.0   \n",
       "11556  68.6   0.0   14.3  6.0  9.0  0.0   0.0   0.0  0.0   0.0  ...  0.0  0.0   \n",
       "\n",
       "       Si3N4   BN  TiO  Mg3N2  Na2B4O7  Density at RT ( g/cm3 )  \\\n",
       "0        0.0  0.0  0.0    0.0      0.0                    4.306   \n",
       "1        0.0  0.0  0.0    0.0      0.0                    4.594   \n",
       "2        0.0  0.0  0.0    0.0      0.0                    4.849   \n",
       "3        0.0  0.0  0.0    0.0      0.0                    5.163   \n",
       "4        0.0  0.0  0.0    0.0      0.0                     2.39   \n",
       "...      ...  ...  ...    ...      ...                      ...   \n",
       "11552    0.0  0.0  0.0    0.0      0.0                     2.53   \n",
       "11553    0.0  0.0  0.0    0.0      0.0                     2.55   \n",
       "11554    0.0  0.0  0.0    0.0      0.0                     2.52   \n",
       "11555    0.0  0.0  0.0    0.0      0.0                     2.52   \n",
       "11556    0.0  0.0  0.0    0.0      0.0                     2.55   \n",
       "\n",
       "       Expansion Coeff (Typical) ( 10-7/K )  \\\n",
       "0                                     122.0   \n",
       "1                                     123.0   \n",
       "2                                     135.0   \n",
       "3                                     151.0   \n",
       "4                                     138.0   \n",
       "...                                     ...   \n",
       "11552                                  36.5   \n",
       "11553                                  36.2   \n",
       "11554                                  34.4   \n",
       "11555                                  35.4   \n",
       "11556                                  36.3   \n",
       "\n",
       "       Glass Transition Tg (Typical) ( C )  \n",
       "0                                    399.0  \n",
       "1                                    382.0  \n",
       "2                                    368.0  \n",
       "3                                    343.0  \n",
       "4                                    263.0  \n",
       "...                                    ...  \n",
       "11552                                807.0  \n",
       "11553                                816.0  \n",
       "11554                                806.0  \n",
       "11555                                808.0  \n",
       "11556                                818.0  \n",
       "\n",
       "[11557 rows x 230 columns]>"
      ]
     },
     "execution_count": 7,
     "metadata": {},
     "output_type": "execute_result"
    }
   ],
   "source": [
    "full_data.head"
   ]
  },
  {
   "cell_type": "code",
   "execution_count": 8,
   "id": "9c499161",
   "metadata": {},
   "outputs": [
    {
     "data": {
      "text/plain": [
       "Index([' SiO2', ' B2O3', ' Al2O3', ' MgO', ' CaO', ' BaO', ' Li2O', ' Na2O',\n",
       "       ' K2O', ' Cu2O',\n",
       "       ...\n",
       "       ' GeS', ' AlN', ' Si3N4', ' BN', ' TiO', ' Mg3N2', ' Na2B4O7',\n",
       "       ' Density at RT ( g/cm3 )', ' Expansion Coeff (Typical) ( 10-7/K )',\n",
       "       ' Glass Transition Tg (Typical) ( C )'],\n",
       "      dtype='object', length=230)"
      ]
     },
     "execution_count": 8,
     "metadata": {},
     "output_type": "execute_result"
    }
   ],
   "source": [
    "full_data.columns"
   ]
  },
  {
   "cell_type": "code",
   "execution_count": 9,
   "id": "298509ab",
   "metadata": {},
   "outputs": [],
   "source": [
    "# 删除全为0的行或包含inf的行\n",
    "\n",
    "full_data = full_data[~full_data.isin([np.inf]).any(axis=1)]\n",
    "# 删除组分全为0的行\n",
    "full_data = full_data[~(full_data.iloc[:, :-3] == 0).all(axis=1)]\n",
    "# 删除最后三列中至少有一个元素为零的行\n",
    "full_data = full_data[~(full_data.iloc[:, -3:] == 0).any(axis=1)]"
   ]
  },
  {
   "cell_type": "code",
   "execution_count": 10,
   "id": "25234773",
   "metadata": {},
   "outputs": [
    {
     "data": {
      "text/plain": [
       "(10066, 230)"
      ]
     },
     "execution_count": 10,
     "metadata": {},
     "output_type": "execute_result"
    }
   ],
   "source": [
    "full_data.shape"
   ]
  },
  {
   "cell_type": "code",
   "execution_count": 11,
   "id": "88629f54",
   "metadata": {},
   "outputs": [
    {
     "data": {
      "text/plain": [
       "Index([' SiO2', ' B2O3', ' Al2O3', ' MgO', ' CaO', ' BaO', ' Li2O', ' Na2O',\n",
       "       ' K2O', ' Cu2O',\n",
       "       ...\n",
       "       ' GeS', ' AlN', ' Si3N4', ' BN', ' TiO', ' Mg3N2', ' Na2B4O7',\n",
       "       ' Density at RT ( g/cm3 )', ' Expansion Coeff (Typical) ( 10-7/K )',\n",
       "       ' Glass Transition Tg (Typical) ( C )'],\n",
       "      dtype='object', length=230)"
      ]
     },
     "execution_count": 11,
     "metadata": {},
     "output_type": "execute_result"
    }
   ],
   "source": [
    "full_data.columns"
   ]
  },
  {
   "cell_type": "code",
   "execution_count": 12,
   "id": "61317b00",
   "metadata": {},
   "outputs": [
    {
     "name": "stdout",
     "output_type": "stream",
     "text": [
      "每列不为0的元素数量:\n",
      " Density at RT ( g/cm3 )                 10066\n",
      " Expansion Coeff (Typical) ( 10-7/K )    10066\n",
      " Glass Transition Tg (Typical) ( C )     10066\n",
      "dtype: int64\n"
     ]
    }
   ],
   "source": [
    "# 创建一个布尔DataFrame，表示每个元素是否为0\n",
    "non_zero_mask = full_data.iloc[:, -3:].ne(0)\n",
    "\n",
    "# 统计每列中不为0的元素数量\n",
    "non_zero_counts = non_zero_mask.sum()\n",
    "\n",
    "# 找出不为0的元素最多的列\n",
    "most_non_zero_column = non_zero_counts.idxmax()\n",
    "\n",
    "print(\"每列不为0的元素数量:\")\n",
    "print(non_zero_counts)"
   ]
  },
  {
   "cell_type": "code",
   "execution_count": 13,
   "id": "00423ba4",
   "metadata": {},
   "outputs": [],
   "source": [
    "full_data.to_csv('m3.csv',index=False)"
   ]
  },
  {
   "cell_type": "code",
   "execution_count": 14,
   "id": "e10d8050",
   "metadata": {},
   "outputs": [
    {
     "data": {
      "text/plain": [
       "(10066, 230)"
      ]
     },
     "execution_count": 14,
     "metadata": {},
     "output_type": "execute_result"
    }
   ],
   "source": [
    "full_data.shape"
   ]
  },
  {
   "cell_type": "code",
   "execution_count": 15,
   "id": "93b73b38",
   "metadata": {},
   "outputs": [
    {
     "data": {
      "text/plain": [
       "230"
      ]
     },
     "execution_count": 15,
     "metadata": {},
     "output_type": "execute_result"
    }
   ],
   "source": [
    "len(full_data.columns)"
   ]
  },
  {
   "cell_type": "code",
   "execution_count": 16,
   "id": "df8f32fc",
   "metadata": {},
   "outputs": [],
   "source": [
    "# 将nan转为0.0\n",
    "for i in range(full_data.shape[0]):\n",
    "    for j in range(full_data.shape[1]):\n",
    "        temp = full_data.iloc[i][j]\n",
    "        if math.isnan(temp):\n",
    "            full_data.iloc[i][j] = 0.0"
   ]
  },
  {
   "cell_type": "code",
   "execution_count": 17,
   "id": "1c1b3ed0",
   "metadata": {},
   "outputs": [],
   "source": [
    "# 再检查一遍有没有nan\n",
    "for i in full_data:\n",
    "    for j in full_data[i]:\n",
    "        if math.isnan(j):\n",
    "            print(j)"
   ]
  },
  {
   "cell_type": "code",
   "execution_count": 18,
   "id": "d8418612",
   "metadata": {},
   "outputs": [
    {
     "data": {
      "text/plain": [
       "' Na2B4O7'"
      ]
     },
     "execution_count": 18,
     "metadata": {},
     "output_type": "execute_result"
    }
   ],
   "source": [
    "full_data.columns[-4]"
   ]
  },
  {
   "cell_type": "code",
   "execution_count": 19,
   "id": "9666016b",
   "metadata": {},
   "outputs": [],
   "source": [
    "# 所有组分的名称\n",
    "component_col = full_data.columns[0:-3]"
   ]
  },
  {
   "cell_type": "code",
   "execution_count": 20,
   "id": "5346c410",
   "metadata": {},
   "outputs": [
    {
     "data": {
      "text/plain": [
       "Index([' SiO2', ' B2O3', ' Al2O3', ' MgO', ' CaO', ' BaO', ' Li2O', ' Na2O',\n",
       "       ' K2O', ' Cu2O',\n",
       "       ...\n",
       "       ' Ga2S3', ' Sb2S3', ' B2S3', ' GeS', ' AlN', ' Si3N4', ' BN', ' TiO',\n",
       "       ' Mg3N2', ' Na2B4O7'],\n",
       "      dtype='object', length=227)"
      ]
     },
     "execution_count": 20,
     "metadata": {},
     "output_type": "execute_result"
    }
   ],
   "source": [
    "component_col"
   ]
  },
  {
   "cell_type": "code",
   "execution_count": 21,
   "id": "26c4ae30",
   "metadata": {},
   "outputs": [],
   "source": [
    "# 再根据特征筛选\n",
    "\n",
    "# 创建一个布尔索引，表示列中的值大于100或小于10\n",
    "condition = (full_data[' Density at RT ( g/cm3 )'] > 100) | (full_data[' Density at RT ( g/cm3 )'] < 1)\n",
    "\n",
    "# 使用布尔索引来删除满足条件的行\n",
    "full_data = full_data[~condition]\n"
   ]
  },
  {
   "cell_type": "code",
   "execution_count": 22,
   "id": "a626e648",
   "metadata": {},
   "outputs": [
    {
     "data": {
      "text/plain": [
       "(10057, 230)"
      ]
     },
     "execution_count": 22,
     "metadata": {},
     "output_type": "execute_result"
    }
   ],
   "source": [
    "full_data.shape"
   ]
  },
  {
   "cell_type": "code",
   "execution_count": 23,
   "id": "bbfa051d",
   "metadata": {},
   "outputs": [],
   "source": [
    "# 列值\n",
    "col_count = 10057"
   ]
  },
  {
   "cell_type": "markdown",
   "id": "817e20c8",
   "metadata": {},
   "source": [
    "# 要构建元素周期表的一个列表，将full——data中的值转换到另一个表中"
   ]
  },
  {
   "cell_type": "code",
   "execution_count": 24,
   "id": "4a9ebac2",
   "metadata": {},
   "outputs": [],
   "source": [
    "periodic_table = ('H', 'He', 'Li', 'Be', 'B', 'C', 'N', 'O', 'F', 'Ne',\n",
    "                  'Na', 'Mg', 'Al', 'Si', 'P', 'S', 'Cl', 'Ar', 'K', 'Ca',\n",
    "                  'Sc', 'Ti', 'V', 'Cr', 'Mn', 'Fe', 'Co', 'Ni', 'Cu', 'Zn',\n",
    "                  'Ga', 'Ge', 'As', 'Se', 'Br', 'Kr', 'Rb', 'Sr', 'Y', 'Zr',\n",
    "                  'Nb', 'Mo', 'Tc', 'Ru', 'Rh', 'Pd', 'Ag', 'Cd', 'In', 'Sn', \n",
    "                  'Sb', 'Te', 'I', 'Xe', 'Cs', 'Ba', 'La', 'Ce', 'Pr', 'Nd',\n",
    "                  'Pm', 'Sm', 'Eu', 'Gd', 'Tb', 'Dy', 'Ho', 'Er', 'Tm', 'Yb',\n",
    "                  'Lu', 'Hf', 'Ta', 'W', 'Re', 'Os', 'Ir', 'Pt', 'Au', 'Hg',\n",
    "                  'Tl', 'Pb', 'Bi', 'Po', 'At', 'Rn', 'Fr', 'Ra', 'Ac', 'Th',\n",
    "                  'Pa', 'U', 'Np', 'Pu', 'Am', 'Cm', 'Bk', 'Cf', 'Es', 'Fm', \n",
    "                  'Md', 'No', 'Lr', 'Rf', 'Db', 'Sg', 'Bh', 'Hs', 'Mt', 'Ds',\n",
    "                  'Rg', 'Cn', 'Nh', 'Fl', 'Mc', 'Lv', 'Ts', 'Og')"
   ]
  },
  {
   "cell_type": "code",
   "execution_count": 25,
   "id": "8b0541c6",
   "metadata": {},
   "outputs": [
    {
     "data": {
      "text/plain": [
       "118"
      ]
     },
     "execution_count": 25,
     "metadata": {},
     "output_type": "execute_result"
    }
   ],
   "source": [
    "len(periodic_table)"
   ]
  },
  {
   "cell_type": "code",
   "execution_count": 26,
   "id": "5a85c7ae",
   "metadata": {},
   "outputs": [],
   "source": [
    "# 创建一个元素名称为键，初始值为0的字典\n",
    "element_dict = {element: np.zeros(col_count) for element in periodic_table}"
   ]
  },
  {
   "cell_type": "code",
   "execution_count": 27,
   "id": "2288c959",
   "metadata": {},
   "outputs": [
    {
     "data": {
      "text/plain": [
       "Index([' SiO2', ' B2O3', ' Al2O3', ' MgO', ' CaO'], dtype='object')"
      ]
     },
     "execution_count": 27,
     "metadata": {},
     "output_type": "execute_result"
    }
   ],
   "source": [
    "component_col[:5]"
   ]
  },
  {
   "cell_type": "code",
   "execution_count": 28,
   "id": "1a3d7279",
   "metadata": {},
   "outputs": [
    {
     "data": {
      "text/plain": [
       "' '"
      ]
     },
     "execution_count": 28,
     "metadata": {},
     "output_type": "execute_result"
    }
   ],
   "source": [
    "component_col[0][0]"
   ]
  },
  {
   "cell_type": "code",
   "execution_count": 29,
   "id": "e582b585",
   "metadata": {},
   "outputs": [
    {
     "data": {
      "text/plain": [
       "['', 'Si', 'O', '2']"
      ]
     },
     "execution_count": 29,
     "metadata": {},
     "output_type": "execute_result"
    }
   ],
   "source": [
    "# 使用正则表达式切分字符串，忽略空格\n",
    "re.split(r'(?=[A-Z0-9])|[\\s]+', component_col[0].strip())"
   ]
  },
  {
   "cell_type": "code",
   "execution_count": 30,
   "id": "d8fed171",
   "metadata": {},
   "outputs": [
    {
     "data": {
      "text/plain": [
       "['', '', 'Si', 'O', '2']"
      ]
     },
     "execution_count": 30,
     "metadata": {},
     "output_type": "execute_result"
    }
   ],
   "source": [
    "re.split(r'(?=[A-Z0-9])|[\\s\\t]+',component_col[0])"
   ]
  },
  {
   "cell_type": "code",
   "execution_count": 31,
   "id": "52778cec",
   "metadata": {},
   "outputs": [
    {
     "name": "stdout",
     "output_type": "stream",
     "text": [
      " SiO2\n",
      " B2O3\n",
      " Al2O3\n",
      " MgO\n",
      " CaO\n",
      " BaO\n",
      " Li2O\n",
      " Na2O\n",
      " K2O\n",
      " Cu2O\n",
      " Rb2O\n",
      " Ag2O\n",
      " Cs2O\n",
      " Tl2O\n",
      " BeO\n",
      " MnO\n",
      " FeO\n",
      " CoO\n",
      " NiO\n",
      " CuO\n",
      " ZnO\n",
      " SrO\n",
      " CdO\n",
      " PbO\n",
      " SnO\n",
      " Cr2O3\n",
      " Fe2O3\n",
      " Ga2O3\n",
      " As2O3\n",
      " Y2O3\n",
      " In2O3\n",
      " Sb2O3\n",
      " La2O3\n",
      " Nd2O3\n",
      " Gd2O3\n",
      " Bi2O3\n",
      " Co2O3\n",
      " Sc2O3\n",
      " Co3O4\n",
      " Ce2O3\n",
      " Fe3O4\n",
      " TiO2\n",
      " MnO2\n",
      " GeO2\n",
      " ZrO2\n",
      " CeO2\n",
      " SnO2\n",
      " TeO2\n",
      " P2O5\n",
      " V2O5\n",
      " Nb2O5\n",
      " Ta2O5\n",
      " HfO2\n",
      " Nb2O3\n",
      " SO3\n",
      " MoO3\n",
      " WO3\n",
      " CdS\n",
      " GeS2\n",
      " OH\n",
      " Sm2O3\n",
      " Eu2O3\n",
      " Tb2O3\n",
      " Dy2O3\n",
      " Ho2O3\n",
      " Er2O3\n",
      " Yb2O3\n",
      " Pr2O3\n",
      " Pr6O11\n",
      " ThO2\n",
      " U3O8\n",
      " Ni2O3\n",
      " CdSe\n",
      " CdTe\n",
      " LiF\n",
      " NaF\n",
      " KF\n",
      " RbF\n",
      " CsF\n",
      " BeF2\n",
      " MgF2\n",
      " CaF2\n",
      " SrF2\n",
      " BaF2\n",
      " MnF2\n",
      " CuF2\n",
      " ZnF2\n",
      " CdF2\n",
      " SnF2\n",
      " PbF2\n",
      " ScF3\n",
      " YF3\n",
      " CrF3\n",
      " AlF3\n",
      " GaF3\n",
      " InF3\n",
      " LaF3\n",
      " CeF3\n",
      " NdF3\n",
      " GdF3\n",
      " YbF3\n",
      " LuF3\n",
      " TiF4\n",
      " ZrF4\n",
      " HfF4\n",
      " ThF4\n",
      " KHF2\n",
      " DyF3\n",
      " HoF3\n",
      " CoF2\n",
      " FeF3\n",
      " SmF3\n",
      " NiF2\n",
      " TbF3\n",
      " EuF3\n",
      " LiCl\n",
      " NaCl\n",
      " KCl\n",
      " RbCl\n",
      " CsCl\n",
      " MgCl2\n",
      " CaCl2\n",
      " SrCl2\n",
      " BaCl2\n",
      " ZnCl2\n",
      " CdCl2\n",
      " SnCl2\n",
      " PbCl2\n",
      " CsBr\n",
      " CdBr2\n",
      " PbBr2\n",
      " AgBr\n",
      " CsI\n",
      " AgI\n",
      " CuI\n",
      " TmF3\n",
      " ErF3\n",
      " PrF3\n",
      " Na2S\n",
      " P2S5\n",
      " Li\n",
      " B\n",
      " C\n",
      " N\n",
      " O\n",
      " F\n",
      " Na\n",
      " Mg\n",
      " Al\n",
      " Si\n",
      " P\n",
      " S\n",
      " Cl\n",
      " K\n",
      " Ca\n",
      " Ti\n",
      " V\n",
      " Cr\n",
      " Mn\n",
      " Fe\n",
      " Co\n",
      " Ni\n",
      " Cu\n",
      " Ga\n",
      " Ge\n",
      " As\n",
      " Se\n",
      " Br\n",
      " Rb\n",
      " Sr\n",
      " Y\n",
      " Zr\n",
      " Nb\n",
      " Pd\n",
      " Cd\n",
      " In\n",
      " Sb\n",
      " Te\n",
      " I\n",
      " Cs\n",
      " Ba\n",
      " La\n",
      " Ce\n",
      " Pr\n",
      " Nd\n",
      " Eu\n",
      " Gd\n",
      " Dy\n",
      " Er\n",
      " Yb\n",
      " Lu\n",
      " Ta\n",
      " W\n",
      " Pt\n",
      " Au\n",
      " Sr2\n",
      "P2\n",
      "O6\n",
      " Al3\n",
      " P3\n",
      "O9\n",
      " Ba2\n",
      "P2.1\n",
      "O6.1\n",
      " K2CrO7\n",
      " K2TiF6\n",
      " NaPO3\n",
      " Na4P2O7\n",
      " AlPO4\n",
      " LiPO3\n",
      " Ag2S\n",
      " BPO4\n",
      " Sr3\n",
      "P2.2\n",
      "O8\n",
      " As2S3\n",
      " As2Se3\n",
      " Ga2S3\n",
      " Sb2S3\n",
      " B2S3\n",
      " GeS\n",
      " AlN\n",
      " Si3N4\n",
      " BN\n",
      " TiO\n",
      " Mg3N2\n",
      " Na2B4O7\n"
     ]
    }
   ],
   "source": [
    "# 然后按照列遍历  只遍历组分列\n",
    "for column_name in full_data.columns[0:-3]:\n",
    "    temp_list = re.split(r'(?=[A-Z0-9])|[\\s\\t]+',column_name.strip())\n",
    "    temp_list = [temp for temp in temp_list if temp!='']\n",
    "    # 遍历每一列 然后给字典的对应位置加上计量单位\n",
    "    print(column_name)\n",
    "    for i in range(len(temp_list)):\n",
    "        \n",
    "        #print(temp_list[i])\n",
    "        \n",
    "        # 如果是数字，直接跳过\n",
    "        if '0'<=temp_list[i]<='9':\n",
    "            #print('00')\n",
    "            continue\n",
    "            \n",
    "        # 如果下一位越界了，或者不是数字,就直接加字典上去\n",
    "        if (i+1)>=len(temp_list) or (not ('0'<=temp_list[i+1]<='9')):\n",
    "            #print('1')\n",
    "            data_array =  np.array(full_data[column_name].values, dtype=float)\n",
    "            #print(data_array.shape)\n",
    "            element_dict[temp_list[i]] += data_array\n",
    "            \n",
    "        else: # 如果下一位是数字，乘上再加\n",
    "            #print('2')\n",
    "            data_array =  np.array(full_data[column_name].values, dtype=float)\n",
    "            element_dict[temp_list[i]] += data_array * float(temp_list[i+1])\n",
    "        #print(temp_list[i])\n",
    "        # 检查数据\n",
    "#         for j in temp_list[i]:\n",
    "#             if j!=0:\n",
    "#                 print(j)"
   ]
  },
  {
   "cell_type": "code",
   "execution_count": 32,
   "id": "5307343c",
   "metadata": {},
   "outputs": [
    {
     "data": {
      "text/plain": [
       "{'H': array([0., 0., 0., ..., 0., 0., 0.]),\n",
       " 'He': array([0., 0., 0., ..., 0., 0., 0.]),\n",
       " 'Li': array([0., 0., 0., ..., 0., 0., 0.]),\n",
       " 'Be': array([0., 0., 0., ..., 0., 0., 0.]),\n",
       " 'B': array([0., 0., 0., ..., 1., 0., 0.]),\n",
       " 'C': array([0., 0., 0., ..., 0., 0., 0.]),\n",
       " 'N': array([0., 0., 0., ..., 0., 0., 0.]),\n",
       " 'O': array([332.9, 308. , 281.3, ..., 197.8, 195.3, 197.2]),\n",
       " 'F': array([0., 0., 0., ..., 0., 0., 0.]),\n",
       " 'Ne': array([0., 0., 0., ..., 0., 0., 0.]),\n",
       " 'Na': array([0., 0., 0., ..., 0., 0., 0.]),\n",
       " 'Mg': array([0. , 0. , 0. , ..., 7.8, 9.1, 6. ]),\n",
       " 'Al': array([ 0. ,  0. ,  0. , ..., 28.6, 27. , 28.6]),\n",
       " 'Si': array([ 0. ,  0. ,  0. , ..., 68.2, 68.3, 68.6]),\n",
       " 'P': array([88.6, 72. , 54.2, ...,  0. ,  0. ,  0. ]),\n",
       " 'S': array([0., 0., 0., ..., 0., 0., 0.]),\n",
       " 'Cl': array([0., 0., 0., ..., 0., 0., 0.]),\n",
       " 'Ar': array([0., 0., 0., ..., 0., 0., 0.]),\n",
       " 'K': array([0., 0., 0., ..., 0., 0., 0.]),\n",
       " 'Ca': array([0. , 0. , 0. , ..., 8.7, 8.6, 9. ]),\n",
       " 'Sc': array([0., 0., 0., ..., 0., 0., 0.]),\n",
       " 'Ti': array([0., 0., 0., ..., 0., 0., 0.]),\n",
       " 'V': array([0., 0., 0., ..., 0., 0., 0.]),\n",
       " 'Cr': array([0., 0., 0., ..., 0., 0., 0.]),\n",
       " 'Mn': array([0., 0., 0., ..., 0., 0., 0.]),\n",
       " 'Fe': array([0., 0., 0., ..., 0., 0., 0.]),\n",
       " 'Co': array([0., 0., 0., ..., 0., 0., 0.]),\n",
       " 'Ni': array([0., 0., 0., ..., 0., 0., 0.]),\n",
       " 'Cu': array([0., 0., 0., ..., 0., 0., 0.]),\n",
       " 'Zn': array([0., 0., 0., ..., 0., 0., 0.]),\n",
       " 'Ga': array([0., 0., 0., ..., 0., 0., 0.]),\n",
       " 'Ge': array([0., 0., 0., ..., 0., 0., 0.]),\n",
       " 'As': array([0., 0., 0., ..., 0., 0., 0.]),\n",
       " 'Se': array([0., 0., 0., ..., 0., 0., 0.]),\n",
       " 'Br': array([0., 0., 0., ..., 0., 0., 0.]),\n",
       " 'Kr': array([0., 0., 0., ..., 0., 0., 0.]),\n",
       " 'Rb': array([0., 0., 0., ..., 0., 0., 0.]),\n",
       " 'Sr': array([0. , 0. , 0. , ..., 0.5, 0.5, 2.1]),\n",
       " 'Y': array([0., 0., 0., ..., 0., 0., 0.]),\n",
       " 'Zr': array([0., 0., 0., ..., 0., 0., 0.]),\n",
       " 'Nb': array([0., 0., 0., ..., 0., 0., 0.]),\n",
       " 'Mo': array([0., 0., 0., ..., 0., 0., 0.]),\n",
       " 'Tc': array([0., 0., 0., ..., 0., 0., 0.]),\n",
       " 'Ru': array([0., 0., 0., ..., 0., 0., 0.]),\n",
       " 'Rh': array([0., 0., 0., ..., 0., 0., 0.]),\n",
       " 'Pd': array([0., 0., 0., ..., 0., 0., 0.]),\n",
       " 'Ag': array([0., 0., 0., ..., 0., 0., 0.]),\n",
       " 'Cd': array([0., 0., 0., ..., 0., 0., 0.]),\n",
       " 'In': array([0., 0., 0., ..., 0., 0., 0.]),\n",
       " 'Sn': array([0., 0., 0., ..., 0., 0., 0.]),\n",
       " 'Sb': array([0., 0., 0., ..., 0., 0., 0.]),\n",
       " 'Te': array([55.7, 64. , 72.9, ...,  0. ,  0. ,  0. ]),\n",
       " 'I': array([0., 0., 0., ..., 0., 0., 0.]),\n",
       " 'Xe': array([0., 0., 0., ..., 0., 0., 0.]),\n",
       " 'Cs': array([0., 0., 0., ..., 0., 0., 0.]),\n",
       " 'Ba': array([0., 0., 0., ..., 0., 0., 0.]),\n",
       " 'La': array([0., 0., 0., ..., 0., 0., 0.]),\n",
       " 'Ce': array([0., 0., 0., ..., 0., 0., 0.]),\n",
       " 'Pr': array([0., 0., 0., ..., 0., 0., 0.]),\n",
       " 'Nd': array([0., 0., 0., ..., 0., 0., 0.]),\n",
       " 'Pm': array([0., 0., 0., ..., 0., 0., 0.]),\n",
       " 'Sm': array([0., 0., 0., ..., 0., 0., 0.]),\n",
       " 'Eu': array([0., 0., 0., ..., 0., 0., 0.]),\n",
       " 'Gd': array([0., 0., 0., ..., 0., 0., 0.]),\n",
       " 'Tb': array([0., 0., 0., ..., 0., 0., 0.]),\n",
       " 'Dy': array([0., 0., 0., ..., 0., 0., 0.]),\n",
       " 'Ho': array([0., 0., 0., ..., 0., 0., 0.]),\n",
       " 'Er': array([0., 0., 0., ..., 0., 0., 0.]),\n",
       " 'Tm': array([0., 0., 0., ..., 0., 0., 0.]),\n",
       " 'Yb': array([0., 0., 0., ..., 0., 0., 0.]),\n",
       " 'Lu': array([0., 0., 0., ..., 0., 0., 0.]),\n",
       " 'Hf': array([0., 0., 0., ..., 0., 0., 0.]),\n",
       " 'Ta': array([0., 0., 0., ..., 0., 0., 0.]),\n",
       " 'W': array([0., 0., 0., ..., 0., 0., 0.]),\n",
       " 'Re': array([0., 0., 0., ..., 0., 0., 0.]),\n",
       " 'Os': array([0., 0., 0., ..., 0., 0., 0.]),\n",
       " 'Ir': array([0., 0., 0., ..., 0., 0., 0.]),\n",
       " 'Pt': array([0., 0., 0., ..., 0., 0., 0.]),\n",
       " 'Au': array([0., 0., 0., ..., 0., 0., 0.]),\n",
       " 'Hg': array([0., 0., 0., ..., 0., 0., 0.]),\n",
       " 'Tl': array([0., 0., 0., ..., 0., 0., 0.]),\n",
       " 'Pb': array([0., 0., 0., ..., 0., 0., 0.]),\n",
       " 'Bi': array([0., 0., 0., ..., 0., 0., 0.]),\n",
       " 'Po': array([0., 0., 0., ..., 0., 0., 0.]),\n",
       " 'At': array([0., 0., 0., ..., 0., 0., 0.]),\n",
       " 'Rn': array([0., 0., 0., ..., 0., 0., 0.]),\n",
       " 'Fr': array([0., 0., 0., ..., 0., 0., 0.]),\n",
       " 'Ra': array([0., 0., 0., ..., 0., 0., 0.]),\n",
       " 'Ac': array([0., 0., 0., ..., 0., 0., 0.]),\n",
       " 'Th': array([0., 0., 0., ..., 0., 0., 0.]),\n",
       " 'Pa': array([0., 0., 0., ..., 0., 0., 0.]),\n",
       " 'U': array([0., 0., 0., ..., 0., 0., 0.]),\n",
       " 'Np': array([0., 0., 0., ..., 0., 0., 0.]),\n",
       " 'Pu': array([0., 0., 0., ..., 0., 0., 0.]),\n",
       " 'Am': array([0., 0., 0., ..., 0., 0., 0.]),\n",
       " 'Cm': array([0., 0., 0., ..., 0., 0., 0.]),\n",
       " 'Bk': array([0., 0., 0., ..., 0., 0., 0.]),\n",
       " 'Cf': array([0., 0., 0., ..., 0., 0., 0.]),\n",
       " 'Es': array([0., 0., 0., ..., 0., 0., 0.]),\n",
       " 'Fm': array([0., 0., 0., ..., 0., 0., 0.]),\n",
       " 'Md': array([0., 0., 0., ..., 0., 0., 0.]),\n",
       " 'No': array([0., 0., 0., ..., 0., 0., 0.]),\n",
       " 'Lr': array([0., 0., 0., ..., 0., 0., 0.]),\n",
       " 'Rf': array([0., 0., 0., ..., 0., 0., 0.]),\n",
       " 'Db': array([0., 0., 0., ..., 0., 0., 0.]),\n",
       " 'Sg': array([0., 0., 0., ..., 0., 0., 0.]),\n",
       " 'Bh': array([0., 0., 0., ..., 0., 0., 0.]),\n",
       " 'Hs': array([0., 0., 0., ..., 0., 0., 0.]),\n",
       " 'Mt': array([0., 0., 0., ..., 0., 0., 0.]),\n",
       " 'Ds': array([0., 0., 0., ..., 0., 0., 0.]),\n",
       " 'Rg': array([0., 0., 0., ..., 0., 0., 0.]),\n",
       " 'Cn': array([0., 0., 0., ..., 0., 0., 0.]),\n",
       " 'Nh': array([0., 0., 0., ..., 0., 0., 0.]),\n",
       " 'Fl': array([0., 0., 0., ..., 0., 0., 0.]),\n",
       " 'Mc': array([0., 0., 0., ..., 0., 0., 0.]),\n",
       " 'Lv': array([0., 0., 0., ..., 0., 0., 0.]),\n",
       " 'Ts': array([0., 0., 0., ..., 0., 0., 0.]),\n",
       " 'Og': array([0., 0., 0., ..., 0., 0., 0.])}"
      ]
     },
     "execution_count": 32,
     "metadata": {},
     "output_type": "execute_result"
    }
   ],
   "source": [
    "element_dict"
   ]
  },
  {
   "cell_type": "code",
   "execution_count": 33,
   "id": "2d68fa52",
   "metadata": {},
   "outputs": [],
   "source": [
    "for i in element_dict:\n",
    "    for j in element_dict[i]:\n",
    "        if math.isnan(j):\n",
    "            print('oooo')"
   ]
  },
  {
   "cell_type": "code",
   "execution_count": 34,
   "id": "3fdb3501",
   "metadata": {},
   "outputs": [],
   "source": [
    "# 创建元素字典\n",
    "count_ele_dict = {element:0 for element in periodic_table}"
   ]
  },
  {
   "cell_type": "code",
   "execution_count": 35,
   "id": "1a515ee3",
   "metadata": {},
   "outputs": [
    {
     "name": "stdout",
     "output_type": "stream",
     "text": [
      "H\n",
      "Au\n"
     ]
    }
   ],
   "source": [
    "# 看元素非常少的有哪些\n",
    "for i in element_dict:\n",
    "    #print(i)\n",
    "    temp_list = element_dict[i]\n",
    "    count_ele_dict[i] = np.sum(temp_list)\n",
    "    #print(np.sum(temp_list))\n",
    "    if np.sum(temp_list)<=1 and np.sum(temp_list)!=0:\n",
    "        print(i)"
   ]
  },
  {
   "cell_type": "code",
   "execution_count": 36,
   "id": "af41bef0",
   "metadata": {},
   "outputs": [],
   "source": [
    "# 看元素分布 取log10\n",
    "for i in element_dict:\n",
    "    temp_list = element_dict[i]\n",
    "    count_ele_dict[i] = np.log10(np.sum(temp_list))if np.sum(temp_list)>=1 else 0"
   ]
  },
  {
   "cell_type": "code",
   "execution_count": 37,
   "id": "8f9e6af0",
   "metadata": {},
   "outputs": [
    {
     "name": "stdout",
     "output_type": "stream",
     "text": [
      "{'H': 0, 'He': 0, 'Li': 4.574539961235142, 'Be': 2.66700441736658, 'B': 5.226980870395823, 'C': 0.3979400086720376, 'N': 3.1741616062880618, 'O': 6.30584367888922, 'F': 4.828953364964661, 'Ne': 0, 'Na': 4.988068044114781, 'Mg': 4.516407649693303, 'Al': 5.019636149819354, 'Si': 5.600965167570817, 'P': 5.056460595694592, 'S': 4.4206899596921705, 'Cl': 3.620812485741877, 'Ar': 0, 'K': 4.514563959617141, 'Ca': 4.590146447549066, 'Sc': 1.9571281976768131, 'Ti': 4.016560150089017, 'V': 4.228266393976261, 'Cr': 1.9690600402653193, 'Mn': 3.078822817067172, 'Fe': 3.7323926125762816, 'Co': 3.259557405681283, 'Ni': 2.709528794168634, 'Cu': 3.250472505282878, 'Zn': 4.453751537521689, 'Ga': 3.809752242840423, 'Ge': 4.4952055112136575, 'As': 3.8699727245022846, 'Se': 3.8792416815290442, 'Br': 2.7824224552394226, 'Kr': 0, 'Rb': 2.7054360465852505, 'Sr': 3.940000330667824, 'Y': 3.475124708441621, 'Zr': 4.113026632191144, 'Nb': 4.116514765798383, 'Mo': 3.4367162025165285, 'Tc': 0, 'Ru': 0, 'Rh': 0, 'Pd': 2.2833012287035497, 'Ag': 3.4600855991774684, 'Cd': 2.869126067682581, 'In': 2.8275501913992467, 'Sn': 3.54906214542116, 'Sb': 3.886433046696916, 'Te': 4.109265620685704, 'I': 2.8898449311985113, 'Xe': 0, 'Cs': 3.614807607199474, 'Ba': 4.413464168822423, 'La': 4.280131326910841, 'Ce': 2.4824066301998244, 'Pr': 3.051994753833436, 'Nd': 3.37330272347581, 'Pm': 0, 'Sm': 3.346888665052064, 'Eu': 1.935406489752349, 'Gd': 3.335852898894971, 'Tb': 3.0069877379115777, 'Dy': 2.7835462822703496, 'Ho': 2.0791812460476247, 'Er': 3.0486010415609437, 'Tm': 1.3010299956639813, 'Yb': 2.967547976218862, 'Lu': 1.8750612633917, 'Hf': 2.689042339028172, 'Ta': 3.3695646376735673, 'W': 3.523131730589732, 'Re': 0, 'Os': 0, 'Ir': 0, 'Pt': 2.0791812460476247, 'Au': 0, 'Hg': 0, 'Tl': 3.763348615248695, 'Pb': 4.300448752146876, 'Bi': 4.238873235898926, 'Po': 0, 'At': 0, 'Rn': 0, 'Fr': 0, 'Ra': 0, 'Ac': 0, 'Th': 2.5949888812856785, 'Pa': 0, 'U': 1.04883008652835, 'Np': 0, 'Pu': 0, 'Am': 0, 'Cm': 0, 'Bk': 0, 'Cf': 0, 'Es': 0, 'Fm': 0, 'Md': 0, 'No': 0, 'Lr': 0, 'Rf': 0, 'Db': 0, 'Sg': 0, 'Bh': 0, 'Hs': 0, 'Mt': 0, 'Ds': 0, 'Rg': 0, 'Cn': 0, 'Nh': 0, 'Fl': 0, 'Mc': 0, 'Lv': 0, 'Ts': 0, 'Og': 0}\n"
     ]
    }
   ],
   "source": [
    "print(count_ele_dict)"
   ]
  },
  {
   "cell_type": "code",
   "execution_count": 38,
   "id": "13abe043",
   "metadata": {},
   "outputs": [
    {
     "name": "stdout",
     "output_type": "stream",
     "text": [
      "6.30584367888922\n"
     ]
    }
   ],
   "source": [
    "max_count = 0\n",
    "for i in count_ele_dict:\n",
    "    max_count = count_ele_dict[i] if count_ele_dict[i]>max_count else max_count\n",
    "print(max_count)\n",
    "count_ele_dict[' '] = 0"
   ]
  },
  {
   "cell_type": "code",
   "execution_count": 44,
   "id": "06ffdfe7",
   "metadata": {},
   "outputs": [
    {
     "name": "stdout",
     "output_type": "stream",
     "text": [
      "O  : 185.0\n",
      "Al  : 20.0\n",
      "Si  : 65.0\n",
      "Ca  : 7.5\n",
      "Zn  : 10.0\n",
      "Ba  : 7.5\n"
     ]
    }
   ],
   "source": [
    "# 看一个系列的元素分布\n",
    "x = 99\n",
    "for i in element_dict:\n",
    "    if element_dict[i][x]!=0:\n",
    "        print(i,' :',element_dict[i][x])"
   ]
  },
  {
   "cell_type": "code",
   "execution_count": 45,
   "id": "988ffba8",
   "metadata": {},
   "outputs": [
    {
     "name": "stdout",
     "output_type": "stream",
     "text": [
      "所有元素的分布（取对数）\n"
     ]
    },
    {
     "data": {
      "text/plain": [
       "[<matplotlib.lines.Line2D at 0x16efbee6e90>]"
      ]
     },
     "execution_count": 45,
     "metadata": {},
     "output_type": "execute_result"
    },
    {
     "data": {
      "image/png": "[encoded data removed]",
      "text/plain": [
       "<Figure size 432x288 with 1 Axes>"
      ]
     },
     "metadata": {
      "needs_background": "light"
     },
     "output_type": "display_data"
    }
   ],
   "source": [
    "# 看一下数量的分布\n",
    "print('所有元素的分布（取对数）')\n",
    "list_q = []\n",
    "for i in count_ele_dict:\n",
    "    list_q.append(count_ele_dict[i])\n",
    "plt.plot(range(len(list_q)),list_q)"
   ]
  },
  {
   "cell_type": "code",
   "execution_count": 46,
   "id": "4b53cdbd",
   "metadata": {},
   "outputs": [
    {
     "data": {
      "text/plain": [
       "119"
      ]
     },
     "execution_count": 46,
     "metadata": {},
     "output_type": "execute_result"
    }
   ],
   "source": [
    "len(count_ele_dict)"
   ]
  },
  {
   "cell_type": "code",
   "execution_count": 47,
   "id": "47169691",
   "metadata": {},
   "outputs": [],
   "source": [
    "label = [' ' for i in range(9*18+10)]\n"
   ]
  },
  {
   "cell_type": "code",
   "execution_count": 48,
   "id": "7e448053",
   "metadata": {},
   "outputs": [
    {
     "data": {
      "text/plain": [
       "'Rf'"
      ]
     },
     "execution_count": 48,
     "metadata": {},
     "output_type": "execute_result"
    }
   ],
   "source": [
    "periodic_table[103]"
   ]
  },
  {
   "cell_type": "code",
   "execution_count": 49,
   "id": "44f60f97",
   "metadata": {},
   "outputs": [],
   "source": [
    "group_H = ['H','C','N','O','P','S','Se']\n",
    "\n",
    "group_Li = [ 'Li', 'Na', 'K', 'Rb', 'Cs', 'Fr'] #orange\n",
    "\n",
    "group_Be = ['Be', 'Mg', 'Ca', 'Sr', 'Ba', 'Ra'] # yellow\n",
    "\n",
    "group_Al = [ 'Al', 'Ga', 'In', 'Tl', 'Nh','Sn', 'Pb', 'Fl','Bi', 'Mc','Lv'] # 金属\n",
    "\n",
    "group_B = ['B', 'Si', 'Ge', 'As','Sb' ,'Te', 'Po']\n",
    "\n",
    "group_F = ['F', 'Cl', 'Br', 'I', 'At', 'Ts']  # 红\n",
    "\n",
    "group_He = ['He', 'Ne', 'Ar', 'Kr', 'Xe', 'Rn', 'Og'] # 灰\n",
    "\n",
    "group_la = [i for i in periodic_table[56:71]]\n",
    "\n",
    "group_ac = [i for i in periodic_table[88:103]]"
   ]
  },
  {
   "cell_type": "code",
   "execution_count": 50,
   "id": "fcb325ed",
   "metadata": {},
   "outputs": [],
   "source": [
    "color_dict ={ele:'white' for ele in periodic_table} \n",
    "# 再加个‘ ’\n",
    "color_dict[' '] = 'white'\n",
    "for i in group_H:\n",
    "    color_dict[i] = 'Green'\n",
    "for i in group_Li:\n",
    "    color_dict[i] = 'Pink'\n",
    "for i in group_Be:\n",
    "    color_dict[i] = 'purple'\n",
    "for i in group_Al:\n",
    "    color_dict[i] = 'Orange'\n",
    "for i in group_B:\n",
    "    color_dict[i] = 'Yellow'\n",
    "for i in group_F:\n",
    "    color_dict[i] = 'Red'\n",
    "for i in group_He:\n",
    "    color_dict[i] = 'Gray'\n",
    "for i in group_ac:\n",
    "    color_dict[i] = 'Brown'\n",
    "for i in group_la:\n",
    "    color_dict[i] = 'Teal'\n",
    "for i in periodic_table:\n",
    "    if i not in group_H and i not in group_Li and i not in group_Be and i not in group_Al and i not in group_B and i not in group_F and i not in group_He and i not in group_ac and i not in group_la:\n",
    "         color_dict[i] = 'Cyan'"
   ]
  },
  {
   "cell_type": "code",
   "execution_count": 51,
   "id": "8c57ea81",
   "metadata": {},
   "outputs": [
    {
     "data": {
      "text/plain": [
       "{'H': 'Green',\n",
       " 'He': 'Gray',\n",
       " 'Li': 'Pink',\n",
       " 'Be': 'purple',\n",
       " 'B': 'Yellow',\n",
       " 'C': 'Green',\n",
       " 'N': 'Green',\n",
       " 'O': 'Green',\n",
       " 'F': 'Red',\n",
       " 'Ne': 'Gray',\n",
       " 'Na': 'Pink',\n",
       " 'Mg': 'purple',\n",
       " 'Al': 'Orange',\n",
       " 'Si': 'Yellow',\n",
       " 'P': 'Green',\n",
       " 'S': 'Green',\n",
       " 'Cl': 'Red',\n",
       " 'Ar': 'Gray',\n",
       " 'K': 'Pink',\n",
       " 'Ca': 'purple',\n",
       " 'Sc': 'Cyan',\n",
       " 'Ti': 'Cyan',\n",
       " 'V': 'Cyan',\n",
       " 'Cr': 'Cyan',\n",
       " 'Mn': 'Cyan',\n",
       " 'Fe': 'Cyan',\n",
       " 'Co': 'Cyan',\n",
       " 'Ni': 'Cyan',\n",
       " 'Cu': 'Cyan',\n",
       " 'Zn': 'Cyan',\n",
       " 'Ga': 'Orange',\n",
       " 'Ge': 'Yellow',\n",
       " 'As': 'Yellow',\n",
       " 'Se': 'Green',\n",
       " 'Br': 'Red',\n",
       " 'Kr': 'Gray',\n",
       " 'Rb': 'Pink',\n",
       " 'Sr': 'purple',\n",
       " 'Y': 'Cyan',\n",
       " 'Zr': 'Cyan',\n",
       " 'Nb': 'Cyan',\n",
       " 'Mo': 'Cyan',\n",
       " 'Tc': 'Cyan',\n",
       " 'Ru': 'Cyan',\n",
       " 'Rh': 'Cyan',\n",
       " 'Pd': 'Cyan',\n",
       " 'Ag': 'Cyan',\n",
       " 'Cd': 'Cyan',\n",
       " 'In': 'Orange',\n",
       " 'Sn': 'Orange',\n",
       " 'Sb': 'Yellow',\n",
       " 'Te': 'Yellow',\n",
       " 'I': 'Red',\n",
       " 'Xe': 'Gray',\n",
       " 'Cs': 'Pink',\n",
       " 'Ba': 'purple',\n",
       " 'La': 'Teal',\n",
       " 'Ce': 'Teal',\n",
       " 'Pr': 'Teal',\n",
       " 'Nd': 'Teal',\n",
       " 'Pm': 'Teal',\n",
       " 'Sm': 'Teal',\n",
       " 'Eu': 'Teal',\n",
       " 'Gd': 'Teal',\n",
       " 'Tb': 'Teal',\n",
       " 'Dy': 'Teal',\n",
       " 'Ho': 'Teal',\n",
       " 'Er': 'Teal',\n",
       " 'Tm': 'Teal',\n",
       " 'Yb': 'Teal',\n",
       " 'Lu': 'Teal',\n",
       " 'Hf': 'Cyan',\n",
       " 'Ta': 'Cyan',\n",
       " 'W': 'Cyan',\n",
       " 'Re': 'Cyan',\n",
       " 'Os': 'Cyan',\n",
       " 'Ir': 'Cyan',\n",
       " 'Pt': 'Cyan',\n",
       " 'Au': 'Cyan',\n",
       " 'Hg': 'Cyan',\n",
       " 'Tl': 'Orange',\n",
       " 'Pb': 'Orange',\n",
       " 'Bi': 'Orange',\n",
       " 'Po': 'Yellow',\n",
       " 'At': 'Red',\n",
       " 'Rn': 'Gray',\n",
       " 'Fr': 'Pink',\n",
       " 'Ra': 'purple',\n",
       " 'Ac': 'Brown',\n",
       " 'Th': 'Brown',\n",
       " 'Pa': 'Brown',\n",
       " 'U': 'Brown',\n",
       " 'Np': 'Brown',\n",
       " 'Pu': 'Brown',\n",
       " 'Am': 'Brown',\n",
       " 'Cm': 'Brown',\n",
       " 'Bk': 'Brown',\n",
       " 'Cf': 'Brown',\n",
       " 'Es': 'Brown',\n",
       " 'Fm': 'Brown',\n",
       " 'Md': 'Brown',\n",
       " 'No': 'Brown',\n",
       " 'Lr': 'Brown',\n",
       " 'Rf': 'Cyan',\n",
       " 'Db': 'Cyan',\n",
       " 'Sg': 'Cyan',\n",
       " 'Bh': 'Cyan',\n",
       " 'Hs': 'Cyan',\n",
       " 'Mt': 'Cyan',\n",
       " 'Ds': 'Cyan',\n",
       " 'Rg': 'Cyan',\n",
       " 'Cn': 'Cyan',\n",
       " 'Nh': 'Orange',\n",
       " 'Fl': 'Orange',\n",
       " 'Mc': 'Orange',\n",
       " 'Lv': 'Orange',\n",
       " 'Ts': 'Red',\n",
       " 'Og': 'Gray',\n",
       " ' ': 'white'}"
      ]
     },
     "execution_count": 51,
     "metadata": {},
     "output_type": "execute_result"
    }
   ],
   "source": [
    "color_dict"
   ]
  },
  {
   "cell_type": "code",
   "execution_count": 52,
   "id": "b42be473",
   "metadata": {},
   "outputs": [],
   "source": [
    "label[1] = 'H'\n",
    "label[18] = 'He'\n",
    "label[19],label[20],label[31],label[32],label[33],label[34],label[35],label[36] = 'Li','Be','B','C','N','O','F','Ne'\n",
    "label[37],label[38] = 'Na','Mg'\n",
    "for i in range(93-49):\n",
    "    label[i+49] =  periodic_table[12+i]\n",
    "for i in range(88-72+1):\n",
    "    label[i+94] = periodic_table[71+i]\n",
    "for i in range(118-104+1):\n",
    "    label[i+112] = periodic_table[i+103]\n",
    "for i in range(71-57+1):\n",
    "    label[i+128] = periodic_table[i+56]\n",
    "for i in range(103-89+1):\n",
    "    label[i+146] = periodic_table[i+88]"
   ]
  },
  {
   "cell_type": "code",
   "execution_count": 53,
   "id": "0e9a0f46",
   "metadata": {},
   "outputs": [
    {
     "data": {
      "image/png": "[encoded data removed]",
      "text/plain": [
       "<Figure size 1080x576 with 1 Axes>"
      ]
     },
     "metadata": {
      "needs_background": "light"
     },
     "output_type": "display_data"
    }
   ],
   "source": [
    "import matplotlib.pyplot as plt\n",
    "import numpy as np\n",
    "\n",
    "# 创建一个9行18列的方格图\n",
    "rows = 9\n",
    "cols = 18\n",
    "\n",
    "# 创建一个新的图表和子图\n",
    "fig, ax = plt.subplots(figsize=(15, 8))\n",
    "\n",
    "# 绘制方格\n",
    "for row in range(rows):\n",
    "    for col in range(cols):\n",
    "        # 计算方格的编号\n",
    "        cell_number = row * cols + col + 1\n",
    "        \n",
    "        # 绘制方格\n",
    "        rect = plt.Rectangle((col, rows - row - 1), 1, 1, linewidth=1, edgecolor='black', facecolor='white')\n",
    "        ax.add_patch(rect)\n",
    "        \n",
    "        # 在方格内部标上编号\n",
    "        ax.text(col + 0.5, rows - row - 0.5, str(label[cell_number]), ha='center', va='center', fontsize=10)\n",
    "\n",
    "# 设置坐标轴\n",
    "ax.set_xlim(0, cols)\n",
    "ax.set_ylim(0, rows)\n",
    "ax.set_xticks(np.arange(0, cols + 1, 1))\n",
    "ax.set_yticks(np.arange(0, rows + 1, 1))\n",
    "ax.set_xticklabels([])\n",
    "ax.set_yticklabels([])\n",
    "\n",
    "# 设置标题\n",
    "plt.title('Grid with Numbers')\n",
    "\n",
    "# 移除所有刻度线\n",
    "ax.xaxis.set_ticks_position('none')\n",
    "ax.yaxis.set_ticks_position('none')\n",
    "\n",
    "plt.grid(True, which='both', linestyle='-', linewidth=0.5)\n",
    "plt.show()\n"
   ]
  },
  {
   "cell_type": "code",
   "execution_count": 54,
   "id": "598a8a1e",
   "metadata": {},
   "outputs": [
    {
     "data": {
      "image/png": "[encoded data removed]",
      "text/plain": [
       "<Figure size 720x432 with 1 Axes>"
      ]
     },
     "metadata": {
      "needs_background": "light"
     },
     "output_type": "display_data"
    }
   ],
   "source": [
    "import matplotlib.pyplot as plt\n",
    "import numpy as np\n",
    "\n",
    "# 创建一个9行18列的方格图\n",
    "rows = 9\n",
    "cols = 18\n",
    "\n",
    "# 创建一个新的图表和子图\n",
    "fig, ax = plt.subplots(figsize=(10, 6))\n",
    "\n",
    "# 绘制方格并上色\n",
    "for row in range(rows):\n",
    "    for col in range(cols):\n",
    "        # 计算方格的编号\n",
    "        cell_number = row * cols + col + 1\n",
    "        \n",
    "        # 计算颜色值，范围从0到1\n",
    "        color_value = (cell_number % 100) / 100\n",
    "        \n",
    "        # 绘制带有填充颜色的方格\n",
    "        rect = plt.Rectangle((col, rows - row - 1), 1, 1, linewidth=1, edgecolor='black', facecolor=color_dict[label[cell_number]])\n",
    "        ax.add_patch(rect)\n",
    "        \n",
    "        # 在方格内部标上编号\n",
    "        ax.text(col + 0.5, rows - row - 0.5, str(label[cell_number]), ha='center', va='center', fontsize=10, color='Black')\n",
    "\n",
    "# 设置坐标轴\n",
    "ax.set_xlim(0, cols)\n",
    "ax.set_ylim(0, rows)\n",
    "ax.set_xticks(np.arange(0, cols + 1, 1))\n",
    "ax.set_yticks(np.arange(0, rows + 1, 1))\n",
    "ax.set_xticklabels([])\n",
    "ax.set_yticklabels([])\n",
    "\n",
    "# 设置标题\n",
    "plt.title('Colored Grid with Numbers')\n",
    "\n",
    "# 移除所有刻度线\n",
    "ax.xaxis.set_ticks_position('none')\n",
    "ax.yaxis.set_ticks_position('none')\n",
    "\n",
    "plt.grid(True, which='both', linestyle='-', linewidth=0.5)\n",
    "plt.show()\n"
   ]
  },
  {
   "cell_type": "code",
   "execution_count": 55,
   "id": "b31544ff",
   "metadata": {},
   "outputs": [
    {
     "data": {
      "image/png": "[encoded data removed]",
      "text/plain": [
       "<Figure size 3000x1800 with 2 Axes>"
      ]
     },
     "metadata": {
      "needs_background": "light"
     },
     "output_type": "display_data"
    }
   ],
   "source": [
    "import matplotlib.pyplot as plt\n",
    "import numpy as np\n",
    "import matplotlib.cm as cm\n",
    "\n",
    "# 创建一个9行18列的方格图\n",
    "rows = 9\n",
    "cols = 18\n",
    "\n",
    "# 生成一些示例数值（范围从0到100）\n",
    "values = np.random.randint(0, 101, size=(rows, cols))\n",
    "\n",
    "# 创建一个颜色映射，从淡黄色到深绿色\n",
    "cmap = cm.get_cmap('YlGn')\n",
    "\n",
    "# 创建一个新的图表和子图\n",
    "fig, ax = plt.subplots(figsize=(10, 6))\n",
    "# 设置图像的DPI为300\n",
    "fig.dpi = 300\n",
    "# 绘制方格并上色，根据数值大小映射颜色\n",
    "for row in range(rows):\n",
    "    for col in range(cols):\n",
    "        # 计算方格的编号\n",
    "        cell_number = row * cols + col + 1\n",
    "        \n",
    "        # 计算颜色值，范围从0到1\n",
    "        # print(label[cell_number])\n",
    "        color_value = count_ele_dict[label[cell_number]]/max_count\n",
    "        facecolor = cmap(color_value)\n",
    "        # 有元素但是这个元素值为0的设置为灰色\n",
    "        if label[cell_number] in periodic_table and  count_ele_dict[label[cell_number]]==0:\n",
    "            \n",
    "            pass#facecolor= 'lightgray'\n",
    "        # 绘制带有填充颜色的方格\n",
    "        rect = plt.Rectangle((col, rows - row - 1), 1, 1, linewidth=1, edgecolor='black', facecolor=facecolor)\n",
    "        ax.add_patch(rect)\n",
    "        \n",
    "        # 在方格内部标上编号\n",
    "        ax.text(col + 0.5, rows - row - 0.5, str(label[cell_number]), ha='center', va='center', fontsize=10, color='Black')\n",
    "\n",
    "# 设置坐标轴\n",
    "ax.set_xlim(0, cols)\n",
    "ax.set_ylim(0, rows)\n",
    "ax.set_xticks(np.arange(0, cols + 1, 1))\n",
    "ax.set_yticks(np.arange(0, rows + 1, 1))\n",
    "ax.set_xticklabels([])\n",
    "ax.set_yticklabels([])\n",
    "\n",
    "# 设置标题\n",
    "plt.title('Distribution of Elements in Glass Overall')\n",
    "\n",
    "# 移除所有刻度线\n",
    "ax.xaxis.set_ticks_position('none')\n",
    "ax.yaxis.set_ticks_position('none')\n",
    "\n",
    "plt.grid(True, which='both', linestyle='-', linewidth=0.5)\n",
    "\n",
    "# 添加颜色映射的颜色条\n",
    "sm = plt.cm.ScalarMappable(cmap=cmap, norm=plt.Normalize(vmin=0, vmax=1))\n",
    "sm.set_array([])\n",
    "cbar = plt.colorbar(sm)\n",
    "cbar.set_label('Element Count')\n",
    "# 设置颜色条的标识\n",
    "cbar.set_ticks([0,np.log10(1e1)/np.log10(1e5),np.log10(1e3)/np.log10(1e5), np.log10(1e5)/np.log10(1e5)])  # 自定义标识的位置\n",
    "cbar.set_ticklabels(['0','1e1', '1e3', '1e5'])  # 自定义标识的标签\n",
    "\n",
    "plt.show()\n"
   ]
  },
  {
   "cell_type": "code",
   "execution_count": 56,
   "id": "71b73d48",
   "metadata": {},
   "outputs": [
    {
     "data": {
      "text/plain": [
       "5.0"
      ]
     },
     "execution_count": 56,
     "metadata": {},
     "output_type": "execute_result"
    }
   ],
   "source": [
    "np.log10(1e5)"
   ]
  },
  {
   "cell_type": "markdown",
   "id": "cc402901",
   "metadata": {},
   "source": [
    "# 然后对label进行分布分析"
   ]
  },
  {
   "cell_type": "code",
   "execution_count": 57,
   "id": "7f9822f8",
   "metadata": {},
   "outputs": [
    {
     "data": {
      "text/html": [
       "<div>\n",
       "<style scoped>\n",
       "    .dataframe tbody tr th:only-of-type {\n",
       "        vertical-align: middle;\n",
       "    }\n",
       "\n",
       "    .dataframe tbody tr th {\n",
       "        vertical-align: top;\n",
       "    }\n",
       "\n",
       "    .dataframe thead th {\n",
       "        text-align: right;\n",
       "    }\n",
       "</style>\n",
       "<table border=\"1\" class=\"dataframe\">\n",
       "  <thead>\n",
       "    <tr style=\"text-align: right;\">\n",
       "      <th></th>\n",
       "      <th>Density at RT ( g/cm3 )</th>\n",
       "      <th>Expansion Coeff (Typical) ( 10-7/K )</th>\n",
       "      <th>Glass Transition Tg (Typical) ( C )</th>\n",
       "    </tr>\n",
       "  </thead>\n",
       "  <tbody>\n",
       "    <tr>\n",
       "      <th>0</th>\n",
       "      <td>4.306</td>\n",
       "      <td>122.0</td>\n",
       "      <td>399.0</td>\n",
       "    </tr>\n",
       "    <tr>\n",
       "      <th>1</th>\n",
       "      <td>4.594</td>\n",
       "      <td>123.0</td>\n",
       "      <td>382.0</td>\n",
       "    </tr>\n",
       "  </tbody>\n",
       "</table>\n",
       "</div>"
      ],
      "text/plain": [
       "   Density at RT ( g/cm3 )  Expansion Coeff (Typical) ( 10-7/K )  \\\n",
       "0                    4.306                                 122.0   \n",
       "1                    4.594                                 123.0   \n",
       "\n",
       "   Glass Transition Tg (Typical) ( C )  \n",
       "0                                399.0  \n",
       "1                                382.0  "
      ]
     },
     "execution_count": 57,
     "metadata": {},
     "output_type": "execute_result"
    }
   ],
   "source": [
    "full_data.iloc[:2,-3:]"
   ]
  },
  {
   "cell_type": "code",
   "execution_count": 58,
   "id": "f0ceac79",
   "metadata": {},
   "outputs": [
    {
     "data": {
      "text/plain": [
       "Index([' SiO2', ' B2O3', ' Al2O3', ' MgO', ' CaO', ' BaO', ' Li2O', ' Na2O',\n",
       "       ' K2O', ' Cu2O',\n",
       "       ...\n",
       "       ' GeS', ' AlN', ' Si3N4', ' BN', ' TiO', ' Mg3N2', ' Na2B4O7',\n",
       "       ' Density at RT ( g/cm3 )', ' Expansion Coeff (Typical) ( 10-7/K )',\n",
       "       ' Glass Transition Tg (Typical) ( C )'],\n",
       "      dtype='object', length=230)"
      ]
     },
     "execution_count": 58,
     "metadata": {},
     "output_type": "execute_result"
    }
   ],
   "source": [
    "full_data.columns"
   ]
  },
  {
   "cell_type": "code",
   "execution_count": 59,
   "id": "bacc24d1",
   "metadata": {},
   "outputs": [
    {
     "name": "stdout",
     "output_type": "stream",
     "text": [
      "1.607 15.85\n"
     ]
    }
   ],
   "source": [
    "# label_1为density\n",
    "label_list1 = []\n",
    "for i in full_data[' Density at RT ( g/cm3 )']:\n",
    "#     # 改一改异常值\n",
    "#     if i>=15.85:\n",
    "#         i=15.85\n",
    "#     if i<1.0:\n",
    "#         print(i)\n",
    "    \n",
    "    label_list1.append(i)\n",
    "min_label_1,max_label_1 = min(label_list1),max(label_list1)\n",
    "print(min_label_1, max_label_1)"
   ]
  },
  {
   "cell_type": "code",
   "execution_count": 60,
   "id": "cef7c730",
   "metadata": {},
   "outputs": [
    {
     "data": {
      "text/plain": [
       "<matplotlib.collections.PathCollection at 0x16efc7b8040>"
      ]
     },
     "execution_count": 60,
     "metadata": {},
     "output_type": "execute_result"
    },
    {
     "data": {
      "image/png": "[encoded data removed]",
      "text/plain": [
       "<Figure size 432x288 with 1 Axes>"
      ]
     },
     "metadata": {
      "needs_background": "light"
     },
     "output_type": "display_data"
    }
   ],
   "source": [
    "plt.scatter(range(len(label_list1)),label_list1, s=1)"
   ]
  },
  {
   "cell_type": "code",
   "execution_count": 62,
   "id": "a918821b",
   "metadata": {},
   "outputs": [
    {
     "name": "stdout",
     "output_type": "stream",
     "text": [
      "3.2659027748831657 1.123099899704337\n"
     ]
    }
   ],
   "source": [
    "# 转化为标准的值  初始化\n",
    "label_list1 = np.array(label_list1)\n",
    "mean_1,delta_1 = label_list1.mean(), label_list1.std()\n",
    "print(mean_1,delta_1)"
   ]
  },
  {
   "cell_type": "code",
   "execution_count": 63,
   "id": "91cff477",
   "metadata": {},
   "outputs": [],
   "source": [
    "normal_label_1 = (label_list1-mean_1)/delta_1"
   ]
  },
  {
   "cell_type": "code",
   "execution_count": 64,
   "id": "9d9cfc2a",
   "metadata": {},
   "outputs": [
    {
     "data": {
      "text/plain": [
       "10057"
      ]
     },
     "execution_count": 64,
     "metadata": {},
     "output_type": "execute_result"
    }
   ],
   "source": [
    "len(normal_label_1)"
   ]
  },
  {
   "cell_type": "code",
   "execution_count": 65,
   "id": "025e10c6",
   "metadata": {},
   "outputs": [
    {
     "data": {
      "text/plain": [
       "1.0000000000000002"
      ]
     },
     "execution_count": 65,
     "metadata": {},
     "output_type": "execute_result"
    }
   ],
   "source": [
    "normal_label_1.std()"
   ]
  },
  {
   "cell_type": "code",
   "execution_count": 66,
   "id": "4c379879",
   "metadata": {},
   "outputs": [
    {
     "data": {
      "text/plain": [
       "2.147807414448349e-16"
      ]
     },
     "execution_count": 66,
     "metadata": {},
     "output_type": "execute_result"
    }
   ],
   "source": [
    "normal_label_1.mean()"
   ]
  },
  {
   "cell_type": "code",
   "execution_count": 67,
   "id": "0ade0980",
   "metadata": {},
   "outputs": [
    {
     "data": {
      "text/plain": [
       "<matplotlib.collections.PathCollection at 0x16e8465cfa0>"
      ]
     },
     "execution_count": 67,
     "metadata": {},
     "output_type": "execute_result"
    },
    {
     "data": {
      "image/png": "[encoded data removed]",
      "text/plain": [
       "<Figure size 432x288 with 1 Axes>"
      ]
     },
     "metadata": {
      "needs_background": "light"
     },
     "output_type": "display_data"
    }
   ],
   "source": [
    "plt.scatter(range(len(normal_label_1)),normal_label_1, s=1)"
   ]
  },
  {
   "cell_type": "code",
   "execution_count": 68,
   "id": "5b0393a5",
   "metadata": {},
   "outputs": [
    {
     "data": {
      "text/plain": [
       "<matplotlib.collections.PathCollection at 0x16e846a2590>"
      ]
     },
     "execution_count": 68,
     "metadata": {},
     "output_type": "execute_result"
    },
    {
     "data": {
      "image/png": "[encoded data removed]",
      "text/plain": [
       "<Figure size 432x288 with 1 Axes>"
      ]
     },
     "metadata": {
      "needs_background": "light"
     },
     "output_type": "display_data"
    }
   ],
   "source": [
    "plt.scatter(range(len(label_list1)),label_list1, s=1)"
   ]
  },
  {
   "cell_type": "markdown",
   "id": "4eb0af46",
   "metadata": {},
   "source": [
    "# 直接训练得到泊松比"
   ]
  },
  {
   "cell_type": "code",
   "execution_count": 75,
   "id": "5e241eec",
   "metadata": {},
   "outputs": [
    {
     "data": {
      "text/plain": [
       "10057"
      ]
     },
     "execution_count": 75,
     "metadata": {},
     "output_type": "execute_result"
    }
   ],
   "source": [
    "len(label_list1)"
   ]
  },
  {
   "cell_type": "code",
   "execution_count": 76,
   "id": "426d0380",
   "metadata": {},
   "outputs": [
    {
     "name": "stdout",
     "output_type": "stream",
     "text": [
      "{'H': 0, 'He': 17, 'Li': 18, 'Be': 19, 'B': 30, 'C': 31, 'N': 32, 'O': 33, 'F': 34, 'Ne': 35, 'Na': 36, 'Mg': 37, 'Al': 48, 'Si': 49, 'P': 50, 'S': 51, 'Cl': 52, 'Ar': 53, 'K': 54, 'Ca': 55, 'Sc': 56, 'Ti': 57, 'V': 58, 'Cr': 59, 'Mn': 60, 'Fe': 61, 'Co': 62, 'Ni': 63, 'Cu': 64, 'Zn': 65, 'Ga': 66, 'Ge': 67, 'As': 68, 'Se': 69, 'Br': 70, 'Kr': 71, 'Rb': 72, 'Sr': 73, 'Y': 74, 'Zr': 75, 'Nb': 76, 'Mo': 77, 'Tc': 78, 'Ru': 79, 'Rh': 80, 'Pd': 81, 'Ag': 82, 'Cd': 83, 'In': 84, 'Sn': 85, 'Sb': 86, 'Te': 87, 'I': 88, 'Xe': 89, 'Cs': 90, 'Ba': 91, 'Hf': 93, 'Ta': 94, 'W': 95, 'Re': 96, 'Os': 97, 'Ir': 98, 'Pt': 99, 'Au': 100, 'Hg': 101, 'Tl': 102, 'Pb': 103, 'Bi': 104, 'Po': 105, 'At': 106, 'Rn': 107, 'Fr': 108, 'Ra': 109, 'Rf': 111, 'Db': 112, 'Sg': 113, 'Bh': 114, 'Hs': 115, 'Mt': 116, 'Ds': 117, 'Rg': 118, 'Cn': 119, 'Nh': 120, 'Fl': 121, 'Mc': 122, 'Lv': 123, 'Ts': 124, 'Og': 125, 'La': 127, 'Ce': 128, 'Pr': 129, 'Nd': 130, 'Pm': 131, 'Sm': 132, 'Eu': 133, 'Gd': 134, 'Tb': 135, 'Dy': 136, 'Ho': 137, 'Er': 138, 'Tm': 139, 'Yb': 140, 'Lu': 141, 'Ac': 145, 'Th': 146, 'Pa': 147, 'U': 148, 'Np': 149, 'Pu': 150, 'Am': 151, 'Cm': 152, 'Bk': 153, 'Cf': 154, 'Es': 155, 'Fm': 156, 'Md': 157, 'No': 158, 'Lr': 159}\n",
      "{'H': [0, 0], 'He': [0, 17], 'Li': [1, 0], 'Be': [1, 1], 'B': [1, 12], 'C': [1, 13], 'N': [1, 14], 'O': [1, 15], 'F': [1, 16], 'Ne': [1, 17], 'Na': [2, 0], 'Mg': [2, 1], 'Al': [2, 12], 'Si': [2, 13], 'P': [2, 14], 'S': [2, 15], 'Cl': [2, 16], 'Ar': [2, 17], 'K': [3, 0], 'Ca': [3, 1], 'Sc': [3, 2], 'Ti': [3, 3], 'V': [3, 4], 'Cr': [3, 5], 'Mn': [3, 6], 'Fe': [3, 7], 'Co': [3, 8], 'Ni': [3, 9], 'Cu': [3, 10], 'Zn': [3, 11], 'Ga': [3, 12], 'Ge': [3, 13], 'As': [3, 14], 'Se': [3, 15], 'Br': [3, 16], 'Kr': [3, 17], 'Rb': [4, 0], 'Sr': [4, 1], 'Y': [4, 2], 'Zr': [4, 3], 'Nb': [4, 4], 'Mo': [4, 5], 'Tc': [4, 6], 'Ru': [4, 7], 'Rh': [4, 8], 'Pd': [4, 9], 'Ag': [4, 10], 'Cd': [4, 11], 'In': [4, 12], 'Sn': [4, 13], 'Sb': [4, 14], 'Te': [4, 15], 'I': [4, 16], 'Xe': [4, 17], 'Cs': [5, 0], 'Ba': [5, 1], 'Hf': [5, 3], 'Ta': [5, 4], 'W': [5, 5], 'Re': [5, 6], 'Os': [5, 7], 'Ir': [5, 8], 'Pt': [5, 9], 'Au': [5, 10], 'Hg': [5, 11], 'Tl': [5, 12], 'Pb': [5, 13], 'Bi': [5, 14], 'Po': [5, 15], 'At': [5, 16], 'Rn': [5, 17], 'Fr': [6, 0], 'Ra': [6, 1], 'Rf': [6, 3], 'Db': [6, 4], 'Sg': [6, 5], 'Bh': [6, 6], 'Hs': [6, 7], 'Mt': [6, 8], 'Ds': [6, 9], 'Rg': [6, 10], 'Cn': [6, 11], 'Nh': [6, 12], 'Fl': [6, 13], 'Mc': [6, 14], 'Lv': [6, 15], 'Ts': [6, 16], 'Og': [6, 17], 'La': [7, 1], 'Ce': [7, 2], 'Pr': [7, 3], 'Nd': [7, 4], 'Pm': [7, 5], 'Sm': [7, 6], 'Eu': [7, 7], 'Gd': [7, 8], 'Tb': [7, 9], 'Dy': [7, 10], 'Ho': [7, 11], 'Er': [7, 12], 'Tm': [7, 13], 'Yb': [7, 14], 'Lu': [7, 15], 'Ac': [8, 1], 'Th': [8, 2], 'Pa': [8, 3], 'U': [8, 4], 'Np': [8, 5], 'Pu': [8, 6], 'Am': [8, 7], 'Cm': [8, 8], 'Bk': [8, 9], 'Cf': [8, 10], 'Es': [8, 11], 'Fm': [8, 12], 'Md': [8, 13], 'No': [8, 14], 'Lr': [8, 15]}\n"
     ]
    }
   ],
   "source": [
    "# 生成坐标\n",
    "element_order_dic = {}\n",
    "for i in range(len(label)):\n",
    "    if label[i]!=' ':\n",
    "        element_order_dic[label[i]]=i-1\n",
    "print(element_order_dic)\n",
    "element_order_dic_2d = {}\n",
    "for i in element_order_dic:\n",
    "    element_order_dic_2d[i]=[element_order_dic[i]//18,element_order_dic[i]%18]\n",
    "print(element_order_dic_2d)"
   ]
  },
  {
   "cell_type": "code",
   "execution_count": 77,
   "id": "6d1aa54a",
   "metadata": {},
   "outputs": [],
   "source": [
    "feature = []\n",
    "# 从组分列表里得出元素的ptr图\n",
    "for com in range(col_count):\n",
    "    temp_sum = 0\n",
    "    cal_com_percentage = {ele:0.0 for ele in periodic_table} # 原表不变，这个用来生成ptr\n",
    "    for i in element_dict:\n",
    "        value = element_dict[i][com]\n",
    "        if value!=0:\n",
    "            #print(value)\n",
    "            temp_sum += value\n",
    "    for i in element_dict:\n",
    "        value = element_dict[i][com]\n",
    "        if value!=0:\n",
    "            cal_com_percentage[i] = value/temp_sum\n",
    "    # 已经获得了一帧的数据，再将数据写成ptr格式，存入list\n",
    "    one_frame = np.zeros((9, 18), dtype=float)\n",
    "    # 或者元素对应的坐标值\n",
    "    for i in cal_com_percentage:\n",
    "        if cal_com_percentage[i]!=0:\n",
    "            [x,y] = element_order_dic_2d[i]\n",
    "            one_frame[x,y]=cal_com_percentage[i]\n",
    "    feature.append(one_frame)"
   ]
  },
  {
   "cell_type": "code",
   "execution_count": 83,
   "id": "a43f9fbe",
   "metadata": {},
   "outputs": [
    {
     "data": {
      "text/plain": [
       "array([[0.        , 0.        , 0.        , 0.        , 0.        ,\n",
       "        0.        , 0.        , 0.        , 0.        , 0.        ,\n",
       "        0.        , 0.        , 0.        , 0.        , 0.        ,\n",
       "        0.        , 0.        , 0.        ],\n",
       "       [0.        , 0.        , 0.        , 0.        , 0.        ,\n",
       "        0.        , 0.        , 0.        , 0.        , 0.        ,\n",
       "        0.        , 0.        , 0.05256694, 0.        , 0.        ,\n",
       "        0.66664912, 0.        , 0.        ],\n",
       "       [0.        , 0.        , 0.        , 0.        , 0.        ,\n",
       "        0.        , 0.        , 0.        , 0.        , 0.        ,\n",
       "        0.        , 0.        , 0.        , 0.        , 0.2104432 ,\n",
       "        0.        , 0.        , 0.        ],\n",
       "       [0.03505632, 0.        , 0.        , 0.        , 0.        ,\n",
       "        0.        , 0.        , 0.        , 0.        , 0.        ,\n",
       "        0.        , 0.01752816, 0.        , 0.        , 0.        ,\n",
       "        0.        , 0.        , 0.        ],\n",
       "       [0.        , 0.        , 0.        , 0.        , 0.        ,\n",
       "        0.        , 0.        , 0.        , 0.        , 0.        ,\n",
       "        0.        , 0.        , 0.        , 0.        , 0.        ,\n",
       "        0.        , 0.        , 0.        ],\n",
       "       [0.        , 0.        , 0.        , 0.        , 0.        ,\n",
       "        0.        , 0.        , 0.        , 0.        , 0.        ,\n",
       "        0.        , 0.        , 0.        , 0.        , 0.        ,\n",
       "        0.        , 0.        , 0.        ],\n",
       "       [0.        , 0.        , 0.        , 0.        , 0.        ,\n",
       "        0.        , 0.        , 0.        , 0.        , 0.        ,\n",
       "        0.        , 0.        , 0.        , 0.        , 0.        ,\n",
       "        0.        , 0.        , 0.        ],\n",
       "       [0.        , 0.00901849, 0.        , 0.        , 0.00873776,\n",
       "        0.        , 0.        , 0.        , 0.        , 0.        ,\n",
       "        0.        , 0.        , 0.        , 0.        , 0.        ,\n",
       "        0.        , 0.        , 0.        ],\n",
       "       [0.        , 0.        , 0.        , 0.        , 0.        ,\n",
       "        0.        , 0.        , 0.        , 0.        , 0.        ,\n",
       "        0.        , 0.        , 0.        , 0.        , 0.        ,\n",
       "        0.        , 0.        , 0.        ]])"
      ]
     },
     "execution_count": 83,
     "metadata": {},
     "output_type": "execute_result"
    }
   ],
   "source": [
    "feature[999]"
   ]
  },
  {
   "cell_type": "code",
   "execution_count": 84,
   "id": "a629ddea",
   "metadata": {},
   "outputs": [],
   "source": [
    "def non_zero_indices(matrix):\n",
    "    indices = []\n",
    "    for row_idx, row in enumerate(matrix):\n",
    "        for col_idx, value in enumerate(row):\n",
    "            if value != 0:\n",
    "                indices.append((row_idx, col_idx))\n",
    "    return indices"
   ]
  },
  {
   "cell_type": "code",
   "execution_count": 92,
   "id": "602d45b0",
   "metadata": {},
   "outputs": [
    {
     "name": "stdout",
     "output_type": "stream",
     "text": [
      "B 0.0\n",
      "O 332.9\n",
      "P 88.6\n",
      "K 0.0\n",
      "Zn 0.0\n",
      "La 0.0\n",
      "Nd 0.0\n"
     ]
    }
   ],
   "source": [
    "for i in element_dict:\n",
    "    if element_dict[i][999]!=0.0:\n",
    "        print(i,element_dict[i][0])"
   ]
  },
  {
   "cell_type": "code",
   "execution_count": 89,
   "id": "04affa98",
   "metadata": {},
   "outputs": [
    {
     "data": {
      "text/plain": [
       "[(1, 12), (1, 15), (2, 14), (3, 0), (3, 11), (7, 1), (7, 4)]"
      ]
     },
     "execution_count": 89,
     "metadata": {},
     "output_type": "execute_result"
    }
   ],
   "source": [
    "non_zero_indices(feature[999])"
   ]
  },
  {
   "cell_type": "code",
   "execution_count": 91,
   "id": "2208e4a2",
   "metadata": {},
   "outputs": [
    {
     "data": {
      "image/png": "[encoded data removed]",
      "text/plain": [
       "<Figure size 1080x576 with 1 Axes>"
      ]
     },
     "metadata": {
      "needs_background": "light"
     },
     "output_type": "display_data"
    }
   ],
   "source": [
    "# 创建一个9行18列的方格图\n",
    "rows = 9\n",
    "cols = 18\n",
    "draw_list = feature[999]\n",
    "# 创建一个新的图表和子图\n",
    "fig, ax = plt.subplots(figsize=(15, 8))\n",
    "\n",
    "# 绘制方格\n",
    "for row in range(rows):\n",
    "    for col in range(cols):\n",
    "        # 计算方格的编号\n",
    "        cell_number = row * cols + col + 1\n",
    "        # 设置输出的值\n",
    "        facecolor='white'\n",
    "        print_value = 0\n",
    "        if draw_list[row][col]!=0:\n",
    "            print_value = round(draw_list[row][col],2)\n",
    "            facecolor = 'lightpink'\n",
    "        # 绘制方格\n",
    "        rect = plt.Rectangle((col, rows - row - 1), 1, 1, linewidth=1, edgecolor='black', facecolor=facecolor)\n",
    "        ax.add_patch(rect)\n",
    "        \n",
    "        # 在方格内部标上编号\n",
    "        ax.text(col + 0.5, rows - row - 0.5, str(print_value), ha='center', va='center', fontsize=10)\n",
    "\n",
    "# 设置坐标轴\n",
    "ax.set_xlim(0, cols)\n",
    "ax.set_ylim(0, rows)\n",
    "ax.set_xticks(np.arange(0, cols + 1, 1))\n",
    "ax.set_yticks(np.arange(0, rows + 1, 1))\n",
    "ax.set_xticklabels([])\n",
    "ax.set_yticklabels([])\n",
    "\n",
    "# 设置标题\n",
    "plt.title('PTR of Glass(O:300,Mg:46,Al:14,P:93) ')\n",
    "\n",
    "# 移除所有刻度线\n",
    "ax.xaxis.set_ticks_position('none')\n",
    "ax.yaxis.set_ticks_position('none')\n",
    "\n",
    "plt.grid(True, which='both', linestyle='-', linewidth=0.5)\n",
    "plt.show()\n"
   ]
  },
  {
   "cell_type": "code",
   "execution_count": 93,
   "id": "efd5fb84",
   "metadata": {},
   "outputs": [
    {
     "name": "stdout",
     "output_type": "stream",
     "text": [
      "10057\n"
     ]
    }
   ],
   "source": [
    "# 说明生成的ptr表正确\n",
    "print(len(feature))"
   ]
  },
  {
   "cell_type": "markdown",
   "id": "6fe21e20",
   "metadata": {},
   "source": [
    "# 建立网络开始训练"
   ]
  },
  {
   "cell_type": "code",
   "execution_count": 208,
   "id": "13edc5b4",
   "metadata": {},
   "outputs": [],
   "source": [
    "import torch\n",
    "import torch.nn as nn\n",
    "import torch.optim as optim\n",
    "from torch.utils.data import Dataset, DataLoader\n",
    "import torch.nn.functional as F\n",
    "import copy\n",
    "from sklearn.model_selection import KFold"
   ]
  },
  {
   "cell_type": "code",
   "execution_count": 222,
   "id": "0f9650e2",
   "metadata": {},
   "outputs": [],
   "source": [
    "import torch\n",
    "import torch.nn as nn\n",
    "\n",
    "class CNN(nn.Module):\n",
    "    def __init__(self):\n",
    "        super(CNN, self).__init__()\n",
    "        \n",
    "        self.conv1 = nn.Conv2d(in_channels=1, out_channels=16, kernel_size=3, stride=1, padding=1)\n",
    "        self.bn1 = nn.BatchNorm2d(16)  # Batch Normalization layer\n",
    "        self.relu = nn.ReLU()\n",
    "        self.pool1 = nn.MaxPool2d(kernel_size=2, stride=2)\n",
    "        \n",
    "        self.conv2 = nn.Conv2d(in_channels=16, out_channels=32, kernel_size=3, stride=1, padding=1)\n",
    "        self.bn2 = nn.BatchNorm2d(32)  # Batch Normalization layer\n",
    "        self.pool2 = nn.MaxPool2d(kernel_size=2, stride=2)\n",
    "        \n",
    "        self.conv3 = nn.Conv2d(in_channels=32, out_channels=64, kernel_size=3, stride=1, padding=1)\n",
    "        self.bn3 = nn.BatchNorm2d(64)  # Batch Normalization layer\n",
    "        self.pool3 = nn.MaxPool2d(kernel_size=2, stride=2)\n",
    "        \n",
    "        self.fc1 = nn.Linear(64*2, 64)\n",
    "        self.fc2 = nn.Linear(64, 1)  # 输出一个回归值\n",
    "\n",
    "    def forward(self, x):\n",
    "        x = self.pool1(self.relu(self.bn1(self.conv1(x))))\n",
    "        #print(x.shape)\n",
    "        x = self.pool2(self.relu(self.bn2(self.conv2(x))))\n",
    "        #print(x.shape)\n",
    "        x = self.pool3(self.relu(self.bn3(self.conv3(x))))\n",
    "        #print(x.shape)\n",
    "        x = x.view(x.size(0), -1)  \n",
    "        #print(x.shape)\n",
    "        x = self.relu(self.fc1(x))\n",
    "        x = self.fc2(x)\n",
    "        return x"
   ]
  },
  {
   "cell_type": "code",
   "execution_count": 223,
   "id": "51bb1dcb",
   "metadata": {},
   "outputs": [],
   "source": [
    "def train_model(model, train_loader, optimizer, criterion, num_epochs):\n",
    "    loss_list = []\n",
    "    for epoch in range(num_epochs):\n",
    "        model.train()\n",
    "        for inputs, targets in train_loader:\n",
    "            optimizer.zero_grad()\n",
    "            outputs = model(inputs)\n",
    "            #print(len(inputs))\n",
    "            loss = criterion(outputs, targets)\n",
    "            loss.backward()\n",
    "            optimizer.step()\n",
    "        print(f\"Epoch [{epoch+1}/{num_epochs}], Loss: {loss.item():.4f}\")\n",
    "        loss_list.append([epoch,loss.item()])\n",
    "    return loss_list"
   ]
  },
  {
   "cell_type": "markdown",
   "id": "00dfbbb0",
   "metadata": {},
   "source": [
    "# 先将处理好的数据进行保存"
   ]
  },
  {
   "cell_type": "code",
   "execution_count": 224,
   "id": "1eca278b",
   "metadata": {},
   "outputs": [],
   "source": [
    "save_path = r'./'\n",
    "np.save('new_m.npy',feature)\n",
    "np.save('water_label.npy',label_list1)"
   ]
  },
  {
   "cell_type": "code",
   "execution_count": 233,
   "id": "f2d63c89",
   "metadata": {},
   "outputs": [],
   "source": [
    "# 假设你有一个名为'features'和'targets'的数据\n",
    "temp_feature = copy.deepcopy(feature)\n",
    "features = np.array(temp_feature)[:, np.newaxis, :, :]\n",
    "targets =  label_list1\n",
    "# 超参数\n",
    "num_epochs = 50\n",
    "batch_size = 128\n",
    "learning_rate = 0.001\n",
    "\n",
    "# 实例化模型\n",
    "model = CNN()\n",
    "\n",
    "# 转换为PyTorch的张量\n",
    "features = torch.tensor(features, dtype=torch.float32)\n",
    "targets = torch.tensor(targets, dtype=torch.float32)\n",
    "\n",
    "# 定义损失函数和优化器\n",
    "criterion = nn.MSELoss()\n",
    "optimizer = torch.optim.Adam(model.parameters(), lr=learning_rate)"
   ]
  },
  {
   "cell_type": "code",
   "execution_count": 234,
   "id": "3c9171aa",
   "metadata": {},
   "outputs": [
    {
     "data": {
      "text/plain": [
       "torch.Size([10057, 1, 9, 18])"
      ]
     },
     "execution_count": 234,
     "metadata": {},
     "output_type": "execute_result"
    }
   ],
   "source": [
    "features.shape"
   ]
  },
  {
   "cell_type": "code",
   "execution_count": 235,
   "id": "cf980741",
   "metadata": {},
   "outputs": [
    {
     "data": {
      "text/plain": [
       "torch.Size([10057])"
      ]
     },
     "execution_count": 235,
     "metadata": {},
     "output_type": "execute_result"
    }
   ],
   "source": [
    "targets.shape"
   ]
  },
  {
   "cell_type": "code",
   "execution_count": 236,
   "id": "1ff863f0",
   "metadata": {},
   "outputs": [
    {
     "data": {
      "text/plain": [
       "<matplotlib.collections.PathCollection at 0x16ead782c50>"
      ]
     },
     "execution_count": 236,
     "metadata": {},
     "output_type": "execute_result"
    },
    {
     "data": {
      "image/png": "[encoded data removed]",
      "text/plain": [
       "<Figure size 432x288 with 1 Axes>"
      ]
     },
     "metadata": {
      "needs_background": "light"
     },
     "output_type": "display_data"
    }
   ],
   "source": [
    "plt.scatter(range(len(targets)),targets, s=2)"
   ]
  },
  {
   "cell_type": "code",
   "execution_count": 237,
   "id": "52ca0fc8",
   "metadata": {},
   "outputs": [],
   "source": [
    "# 手动训练和验证\n",
    "# 根据所需的比例计算切分点\n",
    "split_ratio = 0.8\n",
    "\n",
    "# 设置随机种子以确保结果可重现\n",
    "np.random.seed(42)\n",
    "\n",
    "# 随机打乱数据顺序\n",
    "indices = np.arange(len(targets))\n",
    "np.random.shuffle(indices)\n",
    "\n",
    "# 根据打乱后的索引顺序获取特征数据和标签数据\n",
    "X_shuffled = features[indices]\n",
    "y_shuffled = targets[indices]\n",
    "\n",
    "split_point = int(len(features) * split_ratio)\n",
    "\n",
    "# 根据打乱后的顺序将数据划分为训练集和测试集\n",
    "train_features = X_shuffled[:split_point]\n",
    "train_targets  = y_shuffled[:split_point]\n",
    "\n",
    "val_features  = X_shuffled[split_point:]\n",
    "val_targets   = y_shuffled[split_point:]\n",
    "\n",
    "\n",
    "# 创建数据加载器\n",
    "train_dataset = torch.utils.data.TensorDataset(train_features, train_targets)\n",
    "train_loader = torch.utils.data.DataLoader(train_dataset, batch_size=batch_size, shuffle=True)\n"
   ]
  },
  {
   "cell_type": "code",
   "execution_count": 238,
   "id": "835e8b46",
   "metadata": {},
   "outputs": [
    {
     "data": {
      "text/plain": [
       "8045"
      ]
     },
     "execution_count": 238,
     "metadata": {},
     "output_type": "execute_result"
    }
   ],
   "source": [
    "len(train_features)"
   ]
  },
  {
   "cell_type": "code",
   "execution_count": 239,
   "id": "2ebcd05e",
   "metadata": {},
   "outputs": [
    {
     "data": {
      "text/plain": [
       "2012"
      ]
     },
     "execution_count": 239,
     "metadata": {},
     "output_type": "execute_result"
    }
   ],
   "source": [
    "len(val_features)"
   ]
  },
  {
   "cell_type": "code",
   "execution_count": 240,
   "id": "8a0dfcb3",
   "metadata": {},
   "outputs": [
    {
     "name": "stderr",
     "output_type": "stream",
     "text": [
      "D:\\python_install\\lib\\site-packages\\torch\\nn\\modules\\loss.py:536: UserWarning: Using a target size (torch.Size([128])) that is different to the input size (torch.Size([128, 1])). This will likely lead to incorrect results due to broadcasting. Please ensure they have the same size.\n",
      "  return F.mse_loss(input, target, reduction=self.reduction)\n",
      "D:\\python_install\\lib\\site-packages\\torch\\nn\\modules\\loss.py:536: UserWarning: Using a target size (torch.Size([109])) that is different to the input size (torch.Size([109, 1])). This will likely lead to incorrect results due to broadcasting. Please ensure they have the same size.\n",
      "  return F.mse_loss(input, target, reduction=self.reduction)\n"
     ]
    },
    {
     "name": "stdout",
     "output_type": "stream",
     "text": [
      "Epoch [1/50], Loss: 1.2592\n",
      "Epoch [2/50], Loss: 1.1938\n",
      "Epoch [3/50], Loss: 1.7363\n",
      "Epoch [4/50], Loss: 1.3356\n",
      "Epoch [5/50], Loss: 1.1431\n",
      "Epoch [6/50], Loss: 1.5275\n",
      "Epoch [7/50], Loss: 1.8703\n",
      "Epoch [8/50], Loss: 3.7150\n",
      "Epoch [9/50], Loss: 1.3858\n",
      "Epoch [10/50], Loss: 1.2861\n",
      "Epoch [11/50], Loss: 1.1952\n",
      "Epoch [12/50], Loss: 1.3699\n",
      "Epoch [13/50], Loss: 1.6473\n",
      "Epoch [14/50], Loss: 1.2650\n",
      "Epoch [15/50], Loss: 1.7396\n",
      "Epoch [16/50], Loss: 1.2241\n",
      "Epoch [17/50], Loss: 0.9014\n",
      "Epoch [18/50], Loss: 0.9363\n",
      "Epoch [19/50], Loss: 0.9984\n",
      "Epoch [20/50], Loss: 1.3220\n",
      "Epoch [21/50], Loss: 1.1600\n",
      "Epoch [22/50], Loss: 1.6254\n",
      "Epoch [23/50], Loss: 1.3506\n",
      "Epoch [24/50], Loss: 1.1629\n",
      "Epoch [25/50], Loss: 1.1725\n",
      "Epoch [26/50], Loss: 1.2434\n",
      "Epoch [27/50], Loss: 1.6976\n",
      "Epoch [28/50], Loss: 1.2406\n",
      "Epoch [29/50], Loss: 1.0743\n",
      "Epoch [30/50], Loss: 1.4227\n",
      "Epoch [31/50], Loss: 0.9980\n",
      "Epoch [32/50], Loss: 1.0116\n",
      "Epoch [33/50], Loss: 0.9579\n",
      "Epoch [34/50], Loss: 1.1347\n",
      "Epoch [35/50], Loss: 1.1171\n",
      "Epoch [36/50], Loss: 1.3115\n",
      "Epoch [37/50], Loss: 1.5279\n",
      "Epoch [38/50], Loss: 1.3513\n",
      "Epoch [39/50], Loss: 0.6416\n",
      "Epoch [40/50], Loss: 1.1157\n",
      "Epoch [41/50], Loss: 1.2535\n",
      "Epoch [42/50], Loss: 1.4114\n",
      "Epoch [43/50], Loss: 1.2091\n",
      "Epoch [44/50], Loss: 1.0343\n",
      "Epoch [45/50], Loss: 1.0480\n",
      "Epoch [46/50], Loss: 0.7643\n",
      "Epoch [47/50], Loss: 1.5231\n",
      "Epoch [48/50], Loss: 0.9719\n",
      "Epoch [49/50], Loss: 1.3792\n",
      "Epoch [50/50], Loss: 1.8642\n"
     ]
    }
   ],
   "source": [
    "# 训练模型\n",
    "loss_list = train_model(model, train_loader, optimizer, criterion, num_epochs)  "
   ]
  },
  {
   "cell_type": "code",
   "execution_count": 241,
   "id": "f68bb53d",
   "metadata": {},
   "outputs": [
    {
     "data": {
      "text/plain": [
       "[<matplotlib.lines.Line2D at 0x16ead86e5f0>]"
      ]
     },
     "execution_count": 241,
     "metadata": {},
     "output_type": "execute_result"
    },
    {
     "data": {
      "image/png": "[encoded data removed]",
      "text/plain": [
       "<Figure size 432x288 with 1 Axes>"
      ]
     },
     "metadata": {
      "needs_background": "light"
     },
     "output_type": "display_data"
    }
   ],
   "source": [
    "loss_list = np.array(loss_list)\n",
    "plt.plot(loss_list[:,0],loss_list[:,1])"
   ]
  },
  {
   "cell_type": "code",
   "execution_count": 242,
   "id": "b05600dc",
   "metadata": {},
   "outputs": [
    {
     "name": "stdout",
     "output_type": "stream",
     "text": [
      "Validation Loss: 1.1568\n"
     ]
    }
   ],
   "source": [
    "# 手动验证\n",
    "pre_list = []\n",
    "# 在验证集上进行评估\n",
    "with torch.no_grad():\n",
    "    model2.eval()\n",
    "    val_outputs = model2(val_features)\n",
    "    pre_list.append(val_outputs)\n",
    "    val_loss = criterion(val_outputs, val_targets)\n",
    "    print(f\"Validation Loss: {val_loss.item():.4f}\")"
   ]
  },
  {
   "cell_type": "code",
   "execution_count": 243,
   "id": "ee382653",
   "metadata": {},
   "outputs": [
    {
     "data": {
      "text/plain": [
       "8045"
      ]
     },
     "execution_count": 243,
     "metadata": {},
     "output_type": "execute_result"
    }
   ],
   "source": [
    "len(train_features)"
   ]
  },
  {
   "cell_type": "code",
   "execution_count": 244,
   "id": "fc65de4e",
   "metadata": {},
   "outputs": [
    {
     "data": {
      "text/plain": [
       "2012"
      ]
     },
     "execution_count": 244,
     "metadata": {},
     "output_type": "execute_result"
    }
   ],
   "source": [
    "len(val_targets)"
   ]
  },
  {
   "cell_type": "code",
   "execution_count": 245,
   "id": "43e0f92d",
   "metadata": {},
   "outputs": [
    {
     "name": "stdout",
     "output_type": "stream",
     "text": [
      "2012\n"
     ]
    }
   ],
   "source": [
    "# 将Tensor元素转换为NumPy数组，并展平为一维数组\n",
    "pre_list = np.concatenate([tensor.numpy().ravel() for tensor in pre_list])\n",
    "print(len(pre_list))"
   ]
  },
  {
   "cell_type": "code",
   "execution_count": 246,
   "id": "cbe29033",
   "metadata": {},
   "outputs": [
    {
     "name": "stdout",
     "output_type": "stream",
     "text": [
      "R-squared: 0.011331428256241338\n"
     ]
    }
   ],
   "source": [
    "# 计算R平方\n",
    "from sklearn.metrics import r2_score\n",
    "\n",
    "# 假设 y_true 是真实标签，y_pred 是模型预测值\n",
    "r2 = r2_score(val_targets, pre_list)\n",
    "\n",
    "print(\"R-squared:\", r2)"
   ]
  },
  {
   "cell_type": "code",
   "execution_count": 247,
   "id": "3ece17de",
   "metadata": {},
   "outputs": [
    {
     "name": "stdout",
     "output_type": "stream",
     "text": [
      "Fold 1\n"
     ]
    },
    {
     "name": "stderr",
     "output_type": "stream",
     "text": [
      "D:\\python_install\\lib\\site-packages\\torch\\nn\\modules\\loss.py:536: UserWarning: Using a target size (torch.Size([128])) that is different to the input size (torch.Size([128, 1])). This will likely lead to incorrect results due to broadcasting. Please ensure they have the same size.\n",
      "  return F.mse_loss(input, target, reduction=self.reduction)\n",
      "D:\\python_install\\lib\\site-packages\\torch\\nn\\modules\\loss.py:536: UserWarning: Using a target size (torch.Size([109])) that is different to the input size (torch.Size([109, 1])). This will likely lead to incorrect results due to broadcasting. Please ensure they have the same size.\n",
      "  return F.mse_loss(input, target, reduction=self.reduction)\n"
     ]
    },
    {
     "name": "stdout",
     "output_type": "stream",
     "text": [
      "Epoch [1/50], Loss: 9.4721\n",
      "Epoch [2/50], Loss: 9.9759\n",
      "Epoch [3/50], Loss: 10.3686\n",
      "Epoch [4/50], Loss: 9.6482\n",
      "Epoch [5/50], Loss: 9.8468\n",
      "Epoch [6/50], Loss: 10.4330\n",
      "Epoch [7/50], Loss: 10.9894\n",
      "Epoch [8/50], Loss: 11.5896\n",
      "Epoch [9/50], Loss: 10.6386\n",
      "Epoch [10/50], Loss: 9.7274\n",
      "Epoch [11/50], Loss: 9.1778\n",
      "Epoch [12/50], Loss: 9.7774\n",
      "Epoch [13/50], Loss: 9.4624\n",
      "Epoch [14/50], Loss: 9.7993\n",
      "Epoch [15/50], Loss: 9.9512\n",
      "Epoch [16/50], Loss: 9.8461\n",
      "Epoch [17/50], Loss: 9.9551\n",
      "Epoch [18/50], Loss: 11.0335\n",
      "Epoch [19/50], Loss: 9.4392\n",
      "Epoch [20/50], Loss: 10.8758\n",
      "Epoch [21/50], Loss: 9.0720\n",
      "Epoch [22/50], Loss: 9.9162\n",
      "Epoch [23/50], Loss: 10.5886\n",
      "Epoch [24/50], Loss: 10.9717\n",
      "Epoch [25/50], Loss: 9.5388\n",
      "Epoch [26/50], Loss: 10.4926\n",
      "Epoch [27/50], Loss: 11.1257\n",
      "Epoch [28/50], Loss: 9.1874\n",
      "Epoch [29/50], Loss: 9.7575\n",
      "Epoch [30/50], Loss: 11.9003\n",
      "Epoch [31/50], Loss: 12.5304\n",
      "Epoch [32/50], Loss: 9.8823\n",
      "Epoch [33/50], Loss: 11.4933\n",
      "Epoch [34/50], Loss: 10.2004\n",
      "Epoch [35/50], Loss: 10.2048\n",
      "Epoch [36/50], Loss: 9.9086\n",
      "Epoch [37/50], Loss: 10.7660\n",
      "Epoch [38/50], Loss: 9.6772\n",
      "Epoch [39/50], Loss: 10.9013\n",
      "Epoch [40/50], Loss: 10.3064\n",
      "Epoch [41/50], Loss: 12.7128\n",
      "Epoch [42/50], Loss: 12.1640\n",
      "Epoch [43/50], Loss: 9.7646\n",
      "Epoch [44/50], Loss: 8.5950\n",
      "Epoch [45/50], Loss: 9.4976\n",
      "Epoch [46/50], Loss: 11.7021\n",
      "Epoch [47/50], Loss: 9.3264\n",
      "Epoch [48/50], Loss: 9.3481\n",
      "Epoch [49/50], Loss: 9.0048\n",
      "Epoch [50/50], Loss: 9.0724\n",
      "Validation Loss: 10.0551\n",
      "Fold 2\n"
     ]
    },
    {
     "name": "stderr",
     "output_type": "stream",
     "text": [
      "D:\\python_install\\lib\\site-packages\\torch\\nn\\modules\\loss.py:536: UserWarning: Using a target size (torch.Size([2012])) that is different to the input size (torch.Size([2012, 1])). This will likely lead to incorrect results due to broadcasting. Please ensure they have the same size.\n",
      "  return F.mse_loss(input, target, reduction=self.reduction)\n"
     ]
    },
    {
     "name": "stdout",
     "output_type": "stream",
     "text": [
      "Epoch [1/50], Loss: 11.8518\n",
      "Epoch [2/50], Loss: 11.2721\n",
      "Epoch [3/50], Loss: 11.6669\n",
      "Epoch [4/50], Loss: 10.6953\n",
      "Epoch [5/50], Loss: 10.9314\n",
      "Epoch [6/50], Loss: 11.7898\n",
      "Epoch [7/50], Loss: 11.0691\n",
      "Epoch [8/50], Loss: 11.7744\n",
      "Epoch [9/50], Loss: 11.8131\n",
      "Epoch [10/50], Loss: 12.0080\n",
      "Epoch [11/50], Loss: 11.7101\n",
      "Epoch [12/50], Loss: 11.3895\n",
      "Epoch [13/50], Loss: 10.6767\n",
      "Epoch [14/50], Loss: 10.4288\n",
      "Epoch [15/50], Loss: 11.3695\n",
      "Epoch [16/50], Loss: 11.4292\n",
      "Epoch [17/50], Loss: 10.8990\n",
      "Epoch [18/50], Loss: 11.7742\n",
      "Epoch [19/50], Loss: 11.5048\n",
      "Epoch [20/50], Loss: 12.7239\n",
      "Epoch [21/50], Loss: 10.3846\n",
      "Epoch [22/50], Loss: 11.8216\n",
      "Epoch [23/50], Loss: 10.7385\n",
      "Epoch [24/50], Loss: 12.6551\n",
      "Epoch [25/50], Loss: 11.5224\n",
      "Epoch [26/50], Loss: 11.5421\n",
      "Epoch [27/50], Loss: 10.4563\n",
      "Epoch [28/50], Loss: 12.5517\n",
      "Epoch [29/50], Loss: 11.8391\n",
      "Epoch [30/50], Loss: 10.9259\n",
      "Epoch [31/50], Loss: 9.8495\n",
      "Epoch [32/50], Loss: 11.5231\n",
      "Epoch [33/50], Loss: 12.8805\n",
      "Epoch [34/50], Loss: 11.9856\n",
      "Epoch [35/50], Loss: 11.5459\n",
      "Epoch [36/50], Loss: 12.8058\n",
      "Epoch [37/50], Loss: 10.8625\n",
      "Epoch [38/50], Loss: 12.3979\n",
      "Epoch [39/50], Loss: 12.8064\n",
      "Epoch [40/50], Loss: 10.7699\n",
      "Epoch [41/50], Loss: 11.6845\n",
      "Epoch [42/50], Loss: 9.5652\n",
      "Epoch [43/50], Loss: 10.3229\n",
      "Epoch [44/50], Loss: 11.6676\n",
      "Epoch [45/50], Loss: 11.0130\n",
      "Epoch [46/50], Loss: 10.7350\n",
      "Epoch [47/50], Loss: 12.2242\n",
      "Epoch [48/50], Loss: 11.1283\n",
      "Epoch [49/50], Loss: 12.9829\n",
      "Epoch [50/50], Loss: 10.9570\n",
      "Validation Loss: 11.7838\n",
      "Fold 3\n"
     ]
    },
    {
     "name": "stderr",
     "output_type": "stream",
     "text": [
      "D:\\python_install\\lib\\site-packages\\torch\\nn\\modules\\loss.py:536: UserWarning: Using a target size (torch.Size([110])) that is different to the input size (torch.Size([110, 1])). This will likely lead to incorrect results due to broadcasting. Please ensure they have the same size.\n",
      "  return F.mse_loss(input, target, reduction=self.reduction)\n"
     ]
    },
    {
     "name": "stdout",
     "output_type": "stream",
     "text": [
      "Epoch [1/50], Loss: 9.4010\n",
      "Epoch [2/50], Loss: 9.0553\n",
      "Epoch [3/50], Loss: 8.3505\n",
      "Epoch [4/50], Loss: 8.3533\n",
      "Epoch [5/50], Loss: 8.8867\n",
      "Epoch [6/50], Loss: 7.8412\n",
      "Epoch [7/50], Loss: 8.2680\n",
      "Epoch [8/50], Loss: 9.5236\n",
      "Epoch [9/50], Loss: 8.2641\n",
      "Epoch [10/50], Loss: 10.4554\n",
      "Epoch [11/50], Loss: 9.2824\n",
      "Epoch [12/50], Loss: 9.1378\n",
      "Epoch [13/50], Loss: 8.6796\n",
      "Epoch [14/50], Loss: 7.8347\n",
      "Epoch [15/50], Loss: 9.3311\n",
      "Epoch [16/50], Loss: 8.6565\n",
      "Epoch [17/50], Loss: 8.5012\n",
      "Epoch [18/50], Loss: 12.0921\n",
      "Epoch [19/50], Loss: 9.5146\n",
      "Epoch [20/50], Loss: 8.8588\n",
      "Epoch [21/50], Loss: 9.1862\n",
      "Epoch [22/50], Loss: 9.0551\n",
      "Epoch [23/50], Loss: 8.3291\n",
      "Epoch [24/50], Loss: 9.7366\n",
      "Epoch [25/50], Loss: 7.5021\n",
      "Epoch [26/50], Loss: 10.2636\n",
      "Epoch [27/50], Loss: 10.5883\n",
      "Epoch [28/50], Loss: 9.3890\n",
      "Epoch [29/50], Loss: 7.9298\n",
      "Epoch [30/50], Loss: 8.4544\n",
      "Epoch [31/50], Loss: 8.2929\n",
      "Epoch [32/50], Loss: 8.5982\n",
      "Epoch [33/50], Loss: 9.2054\n",
      "Epoch [34/50], Loss: 10.1378\n",
      "Epoch [35/50], Loss: 8.8380\n",
      "Epoch [36/50], Loss: 8.3007\n",
      "Epoch [37/50], Loss: 8.8898\n",
      "Epoch [38/50], Loss: 8.9368\n",
      "Epoch [39/50], Loss: 11.3060\n",
      "Epoch [40/50], Loss: 10.7433\n",
      "Epoch [41/50], Loss: 9.9311\n",
      "Epoch [42/50], Loss: 9.4197\n",
      "Epoch [43/50], Loss: 8.7104\n",
      "Epoch [44/50], Loss: 8.7538\n",
      "Epoch [45/50], Loss: 8.2743\n",
      "Epoch [46/50], Loss: 8.6841\n",
      "Epoch [47/50], Loss: 8.0359\n",
      "Epoch [48/50], Loss: 10.3607\n",
      "Epoch [49/50], Loss: 8.6694\n",
      "Epoch [50/50], Loss: 9.8484\n",
      "Validation Loss: 9.2107\n",
      "Fold 4\n"
     ]
    },
    {
     "name": "stderr",
     "output_type": "stream",
     "text": [
      "D:\\python_install\\lib\\site-packages\\torch\\nn\\modules\\loss.py:536: UserWarning: Using a target size (torch.Size([2011])) that is different to the input size (torch.Size([2011, 1])). This will likely lead to incorrect results due to broadcasting. Please ensure they have the same size.\n",
      "  return F.mse_loss(input, target, reduction=self.reduction)\n"
     ]
    },
    {
     "name": "stdout",
     "output_type": "stream",
     "text": [
      "Epoch [1/50], Loss: 12.6166\n",
      "Epoch [2/50], Loss: 10.8480\n",
      "Epoch [3/50], Loss: 10.3135\n",
      "Epoch [4/50], Loss: 10.4817\n",
      "Epoch [5/50], Loss: 11.0731\n",
      "Epoch [6/50], Loss: 10.7464\n",
      "Epoch [7/50], Loss: 11.6558\n",
      "Epoch [8/50], Loss: 8.9912\n",
      "Epoch [9/50], Loss: 11.2510\n",
      "Epoch [10/50], Loss: 11.0150\n",
      "Epoch [11/50], Loss: 11.4483\n",
      "Epoch [12/50], Loss: 11.7138\n",
      "Epoch [13/50], Loss: 11.4190\n",
      "Epoch [14/50], Loss: 9.8577\n",
      "Epoch [15/50], Loss: 8.8874\n",
      "Epoch [16/50], Loss: 11.1690\n",
      "Epoch [17/50], Loss: 10.9066\n",
      "Epoch [18/50], Loss: 11.1072\n",
      "Epoch [19/50], Loss: 11.3398\n",
      "Epoch [20/50], Loss: 10.8537\n",
      "Epoch [21/50], Loss: 11.6353\n",
      "Epoch [22/50], Loss: 10.2823\n",
      "Epoch [23/50], Loss: 11.7050\n",
      "Epoch [24/50], Loss: 10.1553\n",
      "Epoch [25/50], Loss: 10.5302\n",
      "Epoch [26/50], Loss: 10.3509\n",
      "Epoch [27/50], Loss: 11.0598\n",
      "Epoch [28/50], Loss: 10.3999\n",
      "Epoch [29/50], Loss: 13.3531\n",
      "Epoch [30/50], Loss: 9.5079\n",
      "Epoch [31/50], Loss: 10.7133\n",
      "Epoch [32/50], Loss: 12.9006\n",
      "Epoch [33/50], Loss: 10.3591\n",
      "Epoch [34/50], Loss: 10.6321\n",
      "Epoch [35/50], Loss: 10.9790\n",
      "Epoch [36/50], Loss: 9.8941\n",
      "Epoch [37/50], Loss: 12.1925\n",
      "Epoch [38/50], Loss: 9.2809\n",
      "Epoch [39/50], Loss: 10.0319\n",
      "Epoch [40/50], Loss: 11.0447\n",
      "Epoch [41/50], Loss: 11.0447\n",
      "Epoch [42/50], Loss: 12.2725\n",
      "Epoch [43/50], Loss: 10.9505\n",
      "Epoch [44/50], Loss: 9.9381\n",
      "Epoch [45/50], Loss: 10.1557\n",
      "Epoch [46/50], Loss: 11.4786\n",
      "Epoch [47/50], Loss: 12.7161\n",
      "Epoch [48/50], Loss: 11.6589\n",
      "Epoch [49/50], Loss: 10.8386\n",
      "Epoch [50/50], Loss: 10.8625\n",
      "Validation Loss: 10.6053\n",
      "Fold 5\n",
      "Epoch [1/50], Loss: 12.4562\n",
      "Epoch [2/50], Loss: 14.9222\n",
      "Epoch [3/50], Loss: 12.1024\n",
      "Epoch [4/50], Loss: 12.7174\n",
      "Epoch [5/50], Loss: 11.7373\n",
      "Epoch [6/50], Loss: 13.1628\n",
      "Epoch [7/50], Loss: 13.1787\n",
      "Epoch [8/50], Loss: 15.3275\n",
      "Epoch [9/50], Loss: 13.8186\n",
      "Epoch [10/50], Loss: 14.0153\n",
      "Epoch [11/50], Loss: 12.0385\n",
      "Epoch [12/50], Loss: 13.1694\n",
      "Epoch [13/50], Loss: 11.4058\n",
      "Epoch [14/50], Loss: 12.2304\n",
      "Epoch [15/50], Loss: 14.5088\n",
      "Epoch [16/50], Loss: 12.4167\n",
      "Epoch [17/50], Loss: 13.2256\n",
      "Epoch [18/50], Loss: 13.9077\n",
      "Epoch [19/50], Loss: 12.7490\n",
      "Epoch [20/50], Loss: 12.2623\n",
      "Epoch [21/50], Loss: 11.8546\n",
      "Epoch [22/50], Loss: 14.5479\n",
      "Epoch [23/50], Loss: 11.9181\n",
      "Epoch [24/50], Loss: 13.7039\n",
      "Epoch [25/50], Loss: 13.7482\n",
      "Epoch [26/50], Loss: 13.0930\n",
      "Epoch [27/50], Loss: 15.1575\n",
      "Epoch [28/50], Loss: 13.3660\n",
      "Epoch [29/50], Loss: 12.1184\n",
      "Epoch [30/50], Loss: 13.3022\n",
      "Epoch [31/50], Loss: 12.6633\n",
      "Epoch [32/50], Loss: 13.0707\n",
      "Epoch [33/50], Loss: 13.2997\n",
      "Epoch [34/50], Loss: 13.9912\n",
      "Epoch [35/50], Loss: 13.3779\n",
      "Epoch [36/50], Loss: 14.8036\n",
      "Epoch [37/50], Loss: 13.8815\n",
      "Epoch [38/50], Loss: 11.9847\n",
      "Epoch [39/50], Loss: 12.9153\n",
      "Epoch [40/50], Loss: 11.9228\n",
      "Epoch [41/50], Loss: 14.2785\n",
      "Epoch [42/50], Loss: 13.2951\n",
      "Epoch [43/50], Loss: 11.0683\n",
      "Epoch [44/50], Loss: 14.0897\n",
      "Epoch [45/50], Loss: 13.1922\n",
      "Epoch [46/50], Loss: 12.2024\n",
      "Epoch [47/50], Loss: 14.1679\n",
      "Epoch [48/50], Loss: 11.7101\n",
      "Epoch [49/50], Loss: 12.3216\n",
      "Epoch [50/50], Loss: 12.2225\n",
      "Validation Loss: 13.1916\n"
     ]
    }
   ],
   "source": [
    "# 初始化K折交叉验证\n",
    "kf = KFold(n_splits=5, shuffle=True, random_state=25)\n",
    "\n",
    "for fold, (train_index, val_index) in enumerate(kf.split(features)):\n",
    "    print(f\"Fold {fold + 1}\")\n",
    "    \n",
    "    # 划分训练集和验证集\n",
    "    train_features, val_features = features[train_index], features[val_index]\n",
    "    train_targets, val_targets = targets[train_index], targets[val_index]\n",
    "    \n",
    "    # 创建模型实例\n",
    "    model = CNN()\n",
    "    \n",
    "    # 创建数据加载器\n",
    "    train_dataset = torch.utils.data.TensorDataset(train_features, train_targets)\n",
    "    train_loader = torch.utils.data.DataLoader(train_dataset, batch_size=batch_size, shuffle=True)\n",
    "    \n",
    "    # 训练模型\n",
    "    train_model(model, train_loader, optimizer, criterion, num_epochs)\n",
    "    \n",
    "    # 在验证集上进行评估\n",
    "    with torch.no_grad():\n",
    "        model.eval()\n",
    "        val_outputs = model(val_features)\n",
    "        val_loss = criterion(val_outputs, val_targets)\n",
    "        print(f\"Validation Loss: {val_loss.item():.4f}\")\n"
   ]
  },
  {
   "cell_type": "markdown",
   "id": "84172ea5",
   "metadata": {},
   "source": [
    "# 结果就是很不稳定  再使用迁移学习试试"
   ]
  },
  {
   "cell_type": "code",
   "execution_count": 84,
   "id": "87831c7b",
   "metadata": {},
   "outputs": [
    {
     "ename": "NameError",
     "evalue": "name 'poisson_label' is not defined",
     "output_type": "error",
     "traceback": [
      "\u001b[1;31m---------------------------------------------------------------------------\u001b[0m",
      "\u001b[1;31mNameError\u001b[0m                                 Traceback (most recent call last)",
      "Input \u001b[1;32mIn [84]\u001b[0m, in \u001b[0;36m<cell line: 6>\u001b[1;34m()\u001b[0m\n\u001b[0;32m      4\u001b[0m poisson_data \u001b[38;5;241m=\u001b[39m np\u001b[38;5;241m.\u001b[39marray(temp)[:, np\u001b[38;5;241m.\u001b[39mnewaxis, :, :]\n\u001b[0;32m      5\u001b[0m train_data \u001b[38;5;241m=\u001b[39m torch\u001b[38;5;241m.\u001b[39mTensor(poisson_data)\n\u001b[1;32m----> 6\u001b[0m train_labels \u001b[38;5;241m=\u001b[39m torch\u001b[38;5;241m.\u001b[39mTensor(\u001b[43mpoisson_label\u001b[49m)\n\u001b[0;32m      8\u001b[0m \u001b[38;5;66;03m# 创建数据集和数据加载器\u001b[39;00m\n\u001b[0;32m     10\u001b[0m dataset \u001b[38;5;241m=\u001b[39m torch\u001b[38;5;241m.\u001b[39mutils\u001b[38;5;241m.\u001b[39mdata\u001b[38;5;241m.\u001b[39mTensorDataset(train_data, train_labels)\n",
      "\u001b[1;31mNameError\u001b[0m: name 'poisson_label' is not defined"
     ]
    }
   ],
   "source": [
    "# 假设您的数据是 poisson_feature 和 poisson_label\n",
    "# 将数据转换为Tensor\n",
    "\n",
    "poisson_data = np.array(temp)[:, np.newaxis, :, :]\n",
    "train_data = torch.Tensor(poisson_data)\n",
    "train_labels = torch.Tensor(poisson_label)\n",
    "\n",
    "# 创建数据集和数据加载器\n",
    "\n",
    "dataset = torch.utils.data.TensorDataset(train_data, train_labels)\n",
    "dataloader = torch.utils.data.DataLoader(dataset, batch_size=batch_size, shuffle=True)"
   ]
  },
  {
   "cell_type": "code",
   "execution_count": 771,
   "id": "f4f7dc84",
   "metadata": {},
   "outputs": [
    {
     "name": "stdout",
     "output_type": "stream",
     "text": [
      "Input batch shape: torch.Size([64, 1, 9, 18])\n",
      "Target batch shape: torch.Size([64])\n"
     ]
    }
   ],
   "source": [
    "# 查看data形状\n",
    "sample_batch = next(iter(dataloader))\n",
    "inputs, targets = sample_batch\n",
    "print(\"Input batch shape:\", inputs.shape)\n",
    "print(\"Target batch shape:\", targets.shape)"
   ]
  },
  {
   "cell_type": "code",
   "execution_count": 773,
   "id": "0b10eb6b",
   "metadata": {},
   "outputs": [],
   "source": [
    "# Define the loss function\n",
    "criterion = nn.MSELoss()\n",
    "\n",
    "# Define the optimizer\n",
    "optimizer = optim.Adam(model.parameters(), lr=0.001)"
   ]
  },
  {
   "cell_type": "code",
   "execution_count": 774,
   "id": "9274aaaa",
   "metadata": {},
   "outputs": [
    {
     "name": "stderr",
     "output_type": "stream",
     "text": [
      "D:\\python_install\\lib\\site-packages\\torch\\nn\\modules\\loss.py:536: UserWarning: Using a target size (torch.Size([64])) that is different to the input size (torch.Size([64, 1])). This will likely lead to incorrect results due to broadcasting. Please ensure they have the same size.\n",
      "  return F.mse_loss(input, target, reduction=self.reduction)\n",
      "D:\\python_install\\lib\\site-packages\\torch\\nn\\modules\\loss.py:536: UserWarning: Using a target size (torch.Size([52])) that is different to the input size (torch.Size([52, 1])). This will likely lead to incorrect results due to broadcasting. Please ensure they have the same size.\n",
      "  return F.mse_loss(input, target, reduction=self.reduction)\n"
     ]
    },
    {
     "name": "stdout",
     "output_type": "stream",
     "text": [
      "Epoch [1/50] - Loss: 0.1268\n",
      "Epoch [2/50] - Loss: 0.0539\n",
      "Epoch [3/50] - Loss: 0.0527\n",
      "Epoch [4/50] - Loss: 0.0526\n",
      "Epoch [5/50] - Loss: 0.0518\n",
      "Epoch [6/50] - Loss: 0.0532\n",
      "Epoch [7/50] - Loss: 0.0536\n",
      "Epoch [8/50] - Loss: 0.0528\n",
      "Epoch [9/50] - Loss: 0.0511\n",
      "Epoch [10/50] - Loss: 0.0537\n",
      "Epoch [11/50] - Loss: 0.0538\n",
      "Epoch [12/50] - Loss: 0.0521\n",
      "Epoch [13/50] - Loss: 0.0516\n",
      "Epoch [14/50] - Loss: 0.0520\n",
      "Epoch [15/50] - Loss: 0.0529\n",
      "Epoch [16/50] - Loss: 0.0523\n",
      "Epoch [17/50] - Loss: 0.0528\n",
      "Epoch [18/50] - Loss: 0.0519\n",
      "Epoch [19/50] - Loss: 0.0515\n",
      "Epoch [20/50] - Loss: 0.0511\n",
      "Epoch [21/50] - Loss: 0.0506\n",
      "Epoch [22/50] - Loss: 0.0507\n",
      "Epoch [23/50] - Loss: 0.0507\n",
      "Epoch [24/50] - Loss: 0.0508\n",
      "Epoch [25/50] - Loss: 0.0515\n",
      "Epoch [26/50] - Loss: 0.0511\n",
      "Epoch [27/50] - Loss: 0.0521\n",
      "Epoch [28/50] - Loss: 0.0516\n",
      "Epoch [29/50] - Loss: 0.0514\n",
      "Epoch [30/50] - Loss: 0.0521\n",
      "Epoch [31/50] - Loss: 0.0502\n",
      "Epoch [32/50] - Loss: 0.0506\n",
      "Epoch [33/50] - Loss: 0.0507\n",
      "Epoch [34/50] - Loss: 0.0511\n",
      "Epoch [35/50] - Loss: 0.0506\n",
      "Epoch [36/50] - Loss: 0.0526\n",
      "Epoch [37/50] - Loss: 0.0514\n",
      "Epoch [38/50] - Loss: 0.0512\n",
      "Epoch [39/50] - Loss: 0.0501\n",
      "Epoch [40/50] - Loss: 0.0504\n",
      "Epoch [41/50] - Loss: 0.0510\n",
      "Epoch [42/50] - Loss: 0.0506\n",
      "Epoch [43/50] - Loss: 0.0511\n",
      "Epoch [44/50] - Loss: 0.0515\n",
      "Epoch [45/50] - Loss: 0.0508\n",
      "Epoch [46/50] - Loss: 0.0512\n",
      "Epoch [47/50] - Loss: 0.0504\n",
      "Epoch [48/50] - Loss: 0.0505\n",
      "Epoch [49/50] - Loss: 0.0508\n",
      "Epoch [50/50] - Loss: 0.0504\n",
      "Training finished\n"
     ]
    }
   ],
   "source": [
    "# Training loop\n",
    "err_with_epochs = []\n",
    "for epoch in range(num_epochs):\n",
    "    running_loss = 0.0\n",
    "    for inputs, labels in dataloader:  # Assuming dataloader provides batches of inputs and labels\n",
    "        optimizer.zero_grad()  # Zero the gradients\n",
    "        \n",
    "        # Forward pass\n",
    "        outputs = model(inputs)\n",
    "        \n",
    "        # Compute the loss\n",
    "        loss = criterion(outputs, labels)\n",
    "        \n",
    "        # Backpropagation and optimization\n",
    "        loss.backward()\n",
    "        optimizer.step()\n",
    "        \n",
    "        running_loss += loss.item()\n",
    "    \n",
    "    epoch_loss = running_loss / len(dataloader)\n",
    "    err_with_epochs.append(epoch_loss)\n",
    "    print(f\"Epoch [{epoch+1}/{num_epochs}] - Loss: {epoch_loss:.4f}\")\n",
    "\n",
    "print(\"Training finished\")"
   ]
  },
  {
   "cell_type": "code",
   "execution_count": 776,
   "id": "0ba06356",
   "metadata": {},
   "outputs": [
    {
     "data": {
      "text/plain": [
       "Text(0.5, 1.0, 'loss with epochs')"
      ]
     },
     "execution_count": 776,
     "metadata": {},
     "output_type": "execute_result"
    },
    {
     "data": {
      "image/png": "[encoded data removed]",
      "text/plain": [
       "<Figure size 432x288 with 1 Axes>"
      ]
     },
     "metadata": {
      "needs_background": "light"
     },
     "output_type": "display_data"
    }
   ],
   "source": [
    "plt.plot(range(50),err_with_epochs)\n",
    "plt.title('loss with epochs')"
   ]
  },
  {
   "cell_type": "markdown",
   "id": "d8ffd7e9",
   "metadata": {},
   "source": [
    "# 使用PADRE方法作数据增强处理"
   ]
  },
  {
   "cell_type": "code",
   "execution_count": null,
   "id": "1c7b3f6d",
   "metadata": {},
   "outputs": [],
   "source": []
  },
  {
   "cell_type": "code",
   "execution_count": null,
   "id": "14f65812",
   "metadata": {},
   "outputs": [],
   "source": []
  },
  {
   "cell_type": "code",
   "execution_count": null,
   "id": "7072c45c",
   "metadata": {},
   "outputs": [],
   "source": []
  }
 ],
 "metadata": {
  "kernelspec": {
   "display_name": "Python 3 (ipykernel)",
   "language": "python",
   "name": "python3"
  },
  "language_info": {
   "codemirror_mode": {
    "name": "ipython",
    "version": 3
   },
   "file_extension": ".py",
   "mimetype": "text/x-python",
   "name": "python",
   "nbconvert_exporter": "python",
   "pygments_lexer": "ipython3",
   "version": "3.10.6"
  }
 },
 "nbformat": 4,
 "nbformat_minor": 5
}
