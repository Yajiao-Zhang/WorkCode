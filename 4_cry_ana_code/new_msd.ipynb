{
 "cells": [
  {
   "cell_type": "code",
   "execution_count": 1,
   "id": "5564d875",
   "metadata": {},
   "outputs": [],
   "source": [
    "import numpy as np"
   ]
  },
  {
   "cell_type": "code",
   "execution_count": 2,
   "id": "695d537a",
   "metadata": {},
   "outputs": [],
   "source": [
    "file_path = r\"C:\\Users\\zhang\\Desktop\\md\\las_paper\\19k_log\\cry_1000p_out.xyz\""
   ]
  },
  {
   "cell_type": "code",
   "execution_count": 43,
   "id": "f042b4da",
   "metadata": {},
   "outputs": [],
   "source": [
    "start_frame = 0\n",
    "end_frame = 250\n",
    "step_frame = 1\n",
    "########\n",
    "ana_element = ['Li']"
   ]
  },
  {
   "cell_type": "code",
   "execution_count": 44,
   "id": "3a8b08bc",
   "metadata": {},
   "outputs": [],
   "source": [
    "import numpy as npbo\n",
    "\n",
    "def cal_msd(frame_i, frame_0, box_size, time):\n",
    "    # 将输入转换为 NumPy 数组\n",
    "    frame_0, frame_i, box_size = np.array(frame_0), np.array(frame_i), np.array(box_size)\n",
    "    # 计算坐标差值\n",
    "    delta = frame_i - frame_0\n",
    "    # 归一化坐标差值，确保在周期性边界条件下正确计算\n",
    "    normalized_delta = delta / box_size\n",
    "    delta -= np.round(normalized_delta)*box_size\n",
    "    # 计算均方位移\n",
    "    msd = np.sum(np.square(delta)) / (len(frame_i))\n",
    "    return msd"
   ]
  },
  {
   "cell_type": "code",
   "execution_count": 45,
   "id": "60929b93",
   "metadata": {},
   "outputs": [
    {
     "name": "stdout",
     "output_type": "stream",
     "text": [
      "29.0\n"
     ]
    }
   ],
   "source": [
    "# 示例用法\n",
    "frame_i = [[9.0, 7.0, 3.0]]\n",
    "frame_0 = [[1, 4, 9]]\n",
    "box_size = [10.0, 10.0, 10.0]\n",
    "time = 1.0\n",
    "result = cal_msd(frame_i, frame_0, box_size, time)\n",
    "print(result)"
   ]
  },
  {
   "cell_type": "code",
   "execution_count": 46,
   "id": "5a265722",
   "metadata": {},
   "outputs": [
    {
     "name": "stdout",
     "output_type": "stream",
     "text": [
      "29\n"
     ]
    }
   ],
   "source": [
    "x = 2*2+3*3+4*4\n",
    "print(x)"
   ]
  },
  {
   "cell_type": "code",
   "execution_count": 47,
   "id": "3d5c8c2e",
   "metadata": {},
   "outputs": [
    {
     "name": "stdout",
     "output_type": "stream",
     "text": [
      "Maximum X value: 85.104181\n",
      "Maximum Y value: 55.32266\n",
      "Maximum Z value: 11.50457\n"
     ]
    }
   ],
   "source": [
    "def read_xyz_frames(file_path):\n",
    "    frames = []\n",
    "    current_frame = None\n",
    "\n",
    "    with open(file_path, 'r') as file:\n",
    "        lines = file.readlines()\n",
    "        line_index = 0\n",
    "\n",
    "        while line_index < len(lines):\n",
    "            line = lines[line_index].strip()\n",
    "\n",
    "            if line.isdigit():\n",
    "                # 读取原子数\n",
    "                if current_frame:\n",
    "                    frames.append(current_frame)\n",
    "                num_atoms = int(line)\n",
    "                current_frame = {\"num_atoms\": num_atoms, \"atoms\": []}\n",
    "                line_index += 2  # 跳过标题行 \"Atoms\"\n",
    "            else:\n",
    "                # 读取原子坐标\n",
    "                if current_frame:\n",
    "                    atom_data = line.split()\n",
    "                    if len(atom_data) == 4:\n",
    "                        element, x, y, z = atom_data\n",
    "                        current_frame[\"atoms\"].append({\n",
    "                            \"element\": element,\n",
    "                            \"x\": float(x),\n",
    "                            \"y\": float(y),\n",
    "                            \"z\": float(z)\n",
    "                        })\n",
    "                line_index += 1\n",
    "\n",
    "        if current_frame:\n",
    "            frames.append(current_frame)\n",
    "\n",
    "    return frames\n",
    "\n",
    "# 使用之前的frames列表\n",
    "frames = read_xyz_frames(file_path)\n",
    "\n",
    "# 找出最大的x、y和z值\n",
    "max_x = max([max(frame[\"atoms\"], key=lambda atom: atom[\"x\"])[\"x\"] for frame in frames])\n",
    "max_y = max([max(frame[\"atoms\"], key=lambda atom: atom[\"y\"])[\"y\"] for frame in frames])\n",
    "max_z = max([max(frame[\"atoms\"], key=lambda atom: atom[\"z\"])[\"z\"] for frame in frames])\n",
    "\n",
    "print(\"Maximum X value:\", max_x)\n",
    "print(\"Maximum Y value:\", max_y)\n",
    "print(\"Maximum Z value:\", max_z)\n"
   ]
  },
  {
   "cell_type": "code",
   "execution_count": 48,
   "id": "961936b2",
   "metadata": {},
   "outputs": [
    {
     "name": "stdout",
     "output_type": "stream",
     "text": [
      "[85.114181 55.33266  11.51457 ]\n"
     ]
    }
   ],
   "source": [
    "box_all = np.array([max_x,max_y,max_z])+0.01\n",
    "print(box_all)"
   ]
  },
  {
   "cell_type": "code",
   "execution_count": 49,
   "id": "199a052e",
   "metadata": {},
   "outputs": [
    {
     "name": "stdout",
     "output_type": "stream",
     "text": [
      "[[1.3586482e+01 3.2933725e+01 1.7095400e+00]\n",
      " [8.3956882e+01 4.8352225e+01 9.8742500e+00]\n",
      " [7.2706082e+01 6.1838750e+00 8.8684900e+00]\n",
      " ...\n",
      " [5.1259882e+01 5.0074525e+01 6.5106800e+00]\n",
      " [4.9023382e+01 4.4623025e+01 1.0212870e+01]\n",
      " [5.6901082e+01 5.4419925e+01 1.7390000e-02]]\n"
     ]
    }
   ],
   "source": [
    "frame_zero = []\n",
    "for i in frames[0]['atoms']:\n",
    "        if i['element'] in ana_element:\n",
    "            frame_zero.append([i['x'],i['y'],i['z']])\n",
    "frame_zero = np.array(frame_zero)\n",
    "box_0 = np.max(frame_0, axis=0)+ 0.01\n",
    "print(frame_zero)"
   ]
  },
  {
   "cell_type": "code",
   "execution_count": 50,
   "id": "cb7781b3",
   "metadata": {},
   "outputs": [],
   "source": [
    "msd_result = []\n",
    "time = np.linspace(0,80,len(frames))   #单位ns\n",
    "for frame_i,frame in enumerate(frames):\n",
    "    time_i = time[frame_i]\n",
    "    atom_list = []\n",
    "    for i in frame['atoms']:\n",
    "        if i['element'] in ana_element:\n",
    "            atom_list.append([i['x'],i['y'],i['z']])\n",
    "    atom_list = np.array(atom_list)\n",
    "    box = np.max(atom_list, axis=0)\n",
    "    res = cal_msd(atom_list,frame_zero,box,time_i)\n",
    "    msd_result.append(res)"
   ]
  },
  {
   "cell_type": "code",
   "execution_count": 51,
   "id": "5152cc2f",
   "metadata": {},
   "outputs": [],
   "source": [
    "import matplotlib.pyplot as plt"
   ]
  },
  {
   "cell_type": "code",
   "execution_count": 52,
   "id": "6601813e",
   "metadata": {},
   "outputs": [],
   "source": [
    "x_list = np.linspace(0,80,len(msd_result))"
   ]
  },
  {
   "cell_type": "code",
   "execution_count": 53,
   "id": "17ed1a06",
   "metadata": {},
   "outputs": [],
   "source": [
    "#"
   ]
  },
  {
   "cell_type": "code",
   "execution_count": 54,
   "id": "910af30b",
   "metadata": {},
   "outputs": [
    {
     "data": {
      "text/plain": [
       "[<matplotlib.lines.Line2D at 0x28cbcaea560>]"
      ]
     },
     "execution_count": 54,
     "metadata": {},
     "output_type": "execute_result"
    },
    {
     "data": {
      "image/png": "[encoded data removed]",
      "text/plain": [
       "<Figure size 432x288 with 1 Axes>"
      ]
     },
     "metadata": {
      "needs_background": "light"
     },
     "output_type": "display_data"
    }
   ],
   "source": [
    "plt.plot(x_list[0:],msd_result[0:])"
   ]
  },
  {
   "cell_type": "code",
   "execution_count": 55,
   "id": "db404641",
   "metadata": {},
   "outputs": [
    {
     "name": "stdout",
     "output_type": "stream",
     "text": [
      "0.0\n",
      "755.0444121965012\n",
      "841.2544010195977\n",
      "857.8256298388415\n",
      "864.8743069807832\n",
      "854.5722775355208\n",
      "845.9880638669713\n",
      "823.1843263756242\n",
      "867.4766545254622\n",
      "851.7444007392132\n",
      "869.9404997356194\n",
      "889.1570665401704\n",
      "852.7352803887148\n",
      "828.1236444759793\n",
      "874.4950401303356\n",
      "815.757905851256\n",
      "868.5254587943092\n",
      "887.4864848479233\n",
      "875.1205542157495\n",
      "900.3296831008063\n",
      "849.0908408889811\n",
      "889.4875551597138\n",
      "860.5221439777405\n",
      "846.2155469266442\n",
      "838.1691841874439\n",
      "843.3381229126409\n",
      "807.6062136299913\n",
      "871.3159525455965\n",
      "850.0969600317029\n",
      "856.5305677030574\n",
      "852.2740047574928\n",
      "876.8193963018671\n",
      "850.9950630000557\n",
      "903.3231077739921\n",
      "836.497097562798\n",
      "847.2556036942574\n",
      "864.9534210114446\n",
      "882.9099238008184\n",
      "869.5130785764533\n",
      "859.4786909393572\n",
      "813.7651591547432\n",
      "879.3728857706649\n",
      "862.7442829424075\n",
      "854.6592320666771\n",
      "859.2179090220537\n",
      "812.8183229307366\n",
      "802.258256280206\n",
      "892.1980649924756\n",
      "860.1580664155013\n",
      "853.0004301361728\n",
      "866.0911812832222\n",
      "862.2579284450159\n",
      "858.7137122765587\n",
      "862.376304740679\n",
      "827.4510068752511\n",
      "851.5974264416875\n",
      "847.913412033151\n",
      "855.2772290492284\n",
      "854.8341831363597\n",
      "868.872934696884\n",
      "845.016303102842\n",
      "870.8086801533021\n",
      "858.2159763473865\n",
      "832.5996023426865\n",
      "843.5576287388487\n",
      "850.8995299680655\n",
      "831.5454864780017\n",
      "865.9836610118189\n",
      "858.6748024672004\n",
      "874.4679384495281\n",
      "874.6222182682608\n",
      "868.316399906871\n",
      "869.6495727872879\n",
      "907.4287177292904\n",
      "815.301771862537\n",
      "871.7238535311213\n",
      "855.7168831052518\n",
      "864.6712397505153\n",
      "840.4739839152159\n",
      "874.737873453284\n",
      "814.8137313619548\n",
      "868.0344234415077\n",
      "838.5146363758611\n",
      "870.1901833811509\n",
      "887.1979673696623\n",
      "859.6897398522904\n",
      "891.435927199641\n",
      "858.9298758444733\n",
      "846.9253412492077\n",
      "874.506234128907\n",
      "870.2030417254966\n",
      "886.4857321511339\n",
      "804.853715397073\n",
      "894.5382627822883\n",
      "911.670093199877\n",
      "897.185966685764\n",
      "861.1394323411345\n",
      "858.0609992774015\n",
      "865.1374713317102\n",
      "863.5408665508064\n",
      "836.9988658270456\n",
      "857.7106775909411\n",
      "836.49080959074\n",
      "869.7963444590688\n",
      "857.2557534086374\n",
      "871.5074715084462\n",
      "835.2499624211326\n",
      "867.5111156101237\n",
      "846.6282651599298\n",
      "854.092144468289\n",
      "890.3199240418908\n",
      "832.7155463675006\n",
      "850.6172608826494\n",
      "849.1235796808962\n",
      "919.6795275133439\n",
      "852.3875752926887\n",
      "902.0476415647203\n",
      "848.7631317869927\n",
      "848.6816590369549\n",
      "826.1271935969942\n",
      "844.7901182691181\n",
      "858.4100913769466\n",
      "853.8189973199125\n",
      "846.8195634589144\n",
      "875.4101999047664\n",
      "841.675478502264\n",
      "846.8555022610774\n",
      "860.0033324337085\n",
      "895.1532370804412\n",
      "848.5351141793566\n",
      "897.6378494109257\n",
      "856.88460219228\n",
      "861.612175916106\n",
      "825.5578580079981\n",
      "849.8828250524305\n",
      "843.8675560064166\n",
      "847.3562605998452\n",
      "839.8038582288317\n",
      "898.5695567586642\n",
      "853.8589544762789\n",
      "866.3087717113773\n",
      "860.0618510202033\n",
      "880.1138709091488\n",
      "848.9735978170658\n",
      "844.7404472790045\n",
      "847.4581471571736\n",
      "836.9606148754651\n",
      "881.7525297823113\n",
      "853.3106886484877\n",
      "860.2211024780299\n",
      "898.7372768641894\n",
      "876.92498073117\n",
      "880.9184696580468\n",
      "867.8183435072032\n",
      "836.7768872204235\n",
      "815.8194226176671\n",
      "817.8796329073723\n",
      "853.9506150297857\n",
      "879.4793044893421\n",
      "849.5712051383193\n",
      "843.1336158431278\n",
      "847.4262073282104\n",
      "831.5190268037998\n",
      "841.9233297598182\n",
      "843.5296044590797\n",
      "891.078502525698\n",
      "877.1434044650705\n",
      "874.3507179352079\n",
      "864.4191323436767\n",
      "853.3670764557188\n",
      "841.7741615489904\n",
      "811.9156535214191\n",
      "820.1947269002036\n",
      "904.0622031459416\n",
      "841.3265112559301\n",
      "880.2907881474446\n",
      "844.5466007907887\n",
      "830.0723167772593\n",
      "849.5216571733654\n",
      "821.5168255081085\n",
      "877.9708223652052\n",
      "858.1564804294937\n",
      "840.4910168106244\n",
      "848.2429945180024\n",
      "851.210500086944\n",
      "904.2813745955532\n",
      "844.6266988318913\n",
      "823.4681140344422\n",
      "855.595265485636\n",
      "885.3965685463177\n",
      "851.6270234174525\n",
      "830.9052083284738\n",
      "873.348674172846\n",
      "858.0456229889899\n",
      "916.068449389406\n",
      "834.6453731539384\n",
      "838.6430163281258\n",
      "826.1687496067742\n",
      "863.2891080770795\n",
      "863.328287061651\n",
      "850.6632787912142\n",
      "853.677264840563\n",
      "833.8368587293944\n",
      "850.7305143940863\n",
      "879.3502829210406\n",
      "852.3634855014341\n",
      "859.0890124371614\n",
      "830.9069590149189\n",
      "903.7880948284114\n",
      "913.0446937047249\n",
      "832.231265899751\n",
      "826.8025627035225\n",
      "894.5292122972019\n",
      "832.0855338458977\n",
      "874.6188546300476\n",
      "908.7895783426534\n",
      "869.4417772558726\n",
      "867.1097180919933\n",
      "873.5206428245328\n",
      "875.2064693040194\n",
      "840.1844980430357\n",
      "844.0049276539634\n",
      "878.6587988046473\n",
      "876.8486714606611\n",
      "883.8086566333321\n",
      "853.4165633814407\n",
      "865.5475292524978\n",
      "846.4939332881694\n",
      "874.7907225100327\n",
      "868.3744886952984\n",
      "862.8911107510463\n",
      "848.4377620135392\n",
      "823.5155333227135\n",
      "848.9291178079069\n",
      "834.6794456889608\n",
      "889.4484444836871\n",
      "852.3750834741206\n",
      "796.3656024636538\n",
      "846.0282533362849\n",
      "876.4680060560675\n",
      "867.1214087851254\n",
      "842.1635545443175\n",
      "829.2546060757641\n",
      "828.179335162813\n",
      "847.4400243760083\n",
      "868.4386976179754\n",
      "848.1398895038533\n",
      "896.2891665381094\n",
      "859.0137245714446\n",
      "842.8432861852261\n"
     ]
    }
   ],
   "source": [
    "# 存储\n",
    "for i in range(len(msd_result)):\n",
    "    print(msd_result[i])"
   ]
  },
  {
   "cell_type": "code",
   "execution_count": null,
   "id": "b8441d9d",
   "metadata": {},
   "outputs": [],
   "source": []
  },
  {
   "cell_type": "code",
   "execution_count": null,
   "id": "4c6226e8",
   "metadata": {},
   "outputs": [],
   "source": []
  },
  {
   "cell_type": "code",
   "execution_count": null,
   "id": "728890b1",
   "metadata": {},
   "outputs": [],
   "source": []
  }
 ],
 "metadata": {
  "kernelspec": {
   "display_name": "Python 3 (ipykernel)",
   "language": "python",
   "name": "python3"
  },
  "language_info": {
   "codemirror_mode": {
    "name": "ipython",
    "version": 3
   },
   "file_extension": ".py",
   "mimetype": "text/x-python",
   "name": "python",
   "nbconvert_exporter": "python",
   "pygments_lexer": "ipython3",
   "version": "3.10.6"
  }
 },
 "nbformat": 4,
 "nbformat_minor": 5
}
