{
 "cells": [
  {
   "cell_type": "code",
   "execution_count": 22,
   "id": "798d64e3-1894-451d-8bc6-8b4b0fefd0f1",
   "metadata": {},
   "outputs": [],
   "source": [
    "import numpy as np\n",
    "import matplotlib.pyplot as plt\n",
    "####\n",
    "import sys\n",
    "sys.path.append(r'C:\\Users\\81004\\1_jupyter_code\\1_Functions')\n",
    "from ReadAll import read_lmp_file  as read_lmp"
   ]
  },
  {
   "cell_type": "code",
   "execution_count": 24,
   "id": "c912112f-e1e5-4e3e-9346-a0b01069c680",
   "metadata": {},
   "outputs": [],
   "source": [
    "file_path = r'D:\\MD_file\\Corning\\nov\\size-effect\\4kcry_1000p_out.lmp'"
   ]
  },
  {
   "cell_type": "code",
   "execution_count": 36,
   "id": "88f97cec-1000-4206-9fdf-f0014eaea535",
   "metadata": {},
   "outputs": [
    {
     "name": "stdout",
     "output_type": "stream",
     "text": [
      "Origin lmp file will be returned\n"
     ]
    }
   ],
   "source": [
    "data_origin = read_lmp(file_path=file_path,start_frame=0,step_frame=2,\n",
    "                 end_frame=10,label=1,parameter= ['id','type','x','y','z',])"
   ]
  },
  {
   "cell_type": "code",
   "execution_count": 38,
   "id": "8ed42412-17bb-49e8-b4f3-33ffb1a7a9f3",
   "metadata": {},
   "outputs": [
    {
     "name": "stdout",
     "output_type": "stream",
     "text": [
      "None\n"
     ]
    }
   ],
   "source": [
    "print(data_origin)"
   ]
  },
  {
   "cell_type": "code",
   "execution_count": null,
   "id": "b75c266e-07ea-4aef-a5c4-f149e4e493b2",
   "metadata": {},
   "outputs": [],
   "source": [
    "ITEM: TIMESTEP\n",
    "870000\n",
    "ITEM: NUMBER OF ATOMS\n",
    "3997\n",
    "ITEM: BOX BOUNDS xy xz yz pp pp pp\n",
    "-1.9286957782676950e-01 8.0192869577836461e+01 0.0000000000000000e+00\n",
    "-1.4465218336573926e-01 6.0144652183590509e+01 0.0000000000000000e+00\n",
    "-2.6090338117199963e-02 1.0848051338117145e+01 0.0000000000000000e+00\n",
    "ITEM: ATOMS id type q x y z vx vy vz fx fy fz c_Ke_atom c_Pe_atom v_E_total\n",
    "171  1 -1.2 1.40734  4.73744 6.90663  15.0705   -9.03891 0.737438 -0.292877 1.81714 0.21443                              8 0.256499 -10.4943 -10.2378\n",
    "2859 3  1.8 0.636792 1.85294 0.151989 -0.906767 -7.90446 -3.5165 1.65456 -1.41191 -0.87                              5377 0.105801 -18.9683 -18.8625\n"
   ]
  },
  {
   "cell_type": "code",
   "execution_count": null,
   "id": "9005d9ee-60db-4f6e-acd9-657b22c2fa20",
   "metadata": {},
   "outputs": [],
   "source": []
  },
  {
   "cell_type": "code",
   "execution_count": null,
   "id": "ff8c7025-b881-4f27-8593-b8712949cb79",
   "metadata": {},
   "outputs": [],
   "source": []
  },
  {
   "cell_type": "code",
   "execution_count": null,
   "id": "405df877-74fe-4419-95ce-d5d1c2f74d14",
   "metadata": {},
   "outputs": [],
   "source": []
  },
  {
   "cell_type": "code",
   "execution_count": null,
   "id": "446f0128-a2c4-42ec-9c46-00abe49fe205",
   "metadata": {},
   "outputs": [],
   "source": []
  },
  {
   "cell_type": "code",
   "execution_count": null,
   "id": "61751e48-1ed8-4d2c-910c-cc8d19366ffb",
   "metadata": {},
   "outputs": [],
   "source": []
  }
 ],
 "metadata": {
  "kernelspec": {
   "display_name": "Python 3 (ipykernel)",
   "language": "python",
   "name": "python3"
  },
  "language_info": {
   "codemirror_mode": {
    "name": "ipython",
    "version": 3
   },
   "file_extension": ".py",
   "mimetype": "text/x-python",
   "name": "python",
   "nbconvert_exporter": "python",
   "pygments_lexer": "ipython3",
   "version": "3.12.3"
  }
 },
 "nbformat": 4,
 "nbformat_minor": 5
}
