{
 "cells": [
  {
   "cell_type": "code",
   "execution_count": 177,
   "id": "efa79907-30a3-4a74-8980-7774d1ed9ba5",
   "metadata": {},
   "outputs": [],
   "source": [
    "# 先不取平均 看一看能否说明问题\n",
    "import numpy as np\n",
    "import sys\n",
    "import os\n",
    "import matplotlib.pyplot as plt\n",
    "\n",
    "# 设置全局字体为Times New Roman\n",
    "plt.rcParams['font.family'] = 'Times New Roman'"
   ]
  },
  {
   "cell_type": "code",
   "execution_count": 179,
   "id": "d2b9247d-cf0a-4b4c-b5d1-acf4999552ec",
   "metadata": {},
   "outputs": [],
   "source": [
    "# 先按照要求读取所有的lmp数据\n",
    "# 每一个原子的信息\n",
    "class Atom:\n",
    "    def __init__(self, id0=None, type0=None, q=None, x=None, y=None, z=None, \n",
    "                 vx=None, vy=None, vz=None, fx=None, fy=None, fz=None, \n",
    "                 c_ke_atom=None, c_pe_atom=None, v_e_total=None, frame=None, q4=None,q6=None,dis=None):\n",
    "        self.id = int(id0)\n",
    "        self.type = str(type0)\n",
    "        self.x = x\n",
    "        self.y = y\n",
    "        self.z = z\n",
    "        self.q = q\n",
    "        self.vx = vx\n",
    "        self.vy = vy\n",
    "        self.vz = vz\n",
    "        self.fx = fx\n",
    "        self.fy = fy\n",
    "        self.fz = fz\n",
    "        self.c_ke_atom = c_ke_atom\n",
    "        self.c_pe_atom = c_pe_atom\n",
    "        self.v_e_total = v_e_total\n",
    "        self.q4 = q4\n",
    "        self.q6 = q6\n",
    "        self.dis = dis\n",
    "        self.frame = frame\n",
    "    def print_info(self):\n",
    "        print(f'id:{int(self.id)}, type:{self.type}, x:{self.x}, y:{self.y}, z:{self.z}, q:{self.q}')\n",
    "        print(f'vx:{self.vx}, vy:{self.vy}, vz:{self.vz}, fx:{self.fx}, fy:{self.fy}, fz:{self.fz}')\n",
    "        print(f'E_total:{self.v_e_total}, E_kinetic:{self.c_ke_atom}, E_potential:{self.c_pe_atom}')\n",
    "        print(f'q4:{self.q4} dis:{self.q6} q6:{self.dis} frame:{self.frame}')"
   ]
  },
  {
   "cell_type": "markdown",
   "id": "68c56ee3-e0ab-429c-b3e9-d9d2aaa0d129",
   "metadata": {},
   "source": [
    "# 读取数据"
   ]
  },
  {
   "cell_type": "code",
   "execution_count": 182,
   "id": "841e97f2-fdad-4553-a187-bd578488ef32",
   "metadata": {},
   "outputs": [],
   "source": [
    "# 数据保存\n",
    "root = r'C:\\Users\\81004\\Desktop\\las_paper\\ana_data\\1800'\n",
    "save_name  = '1800k_crystal_fraction.npy'\n",
    "save_path = os.path.join(root,save_name)"
   ]
  },
  {
   "cell_type": "code",
   "execution_count": 184,
   "id": "511dd045-2c1f-44b9-9063-fe195190f8c9",
   "metadata": {},
   "outputs": [],
   "source": [
    "data = np.load(save_path,allow_pickle=True)"
   ]
  },
  {
   "cell_type": "code",
   "execution_count": 186,
   "id": "a5572490-bb43-4935-bfec-59a604364210",
   "metadata": {},
   "outputs": [
    {
     "name": "stdout",
     "output_type": "stream",
     "text": [
      "id:1, type:O, x:17.8212, y:20.1772, z:2.11278, q:-1.2\n",
      "vx:-12.1438, vy:3.50151, vz:7.16019, fx:-2.82501, fy:-3.04918, fz:0.421459\n",
      "E_total:-9.64804, E_kinetic:0.174942, E_potential:-9.82298\n",
      "q4:0.08255469038891079 dis:0.08255469038891079 q6:16.09806309736982 frame:1000\n"
     ]
    }
   ],
   "source": [
    "data[10][0].print_info()"
   ]
  },
  {
   "cell_type": "markdown",
   "id": "7c32ccb9-e401-463b-92f6-78016dc7eeaf",
   "metadata": {},
   "source": [
    "# 分析数据"
   ]
  },
  {
   "cell_type": "code",
   "execution_count": 189,
   "id": "ad93ed1a-3598-4155-bdcf-36f9f6c78a57",
   "metadata": {},
   "outputs": [
    {
     "name": "stdout",
     "output_type": "stream",
     "text": [
      "20\n",
      "5148\n"
     ]
    }
   ],
   "source": [
    "print(len(data))\n",
    "print(len(data[0]))"
   ]
  },
  {
   "cell_type": "code",
   "execution_count": 191,
   "id": "1e7cdcd2-4d01-4513-8a3f-f0736b6c31fd",
   "metadata": {},
   "outputs": [],
   "source": [
    "crystal_fraction = []\n",
    "atom_num = len(data[0])\n",
    "for i_frame in data:\n",
    "    count = 0\n",
    "    for i_atom in i_frame:\n",
    "        if i_atom.q4>0.18:\n",
    "            count+=1\n",
    "    fraction = count/atom_num\n",
    "    frame = i_atom.frame\n",
    "    crystal_fraction.append([frame,fraction])\n",
    "crystal_fraction = np.array(crystal_fraction)"
   ]
  },
  {
   "cell_type": "code",
   "execution_count": 193,
   "id": "b36991cd-9375-49e4-a4c8-11b6d6636c63",
   "metadata": {},
   "outputs": [
    {
     "data": {
      "text/plain": [
       "array([[0.00000000e+00, 2.11149961e-01],\n",
       "       [1.00000000e+02, 2.49417249e-01],\n",
       "       [2.00000000e+02, 2.84770785e-01],\n",
       "       [3.00000000e+02, 2.87684538e-01],\n",
       "       [4.00000000e+02, 3.04390054e-01],\n",
       "       [5.00000000e+02, 3.17987568e-01],\n",
       "       [6.00000000e+02, 3.22843823e-01],\n",
       "       [7.00000000e+02, 3.37024087e-01],\n",
       "       [8.00000000e+02, 3.68686869e-01],\n",
       "       [9.00000000e+02, 3.67715618e-01],\n",
       "       [1.00000000e+03, 4.11421911e-01],\n",
       "       [1.10000000e+03, 4.57459207e-01],\n",
       "       [1.20000000e+03, 4.66783217e-01],\n",
       "       [1.30000000e+03, 4.82323232e-01],\n",
       "       [1.40000000e+03, 5.05439005e-01],\n",
       "       [1.50000000e+03, 5.16705517e-01],\n",
       "       [1.60000000e+03, 5.57109557e-01],\n",
       "       [1.70000000e+03, 5.88189588e-01],\n",
       "       [1.80000000e+03, 5.54972805e-01],\n",
       "       [1.90000000e+03, 6.58702409e-01]])"
      ]
     },
     "execution_count": 193,
     "metadata": {},
     "output_type": "execute_result"
    }
   ],
   "source": [
    "crystal_fraction"
   ]
  },
  {
   "cell_type": "code",
   "execution_count": 195,
   "id": "79174666-82ac-47f6-b3e7-18df3bd33182",
   "metadata": {},
   "outputs": [
    {
     "data": {
      "text/plain": [
       "[<matplotlib.lines.Line2D at 0x1f1036ec170>]"
      ]
     },
     "execution_count": 195,
     "metadata": {},
     "output_type": "execute_result"
    },
    {
     "data": {
      "image/png": "[encoded data removed]",
      "text/plain": [
       "<Figure size 640x480 with 1 Axes>"
      ]
     },
     "metadata": {},
     "output_type": "display_data"
    }
   ],
   "source": [
    "x = crystal_fraction.T[0]/25\n",
    "y = crystal_fraction.T[1]\n",
    "plt.plot(x,y)"
   ]
  },
  {
   "cell_type": "code",
   "execution_count": 197,
   "id": "cffc0b1a-0587-4432-9a08-814b10de94de",
   "metadata": {},
   "outputs": [],
   "source": [
    "file_name = os.path.join(root,'1800K_fraction.txt')\n",
    "np.savetxt(file_name, np.array([x,y]).T, delimiter=\",\", fmt=\"%.6f\")"
   ]
  },
  {
   "cell_type": "markdown",
   "id": "b05675fe-2c7d-43ec-acc1-42bc2f90aafd",
   "metadata": {},
   "source": [
    "# 计算n"
   ]
  },
  {
   "cell_type": "code",
   "execution_count": 151,
   "id": "51a49773-1de2-4aae-b111-c7a9bef1ef8b",
   "metadata": {},
   "outputs": [],
   "source": [
    "x = np.array(x)\n",
    "y = np.array(y)"
   ]
  },
  {
   "cell_type": "code",
   "execution_count": 161,
   "id": "5b05fa4c-0c89-44b4-94b9-7380fd212090",
   "metadata": {},
   "outputs": [
    {
     "data": {
      "text/plain": [
       "17"
      ]
     },
     "execution_count": 161,
     "metadata": {},
     "output_type": "execute_result"
    }
   ],
   "source": [
    "len(x)"
   ]
  },
  {
   "cell_type": "code",
   "execution_count": null,
   "id": "a640dcb7-8b0f-4612-ab7a-b86136d0e756",
   "metadata": {},
   "outputs": [],
   "source": []
  },
  {
   "cell_type": "code",
   "execution_count": null,
   "id": "ebf8ebc8-8736-47cb-8f9c-1c1c707e307d",
   "metadata": {},
   "outputs": [],
   "source": []
  },
  {
   "cell_type": "markdown",
   "id": "891f3ed1-7d20-4b0c-b815-55782e577354",
   "metadata": {},
   "source": [
    "# 在之后就是各种画图了"
   ]
  },
  {
   "cell_type": "code",
   "execution_count": null,
   "id": "a00de855-de5d-4240-a7a7-7886195186db",
   "metadata": {},
   "outputs": [],
   "source": []
  },
  {
   "cell_type": "code",
   "execution_count": null,
   "id": "74388ce9-b7c8-461b-bccf-a79072166682",
   "metadata": {},
   "outputs": [],
   "source": []
  }
 ],
 "metadata": {
  "kernelspec": {
   "display_name": "Python 3 (ipykernel)",
   "language": "python",
   "name": "python3"
  },
  "language_info": {
   "codemirror_mode": {
    "name": "ipython",
    "version": 3
   },
   "file_extension": ".py",
   "mimetype": "text/x-python",
   "name": "python",
   "nbconvert_exporter": "python",
   "pygments_lexer": "ipython3",
   "version": "3.12.3"
  },
  "widgets": {
   "application/vnd.jupyter.widget-state+json": {
    "state": {},
    "version_major": 2,
    "version_minor": 0
   }
  }
 },
 "nbformat": 4,
 "nbformat_minor": 5
}
