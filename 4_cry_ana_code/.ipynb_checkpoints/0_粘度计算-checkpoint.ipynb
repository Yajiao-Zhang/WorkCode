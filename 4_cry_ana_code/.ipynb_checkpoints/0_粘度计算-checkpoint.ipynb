{
 "cells": [
  {
   "cell_type": "code",
   "execution_count": 1,
   "id": "0fe24bf8",
   "metadata": {},
   "outputs": [],
   "source": [
    "# 先不取平均 看一看能否说明问题\n",
    "import numpy as np\n",
    "import sys\n",
    "import os\n",
    "import matplotlib.pyplot as plt\n",
    "\n",
    "# 设置全局字体为Times New Roman\n",
    "plt.rcParams['font.family'] = 'Times New Roman'"
   ]
  },
  {
   "cell_type": "code",
   "execution_count": 2,
   "id": "1aa75ee9",
   "metadata": {},
   "outputs": [],
   "source": [
    "# 读取xyz数据\n",
    "root = r'C:\\Users\\81004\\Desktop\\relaxation\\ls2\\1500'\n",
    "file_name =  \"out_cool.lmp\"\n",
    "file_path = os.path.join(root,file_name)\n",
    "\n",
    "start_frame = 0\n",
    "end_frame = 100\n",
    "step_frame = 1\n",
    "###########\n",
    "\n",
    "# 要分析的元素\n",
    "ana_element = ['Si','O','Li']\n",
    "# lmp对应的值\n",
    "dic_charge = {2.4:'Si', -1.2:'O', 1.8:'Al', 0.6:'Li'}\n",
    "# 画出分布的元素\n",
    "draw_element = ['O']\n",
    "set_cutoff = 4.0"
   ]
  },
  {
   "cell_type": "code",
   "execution_count": 3,
   "id": "8f98eb75",
   "metadata": {},
   "outputs": [],
   "source": [
    "# 先按照要求读取所有的lmp数据\n",
    "# 每一个原子的信息\n",
    "class Atom:\n",
    "    def __init__(self, id0=None, type0=None, q=None, x=None, y=None, z=None, \n",
    "                 vx=None, vy=None, vz=None, fx=None, fy=None, fz=None, \n",
    "                 c_ke_atom=None, c_pe_atom=None, v_e_total=None, frame=None, q4=None,q6=None,dis=None):\n",
    "        self.id = int(id0)\n",
    "        self.type = str(type0)\n",
    "        self.x = x\n",
    "        self.y = y\n",
    "        self.z = z\n",
    "        self.q = q\n",
    "        self.vx = vx\n",
    "        self.vy = vy\n",
    "        self.vz = vz\n",
    "        self.fx = fx\n",
    "        self.fy = fy\n",
    "        self.fz = fz\n",
    "        self.c_ke_atom = c_ke_atom\n",
    "        self.c_pe_atom = c_pe_atom\n",
    "        self.v_e_total = v_e_total\n",
    "        self.q4 = q4\n",
    "        self.q6 = q6\n",
    "        self.dis = dis\n",
    "        self.frame = frame\n",
    "    def print_info(self):\n",
    "        print(f'id:{int(self.id)}, type:{self.type}, x:{self.x}, y:{self.y}, z:{self.z}, q:{self.q}')\n",
    "        print(f'vx:{self.vx}, vy:{self.vy}, vz:{self.vz}, fx:{self.fx}, fy:{self.fy}, fz:{self.fz}')\n",
    "        print(f'E_total:{self.v_e_total}, E_kinetic:{self.c_ke_atom}, E_potential:{self.c_pe_atom}')\n",
    "        print(f'q4:{self.q4} dis:{self.q6} q6:{self.dis} frame:{self.frame}')"
   ]
  },
  {
   "cell_type": "code",
   "execution_count": 4,
   "id": "9468deee",
   "metadata": {},
   "outputs": [],
   "source": [
    "def read_lmp(file_path):\n",
    "    # 所有信息储存的总列表\n",
    "    list_all_frames = []\n",
    "    x_min,x_max,y_min,y_max,z_min,z_max = None,None,None, None,None,None\n",
    "    box_size = [None, None, None]\n",
    "    num_atom = None\n",
    "    len_per_frame = None\n",
    "    # 第一次打开,是看一下基本数据：\n",
    "    with open(file_path,'r') as f_open:\n",
    "        # 前三行都不要\n",
    "        for i in range(3): \n",
    "            f_open.readline()\n",
    "        # 第四行是Number\n",
    "        num_atom = int(f_open.readline())\n",
    "        # 定义一页的行数\n",
    "        len_per_frame = num_atom + 9  \n",
    "        # 第五行不要\n",
    "        f_open.readline()\n",
    "        # 存储range范围\n",
    "        temp_range_list = []\n",
    "        for i in range(3): \n",
    "            # 无论是两个还是三个都可以 \n",
    "            temp = f_open.readline().split()\n",
    "            temp_min,temp_max = temp[0],temp[1]\n",
    "            temp_range_list.append(temp_min)\n",
    "            temp_range_list.append(temp_max)\n",
    "        # 将字符串转换为浮点数并直接赋值给变量\n",
    "        x_min, x_max, y_min, y_max, z_min, z_max = [float(i) for i in temp_range_list]\n",
    "    print(f'Num of atom: {num_atom}')\n",
    "    print(f'X range: {x_min}  {x_max}')\n",
    "    print(f'Y range: {y_min}  {y_max}')\n",
    "    print(f'Z range: {z_min}  {z_max}\\n')\n",
    "    \n",
    "    # 开始读取文件\n",
    "    f_open = open(file_path,'r')\n",
    "    # 记录当前行数\n",
    "    count_row = 0\n",
    "    for i_frame in range(start_frame, end_frame, step_frame):\n",
    "        if i_frame%50==0:\n",
    "            print(f'Now is reading frame {i_frame}')\n",
    "        list_frame = []\n",
    "        # 先判断下是不是我要的这页\n",
    "        now_frame_count = len_per_frame*i_frame\n",
    "        # 如果不是同一页，则跳过这一页,再继续空读\n",
    "        while count_row!=now_frame_count:\n",
    "            # print(f'Now:{now_frame_count}  count:{count_row}')\n",
    "            count_row+=len_per_frame\n",
    "            for i in range(len_per_frame):\n",
    "                f_open.readline()\n",
    "        # 如果是同一页，那么就开始读取数据\n",
    "        else:\n",
    "            # print(f'Now:{now_frame_count}  count:{count_row}')\n",
    "            # 首先就是跳过表头的9行\n",
    "            # for i in range(9):\n",
    "            #     f_open.readline()\n",
    "            # 读取表头九行的数据\n",
    "            is_end = f_open.readline()\n",
    "            if is_end=='':\n",
    "                print(f'读取到文件尾，frame:{i_frame}.')\n",
    "                break\n",
    "            time_step = int(f_open.readline())\n",
    "            f_open.readline()\n",
    "            atom_num = float(f_open.readline())\n",
    "            f_open.readline()\n",
    "            # 有的是2 有的是三个\n",
    "            temp = f_open.readline()\n",
    "            x_low,x_high = temp.split()[0],temp.split()[1]\n",
    "            temp = f_open.readline()\n",
    "            y_low,y_high = temp.split()[0],temp.split()[1]\n",
    "            temp = f_open.readline()\n",
    "            z_low,z_high = temp.split()[0],temp.split()[1]\n",
    "            f_open.readline()\n",
    "            x_low,x_high,y_low,y_high,z_low,z_high = float(x_low),float(x_high),float(y_low),float(y_high),float(z_low),float(z_high)\n",
    "            dic_system = {'timestep':time_step, \n",
    "                         'num_atoms':atom_num,\n",
    "                          'x_low':x_low,'x_high':x_high,\n",
    "                          'y_low':y_low,'y_high':y_high,\n",
    "                          'z_low':z_low,'z_high':z_high,\n",
    "                         }\n",
    "            # 再读取其余的数据\n",
    "            for j_row in range(num_atom):\n",
    "                temp_data = f_open.readline().split()\n",
    "                temp_float = [float(i) for i in temp_data]\n",
    "                # \n",
    "                id0, type0, q, x, y, z, vx, vy, vz, fx, fy, fz = [float(i) for i in temp_data]\n",
    "                #print(id0, type0, q, x, y, z)\n",
    "                # 类型转换回 str\n",
    "                type0 = dic_charge[q]\n",
    "                temp_atom = Atom(id0=id0, type0=type0, q=q, x=x, y=y, z=z, vx=vx, vy=vy, vz=vz, fx=fx, fy=fy, fz=fz, frame=i_frame)\n",
    "                list_frame.append(temp_atom)\n",
    "            # 这一页读取完了,首先是对原子的id排序\n",
    "            list_frame = sorted(list_frame, key = lambda Atom:Atom.id)\n",
    "            # 再存入信息帧中\n",
    "            frame_data = {\n",
    "                \"atom_data\":list_frame,\n",
    "                'system_info':dic_system\n",
    "            }\n",
    "            list_all_frames.append(frame_data)\n",
    "            count_row+=len_per_frame\n",
    "         \n",
    "    # 关闭文件\n",
    "    print('文件读取完毕！')\n",
    "    f_open.close()\n",
    "    return list_all_frames\n",
    "def read_xyz_frames(file_path):\n",
    "    frames = []\n",
    "    current_frame = None\n",
    "\n",
    "    with open(file_path, 'r') as file:\n",
    "        lines = file.readlines()\n",
    "        line_index = 0\n",
    "\n",
    "        while line_index < len(lines):\n",
    "            line = lines[line_index].strip()\n",
    "\n",
    "            if line.isdigit():\n",
    "                # 读取原子数\n",
    "                if current_frame:\n",
    "                    frames.append(current_frame)\n",
    "                num_atoms = int(line)\n",
    "                current_frame = {\"num_atoms\": num_atoms, \"atoms\": []}\n",
    "                line_index += 2  # 跳过标题行 \"Atoms\"\n",
    "            else:\n",
    "                # 读取原子坐标\n",
    "                if current_frame:\n",
    "                    atom_data = line.split()\n",
    "                    if len(atom_data) == 4:\n",
    "                        element, x, y, z = atom_data\n",
    "                        current_frame[\"atoms\"].append({\n",
    "                            \"element\": element,\n",
    "                            \"x\": float(x),\n",
    "                            \"y\": float(y),\n",
    "                            \"z\": float(z)\n",
    "                        })\n",
    "                line_index += 1\n",
    "\n",
    "        if current_frame:\n",
    "            frames.append(current_frame)\n",
    "    print('文件读取完毕！')\n",
    "    return frames"
   ]
  },
  {
   "cell_type": "code",
   "execution_count": 9,
   "id": "df9fd782",
   "metadata": {},
   "outputs": [
    {
     "name": "stdout",
     "output_type": "stream",
     "text": [
      "输入文件为lmp格式！\n",
      "Num of atom: 15000\n",
      "X range: -0.546504349255656  57.71947634923936\n",
      "Y range: -0.546504349255656  57.71947634923936\n",
      "Z range: -0.546504349255656  57.71947634923936\n",
      "\n",
      "Now is reading frame 0\n",
      "Now is reading frame 50\n",
      "文件读取完毕！\n"
     ]
    }
   ],
   "source": [
    "file_type = file_path.split('\\\\')[-1].split('.')[-1]\n",
    "frames = []\n",
    "if file_type=='lmp':\n",
    "    print('输入文件为lmp格式！')\n",
    "    frames = read_lmp(file_path)   \n",
    "elif file_type=='xyz':\n",
    "    frames = read_xyz_frames(file_path)\n",
    "    # 找出最大的x、y和z值\n",
    "    max_x = max([max(frame[\"atoms\"], key=lambda atom: atom[\"x\"])[\"x\"] for frame in frames])\n",
    "    max_y = max([max(frame[\"atoms\"], key=lambda atom: atom[\"y\"])[\"y\"] for frame in frames])\n",
    "    max_z = max([max(frame[\"atoms\"], key=lambda atom: atom[\"z\"])[\"z\"] for frame in frames])\n",
    "    print(\"Maximum X value:\", max_x)\n",
    "    print(\"Maximum Y value:\", max_y)\n",
    "    print(\"Maximum Z value:\", max_z)\n",
    "else:\n",
    "    print('输入文件有误！')"
   ]
  },
  {
   "cell_type": "code",
   "execution_count": 10,
   "id": "eaa9a16d-2cb1-4ce8-9b20-801a08553ef8",
   "metadata": {},
   "outputs": [
    {
     "name": "stdout",
     "output_type": "stream",
     "text": [
      "id:1, type:O, x:11.5671, y:41.3144, z:19.6056, q:-1.2\n",
      "vx:20.8073, vy:-2.69782, vz:-0.200504, fx:1.05419, fy:0.933585, fz:1.05522\n",
      "E_total:None, E_kinetic:None, E_potential:None\n",
      "q4:None dis:None q6:None frame:0\n",
      "id:15000, type:Li, x:34.6173, y:57.0732, z:23.6692, q:0.6\n",
      "vx:-4.13379, vy:-9.89072, vz:-23.4458, fx:-0.610481, fy:0.0976788, fz:-0.03262\n",
      "E_total:None, E_kinetic:None, E_potential:None\n",
      "q4:None dis:None q6:None frame:20\n"
     ]
    },
    {
     "data": {
      "text/plain": [
       "{'timestep': 800000,\n",
       " 'num_atoms': 15000.0,\n",
       " 'x_low': -0.546504349255656,\n",
       " 'x_high': 57.71947634923936,\n",
       " 'y_low': -0.546504349255656,\n",
       " 'y_high': 57.71947634923936,\n",
       " 'z_low': -0.546504349255656,\n",
       " 'z_high': 57.71947634923936}"
      ]
     },
     "execution_count": 10,
     "metadata": {},
     "output_type": "execute_result"
    }
   ],
   "source": [
    "frames[0]['atom_data'][0].print_info()\n",
    "frames[20]['atom_data'][-1].print_info()\n",
    "frames[0]['system_info']"
   ]
  },
  {
   "cell_type": "markdown",
   "id": "79a5f900-c1b8-47fb-8502-97ab69c2865c",
   "metadata": {},
   "source": [
    "# 相关函数"
   ]
  },
  {
   "cell_type": "code",
   "execution_count": 11,
   "id": "55e77087",
   "metadata": {},
   "outputs": [],
   "source": []
  },
  {
   "cell_type": "code",
   "execution_count": 12,
   "id": "d3273f8a-0c29-4fee-8a51-d0daa31c7ab1",
   "metadata": {},
   "outputs": [],
   "source": [
    "def cal_ppp_dis_object(boxsize,point1,point2):\n",
    "    i_1 = np.array([point1.x,point1.y,point1.z])\n",
    "    j_1 = np.array([point2.x,point2.y,point2.z])\n",
    "    boxsize = np.array(boxsize)\n",
    "    # 计算\n",
    "    delta = i_1-j_1\n",
    "    delta = delta - np.round(delta / boxsize) * boxsize\n",
    "    distance = np.linalg.norm(delta)\n",
    "    return distance"
   ]
  },
  {
   "cell_type": "code",
   "execution_count": 13,
   "id": "41979f2a-d73d-48db-9115-c0576c3eee96",
   "metadata": {},
   "outputs": [],
   "source": [
    "def cal_Pxy(atom_list):\n",
    "    # 遍历原子，然后\n",
    "    kinetic_part = 0.0     # 动能部分\n",
    "    potential_part = 0.0   # 势能部分\n",
    "    for i_atom in atom_list:\n",
    "        m = dic_element[i_atom.type]\n",
    "        kinetic_part += m*i_atom.vx*i_atom.vy\n",
    "        potential_part += i_atom.x*i_atom.fy\n",
    "    P_xy = kinetic_part+potential_part\n",
    "    return P_xy"
   ]
  },
  {
   "cell_type": "code",
   "execution_count": 16,
   "id": "5cf3d689-b10a-46cf-8494-ba810b59f705",
   "metadata": {},
   "outputs": [
    {
     "data": {
      "text/plain": [
       "227690.28306261156"
      ]
     },
     "execution_count": 16,
     "metadata": {},
     "output_type": "execute_result"
    }
   ],
   "source": [
    "cal_Pxy(frames[0]['atom_data'])"
   ]
  },
  {
   "cell_type": "markdown",
   "id": "646ffe62-79e6-477e-bd7e-cf3c89189006",
   "metadata": {},
   "source": [
    "# 参数设置"
   ]
  },
  {
   "cell_type": "code",
   "execution_count": 56,
   "id": "1fa7744b-4169-4f56-b65d-d008124a7cb3",
   "metadata": {},
   "outputs": [],
   "source": [
    "start_frame = 0\n",
    "end_frame = 100\n",
    "step_frame = 1\n",
    "ana_list = frames[start_frame:end_frame:step_frame]"
   ]
  },
  {
   "cell_type": "markdown",
   "id": "dc2c4498-0fd9-4650-a53d-82b030162c32",
   "metadata": {},
   "source": [
    "# 读取文件完毕"
   ]
  },
  {
   "cell_type": "code",
   "execution_count": 59,
   "id": "d5e3a9db-a70c-4c75-8772-46274431dc56",
   "metadata": {},
   "outputs": [],
   "source": [
    "test_list = ana_list\n",
    "###########\n",
    "dic_element = {'Si':28.086,'O':16.0,'Li':6.941}\n",
    "volume = (0.5*(test_list[0]['system_info']['x_high']+test_list[-1]['system_info']['x_high']))**3"
   ]
  },
  {
   "cell_type": "code",
   "execution_count": 61,
   "id": "56cc5068-c370-499e-8fe0-b7eb55bb0f66",
   "metadata": {},
   "outputs": [],
   "source": [
    "import numpy as np\n",
    "\n",
    "test_list = ana_list\n",
    "# 假设你已经有了很多帧 atom_list_all，每一帧是所有原子的信息\n",
    "Pxy_list = [None]*len(test_list)\n",
    "for i,atom_list in enumerate(test_list):\n",
    "    Pxy = cal_Pxy(atom_list['atom_data'])\n",
    "    Pxy_list[i] = Pxy\n",
    "Pxy_array = np.array(Pxy_list)\n",
    "\n",
    "# 计算自相关函数\n",
    "def autocorrelation(Pxy_array):\n",
    "    n = len(Pxy_array)\n",
    "    acf = np.zeros(n)\n",
    "    for t in range(n):\n",
    "        valid = Pxy_array[:n-t]\n",
    "        shifted = Pxy_array[t:]\n",
    "        acf[t] = np.mean(valid * shifted)\n",
    "    return acf\n",
    "C_t = autocorrelation(Pxy_array)"
   ]
  },
  {
   "cell_type": "code",
   "execution_count": 62,
   "id": "cb140aca-41a6-4627-a3da-2952cdd6f0f5",
   "metadata": {},
   "outputs": [
    {
     "data": {
      "text/plain": [
       "[<matplotlib.lines.Line2D at 0x2ddef139820>]"
      ]
     },
     "execution_count": 62,
     "metadata": {},
     "output_type": "execute_result"
    },
    {
     "data": {
      "image/png": "[encoded data removed]",
      "text/plain": [
       "<Figure size 640x480 with 1 Axes>"
      ]
     },
     "metadata": {},
     "output_type": "display_data"
    }
   ],
   "source": [
    "plt.plot(range(len(C_t)),C_t)"
   ]
  },
  {
   "cell_type": "markdown",
   "id": "00d9502f-5319-4fb7-b949-4febb8e1933d",
   "metadata": {},
   "source": [
    "# 单位转换 基于Green-Kubo的粘度计算"
   ]
  },
  {
   "cell_type": "code",
   "execution_count": 66,
   "id": "6671ea42-1601-4ba0-ab7c-bcf242ff2533",
   "metadata": {},
   "outputs": [
    {
     "name": "stdout",
     "output_type": "stream",
     "text": [
      "Viscosity η = 4.028e+17 Pa·s\n"
     ]
    }
   ],
   "source": [
    "import numpy as np\n",
    "\n",
    "# constants\n",
    "kB = 1.380649e-23  # Boltzmann constant in J/K\n",
    "eV_to_J = 1.60218e-19  # 1 eV = 1.60218e-19 J\n",
    "A_to_m = 1e-10  # 1 Å = 1e-10 m\n",
    "eV_A3_to_Pa = 1.60218e11  # 1 eV/Å³ = 1.60218e11 Pa\n",
    "\n",
    "# system parameters\n",
    "T = 1500  # K, your temperature\n",
    "dt = 0.1e-9  # s, your time step = 0.1 ns = 1e-10 s\n",
    "\n",
    "# Assume you have already calculated a list of Pxy values in eV/Å³\n",
    "Pxy_list = Pxy_list\n",
    "\n",
    "# volume in Å³ -> m³\n",
    "V_A3 = volume\n",
    "V_m3 = V_A3 * (A_to_m**3)  # now in m³\n",
    "\n",
    "# convert Pxy to Pa\n",
    "Pxy_array = np.array(Pxy_list) * eV_A3_to_Pa\n",
    "\n",
    "# compute autocorrelation\n",
    "def autocorrelation(x):\n",
    "    n = len(x)\n",
    "    result = np.correlate(x, x, mode='full')\n",
    "    result = result[n-1:]  # only positive times\n",
    "    result /= np.arange(n, 0, -1)  # normalize (number of terms)\n",
    "    return result\n",
    "\n",
    "C_t = autocorrelation(Pxy_array)\n",
    "\n",
    "# integration\n",
    "integral = np.trapz(C_t, dx=dt)\n",
    "\n",
    "# calculate viscosity\n",
    "eta = (V_m3 / (kB * T)) * integral  # result in Pa.s\n",
    "\n",
    "print(f\"Viscosity η = {eta:.3e} Pa·s\")\n"
   ]
  },
  {
   "cell_type": "code",
   "execution_count": null,
   "id": "84dc0489-0705-4c99-bdde-296aaf275269",
   "metadata": {},
   "outputs": [],
   "source": []
  },
  {
   "cell_type": "markdown",
   "id": "3fad0135-e2e5-441a-8f99-da17c8089833",
   "metadata": {},
   "source": [
    "# 基于Einstein–Gelfand的粘度计算"
   ]
  },
  {
   "cell_type": "code",
   "execution_count": 115,
   "id": "d9a56d46-77ed-46e6-a8bd-69213119cbe7",
   "metadata": {},
   "outputs": [],
   "source": [
    "start_frame = 0\n",
    "end_frame = 100\n",
    "step_frame = 1\n",
    "ana_list = frames[start_frame:end_frame:step_frame]"
   ]
  },
  {
   "cell_type": "code",
   "execution_count": 117,
   "id": "4bc03768-d971-46b7-9263-d13b7183a64d",
   "metadata": {},
   "outputs": [],
   "source": [
    "def cal_dt(frame_0,frame_t):\n",
    "    res_0,res_t = 0,0\n",
    "    for atom_0,atom_t in zip(frame_0,frame_t):\n",
    "        res_0 += (atom_0.x*atom_0.vy*dic_element[atom_0.type])\n",
    "        res_t += (atom_t.x*atom_t.vy*dic_element[atom_t.type]) \n",
    "    res = (res_t-res_0)**2\n",
    "    return res"
   ]
  },
  {
   "cell_type": "code",
   "execution_count": 125,
   "id": "6de50350-4f2f-4f6d-b7d9-60d4a61cf5a1",
   "metadata": {},
   "outputs": [],
   "source": [
    "dt_res = [None]*len(ana_list)\n",
    "for i_num,i_frame in enumerate(ana_list):\n",
    "    frame_0 = ana_list[0]['atom_data']\n",
    "    frame_t = i_frame['atom_data']\n",
    "    dt = cal_dt(frame_0,frame_t)\n",
    "    dt_res[i_num] = dt\n",
    "# \n",
    "res = autocorrelation(dt_res)"
   ]
  },
  {
   "cell_type": "code",
   "execution_count": 129,
   "id": "9951983f-0bdc-41d6-a679-796061a9df44",
   "metadata": {},
   "outputs": [],
   "source": [
    "def autocorrelation(data):\n",
    "    # 计算自相关函数：C(t) = <X(t) * X(0)> / <X(0)^2>\n",
    "    n = len(data)\n",
    "    mean = np.mean(data)\n",
    "    autocorr = np.zeros(n)\n",
    "    for t in range(n):\n",
    "        autocorr[t] = np.mean((data[:n-t] - mean) * (data[t:] - mean)) / np.var(data)\n",
    "    return autocorr"
   ]
  },
  {
   "cell_type": "code",
   "execution_count": 131,
   "id": "1af2cc40-1c2f-4e5f-a1e4-3862aed50fa2",
   "metadata": {},
   "outputs": [],
   "source": [
    "res = autocorrelation_direct(dt_res)"
   ]
  },
  {
   "cell_type": "code",
   "execution_count": 133,
   "id": "90dd8232-b973-47c2-ba95-bc205ea76fe4",
   "metadata": {},
   "outputs": [
    {
     "data": {
      "text/plain": [
       "[<matplotlib.lines.Line2D at 0x2ddf52ed670>]"
      ]
     },
     "execution_count": 133,
     "metadata": {},
     "output_type": "execute_result"
    },
    {
     "data": {
      "image/png": "[encoded data removed]",
      "text/plain": [
       "<Figure size 640x480 with 1 Axes>"
      ]
     },
     "metadata": {},
     "output_type": "display_data"
    }
   ],
   "source": [
    "plt.plot(range(len(res)),res)"
   ]
  },
  {
   "cell_type": "code",
   "execution_count": 103,
   "id": "092d0e81",
   "metadata": {},
   "outputs": [],
   "source": [
    "import numpy as np\n",
    "\n",
    "def autocorrelation_direct(series, max_lag=None):\n",
    "    \"\"\"\n",
    "    计算时间序列的自相关系数（ACF）\n",
    "    \n",
    "    参数:\n",
    "        series: 输入的时间序列（列表或NumPy数组）\n",
    "        max_lag: 最大延迟步长（默认为序列长度的一半）\n",
    "    \n",
    "    返回:\n",
    "        acf: 自相关系数数组，长度=max_lag\n",
    "    \"\"\"\n",
    "    n = len(series)\n",
    "    if max_lag is None:\n",
    "        max_lag = n // 2  # 默认取一半长度\n",
    "    mean = np.mean(series)\n",
    "    var = np.var(series)\n",
    "    acf = np.zeros(max_lag)\n",
    "    \n",
    "    for t in range(max_lag):\n",
    "        cov = np.sum((series[:n-t] - mean) * (series[t:] - mean)) / n\n",
    "        acf[t] = cov / var  # 归一化\n",
    "    \n",
    "    return acf"
   ]
  },
  {
   "cell_type": "code",
   "execution_count": 105,
   "id": "99710bea-958e-4e7e-aa2e-7011f83f56cb",
   "metadata": {},
   "outputs": [
    {
     "name": "stdout",
     "output_type": "stream",
     "text": [
      "自相关系数: [ 1.          0.7         0.41212121  0.14848485 -0.07878788]\n"
     ]
    }
   ],
   "source": [
    "data = [1, 2, 3, 4, 5, 6, 7, 8, 9, 10]\n",
    "acf = autocorrelation_direct(data)\n",
    "print(\"自相关系数:\", acf)"
   ]
  },
  {
   "cell_type": "code",
   "execution_count": null,
   "id": "b5434350-e511-43a0-a0b8-d5de2a027294",
   "metadata": {},
   "outputs": [],
   "source": [
    "# compute autocorrelation\n",
    "def autocorrelation(x):\n",
    "    n = len(x)\n",
    "    result = np.correlate(x, x, mode='full')\n",
    "    result = result[n-1:]  # only positive times\n",
    "    result /= np.arange(n, 0, -1)  # normalize (number of terms)\n",
    "    return result"
   ]
  },
  {
   "cell_type": "code",
   "execution_count": 107,
   "id": "1295155f-ceb3-4814-8a06-d9a38a0aa544",
   "metadata": {},
   "outputs": [
    {
     "data": {
      "text/plain": [
       "[<matplotlib.lines.Line2D at 0x2ddf024d820>]"
      ]
     },
     "execution_count": 107,
     "metadata": {},
     "output_type": "execute_result"
    },
    {
     "data": {
      "image/png": "[encoded data removed]",
      "text/plain": [
       "<Figure size 640x480 with 1 Axes>"
      ]
     },
     "metadata": {},
     "output_type": "display_data"
    }
   ],
   "source": [
    "plt.plot(range(len(data)),data)"
   ]
  },
  {
   "cell_type": "code",
   "execution_count": 139,
   "id": "15995579-0273-42d1-97b7-c3de02eb1c7a",
   "metadata": {},
   "outputs": [
    {
     "name": "stdout",
     "output_type": "stream",
     "text": [
      "viscosity: 143242.7425576449 Pa·s\n"
     ]
    }
   ],
   "source": [
    "import numpy as np\n",
    "import matplotlib.pyplot as plt\n",
    "\n",
    "# 常数定义\n",
    "k_B = 1.380649e-23  # 玻尔兹曼常数，单位：J/K\n",
    "T = 1500  # 温度，单位：K\n",
    "V = volume  # 体积，单位：Å³ (假设体积为1 Å³，实际值根据系统来设定，1 Å³ = 1e-30 m³)\n",
    "time_diff = 0.1e-9  # 时间差，单位：秒 (0.1ns = 0.1e-9秒)\n",
    "\n",
    "# 示例：填充数据（实际数据应来自你的模拟）\n",
    "# 假设 ana_list 是你的数据集，其中包含多个帧，每个帧包含 atom_data\n",
    "# 这里模拟一些数据\n",
    "def cal_dt(frame_0, frame_t):\n",
    "    # 计算应力张量的差异并进行平方\n",
    "    res_0, res_t = 0, 0\n",
    "    for atom_0, atom_t in zip(frame_0, frame_t):\n",
    "        res_0 += atom_0.x * atom_0.vy * dic_element[atom_0.type]\n",
    "        res_t += atom_t.x * atom_t.vy * dic_element[atom_t.type]\n",
    "    \n",
    "    # 平方差异\n",
    "    return (res_t - res_0) ** 2\n",
    "\n",
    "def autocorrelation(data):\n",
    "    # 计算自相关函数：C(t) = <X(t) * X(0)> / <X(0)^2>\n",
    "    n = len(data)\n",
    "    mean = np.mean(data)\n",
    "    autocorr = np.zeros(n)\n",
    "    for t in range(n):\n",
    "        autocorr[t] = np.mean((data[:n-t] - mean) * (data[t:] - mean)) / np.var(data)\n",
    "    return autocorr\n",
    "\n",
    "# 计算粘度的函数\n",
    "def calculate_viscosity(ana_list):\n",
    "    dt_res = [None] * len(ana_list)\n",
    "    \n",
    "    # 计算每对帧的差异\n",
    "    for i_num, i_frame in enumerate(ana_list):\n",
    "        frame_0 = ana_list[0]['atom_data']\n",
    "        frame_t = i_frame['atom_data']\n",
    "        dt = cal_dt(frame_0, frame_t)\n",
    "        dt_res[i_num] = dt\n",
    "    \n",
    "    # 计算自相关函数\n",
    "    res = autocorrelation(dt_res)\n",
    "\n",
    "    # 数值积分计算粘度\n",
    "    # viscosity = np.trapz(res)  # 使用数值积分来估算粘度\n",
    "    \n",
    "    # 单位转换\n",
    "    # 1 Å³ = 1e-30 m³\n",
    "    # 1 ns = 1e-9 s, 0.1 ns = 0.1e-9 s\n",
    "    viscosity = viscosity * V * k_B * T * time_diff * 1e30  # 转换为合适的单位，最终单位为Pa·s\n",
    "\n",
    "    return viscosity\n",
    "\n",
    "# 调用函数计算粘度\n",
    "viscosity = calculate_viscosity(ana_list)\n",
    "print(f\"viscosity: {viscosity} Pa·s\")\n"
   ]
  },
  {
   "cell_type": "code",
   "execution_count": 184,
   "id": "beac2d39-6a78-4342-94bd-9a34f638e450",
   "metadata": {},
   "outputs": [],
   "source": [
    "def autocorrelation(x):\n",
    "    x = np.array(x)\n",
    "    n = len(x)\n",
    "    result = np.correlate(x, x, mode='full')\n",
    "    result = result[result.size//2:]  # 取正的部分\n",
    "    result = result / (n - np.arange(n))  # 归一化\n",
    "    return result"
   ]
  },
  {
   "cell_type": "code",
   "execution_count": 214,
   "id": "be6fd220-81b7-4224-998c-ff3ff824a80e",
   "metadata": {},
   "outputs": [],
   "source": [
    "import numpy as np\n",
    "import matplotlib.pyplot as plt\n",
    "\n",
    "# 常数定义\n",
    "k_B = 1.380649e-23  # 玻尔兹曼常数，单位：J/K\n",
    "T = 1500  # 温度，单位：K\n",
    "time_diff = 0.1e-9  # 相邻两帧时间差，单位：秒\n",
    "\n",
    "# 元素质量字典（单位u）\n",
    "dic_element_mass = {\n",
    "    \"Si\": 28.085,\n",
    "    \"O\": 15.999,\n",
    "    \"Li\": 6.94,\n",
    "}\n",
    "\n",
    "# 计算 Helfand moment 差异平方\n",
    "def cal_dt(frame_0, frame_t):\n",
    "    res = 0\n",
    "    for atom_0, atom_t in zip(frame_0, frame_t):\n",
    "        mass_u = dic_element_mass[atom_0.type]\n",
    "        mass_kg = mass_u * 1.66053906660e-27  # 质量u转kg\n",
    "        x0 = atom_0.x * 1e-10  # Å -> m\n",
    "        xt = atom_t.x * 1e-10\n",
    "        vy0 = atom_0.vy * 1e2  # Å/ps -> m/s\n",
    "        vyt = atom_t.vy * 1e2\n",
    "        p0_y = mass_kg * vy0\n",
    "        pt_y = mass_kg * vyt\n",
    "        \n",
    "        res += (xt * pt_y - x0 * p0_y)\n",
    "\n",
    "    return res**2  # 最后整体平方\n",
    "\n",
    "# 主函数：计算粘度\n",
    "def calculate_viscosity(ana_list, volume):\n",
    "    V_m3 = volume * 1e-30  # Å³ -> m³\n",
    "\n",
    "    dt_list = []\n",
    "    for frame_t in ana_list:\n",
    "        frame_0 = ana_list[0]['atom_data']\n",
    "        frame_tt = frame_t['atom_data']\n",
    "        dt_val = cal_dt(frame_0, frame_tt)\n",
    "        dt_list.append(dt_val)\n",
    "\n",
    "    dt_list = np.array(dt_list)\n",
    "    acf = autocorrelation(dt_list)\n",
    "    # 横坐标时间\n",
    "    times = np.arange(len(dt_list)) * time_diff  # 秒\n",
    "\n",
    "    # 计算η(t)\n",
    "    eta_t = acf / (2 * k_B * T * V_m3*times)\n",
    "\n",
    "\n",
    "    return eta_t\n",
    "\n",
    "# 调用\n",
    "# viscosity = calculate_viscosity(ana_list, volume)\n",
    "# print(\"粘度 =\", viscosity, \"Pa·s\")\n"
   ]
  },
  {
   "cell_type": "code",
   "execution_count": 222,
   "id": "78b9ccad-dcc8-4e65-80f5-2bd4fb985aa6",
   "metadata": {},
   "outputs": [],
   "source": [
    "import numpy as np\n",
    "import matplotlib.pyplot as plt\n",
    "\n",
    "# 常数定义\n",
    "k_B = 1.380649e-23  # 玻尔兹曼常数，J/K\n",
    "T = 1500  # 温度，K\n",
    "time_diff = 0.1e-9  # 相邻两帧时间差，秒\n",
    "\n",
    "# 元素质量字典（单位u）\n",
    "dic_element_mass = {\n",
    "    \"Si\": 28.085,\n",
    "    \"O\": 15.999,\n",
    "    \"Li\": 6.94,\n",
    "}\n",
    "\n",
    "# 计算 Helfand moment 差异平方\n",
    "def cal_dt(frame_0, frame_t):\n",
    "    res = 0\n",
    "    for atom_0, atom_t in zip(frame_0, frame_t):\n",
    "        mass_u = dic_element_mass[atom_0.type]\n",
    "        mass_kg = mass_u * 1.66053906660e-27  # u -> kg\n",
    "        x0 = atom_0.x * 1e-10  # Å -> m\n",
    "        xt = atom_t.x * 1e-10\n",
    "        vy0 = atom_0.vy * 1e2  # Å/ps -> m/s\n",
    "        vyt = atom_t.vy * 1e2\n",
    "        p0_y = mass_kg * vy0\n",
    "        pt_y = mass_kg * vyt\n",
    "        \n",
    "        res += (xt * pt_y - x0 * p0_y)\n",
    "\n",
    "    return res**2  # 最后整体平方\n",
    "\n",
    "# 主函数：计算粘度\n",
    "def calculate_viscosity(ana_list, volume):\n",
    "    V_m3 = volume * 1e-30  # Å³ -> m³\n",
    "\n",
    "    dt_list = []\n",
    "    for frame_t in ana_list:\n",
    "        frame_0 = ana_list[0]['atom_data']\n",
    "        frame_tt = frame_t['atom_data']\n",
    "        dt_val = cal_dt(frame_0, frame_tt)\n",
    "        dt_list.append(dt_val)\n",
    "\n",
    "    dt_list = np.array(dt_list)\n",
    "\n",
    "    # 横坐标时间\n",
    "    times = np.arange(len(dt_list)) * time_diff  # 秒\n",
    "\n",
    "    # 计算η(t) 注意要除以t\n",
    "    eta_t = dt_list / (2 * k_B * T * V_m3 * times)\n",
    "\n",
    "    # 第一个点t=0会除以0，需要处理掉\n",
    "    eta_t[0] = np.nan  # 或者直接忽略\n",
    "    return times, eta_t\n",
    "\n",
    "# 调用示例\n",
    "# times, viscosity = calculate_viscosity(ana_list, volume)\n",
    "# plt.plot(times[1:], viscosity[1:])\n",
    "# plt.xlabel('Time (s)')\n",
    "# plt.ylabel('Viscosity (Pa·s)')\n",
    "# plt.show()\n"
   ]
  },
  {
   "cell_type": "code",
   "execution_count": 224,
   "id": "eb71cd8a-aabe-4d81-84b3-27c596c765e5",
   "metadata": {},
   "outputs": [
    {
     "name": "stderr",
     "output_type": "stream",
     "text": [
      "C:\\Users\\81004\\AppData\\Local\\Temp\\ipykernel_29156\\2780526444.py:50: RuntimeWarning: invalid value encountered in divide\n",
      "  eta_t = dt_list / (2 * k_B * T * V_m3 * times)\n"
     ]
    },
    {
     "data": {
      "image/png": "[encoded data removed]",
      "text/plain": [
       "<Figure size 640x480 with 1 Axes>"
      ]
     },
     "metadata": {},
     "output_type": "display_data"
    }
   ],
   "source": [
    "# 调用示例\n",
    "times, viscosity = calculate_viscosity(ana_list, volume)\n",
    "plt.plot(times[1:], viscosity[1:])\n",
    "plt.xlabel('Time (s)')\n",
    "plt.ylabel('Viscosity (Pa·s)')\n",
    "plt.show()"
   ]
  },
  {
   "cell_type": "code",
   "execution_count": 216,
   "id": "8da8f810-ea6b-48ef-ac22-cb277c9a6fc0",
   "metadata": {},
   "outputs": [
    {
     "name": "stderr",
     "output_type": "stream",
     "text": [
      "C:\\Users\\81004\\AppData\\Local\\Temp\\ipykernel_29156\\1726089079.py:50: RuntimeWarning: divide by zero encountered in divide\n",
      "  eta_t = acf / (2 * k_B * T * V_m3*times)\n"
     ]
    }
   ],
   "source": [
    "eta_t = calculate_viscosity(ana_list, volume)"
   ]
  },
  {
   "cell_type": "code",
   "execution_count": 217,
   "id": "c8dfd4a0-5f13-48e2-9faf-ea5382c8ebc0",
   "metadata": {},
   "outputs": [
    {
     "data": {
      "text/plain": [
       "100"
      ]
     },
     "execution_count": 217,
     "metadata": {},
     "output_type": "execute_result"
    }
   ],
   "source": [
    "len(eta_t)"
   ]
  },
  {
   "cell_type": "code",
   "execution_count": 220,
   "id": "6626c5c1-5106-407e-8def-f4b236c3f854",
   "metadata": {},
   "outputs": [
    {
     "data": {
      "text/plain": [
       "[<matplotlib.lines.Line2D at 0x2ddf5910e60>]"
      ]
     },
     "execution_count": 220,
     "metadata": {},
     "output_type": "execute_result"
    },
    {
     "data": {
      "image/png": "[encoded data removed]",
      "text/plain": [
       "<Figure size 640x480 with 1 Axes>"
      ]
     },
     "metadata": {},
     "output_type": "display_data"
    }
   ],
   "source": [
    "plt.plot(range(len(eta_t)),eta_t)\n",
    "#plt.ylim(0,1)"
   ]
  },
  {
   "cell_type": "code",
   "execution_count": null,
   "id": "685a50c3-1d0b-4106-a72f-7f0237bdf1c1",
   "metadata": {},
   "outputs": [],
   "source": []
  }
 ],
 "metadata": {
  "kernelspec": {
   "display_name": "Python 3 (ipykernel)",
   "language": "python",
   "name": "python3"
  },
  "language_info": {
   "codemirror_mode": {
    "name": "ipython",
    "version": 3
   },
   "file_extension": ".py",
   "mimetype": "text/x-python",
   "name": "python",
   "nbconvert_exporter": "python",
   "pygments_lexer": "ipython3",
   "version": "3.12.3"
  },
  "widgets": {
   "application/vnd.jupyter.widget-state+json": {
    "state": {},
    "version_major": 2,
    "version_minor": 0
   }
  }
 },
 "nbformat": 4,
 "nbformat_minor": 5
}
