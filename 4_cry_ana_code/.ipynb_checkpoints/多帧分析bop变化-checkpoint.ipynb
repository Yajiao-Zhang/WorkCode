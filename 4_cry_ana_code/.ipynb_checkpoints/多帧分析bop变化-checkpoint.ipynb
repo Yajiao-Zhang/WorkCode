{
 "cells": [
  {
   "cell_type": "code",
   "execution_count": 1,
   "id": "f189a731",
   "metadata": {},
   "outputs": [],
   "source": [
    "# 先不取平均 看一看能否说明问题\n",
    "import numpy as np\n",
    "import sys\n",
    "sys.path.append(r'C:\\Users\\zhang\\1_jupyter_code\\1_Functions')\n",
    "import matplotlib.pyplot as plt\n",
    "from cal_ppp_dis import cal_ppp_distance as cal_dis\n",
    "from pyscal3 import System\n",
    "from pyscal3 import Atoms"
   ]
  },
  {
   "cell_type": "code",
   "execution_count": 2,
   "id": "b12401cd",
   "metadata": {},
   "outputs": [],
   "source": [
    "# 读取xyz数据\n",
    "file_path = r'C:\\Users\\zhang\\Desktop\\md\\las_growth\\las_13-23k\\19k.xyz'\n",
    "save_path = r'C:\\Users\\zhang\\Desktop\\xyz_q4.lammpstrj'\n",
    "start_frame = 0\n",
    "end_frame = 49\n",
    "step_frame = 1\n",
    "###########\n",
    "\n",
    "# 要分析的元素\n",
    "ana_element = ['Si','O','Al']\n",
    "# 画出分布的元素\n",
    "draw_element = ['O']\n",
    "set_cutoff = 4.0"
   ]
  },
  {
   "cell_type": "code",
   "execution_count": 3,
   "id": "6e37da39",
   "metadata": {},
   "outputs": [
    {
     "name": "stdout",
     "output_type": "stream",
     "text": [
      "Maximum X value: 84.713001\n",
      "Maximum Y value: 55.321148\n",
      "Maximum Z value: 11.50816\n"
     ]
    }
   ],
   "source": [
    "def read_xyz_frames(file_path):\n",
    "    frames = []\n",
    "    current_frame = None\n",
    "\n",
    "    with open(file_path, 'r') as file:\n",
    "        lines = file.readlines()\n",
    "        line_index = 0\n",
    "\n",
    "        while line_index < len(lines):\n",
    "            line = lines[line_index].strip()\n",
    "\n",
    "            if line.isdigit():\n",
    "                # 读取原子数\n",
    "                if current_frame:\n",
    "                    frames.append(current_frame)\n",
    "                num_atoms = int(line)\n",
    "                current_frame = {\"num_atoms\": num_atoms, \"atoms\": []}\n",
    "                line_index += 2  # 跳过标题行 \"Atoms\"\n",
    "            else:\n",
    "                # 读取原子坐标\n",
    "                if current_frame:\n",
    "                    atom_data = line.split()\n",
    "                    if len(atom_data) == 4:\n",
    "                        element, x, y, z = atom_data\n",
    "                        current_frame[\"atoms\"].append({\n",
    "                            \"element\": element,\n",
    "                            \"x\": float(x),\n",
    "                            \"y\": float(y),\n",
    "                            \"z\": float(z)\n",
    "                        })\n",
    "                line_index += 1\n",
    "\n",
    "        if current_frame:\n",
    "            frames.append(current_frame)\n",
    "\n",
    "    return frames\n",
    "\n",
    "# 使用之前的frames列表\n",
    "frames = read_xyz_frames(file_path)\n",
    "\n",
    "# 找出最大的x、y和z值\n",
    "max_x = max([max(frame[\"atoms\"], key=lambda atom: atom[\"x\"])[\"x\"] for frame in frames])\n",
    "max_y = max([max(frame[\"atoms\"], key=lambda atom: atom[\"y\"])[\"y\"] for frame in frames])\n",
    "max_z = max([max(frame[\"atoms\"], key=lambda atom: atom[\"z\"])[\"z\"] for frame in frames])\n",
    "\n",
    "print(\"Maximum X value:\", max_x)\n",
    "print(\"Maximum Y value:\", max_y)\n",
    "print(\"Maximum Z value:\", max_z)\n"
   ]
  },
  {
   "cell_type": "code",
   "execution_count": 4,
   "id": "c4fdc51e",
   "metadata": {},
   "outputs": [
    {
     "name": "stdout",
     "output_type": "stream",
     "text": [
      "[84.72300100000001, 55.331148, 11.51816]\n",
      "{'element': 'O', 'x': 59.619703, 'y': 30.15371, 'z': 1.33692}\n"
     ]
    }
   ],
   "source": [
    "box_size_old = [max_x+0.01,max_y+0.01,max_z+0.01]\n",
    "print(box_size_old)\n",
    "print(frames[0]['atoms'][0])"
   ]
  },
  {
   "cell_type": "code",
   "execution_count": 5,
   "id": "25b09050",
   "metadata": {},
   "outputs": [],
   "source": [
    "def cal_bop(atom_list,ana_element,draw_element):\n",
    "    sys = System()\n",
    "    sys.box = [[max_x+0.01,0,0],[0,max_y+0.01,0],[0,0,max_z+0.01]]\n",
    "    # 将list转为字典 取出我们要分析的元素 \n",
    "    ana_atom_list = []\n",
    "    atom_xyz = []\n",
    "    for i in data_list:\n",
    "        if i[0] in ana_element:\n",
    "            atom_xyz.append(i[1:])\n",
    "            ana_atom_list.append(i)\n",
    "    #print(np.array(atom_xyz).shape)\n",
    "    # 转换元素格式\n",
    "    adict = {\"positions\": np.array(atom_xyz, dtype=object)}\n",
    "    atoms = Atoms(adict)\n",
    "    # 实例化\n",
    "    sys.atoms = atoms\n",
    "    # 计算\n",
    "    sys.find.neighbors(method='voronoi')\n",
    "    coordination = [len(sys.atoms.neighbors.index[x]) for x in range(sys.natoms)]\n",
    "    # 计算q4和q6 然后采用均值的方法\n",
    "    q4_q6_list = sys.calculate.steinhardt_parameter([4,6], averaged=True)\n",
    "    # 分配值\n",
    "    q4 = q4_q6_list[0]\n",
    "    q6 = q4_q6_list[1]\n",
    "    results_xyz_q4_q6 = []\n",
    "    for i,i_atom in enumerate(ana_atom_list):\n",
    "        if i_atom[0] in draw_element:\n",
    "            results_xyz_q4_q6.append([i_atom[1],i_atom[2],i_atom[3],q4[i],q6[i]])\n",
    "    return results_xyz_q4_q6"
   ]
  },
  {
   "cell_type": "code",
   "execution_count": 6,
   "id": "baaded59",
   "metadata": {},
   "outputs": [
    {
     "name": "stdout",
     "output_type": "stream",
     "text": [
      "ITEM: TIMESTEP\n",
      "22\n",
      "ITEM: NUMBER OF ATOMS\n",
      "10\n",
      "ITEM: BOX BOUNDS xy xz pp pp pp\n",
      "0 22\n",
      "0 22 \n",
      "0 22\n",
      "ITEM: ATOMS id x y z vx vy vz \n",
      "0 1 1 2 1 0 0\n"
     ]
    }
   ],
   "source": [
    "head = 'ITEM: TIMESTEP\\n{}\\nITEM: NUMBER OF ATOMS\\n{}\\nITEM: BOX BOUNDS xy xz \\\n",
    "pp pp pp\\n0 {}\\n0 {} \\n0 {}\\nITEM: ATOMS id x y z vx vy vz '.format(22,10,22,22,22)\n",
    "print(head)\n",
    "row = '{} {} {} {} {} 0 0'.format(0,1, 1,2,1,0.5)\n",
    "print(row)"
   ]
  },
  {
   "cell_type": "code",
   "execution_count": 7,
   "id": "fac28389",
   "metadata": {},
   "outputs": [],
   "source": [
    "def write_xyz_q4(save_path, result_xyz_q4_q6,i_frame,atom_num):\n",
    "    # 打开文件以追加内容\n",
    "    box_x,box_y,box_z = 84.713001, 55.321148, 11.50816\n",
    "    head = head = 'ITEM: TIMESTEP\\n{}\\nITEM: NUMBER OF ATOMS\\n{}\\nITEM: BOX BOUNDS xy xz \\\n",
    "pp pp pp\\n0 {}\\n0 {} \\n0 {}\\nITEM: ATOMS id x y z vx vy vz \\n'.format(i_frame,atom_num,box_x,box_y,box_z)\n",
    "    if i_frame==0:\n",
    "        w_type = 'w'\n",
    "    else:\n",
    "        w_type = 'a'\n",
    "    with open(save_path, w_type) as file:\n",
    "        # 追加内容\n",
    "        file.write(head)\n",
    "        for i in range(len(result_xyz_q4_q6)):\n",
    "            x,y,z,vx = result_xyz_q4_q6[i][0],result_xyz_q4_q6[i][1],result_xyz_q4_q6[i][2],result_xyz_q4_q6[i][3]\n",
    "            row = '{} {} {} {} {} 0 0\\n'.format(i,x,y,z,vx*100)\n",
    "            file.write(row)"
   ]
  },
  {
   "cell_type": "markdown",
   "id": "4ffa47a7",
   "metadata": {},
   "source": [
    "# 开始多帧计算分析"
   ]
  },
  {
   "cell_type": "code",
   "execution_count": 8,
   "id": "9ba8af78",
   "metadata": {},
   "outputs": [
    {
     "name": "stderr",
     "output_type": "stream",
     "text": [
      "D:\\python_install\\lib\\site-packages\\pyscal3\\atoms.py:46: VisibleDeprecationWarning: Creating an ndarray from ragged nested sequences (which is a list-or-tuple of lists-or-tuples-or ndarrays with different lengths or shapes) is deprecated. If you meant to do this, you must specify 'dtype=object' when creating the ndarray.\n",
      "  dict.__setitem__(self, key, np.array(val))\n"
     ]
    }
   ],
   "source": [
    "for i_frame in range(start_frame,end_frame,step_frame):\n",
    "    data_list = []\n",
    "    for i in frames[i_frame]['atoms']:\n",
    "        data_list.append([i['element'],i['x'],i['y'],i['z']])\n",
    "    result_xyz_q4_q6 = cal_bop(data_list,ana_element,draw_element)\n",
    "    # 得到结果了 然后把结果存下来\n",
    "    write_xyz_q4(save_path,result_xyz_q4_q6,i_frame,2292)"
   ]
  },
  {
   "cell_type": "code",
   "execution_count": null,
   "id": "b92c8456",
   "metadata": {},
   "outputs": [],
   "source": []
  },
  {
   "cell_type": "code",
   "execution_count": null,
   "id": "d25fead4",
   "metadata": {},
   "outputs": [],
   "source": []
  },
  {
   "cell_type": "code",
   "execution_count": null,
   "id": "b35ff3ce",
   "metadata": {},
   "outputs": [],
   "source": []
  }
 ],
 "metadata": {
  "kernelspec": {
   "display_name": "Python 3 (ipykernel)",
   "language": "python",
   "name": "python3"
  },
  "language_info": {
   "codemirror_mode": {
    "name": "ipython",
    "version": 3
   },
   "file_extension": ".py",
   "mimetype": "text/x-python",
   "name": "python",
   "nbconvert_exporter": "python",
   "pygments_lexer": "ipython3",
   "version": "3.10.6"
  }
 },
 "nbformat": 4,
 "nbformat_minor": 5
}
