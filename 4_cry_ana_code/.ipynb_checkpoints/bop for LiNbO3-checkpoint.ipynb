{
 "cells": [
  {
   "cell_type": "markdown",
   "id": "e31b9894",
   "metadata": {},
   "source": [
    "# 读取文件 "
   ]
  },
  {
   "cell_type": "code",
   "execution_count": 1,
   "id": "9504ad07",
   "metadata": {},
   "outputs": [],
   "source": [
    "# 先不取平均 看一看能否说明问题\n",
    "import numpy as np\n",
    "import sys\n",
    "sys.path.append(r'C:\\Users\\zhang\\1_jupyter_code\\1_Functions')\n",
    "import matplotlib.pyplot as plt\n",
    "from cal_ppp_dis import cal_ppp_distance as cal_dis"
   ]
  },
  {
   "cell_type": "code",
   "execution_count": 2,
   "id": "f0ec3969",
   "metadata": {},
   "outputs": [],
   "source": [
    "# 读取xyz数据\n",
    "# C:\\Users\\zhang\\Desktop\\md\\bop_ana\\md_spontaneous\n",
    "# file_path = r'C:\\Users\\zhang\\Desktop\\md\\las_paper\\19k_log\\cry_1000p_out.xyz'\n",
    "file_path = r'C:\\Users\\zhang\\Desktop\\md\\2024corning\\spontaneous_md\\20cry_1000p_out.xyz'\n",
    "ana_frame = 0\n",
    "###########\n",
    "\n",
    "# 要分析的元素\n",
    "ana_element = ['Al','Si','O']\n",
    "# 画出分布的元素\n",
    "draw_element = ['O']\n",
    "set_cutoff = 4.0"
   ]
  },
  {
   "cell_type": "code",
   "execution_count": 3,
   "id": "d857fbc2",
   "metadata": {},
   "outputs": [],
   "source": [
    "def read_xyz_frames(file_path):\n",
    "    frames = []\n",
    "    current_frame = None\n",
    "\n",
    "    with open(file_path, 'r') as file:\n",
    "        lines = file.readlines()\n",
    "        line_index = 0\n",
    "\n",
    "        while line_index < len(lines):\n",
    "            line = lines[line_index].strip()\n",
    "\n",
    "            if line.isdigit():\n",
    "                # 读取原子数\n",
    "                if current_frame:\n",
    "                    frames.append(current_frame)\n",
    "                num_atoms = int(line)\n",
    "                current_frame = {\"num_atoms\": num_atoms, \"atoms\": []}\n",
    "                line_index += 2  # 跳过标题行 \"Atoms\"\n",
    "            else:\n",
    "                # 读取原子坐标\n",
    "                if current_frame:\n",
    "                    atom_data = line.split()\n",
    "                    if len(atom_data) == 4:\n",
    "                        element, x, y, z = atom_data\n",
    "                        current_frame[\"atoms\"].append({\n",
    "                            \"element\": element,\n",
    "                            \"x\": float(x),\n",
    "                            \"y\": float(y),\n",
    "                            \"z\": float(z)\n",
    "                        })\n",
    "                line_index += 1\n",
    "\n",
    "        if current_frame:\n",
    "            frames.append(current_frame)\n",
    "\n",
    "    return frames\n",
    "\n",
    "# 使用之前的frames列表\n",
    "frames = read_xyz_frames(file_path)\n"
   ]
  },
  {
   "cell_type": "markdown",
   "id": "75180941",
   "metadata": {},
   "source": [
    "# 开始"
   ]
  },
  {
   "cell_type": "markdown",
   "id": "96ab91c2",
   "metadata": {},
   "source": [
    "ana_frame = 200\n",
    "ana_element = ['Nb','O']"
   ]
  },
  {
   "cell_type": "code",
   "execution_count": 4,
   "id": "781a0571",
   "metadata": {},
   "outputs": [
    {
     "name": "stdout",
     "output_type": "stream",
     "text": [
      "[92.367119, 92.37081900000001, 12.56845]\n",
      "{'element': 'O', 'x': 18.725819, 'y': 22.084819, 'z': 5.18847}\n"
     ]
    }
   ],
   "source": [
    "# 找出最大的x、y和z值\n",
    "max_x = max([i['x'] for i in frames[ana_frame]['atoms']])\n",
    "max_y = max([i['y'] for i in frames[ana_frame]['atoms']])\n",
    "max_z = max([i['z'] for i in frames[ana_frame]['atoms']])\n",
    "\n",
    "box_size_old = [max_x+0.01,max_y+0.01,max_z+0.01]\n",
    "print(box_size_old)\n",
    "print(frames[0]['atoms'][0])\n",
    "data_list = []\n",
    "for i in frames[ana_frame]['atoms']:\n",
    "    data_list.append([i['element'],i['x'],i['y'],i['z']])"
   ]
  },
  {
   "cell_type": "markdown",
   "id": "24da641a",
   "metadata": {},
   "source": [
    "# 使用pyscal计算Q4-Q6"
   ]
  },
  {
   "cell_type": "code",
   "execution_count": 5,
   "id": "5fa58340",
   "metadata": {},
   "outputs": [],
   "source": [
    "from pyscal3 import System\n",
    "from pyscal3 import Atoms"
   ]
  },
  {
   "cell_type": "code",
   "execution_count": 6,
   "id": "80c25e93",
   "metadata": {},
   "outputs": [
    {
     "name": "stdout",
     "output_type": "stream",
     "text": [
      "[[92.367119, 0, 0], [0, 92.37081900000001, 0], [0, 0, 12.56845]]\n"
     ]
    }
   ],
   "source": [
    "sys = System()\n",
    "sys.box = [[max_x+0.01,0,0],[0,max_y+0.01,0],[0,0,max_z+0.01]]\n",
    "print(sys.box)"
   ]
  },
  {
   "cell_type": "code",
   "execution_count": 7,
   "id": "ae521662",
   "metadata": {},
   "outputs": [
    {
     "name": "stdout",
     "output_type": "stream",
     "text": [
      "(6858, 3)\n"
     ]
    }
   ],
   "source": [
    "# 将list转为字典 取出我们要分析的元素 \n",
    "ana_atom_list = []\n",
    "atom_xyz = []\n",
    "for i in data_list:\n",
    "    if i[0] in ana_element:\n",
    "        atom_xyz.append(i[1:])\n",
    "        ana_atom_list.append(i)\n",
    "print(np.array(atom_xyz).shape)"
   ]
  },
  {
   "cell_type": "code",
   "execution_count": 8,
   "id": "a91d3755",
   "metadata": {},
   "outputs": [
    {
     "name": "stdout",
     "output_type": "stream",
     "text": [
      "[None None None ... None None None]\n",
      "[[18.725819 22.084819 5.18847]\n",
      " [17.506119 28.439319 4.82617]\n",
      " [90.491919 57.829419 0.55984]\n",
      " ...\n",
      " [21.960019 19.258619 2.58866]\n",
      " [48.974219 67.198119 9.12536]\n",
      " [63.488119 4.620999 3.92807]]\n"
     ]
    }
   ],
   "source": [
    "# 转换元素格式\n",
    "adict = {\"positions\": np.array(atom_xyz, dtype=object)}\n",
    "atoms = Atoms(adict)\n",
    "print(atoms.species)\n",
    "print(atoms.positions)\n",
    "# 实例化\n",
    "sys.atoms = atoms"
   ]
  },
  {
   "cell_type": "markdown",
   "id": "5b8b70bc",
   "metadata": {},
   "source": [
    "# 尝试一下其他近邻算法"
   ]
  },
  {
   "cell_type": "markdown",
   "id": "6fc1736d",
   "metadata": {},
   "source": [
    "# 这是pyscal3的Adaptive cutoff methods\n",
    "sys.find.neighbors(method='cutoff', cutoff='adaptive', padding=1.5)\n",
    "coordination = [len(sys.atoms.neighbors.index[x]) for x in range(sys.natoms)]\n",
    "#################\n",
    "nos, counts = np.unique(coordination, return_counts=True)\n",
    "plt.bar(nos, counts, color=\"#AD1457\")\n",
    "plt.ylabel(\"density\")\n",
    "plt.xlabel(\"coordination number\")\n",
    "plt.title(\"Cutoff adaptive method\")"
   ]
  },
  {
   "cell_type": "code",
   "execution_count": null,
   "id": "851ec762",
   "metadata": {},
   "outputs": [
    {
     "name": "stderr",
     "output_type": "stream",
     "text": [
      "D:\\python_install\\lib\\site-packages\\pyscal3\\atoms.py:46: VisibleDeprecationWarning: Creating an ndarray from ragged nested sequences (which is a list-or-tuple of lists-or-tuples-or ndarrays with different lengths or shapes) is deprecated. If you meant to do this, you must specify 'dtype=object' when creating the ndarray.\n",
      "  dict.__setitem__(self, key, np.array(val))\n"
     ]
    }
   ],
   "source": [
    "#这是 Voronoi method计算得到的\n",
    "sys.find.neighbors(method='voronoi')\n",
    "coordination = [len(sys.atoms.neighbors.index[x]) for x in range(sys.natoms)]\n",
    "nos, counts = np.unique(coordination, return_counts=True)\n",
    "plt.bar(nos, counts, color=\"#AD1457\")\n",
    "plt.ylabel(\"density\")\n",
    "plt.xlabel(\"coordination number\")\n",
    "plt.title(\"Voronoi method\")"
   ]
  },
  {
   "cell_type": "markdown",
   "id": "18e6d4e9",
   "metadata": {},
   "source": [
    "# cutoff 算法\n",
    "sys.find.neighbors(method='cutoff', cutoff = set_cutoff)\n",
    "coordination = [len(sys.atoms.neighbors.index[x]) for x in range(sys.natoms)]\n",
    "nos, counts = np.unique(coordination, return_counts=True)\n",
    "plt.bar(nos, counts, color=\"#AD1457\")\n",
    "plt.ylabel(\"density\")\n",
    "plt.xlabel(\"coordination number\")\n",
    "plt.title(\"Cutoff method\")"
   ]
  },
  {
   "cell_type": "code",
   "execution_count": null,
   "id": "84479af7",
   "metadata": {},
   "outputs": [],
   "source": [
    "# 计算q4和q6 然后采用均值的方法\n",
    "q4_q6_list = sys.calculate.steinhardt_parameter([4,6], averaged=True)\n",
    "# 分配值\n",
    "q4 = q4_q6_list[0]\n",
    "q6 = q4_q6_list[1]"
   ]
  },
  {
   "cell_type": "code",
   "execution_count": null,
   "id": "ad78ab01",
   "metadata": {},
   "outputs": [],
   "source": [
    "draw_element = ['O']"
   ]
  },
  {
   "cell_type": "code",
   "execution_count": null,
   "id": "89e76b0a",
   "metadata": {},
   "outputs": [],
   "source": [
    "results_xyz_q4_q6 = []\n",
    "for i,i_atom in enumerate(ana_atom_list):\n",
    "    if i_atom[0] in draw_element:\n",
    "        results_xyz_q4_q6.append([i_atom[1],i_atom[2],i_atom[3],q4[i],q6[i]])\n",
    "print(results_xyz_q4_q6[0])"
   ]
  },
  {
   "cell_type": "markdown",
   "id": "7768765a",
   "metadata": {},
   "source": [
    "# 得到了所有结果，现在可以可视化分布了"
   ]
  },
  {
   "cell_type": "code",
   "execution_count": null,
   "id": "c4494406",
   "metadata": {},
   "outputs": [],
   "source": [
    "import numpy as np\n",
    "import matplotlib.pyplot as plt\n",
    "data_temp = results_xyz_q4_q6\n",
    "\n",
    "# 从 data_list 中提取 x、y、q4 和 q6 数据\n",
    "x_data = [item[0] for item in data_temp]\n",
    "y_data = [item[1] for item in data_temp]\n",
    "q4_data = [item[3] for item in data_temp]\n",
    "q6_data = [item[4] for item in data_temp]\n",
    "\n",
    "# 创建二维分布图\n",
    "plt.figure(figsize=(8, 6))\n",
    "\n",
    "# 绘制 q4 在 x-y 平面上的二维分布图\n",
    "print('See Origin Figure')\n",
    "\n",
    "plt.scatter(x_data, y_data, s=15, c=q4_data, cmap='viridis', marker='o')\n",
    "plt.colorbar()\n",
    "plt.title('auto-scale colorbar' , fontsize=15, fontweight='bold')  #+ str(ana_frame), fontsize=16, fontweight='bold')  # 设置标题字体大小和加粗\n",
    "plt.xlabel('X-axis ', fontsize=15, fontweight='bold')  # 设置 x 轴标签字体大小和加粗\n",
    "plt.ylabel('Y-axis', fontsize=15, fontweight='bold')  # 设置 y 轴标签字体大小和加粗\n",
    "\n",
    "# 设置 x 轴刻度值的字体大小、颜色和加粗\n",
    "plt.xticks(range(0, int(max(x_data)) + 1, 10), fontsize=12, fontweight='bold')\n",
    "# 设置 y 轴刻度值的字体大小、颜色和加粗\n",
    "plt.yticks(fontsize=12, fontweight='bold')\n",
    "\n",
    "# 显示图形\n",
    "plt.show()\n"
   ]
  },
  {
   "cell_type": "code",
   "execution_count": null,
   "id": "8608f5ab",
   "metadata": {},
   "outputs": [],
   "source": [
    "import numpy as np\n",
    "import matplotlib.pyplot as plt\n",
    "data_temp = results_xyz_q4_q6\n",
    "\n",
    "# 从 data_list 中提取 x、y、q4 和 q6 数据\n",
    "x_data = [item[0] for item in data_temp]\n",
    "y_data = [item[1] for item in data_temp]\n",
    "q4_data = [item[3] for item in data_temp]\n",
    "q6_data = [item[4] for item in data_temp]\n",
    "\n",
    "mean_q4 = sum(q4_data)/len(q4_data)\n",
    "max_q4 = 0\n",
    "for i in q4_data:\n",
    "    if i>0.155:\n",
    "        max_q4+=1\n",
    "print('Mean q4:  ' + str(round(mean_q4,4))+'    Percentage of Q4 > 0.155: '+ str(round(max_q4/len(q4_data)*100,2))+'%')\n",
    "\n",
    "# 创建二维分布图\n",
    "plt.figure(figsize=(8, 6))\n",
    "\n",
    "# 绘制 q4 在 x-y 平面上的二维分布图\n",
    "title_name = 'LAS annealing 1200K - '+ str(ana_frame) +'ns'\n",
    "\n",
    "plt.scatter(x_data, y_data, s=15, c=q4_data, cmap='viridis', marker='o',vmin=0.0, vmax=0.225)\n",
    "plt.colorbar()\n",
    "plt.title(title_name , fontsize=15, fontweight='bold')  #+ str(ana_frame), fontsize=16, fontweight='bold')  # 设置标题字体大小和加粗\n",
    "plt.xlabel('X-axis ', fontsize=15, fontweight='bold')  # 设置 x 轴标签字体大小和加粗 \n",
    "plt.ylabel('Y-axis', fontsize=15, fontweight='bold')  # 设置 y 轴标签字体大小和加粗 \n",
    "\n",
    "# 设置 x 轴刻度值的字体大小、颜色和加粗\n",
    "plt.xticks(range(0, int(max(x_data)) + 1, 10), fontsize=12, fontweight='bold')\n",
    "# 设置 y 轴刻度值的字体大小、颜色和加粗\n",
    "plt.yticks(fontsize=12, fontweight='bold')\n",
    "\n",
    "# 显示图形\n",
    "plt.show()\n"
   ]
  },
  {
   "cell_type": "markdown",
   "id": "2ef11551",
   "metadata": {},
   "source": [
    "# ok"
   ]
  },
  {
   "cell_type": "code",
   "execution_count": null,
   "id": "2f78b9e8",
   "metadata": {},
   "outputs": [],
   "source": [
    "mean_q4 = sum(q4_data)/len(q4_data)\n",
    "print('Mean q4:' + str(round(mean_q4,4)))"
   ]
  },
  {
   "cell_type": "markdown",
   "id": "a1862c50",
   "metadata": {},
   "source": [
    "# 计算所有Nb的和O的和Nb+O的所有均值"
   ]
  },
  {
   "cell_type": "code",
   "execution_count": null,
   "id": "db89af0e",
   "metadata": {},
   "outputs": [],
   "source": [
    "draw_element = ['O']\n",
    "r1_xyz_q4_q6 = []\n",
    "for i,i_atom in enumerate(ana_atom_list):\n",
    "    if i_atom[0] in draw_element:\n",
    "        r1_xyz_q4_q6.append([i_atom[1],i_atom[2],i_atom[3],q4[i],q6[i]])\n",
    "draw_element = ['O']\n",
    "r2_xyz_q4_q6 = []\n",
    "for i,i_atom in enumerate(ana_atom_list):\n",
    "    if i_atom[0] in draw_element:\n",
    "        r2_xyz_q4_q6.append([i_atom[1],i_atom[2],i_atom[3],q4[i],q6[i]])"
   ]
  },
  {
   "cell_type": "code",
   "execution_count": null,
   "id": "787b5f68",
   "metadata": {},
   "outputs": [],
   "source": [
    "r1_q4 = sum([i[3] for i in r1_xyz_q4_q6])/len(r1_xyz_q4_q6)\n",
    "r2_q4 = sum([i[3] for i in r2_xyz_q4_q6])/len(r2_xyz_q4_q6)\n",
    "all_q4 = (sum([i[3] for i in r1_xyz_q4_q6])+sum([i[3] for i in r2_xyz_q4_q6]))/(len(r1_xyz_q4_q6)+len(r2_xyz_q4_q6))\n",
    "out_content = '{:.5f} {:.5f} {:.5f}'.format(r1_q4, r2_q4, all_q4)\n",
    "print(out_content)"
   ]
  },
  {
   "cell_type": "code",
   "execution_count": null,
   "id": "7d7bc35c",
   "metadata": {},
   "outputs": [],
   "source": [
    "# 自定义 q4 和 q6 的范围\n",
    "q4_range = [0.16, 1.0]\n",
    "\n",
    "#########\n",
    "import numpy as np\n",
    "import matplotlib.pyplot as plt\n",
    "\n",
    "# 示例数据，格式为 [x, y, z, q4, q6]\n",
    "xyz_q4_q6 = results_xyz_q4_q6\n",
    "\n",
    "# 提取 x、y、q4 和 q6 列\n",
    "x_values = [item[0] for item in xyz_q4_q6]\n",
    "y_values = [item[1] for item in xyz_q4_q6]\n",
    "q4_values = [item[3] for item in xyz_q4_q6]\n",
    "#q6_values = [item[4] for item in xyz_q4_q6]\n",
    "\n",
    "# 根据条件筛选数据\n",
    "filtered_indices = [i for i in range(len(q4_values)) if q4_range[0] <= q4_values[i] <= q4_range[1] ]\n",
    "filtered_x = [x_values[i] for i in filtered_indices]\n",
    "filtered_y = [y_values[i] for i in filtered_indices]\n",
    "\n",
    "print(len(filtered_indices))\n",
    "# 创建散点图\n",
    "plt.scatter(filtered_x, filtered_y, marker='o', color='blue', alpha=0.7)\n",
    "plt.title('Q4>0.16 at T=1500K (Rate = 18%) ')\n",
    "plt.xlabel('X')\n",
    "plt.ylabel('Y')\n",
    "plt.grid(True)\n",
    "plt.show()\n"
   ]
  },
  {
   "cell_type": "code",
   "execution_count": null,
   "id": "abc9a099",
   "metadata": {},
   "outputs": [],
   "source": []
  },
  {
   "cell_type": "code",
   "execution_count": null,
   "id": "65da4bea",
   "metadata": {},
   "outputs": [],
   "source": []
  },
  {
   "cell_type": "code",
   "execution_count": null,
   "id": "df1f5779",
   "metadata": {},
   "outputs": [],
   "source": []
  },
  {
   "cell_type": "code",
   "execution_count": null,
   "id": "a6d19a64",
   "metadata": {},
   "outputs": [],
   "source": [
    "import numpy as np\n",
    "import matplotlib.pyplot as plt\n",
    "\n",
    "# 示例数据，格式为 [x, y, z, q4, q6]\n",
    "xyz_q4_q6 = results_xyz_q4_q6\n",
    "\n",
    "# 提取 x、q4 和 q6 列\n",
    "x_values = np.array([item[0] for item in xyz_q4_q6])\n",
    "q4_values = np.array([item[3] for item in xyz_q4_q6])\n",
    "q6_values = np.array([item[4] for item in xyz_q4_q6])\n",
    "\n",
    "bins = 1.0\n",
    "\n",
    "x_min_bin =  min(x_values)\n",
    "x_max_bin =  max(x_values)\n",
    "# 自定义 bin 边界数组\n",
    "custom_bins = np.arange(x_min_bin, x_max_bin+ bins, bins)\n",
    "\n",
    "# 使用 np.histogram 计算直方图\n",
    "hist, bin_edges = np.histogram(x_values, bins=custom_bins)\n",
    "\n",
    "# 使用 np.digitize 将 x 映射到 bins 中的索引\n",
    "x_bin_indices = np.digitize(x_values, bin_edges)\n",
    "\n",
    "# 初始化存储均值的数组\n",
    "q4_mean_values = np.zeros(len(custom_bins) - 1)\n",
    "q6_mean_values = np.zeros(len(custom_bins) - 1)\n",
    "\n",
    "# 计算每个 bin 中 q4 和 q6 的均值\n",
    "for i in range(1, len(custom_bins)):\n",
    "    q4_mean_values[i - 1] = np.mean(q4_values[x_bin_indices == i])\n",
    "    q6_mean_values[i - 1] = np.mean(q6_values[x_bin_indices == i])\n",
    "\n",
    "fig, ax1 = plt.subplots(figsize=(8, 6))\n",
    "\n",
    "# 绘制均值随 x 的一维变化，改为折线图\n",
    "ax1.set_xlabel('X-axis', fontsize=20, fontweight='bold')  # 设置 x 轴标签字体大小和加粗\n",
    "ax1.set_ylabel('Mean Q4', color='tab:red', fontsize=20, fontweight='bold')  # 设置 y 轴标签字体大小、颜色和加粗\n",
    "ax1.plot(bin_edges[:-1], q4_mean_values, color='tab:red', marker='o', linestyle='-', linewidth=2, markersize=4)\n",
    "ax1.tick_params(axis='y', labelcolor='tab:red', labelsize=20)  # 设置 y 轴刻度字体大小\n",
    "ax1.tick_params(axis='x',  labelsize=20)  # 设置 x 轴刻度字体大小\n",
    "print(str(ana_frame))\n",
    "fig.tight_layout()\n",
    "plt.show()"
   ]
  },
  {
   "cell_type": "code",
   "execution_count": null,
   "id": "0a2d3977",
   "metadata": {},
   "outputs": [],
   "source": []
  },
  {
   "cell_type": "code",
   "execution_count": null,
   "id": "0a4b65a9",
   "metadata": {},
   "outputs": [],
   "source": [
    "ddddddd"
   ]
  },
  {
   "cell_type": "code",
   "execution_count": null,
   "id": "dc09f2e4",
   "metadata": {},
   "outputs": [],
   "source": []
  },
  {
   "cell_type": "code",
   "execution_count": null,
   "id": "ddb872f9",
   "metadata": {},
   "outputs": [],
   "source": [
    "# 自定义 q4 和 q6 的范围\n",
    "q4_range = [0.1, 1.0]\n",
    "q6_range = [0.0, 1.0]"
   ]
  },
  {
   "cell_type": "code",
   "execution_count": null,
   "id": "235366a7",
   "metadata": {},
   "outputs": [],
   "source": []
  },
  {
   "cell_type": "code",
   "execution_count": null,
   "id": "c15803db",
   "metadata": {},
   "outputs": [],
   "source": [
    "x_origin =np.array([580,595,648,887,1171,1633,2262,2244,1599,799,580])"
   ]
  },
  {
   "cell_type": "code",
   "execution_count": null,
   "id": "fcf01687",
   "metadata": {},
   "outputs": [],
   "source": [
    "x_origin"
   ]
  },
  {
   "cell_type": "code",
   "execution_count": null,
   "id": "e55eb576",
   "metadata": {},
   "outputs": [],
   "source": [
    "x_origin =np.array([580,595,648,887,1171,1633,2262,2244,1599,799,580])\n",
    "\n",
    "for i in x_origin:\n",
    "    print((i-580)/(2262-580))"
   ]
  },
  {
   "cell_type": "code",
   "execution_count": null,
   "id": "1339020e",
   "metadata": {},
   "outputs": [],
   "source": []
  },
  {
   "cell_type": "code",
   "execution_count": null,
   "id": "8c72f57e",
   "metadata": {},
   "outputs": [],
   "source": []
  }
 ],
 "metadata": {
  "kernelspec": {
   "display_name": "Python 3 (ipykernel)",
   "language": "python",
   "name": "python3"
  },
  "language_info": {
   "codemirror_mode": {
    "name": "ipython",
    "version": 3
   },
   "file_extension": ".py",
   "mimetype": "text/x-python",
   "name": "python",
   "nbconvert_exporter": "python",
   "pygments_lexer": "ipython3",
   "version": "3.10.6"
  },
  "widgets": {
   "application/vnd.jupyter.widget-state+json": {
    "state": {},
    "version_major": 2,
    "version_minor": 0
   }
  }
 },
 "nbformat": 4,
 "nbformat_minor": 5
}
