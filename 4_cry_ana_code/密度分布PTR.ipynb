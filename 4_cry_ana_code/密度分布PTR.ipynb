{
 "cells": [
  {
   "cell_type": "code",
   "execution_count": 101,
   "id": "41c19da1-9626-4569-9d34-ef7908f5c04b",
   "metadata": {},
   "outputs": [],
   "source": [
    "import os"
   ]
  },
  {
   "cell_type": "code",
   "execution_count": 181,
   "id": "9f3787c9-020b-4258-ad87-0b612b1c3954",
   "metadata": {},
   "outputs": [],
   "source": [
    "# 设置全局字体为支持中文的字体\n",
    "plt.rcParams['font.family'] = 'sans-serif'\n",
    "plt.rcParams['font.sans-serif'] = ['Microsoft YaHei']  # 或者 'SimHei'\n",
    "plt.rcParams['axes.unicode_minus'] = False  # 正常显示负号"
   ]
  },
  {
   "cell_type": "code",
   "execution_count": 103,
   "id": "94f547ad-a1cd-40a3-9758-ef4678c62af7",
   "metadata": {},
   "outputs": [],
   "source": [
    "# 读取xyz数据\n",
    "root = r'C:\\Users\\81004\\Desktop\\ptr2\\xyz'\n",
    "file_name = \"4000-cry_300k_out.xyz\"\n",
    "#########\n",
    "file_path = os.path.join(root,file_name)"
   ]
  },
  {
   "cell_type": "code",
   "execution_count": 105,
   "id": "cb12a456-f4c2-49f0-b211-8f47d3d55310",
   "metadata": {},
   "outputs": [],
   "source": [
    "ana_frame = 0  # 替换为你想要的帧数"
   ]
  },
  {
   "cell_type": "code",
   "execution_count": 107,
   "id": "28316772-89f8-4495-b3b2-1199c5359d45",
   "metadata": {},
   "outputs": [],
   "source": [
    "import numpy as np\n",
    "import matplotlib.pyplot as plt\n",
    "from collections import defaultdict\n",
    "# 阿伏伽德罗常数 (单位：mol^-1)\n",
    "Avogadro_number = 6.022e23\n",
    "# 元素的相对原子质量 (单位：g/mol)\n",
    "element_masses = {\n",
    "    'O': 15.999, 'Si': 28.085, 'Na': 22.990, 'Al': 26.982, 'Zn': 65.38, \n",
    "    'F': 18.998, 'Br': 79.904, 'K': 39.098\n",
    "}\n",
    "# 读取XYZ文件的函数\n",
    "def read_xyz(file_path, ana_number):\n",
    "    with open(file_path, 'r') as f:\n",
    "        lines = f.readlines()\n",
    "\n",
    "    num_atoms = int(lines[0].strip())  # 获取原子数\n",
    "    len_page = num_atoms + 2  # 每一帧的总行数，包括原子数和描述行\n",
    "    atoms = []\n",
    "    positions = []\n",
    "    # 找到最大的xyz\n",
    "    a,b,c = -1000,-1000,-1000\n",
    "    # 从指定帧的第3行开始读取元素和坐标\n",
    "    for line in lines[ana_number * len_page + 2:(ana_number + 1) * len_page]:\n",
    "        parts = line.split()\n",
    "        element = parts[0]\n",
    "        x, y, z = map(float, parts[1:])\n",
    "        if x>a:\n",
    "            a = x\n",
    "        if y>b:\n",
    "            b = y\n",
    "        if z>c:\n",
    "            c = z\n",
    "        atoms.append(element)\n",
    "        positions.append([x, y, z])\n",
    "    box_len = [a+0.1,b+0.1,c+0.1]\n",
    "    # print(f'Boxsize: {box_len}')\n",
    "    return np.array(positions), atoms, num_atoms,box_len\n"
   ]
  },
  {
   "cell_type": "code",
   "execution_count": 144,
   "id": "464b48ad-51c9-4e69-9ed6-4395c8c38bf8",
   "metadata": {},
   "outputs": [],
   "source": [
    "def compute_3d_density(positions, elements, box_size, bins=40):\n",
    "    element_masses = {\n",
    "        'O': 15.999, 'Si': 28.085, 'Na': 22.990, 'Al': 26.982,\n",
    "        'Zn': 65.38, 'F': 18.998, 'Br': 79.904, 'K': 39.098\n",
    "    }\n",
    "\n",
    "    # 分别计算每个方向的 voxel size\n",
    "    if isinstance(bins, int):\n",
    "        bins = [bins, bins, bins]\n",
    "    voxel_size = box_size / np.array(bins)\n",
    "    voxel_volume = np.prod(voxel_size)  # voxel体积 (Å³)\n",
    "\n",
    "    # 初始化体密度网格\n",
    "    density_map = np.zeros((bins[0], bins[1], bins[2]))\n",
    "\n",
    "    for pos, elem in zip(positions, elements):\n",
    "        if elem not in element_masses:\n",
    "            continue  # 忽略未知元素\n",
    "        x, y, z = pos\n",
    "\n",
    "        ix = min(int(x / voxel_size[0]), bins[0] - 1)\n",
    "        iy = min(int(y / voxel_size[1]), bins[1] - 1)\n",
    "        iz = min(int(z / voxel_size[2]), bins[2] - 1)\n",
    "\n",
    "        mass = element_masses[elem]\n",
    "        density_map[ix, iy, iz] += mass / voxel_volume\n",
    "\n",
    "    # 单位换算：Å³ → cm³\n",
    "    density_map *= 1e24\n",
    "    return density_map\n"
   ]
  },
  {
   "cell_type": "code",
   "execution_count": null,
   "id": "306de54e-092e-4832-885f-f334fb513201",
   "metadata": {},
   "outputs": [],
   "source": []
  },
  {
   "cell_type": "code",
   "execution_count": 446,
   "id": "732b9dfa-3584-4c08-bc64-18fde43b5437",
   "metadata": {},
   "outputs": [],
   "source": [
    "boxsize = np.array([81.3982, 81.3982, 81.3982]) "
   ]
  },
  {
   "cell_type": "code",
   "execution_count": 450,
   "id": "1325d440-88f9-4158-8eec-0cf0812401f4",
   "metadata": {},
   "outputs": [],
   "source": [
    "import numpy as np\n",
    "import matplotlib.pyplot as plt\n",
    "\n",
    "def plot_xy_density_in_z_range(density_map, box_size, z_range, bin_xy, method='sum'):\n",
    "    # 获取x和y的网格\n",
    "    x_bins = np.linspace(0, box_size[0], bin_xy)\n",
    "    y_bins = np.linspace(0, box_size[1], bin_xy)\n",
    "\n",
    "    # 根据z范围筛选密度数据\n",
    "    z_min, z_max = z_range\n",
    "    z_filter = (density_map['z'] >= z_min) & (density_map['z'] <= z_max)\n",
    "    \n",
    "    # 提取筛选后的x和y坐标\n",
    "    filtered_positions = density_map['positions'][z_filter]\n",
    "    \n",
    "    # 计算x和y的二维密度分布\n",
    "    x_positions = filtered_positions[:, 0]\n",
    "    y_positions = filtered_positions[:, 1]\n",
    "\n",
    "    # 使用np.histogram2d来生成二维密度图\n",
    "    density, _, _ = np.histogram2d(x_positions, y_positions, bins=[x_bins, y_bins])\n",
    "\n",
    "    # 选择不同的合并方法\n",
    "    if method == 'sum':\n",
    "        # 按照xy平面的密度求和\n",
    "        density = np.sum(density, axis=2)\n",
    "\n",
    "    # 创建一个热图\n",
    "    plt.imshow(density.T, origin='lower', extent=(0, box_size[0], 0, box_size[1]), cmap='viridis', interpolation='nearest')\n",
    "    plt.colorbar(label='Density')\n",
    "    plt.title(f'Density distribution in xy-plane (z={z_range[0]}-{z_range[1]} Å)')\n",
    "    plt.xlabel('X (Å)')\n",
    "    plt.ylabel('Y (Å)')\n",
    "    plt.show()"
   ]
  },
  {
   "cell_type": "code",
   "execution_count": null,
   "id": "0cb283ae-8e30-4a08-8251-78a906bab7c0",
   "metadata": {},
   "outputs": [],
   "source": []
  },
  {
   "cell_type": "code",
   "execution_count": 453,
   "id": "35e90614-a613-4e9d-9b40-08ae67f38700",
   "metadata": {},
   "outputs": [],
   "source": [
    "file_name = \"4000-cry_300k_out.xyz\"\n",
    "#########\n",
    "file_path = os.path.join(root,file_name)"
   ]
  },
  {
   "cell_type": "code",
   "execution_count": 455,
   "id": "b39c3368-ced6-431c-bcdc-118e13ee97a8",
   "metadata": {},
   "outputs": [
    {
     "ename": "IndexError",
     "evalue": "only integers, slices (`:`), ellipsis (`...`), numpy.newaxis (`None`) and integer or boolean arrays are valid indices",
     "output_type": "error",
     "traceback": [
      "\u001b[1;31m---------------------------------------------------------------------------\u001b[0m",
      "\u001b[1;31mIndexError\u001b[0m                                Traceback (most recent call last)",
      "Cell \u001b[1;32mIn[455], line 3\u001b[0m\n\u001b[0;32m      1\u001b[0m positions, atoms, num_atoms,box_len \u001b[38;5;241m=\u001b[39m read_xyz(file_path, \u001b[38;5;241m0\u001b[39m)\n\u001b[0;32m      2\u001b[0m density_map \u001b[38;5;241m=\u001b[39m compute_3d_density(positions, elements, box_size, bins\u001b[38;5;241m=\u001b[39m\u001b[38;5;241m40\u001b[39m)\n\u001b[1;32m----> 3\u001b[0m plot_xy_density_in_z_range(density_map, box_size \u001b[38;5;241m=\u001b[39m boxsize, z_range\u001b[38;5;241m=\u001b[39m[\u001b[38;5;241m55\u001b[39m, \u001b[38;5;241m65\u001b[39m], bin_xy\u001b[38;5;241m=\u001b[39m\u001b[38;5;241m40\u001b[39m, method\u001b[38;5;241m=\u001b[39m\u001b[38;5;124m'\u001b[39m\u001b[38;5;124msum\u001b[39m\u001b[38;5;124m'\u001b[39m)\n",
      "Cell \u001b[1;32mIn[450], line 11\u001b[0m, in \u001b[0;36mplot_xy_density_in_z_range\u001b[1;34m(density_map, box_size, z_range, bin_xy, method)\u001b[0m\n\u001b[0;32m      9\u001b[0m \u001b[38;5;66;03m# 根据z范围筛选密度数据\u001b[39;00m\n\u001b[0;32m     10\u001b[0m z_min, z_max \u001b[38;5;241m=\u001b[39m z_range\n\u001b[1;32m---> 11\u001b[0m z_filter \u001b[38;5;241m=\u001b[39m (density_map[\u001b[38;5;124m'\u001b[39m\u001b[38;5;124mz\u001b[39m\u001b[38;5;124m'\u001b[39m] \u001b[38;5;241m>\u001b[39m\u001b[38;5;241m=\u001b[39m z_min) \u001b[38;5;241m&\u001b[39m (density_map[\u001b[38;5;124m'\u001b[39m\u001b[38;5;124mz\u001b[39m\u001b[38;5;124m'\u001b[39m] \u001b[38;5;241m<\u001b[39m\u001b[38;5;241m=\u001b[39m z_max)\n\u001b[0;32m     13\u001b[0m \u001b[38;5;66;03m# 提取筛选后的x和y坐标\u001b[39;00m\n\u001b[0;32m     14\u001b[0m filtered_positions \u001b[38;5;241m=\u001b[39m density_map[\u001b[38;5;124m'\u001b[39m\u001b[38;5;124mpositions\u001b[39m\u001b[38;5;124m'\u001b[39m][z_filter]\n",
      "\u001b[1;31mIndexError\u001b[0m: only integers, slices (`:`), ellipsis (`...`), numpy.newaxis (`None`) and integer or boolean arrays are valid indices"
     ]
    }
   ],
   "source": [
    "positions, atoms, num_atoms,box_len = read_xyz(file_path, 0)\n",
    "density_map = compute_3d_density(positions, elements, box_size, bins=40)\n",
    "plot_xy_density_in_z_range(density_map, box_size = boxsize, z_range=[55, 65], bin_xy=40, method='sum')"
   ]
  },
  {
   "cell_type": "code",
   "execution_count": null,
   "id": "c4410a73-fe2a-40c6-8882-e70b7aa17f8b",
   "metadata": {},
   "outputs": [],
   "source": []
  },
  {
   "cell_type": "code",
   "execution_count": 155,
   "id": "239a620d-fea7-4ff9-8bb4-3cecaabe9b4c",
   "metadata": {},
   "outputs": [
    {
     "ename": "TypeError",
     "evalue": "only length-1 arrays can be converted to Python scalars",
     "output_type": "error",
     "traceback": [
      "\u001b[1;31m---------------------------------------------------------------------------\u001b[0m",
      "\u001b[1;31mTypeError\u001b[0m                                 Traceback (most recent call last)",
      "Cell \u001b[1;32mIn[155], line 7\u001b[0m\n\u001b[0;32m      5\u001b[0m ana_frame \u001b[38;5;241m=\u001b[39m \u001b[38;5;241m0\u001b[39m  \u001b[38;5;66;03m# 替换为你想要的帧数\u001b[39;00m\n\u001b[0;32m      6\u001b[0m \u001b[38;5;66;03m# 运行程序\u001b[39;00m\n\u001b[1;32m----> 7\u001b[0m analyze_density(xyz_file, ana_frame,boxsize,num_bins\u001b[38;5;241m=\u001b[39m\u001b[38;5;241m10\u001b[39m)\n",
      "Cell \u001b[1;32mIn[151], line 9\u001b[0m, in \u001b[0;36manalyze_density\u001b[1;34m(xyz_file, ana_frame, boxsize, num_bins)\u001b[0m\n\u001b[0;32m      6\u001b[0m \u001b[38;5;66;03m# 处理周期性边界\u001b[39;00m\n\u001b[0;32m      7\u001b[0m \u001b[38;5;66;03m# positions = apply_periodic_boundary(positions, box_size)\u001b[39;00m\n\u001b[0;32m      8\u001b[0m density_map \u001b[38;5;241m=\u001b[39m compute_3d_density(positions, elements, box_size, bins\u001b[38;5;241m=\u001b[39m\u001b[38;5;241m40\u001b[39m)\n\u001b[1;32m----> 9\u001b[0m plot_xy_density_in_z_range(density_map, z_range\u001b[38;5;241m=\u001b[39m[\u001b[38;5;241m55\u001b[39m,\u001b[38;5;241m65\u001b[39m], box_size\u001b[38;5;241m=\u001b[39mbox_size, bins\u001b[38;5;241m=\u001b[39m\u001b[38;5;241m20\u001b[39m, method\u001b[38;5;241m=\u001b[39m\u001b[38;5;124m'\u001b[39m\u001b[38;5;124mmean\u001b[39m\u001b[38;5;124m'\u001b[39m)\n",
      "Cell \u001b[1;32mIn[125], line 16\u001b[0m, in \u001b[0;36mplot_xy_density_in_z_range\u001b[1;34m(density_map, z_range, box_size, bins, method)\u001b[0m\n\u001b[0;32m      5\u001b[0m \u001b[38;5;250m\u001b[39m\u001b[38;5;124;03m\"\"\"\u001b[39;00m\n\u001b[0;32m      6\u001b[0m \u001b[38;5;124;03m绘制给定Z方向范围的XY平面密度分布图\u001b[39;00m\n\u001b[0;32m      7\u001b[0m \n\u001b[1;32m   (...)\u001b[0m\n\u001b[0;32m     13\u001b[0m \u001b[38;5;124;03m- method: str，合并Z层的方式，支持 'mean', 'max'\u001b[39;00m\n\u001b[0;32m     14\u001b[0m \u001b[38;5;124;03m\"\"\"\u001b[39;00m\n\u001b[0;32m     15\u001b[0m voxel_size \u001b[38;5;241m=\u001b[39m box_size \u001b[38;5;241m/\u001b[39m bins\n\u001b[1;32m---> 16\u001b[0m z_start_bin \u001b[38;5;241m=\u001b[39m \u001b[38;5;28mint\u001b[39m(z_range[\u001b[38;5;241m0\u001b[39m] \u001b[38;5;241m/\u001b[39m voxel_size)\n\u001b[0;32m     17\u001b[0m z_end_bin \u001b[38;5;241m=\u001b[39m \u001b[38;5;28mint\u001b[39m(z_range[\u001b[38;5;241m1\u001b[39m] \u001b[38;5;241m/\u001b[39m voxel_size)\n\u001b[0;32m     19\u001b[0m \u001b[38;5;66;03m# 限制索引合法\u001b[39;00m\n",
      "\u001b[1;31mTypeError\u001b[0m: only length-1 arrays can be converted to Python scalars"
     ]
    }
   ],
   "source": [
    "# 设定周期性盒子的尺寸，单位是Å\n",
    "# 运行主程序，输入xyz文件路径\n",
    "xyz_file = file_path  # 替换为你的xyz文件路径\n",
    "# 输入你要分析的帧数（例如第2帧）\n",
    "ana_frame = 0  # 替换为你想要的帧数\n",
    "# 运行程序\n",
    "analyze_density(xyz_file, ana_frame,boxsize,num_bins=10)\n"
   ]
  },
  {
   "cell_type": "code",
   "execution_count": null,
   "id": "f3214460-704f-4f27-a30c-5ef274b3606a",
   "metadata": {},
   "outputs": [],
   "source": []
  },
  {
   "cell_type": "code",
   "execution_count": null,
   "id": "6e8c0618-8d7f-49e5-9cf6-1a2ae6425534",
   "metadata": {},
   "outputs": [],
   "source": []
  },
  {
   "cell_type": "code",
   "execution_count": null,
   "id": "add6e4e0-56f5-48db-a95f-f40270f2debe",
   "metadata": {},
   "outputs": [],
   "source": []
  }
 ],
 "metadata": {
  "kernelspec": {
   "display_name": "Python 3 (ipykernel)",
   "language": "python",
   "name": "python3"
  },
  "language_info": {
   "codemirror_mode": {
    "name": "ipython",
    "version": 3
   },
   "file_extension": ".py",
   "mimetype": "text/x-python",
   "name": "python",
   "nbconvert_exporter": "python",
   "pygments_lexer": "ipython3",
   "version": "3.12.3"
  },
  "widgets": {
   "application/vnd.jupyter.widget-state+json": {
    "state": {},
    "version_major": 2,
    "version_minor": 0
   }
  }
 },
 "nbformat": 4,
 "nbformat_minor": 5
}
