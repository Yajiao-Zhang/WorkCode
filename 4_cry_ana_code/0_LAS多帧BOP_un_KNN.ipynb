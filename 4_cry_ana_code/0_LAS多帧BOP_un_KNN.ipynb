{
 "cells": [
  {
   "cell_type": "code",
   "execution_count": 1,
   "id": "f189a731",
   "metadata": {},
   "outputs": [],
   "source": [
    "# 先不取平均 看一看能否说明问题\n",
    "import numpy as np\n",
    "import sys\n",
    "import os\n",
    "import matplotlib.pyplot as plt\n",
    "\n",
    "# 设置全局字体为Times New Roman\n",
    "plt.rcParams['font.family'] = 'Times New Roman'"
   ]
  },
  {
   "cell_type": "code",
   "execution_count": 2,
   "id": "b12401cd",
   "metadata": {},
   "outputs": [],
   "source": [
    "# 读取xyz数据\n",
    "root = r'C:\\Users\\81004\\Desktop\\las_paper\\ana_data\\1800'\n",
    "file_name =  \"cry_2000p_origin.lmp\"\n",
    "file_path = os.path.join(root,file_name)\n",
    "\n",
    "start_frame = 0\n",
    "end_frame = 1999\n",
    "step_frame = 2\n",
    "###########\n",
    "\n",
    "# 要分析的元素\n",
    "ana_element = ['Si','O','Al']\n",
    "# lmp对应的值\n",
    "dic_charge = {2.4:'Si', -1.2:'O', 1.8:'Al', 0.6:'Li'}\n",
    "# 画出分布的元素\n",
    "draw_element = ['O']\n",
    "set_cutoff = 4.0"
   ]
  },
  {
   "cell_type": "code",
   "execution_count": 3,
   "id": "4088727a-771d-4605-8be4-6df2d6d5c8a6",
   "metadata": {},
   "outputs": [],
   "source": [
    "# 先按照要求读取所有的lmp数据\n",
    "# 每一个原子的信息\n",
    "class Atom:\n",
    "    def __init__(self, id0=None, type0=None, q=None, x=None, y=None, z=None, \n",
    "                 vx=None, vy=None, vz=None, fx=None, fy=None, fz=None, \n",
    "                 c_ke_atom=None, c_pe_atom=None, v_e_total=None, frame=None, q4=None,q6=None,dis=None):\n",
    "        self.id = int(id0)\n",
    "        self.type = str(type0)\n",
    "        self.x = x\n",
    "        self.y = y\n",
    "        self.z = z\n",
    "        self.q = q\n",
    "        self.vx = vx\n",
    "        self.vy = vy\n",
    "        self.vz = vz\n",
    "        self.fx = fx\n",
    "        self.fy = fy\n",
    "        self.fz = fz\n",
    "        self.c_ke_atom = c_ke_atom\n",
    "        self.c_pe_atom = c_pe_atom\n",
    "        self.v_e_total = v_e_total\n",
    "        self.q4 = q4\n",
    "        self.q6 = q6\n",
    "        self.dis = dis\n",
    "        self.frame = frame\n",
    "    def print_info(self):\n",
    "        print(f'id:{int(self.id)}, type:{self.type}, x:{self.x}, y:{self.y}, z:{self.z}, q:{self.q}')\n",
    "        print(f'vx:{self.vx}, vy:{self.vy}, vz:{self.vz}, fx:{self.fx}, fy:{self.fy}, fz:{self.fz}')\n",
    "        print(f'E_total:{self.v_e_total}, E_kinetic:{self.c_ke_atom}, E_potential:{self.c_pe_atom}')\n",
    "        print(f'q4:{self.q4} dis:{self.q6} q6:{self.dis} frame:{self.frame}')"
   ]
  },
  {
   "cell_type": "code",
   "execution_count": 4,
   "id": "b5b77381-5ca0-476b-8d68-5fb68341843f",
   "metadata": {},
   "outputs": [],
   "source": [
    "def read_lmp(file_path):\n",
    "    # 所有信息储存的总列表\n",
    "    list_all_frames = []\n",
    "    x_min,x_max,y_min,y_max,z_min,z_max = None,None,None, None,None,None\n",
    "    box_size = [None, None, None]\n",
    "    num_atom = None\n",
    "    len_per_frame = None\n",
    "    # 第一次打开,是看一下基本数据：\n",
    "    with open(file_path,'r') as f_open:\n",
    "        # 前三行都不要\n",
    "        for i in range(3): \n",
    "            f_open.readline()\n",
    "        # 第四行是Number\n",
    "        num_atom = int(f_open.readline())\n",
    "        # 定义一页的行数\n",
    "        len_per_frame = num_atom + 9  \n",
    "        # 第五行不要\n",
    "        f_open.readline()\n",
    "        # 存储range范围\n",
    "        temp_range_list = []\n",
    "        for i in range(3): \n",
    "            temp_min,temp_max = f_open.readline().split()\n",
    "            temp_range_list.append(temp_min)\n",
    "            temp_range_list.append(temp_max)\n",
    "        # 将字符串转换为浮点数并直接赋值给变量\n",
    "        x_min, x_max, y_min, y_max, z_min, z_max = [float(i) for i in temp_range_list]\n",
    "    print(f'Num of atom: {num_atom}')\n",
    "    print(f'X range: {x_min}  {x_max}')\n",
    "    print(f'Y range: {y_min}  {y_max}')\n",
    "    print(f'Z range: {z_min}  {z_max}\\n')\n",
    "    \n",
    "    # 开始读取文件\n",
    "    f_open = open(file_path,'r')\n",
    "    # 记录当前行数\n",
    "    count_row = 0\n",
    "    for i_frame in range(start_frame, end_frame, step_frame):\n",
    "        if i_frame%50==0:\n",
    "            print(f'Now is reading frame {i_frame}')\n",
    "        list_frame = []\n",
    "        # 先判断下是不是我要的这页\n",
    "        now_frame_count = len_per_frame*i_frame\n",
    "        # 如果不是同一页，则跳过这一页,再继续空读\n",
    "        while count_row!=now_frame_count:\n",
    "            # print(f'Now:{now_frame_count}  count:{count_row}')\n",
    "            count_row+=len_per_frame\n",
    "            for i in range(len_per_frame):\n",
    "                f_open.readline()\n",
    "        # 如果是同一页，那么就开始读取数据\n",
    "        else:\n",
    "            # print(f'Now:{now_frame_count}  count:{count_row}')\n",
    "            # 首先就是跳过表头的9行\n",
    "            # for i in range(9):\n",
    "            #     f_open.readline()\n",
    "            # 读取表头九行的数据\n",
    "            f_open.readline()\n",
    "            time_step = int(f_open.readline())\n",
    "            f_open.readline()\n",
    "            atom_num = float(f_open.readline())\n",
    "            f_open.readline()\n",
    "            x_low,x_high = f_open.readline().split()\n",
    "            y_low,y_high = f_open.readline().split()\n",
    "            z_low,z_high = f_open.readline().split()\n",
    "            f_open.readline()\n",
    "            x_low,x_high,y_low,y_high,z_low,z_high = float(x_low),float(x_high),float(y_low),float(y_high),float(z_low),float(z_high)\n",
    "            dic_system = {'timestep':time_step, \n",
    "                         'num_atoms':atom_num,\n",
    "                          'x_low':x_low,'x_high':x_high,\n",
    "                          'y_low':y_low,'y_high':y_high,\n",
    "                          'z_low':z_low,'z_high':z_high,\n",
    "                         }\n",
    "            # 再读取其余的数据\n",
    "            for j_row in range(num_atom):\n",
    "                temp_data = f_open.readline().split()\n",
    "                id0, type0, q, x, y, z, vx, vy, vz, fx, fy, fz, c_ke_atom, c_pe_atom, v_e_total = [float(i) for i in temp_data]\n",
    "                #print(id0, type0, q, x, y, z)\n",
    "                # 类型转换回 str\n",
    "                type0 = dic_charge[q]\n",
    "                temp_atom = Atom(id0, type0, q, x, y, z, vx, vy, vz, fx, fy, fz, c_ke_atom, c_pe_atom, v_e_total,i_frame)\n",
    "                list_frame.append(temp_atom)\n",
    "            # 这一页读取完了,首先是对原子的id排序\n",
    "            list_frame = sorted(list_frame, key = lambda Atom:Atom.id)\n",
    "            # 再存入信息帧中\n",
    "            frame_data = {\n",
    "                \"atom_data\":list_frame,\n",
    "                'system_info':dic_system\n",
    "            }\n",
    "            list_all_frames.append(frame_data)\n",
    "            count_row+=len_per_frame\n",
    "         \n",
    "    # 关闭文件\n",
    "    print('文件读取完毕！')\n",
    "    f_open.close()\n",
    "    return list_all_frames\n",
    "def read_xyz_frames(file_path):\n",
    "    frames = []\n",
    "    current_frame = None\n",
    "\n",
    "    with open(file_path, 'r') as file:\n",
    "        lines = file.readlines()\n",
    "        line_index = 0\n",
    "\n",
    "        while line_index < len(lines):\n",
    "            line = lines[line_index].strip()\n",
    "\n",
    "            if line.isdigit():\n",
    "                # 读取原子数\n",
    "                if current_frame:\n",
    "                    frames.append(current_frame)\n",
    "                num_atoms = int(line)\n",
    "                current_frame = {\"num_atoms\": num_atoms, \"atoms\": []}\n",
    "                line_index += 2  # 跳过标题行 \"Atoms\"\n",
    "            else:\n",
    "                # 读取原子坐标\n",
    "                if current_frame:\n",
    "                    atom_data = line.split()\n",
    "                    if len(atom_data) == 4:\n",
    "                        element, x, y, z = atom_data\n",
    "                        current_frame[\"atoms\"].append({\n",
    "                            \"element\": element,\n",
    "                            \"x\": float(x),\n",
    "                            \"y\": float(y),\n",
    "                            \"z\": float(z)\n",
    "                        })\n",
    "                line_index += 1\n",
    "\n",
    "        if current_frame:\n",
    "            frames.append(current_frame)\n",
    "    print('文件读取完毕！')\n",
    "    return frames"
   ]
  },
  {
   "cell_type": "code",
   "execution_count": 5,
   "id": "6e37da39",
   "metadata": {},
   "outputs": [
    {
     "name": "stdout",
     "output_type": "stream",
     "text": [
      "输入文件为lmp格式！\n",
      "Num of atom: 6006\n",
      "X range: -0.05780681678287891  126.29042044531153\n",
      "Y range: -0.02520293888203895  55.06080293887457\n",
      "Z range: -0.005242346471363568  11.452942346473058\n",
      "\n",
      "Now is reading frame 0\n",
      "Now is reading frame 50\n",
      "Now is reading frame 100\n",
      "Now is reading frame 150\n",
      "Now is reading frame 200\n",
      "Now is reading frame 250\n",
      "Now is reading frame 300\n",
      "Now is reading frame 350\n",
      "Now is reading frame 400\n",
      "Now is reading frame 450\n",
      "Now is reading frame 500\n",
      "Now is reading frame 550\n",
      "Now is reading frame 600\n",
      "Now is reading frame 650\n",
      "Now is reading frame 700\n",
      "Now is reading frame 750\n",
      "Now is reading frame 800\n",
      "Now is reading frame 850\n",
      "Now is reading frame 900\n",
      "Now is reading frame 950\n",
      "Now is reading frame 1000\n",
      "Now is reading frame 1050\n",
      "Now is reading frame 1100\n",
      "Now is reading frame 1150\n",
      "Now is reading frame 1200\n",
      "Now is reading frame 1250\n",
      "Now is reading frame 1300\n",
      "Now is reading frame 1350\n",
      "Now is reading frame 1400\n",
      "Now is reading frame 1450\n",
      "Now is reading frame 1500\n",
      "Now is reading frame 1550\n",
      "Now is reading frame 1600\n",
      "Now is reading frame 1650\n",
      "Now is reading frame 1700\n",
      "Now is reading frame 1750\n",
      "Now is reading frame 1800\n",
      "Now is reading frame 1850\n",
      "Now is reading frame 1900\n",
      "Now is reading frame 1950\n",
      "文件读取完毕！\n"
     ]
    }
   ],
   "source": [
    "file_type = file_path.split('\\\\')[-1].split('.')[-1]\n",
    "frames = []\n",
    "if file_type=='lmp':\n",
    "    print('输入文件为lmp格式！')\n",
    "    frames = read_lmp(file_path)   \n",
    "elif file_type=='xyz':\n",
    "    frames = read_xyz_frames(file_path)\n",
    "    # 找出最大的x、y和z值\n",
    "    max_x = max([max(frame[\"atoms\"], key=lambda atom: atom[\"x\"])[\"x\"] for frame in frames])\n",
    "    max_y = max([max(frame[\"atoms\"], key=lambda atom: atom[\"y\"])[\"y\"] for frame in frames])\n",
    "    max_z = max([max(frame[\"atoms\"], key=lambda atom: atom[\"z\"])[\"z\"] for frame in frames])\n",
    "    print(\"Maximum X value:\", max_x)\n",
    "    print(\"Maximum Y value:\", max_y)\n",
    "    print(\"Maximum Z value:\", max_z)\n",
    "else:\n",
    "    print('输入文件有误！')"
   ]
  },
  {
   "cell_type": "code",
   "execution_count": 6,
   "id": "4bfb4c2f-ccc2-45eb-ac9d-87841aa5f151",
   "metadata": {},
   "outputs": [
    {
     "name": "stdout",
     "output_type": "stream",
     "text": [
      "id:1, type:O, x:7.88983, y:16.6921, z:10.3636, q:-1.2\n",
      "vx:2.33144, vy:10.1453, vz:-1.66374, fx:0.245826, fy:2.94499, fz:0.663078\n",
      "E_total:-10.3838, E_kinetic:0.0921403, E_potential:-10.476\n",
      "q4:None dis:None q6:None frame:0\n",
      "id:6006, type:Si, x:70.5255, y:51.9162, z:5.97443, q:2.4\n",
      "vx:3.19111, vy:2.57236, vz:-6.41378, fx:-1.2699, fy:-4.85206, fz:0.676741\n",
      "E_total:-34.9315, E_kinetic:0.084323, E_potential:-35.0158\n",
      "q4:None dis:None q6:None frame:40\n"
     ]
    },
    {
     "data": {
      "text/plain": [
       "{'timestep': 1000000,\n",
       " 'num_atoms': 6006.0,\n",
       " 'x_low': -0.05780681678287891,\n",
       " 'x_high': 126.29042044531153,\n",
       " 'y_low': -0.02520293888203895,\n",
       " 'y_high': 55.06080293887457,\n",
       " 'z_low': -0.005242346471363568,\n",
       " 'z_high': 11.452942346473058}"
      ]
     },
     "execution_count": 6,
     "metadata": {},
     "output_type": "execute_result"
    }
   ],
   "source": [
    "frames[0]['atom_data'][0].print_info()\n",
    "frames[20]['atom_data'][-1].print_info()\n",
    "frames[0]['system_info']"
   ]
  },
  {
   "cell_type": "markdown",
   "id": "76fd68b1-3c45-4250-a893-805440970f10",
   "metadata": {},
   "source": [
    "# 使用pyscal计算Q4-Q6"
   ]
  },
  {
   "cell_type": "code",
   "execution_count": 14,
   "id": "bd266e2c-4ec5-49d1-827f-fe2dcac978a2",
   "metadata": {},
   "outputs": [],
   "source": [
    "from pyscal3 import System\n",
    "from pyscal3 import Atoms"
   ]
  },
  {
   "cell_type": "code",
   "execution_count": 16,
   "id": "32e14cf6-697c-488d-b808-33e808775cba",
   "metadata": {},
   "outputs": [],
   "source": [
    "def cal_bop(cal_list,ana_frame):\n",
    "    frames = cal_list\n",
    "    temp_system = frames[ana_frame]['system_info']\n",
    "    temp_frame = frames[ana_frame]['atom_data']\n",
    "    len_x,len_y,len_z = temp_system['x_high'],temp_system['y_high'],temp_system['z_high']\n",
    "    sys = System()\n",
    "    sys.box = [[len_x,0,0],[0,len_y,0],[0,0,len_z]]\n",
    "    # sys.box = [[117.413928, 0, 0], [0, 58.746064, 0], [0, 0, 11.158]]\n",
    "    # 将list转为字典 取出我们要分析的元素 \n",
    "    ana_atom_list = []\n",
    "    atom_xyz = []\n",
    "    for i_atom in temp_frame:\n",
    "        if i_atom.type in ana_element: \n",
    "            atom_xyz.append([i_atom.x,i_atom.y,i_atom.z])\n",
    "            ana_atom_list.append(i_atom)\n",
    "    print(np.array(atom_xyz).shape)\n",
    "    # 转换元素格式\n",
    "    adict = {\"positions\": np.array(atom_xyz, dtype=object)}\n",
    "    atoms = Atoms(adict)\n",
    "    # print(atoms.species)\n",
    "    # print(atoms.positions)\n",
    "    # 实例化\n",
    "    sys.atoms = atoms\n",
    "    # 这是pyscal3的Adaptive cutoff methods\n",
    "    sys.find.neighbors(method='cutoff', cutoff='adaptive', padding=1.5)\n",
    "    coordination = [len(sys.atoms.neighbors.index[x]) for x in range(sys.natoms)]\n",
    "    #################\n",
    "    nos, counts = np.unique(coordination, return_counts=True)\n",
    "    plt.bar(nos, counts, color=\"#AD1457\")\n",
    "    plt.ylabel(\"density\")\n",
    "    plt.xlabel(\"coordination number\")\n",
    "    plt.title(\"Cutoff adaptive method\")\n",
    "    # 计算q4和q6 然后采用均值的方法\n",
    "    # q4_q6_list = sys.calculate.steinhardt_parameter([4,6], averaged=True)\n",
    "    q4_q6_list = sys.calculate.steinhardt_parameter([4,6], averaged=True)\n",
    "    print(f'Mean_q4:{sum(q4_q6_list[0])/len(q4_q6_list[0])}')\n",
    "    return ana_atom_list, q4_q6_list,[len_x,len_y,len_z]"
   ]
  },
  {
   "cell_type": "markdown",
   "id": "7610e048-dd17-4866-b97a-9091940fbfa2",
   "metadata": {},
   "source": [
    "# 相关函数"
   ]
  },
  {
   "cell_type": "code",
   "execution_count": 19,
   "id": "dc135043-0c4a-4bf9-b077-60d8b82b9e6e",
   "metadata": {},
   "outputs": [],
   "source": [
    "def cal_ppp_dis_object(boxsize,point1,point2):\n",
    "    i_1 = np.array([point1.x,point1.y,point1.z])\n",
    "    j_1 = np.array([point2.x,point2.y,point2.z])\n",
    "    boxsize = np.array(boxsize)\n",
    "    # 计算\n",
    "    delta = i_1-j_1\n",
    "    delta = delta - np.round(delta / boxsize) * boxsize\n",
    "    distance = np.linalg.norm(delta)\n",
    "    return distance"
   ]
  },
  {
   "cell_type": "code",
   "execution_count": 21,
   "id": "07331315-fdef-41f3-af91-e7937dad62c4",
   "metadata": {},
   "outputs": [],
   "source": [
    "import numpy as np\n",
    "import matplotlib.pyplot as plt\n",
    "from matplotlib.colors import LinearSegmentedColormap, ListedColormap\n",
    "    \n",
    "def draw_q4(data_temp,critical_q4,label_list,title_name):\n",
    "    # 从 data_list 中提取 x、y、q4 和 q6 数据\n",
    "    #########\n",
    "    x_data = [item.x for item in data_temp]\n",
    "    y_data = [item.y for item in data_temp]\n",
    "    q4_data = [item.q4 for item in data_temp]\n",
    "    q6_data = [item.q6 for item in data_temp]\n",
    "    # 创建二维分布图\n",
    "    plt.figure(figsize=(10, 6) ,dpi=80)\n",
    "    mean_q4 = sum(q4_data)/len(q4_data)\n",
    "    num_max_q4 = len([i for i in q4_data if i>critical_q4])\n",
    "    print('Mean q4:' + str(round(mean_q4,4))+' Percentage of Q4 > 0.18:'+ str(round(num_max_q4/len(q4_data)*100,2))+'%')\n",
    "    \n",
    "    ###########################################\n",
    "    # 定义viridis色谱的底端绿色渐变\n",
    "    \n",
    "    viridis_cmap = plt.get_cmap('viridis')\n",
    "    \n",
    "    # 生成顶端橙黄色的渐变，使用非常短的橙色段\n",
    "    orange_yellow = ['#ffea00', '#ff7f0e']  # 橙色到黄色的 HEX 色码，顺序调整为黄色到橙色\n",
    "    orange_yellow_cmap = LinearSegmentedColormap.from_list('orange_yellow', orange_yellow, N=8)\n",
    "    \n",
    "    # 合并两个色谱，创建自定义色谱\n",
    "    colors = np.vstack((viridis_cmap(np.linspace(0, 1, 128)),\n",
    "                        orange_yellow_cmap(np.linspace(0, 1, 8))))  # 使用非常短的橙色段\n",
    "    custom_cmap = ListedColormap(colors)\n",
    "    ###########################################################\n",
    "    name_x = file_path.split('\\\\')[-1]\n",
    "    # 绘制 q4 在 x-y 平面上的二维分布图\n",
    "    title_name = title_name\n",
    "    plt.title(title_name , fontsize=15, fontweight='bold') \n",
    "    \n",
    "    ################\n",
    "    plt.scatter(x_data, y_data, s=15, c=q4_data, cmap=custom_cmap, marker='o',vmin=0.05, vmax=critical_q4)\n",
    "    plt.colorbar()\n",
    "    plt.scatter(label_list[0],label_list[1],color='blue')\n",
    "    # plt.title('O' , fontsize=15, fontweight='bold')  \n",
    "    plt.xlabel('X-axis ', fontsize=15, fontweight='bold')  # 设置 x 轴标签字体大小和加粗\n",
    "    plt.ylabel('Y-axis', fontsize=15, fontweight='bold')  # 设置 y 轴标签字体大小和加粗\n",
    "    \n",
    "    # 设置 x 轴刻度值的字体大小、颜色和加粗\n",
    "    plt.xticks(range(0, int(max(x_data)) + 1, 10), fontsize=12, fontweight='bold')\n",
    "    # 设置 y 轴刻度值的字体大小、颜色和加粗\n",
    "    plt.yticks(fontsize=12, fontweight='bold')\n",
    "    # plt.legend()\n",
    "    plt.show()"
   ]
  },
  {
   "cell_type": "code",
   "execution_count": 23,
   "id": "8a6befd0-6c3d-4c63-ad9e-0224cdebc572",
   "metadata": {},
   "outputs": [],
   "source": [
    "def filter_bop(temp_list):\n",
    "    # 第一次是去除性地筛选\n",
    "    filter_list = []\n",
    "    for i_atom in temp_list:\n",
    "        i_q4 = i_atom.q4\n",
    "        # 如果原子不是q4>0.18\n",
    "        if i_q4<critical_q4:\n",
    "            filter_list.append(i_atom)\n",
    "            continue\n",
    "        #  如果大于0.18\n",
    "        else:   \n",
    "            count_cry = 0\n",
    "            for j_atom in temp_list:\n",
    "                j_q4 = j_atom.q4\n",
    "                if cal_ppp_dis_object(boxsize,i_atom,j_atom)<critical_dis and j_q4>critical_q4 :\n",
    "                    count_cry+=1\n",
    "            if count_cry<critical_neibor_cry:\n",
    "                rand_num = np.random.uniform(0.12, 0.18)\n",
    "                i_atom.q4 = rand_num\n",
    "            #elif count_cry>=critical_neibor_cry and i_q4<critical_q4:\n",
    "                #i_q4 = critical_q4+0.01\n",
    "            filter_list.append(i_atom)\n",
    "    # 第二次是确定性地添加\n",
    "    filter_list_1 = []\n",
    "    for i_atom in filter_list:\n",
    "        i_q4 = i_atom.q4\n",
    "        # 如果原子不是q4>0.18\n",
    "        if i_q4>critical_q4:\n",
    "            filter_list_1.append(i_atom)\n",
    "            continue\n",
    "        #  如果大于0.18\n",
    "        else:   \n",
    "            count_cry = 0\n",
    "            for j_atom in filter_list:\n",
    "                j_q4 = j_atom.q4\n",
    "                if cal_ppp_dis_object(boxsize,i_atom,j_atom)<critical_dis and j_q4>critical_q4 :\n",
    "                    count_cry+=1\n",
    "            if count_cry>critical_neibor_cry:\n",
    "                rand_num = np.random.uniform(0.181, 0.25)\n",
    "                i_atom.q4 = rand_num\n",
    "            #elif count_cry>=critical_neibor_cry and i_q4<critical_q4:\n",
    "                #i_q4 = critical_q4+0.01\n",
    "            filter_list_1.append(i_atom)\n",
    "    return  filter_list_1\n",
    "\n"
   ]
  },
  {
   "cell_type": "code",
   "execution_count": 25,
   "id": "9de0173b-0547-4dcf-8a41-e1411ebac02d",
   "metadata": {},
   "outputs": [
    {
     "name": "stdout",
     "output_type": "stream",
     "text": [
      "共有1000帧\n"
     ]
    }
   ],
   "source": [
    "print(f'共有{len(frames)}帧')"
   ]
  },
  {
   "cell_type": "markdown",
   "id": "dd1079ee-864f-450e-aced-e71d0075d925",
   "metadata": {},
   "source": [
    "# 绘制BOP的帧数"
   ]
  },
  {
   "cell_type": "code",
   "execution_count": 137,
   "id": "5964d4d0-ef35-4d27-8f39-7ca626e728a2",
   "metadata": {},
   "outputs": [
    {
     "name": "stdout",
     "output_type": "stream",
     "text": [
      "[  0  10  20  30  40  50  60  70  80  90 100 110 120 130 140 150 160 170\n",
      " 180 190 200 210 220 230 240 250 260 270 280 290 300 310 320 330 340 350\n",
      " 360 370 380 390 400 410 420 430 440 450 460 470 480 490 500 510 520 530\n",
      " 540 550 560 570 580 590 600 610 620 630 640 650 660 670 680 690 700 710\n",
      " 720 730 740 750 760 770 780 790 800 810 820 830 840 850 860 870 880 890\n",
      " 900 910 920 930 940 950 960 970 980 990]\n"
     ]
    },
    {
     "data": {
      "text/plain": [
       "100"
      ]
     },
     "execution_count": 137,
     "metadata": {},
     "output_type": "execute_result"
    }
   ],
   "source": [
    "num_ana = np.arange(0,999,10)\n",
    "print(num_ana)\n",
    "#num_ana[-1] = 0\n",
    "#print(num_ana)\n",
    "len(num_ana)"
   ]
  },
  {
   "cell_type": "code",
   "execution_count": 9,
   "id": "583ad6bf-3ac4-4e4d-ac7c-66ee3514ef9f",
   "metadata": {},
   "outputs": [
    {
     "data": {
      "text/plain": [
       "array([42, 41, 40, 39, 38, 37, 36, 35, 34, 33, 32, 31, 30, 29, 28, 27, 26,\n",
       "       25, 24, 23, 22, 21, 20, 19, 18, 17, 16, 15, 14, 13, 12, 11, 10,  9,\n",
       "        8,  7,  6,  5,  4])"
      ]
     },
     "execution_count": 9,
     "metadata": {},
     "output_type": "execute_result"
    }
   ],
   "source": [
    "np.arange(42,3,-1)"
   ]
  },
  {
   "cell_type": "code",
   "execution_count": 15,
   "id": "0d068820-e21c-4976-8990-65eaa3491028",
   "metadata": {},
   "outputs": [],
   "source": [
    "time = np.arange(42,3,-1)[:25]"
   ]
  },
  {
   "cell_type": "code",
   "execution_count": 19,
   "id": "06a529fb-580c-4fa6-8e68-e0793c34dad5",
   "metadata": {},
   "outputs": [],
   "source": [
    "import matplotlib.pyplot as plt"
   ]
  },
  {
   "cell_type": "code",
   "execution_count": 21,
   "id": "57738cc8-743e-4a3c-a658-2337e7d7110f",
   "metadata": {},
   "outputs": [
    {
     "data": {
      "text/plain": [
       "[<matplotlib.lines.Line2D at 0x24ec7b7eba0>]"
      ]
     },
     "execution_count": 21,
     "metadata": {},
     "output_type": "execute_result"
    },
    {
     "data": {
      "image/png": "[encoded data removed]",
      "text/plain": [
       "<Figure size 640x480 with 1 Axes>"
      ]
     },
     "metadata": {},
     "output_type": "display_data"
    }
   ],
   "source": [
    "plt.plot(time,q4_list)"
   ]
  },
  {
   "cell_type": "code",
   "execution_count": 1,
   "id": "8f87f596-e1b5-4b84-905a-7d22d8cb220a",
   "metadata": {},
   "outputs": [],
   "source": [
    "##\n",
    "q4_list = [\n",
    "0.1508897106405453\n",
    ",0.1507302132585421\n",
    ",0.15231814890095546\n",
    ",0.15386293492582181\n",
    ",0.15471687836785286\n",
    ",0.15552993574409688\n",
    ",0.15616440658384445\n",
    ",0.1587704698684236\n",
    ",0.15809295874426996\n",
    ",0.1598882077659182\n",
    ",0.1599568654594105\n",
    ",0.1597549691131812\n",
    ",0.1599025924018163\n",
    ",0.15999470369271024\n",
    ",0.1619111719430786\n",
    ",0.16184108803561853\n",
    ",0.16212280840766896\n",
    ",0.16298212688791314\n",
    ",0.16321081419149136\n",
    ",0.16506477547270104\n",
    ",0.16389632748413716\n",
    ",0.16474480687199355\n",
    ",0.16505853496578846\n",
    ",0.16639189579529196\n",
    ",0.16641798982445755\n",
    "]"
   ]
  },
  {
   "cell_type": "code",
   "execution_count": 139,
   "id": "e65a345f-3027-40e8-a299-d0cb3811208d",
   "metadata": {},
   "outputs": [],
   "source": [
    "# 需要分析的帧数  80帧\n",
    "num_ana = np.arange(0,999,10)\n",
    "### \n",
    "ana_frame_num_list = num_ana\n",
    "All_ana_frame = [None]*len(num_ana)  "
   ]
  },
  {
   "cell_type": "markdown",
   "id": "d8bcd186-0cd9-494f-993c-e3552b0e6092",
   "metadata": {},
   "source": [
    "# 不使用KNN过滤"
   ]
  },
  {
   "cell_type": "code",
   "execution_count": 141,
   "id": "dbd90f2e-645f-497b-98c8-ddb6b1b9bc41",
   "metadata": {},
   "outputs": [
    {
     "name": "stdout",
     "output_type": "stream",
     "text": [
      "Now is analyzing frame:0.\n",
      "(5148, 3)\n",
      "Mean_q4:0.1554714906409619\n",
      "运行时间：91.782669 秒\n",
      "Now is analyzing frame:10.\n",
      "(5148, 3)\n",
      "Mean_q4:0.15575299726455621\n",
      "运行时间：91.661306 秒\n",
      "Now is analyzing frame:20.\n",
      "(5148, 3)\n",
      "Mean_q4:0.15665544749553093\n",
      "运行时间：93.973025 秒\n",
      "Now is analyzing frame:30.\n",
      "(5148, 3)\n",
      "Mean_q4:0.15732816372794878\n",
      "运行时间：91.127887 秒\n",
      "Now is analyzing frame:40.\n",
      "(5148, 3)\n",
      "Mean_q4:0.15793850210826393\n",
      "运行时间：91.400827 秒\n",
      "Now is analyzing frame:50.\n",
      "(5148, 3)\n",
      "Mean_q4:0.15782730882986448\n",
      "运行时间：95.219576 秒\n",
      "Now is analyzing frame:60.\n",
      "(5148, 3)\n",
      "Mean_q4:0.1579941418225014\n",
      "运行时间：95.575294 秒\n",
      "Now is analyzing frame:70.\n",
      "(5148, 3)\n",
      "Mean_q4:0.15657866715849705\n",
      "运行时间：94.045839 秒\n",
      "Now is analyzing frame:80.\n",
      "(5148, 3)\n",
      "Mean_q4:0.1603838666300896\n",
      "运行时间：94.491503 秒\n",
      "Now is analyzing frame:90.\n",
      "(5148, 3)\n",
      "Mean_q4:0.15757322115874192\n",
      "运行时间：93.978625 秒\n",
      "Now is analyzing frame:100.\n",
      "(5148, 3)\n",
      "Mean_q4:0.16066112618209916\n",
      "运行时间：93.824326 秒\n",
      "Now is analyzing frame:110.\n",
      "(5148, 3)\n",
      "Mean_q4:0.16070282913778303\n",
      "运行时间：90.616250 秒\n",
      "Now is analyzing frame:120.\n",
      "(5148, 3)\n",
      "Mean_q4:0.16002957297504855\n",
      "运行时间：93.290920 秒\n",
      "Now is analyzing frame:130.\n",
      "(5148, 3)\n",
      "Mean_q4:0.161093005154151\n",
      "运行时间：91.347864 秒\n",
      "Now is analyzing frame:140.\n",
      "(5148, 3)\n",
      "Mean_q4:0.15996228511926627\n",
      "运行时间：91.115828 秒\n",
      "Now is analyzing frame:150.\n",
      "(5148, 3)\n",
      "Mean_q4:0.16067228708375897\n",
      "运行时间：96.798686 秒\n",
      "Now is analyzing frame:160.\n",
      "(5148, 3)\n",
      "Mean_q4:0.16188064141498862\n",
      "运行时间：95.543301 秒\n",
      "Now is analyzing frame:170.\n",
      "(5148, 3)\n",
      "Mean_q4:0.16147284549735988\n",
      "运行时间：91.758737 秒\n",
      "Now is analyzing frame:180.\n",
      "(5148, 3)\n",
      "Mean_q4:0.16329862954865232\n",
      "运行时间：93.355589 秒\n",
      "Now is analyzing frame:190.\n",
      "(5148, 3)\n",
      "Mean_q4:0.16425199167577598\n",
      "运行时间：91.218592 秒\n",
      "Now is analyzing frame:200.\n",
      "(5148, 3)\n",
      "Mean_q4:0.16135136207855033\n",
      "运行时间：90.455590 秒\n",
      "Now is analyzing frame:210.\n",
      "(5148, 3)\n",
      "Mean_q4:0.16436708119008764\n",
      "运行时间：89.693235 秒\n",
      "Now is analyzing frame:220.\n",
      "(5148, 3)\n",
      "Mean_q4:0.16391466228344437\n",
      "运行时间：95.335821 秒\n",
      "Now is analyzing frame:230.\n",
      "(5148, 3)\n",
      "Mean_q4:0.16318623574426852\n",
      "运行时间：96.427833 秒\n",
      "Now is analyzing frame:240.\n",
      "(5148, 3)\n",
      "Mean_q4:0.16249808561166573\n",
      "运行时间：91.094563 秒\n",
      "Now is analyzing frame:250.\n",
      "(5148, 3)\n",
      "Mean_q4:0.1638851047980801\n",
      "运行时间：91.874406 秒\n",
      "Now is analyzing frame:260.\n",
      "(5148, 3)\n",
      "Mean_q4:0.163918092349285\n",
      "运行时间：90.203905 秒\n",
      "Now is analyzing frame:270.\n",
      "(5148, 3)\n",
      "Mean_q4:0.16320098898326585\n",
      "运行时间：89.964544 秒\n",
      "Now is analyzing frame:280.\n",
      "(5148, 3)\n",
      "Mean_q4:0.16317730993003404\n",
      "运行时间：92.388420 秒\n",
      "Now is analyzing frame:290.\n",
      "(5148, 3)\n",
      "Mean_q4:0.16059524337722786\n",
      "运行时间：89.998707 秒\n",
      "Now is analyzing frame:300.\n",
      "(5148, 3)\n",
      "Mean_q4:0.1655768115793499\n",
      "运行时间：89.805490 秒\n",
      "Now is analyzing frame:310.\n",
      "(5148, 3)\n",
      "Mean_q4:0.1637203534467264\n",
      "运行时间：91.643440 秒\n",
      "Now is analyzing frame:320.\n",
      "(5148, 3)\n",
      "Mean_q4:0.16039024121516512\n",
      "运行时间：90.592695 秒\n",
      "Now is analyzing frame:330.\n",
      "(5148, 3)\n",
      "Mean_q4:0.1630230446527663\n",
      "运行时间：90.206223 秒\n",
      "Now is analyzing frame:340.\n",
      "(5148, 3)\n",
      "Mean_q4:0.16482671097405016\n",
      "运行时间：94.837929 秒\n",
      "Now is analyzing frame:350.\n",
      "(5148, 3)\n",
      "Mean_q4:0.16577583845872262\n",
      "运行时间：98.724608 秒\n",
      "Now is analyzing frame:360.\n",
      "(5148, 3)\n",
      "Mean_q4:0.16502608161205137\n",
      "运行时间：95.379314 秒\n",
      "Now is analyzing frame:370.\n",
      "(5148, 3)\n",
      "Mean_q4:0.16503589139325925\n",
      "运行时间：94.528254 秒\n",
      "Now is analyzing frame:380.\n",
      "(5148, 3)\n",
      "Mean_q4:0.1659014510481095\n",
      "运行时间：96.360325 秒\n",
      "Now is analyzing frame:390.\n",
      "(5148, 3)\n",
      "Mean_q4:0.1647634987852583\n",
      "运行时间：94.357794 秒\n",
      "Now is analyzing frame:400.\n",
      "(5148, 3)\n",
      "Mean_q4:0.167523305165549\n",
      "运行时间：93.933489 秒\n",
      "Now is analyzing frame:410.\n",
      "(5148, 3)\n",
      "Mean_q4:0.16808241190172157\n",
      "运行时间：94.919631 秒\n",
      "Now is analyzing frame:420.\n",
      "(5148, 3)\n",
      "Mean_q4:0.16778883017002288\n",
      "运行时间：96.970880 秒\n",
      "Now is analyzing frame:430.\n",
      "(5148, 3)\n",
      "Mean_q4:0.17037498966780829\n",
      "运行时间：95.996984 秒\n",
      "Now is analyzing frame:440.\n",
      "(5148, 3)\n",
      "Mean_q4:0.1680803691654521\n",
      "运行时间：96.430995 秒\n",
      "Now is analyzing frame:450.\n",
      "(5148, 3)\n",
      "Mean_q4:0.1677393099707196\n",
      "运行时间：94.575178 秒\n",
      "Now is analyzing frame:460.\n",
      "(5148, 3)\n",
      "Mean_q4:0.16657026182914808\n",
      "运行时间：98.022358 秒\n",
      "Now is analyzing frame:470.\n",
      "(5148, 3)\n",
      "Mean_q4:0.16826186478823818\n",
      "运行时间：95.445704 秒\n",
      "Now is analyzing frame:480.\n",
      "(5148, 3)\n",
      "Mean_q4:0.16620178578922082\n",
      "运行时间：95.500502 秒\n",
      "Now is analyzing frame:490.\n",
      "(5148, 3)\n",
      "Mean_q4:0.1708504640808887\n",
      "运行时间：96.308822 秒\n",
      "Now is analyzing frame:500.\n",
      "(5148, 3)\n",
      "Mean_q4:0.17107830113308686\n",
      "运行时间：94.090112 秒\n",
      "Now is analyzing frame:510.\n",
      "(5148, 3)\n",
      "Mean_q4:0.17283194579889438\n",
      "运行时间：94.551369 秒\n",
      "Now is analyzing frame:520.\n",
      "(5148, 3)\n",
      "Mean_q4:0.1725338755944123\n",
      "运行时间：93.354810 秒\n",
      "Now is analyzing frame:530.\n",
      "(5148, 3)\n",
      "Mean_q4:0.17333613350513818\n",
      "运行时间：92.921284 秒\n",
      "Now is analyzing frame:540.\n",
      "(5148, 3)\n",
      "Mean_q4:0.17340206165947944\n",
      "运行时间：90.516190 秒\n",
      "Now is analyzing frame:550.\n",
      "(5148, 3)\n",
      "Mean_q4:0.17271654084565607\n",
      "运行时间：90.737421 秒\n",
      "Now is analyzing frame:560.\n",
      "(5148, 3)\n",
      "Mean_q4:0.17653167622658425\n",
      "运行时间：89.762140 秒\n",
      "Now is analyzing frame:570.\n",
      "(5148, 3)\n",
      "Mean_q4:0.17392421437913072\n",
      "运行时间：92.693146 秒\n",
      "Now is analyzing frame:580.\n",
      "(5148, 3)\n",
      "Mean_q4:0.17500575618512623\n",
      "运行时间：90.213645 秒\n",
      "Now is analyzing frame:590.\n",
      "(5148, 3)\n",
      "Mean_q4:0.1764863124559467\n",
      "运行时间：89.818719 秒\n",
      "Now is analyzing frame:600.\n",
      "(5148, 3)\n",
      "Mean_q4:0.17517174404558164\n",
      "运行时间：91.806432 秒\n",
      "Now is analyzing frame:610.\n",
      "(5148, 3)\n",
      "Mean_q4:0.17466395586599787\n",
      "运行时间：89.903465 秒\n",
      "Now is analyzing frame:620.\n",
      "(5148, 3)\n",
      "Mean_q4:0.17346858210725452\n",
      "运行时间：90.140473 秒\n",
      "Now is analyzing frame:630.\n",
      "(5148, 3)\n",
      "Mean_q4:0.174718416152177\n",
      "运行时间：90.114632 秒\n",
      "Now is analyzing frame:640.\n",
      "(5148, 3)\n",
      "Mean_q4:0.1753917926784585\n",
      "运行时间：94.956083 秒\n",
      "Now is analyzing frame:650.\n",
      "(5148, 3)\n",
      "Mean_q4:0.17690257863797149\n",
      "运行时间：92.528988 秒\n",
      "Now is analyzing frame:660.\n",
      "(5148, 3)\n",
      "Mean_q4:0.17606436071323872\n",
      "运行时间：92.479348 秒\n",
      "Now is analyzing frame:670.\n",
      "(5148, 3)\n",
      "Mean_q4:0.17870290043061604\n",
      "运行时间：92.154931 秒\n",
      "Now is analyzing frame:680.\n",
      "(5148, 3)\n",
      "Mean_q4:0.17985495031795803\n",
      "运行时间：93.613663 秒\n",
      "Now is analyzing frame:690.\n",
      "(5148, 3)\n",
      "Mean_q4:0.17858758836877636\n",
      "运行时间：89.017224 秒\n",
      "Now is analyzing frame:700.\n",
      "(5148, 3)\n",
      "Mean_q4:0.17813697072701767\n",
      "运行时间：88.964723 秒\n",
      "Now is analyzing frame:710.\n",
      "(5148, 3)\n",
      "Mean_q4:0.18165633053617047\n",
      "运行时间：88.670467 秒\n",
      "Now is analyzing frame:720.\n",
      "(5148, 3)\n",
      "Mean_q4:0.17850321746312536\n",
      "运行时间：90.719214 秒\n",
      "Now is analyzing frame:730.\n",
      "(5148, 3)\n",
      "Mean_q4:0.179725354821811\n",
      "运行时间：88.561889 秒\n",
      "Now is analyzing frame:740.\n",
      "(5148, 3)\n",
      "Mean_q4:0.1813331308377008\n",
      "运行时间：89.987250 秒\n",
      "Now is analyzing frame:750.\n",
      "(5148, 3)\n",
      "Mean_q4:0.1794605994392922\n",
      "运行时间：92.405983 秒\n",
      "Now is analyzing frame:760.\n",
      "(5148, 3)\n",
      "Mean_q4:0.17869702135846158\n",
      "运行时间：93.307328 秒\n",
      "Now is analyzing frame:770.\n",
      "(5148, 3)\n",
      "Mean_q4:0.18195854475264064\n",
      "运行时间：90.222039 秒\n",
      "Now is analyzing frame:780.\n",
      "(5148, 3)\n",
      "Mean_q4:0.18369570698825277\n",
      "运行时间：89.945983 秒\n",
      "Now is analyzing frame:790.\n",
      "(5148, 3)\n",
      "Mean_q4:0.18379315993514495\n",
      "运行时间：93.639189 秒\n",
      "Now is analyzing frame:800.\n",
      "(5148, 3)\n",
      "Mean_q4:0.1840339552669226\n",
      "运行时间：91.987262 秒\n",
      "Now is analyzing frame:810.\n",
      "(5148, 3)\n",
      "Mean_q4:0.18482191678812035\n",
      "运行时间：90.138527 秒\n",
      "Now is analyzing frame:820.\n",
      "(5148, 3)\n",
      "Mean_q4:0.18280796868693433\n",
      "运行时间：89.466829 秒\n",
      "Now is analyzing frame:830.\n",
      "(5148, 3)\n",
      "Mean_q4:0.18322530327770495\n",
      "运行时间：89.266631 秒\n",
      "Now is analyzing frame:840.\n",
      "(5148, 3)\n",
      "Mean_q4:0.1828708685278644\n",
      "运行时间：91.176838 秒\n",
      "Now is analyzing frame:850.\n",
      "(5148, 3)\n",
      "Mean_q4:0.1835610837939385\n",
      "运行时间：89.556768 秒\n",
      "Now is analyzing frame:860.\n",
      "(5148, 3)\n",
      "Mean_q4:0.1841247311125199\n",
      "运行时间：89.369327 秒\n",
      "Now is analyzing frame:870.\n",
      "(5148, 3)\n",
      "Mean_q4:0.18313114921814963\n",
      "运行时间：89.697459 秒\n",
      "Now is analyzing frame:880.\n",
      "(5148, 3)\n",
      "Mean_q4:0.18170762937099522\n",
      "运行时间：91.462618 秒\n",
      "Now is analyzing frame:890.\n",
      "(5148, 3)\n",
      "Mean_q4:0.1829021484045321\n",
      "运行时间：90.527113 秒\n",
      "Now is analyzing frame:900.\n",
      "(5148, 3)\n",
      "Mean_q4:0.18238531953038933\n",
      "运行时间：93.269849 秒\n",
      "Now is analyzing frame:910.\n",
      "(5148, 3)\n",
      "Mean_q4:0.18669932913142837\n",
      "运行时间：93.107899 秒\n",
      "Now is analyzing frame:920.\n",
      "(5148, 3)\n",
      "Mean_q4:0.18519320888202745\n",
      "运行时间：96.056647 秒\n",
      "Now is analyzing frame:930.\n",
      "(5148, 3)\n",
      "Mean_q4:0.1882293459516334\n",
      "运行时间：93.339255 秒\n",
      "Now is analyzing frame:940.\n",
      "(5148, 3)\n",
      "Mean_q4:0.1905560676979404\n",
      "运行时间：91.509696 秒\n",
      "Now is analyzing frame:950.\n",
      "(5148, 3)\n",
      "Mean_q4:0.18936688528799397\n",
      "运行时间：89.172221 秒\n",
      "Now is analyzing frame:960.\n",
      "(5148, 3)\n",
      "Mean_q4:0.1864539262694321\n",
      "运行时间：91.345012 秒\n",
      "Now is analyzing frame:970.\n",
      "(5148, 3)\n",
      "Mean_q4:0.18856651828104426\n",
      "运行时间：89.169426 秒\n",
      "Now is analyzing frame:980.\n",
      "(5148, 3)\n",
      "Mean_q4:0.18979666020439342\n",
      "运行时间：88.758379 秒\n",
      "Now is analyzing frame:990.\n",
      "(5148, 3)\n",
      "Mean_q4:0.18835699277391374\n",
      "运行时间：91.677039 秒\n",
      "总共的运行时间：9235.960215 秒\n"
     ]
    },
    {
     "data": {
      "image/png": "[encoded data removed]",
      "text/plain": [
       "<Figure size 640x480 with 1 Axes>"
      ]
     },
     "metadata": {},
     "output_type": "display_data"
    }
   ],
   "source": [
    "# 记录开始时间\n",
    "import time\n",
    "start_time = time.time()  \n",
    "for i_index,i_num in enumerate(ana_frame_num_list):\n",
    "    print(f'Now is analyzing frame:{i_num}.')\n",
    "    temp_time = time.time() \n",
    "    temp_frame_list = frames[i_num]['atom_data']\n",
    "    temp_frame_list = [i for i in temp_frame_list if i.type!='Li']\n",
    "    origin_ana_atom_list, origin_q4_q6_list,box_len = cal_bop(frames,i_num)\n",
    "    ####\n",
    "    # 给当下原子新实例 赋值\n",
    "    All_atom_list = [None]*len(temp_frame_list)\n",
    "    for j_index,i_atom in enumerate(temp_frame_list):\n",
    "        i_id = i_atom.id\n",
    "        j_id = origin_ana_atom_list[j_index].id\n",
    "        ######\n",
    "        if i_id!=j_id:\n",
    "            print('Error')\n",
    "            5/0\n",
    "        else:\n",
    "            i_atom.q4 = origin_q4_q6_list[0][j_index]\n",
    "            i_atom.q6 = origin_q4_q6_list[1][j_index]\n",
    "    # BOP分析\n",
    "    #draw_element = ['Si','Al','O'] \n",
    "    #draw_ele_list = All_atom_list\n",
    "    ###### 可视化 \n",
    "    # critical_q4 = 0.18  \n",
    "    # cry_xyz = [[i.x for i in draw_ele_list if i.q4>critical_q4],[i.y for i in draw_ele_list if i.q4>critical_q4]]\n",
    "    # draw_q4(draw_ele_list, critical_q4, cry_xyz,'Crystal points in LAS(without KNN)')\n",
    "    # ######## KNN 细化分析\n",
    "    # # 就不用再使用KNN过滤了\n",
    "    \n",
    "    # # 遍历每一个原子 根据\n",
    "    # critical_dis = 5.0\n",
    "    # critical_q4 = 0.18\n",
    "    # critical_neibor_cry = 18\n",
    "    # boxsize = box_len\n",
    "    # #  \n",
    "    # draw_knn_q4_list = filter_bop(draw_ele_list)\n",
    "    # cry_point = [[i.x for i in draw_knn_q4_list if i.q4>critical_q4],[i.y for i in draw_knn_q4_list if i.q4>critical_q4]]\n",
    "    # draw_q4(draw_knn_q4_list,0.18,cry_point,'Crystal points of LAS (After KNN)')\n",
    "    # ######### 计算距离 \n",
    "    # cry_atom = [i for i in draw_knn_q4_list if i.q4>critical_q4]\n",
    "    # draw_knn_q4q6dis_list = []\n",
    "    # for i in draw_knn_q4_list:\n",
    "    #     i.dis = 100\n",
    "    #     draw_knn_q4q6dis_list.append(i)\n",
    "    # # 计算距离 \n",
    "    # for i_atom in draw_knn_q4q6dis_list:\n",
    "    #     for j_atom in cry_atom:\n",
    "    #         # 算距离 \n",
    "    #         dis = cal_ppp_dis_object(boxsize,i_atom,j_atom)\n",
    "    #         if dis<i_atom.dis:\n",
    "    #             i_atom.dis = dis\n",
    "    #######\n",
    "    All_ana_frame[i_index] = temp_frame_list\n",
    "    temp_time1 = time.time()\n",
    "    print(f\"运行时间：{(temp_time1 - temp_time):.6f} 秒\")\n",
    "    \n",
    "end_time = time.time()  # 记录结束时间\n",
    "print(f\"总的运行时间：{(end_time - start_time):.6f} 秒\")"
   ]
  },
  {
   "cell_type": "code",
   "execution_count": 144,
   "id": "867fd701-a734-4e57-902a-9229a8ae7448",
   "metadata": {},
   "outputs": [
    {
     "name": "stdout",
     "output_type": "stream",
     "text": [
      "len frame: 100\n",
      "id:1, type:O, x:8.15476, y:25.7733, z:7.38119, q:-1.2\n",
      "vx:-1.99642, vy:-11.4372, vz:2.76146, fx:-2.8878, fy:-0.657136, fz:0.703097\n",
      "E_total:-7.69572, E_kinetic:0.118083, E_potential:-7.81381\n",
      "q4:0.12810669692443688 dis:0.0725020624760078 q6:None frame:1980\n"
     ]
    }
   ],
   "source": [
    "print(f'len frame: {len(All_ana_frame)}')\n",
    "All_ana_frame[-1][0].print_info()"
   ]
  },
  {
   "cell_type": "code",
   "execution_count": null,
   "id": "99743568-5a5e-4139-ad5d-9ce1fc774633",
   "metadata": {},
   "outputs": [],
   "source": []
  },
  {
   "cell_type": "code",
   "execution_count": null,
   "id": "02e7346a-fcdc-4963-8809-9ddf68d7199f",
   "metadata": {},
   "outputs": [],
   "source": []
  },
  {
   "cell_type": "code",
   "execution_count": null,
   "id": "fc829c8d-2f35-420b-a778-b8b0cf534ca9",
   "metadata": {},
   "outputs": [],
   "source": []
  },
  {
   "cell_type": "code",
   "execution_count": 143,
   "id": "20ddfc9f-8d30-43b8-a19b-aa9831906cd8",
   "metadata": {},
   "outputs": [],
   "source": [
    "# 数据保存\n",
    "save_name  = '1800k_0_999—10_frame.npy'\n",
    "save_path = os.path.join(root,save_name)\n",
    "np.save(save_path,All_ana_frame)"
   ]
  },
  {
   "cell_type": "code",
   "execution_count": null,
   "id": "7826c1b0-5d7c-48ad-ae6a-a6d50f1628c5",
   "metadata": {},
   "outputs": [],
   "source": []
  },
  {
   "cell_type": "code",
   "execution_count": null,
   "id": "0708524e-44a4-4bb5-ab77-232c1dec7734",
   "metadata": {},
   "outputs": [],
   "source": []
  },
  {
   "cell_type": "code",
   "execution_count": null,
   "id": "d66e33ab-327d-46a5-9f9c-8441a501cbb4",
   "metadata": {},
   "outputs": [],
   "source": []
  },
  {
   "cell_type": "code",
   "execution_count": 57,
   "id": "167d8677-572e-4ef1-8262-adebd13ab11e",
   "metadata": {},
   "outputs": [
    {
     "name": "stdout",
     "output_type": "stream",
     "text": [
      "id:2, type:O, x:10.028, y:10.2106, z:8.62202, q:-1.2\n",
      "vx:13.8807, vy:9.72395, vz:-4.04433, fx:1.42696, fy:-0.120538, fz:-0.0908945\n",
      "E_total:-9.30688, E_kinetic:0.251706, E_potential:-9.55859\n",
      "q4:0.14808672346743165 dis:0.14808672346743165 q6:None frame:1000\n"
     ]
    }
   ],
   "source": [
    "All_ana_frame[0][1].print_info()"
   ]
  },
  {
   "cell_type": "markdown",
   "id": "c6092626-0a0a-4a73-ab73-cef75c5ed3d8",
   "metadata": {},
   "source": [
    "# 分析析晶过程"
   ]
  },
  {
   "cell_type": "code",
   "execution_count": 147,
   "id": "c4a239c7-22af-4203-9db3-6702d7cddb26",
   "metadata": {},
   "outputs": [
    {
     "name": "stdout",
     "output_type": "stream",
     "text": [
      "3432 858 858\n"
     ]
    }
   ],
   "source": [
    "count_o = 0\n",
    "count_si = 0\n",
    "count_al = 0\n",
    "for i in All_ana_frame[0]:\n",
    "    if i.type=='Si':\n",
    "        count_si+=1\n",
    "    elif i.type=='O':\n",
    "        count_o+=1\n",
    "    elif i.type=='Al':\n",
    "        count_al+=1\n",
    "print(count_o,count_si,count_al)"
   ]
  },
  {
   "cell_type": "code",
   "execution_count": 162,
   "id": "0989c95b-4dd5-4cac-9e14-c3780ba5538d",
   "metadata": {},
   "outputs": [
    {
     "data": {
      "text/plain": [
       "100"
      ]
     },
     "execution_count": 162,
     "metadata": {},
     "output_type": "execute_result"
    }
   ],
   "source": [
    "len(All_ana_frame)"
   ]
  },
  {
   "cell_type": "code",
   "execution_count": 285,
   "id": "5f9fedd1-1fa6-4bbd-8e4b-47923d513c43",
   "metadata": {},
   "outputs": [
    {
     "name": "stdout",
     "output_type": "stream",
     "text": [
      "id:4840, type:Si, x:86.7289, y:37.0502, z:7.99465, q:2.4\n",
      "vx:2.3553, vy:0.670079, vz:-2.71426, fx:0.753584, fy:-1.91405, fz:-4.83899\n",
      "E_total:-32.0173, E_kinetic:0.0194499, E_potential:-32.0367\n",
      "q4:0.18898430899768956 dis:0.12160650097635468 q6:None frame:1000\n",
      "4125\n"
     ]
    }
   ],
   "source": [
    "# 找到目标原子\n",
    "index = None\n",
    "atom_xyz = [86.403 ,  37.028 ,     8.074]\n",
    "for j in All_ana_frame[49:51]:\n",
    "    for num,i in enumerate(j):\n",
    "        if i.type=='Si' and abs(i.x-atom_xyz[0])<1 and abs(i.y-atom_xyz[1])<1 and abs(i.z-atom_xyz[2])<1:\n",
    "            i.print_info()\n",
    "            index=num  \n",
    "print(index)"
   ]
  },
  {
   "cell_type": "code",
   "execution_count": 287,
   "id": "98739e19-3f8b-4a5a-aff9-18114f2111c4",
   "metadata": {},
   "outputs": [
    {
     "data": {
      "text/plain": [
       "[126.2737862980753, 55.053550690468256, 11.451433839912514]"
      ]
     },
     "execution_count": 287,
     "metadata": {},
     "output_type": "execute_result"
    }
   ],
   "source": [
    "box_len"
   ]
  },
  {
   "cell_type": "code",
   "execution_count": 289,
   "id": "6474c3ce-4765-466d-a5bc-ba24b89f119f",
   "metadata": {},
   "outputs": [
    {
     "name": "stdout",
     "output_type": "stream",
     "text": [
      "id:4840, type:Si, x:82.379, y:37.125, z:3.47911, q:2.4\n",
      "vx:-6.6913, vy:-11.6486, vz:10.5355, fx:2.55372, fy:-0.325264, fz:-0.541444\n",
      "E_total:-32.0246, E_kinetic:0.4242, E_potential:-32.4488\n",
      "q4:0.17781440878526464 dis:0.06984322472723903 q6:None frame:0\n"
     ]
    }
   ],
   "source": [
    "All_ana_frame[0][index].print_info()"
   ]
  },
  {
   "cell_type": "raw",
   "id": "19d4cbc3-b5b7-44aa-98b1-6be03579febe",
   "metadata": {},
   "source": [
    "# 根据id找index\n",
    "id_0 = 3546\n",
    "i_index = None\n",
    "for i_num,j in enumerate(All_ana_frame[0]):\n",
    "    if j.id==id_0:\n",
    "        print(i_num)\n",
    "        i_index=i_num\n",
    "        break"
   ]
  },
  {
   "cell_type": "code",
   "execution_count": 291,
   "id": "f4d7985f-6761-47da-9e2e-7961480a10d3",
   "metadata": {},
   "outputs": [
    {
     "name": "stdout",
     "output_type": "stream",
     "text": [
      "id:4840, type:Si, x:82.379, y:37.125, z:3.47911, q:2.4\n",
      "vx:-6.6913, vy:-11.6486, vz:10.5355, fx:2.55372, fy:-0.325264, fz:-0.541444\n",
      "E_total:-32.0246, E_kinetic:0.4242, E_potential:-32.4488\n",
      "q4:0.17781440878526464 dis:0.06984322472723903 q6:None frame:0\n"
     ]
    }
   ],
   "source": [
    "All_ana_frame[0][index].print_info()"
   ]
  },
  {
   "cell_type": "code",
   "execution_count": 293,
   "id": "c9002807-a9fe-4163-832d-c48c84bc9230",
   "metadata": {},
   "outputs": [
    {
     "data": {
      "text/plain": [
       "[<matplotlib.lines.Line2D at 0x2b4b0d37a70>]"
      ]
     },
     "execution_count": 293,
     "metadata": {},
     "output_type": "execute_result"
    },
    {
     "data": {
      "image/png": "[encoded data removed]",
      "text/plain": [
       "<Figure size 640x480 with 1 Axes>"
      ]
     },
     "metadata": {},
     "output_type": "display_data"
    }
   ],
   "source": [
    "# 找到与这个原子最近的四个O原子 然后分析他们的Q4 可能每次的原子不一样  因此存下来\n",
    "index = index\n",
    "###\n",
    "neibor_list = [[] for _ in range(len(All_ana_frame))]\n",
    "for i_num,i_frame in enumerate(All_ana_frame):\n",
    "    temp_atom = i_frame[index]\n",
    "    for j_atom in i_frame:\n",
    "        if j_atom.type == 'O':\n",
    "            dis = cal_ppp_dis_object(box_len,temp_atom,j_atom)\n",
    "            if 1.0<dis<2.5:\n",
    "                neibor_list[i_num].append(j_atom)\n",
    "# \n",
    "# 求出四周原子的Q4\n",
    "q4_neibor = []\n",
    "for i in neibor_list:\n",
    "    q4 = sum([j.q4 for j in i])/len(i)\n",
    "    q4_neibor.append(q4)\n",
    "# \n",
    "x = range(len(All_ana_frame))\n",
    "y = [len(i) for i in neibor_list]\n",
    "plt.plot(x,y)"
   ]
  },
  {
   "cell_type": "code",
   "execution_count": 294,
   "id": "3c47403a-2a4b-4baa-81e4-8865324279bb",
   "metadata": {},
   "outputs": [
    {
     "data": {
      "text/plain": [
       "[<matplotlib.lines.Line2D at 0x2b4b9446ba0>]"
      ]
     },
     "execution_count": 294,
     "metadata": {},
     "output_type": "execute_result"
    },
    {
     "data": {
      "image/png": "[encoded data removed]",
      "text/plain": [
       "<Figure size 640x480 with 1 Axes>"
      ]
     },
     "metadata": {},
     "output_type": "display_data"
    }
   ],
   "source": [
    "# 找到与这个原子最近的 NF 然后分析他们的Q4 可能每次的原子不一样  因此存下来\n",
    "si1_neibor = [[] for _ in range(len(All_ana_frame))]\n",
    "for i_num,i_frame in enumerate(All_ana_frame):\n",
    "    temp_atom = i_frame[index]\n",
    "    for j_atom in i_frame:\n",
    "        if j_atom.type in ['Si','Al']:\n",
    "            dis = cal_ppp_dis_object(box_len,temp_atom,j_atom)\n",
    "            if 2.5<dis<4.0:\n",
    "                si1_neibor[i_num].append(j_atom)\n",
    "# \n",
    "# 求出四周原子的Q4\n",
    "si1_q4 = []\n",
    "for i in si1_neibor:\n",
    "    q4 = sum([j.q4 for j in i])/len(i)\n",
    "    si1_q4.append(q4)\n",
    "#\n",
    "x = range(len(All_ana_frame))\n",
    "y = [len(i) for i in si1_neibor]\n",
    "plt.plot(x,y)"
   ]
  },
  {
   "cell_type": "code",
   "execution_count": 353,
   "id": "67080497-05ad-48c8-af30-d00a046953f2",
   "metadata": {},
   "outputs": [
    {
     "data": {
      "text/plain": [
       "4.15"
      ]
     },
     "execution_count": 353,
     "metadata": {},
     "output_type": "execute_result"
    }
   ],
   "source": [
    "sum([len(i) for i in si1_neibor])/100"
   ]
  },
  {
   "cell_type": "code",
   "execution_count": 296,
   "id": "38a58edc-718f-4336-b5da-d936764e479d",
   "metadata": {},
   "outputs": [
    {
     "data": {
      "text/plain": [
       "[<matplotlib.lines.Line2D at 0x2b4af3e4380>]"
      ]
     },
     "execution_count": 296,
     "metadata": {},
     "output_type": "execute_result"
    },
    {
     "data": {
      "image/png": "[encoded data removed]",
      "text/plain": [
       "<Figure size 640x480 with 1 Axes>"
      ]
     },
     "metadata": {},
     "output_type": "display_data"
    }
   ],
   "source": [
    "# 找到与这个原子最近的四个O原子 然后分析他们的Q4 可能每次的原子不一样  因此存下来\n",
    "si2_neibor_list = [[] for _ in range(len(All_ana_frame))]\n",
    "for i_num,i_frame in enumerate(All_ana_frame):\n",
    "    temp_atom = i_frame[index]\n",
    "    for j_atom in i_frame:\n",
    "        if j_atom.type in ['Si','Al']:\n",
    "            dis = cal_ppp_dis_object(box_len,temp_atom,j_atom)\n",
    "            if 4.0<dis<6.5:\n",
    "                si2_neibor_list[i_num].append(j_atom)\n",
    "# \n",
    "# 求出四周原子的Q4\n",
    "si2_q4 = []\n",
    "for i in si2_neibor_list:\n",
    "    q4 = sum([j.q4 for j in i])/len(i)\n",
    "    si2_q4.append(q4)\n",
    "# \n",
    "x = range(len(All_ana_frame))\n",
    "y = [len(i) for i in si2_neibor_list]\n",
    "plt.plot(x,y)"
   ]
  },
  {
   "cell_type": "code",
   "execution_count": 297,
   "id": "5d9962c4-65c6-4cf1-8866-5ca7d717d794",
   "metadata": {},
   "outputs": [
    {
     "data": {
      "text/plain": [
       "[<matplotlib.lines.Line2D at 0x2b4af374380>]"
      ]
     },
     "execution_count": 297,
     "metadata": {},
     "output_type": "execute_result"
    },
    {
     "data": {
      "image/png": "[encoded data removed]",
      "text/plain": [
       "<Figure size 640x480 with 1 Axes>"
      ]
     },
     "metadata": {},
     "output_type": "display_data"
    }
   ],
   "source": [
    "# 找到与这个原子最近的四个O原子 然后分析他们的Q4 可能每次的原子不一样  因此存下来\n",
    "si3_neibor_list = [[] for _ in range(len(All_ana_frame))]\n",
    "for i_num,i_frame in enumerate(All_ana_frame):\n",
    "    temp_atom = i_frame[index]\n",
    "    for j_atom in i_frame:\n",
    "        if j_atom.type in ['Si','Al']:\n",
    "            dis = cal_ppp_dis_object(box_len,temp_atom,j_atom)\n",
    "            if 6.5<dis<9:\n",
    "                si3_neibor_list[i_num].append(j_atom)\n",
    "# \n",
    "# 求出四周原子的Q4\n",
    "si3_q4 = []\n",
    "for i in si3_neibor_list:\n",
    "    q4 = sum([j.q4 for j in i])/len(i)\n",
    "    si3_q4.append(q4)\n",
    "# \n",
    "x = range(len(All_ana_frame))\n",
    "y = [len(i) for i in si3_neibor_list]\n",
    "plt.plot(x,y)"
   ]
  },
  {
   "cell_type": "code",
   "execution_count": null,
   "id": "659fee3d-c617-466f-a576-fa97fa3ae800",
   "metadata": {},
   "outputs": [],
   "source": []
  },
  {
   "cell_type": "code",
   "execution_count": 299,
   "id": "41c6bdf3-8e35-4a90-b99c-55e126a24681",
   "metadata": {},
   "outputs": [],
   "source": [
    "q4_list = [None]*len(All_ana_frame)\n",
    "for i,j in enumerate(All_ana_frame):\n",
    "    q4 = j[index].q4\n",
    "    q4_list[i]=q4"
   ]
  },
  {
   "cell_type": "code",
   "execution_count": 317,
   "id": "b6e83710-96a5-4969-b494-939f19ebecd4",
   "metadata": {},
   "outputs": [
    {
     "data": {
      "text/plain": [
       "(40.0, 80.0)"
      ]
     },
     "execution_count": 317,
     "metadata": {},
     "output_type": "execute_result"
    },
    {
     "data": {
      "image/png": "[encoded data removed]",
      "text/plain": [
       "<Figure size 640x480 with 1 Axes>"
      ]
     },
     "metadata": {},
     "output_type": "display_data"
    }
   ],
   "source": [
    "x = np.array(range(len(q4_list)))\n",
    "y0 = q4_list\n",
    "y1 = q4_neibor\n",
    "y2 = si1_q4\n",
    "y3 = si2_q4\n",
    "y4 = si3_q4\n",
    "plt.plot(x,y0,c='blue', marker='o',label = 'Center atom')\n",
    "plt.plot(x,y1,c='red', marker='o',label='O within 2.5A')\n",
    "plt.plot(x,y2,c='green', marker='o',label='NFs from 2.5A to 4.0A')\n",
    "plt.plot(x,y3,c='black', marker='o',label='NFs from 4.0A to 6.5A')\n",
    "# plt.plot(x,y4,c='purple',label='Si/Al from 6.5A to 9.0A')\n",
    "plt.legend()\n",
    "#plt.xticks(np.arange(0, 80, 2))\n",
    "plt.xlim(40,80)\n",
    "#plt.grid(True)"
   ]
  },
  {
   "cell_type": "code",
   "execution_count": 339,
   "id": "a4c1048d-9473-46d1-8033-75a34c1292f1",
   "metadata": {},
   "outputs": [],
   "source": [
    "# 数据保存\n",
    "x_t = np.array(range(len(q4_list)))*80/100\n",
    "save_name  = '1800k_si_q4.txt'\n",
    "save_path = os.path.join(root,save_name)\n",
    "save_list = np.array([x_t,y0,y1,y2,y3]).T\n",
    "np.savetxt(save_path,save_list)"
   ]
  },
  {
   "cell_type": "code",
   "execution_count": 323,
   "id": "6cde2d5f-1351-490e-aebb-1e37ce22e34c",
   "metadata": {},
   "outputs": [
    {
     "data": {
      "text/plain": [
       "array([ 0. ,  0.8,  1.6,  2.4,  3.2,  4. ,  4.8,  5.6,  6.4,  7.2,  8. ,\n",
       "        8.8,  9.6, 10.4, 11.2, 12. , 12.8, 13.6, 14.4, 15.2, 16. , 16.8,\n",
       "       17.6, 18.4, 19.2, 20. , 20.8, 21.6, 22.4, 23.2, 24. , 24.8, 25.6,\n",
       "       26.4, 27.2, 28. , 28.8, 29.6, 30.4, 31.2, 32. , 32.8, 33.6, 34.4,\n",
       "       35.2, 36. , 36.8, 37.6, 38.4, 39.2, 40. , 40.8, 41.6, 42.4, 43.2,\n",
       "       44. , 44.8, 45.6, 46.4, 47.2, 48. , 48.8, 49.6, 50.4, 51.2, 52. ,\n",
       "       52.8, 53.6, 54.4, 55.2, 56. , 56.8, 57.6, 58.4, 59.2, 60. , 60.8,\n",
       "       61.6, 62.4, 63.2, 64. , 64.8, 65.6, 66.4, 67.2, 68. , 68.8, 69.6,\n",
       "       70.4, 71.2, 72. , 72.8, 73.6, 74.4, 75.2, 76. , 76.8, 77.6, 78.4,\n",
       "       79.2])"
      ]
     },
     "execution_count": 323,
     "metadata": {},
     "output_type": "execute_result"
    }
   ],
   "source": [
    "x_t"
   ]
  },
  {
   "cell_type": "code",
   "execution_count": 345,
   "id": "b975b897-50ec-4f99-98e7-aef70c14593e",
   "metadata": {},
   "outputs": [
    {
     "data": {
      "text/plain": [
       "48.0"
      ]
     },
     "execution_count": 345,
     "metadata": {},
     "output_type": "execute_result"
    }
   ],
   "source": [
    "600*80/1000"
   ]
  },
  {
   "cell_type": "code",
   "execution_count": null,
   "id": "3b6a61a9-9208-4c24-9488-e2cbdf33f063",
   "metadata": {},
   "outputs": [],
   "source": []
  },
  {
   "cell_type": "code",
   "execution_count": null,
   "id": "5ab981e6-e400-46e2-8d12-be0328fc231f",
   "metadata": {},
   "outputs": [],
   "source": [
    "# 虽然这个数据可以说明 析晶存在着附近结构的同步的 但是单个原子也会造成这种结果\n",
    "# 如果析晶够快的话 "
   ]
  },
  {
   "cell_type": "code",
   "execution_count": null,
   "id": "a6d84a96-f6c3-4325-94d5-4a6a535e5ae2",
   "metadata": {},
   "outputs": [],
   "source": [
    "# 1ns是 0.56"
   ]
  },
  {
   "cell_type": "code",
   "execution_count": null,
   "id": "ac7f5f62-9a83-4733-a8f2-55feaa2235dc",
   "metadata": {},
   "outputs": [],
   "source": []
  },
  {
   "cell_type": "code",
   "execution_count": null,
   "id": "8745e9b5-4893-4393-bf9a-926ec40661fb",
   "metadata": {},
   "outputs": [],
   "source": []
  },
  {
   "cell_type": "code",
   "execution_count": null,
   "id": "710b96a7-2221-4b7c-a926-bc5f44cf2e05",
   "metadata": {},
   "outputs": [],
   "source": []
  },
  {
   "cell_type": "code",
   "execution_count": null,
   "id": "5d5e1189-2774-4e3f-bfd6-81d1b3ec9d67",
   "metadata": {},
   "outputs": [],
   "source": []
  },
  {
   "cell_type": "code",
   "execution_count": null,
   "id": "e91df2b6-74e9-4c05-8688-fac86475601d",
   "metadata": {},
   "outputs": [],
   "source": []
  },
  {
   "cell_type": "code",
   "execution_count": 1034,
   "id": "fe205a0b-94c1-461b-96c2-b9f9f196630c",
   "metadata": {},
   "outputs": [],
   "source": [
    "# # 找一个在中间析晶的原子\n",
    "# for j_atom in range(len(All_ana_frame[0])):\n",
    "#     count_1,count_2 = 0,0\n",
    "#     for i_frame in range(200):\n",
    "#         # 找一个在中间析晶的\n",
    "#         temp_atom = All_ana_frame[i_frame][j_atom]\n",
    "#         if temp_atom.type in ['Si','Al']:\n",
    "#             if temp_atom.q4<0.16 and i_frame<101:\n",
    "#                 count_1+=1\n",
    "#             elif temp_atom.q4>0.170 and i_frame>101:\n",
    "#                 count_2+=1\n",
    "#     if 4<abs(count_1-count_2)<10 and temp_atom.type != 'O':\n",
    "#         temp_atom.print_info()"
   ]
  },
  {
   "cell_type": "code",
   "execution_count": 243,
   "id": "2b4a573c-0f47-4651-80dc-2f57e8d407a8",
   "metadata": {},
   "outputs": [
    {
     "name": "stdout",
     "output_type": "stream",
     "text": [
      "center vs first neibors(O): 0.9463236125189224\n",
      "center vs first neibors(Si,Al): 0.8957788986821782\n",
      "center vs third neibors(Si,Al) 0.817079367916237\n",
      "center vs third neibors(Si,Al) 0.8144899740371453\n"
     ]
    }
   ],
   "source": [
    "print(\"center vs first neibors(O):\", pearson_correlation(q4_list, q4_neibor))\n",
    "print(\"center vs first neibors(Si,Al):\", pearson_correlation(q4_list, si1_q4))\n",
    "print(\"center vs third neibors(Si,Al)\", pearson_correlation(q4_list, si2_q4))\n",
    "print(\"center vs third neibors(Si,Al)\", pearson_correlation(q4_list, si3_q4))"
   ]
  },
  {
   "cell_type": "code",
   "execution_count": 1036,
   "id": "22ba0de9-e192-4fbb-b2bf-5eeb5af2ff4c",
   "metadata": {},
   "outputs": [
    {
     "name": "stdout",
     "output_type": "stream",
     "text": [
      "0.23580784767484128\n",
      "0.1963711276357817\n",
      "0.2348831929713969\n",
      "0.2013132383012107\n"
     ]
    }
   ],
   "source": [
    "print( pearson_correlation(q4_list, q4_neibor))\n",
    "print(pearson_correlation(q4_list, sial_q4))\n",
    "print( pearson_correlation(q4_list, si2_q4))\n",
    "print(pearson_correlation(q4_list, si3_q4))"
   ]
  },
  {
   "cell_type": "code",
   "execution_count": null,
   "id": "f2ed40a5-39f3-4499-a5c2-b5cd6518b6ec",
   "metadata": {},
   "outputs": [],
   "source": []
  },
  {
   "cell_type": "raw",
   "id": "99bcfba8-1b0f-49da-8297-74456449d1ba",
   "metadata": {},
   "source": [
    "# 找到目标原子 \n",
    "find_id = 4516\n",
    "temp_q4 = []\n",
    "for j_atom in range(len(All_ana_frame[0])):\n",
    "    for i_frame in range(200):\n",
    "        # 找一个在中间析晶的\n",
    "        temp_atom = All_ana_frame[i_frame][j_atom]\n",
    "        if temp_atom.id == find_id:\n",
    "            temp_q4.append(temp_atom.q4)\n",
    "#\n",
    "x = range(200)\n",
    "y = temp_q4\n",
    "plt.plot(x,y)"
   ]
  },
  {
   "cell_type": "code",
   "execution_count": null,
   "id": "444bd0b0-8302-4652-b4d1-3042df7b68e5",
   "metadata": {},
   "outputs": [],
   "source": []
  },
  {
   "cell_type": "markdown",
   "id": "d852c421-ecc4-4ba6-bd83-a7fcae871b62",
   "metadata": {},
   "source": [
    "# 趋势的相关性"
   ]
  },
  {
   "cell_type": "code",
   "execution_count": 237,
   "id": "fef3cca1-e18f-4629-931c-b3cd4724b1df",
   "metadata": {},
   "outputs": [
    {
     "name": "stdout",
     "output_type": "stream",
     "text": [
      "皮尔逊相关系数 r = 0.9999999999999998\n"
     ]
    }
   ],
   "source": [
    "import numpy as np\n",
    "\n",
    "def pearson_correlation(x, y):\n",
    "    x = np.array(x)\n",
    "    y = np.array(y)\n",
    "    \n",
    "    if len(x) != len(y):\n",
    "        raise ValueError(\"输入的两个数组长度必须相同。\")\n",
    "    \n",
    "    x_mean = np.mean(x)\n",
    "    y_mean = np.mean(y)\n",
    "    \n",
    "    numerator = np.sum((x - x_mean) * (y - y_mean))\n",
    "    denominator = np.sqrt(np.sum((x - x_mean) ** 2)) * np.sqrt(np.sum((y - y_mean) ** 2))\n",
    "    \n",
    "    if denominator == 0:\n",
    "        return 0.0  # 避免除以零\n",
    "    \n",
    "    return numerator / denominator\n",
    "\n",
    "# 示例数据\n",
    "x = [1, 2, 3, 4, 5]\n",
    "y = [2, 4, 6, 8, 10]\n",
    "\n",
    "r = pearson_correlation(x, y)\n",
    "print(\"皮尔逊相关系数 r =\", r)\n"
   ]
  },
  {
   "cell_type": "code",
   "execution_count": 938,
   "id": "075ce8c5-92a4-4719-aca3-28f7797bdbbe",
   "metadata": {},
   "outputs": [
    {
     "name": "stdout",
     "output_type": "stream",
     "text": [
      "center vs first neibors(O): 0.37172452977622655\n",
      "center vs first neibors(Si,Al): 0.4340887744270329\n",
      "center vs third neibors(Si,Al) 0.44343774830411986\n",
      "center vs third neibors(Si,Al) 0.2417506676256481\n"
     ]
    }
   ],
   "source": [
    "print(\"center vs first neibors(O):\", pearson_correlation(q4_list, q4_neibor))\n",
    "print(\"center vs first neibors(Si,Al):\", pearson_correlation(q4_list, sial_q4))\n",
    "print(\"center vs third neibors(Si,Al)\", pearson_correlation(q4_list, si2_q4))\n",
    "print(\"center vs third neibors(Si,Al)\", pearson_correlation(q4_list, si3_q4))"
   ]
  },
  {
   "cell_type": "code",
   "execution_count": 940,
   "id": "8a727683-2a5b-482a-819b-f5b47c8e732f",
   "metadata": {},
   "outputs": [
    {
     "name": "stdout",
     "output_type": "stream",
     "text": [
      "0.37172452977622655\n",
      "0.4340887744270329\n",
      "0.44343774830411986\n",
      "0.2417506676256481\n"
     ]
    }
   ],
   "source": [
    "print( pearson_correlation(q4_list, q4_neibor))\n",
    "print(pearson_correlation(q4_list, sial_q4))\n",
    "print( pearson_correlation(q4_list, si2_q4))\n",
    "print(pearson_correlation(q4_list, si3_q4))"
   ]
  },
  {
   "cell_type": "code",
   "execution_count": 729,
   "id": "7097f941-9015-4bc8-90b9-f530ec1a9aa8",
   "metadata": {},
   "outputs": [
    {
     "name": "stdout",
     "output_type": "stream",
     "text": [
      "center vs third neibors(Si,Al) 0.027114936377654584\n"
     ]
    }
   ],
   "source": []
  },
  {
   "cell_type": "code",
   "execution_count": null,
   "id": "c7523244-228c-4f1b-95be-9c7781649ce3",
   "metadata": {},
   "outputs": [],
   "source": []
  },
  {
   "cell_type": "markdown",
   "id": "7caf3289-eb5f-4e6a-9153-35f540bd7062",
   "metadata": {},
   "source": [
    "# 重要数据一定要保存下来\n"
   ]
  },
  {
   "cell_type": "code",
   "execution_count": 58,
   "id": "8a43a8a7-3e1a-4716-93c0-d673bf3a137f",
   "metadata": {},
   "outputs": [],
   "source": [
    "# 数据保存\n",
    "save_name  = '1800k_500-700_frame.npy'\n",
    "save_path = os.path.join(root,save_name)\n",
    "np.save(save_path,All_ana_frame)"
   ]
  },
  {
   "cell_type": "code",
   "execution_count": 34,
   "id": "6894f29f-5256-44c6-8fe0-ed771bf38021",
   "metadata": {},
   "outputs": [],
   "source": [
    "data = np.load(save_path,allow_pickle=True)"
   ]
  },
  {
   "cell_type": "code",
   "execution_count": 49,
   "id": "a4a26a8c-6dba-440f-a85c-273e01acbffb",
   "metadata": {},
   "outputs": [
    {
     "name": "stdout",
     "output_type": "stream",
     "text": [
      "id:1, type:O, x:6.11523, y:22.1293, z:5.17938, q:-1.2\n",
      "vx:9.456, vy:-5.1557, vz:15.7035, fx:1.92409, fy:-1.47606, fz:0.789213\n",
      "E_total:-10.3348, E_kinetic:0.300632, E_potential:-10.6354\n",
      "q4:0.126325292764074 dis:0.126325292764074 q6:11.04555068968949 frame:1900\n"
     ]
    }
   ],
   "source": [
    "All_ana_frame = data\n",
    "All_ana_frame[-1][0].print_info()"
   ]
  },
  {
   "cell_type": "markdown",
   "id": "bc5ede5d-273c-400b-bc5f-6ba4db3c3a5b",
   "metadata": {},
   "source": [
    "# 之后就是按照元素分析性质了"
   ]
  },
  {
   "cell_type": "code",
   "execution_count": 52,
   "id": "f7f33d06-408c-447f-af68-1a80878963bf",
   "metadata": {},
   "outputs": [
    {
     "data": {
      "text/plain": [
       "20"
      ]
     },
     "execution_count": 52,
     "metadata": {},
     "output_type": "execute_result"
    }
   ],
   "source": [
    "len(All_ana_frame)"
   ]
  },
  {
   "cell_type": "code",
   "execution_count": 58,
   "id": "3eeefb87-bc30-48d0-b463-61def3815ae3",
   "metadata": {},
   "outputs": [
    {
     "name": "stdout",
     "output_type": "stream",
     "text": [
      "id:1, type:O, x:11.2912, y:16.6198, z:10.4151, q:-1.2\n",
      "vx:-9.32494, vy:-3.57517, vz:14.1395, fx:-1.49464, fy:0.00389495, fz:-5.42587\n",
      "E_total:-8.98154, E_kinetic:0.248453, E_potential:-9.22999\n",
      "q4:0.1265799803778213 dis:0.1265799803778213 q6:29.692546880360396 frame:100\n"
     ]
    }
   ],
   "source": [
    "All_ana_frame[1][0].print_info()"
   ]
  },
  {
   "cell_type": "markdown",
   "id": "0b9df301-7a00-4fe2-bda9-8079e9f9be47",
   "metadata": {},
   "source": [
    "# 然后就是分析这一个帧数之后 附近原子的位移情况 "
   ]
  },
  {
   "cell_type": "code",
   "execution_count": 99,
   "id": "fa378e4c-f771-4491-a260-a7fb65bb631f",
   "metadata": {},
   "outputs": [],
   "source": [
    "f = 870"
   ]
  },
  {
   "cell_type": "code",
   "execution_count": 101,
   "id": "77a37b3a-b063-4ea5-9883-fc881d743c9a",
   "metadata": {},
   "outputs": [
    {
     "data": {
      "text/plain": [
       "69.60000000000001"
      ]
     },
     "execution_count": 101,
     "metadata": {},
     "output_type": "execute_result"
    }
   ],
   "source": [
    "80/1000*f"
   ]
  },
  {
   "cell_type": "code",
   "execution_count": null,
   "id": "93c737c8-d566-4f13-ba0d-42a80ae910ab",
   "metadata": {},
   "outputs": [],
   "source": []
  },
  {
   "cell_type": "code",
   "execution_count": null,
   "id": "e491b896-d811-4024-941e-985d14b7663b",
   "metadata": {},
   "outputs": [],
   "source": [
    "# "
   ]
  },
  {
   "cell_type": "code",
   "execution_count": 106,
   "id": "4620d8a0-6814-4788-a204-b94e2d60fea0",
   "metadata": {},
   "outputs": [],
   "source": [
    "## 时间间隔\n",
    "interval_frame = 2\n",
    "# 选出固定范围内的原子\n",
    "dis_range = [0.01,20]\n",
    "# 选取的中心 晶体中的原子\n",
    "cry_q4q6dis_ele = ['Al','Si','O']\n",
    "# 选取的是 界面处的原子\n",
    "interface_ele = ['Si','Al','O']"
   ]
  },
  {
   "cell_type": "code",
   "execution_count": 108,
   "id": "554f92cb-76f1-432c-b53a-884ad63a23b8",
   "metadata": {},
   "outputs": [
    {
     "name": "stdout",
     "output_type": "stream",
     "text": [
      "id:1, type:O, x:7.41975, y:17.0185, z:10.7092, q:-1.2\n",
      "vx:16.1999, vy:12.2911, vz:-2.56295, fx:1.13623, fy:-0.519201, fz:-0.963825\n",
      "E_total:-11.9497, E_kinetic:0.34829, E_potential:-12.298\n",
      "q4:0.13619546631936527 dis:0.13619546631936527 q6:38.69017367602012 frame:0\n"
     ]
    }
   ],
   "source": [
    "frames[0]['atom_data'][0].print_info()"
   ]
  },
  {
   "cell_type": "code",
   "execution_count": 110,
   "id": "e23a7007-d99a-4d78-abb1-5d19f48dc64e",
   "metadata": {},
   "outputs": [],
   "source": [
    "# 计算dis\n",
    "res_dis_msd = []\n",
    "for i_frame in All_ana_frame:\n",
    "    for j_atom in i_frame:\n",
    "        # 先确保分析的是合适位置的原子类型 和 距离范围\n",
    "        if j_atom.type in interface_ele and dis_range[0]<j_atom.dis<dis_range[1]:\n",
    "            # 在初始list中找到下一个时刻的原子 然后计算msd\n",
    "            next_index = int(j_atom.id-1)\n",
    "            num_frame = int(j_atom.frame/step_frame)\n",
    "            num_next_frame = int(num_frame+interval_frame)\n",
    "            atom_next = frames[num_next_frame]['atom_data'][next_index]\n",
    "            # 然后计算三维距离 \n",
    "            lx = frames[num_frame]['system_info']['x_high']\n",
    "            ly = frames[num_frame]['system_info']['y_high']\n",
    "            lz = frames[num_frame]['system_info']['z_high']\n",
    "            box_size = np.array([lx,ly,lz])\n",
    "            # 再次验证一下id是否相同\n",
    "            if j_atom.id == atom_next.id:\n",
    "                res = cal_ppp_dis_object(box_size,j_atom,atom_next)\n",
    "                res_dis_msd.append([ j_atom.dis, res, j_atom.type,j_atom.q4])"
   ]
  },
  {
   "cell_type": "code",
   "execution_count": 136,
   "id": "4c144374-7c2d-49e7-8d86-9770b474afe3",
   "metadata": {},
   "outputs": [
    {
     "data": {
      "text/plain": [
       "3064"
      ]
     },
     "execution_count": 136,
     "metadata": {},
     "output_type": "execute_result"
    }
   ],
   "source": [
    "select_ele = ['Al']\n",
    "# 然后整理为dis_xy\n",
    "dis_xy = [i[0] for i in res_dis_msd if i[2] in select_ele],[i[1] for i in res_dis_msd if i[2] in select_ele]\n",
    "select_res = [[i[0],i[1] ] for i in res_dis_msd if i[2] in select_ele]\n",
    "len(select_res)"
   ]
  },
  {
   "cell_type": "markdown",
   "id": "2a7f63a2-149c-4b79-9923-660d74bdb50b",
   "metadata": {},
   "source": [
    "# 画出分布图"
   ]
  },
  {
   "cell_type": "code",
   "execution_count": 139,
   "id": "d9fc8082-8bca-4b8a-8281-ba80e8f57987",
   "metadata": {},
   "outputs": [
    {
     "data": {
      "image/png": "[encoded data removed]",
      "text/plain": [
       "<Figure size 640x480 with 1 Axes>"
      ]
     },
     "metadata": {},
     "output_type": "display_data"
    }
   ],
   "source": [
    "# 然后根据dis 会画出dis和msd的关系 做平均\n",
    "x_dis = dis_xy[0]\n",
    "y_msd = dis_xy[1]\n",
    "plt.scatter(x_dis,y_msd)\n",
    "plt.title(f'element: {select_ele}')\n",
    "plt.ylabel('MSD')\n",
    "plt.xlabel('Distance form crystal')\n",
    "plt.show()"
   ]
  },
  {
   "cell_type": "markdown",
   "id": "e5d27e28-6d71-45fb-ad70-b594b6b762f4",
   "metadata": {},
   "source": [
    "#  分析当下的帧数信息"
   ]
  },
  {
   "cell_type": "code",
   "execution_count": 142,
   "id": "733fbd48-ad6e-4cf1-a989-567021eb721d",
   "metadata": {},
   "outputs": [
    {
     "data": {
      "image/png": "[encoded data removed]",
      "text/plain": [
       "<Figure size 600x400 with 1 Axes>"
      ]
     },
     "metadata": {},
     "output_type": "display_data"
    }
   ],
   "source": [
    "# 设置 bins=0.5\n",
    "bin_step = 0.2\n",
    "# 原始数据\n",
    "data = select_res\n",
    "ana_type = 'mean'\n",
    "####### 'median'\n",
    "import numpy as np\n",
    "import matplotlib.pyplot as plt\n",
    "from scipy.stats import binned_statistic\n",
    "\n",
    "# 转换为 numpy 数组\n",
    "data = np.array(data)\n",
    "dis_list = data[:, 0]  # 取 dis 值\n",
    "msd_list = data[:, 1]  # 取 msd 值\n",
    "bins = np.arange(0, np.max(dis_list) + bin_step, bin_step)\n",
    "# 计算 msd 的均值\n",
    "bin_msd_means, bin_edges, _ = binned_statistic(dis_list, msd_list, statistic=ana_type, bins=bins)\n",
    "\n",
    "# 计算 bin 中心\n",
    "bin_centers = bin_edges[:-1] + bin_step / 2\n",
    "x0 = bin_centers\n",
    "y0 = bin_msd_means\n",
    "# 绘制分布\n",
    "plt.figure(figsize=(6, 4))\n",
    "plt.plot(bin_centers, bin_msd_means, marker='o', linestyle='-', color='b', label='Mean MSD')\n",
    "plt.xlabel('Distance form crystal')\n",
    "plt.ylabel('Mean MSD')\n",
    "plt.title(f'MSD Distribution of {select_ele}')\n",
    "plt.legend()\n",
    "plt.grid(True)\n",
    "plt.show()\n"
   ]
  },
  {
   "cell_type": "code",
   "execution_count": 36,
   "id": "e2913d3f-3662-4f76-8ea7-f5d61847acb0",
   "metadata": {},
   "outputs": [],
   "source": [
    "file_name = os.path.join(root,'1800K_MSD_Al.txt')\n",
    "np.savetxt(file_name, np.array([x0,y0]).T, delimiter=\",\", fmt=\"%.6f\")"
   ]
  },
  {
   "cell_type": "code",
   "execution_count": null,
   "id": "668d99be-5033-49c4-baa4-1688739bb0ee",
   "metadata": {},
   "outputs": [],
   "source": []
  },
  {
   "cell_type": "markdown",
   "id": "63c2f3d6-0633-417c-9501-36473f357fdc",
   "metadata": {},
   "source": [
    "# Q4"
   ]
  },
  {
   "cell_type": "code",
   "execution_count": 38,
   "id": "2f3b5763-ed50-4afb-a8fa-45a40e3aab76",
   "metadata": {},
   "outputs": [
    {
     "data": {
      "text/plain": [
       "3064"
      ]
     },
     "execution_count": 38,
     "metadata": {},
     "output_type": "execute_result"
    }
   ],
   "source": [
    "select_ele = ['Al','O','Si']\n",
    "# 然后整理为dis_xy\n",
    "dis_q4 = [i[0] for i in res_dis_msd if i[2] in select_ele],[i[3] for i in res_dis_msd if i[2] in select_ele]\n",
    "len(select_res)"
   ]
  },
  {
   "cell_type": "code",
   "execution_count": null,
   "id": "546d1583-2882-43fb-a7e9-4f5b5b4ab514",
   "metadata": {},
   "outputs": [],
   "source": []
  },
  {
   "cell_type": "code",
   "execution_count": 39,
   "id": "449a3308-bf46-4e52-a75e-4c89d0ce431c",
   "metadata": {},
   "outputs": [
    {
     "data": {
      "image/png": "[encoded data removed]",
      "text/plain": [
       "<Figure size 500x400 with 1 Axes>"
      ]
     },
     "metadata": {},
     "output_type": "display_data"
    }
   ],
   "source": [
    "bin_step = 0.2\n",
    "# 提取 dis 和 msd\n",
    "import numpy as np\n",
    "import matplotlib.pyplot as plt\n",
    "from scipy.stats import binned_statistic\n",
    "\n",
    "dis_list = np.array(dis_q4[0])\n",
    "msd_list = np.array(dis_q4[1])\n",
    "\n",
    "# 定义 bins\n",
    "bins = np.arange(0, max(dis_list) + bin_step, bin_step)  # [0.0, 0.2, 0.4, ...]\n",
    "\n",
    "# 使用 scipy 计算分箱均值（自动处理空 bins）\n",
    "bin_msd_means, bin_edges, _ = binned_statistic(\n",
    "    dis_list, msd_list, statistic='mean', bins=bins\n",
    ")\n",
    "bin_centers = bin_edges[:-1] + 0.1  # bin 中心\n",
    "x1,y1 = bin_centers,bin_msd_means\n",
    "# 绘制\n",
    "plt.figure(figsize=(5, 4))\n",
    "plt.plot(bin_centers, bin_msd_means, 'o-', label='Q4 vs DIS')\n",
    "plt.xlabel(f'Distance from crystal (bins={bin_step}A)')\n",
    "plt.ylabel('Q4')\n",
    "plt.title(f'Q4 of {select_ele} vs Distance from crystal')\n",
    "plt.grid(True)\n",
    "plt.legend()\n",
    "plt.show()"
   ]
  },
  {
   "cell_type": "code",
   "execution_count": null,
   "id": "08d91910-f932-4fce-982d-23e88542fcf6",
   "metadata": {},
   "outputs": [],
   "source": []
  },
  {
   "cell_type": "code",
   "execution_count": 40,
   "id": "7d634b64-bb7a-41d0-bea5-2b50dfbe06cc",
   "metadata": {},
   "outputs": [],
   "source": [
    "file_name = os.path.join(root,'2100K_q4_all.txt')\n",
    "np.savetxt(file_name, np.array([x1,y1]).T, delimiter=\",\", fmt=\"%.6f\")"
   ]
  },
  {
   "cell_type": "code",
   "execution_count": null,
   "id": "7480f836-8df8-48cf-9dbb-be2187af3f12",
   "metadata": {},
   "outputs": [],
   "source": []
  },
  {
   "cell_type": "markdown",
   "id": "d17215d3-7ee1-4548-ad1b-f2733b0c7af7",
   "metadata": {},
   "source": [
    "# 再就是能量 速度 等的分布"
   ]
  },
  {
   "cell_type": "code",
   "execution_count": 42,
   "id": "3b32f548-574f-46c3-b632-e4832a4e2471",
   "metadata": {},
   "outputs": [
    {
     "name": "stdout",
     "output_type": "stream",
     "text": [
      "id:1, type:O, x:7.41975, y:17.0185, z:10.7092, q:-1.2\n",
      "vx:16.1999, vy:12.2911, vz:-2.56295, fx:1.13623, fy:-0.519201, fz:-0.963825\n",
      "E_total:-11.9497, E_kinetic:0.34829, E_potential:-12.298\n",
      "q4:0.13619546631936527 dis:0.13619546631936527 q6:38.69017367602012 frame:0\n"
     ]
    }
   ],
   "source": [
    "All_ana_frame[0][0].print_info()"
   ]
  },
  {
   "cell_type": "code",
   "execution_count": 43,
   "id": "b084eaef-71c0-47ee-a926-8527746ea9b9",
   "metadata": {},
   "outputs": [],
   "source": [
    "## 时间间隔\n",
    "interval_frame = 2\n",
    "# 选出固定范围内的原子\n",
    "dis_range = [0.01,20]\n",
    "# 选取的中心 晶体中的原子\n",
    "cry_q4q6dis_ele = ['Al','Si','O']\n",
    "# 选取的是 界面处的原子\n",
    "interface_ele = ['Si','Al','O']"
   ]
  },
  {
   "cell_type": "code",
   "execution_count": 44,
   "id": "ed006e45-0656-4107-85eb-8a2a4322fb43",
   "metadata": {},
   "outputs": [],
   "source": [
    "# 之后就是分析 能量 和  受力 \n",
    "# \n",
    "res_f_e3 = []\n",
    "for i_frame in All_ana_frame:\n",
    "    for j_atom in i_frame:\n",
    "        # 先确保分析的是合适位置的原子类型 和 距离范围\n",
    "        if j_atom.type in interface_ele and dis_range[0]<j_atom.dis<dis_range[1]:\n",
    "            #   直接筛选当前原子的 能量 和 受力\n",
    "            f = (j_atom.fx**2+j_atom.fy**2+j_atom.fz**2)**0.5\n",
    "            res_f_e3.append([ j_atom.dis, j_atom.type, f, j_atom.c_ke_atom, j_atom.c_pe_atom, j_atom.v_e_total])"
   ]
  },
  {
   "cell_type": "code",
   "execution_count": 45,
   "id": "8eb7e1bd-3e18-4327-8322-a838906da588",
   "metadata": {},
   "outputs": [
    {
     "data": {
      "text/plain": [
       "17965"
      ]
     },
     "execution_count": 45,
     "metadata": {},
     "output_type": "execute_result"
    }
   ],
   "source": [
    "len(res_f_e3)"
   ]
  },
  {
   "cell_type": "code",
   "execution_count": 46,
   "id": "ff959f9c-34ea-4858-aa85-a253a004aeee",
   "metadata": {},
   "outputs": [],
   "source": [
    "# [dis-0 , type-1, f-2, ke-3, pe-4, total-5] \n",
    "select_num = 4"
   ]
  },
  {
   "cell_type": "code",
   "execution_count": 47,
   "id": "41e5a5c4-fe68-4f86-88fd-07c8c14107a2",
   "metadata": {},
   "outputs": [
    {
     "data": {
      "text/plain": [
       "17965"
      ]
     },
     "execution_count": 47,
     "metadata": {},
     "output_type": "execute_result"
    }
   ],
   "source": [
    "select_ele = ['Al','Si','O']\n",
    "# 然后整理为dis_xy\n",
    "dis_f = [i[0] for i in res_f_e3 if i[1] in select_ele],[i[select_num] for i in res_f_e3 if i[1] in select_ele]\n",
    "len(dis_f[0])"
   ]
  },
  {
   "cell_type": "code",
   "execution_count": null,
   "id": "ca914dab-fab2-4342-b9c8-6e9a7a935657",
   "metadata": {},
   "outputs": [],
   "source": []
  },
  {
   "cell_type": "code",
   "execution_count": null,
   "id": "454b141a-30ca-4b12-80c8-40b04c5a7570",
   "metadata": {},
   "outputs": [],
   "source": []
  },
  {
   "cell_type": "code",
   "execution_count": 48,
   "id": "02deea8c-6b2f-4c25-acc8-6e468e3c3844",
   "metadata": {},
   "outputs": [
    {
     "data": {
      "image/png": "[encoded data removed]",
      "text/plain": [
       "<Figure size 500x400 with 1 Axes>"
      ]
     },
     "metadata": {},
     "output_type": "display_data"
    }
   ],
   "source": [
    "bin_step = 0.2\n",
    "# 提取 dis 和 msd\n",
    "import numpy as np\n",
    "import matplotlib.pyplot as plt\n",
    "from scipy.stats import binned_statistic\n",
    "\n",
    "dis_list = np.array(dis_f[0])\n",
    "msd_list = np.array(dis_f[1])\n",
    "\n",
    "# 定义 bins\n",
    "bins = np.arange(0, max(dis_list) + bin_step, bin_step)  # [0.0, 0.2, 0.4, ...]\n",
    "\n",
    "# 使用 scipy 计算分箱均值（自动处理空 bins）\n",
    "bin_msd_means, bin_edges, _ = binned_statistic(\n",
    "    dis_list, msd_list, statistic='mean', bins=bins\n",
    ")\n",
    "bin_centers = bin_edges[:-1] + 0.1  # bin 中心\n",
    "x2,y2 = bin_centers,bin_msd_means\n",
    "# 绘制\n",
    "plt.figure(figsize=(5, 4))\n",
    "plt.plot(bin_centers, bin_msd_means, 'o-', label='force vs DIS')\n",
    "plt.xlabel(f'Distance from crystal (bins={bin_step}A)')\n",
    "plt.ylabel('f')\n",
    "plt.title(f'Force of {select_ele} vs Distance from crystal')\n",
    "# plt.xlim(0,15)\n",
    "plt.grid(True)\n",
    "plt.legend()\n",
    "plt.show()"
   ]
  },
  {
   "cell_type": "code",
   "execution_count": null,
   "id": "4c5fded8-2264-4cb7-80bb-a773b1c3dc2e",
   "metadata": {},
   "outputs": [],
   "source": []
  },
  {
   "cell_type": "code",
   "execution_count": 49,
   "id": "4d1132e5-03ab-4af9-9a5c-7b1e22a05d9e",
   "metadata": {},
   "outputs": [],
   "source": [
    "file_name = os.path.join(root,'1500K_dis_pe.txt')\n",
    "np.savetxt(file_name, np.array([x2,y2]).T, delimiter=\",\", fmt=\"%.6f\")"
   ]
  },
  {
   "cell_type": "code",
   "execution_count": null,
   "id": "7eea271f-71a0-4bcd-be4d-1ff51d04a1a6",
   "metadata": {},
   "outputs": [],
   "source": []
  },
  {
   "cell_type": "code",
   "execution_count": null,
   "id": "27f19e15-8df6-47bc-91d8-b87490b1dc40",
   "metadata": {},
   "outputs": [],
   "source": []
  },
  {
   "cell_type": "code",
   "execution_count": null,
   "id": "62f0cbcb-64e4-4463-9f59-c6d338b688ae",
   "metadata": {},
   "outputs": [],
   "source": []
  },
  {
   "cell_type": "code",
   "execution_count": null,
   "id": "f15f24de-a2f5-4ac5-9362-4a71cda4adbe",
   "metadata": {},
   "outputs": [],
   "source": []
  },
  {
   "cell_type": "code",
   "execution_count": null,
   "id": "4a5dad3c-446d-4950-a830-bbde34a4b819",
   "metadata": {},
   "outputs": [],
   "source": []
  },
  {
   "cell_type": "code",
   "execution_count": null,
   "id": "9ab219f4-7af0-4af6-9d30-7691c8ddbaa0",
   "metadata": {},
   "outputs": [],
   "source": []
  },
  {
   "cell_type": "code",
   "execution_count": null,
   "id": "f6ecd7ef-1862-4848-b23a-8a65a4fd3d9f",
   "metadata": {},
   "outputs": [],
   "source": []
  },
  {
   "cell_type": "code",
   "execution_count": null,
   "id": "dd8fd908-416c-4b2a-aab6-5de912897b46",
   "metadata": {},
   "outputs": [],
   "source": []
  },
  {
   "cell_type": "code",
   "execution_count": null,
   "id": "479eb990-1fce-4e9b-a39d-a726f89bea4a",
   "metadata": {},
   "outputs": [],
   "source": []
  },
  {
   "cell_type": "code",
   "execution_count": null,
   "id": "c25ea22c-be75-4733-9c9e-41d27f7c29cd",
   "metadata": {},
   "outputs": [],
   "source": []
  },
  {
   "cell_type": "code",
   "execution_count": null,
   "id": "e058a84a-dff8-4fbc-a7ae-459f24584e46",
   "metadata": {},
   "outputs": [],
   "source": []
  },
  {
   "cell_type": "code",
   "execution_count": null,
   "id": "e22bb68a-d237-41e1-846a-a2f98e565528",
   "metadata": {},
   "outputs": [],
   "source": []
  },
  {
   "cell_type": "code",
   "execution_count": null,
   "id": "57332763-5c0e-4c9e-b8e8-699e5f712d60",
   "metadata": {},
   "outputs": [],
   "source": []
  },
  {
   "cell_type": "code",
   "execution_count": 50,
   "id": "74885bf9-cfa3-4248-8835-f41f032ed09f",
   "metadata": {},
   "outputs": [
    {
     "ename": "NameError",
     "evalue": "name 'res_msd_dis' is not defined",
     "output_type": "error",
     "traceback": [
      "\u001b[1;31m---------------------------------------------------------------------------\u001b[0m",
      "\u001b[1;31mNameError\u001b[0m                                 Traceback (most recent call last)",
      "Cell \u001b[1;32mIn[50], line 1\u001b[0m\n\u001b[1;32m----> 1\u001b[0m test_list \u001b[38;5;241m=\u001b[39m res_msd_dis\n\u001b[0;32m      2\u001b[0m bin_step \u001b[38;5;241m=\u001b[39m \u001b[38;5;241m0.5\u001b[39m\n\u001b[0;32m      3\u001b[0m max_range \u001b[38;5;241m=\u001b[39m \u001b[38;5;241m15\u001b[39m\n",
      "\u001b[1;31mNameError\u001b[0m: name 'res_msd_dis' is not defined"
     ]
    }
   ],
   "source": [
    "test_list = res_msd_dis\n",
    "bin_step = 0.5\n",
    "max_range = 15\n",
    "# 提取数据\n",
    "msd_list = np.array([x[0] for x in test_list])\n",
    "dis_list = np.array([x[1] for x in test_list])\n",
    "\n",
    "# 自定义 bins (例如: 0.0, 0.2, 0.4, ..., 2.0)\n",
    "bins = np.arange(0, max_range + 0.2, bin_step)  # 0.0, 0.2, 0.4, ..., 2.0\n",
    "\n",
    "# 计算每个 bin 的 mean 和 std\n",
    "bin_indices = np.digitize(dis_list, bins)  # 每个数据点属于哪个 bin\n",
    "bin_means = []\n",
    "bin_stds = []\n",
    "bin_centers = []\n",
    "\n",
    "for i in range(1, len(bins)):\n",
    "    mask = (bin_indices == i)\n",
    "    if np.any(mask):\n",
    "        bin_means.append(np.mean(msd_list[mask]))\n",
    "        bin_stds.append(np.std(msd_list[mask]))\n",
    "        bin_centers.append((bins[i-1] + bins[i]) / 2)  # bin 中心点\n",
    "\n",
    "# 绘制均值曲线 + 误差带（std）\n",
    "plt.figure(figsize=(8, 5))\n",
    "plt.plot(bin_centers, bin_means, 'o-', label='Mean MSD', color='blue')\n",
    "plt.fill_between(\n",
    "    bin_centers,\n",
    "    np.array(bin_means) - np.array(bin_stds),\n",
    "    np.array(bin_means) + np.array(bin_stds),\n",
    "    alpha=0.2, color='blue', label='±1 Std Dev'\n",
    ")\n",
    "\n",
    "# 标注\n",
    "plt.xlabel('Distance (bins=0.2)', fontsize=12)\n",
    "plt.ylabel('MSD', fontsize=12)\n",
    "plt.title('MSD vs Distance (Mean ± Std Dev per Bin)', fontsize=14)\n",
    "plt.legend()\n",
    "plt.grid(True, linestyle='--', alpha=0.6)\n",
    "plt.show()"
   ]
  },
  {
   "cell_type": "markdown",
   "id": "8677e1ae-4b4b-489e-b042-99190d395997",
   "metadata": {},
   "source": [
    "# 是否保存 进一步处理"
   ]
  },
  {
   "cell_type": "code",
   "execution_count": null,
   "id": "d18f27f4-30f8-457e-9db3-d845f15f518e",
   "metadata": {},
   "outputs": [],
   "source": [
    "draw_ele_list[0].print_info()"
   ]
  },
  {
   "cell_type": "raw",
   "id": "665bd88b-4b1a-44b9-a3e1-bcdd314b9ff2",
   "metadata": {},
   "source": [
    "save_path_analist = os.path.join(root,'ana_frame.npy')\n",
    "np.save(save_path_analist, np.array((ana_frame_list)))\n",
    "save_path_list_qeq6dis = os.path.join(root,'ana_q4q6dis.npy')\n",
    "np.save(save_path_list_qeq6dis, np.array((draw_ele_list)))\n",
    "# 存储boxsize\n",
    "save_path_boxsize = os.path.join(root,'boxsize.npy')\n",
    "np.save(save_path_boxsize, np.array((box_len)))"
   ]
  },
  {
   "cell_type": "code",
   "execution_count": null,
   "id": "8018668c-0683-4b61-8bc8-ca3df6453c87",
   "metadata": {},
   "outputs": [],
   "source": []
  },
  {
   "cell_type": "markdown",
   "id": "07ed7717-a089-4609-8a3f-44a7734ad9e8",
   "metadata": {},
   "source": [
    "# 绘制单个原子的位移箭头图像"
   ]
  },
  {
   "cell_type": "code",
   "execution_count": null,
   "id": "72051e42-318b-4594-bc85-8b9025fc94d7",
   "metadata": {},
   "outputs": [],
   "source": []
  },
  {
   "cell_type": "code",
   "execution_count": null,
   "id": "22b98b67-3543-4410-8bf2-7bca4bc7bf35",
   "metadata": {},
   "outputs": [],
   "source": [
    "import matplotlib.pyplot as plt\n",
    "import numpy as np\n",
    "\n",
    "def plot_atom_trajectory(coords, time_list, box_size):\n",
    "    \"\"\"\n",
    "    Plot the atomic trajectory within a specified box, using a color gradient to indicate time.\n",
    "    \n",
    "    :param coords: list of lists, e.g., [[x1, y1], [x2, y2], ...]\n",
    "    :param time_list: list of time values corresponding to each coordinate\n",
    "    :param box_size: tuple, (width, height) defining the box dimensions\n",
    "    \"\"\"\n",
    "    coords = np.array(coords)\n",
    "    time_list = np.array(time_list)  # Convert to NumPy array\n",
    "    x, y = coords[:, 0], coords[:, 1]\n",
    "\n",
    "    # Compute displacement vectors\n",
    "    dx = np.diff(x)\n",
    "    dy = np.diff(y)\n",
    "    \n",
    "    # Create figure\n",
    "    fig, ax = plt.subplots(figsize=(8, 6))\n",
    "\n",
    "    # Plot points with a color gradient based on time\n",
    "    sc = ax.scatter(x, y, c=time_list, cmap=\"viridis\", edgecolors='k', s=50, label=\"Trajectory\")\n",
    "    \n",
    "    # Draw displacement arrows with color based on starting time of each step\n",
    "    ax.quiver(x[:-1], y[:-1], dx, dy, angles='xy', scale_units='xy', scale=1, \n",
    "              color=plt.cm.viridis((time_list[:-1] - min(time_list)) / (max(time_list) - min(time_list))),\n",
    "              width=0.003)\n",
    "    \n",
    "    # Draw box\n",
    "    ax.set_xlim(0, box_size[0])\n",
    "    ax.set_ylim(0, box_size[1])\n",
    "    ax.set_xlabel(\"X Coordinate\")\n",
    "    ax.set_ylabel(\"Y Coordinate\")\n",
    "    ax.set_title(\"Atomic Trajectory with Time Gradient\")\n",
    "    ax.legend()\n",
    "    \n",
    "    # Add colorbar\n",
    "    cbar = plt.colorbar(sc, ax=ax)\n",
    "    cbar.set_label(\"Time Step\")\n",
    "    \n",
    "    plt.grid(True, linestyle=\"--\", alpha=0.6)\n",
    "    plt.show()"
   ]
  },
  {
   "cell_type": "code",
   "execution_count": null,
   "id": "05851602-9e4d-49db-bafe-4acac0be03cd",
   "metadata": {},
   "outputs": [],
   "source": [
    "# 直接根据位置找吧 \n",
    "x_range = [30,32.3]\n",
    "y_range = [15,17]\n",
    "msd_atom_list = []\n",
    "for i_atom in All_Atom[900]:\n",
    "    if x_range[0]<i_atom.x<x_range[1] and y_range[0]<i_atom.y<y_range[1]:\n",
    "        msd_atom_list.append(i_atom)\n",
    "print(len(msd_atom_list))\n",
    "atom_index = [i.id for i in msd_atom_list]\n",
    "print(atom_index)"
   ]
  },
  {
   "cell_type": "code",
   "execution_count": null,
   "id": "7764f8c5-0d92-4e0e-82cb-4083d5d69b4a",
   "metadata": {},
   "outputs": [],
   "source": [
    "msd_frame_start = 0\n",
    "msd_frame_end = 950\n",
    "msd_frame_step = 50\n",
    "\n",
    "msd_x_frame = range(msd_frame_start,msd_frame_end,msd_frame_step)\n",
    "box_xy = [box_len[0],box_len[1]]\n",
    "atom_coords = []\n",
    "for i_frame in All_Atom[msd_frame_start:msd_frame_end:msd_frame_step]:\n",
    "    temp_atom = []\n",
    "    for j_index in atom_index:\n",
    "        temp_atom.append(i_frame[j_index-1])\n",
    "    atom_coords.append(temp_atom)   \n",
    "print(atom_coords[-1][-1].print_info())"
   ]
  },
  {
   "cell_type": "code",
   "execution_count": null,
   "id": "480d77c9-d308-48db-9ccd-a04da08bf22e",
   "metadata": {},
   "outputs": [],
   "source": [
    "# 单个原子的信息\n",
    "index = 2\n",
    "single_atom_xy = [[i[index].x,i[index].y] for i in atom_coords]\n",
    "\n",
    "# Example data\n",
    "atom_xy = single_atom_xy\n",
    "time_list = msd_x_frame\n",
    "box_size = box_xy\n",
    "\n",
    "plot_atom_trajectory(atom_xy, time_list, box_size)"
   ]
  },
  {
   "cell_type": "code",
   "execution_count": null,
   "id": "5ee9d6a0-2cde-46dd-ba80-19f30cebebff",
   "metadata": {},
   "outputs": [],
   "source": [
    "import matplotlib.pyplot as plt\n",
    "import numpy as np\n",
    "\n",
    "def plot_atom_trajectories(time_series_data, time_list, box_size):\n",
    "    \"\"\"\n",
    "    绘制多个原子的运动轨迹，颜色渐变表示时间。\n",
    "\n",
    "    :param time_series_data: array, 每一行是一个时间步，每一列是某个原子的 (x, y) 坐标\n",
    "    :param time_list: list, 每个时间步对应的时间值\n",
    "    :param box_size: tuple, 盒子大小 (width, height)\n",
    "    \"\"\"\n",
    "    num_atoms = len(time_series_data[0])  # 原子个数\n",
    "    norm_time = (np.array(time_list) - min(time_list)) / (max(time_list) - min(time_list))  # 归一化时间用于颜色\n",
    "\n",
    "    fig, ax = plt.subplots(figsize=(8, 5))\n",
    "\n",
    "    for j in range(num_atoms):  # 遍历所有原子\n",
    "        atom_coords = np.array([time_series_data[i][j] for i in range(len(time_series_data))])  # 获取原子 j 的轨迹\n",
    "        x, y = atom_coords[:, 0], atom_coords[:, 1]  # 提取 x, y 坐标\n",
    "        \n",
    "        # 画散点，颜色表示时间\n",
    "        sc = ax.scatter(x, y, c=time_list, cmap=\"viridis\", edgecolors='k', s=20)\n",
    "        \n",
    "        # 计算位移矢量\n",
    "        dx = np.diff(x)\n",
    "        dy = np.diff(y)\n",
    "\n",
    "        # 画箭头，颜色表示时间\n",
    "        ax.quiver(x[:-1], y[:-1], dx, dy, angles='xy', scale_units='xy', scale=1,\n",
    "                  color=plt.cm.viridis(norm_time[:-1]), width=0.003)\n",
    "\n",
    "    # 设置盒子边界\n",
    "    ax.set_xlim(0, box_size[0])\n",
    "    ax.set_ylim(0, box_size[1])\n",
    "    ax.set_xlabel(\"X Coordinate\")\n",
    "    ax.set_ylabel(\"Y Coordinate\")\n",
    "    ax.set_title(\"Atomic Trajectories with Time Gradient\")\n",
    "\n",
    "    # 添加颜色条\n",
    "    cbar = plt.colorbar(sc, ax=ax)\n",
    "    cbar.set_label(\"Time Step\")\n",
    "\n",
    "    plt.grid(True, linestyle=\"--\", alpha=0.6)\n",
    "    #plt.show()"
   ]
  },
  {
   "cell_type": "code",
   "execution_count": null,
   "id": "1d8e7a75-7937-4e02-b0dd-cd297ec16289",
   "metadata": {},
   "outputs": [],
   "source": [
    "# 多个原子的信息 \n",
    "msd_frame_start = 0\n",
    "msd_frame_end = 950\n",
    "msd_frame_step = 100\n",
    "\n",
    "msd_x_frame = range(msd_frame_start,msd_frame_end,msd_frame_step)\n",
    "box_xy = [box_len[0],box_len[1]]\n",
    "atom_coords = []\n",
    "for i_frame in All_Atom[msd_frame_start:msd_frame_end:msd_frame_step]:\n",
    "    temp_atom = []\n",
    "    for j_index in atom_index:\n",
    "        temp_atom.append(i_frame[j_index-1])\n",
    "    atom_coords.append(temp_atom)   \n",
    "print(atom_coords[-1][-1].print_info())"
   ]
  },
  {
   "cell_type": "code",
   "execution_count": null,
   "id": "c548669b-37fd-49ed-bc07-3a7d4506a887",
   "metadata": {},
   "outputs": [],
   "source": [
    "atom_trajectories = np.zeros_like(atom_coords)\n",
    "for i_num,i_frame in enumerate(atom_coords):\n",
    "    for j_num,j_atom in enumerate(i_frame):\n",
    "        atom_trajectories[i_num][j_num] = [j_atom.x,j_atom.y]"
   ]
  },
  {
   "cell_type": "code",
   "execution_count": null,
   "id": "fa03d39b-3928-46d5-ac55-b6659110684b",
   "metadata": {},
   "outputs": [],
   "source": [
    "# 示例数据\n",
    "time_series_data = np.array(atom_trajectories)\n",
    "\n",
    "time_list = msd_x_frame\n",
    "box_size = box_xy\n",
    "\n",
    "plot_atom_trajectories(time_series_data, time_list, box_size)\n",
    "# draw_q4(draw_knn_q4_list,0.18,cry_point,'Crystal points of LAS (After KNN)')"
   ]
  },
  {
   "cell_type": "code",
   "execution_count": null,
   "id": "74c14155-770a-4298-b2e9-a9f229c231b7",
   "metadata": {},
   "outputs": [],
   "source": [
    "import matplotlib.pyplot as plt\n",
    "import numpy as np\n",
    "from matplotlib.colors import LinearSegmentedColormap, ListedColormap\n",
    "\n",
    "def plot_msd_bop_q4(list1, list2):\n",
    "    \"\"\"\n",
    "    在同一张图上绘制 q4 分布的散点图，并叠加原子位移轨迹（箭头）。\n",
    "    \n",
    "    :param list1: (time_series_data, time_list, box_size) \n",
    "        - time_series_data: 每个时间步的原子 (x, y) 坐标\n",
    "        - time_list: 每个时间步的时间值\n",
    "        - box_size: 盒子尺寸 (width, height)\n",
    "    :param list2: (data_temp, critical_q4, label_list, title_name)\n",
    "        - data_temp: 包含原子坐标和 q4 值的对象列表\n",
    "        - critical_q4: 阈值\n",
    "        - label_list: 额外标记的点\n",
    "        - title_name: 图标题\n",
    "    \"\"\"\n",
    "    time_series_data, time_list, box_size = list1\n",
    "    data_temp, critical_q4, label_list, title_name = list2\n",
    "\n",
    "    # 提取 q4 数据\n",
    "    x_data = [item.x for item in data_temp]\n",
    "    y_data = [item.y for item in data_temp]\n",
    "    q4_data = [item.q4 for item in data_temp]\n",
    "\n",
    "    mean_q4 = sum(q4_data) / len(q4_data)\n",
    "    num_max_q4 = len([i for i in q4_data if i > critical_q4])\n",
    "    print(f'Mean q4: {round(mean_q4,4)}, Percentage of Q4 > {critical_q4}: {round(num_max_q4/len(q4_data)*100,2)}%')\n",
    "\n",
    "    # 颜色映射（Viridis + 橙黄色渐变）\n",
    "    viridis_cmap = plt.get_cmap('viridis')\n",
    "    orange_yellow = ['#ffea00', '#ff7f0e']  \n",
    "    orange_yellow_cmap = LinearSegmentedColormap.from_list('orange_yellow', orange_yellow, N=8)\n",
    "    colors = np.vstack((viridis_cmap(np.linspace(0, 1, 128)), orange_yellow_cmap(np.linspace(0, 1, 8))))\n",
    "    custom_cmap = ListedColormap(colors)\n",
    "\n",
    "    # 创建图像\n",
    "    fig, ax = plt.subplots(figsize=(10, 6), dpi=80)\n",
    "\n",
    "    # 1️⃣ 先绘制 q4 的散点分布图\n",
    "    sc = ax.scatter(x_data, y_data, s=15, c=q4_data, cmap=custom_cmap, marker='o', vmin=0.05, vmax=critical_q4)\n",
    "    ax.scatter(label_list[0], label_list[1], color='orange', label='Special Points')  # 标记特殊点\n",
    "\n",
    "    # 2️⃣ 再叠加原子位移轨迹\n",
    "    num_atoms = len(time_series_data[0])  # 原子个数\n",
    "    norm_time = (np.array(time_list) - min(time_list)) / (max(time_list) - min(time_list))  # 归一化时间\n",
    "\n",
    "    for j in range(num_atoms):  # 遍历所有原子\n",
    "        atom_coords = np.array([time_series_data[i][j] for i in range(len(time_series_data))])  # 获取轨迹\n",
    "        x, y = atom_coords[:, 0], atom_coords[:, 1]  # 提取 x, y 坐标\n",
    "        \n",
    "        # 画散点，颜色表示时间\n",
    "        ax.scatter(x, y, c=time_list, cmap=\"viridis\", edgecolors='k', s=20)\n",
    "        \n",
    "        # 计算位移矢量\n",
    "        dx = np.diff(x)\n",
    "        dy = np.diff(y)\n",
    "\n",
    "        # 画箭头\n",
    "        ax.quiver(x[:-1], y[:-1], dx, dy, angles='xy', scale_units='xy', scale=1,\n",
    "                  color=plt.cm.viridis(norm_time[:-1]), width=0.003)\n",
    "\n",
    "    # 设置盒子边界\n",
    "    ax.set_xlim(0, box_size[0])\n",
    "    ax.set_ylim(0, box_size[1])\n",
    "    ax.set_xlabel(\"X Coordinate\")\n",
    "    ax.set_ylabel(\"Y Coordinate\")\n",
    "    ax.set_title(title_name)\n",
    "\n",
    "    # 添加颜色条\n",
    "    cbar = plt.colorbar(sc, ax=ax)\n",
    "    cbar.set_label(\"q4 Value\")\n",
    "\n",
    "    plt.legend()\n",
    "    plt.grid(True, linestyle=\"--\", alpha=0.6)\n",
    "    plt.show()\n"
   ]
  },
  {
   "cell_type": "code",
   "execution_count": null,
   "id": "13038058-e463-49a1-9733-020f96c53e47",
   "metadata": {},
   "outputs": [],
   "source": [
    "list1 = [time_series_data, time_list, box_size]\n",
    "list2 = [draw_knn_q4_list,0.18,cry_point,'Crystal points of LAS (After KNN)']\n",
    "plot_msd_bop_q4(list1, list2)"
   ]
  },
  {
   "cell_type": "code",
   "execution_count": null,
   "id": "6d3b14e5-d0aa-4258-9449-871a557f9bdd",
   "metadata": {},
   "outputs": [],
   "source": []
  },
  {
   "cell_type": "code",
   "execution_count": null,
   "id": "25d7f3c5-4fb8-42e3-b7a1-0afeb57d53c8",
   "metadata": {},
   "outputs": [],
   "source": []
  },
  {
   "cell_type": "code",
   "execution_count": null,
   "id": "dad7f330-ff13-4fc0-916e-001d7c8bd02d",
   "metadata": {},
   "outputs": [],
   "source": [
    "# 存储两种list 当前分析的所有帧数 以及得到了的帧数\n"
   ]
  },
  {
   "cell_type": "code",
   "execution_count": null,
   "id": "43495d08-b11c-4a58-ba58-31325c1fe02a",
   "metadata": {},
   "outputs": [],
   "source": [
    "atom_coords[1]"
   ]
  },
  {
   "cell_type": "raw",
   "id": "83720374-d6e8-4c4d-aa88-a9f5e2cab6dc",
   "metadata": {},
   "source": [
    "msd_list = []\n",
    "for i_num,i_frame in enumerate(atom_data):\n",
    "    # 提前一个跳出循环\n",
    "    if i_num == len(atom_data)-1:\n",
    "        break\n",
    "    # \n",
    "    j_frame_0 = i_frame\n",
    "    j_frame_1 = atom_data[i_num+1]\n",
    "    temp_msd = []\n",
    "    for k_0,k_1 in zip(j_frame_0,j_frame_1):\n",
    "        dis = cal_ppp_dis_object(box_len,k_0,k_1)\n",
    "        temp_msd.append(dis)\n",
    "    msd_list.append(temp_msd)\n",
    "# \n",
    "y1_msd = [i[1] for i in msd_list]\n",
    "x_list = range(len(msd_list))\n",
    "plt.plot(x_list,y1_msd)\n",
    "# 获取当前 x 刻度位置，并生成新标签\n",
    "current_ticks = plt.xticks()[0]  # 获取当前刻度位置\n",
    "new_labels = [int(tick * 5) for tick in current_ticks]  # 每个刻度值乘以 5\n",
    "plt.xticks(current_ticks, labels=new_labels)  # 设置新标签\n",
    "plt.show()"
   ]
  },
  {
   "cell_type": "code",
   "execution_count": null,
   "id": "4dcb6d56-c70a-4b04-a6d8-d0c2a5b97dac",
   "metadata": {},
   "outputs": [],
   "source": []
  },
  {
   "cell_type": "code",
   "execution_count": null,
   "id": "3946e9ef-32fb-4d4e-91e5-cde608f75991",
   "metadata": {},
   "outputs": [],
   "source": []
  },
  {
   "cell_type": "code",
   "execution_count": null,
   "id": "0a94901f-f82a-4fc7-89db-54b9eb7d865f",
   "metadata": {},
   "outputs": [],
   "source": []
  },
  {
   "cell_type": "markdown",
   "id": "b5c6b49f-c26b-4e73-815e-07ca8184b78c",
   "metadata": {},
   "source": [
    "# 然后分析离晶体不远的近邻信息"
   ]
  },
  {
   "cell_type": "code",
   "execution_count": null,
   "id": "17ed5517-fec2-4349-a182-db8996c8a1a2",
   "metadata": {},
   "outputs": [],
   "source": [
    "# 然后分析性质随距离的变化\n",
    "# id0, type0, q, x, y, z, vx, vy, vz, fx, fy, fz, c_ke_atom, c_pe_atom, v_e_total"
   ]
  },
  {
   "cell_type": "code",
   "execution_count": null,
   "id": "2f6c6b73-7c54-4f3a-b225-869359905098",
   "metadata": {},
   "outputs": [],
   "source": [
    "np.linspace(0,5,3)"
   ]
  },
  {
   "cell_type": "code",
   "execution_count": null,
   "id": "8fafa39b-6fab-4aff-8679-ab39bd8d4c6b",
   "metadata": {},
   "outputs": [],
   "source": [
    "import math\n",
    "# id0, type0, q, x, y, z, vx, vy, vz, fx, fy, fz, c_ke_atom, c_pe_atom, v_e_total\n",
    "def ana_properties(ana_atom_list, delta,max_range):\n",
    "    # 切分多少块儿\n",
    "    count_num = math.ceil(max_range/delta)\n",
    "    # 其实就是表示一下x的范围 \n",
    "    data_range = np.arange(0,max_range,delta)\n",
    "    # 记录数据 sum\n",
    "    data_list = np.zeros_like(data_range)\n",
    "    # 记录次数 count\n",
    "    count_list = np.zeros_like(data_list)\n",
    "    for i_item in ana_atom_list:\n",
    "        i_atom,i_q4,i_dis = i_item\n",
    "        if i_dis<max_range:\n",
    "            index = math.floor(i_dis/delta)\n",
    "            data_list[index]+= (i_atom.vx**2+ i_atom.vy**2+ i_atom.vz**2)**0.5\n",
    "            #data_list[index]+= i_atom.c_ke_atom\n",
    "            count_list[index]+=1\n",
    "    for i in range(len(count_list)):\n",
    "        if count_list[i]==0:\n",
    "            count_list[i]=1\n",
    "    res = data_list/count_list\n",
    "    return [data_range,data_list]"
   ]
  },
  {
   "cell_type": "code",
   "execution_count": null,
   "id": "25eb0b5e-9b4b-488a-a34f-f8e61a540ebc",
   "metadata": {},
   "outputs": [],
   "source": [
    "# test_list = filter_list_0 label_atoms_list\n",
    "test_list = label_atoms_list\n",
    "def ana_ele(ele_type):\n",
    "    si_list = []\n",
    "    for i in test_list:\n",
    "        if i[0].type == ele_type:\n",
    "            si_list.append(i)\n",
    "    print(si_list[0])\n",
    "    res_si = ana_properties(si_list,0.2,20)\n",
    "    return res_si[0],res_si[1]\n"
   ]
  },
  {
   "cell_type": "code",
   "execution_count": null,
   "id": "e2093738-6098-446d-8c02-b2115c82930c",
   "metadata": {},
   "outputs": [],
   "source": [
    "x1,y1 = ana_ele('O')\n",
    "x2,y2 = ana_ele('Si')\n",
    "x3,y3 = ana_ele('Al')\n",
    "\n",
    "# 分别绘制三条线\n",
    "plt.plot(x1, y1, label='O',linewidth=2.0)  # 绘制氧(O)的线\n",
    "plt.plot(x2, y2, label='Si',linewidth=2.0) # 绘制硅(Si)的线\n",
    "plt.plot(x3, y3, label='Al',linewidth=2.5) # 绘制铝(Al)的线\n",
    "\n",
    "# 添加图例和标签\n",
    "plt.legend(fontsize=14)\n",
    "plt.ylim(0,2000)\n",
    "plt.xlim(2,15)\n",
    "plt.xlabel('Distence from crystal(Å)', fontsize=15, fontweight='bold')\n",
    "plt.ylabel('Velocity (Å/ps per atom)', fontsize=15, fontweight='bold')\n",
    "plt.title('Velocity of ions in glass(10ns)', fontsize=15, fontweight='bold')\n",
    "\n",
    "# 显示图形\n",
    "plt.show() "
   ]
  },
  {
   "cell_type": "code",
   "execution_count": null,
   "id": "59197b94-1a68-46af-8515-e63d117651e1",
   "metadata": {},
   "outputs": [],
   "source": [
    "# 看一下配位数的变化\n",
    "Si_list = []\n",
    "Al_list = []\n",
    "test_list = label_atoms_list.copy()\n",
    "for i_atom in test_list:\n",
    "    if i_atom[0].type == 'Si' and i_atom[-1]<20:\n",
    "        Si_list.append(i_atom)\n",
    "    if i_atom[0].type =='Al' and i_atom[-1]<20:\n",
    "        Al_list.append(i_atom)\n",
    "test_ana_list = Al_list\n",
    "neibor_list = []\n",
    "for i_item in test_ana_list:\n",
    "    i_atom,i_q4,i_dis = i_item\n",
    "    temp_neibor = []\n",
    "    for j_item in label_atoms_list:\n",
    "        j_atom,j_q4,j_dis = j_item\n",
    "        dis = cal_ppp_dis1(box_len,i_atom,j_atom)\n",
    "        if dis<2.2:\n",
    "            temp_neibor.append(j_atom)\n",
    "    neibor_list.append(temp_neibor)"
   ]
  },
  {
   "cell_type": "code",
   "execution_count": null,
   "id": "ecc9c34c-0e37-4cce-a96f-ddf072553237",
   "metadata": {},
   "outputs": [],
   "source": [
    "delta = 0.5\n",
    "x_list = np.arange(0,20,delta)\n",
    "data_list = np.zeros_like(x_list)\n",
    "count_list = np.zeros_like(x_list)\n",
    "for i_num in range(len(test_ana_list)):\n",
    "    i_atom,i_q4,i_dis = test_ana_list[i_num]\n",
    "    if dis>20:\n",
    "        continue\n",
    "    index = int(i_dis/delta)\n",
    "    count = len(neibor_list[i_num])\n",
    "    count_list[index] = count"
   ]
  },
  {
   "cell_type": "code",
   "execution_count": null,
   "id": "be80f737-f437-4588-a5c9-aedeb94fea7c",
   "metadata": {},
   "outputs": [],
   "source": [
    "plt.plot(x_list,count_list)"
   ]
  },
  {
   "cell_type": "code",
   "execution_count": null,
   "id": "7f6c4b11-3bc4-47d3-909c-ae571bb6d7e3",
   "metadata": {},
   "outputs": [],
   "source": []
  },
  {
   "cell_type": "code",
   "execution_count": null,
   "id": "bf6a7139-f909-4cb3-9726-ebc233d80f75",
   "metadata": {},
   "outputs": [],
   "source": []
  },
  {
   "cell_type": "code",
   "execution_count": null,
   "id": "22addee4-4da4-4a60-8067-198f3707ac55",
   "metadata": {},
   "outputs": [],
   "source": []
  },
  {
   "cell_type": "code",
   "execution_count": null,
   "id": "2d8e69a7-8147-48c4-9198-f7530948a8a4",
   "metadata": {},
   "outputs": [],
   "source": [
    "x_list = np.linspace(0,20,201)\n",
    "print(x_list[:10])"
   ]
  },
  {
   "cell_type": "code",
   "execution_count": null,
   "id": "a28f68a3-b8a4-437a-b3f2-0b043633e96d",
   "metadata": {},
   "outputs": [],
   "source": [
    "np.arange(0,20,0.5)"
   ]
  },
  {
   "cell_type": "code",
   "execution_count": null,
   "id": "a66f2046-82d7-4d2f-9316-7c4b5c11ded8",
   "metadata": {},
   "outputs": [],
   "source": []
  },
  {
   "cell_type": "raw",
   "id": "9e3ef17d-3470-499d-b3f5-ca98a5b92bea",
   "metadata": {},
   "source": [
    "# 只要 O\n",
    "draw_element = ['O']\n",
    "q4_q6_list_0 = origin_q4_q6_list_0.copy()\n",
    "ana_atom_list_0 = origin_ana_atom_list_0.copy()\n",
    "results_xyz_q4_q6_0 = select_ele(origin_ana_atom_list_0,draw_element,q4_q6_list_0)\n",
    "# \n",
    "q4_q6_list_1 = origin_q4_q6_list_1.copy()\n",
    "ana_atom_list_1 = origin_ana_atom_list_1.copy()\n",
    "results_xyz_q4_q6_1 = select_ele(origin_ana_atom_list_1,draw_element,q4_q6_list_1)\n",
    "######\n",
    "# 近邻算法优化BOP\n",
    "filter_list_0 = filter_bop(results_xyz_q4_q6_0)\n",
    "filter_list_1 = filter_bop(results_xyz_q4_q6_1)"
   ]
  },
  {
   "cell_type": "code",
   "execution_count": null,
   "id": "c6a5d278-464e-4dad-91b6-da77e2991cf6",
   "metadata": {},
   "outputs": [],
   "source": []
  },
  {
   "cell_type": "code",
   "execution_count": null,
   "id": "bca1ae53-c678-471d-9ce8-97321cb7995f",
   "metadata": {},
   "outputs": [],
   "source": []
  },
  {
   "cell_type": "code",
   "execution_count": null,
   "id": "eac01afe-1853-4448-be1d-a7b6eff6009a",
   "metadata": {},
   "outputs": [],
   "source": []
  },
  {
   "cell_type": "code",
   "execution_count": null,
   "id": "f95b78b5-9aca-4c38-af5f-618a2d31a952",
   "metadata": {},
   "outputs": [],
   "source": [
    "label_atoms_list[0]"
   ]
  },
  {
   "cell_type": "code",
   "execution_count": null,
   "id": "906b3e29-15da-41de-a1d7-d42b239ac7ad",
   "metadata": {},
   "outputs": [],
   "source": [
    "filter_list_0[0]"
   ]
  },
  {
   "cell_type": "code",
   "execution_count": null,
   "id": "14e5d097-6363-4f39-acb0-98fcddee797a",
   "metadata": {},
   "outputs": [],
   "source": [
    "x,y = ana_ele('O')\n",
    "plt.plot(x,y)\n"
   ]
  },
  {
   "cell_type": "code",
   "execution_count": null,
   "id": "ce0672f6-efc3-493a-a0da-a110ae7ffcb4",
   "metadata": {},
   "outputs": [],
   "source": [
    "###\n",
    "x,y = ana_ele('Si')\n",
    "plt.plot(x,y)"
   ]
  },
  {
   "cell_type": "code",
   "execution_count": null,
   "id": "23a3ff8c-3913-427b-b9b4-e64e53098904",
   "metadata": {},
   "outputs": [],
   "source": []
  },
  {
   "cell_type": "code",
   "execution_count": null,
   "id": "c0b4f21b-b8a7-4c59-8e06-af58ae647505",
   "metadata": {},
   "outputs": [],
   "source": [
    "x,y = ana_ele('O')\n",
    "plt.plot(x,y)\n"
   ]
  },
  {
   "cell_type": "code",
   "execution_count": null,
   "id": "8d16c982-e8b4-448f-80ec-4e70bce99586",
   "metadata": {},
   "outputs": [],
   "source": [
    "# 设置全局字体为Times New Roman\n",
    "plt.rcParams['font.family'] = 'Times New Roman'"
   ]
  },
  {
   "cell_type": "code",
   "execution_count": null,
   "id": "f84923ad-1ceb-4fa5-9eff-640fdfe7eabb",
   "metadata": {},
   "outputs": [],
   "source": []
  },
  {
   "cell_type": "code",
   "execution_count": null,
   "id": "9310a34a-8c9a-47d8-b940-01a033bd4839",
   "metadata": {},
   "outputs": [],
   "source": []
  },
  {
   "cell_type": "code",
   "execution_count": null,
   "id": "98992c68-3cb6-4515-b023-0c9f63327f75",
   "metadata": {},
   "outputs": [],
   "source": [
    "x1,y1 = ana_ele('O')\n",
    "x2,y2 = ana_ele('Si')\n",
    "x3,y3 = ana_ele('Al')\n",
    "\n",
    "# 分别绘制三条线\n",
    "plt.plot(x1, y1, label='O',linewidth=2.0)  # 绘制氧(O)的线\n",
    "plt.plot(x2, y2, label='Si',linewidth=2.0) # 绘制硅(Si)的线\n",
    "plt.plot(x3, y3, label='Al',linewidth=2.5) # 绘制铝(Al)的线\n",
    "\n",
    "# 添加图例和标签\n",
    "plt.legend(fontsize=14)\n",
    "plt.ylim(-500,50)\n",
    "plt.xlim(2,20)\n",
    "plt.xlabel('Distence from crystal(Å)', fontsize=15, fontweight='bold')\n",
    "plt.ylabel('Energy (eV per atom)', fontsize=15, fontweight='bold')\n",
    "plt.title('Total energy of ions in glass', fontsize=15, fontweight='bold')\n",
    "\n",
    "# 显示图形\n",
    "plt.show()"
   ]
  },
  {
   "cell_type": "code",
   "execution_count": null,
   "id": "f4211ec9-dd76-44f1-9d1d-1ee3b1dd9238",
   "metadata": {},
   "outputs": [],
   "source": []
  },
  {
   "cell_type": "code",
   "execution_count": null,
   "id": "7b8fa530-11db-4017-ba69-ce0e91084ab0",
   "metadata": {},
   "outputs": [],
   "source": []
  },
  {
   "cell_type": "code",
   "execution_count": null,
   "id": "aa6e4c07-bb06-4711-938e-08e9c4fc163e",
   "metadata": {},
   "outputs": [],
   "source": []
  },
  {
   "cell_type": "code",
   "execution_count": null,
   "id": "fb07a3df-4456-4d98-b5c9-e8a4f9fa8911",
   "metadata": {},
   "outputs": [],
   "source": []
  },
  {
   "cell_type": "code",
   "execution_count": null,
   "id": "19486826-6356-43c7-9321-4f56e597cea4",
   "metadata": {},
   "outputs": [],
   "source": []
  },
  {
   "cell_type": "code",
   "execution_count": null,
   "id": "08588ba9-5596-4ddc-b068-dfb40f658b69",
   "metadata": {},
   "outputs": [],
   "source": [
    "import math\n",
    "# id0, type0, q, x, y, z, vx, vy, vz, fx, fy, fz, c_ke_atom, c_pe_atom, v_e_total\n",
    "def ana_number(ana_atom_list, delta,max_range):\n",
    "    count_num = math.ceil(max_range/delta)\n",
    "    data_range = np.arange(0,max_range,delta)\n",
    "    data_list = np.zeros_like(data_range)\n",
    "    count_list = np.zeros_like(data_list)\n",
    "    for i_item in ana_atom_list:\n",
    "        i_atom,i_q4,i_dis = i_item\n",
    "        if i_dis<max_range:\n",
    "            index = math.floor(i_dis/delta)\n",
    "            # data_list[index]+= np.linalg.norm([i_atom.fx, i_atom.fy, i_atom.fz])\n",
    "            count_list[index]+=1\n",
    "    return [data_range,count_list]\n",
    "def ana_ele_number(ele_type):\n",
    "    si_list = []\n",
    "    for i in label_atoms_list:\n",
    "        if i[0].type == ele_type:\n",
    "            si_list.append(i)\n",
    "    print(si_list[0])\n",
    "    res_si = ana_number(si_list,0.2,20)\n",
    "    return res_si[0],res_si[1]"
   ]
  },
  {
   "cell_type": "code",
   "execution_count": null,
   "id": "2bb19a8d-dfe1-47d9-b3a6-d993bea06740",
   "metadata": {},
   "outputs": [],
   "source": [
    "x,y = ana_ele_number('O')\n",
    "plt.plot(x,y)\n",
    "plt.title('Number atoms')"
   ]
  },
  {
   "cell_type": "code",
   "execution_count": null,
   "id": "c6eafd21-14dc-4ff6-ab10-e53258a0909a",
   "metadata": {},
   "outputs": [],
   "source": []
  },
  {
   "cell_type": "code",
   "execution_count": null,
   "id": "1270fb8c-9cd2-459a-b7b8-af2bf68e8808",
   "metadata": {},
   "outputs": [],
   "source": []
  },
  {
   "cell_type": "code",
   "execution_count": null,
   "id": "3ef6a902-a15a-41c3-b62d-1d089da46aaa",
   "metadata": {},
   "outputs": [],
   "source": [
    "# 原子数计算"
   ]
  },
  {
   "cell_type": "code",
   "execution_count": null,
   "id": "d238fc07-b82e-457d-bd6e-3250855b2cc2",
   "metadata": {},
   "outputs": [],
   "source": [
    "x1,y1 = ana_ele_number('O')\n",
    "x2,y2 = ana_ele_number('Si')\n",
    "x3,y3 = ana_ele_number('Al')\n",
    "\n",
    "# 分别绘制三条线\n",
    "# plt.plot(x1, y1, label='O',linewidth=2.0)  # 绘制氧(O)的线\n",
    "plt.plot(x2, y2, label='Si',c='orange',linewidth=2.0) # 绘制硅(Si)的线\n",
    "plt.plot(x3, y3, label='Al',linewidth=2.0) # 绘制铝(Al)的线\n",
    "\n",
    "# 添加图例和标签\n",
    "plt.legend(fontsize=14)\n",
    "plt.ylim(0,40)\n",
    "plt.xlim(0,15)\n",
    "plt.xlabel('Distence from crystal(Å)', fontsize=15, fontweight='bold')\n",
    "plt.ylabel('Number of atoms', fontsize=15, fontweight='bold')\n",
    "plt.title('Number of atoms', fontsize=15, fontweight='bold')\n",
    "\n",
    "# 显示图形\n",
    "plt.show()"
   ]
  },
  {
   "cell_type": "markdown",
   "id": "fd9bd065-f60c-450b-9abb-431c8fa2128d",
   "metadata": {},
   "source": [
    "# 然后计算 MSD"
   ]
  },
  {
   "cell_type": "code",
   "execution_count": null,
   "id": "c32a38ad-122d-4af1-9ea3-58b03c8566d0",
   "metadata": {},
   "outputs": [],
   "source": [
    "origin_ana_atom_list_0, origin_q4_q6_list_0,box_len_0 = cal_bop(frames,2)"
   ]
  },
  {
   "cell_type": "code",
   "execution_count": null,
   "id": "bb3c4eda-1fd6-4681-8110-2c336b28d4ca",
   "metadata": {},
   "outputs": [],
   "source": []
  },
  {
   "cell_type": "code",
   "execution_count": null,
   "id": "a1fc0874-510b-4776-87ab-9824e7228de3",
   "metadata": {},
   "outputs": [],
   "source": []
  },
  {
   "cell_type": "code",
   "execution_count": null,
   "id": "65a5bab9-dff7-487f-9bee-16a9caad0919",
   "metadata": {},
   "outputs": [],
   "source": []
  },
  {
   "cell_type": "code",
   "execution_count": null,
   "id": "5dbcb387-4cb1-4bd6-80e8-232f52e14f32",
   "metadata": {},
   "outputs": [],
   "source": [
    "# 得到元素BOP\n",
    "\n",
    "origin_ana_atom_list_1, origin_q4_q6_list_1,box_len_1 = cal_bop(frames,100)"
   ]
  },
  {
   "cell_type": "code",
   "execution_count": null,
   "id": "3f57fae5-570b-4c43-923c-165ace34e68c",
   "metadata": {},
   "outputs": [],
   "source": []
  },
  {
   "cell_type": "code",
   "execution_count": null,
   "id": "6fe60abb-d7ff-437c-8caa-7e6440a22cf8",
   "metadata": {},
   "outputs": [],
   "source": []
  },
  {
   "cell_type": "code",
   "execution_count": null,
   "id": "1c676d81-a201-4aa9-b244-55b468688528",
   "metadata": {},
   "outputs": [],
   "source": []
  },
  {
   "cell_type": "code",
   "execution_count": null,
   "id": "b28d7cce-adb1-4a2d-810d-670c206aa25c",
   "metadata": {},
   "outputs": [],
   "source": []
  },
  {
   "cell_type": "code",
   "execution_count": null,
   "id": "8c38c592-e8e9-4743-b8ee-b9fc6759c1ba",
   "metadata": {},
   "outputs": [],
   "source": []
  },
  {
   "cell_type": "code",
   "execution_count": null,
   "id": "bbe4c511-eec5-4e1b-932e-aced1eb3adf5",
   "metadata": {},
   "outputs": [],
   "source": []
  },
  {
   "cell_type": "code",
   "execution_count": null,
   "id": "2bd197b3-ed5f-4cbb-abae-9b8c86036a75",
   "metadata": {},
   "outputs": [],
   "source": [
    "# 只要 O\n",
    "draw_element = ['O']\n",
    "q4_q6_list_0 = origin_q4_q6_list_0.copy()\n",
    "ana_atom_list_0 = origin_ana_atom_list_0.copy()\n",
    "results_xyz_q4_q6_0 = select_ele(origin_ana_atom_list_0,draw_element,q4_q6_list_0)\n",
    "# \n",
    "q4_q6_list_1 = origin_q4_q6_list_1.copy()\n",
    "ana_atom_list_1 = origin_ana_atom_list_1.copy()\n",
    "results_xyz_q4_q6_1 = select_ele(origin_ana_atom_list_1,draw_element,q4_q6_list_1)\n",
    "######\n",
    "# 近邻算法优化BOP\n",
    "filter_list_0 = filter_bop(results_xyz_q4_q6_0)\n",
    "filter_list_1 = filter_bop(results_xyz_q4_q6_1)"
   ]
  },
  {
   "cell_type": "code",
   "execution_count": null,
   "id": "91ccd36d-cecf-402e-b9db-5c11573e0d06",
   "metadata": {},
   "outputs": [],
   "source": []
  },
  {
   "cell_type": "code",
   "execution_count": null,
   "id": "6a13fb5d-9c79-4eb3-b7c2-876f00dc0637",
   "metadata": {},
   "outputs": [],
   "source": []
  },
  {
   "cell_type": "code",
   "execution_count": null,
   "id": "79fbf67d-b082-46f4-8ba9-760e0dd0692b",
   "metadata": {},
   "outputs": [],
   "source": []
  },
  {
   "cell_type": "code",
   "execution_count": null,
   "id": "1139788a-62f2-4818-b82d-61a1bea2976c",
   "metadata": {},
   "outputs": [],
   "source": []
  },
  {
   "cell_type": "code",
   "execution_count": null,
   "id": "d8f49cbb-d772-420b-8f4d-9cfb2e4384dd",
   "metadata": {},
   "outputs": [],
   "source": [
    "filter_list_0[0]"
   ]
  },
  {
   "cell_type": "code",
   "execution_count": null,
   "id": "dab3b627-8433-4b54-beb2-51808e9fe922",
   "metadata": {},
   "outputs": [],
   "source": []
  },
  {
   "cell_type": "code",
   "execution_count": null,
   "id": "f4036e5f-6921-4775-9633-1a090d003a53",
   "metadata": {},
   "outputs": [],
   "source": []
  },
  {
   "cell_type": "code",
   "execution_count": null,
   "id": "89965a4e-4362-4d2b-8d8c-e9bcbfffe3cb",
   "metadata": {},
   "outputs": [],
   "source": [
    "count = 0\n",
    "test_list = filter_list_0\n",
    "for i in test_list:\n",
    "    if i[1]>0.18:\n",
    "        count+=1\n",
    "print(count)\n",
    "count = 0\n",
    "test_list = filter_list_1\n",
    "for i in test_list:\n",
    "    if i[1]>0.18:\n",
    "        count+=1\n",
    "print(count)"
   ]
  },
  {
   "cell_type": "code",
   "execution_count": null,
   "id": "8e9baf3b-6a14-467e-be6b-fd49c6f07469",
   "metadata": {},
   "outputs": [],
   "source": []
  },
  {
   "cell_type": "code",
   "execution_count": null,
   "id": "25f4acce-5a82-46bf-930d-5428b9f18567",
   "metadata": {},
   "outputs": [],
   "source": [
    "test_temp = filter_list_0\n",
    "# 先取出所有晶体原子\n",
    "cry_list = [[],[]]\n",
    "for i_item in test_temp:\n",
    "    i_atom,i_q4,i_q6 = i_item\n",
    "    if i_q4>0.18:\n",
    "        cry_list[0].append(i_atom.x)\n",
    "        cry_list[1].append(i_atom.y)\n",
    "print(len(cry_list[0]))\n",
    "temp_diff_dis_atom = cry_list\n",
    "draw_q4(test_temp,0.18,temp_diff_dis_atom)"
   ]
  },
  {
   "cell_type": "code",
   "execution_count": null,
   "id": "d32d0075-aa33-4878-ab24-682eabffafc6",
   "metadata": {},
   "outputs": [],
   "source": [
    "test_temp = filter_list_1\n",
    "# 先取出所有晶体原子\n",
    "cry_list = [[],[]]\n",
    "for i_item in test_temp:\n",
    "    i_atom,i_q4,i_q6 = i_item\n",
    "    if i_q4>0.18:\n",
    "        cry_list[0].append(i_atom.x)\n",
    "        cry_list[1].append(i_atom.y)\n",
    "print(len(cry_list[0]))\n",
    "temp_diff_dis_atom = cry_list\n",
    "draw_q4(test_temp,0.18,temp_diff_dis_atom)"
   ]
  },
  {
   "cell_type": "code",
   "execution_count": null,
   "id": "16d5f819-6235-4ceb-ac31-3a1d33db2d8a",
   "metadata": {},
   "outputs": [],
   "source": []
  },
  {
   "cell_type": "code",
   "execution_count": null,
   "id": "9993e650-5ffc-4556-8fc3-e5edc8c29f50",
   "metadata": {},
   "outputs": [],
   "source": [
    "# 写入lmp文件"
   ]
  },
  {
   "cell_type": "code",
   "execution_count": null,
   "id": "c7e38473-4e7b-426b-95da-5e11579e638e",
   "metadata": {},
   "outputs": [],
   "source": []
  },
  {
   "cell_type": "code",
   "execution_count": null,
   "id": "2b265c7d-13c2-43b6-8d19-b38bedb8eaaf",
   "metadata": {},
   "outputs": [],
   "source": []
  },
  {
   "cell_type": "code",
   "execution_count": null,
   "id": "43988d2c-ae11-4216-86f7-bb88934f8502",
   "metadata": {},
   "outputs": [],
   "source": []
  },
  {
   "cell_type": "code",
   "execution_count": null,
   "id": "9a9e7987-7347-45df-9fee-387d6d0d9503",
   "metadata": {},
   "outputs": [],
   "source": []
  },
  {
   "cell_type": "markdown",
   "id": "24dcc2fe-8548-4705-aee3-daf27fa339a8",
   "metadata": {},
   "source": [
    "# 绘制 MSD 的函数 "
   ]
  },
  {
   "cell_type": "code",
   "execution_count": null,
   "id": "32286adb-d3d6-482f-9be7-65b6b829b977",
   "metadata": {},
   "outputs": [],
   "source": [
    "import numpy as np\n",
    "import matplotlib.pyplot as plt\n",
    "from matplotlib.colors import Normalize\n",
    "from matplotlib.font_manager import FontProperties\n",
    "\n",
    "def draw(start_xyz,end_xyz,boxsize,list_q4,list_q4_1):\n",
    "\n",
    "    # 设置全局字体属性\n",
    "    plt.rcParams['font.weight'] = 'bold'\n",
    "    plt.rcParams['font.family'] = 'Times New Roman'\n",
    "    plt.rcParams['font.size'] = 12\n",
    "\n",
    "    # 设置图像大小\n",
    "    fig = plt.figure(figsize=(10, 6))\n",
    "\n",
    "    # 两帧原子的xyz数据，每一帧包含原子的位置信息\n",
    "    frame1 = np.array(start_xyz)\n",
    "    frame2 = np.array(end_xyz)\n",
    "\n",
    "    # 盒子尺寸，假设为 [box_x, box_y, box_z]\n",
    "    #box_size = [10.0, 10.0, 10.0]\n",
    "\n",
    "    # 计算位移向量\n",
    "    displacements = frame2[:, :2] - frame1[:, :2]\n",
    "    box_size = boxsize\n",
    "    # 考虑周期性边界条件，根据盒子尺寸修正位移\n",
    "    for i in range(len(displacements)):\n",
    "        for dim in range(2):  # 仅考虑 xy 平面\n",
    "            if displacements[i, dim] > box_size[dim] / 2:\n",
    "                displacements[i, dim] -= box_size[dim]\n",
    "            elif displacements[i, dim] < -box_size[dim] / 2:\n",
    "                displacements[i, dim] += box_size[dim]\n",
    "\n",
    "    # 计算位移大小\n",
    "    displacement_magnitude = np.linalg.norm(displacements, axis=1)\n",
    "\n",
    "    # 计算位移方向\n",
    "    displacement_direction = displacements / displacement_magnitude[:, np.newaxis]\n",
    "\n",
    "    # 设置箭头的长度的倍数\n",
    "    arrow_scale = 2  # 可以根据需要调整箭头的长度\n",
    "\n",
    "    # 设置颜色映射范围，根据位移大小来映射颜色\n",
    "    norm = Normalize(vmin=min(displacement_magnitude), vmax=max(displacement_magnitude))\n",
    "\n",
    "    # 绘制位移图，将位移大小与箭头长度相乘\n",
    "    plt.quiver(frame1[:, 0], frame1[:, 1], arrow_scale * displacement_direction[:, 0], arrow_scale * displacement_direction[:, 1], \n",
    "               arrow_scale * displacement_magnitude, cmap='viridis', angles='xy', scale_units='xy', scale=1, norm=norm)\n",
    "\n",
    "    # \n",
    "    # 设置标题和轴标签的字体和字体大小，以及使用Times New Roman字体\n",
    "    label_font = FontProperties(family='Times New Roman', style='normal', size=18, weight='bold')\n",
    "\n",
    "\n",
    "    # 设置图形范围，根据盒子尺寸\n",
    "    #plt.xlim(0, box_size[0])\n",
    "    #plt.ylim(0, box_size[1])\n",
    "    plt.xlabel('X (Å)',fontproperties=label_font)\n",
    "    plt.ylabel('Y (Å)',fontproperties=label_font)\n",
    "    # 添加颜色条\n",
    "    # plt.scatter(list_q4[0],list_q4[1],color='blue',s=30,label='5 ns')\n",
    "    #plt.scatter(list_q4[0],list_q4[1],color='orange',s=15,label='crystal-like O at 10 ns')\n",
    "    # title = 'The displacement of '+ ana_element+ ' : '+str(start_frame_num) +' - '+ str(end_frame_num)##+' frame (100ns/1000frames) ' #(60ns/1000frames)\n",
    "    title = 'MSD of O from 0 ns to 10 ns.'\n",
    "    plt.title(title, fontproperties=label_font)\n",
    "    plt.legend()\n",
    "\n",
    "    # 设置颜色条字体大小、粗细和字体族\n",
    "    cbar = plt.colorbar(label='Displacement Magnitude')\n",
    "    cbar.ax.tick_params(labelsize=12, width=2)  # 设置字体大小和粗细\n",
    "    cbar.ax.yaxis.label.set_font_properties(FontProperties(family='Times New Roman', style='normal', size=12, weight='bold'))\n",
    "\n",
    "    \n",
    "\n",
    "    # 显示图形\n",
    "    plt.show()\n"
   ]
  },
  {
   "cell_type": "code",
   "execution_count": null,
   "id": "48440907-6fc6-4681-b18e-fb0af2d98b75",
   "metadata": {},
   "outputs": [],
   "source": [
    "start_xyz = []\n",
    "start_q4 = [[],[]]\n",
    "###\n",
    "end_xyz = []\n",
    "end_q4 = [[],[]]\n",
    "for i_item in range(len(filter_list_1)):\n",
    "    i_atom,i_q4 = filter_list_0[i_item][0], filter_list_0[i_item][1]\n",
    "    j_atom,j_q4 = filter_list_1[i_item][0], filter_list_1[i_item][1]\n",
    "    i_xyz = [i_atom.x,i_atom.y,i_atom.z]\n",
    "    j_xyz = [j_atom.x,j_atom.y,j_atom.z]\n",
    "    start_xyz.append(i_xyz)\n",
    "    if i_q4>0.18:\n",
    "        start_q4[0].append(i_atom.x)\n",
    "        start_q4[1].append(i_atom.y)\n",
    "    if j_q4>0.18:\n",
    "        end_q4[0].append(j_atom.x)\n",
    "        end_q4[1].append(j_atom.y)\n",
    "    end_xyz.append(j_xyz)"
   ]
  },
  {
   "cell_type": "code",
   "execution_count": null,
   "id": "42a38d09-c502-4fa7-b444-a1bfca6d69ea",
   "metadata": {},
   "outputs": [],
   "source": []
  },
  {
   "cell_type": "code",
   "execution_count": null,
   "id": "897d398f-4f60-4802-9043-6e3c572bc855",
   "metadata": {},
   "outputs": [],
   "source": [
    "len(end_q4[0])"
   ]
  },
  {
   "cell_type": "code",
   "execution_count": null,
   "id": "7f6e9aea-3c72-4777-8e84-f66b19467a13",
   "metadata": {},
   "outputs": [],
   "source": [
    "draw(start_xyz,end_xyz,box_len,start_q4,end_q4)"
   ]
  },
  {
   "cell_type": "code",
   "execution_count": null,
   "id": "e66a9889-5eb5-4cca-93f3-389ec6e47edb",
   "metadata": {},
   "outputs": [],
   "source": []
  },
  {
   "cell_type": "code",
   "execution_count": null,
   "id": "388ff946-4759-48d6-aef3-7a17339eb7fb",
   "metadata": {},
   "outputs": [],
   "source": []
  },
  {
   "cell_type": "code",
   "execution_count": null,
   "id": "15c63fc2-156a-43d3-ad94-2ed00de21e42",
   "metadata": {},
   "outputs": [],
   "source": []
  },
  {
   "cell_type": "code",
   "execution_count": null,
   "id": "f02eb11e-a4a5-4dea-9142-e9a059ab42ce",
   "metadata": {},
   "outputs": [],
   "source": []
  },
  {
   "cell_type": "code",
   "execution_count": null,
   "id": "21d33b7d-1ff5-40ea-b702-9be7ec38c588",
   "metadata": {},
   "outputs": [],
   "source": []
  },
  {
   "cell_type": "code",
   "execution_count": null,
   "id": "139d574a-c25c-4981-99d2-04d830bc6286",
   "metadata": {},
   "outputs": [],
   "source": []
  },
  {
   "cell_type": "code",
   "execution_count": null,
   "id": "3ec789a8-a919-4657-b595-cad73eb9d8ea",
   "metadata": {},
   "outputs": [],
   "source": []
  },
  {
   "cell_type": "code",
   "execution_count": null,
   "id": "49220d4e-3583-4403-b05c-875554edbd20",
   "metadata": {},
   "outputs": [],
   "source": []
  },
  {
   "cell_type": "code",
   "execution_count": null,
   "id": "4f1454c3-1796-442f-a589-082c3dc3917d",
   "metadata": {},
   "outputs": [],
   "source": []
  },
  {
   "cell_type": "code",
   "execution_count": null,
   "id": "63f29b8b-838f-46ba-a28e-d6d65f2eb9c0",
   "metadata": {},
   "outputs": [],
   "source": [
    "450/600 * 30/0"
   ]
  },
  {
   "cell_type": "markdown",
   "id": "d00f44e9-da8f-48b0-9156-fb28e4f72d28",
   "metadata": {},
   "source": [
    "# 输出文件"
   ]
  },
  {
   "cell_type": "code",
   "execution_count": null,
   "id": "baaded59",
   "metadata": {},
   "outputs": [],
   "source": [
    "head = 'ITEM: TIMESTEP\\n{}\\nITEM: NUMBER OF ATOMS\\n{}\\nITEM: BOX BOUNDS xy xz \\\n",
    "pp pp pp\\n0 {}\\n0 {} \\n0 {}\\nITEM: ATOMS id x y z vx vy vz '.format(22,10,22,22,22)\n",
    "print(head)\n",
    "row = '{} {} {} {} {} 0 0'.format(0,1, 1,2,1,0.5)\n",
    "print(row)"
   ]
  },
  {
   "cell_type": "code",
   "execution_count": null,
   "id": "fac28389",
   "metadata": {},
   "outputs": [],
   "source": [
    "def write_xyz_q4(save_path, result_xyz_q4_q6,i_frame,atom_num):\n",
    "    # 打开文件以追加内容\n",
    "    box_x,box_y,box_z = 84.713001, 55.321148, 11.50816\n",
    "    head = head = 'ITEM: TIMESTEP\\n{}\\nITEM: NUMBER OF ATOMS\\n{}\\nITEM: BOX BOUNDS xy xz \\\n",
    "pp pp pp\\n0 {}\\n0 {} \\n0 {}\\nITEM: ATOMS id x y z vx vy vz \\n'.format(i_frame,atom_num,box_x,box_y,box_z)\n",
    "    if i_frame==0:\n",
    "        w_type = 'w'\n",
    "    else:\n",
    "        w_type = 'a'\n",
    "    with open(save_path, w_type) as file:\n",
    "        # 追加内容\n",
    "        file.write(head)\n",
    "        for i in range(len(result_xyz_q4_q6)):\n",
    "            x,y,z,vx = result_xyz_q4_q6[i][0],result_xyz_q4_q6[i][1],result_xyz_q4_q6[i][2],result_xyz_q4_q6[i][3]\n",
    "            row = '{} {} {} {} {} 0 0\\n'.format(i,x,y,z,vx*100)\n",
    "            file.write(row)"
   ]
  },
  {
   "cell_type": "markdown",
   "id": "4ffa47a7",
   "metadata": {},
   "source": [
    "# 开始多帧计算分析"
   ]
  },
  {
   "cell_type": "code",
   "execution_count": null,
   "id": "9ba8af78",
   "metadata": {},
   "outputs": [],
   "source": [
    "for i_frame in range(start_frame,end_frame,step_frame):\n",
    "    data_list = []\n",
    "    for i in frames[i_frame]['atoms']:\n",
    "        data_list.append([i['element'],i['x'],i['y'],i['z']])\n",
    "    result_xyz_q4_q6 = cal_bop(data_list,ana_element,draw_element)\n",
    "    # 得到结果了 然后把结果存下来\n",
    "    write_xyz_q4(save_path,result_xyz_q4_q6,i_frame,2292)"
   ]
  },
  {
   "cell_type": "code",
   "execution_count": null,
   "id": "b92c8456",
   "metadata": {},
   "outputs": [],
   "source": []
  },
  {
   "cell_type": "code",
   "execution_count": null,
   "id": "d25fead4",
   "metadata": {},
   "outputs": [],
   "source": []
  },
  {
   "cell_type": "code",
   "execution_count": null,
   "id": "b35ff3ce",
   "metadata": {},
   "outputs": [],
   "source": []
  }
 ],
 "metadata": {
  "kernelspec": {
   "display_name": "Python 3 (ipykernel)",
   "language": "python",
   "name": "python3"
  },
  "language_info": {
   "codemirror_mode": {
    "name": "ipython",
    "version": 3
   },
   "file_extension": ".py",
   "mimetype": "text/x-python",
   "name": "python",
   "nbconvert_exporter": "python",
   "pygments_lexer": "ipython3",
   "version": "3.12.3"
  },
  "widgets": {
   "application/vnd.jupyter.widget-state+json": {
    "state": {},
    "version_major": 2,
    "version_minor": 0
   }
  }
 },
 "nbformat": 4,
 "nbformat_minor": 5
}
