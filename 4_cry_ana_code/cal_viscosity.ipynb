{
 "cells": [
  {
   "cell_type": "code",
   "execution_count": 1,
   "id": "0fe24bf8",
   "metadata": {},
   "outputs": [],
   "source": [
    "import pandas as pd\n",
    "import numpy as np\n",
    "import matplotlib.pyplot as plt"
   ]
  },
  {
   "cell_type": "code",
   "execution_count": 2,
   "id": "1aa75ee9",
   "metadata": {},
   "outputs": [],
   "source": [
    "file_path = r'C:\\Users\\zhang\\Desktop\\md\\linbo3\\cal_viscosity\\cry_1000p_out.lmp'"
   ]
  },
  {
   "cell_type": "code",
   "execution_count": 3,
   "id": "8f98eb75",
   "metadata": {},
   "outputs": [],
   "source": [
    "def read_frame(lines):\n",
    "    data = []\n",
    "    columns = []\n",
    "\n",
    "    start_reading_data = False\n",
    "\n",
    "    for line in lines:\n",
    "        if line.startswith('ITEM: ATOMS'):\n",
    "            columns = line.split()[2:]\n",
    "            start_reading_data = True\n",
    "        elif line.startswith('ITEM:'):\n",
    "            start_reading_data = False\n",
    "        elif start_reading_data:\n",
    "            values = line.split()\n",
    "            data.append(values)\n",
    "\n",
    "    df = pd.DataFrame(data, columns=columns)\n",
    "    numeric_columns = ['id', 'type', 'q', 'x', 'y', 'z', 'vx', 'vy', 'vz', 'fx', 'fy', 'fz']\n",
    "    df[numeric_columns] = df[numeric_columns].apply(pd.to_numeric)\n",
    "    return df"
   ]
  },
  {
   "cell_type": "code",
   "execution_count": 4,
   "id": "9468deee",
   "metadata": {},
   "outputs": [],
   "source": [
    "# 用于存储所有帧的数据\n",
    "frames = []"
   ]
  },
  {
   "cell_type": "code",
   "execution_count": 5,
   "id": "df9fd782",
   "metadata": {},
   "outputs": [],
   "source": [
    "# 打开文件并逐行读取\n",
    "with open(file_path, 'r') as file:\n",
    "    lines = file.readlines()\n",
    "\n",
    "    # 用于存储当前帧的数据\n",
    "    current_frame_lines = []\n",
    "\n",
    "    # 逐行解析数据\n",
    "    for line in lines:\n",
    "        if line.startswith('ITEM: TIMESTEP') and current_frame_lines:\n",
    "            # 如果遇到新的时间步，将之前的数据作为一帧存储\n",
    "            frames.append(read_frame(current_frame_lines))\n",
    "            current_frame_lines = []\n",
    "        current_frame_lines.append(line)\n",
    "\n",
    "    # 处理文件结尾的最后一帧\n",
    "    if current_frame_lines:\n",
    "        frames.append(read_frame(current_frame_lines))"
   ]
  },
  {
   "cell_type": "code",
   "execution_count": 6,
   "id": "55e77087",
   "metadata": {},
   "outputs": [
    {
     "data": {
      "text/plain": [
       "<bound method NDFrame.tail of           id  type    q           x          y          z        vx  \\\n",
       "0          1     1 -1.2   16.829231  18.785029   9.793018 -13.97960   \n",
       "1          2     1 -1.2    9.657971   8.312819  14.352728  19.85310   \n",
       "2          3     1 -1.2   95.122031  11.416129  51.504228  -4.13908   \n",
       "3          4     1 -1.2  109.478831  19.901229   5.081988  15.86480   \n",
       "4          5     1 -1.2   96.344731  18.138229  13.408628 -12.33580   \n",
       "...      ...   ...  ...         ...        ...        ...       ...   \n",
       "14995  14996     3  0.6   62.854731  21.823929  66.656228  -7.67868   \n",
       "14996  14997     3  0.6   66.921531   0.121322   0.491618   2.96761   \n",
       "14997  14998     3  0.6   57.059931   2.330069  55.789628  -5.91282   \n",
       "14998  14999     3  0.6   67.321031   1.989489  70.104928  22.16480   \n",
       "14999  15000     3  0.6   63.148931  20.443329   6.886758  26.12290   \n",
       "\n",
       "              vy         vz        fx        fy        fz  \n",
       "0       5.284320  28.450100  0.818885 -0.367172  0.615691  \n",
       "1       0.602997  11.106000  0.668262  2.385920 -1.173270  \n",
       "2     -11.668200  14.344000 -2.819340  0.667989  0.052617  \n",
       "3       9.191740  19.641900 -2.644380 -1.175100 -1.529970  \n",
       "4      19.444600   2.970330 -0.416223  3.139050 -1.650960  \n",
       "...          ...        ...       ...       ...       ...  \n",
       "14995   9.466420   0.214783  0.002764  0.482657  0.247780  \n",
       "14996  31.428300  24.985000  0.438589 -0.103521 -0.285614  \n",
       "14997  21.466200  18.477600 -0.559942 -0.141561  0.453205  \n",
       "14998  -0.013727  -3.314300  0.042825 -0.781012 -0.947082  \n",
       "14999  -6.833990   1.391470  0.731542 -0.001703 -0.701589  \n",
       "\n",
       "[15000 rows x 12 columns]>"
      ]
     },
     "execution_count": 6,
     "metadata": {},
     "output_type": "execute_result"
    }
   ],
   "source": [
    "frames[0].tail"
   ]
  },
  {
   "cell_type": "code",
   "execution_count": 7,
   "id": "73fa9e0a",
   "metadata": {},
   "outputs": [
    {
     "data": {
      "text/plain": [
       "100"
      ]
     },
     "execution_count": 7,
     "metadata": {},
     "output_type": "execute_result"
    }
   ],
   "source": [
    "len(frames)"
   ]
  },
  {
   "cell_type": "code",
   "execution_count": 73,
   "id": "c5a9fb58",
   "metadata": {},
   "outputs": [],
   "source": [
    "# 开始计算扩散系数D"
   ]
  },
  {
   "cell_type": "code",
   "execution_count": 77,
   "id": "482cf53c",
   "metadata": {},
   "outputs": [],
   "source": [
    "# 步骤 1: 提取速度数据\n",
    "def extract_velocity_data(frame):\n",
    "    return frame[['vx', 'vy', 'vz']].values\n",
    "# 步骤 2: 计算速度自相关函数\n",
    "def velocity_autocorrelation(velocity_data,v0_data):\n",
    "    num_atoms, num_dimensions = velocity_data.shape\n",
    "    # print(num_atoms, num_dimensions)\n",
    "    # autocorrelation = np.zeros((num_atoms, num_dimensions))\n",
    "    sum_acf = 0\n",
    "    for i in range(num_atoms):\n",
    "        temp = np.dot(velocity_data[i],v0_data[i])\n",
    "        # print(velocity_data[i],v0_data[i])\n",
    "        sum_acf += temp\n",
    "        # print(temp)\n",
    "    return sum_acf / num_atoms\n"
   ]
  },
  {
   "cell_type": "code",
   "execution_count": 78,
   "id": "db2a7992",
   "metadata": {},
   "outputs": [],
   "source": [
    "# 从每帧数据中提取速度\n",
    "velocity_data_list = [extract_velocity_data(frame) for frame in frames]"
   ]
  },
  {
   "cell_type": "code",
   "execution_count": 83,
   "id": "3582cb00",
   "metadata": {},
   "outputs": [],
   "source": [
    "acf_list = []\n",
    "for i in range(100):\n",
    "    temp = velocity_autocorrelation(velocity_data_list[i],velocity_data_list[0])\n",
    "    acf_list.append(temp)\n",
    "acf_list = np.array(acf_list)"
   ]
  },
  {
   "cell_type": "code",
   "execution_count": 84,
   "id": "2cd89712",
   "metadata": {},
   "outputs": [],
   "source": [
    "acf_list = acf_list/acf_list[0]"
   ]
  },
  {
   "cell_type": "code",
   "execution_count": 80,
   "id": "8bdbcf3f",
   "metadata": {},
   "outputs": [
    {
     "data": {
      "text/plain": [
       "399.67245333562045"
      ]
     },
     "execution_count": 80,
     "metadata": {},
     "output_type": "execute_result"
    }
   ],
   "source": [
    "velocity_autocorrelation(velocity_data_list[0],velocity_data_list[0])"
   ]
  },
  {
   "cell_type": "code",
   "execution_count": 87,
   "id": "5d229972",
   "metadata": {},
   "outputs": [
    {
     "data": {
      "text/plain": [
       "[<matplotlib.lines.Line2D at 0x1f9a4a5de40>]"
      ]
     },
     "execution_count": 87,
     "metadata": {},
     "output_type": "execute_result"
    },
    {
     "data": {
      "image/png": "[encoded data removed]",
      "text/plain": [
       "<Figure size 432x288 with 1 Axes>"
      ]
     },
     "metadata": {
      "needs_background": "light"
     },
     "output_type": "display_data"
    }
   ],
   "source": [
    "plt.plot(range(99),acf_list[1:])"
   ]
  },
  {
   "cell_type": "markdown",
   "id": "91dbe678",
   "metadata": {},
   "source": [
    "# 对每个VAF进行积分"
   ]
  },
  {
   "cell_type": "code",
   "execution_count": 89,
   "id": "e08aa3dc",
   "metadata": {},
   "outputs": [
    {
     "name": "stdout",
     "output_type": "stream",
     "text": [
      "Integrated result: 0.014872344140588153\n"
     ]
    }
   ],
   "source": [
    "\n",
    "\n",
    "# Assuming you have lists for time and VAF\n",
    "time = np.linspace(0,8,100)\n",
    "vaf = acf_list\n",
    "\n",
    "# Numerical integration using trapezoidal rule\n",
    "integral_result = np.trapz(vaf, time)/3\n",
    "\n",
    "print(\"Integrated result:\", integral_result)\n"
   ]
  },
  {
   "cell_type": "code",
   "execution_count": 46,
   "id": "58452706",
   "metadata": {},
   "outputs": [],
   "source": [
    "integral_result "
   ]
  },
  {
   "cell_type": "markdown",
   "id": "26504a93",
   "metadata": {},
   "source": [
    "# 看一下势函数是什么样子\n",
    "\n",
    "\n",
    "\n"
   ]
  },
  {
   "cell_type": "code",
   "execution_count": 114,
   "id": "006fe732",
   "metadata": {},
   "outputs": [],
   "source": [
    "x_list = np.linspace(0.5,5,100)"
   ]
  },
  {
   "cell_type": "code",
   "execution_count": 115,
   "id": "cbdbb00d",
   "metadata": {},
   "outputs": [],
   "source": [
    "# i = Si j=O 变量\n",
    "Zi = 2.4\n",
    "Zj = -1.2\n",
    "e = 1.6* 1e-19\n",
    "pi = 3.1415926\n",
    "sigma = 8.854187818*1e-12\n",
    "Aij =13702.9050\n",
    "Bij = 28.950\n",
    "Rij = 0.193817\n",
    "Cij = 54.681\n",
    "Dij = -3.059\n",
    "nij = 3.932\n",
    "ro = 1.168"
   ]
  },
  {
   "cell_type": "code",
   "execution_count": 116,
   "id": "ea514360",
   "metadata": {},
   "outputs": [],
   "source": [
    "def Pe(rij):\n",
    "    if rij>ro:\n",
    "        return  Zi*Zj*e*e/(4*pi*sigma*rij) + Aij*np.exp(-rij/Rij) - Cij/(rij**6)\n",
    "    else:\n",
    "        return Bij/(rij**nij) + Dij*(rij**2)"
   ]
  },
  {
   "cell_type": "code",
   "execution_count": 117,
   "id": "501e87d7",
   "metadata": {},
   "outputs": [],
   "source": [
    "x_list = x_list\n",
    "y_list = [ Pe(xi) for xi in x_list]"
   ]
  },
  {
   "cell_type": "code",
   "execution_count": 118,
   "id": "a49bb630",
   "metadata": {},
   "outputs": [
    {
     "data": {
      "text/plain": [
       "[<matplotlib.lines.Line2D at 0x1f9a4cb6290>]"
      ]
     },
     "execution_count": 118,
     "metadata": {},
     "output_type": "execute_result"
    },
    {
     "data": {
      "image/png": "[encoded data removed]",
      "text/plain": [
       "<Figure size 432x288 with 1 Axes>"
      ]
     },
     "metadata": {
      "needs_background": "light"
     },
     "output_type": "display_data"
    }
   ],
   "source": [
    "plt.plot(x_list,y_list)"
   ]
  },
  {
   "cell_type": "markdown",
   "id": "c8250158",
   "metadata": {},
   "source": [
    "# 采用Einstein relation计算扩散系数和黏度"
   ]
  },
  {
   "cell_type": "code",
   "execution_count": 8,
   "id": "d99c62cb",
   "metadata": {},
   "outputs": [],
   "source": [
    "def calculate_diffusion_coefficient(frames, box_size, timestep):\n",
    "    num_frames = len(frames)\n",
    "    num_atoms = len(frames[0])\n",
    "\n",
    "    squared_displacements = np.zeros(num_atoms)\n",
    "\n",
    "    for i in range(1, num_frames):\n",
    "        for j in range(num_atoms):\n",
    "            displacement = frames[i][j] - frames[0][j]\n",
    "            # Consider periodic boundary conditions\n",
    "            displacement = np.mod(displacement + 0.5 * box_size, box_size) - 0.5 * box_size\n",
    "            squared_displacements[j] += np.sum(displacement**2)\n",
    "\n",
    "    diffusion_coefficient = np.mean(squared_displacements) / (6 * num_frames * timestep)\n",
    "    return diffusion_coefficient"
   ]
  },
  {
   "cell_type": "code",
   "execution_count": 33,
   "id": "fdb7a6f3",
   "metadata": {},
   "outputs": [
    {
     "name": "stdout",
     "output_type": "stream",
     "text": [
      "111.800831 23.676029 73.550728\n"
     ]
    }
   ],
   "source": [
    "a,b,c = 0,0,0\n",
    "for index, i_atom in frames[0].iterrows():\n",
    "    # print(i_atom)\n",
    "    if i_atom['x']>a:\n",
    "        a = i_atom['x']\n",
    "    if i_atom['y']>b:\n",
    "        b = i_atom['y']\n",
    "    if i_atom['z']>c:\n",
    "        c = i_atom['z']\n",
    "print(a,b,c)    \n",
    "box_size = np.array([a,b,c])"
   ]
  },
  {
   "cell_type": "code",
   "execution_count": 27,
   "id": "a4a62311",
   "metadata": {},
   "outputs": [],
   "source": [
    "# 从df中取出xyz数据的函数\n",
    "def extract_xyz_data(frame):\n",
    "    return frame[['x', 'y', 'z']].values"
   ]
  },
  {
   "cell_type": "code",
   "execution_count": 29,
   "id": "7e80323c",
   "metadata": {},
   "outputs": [
    {
     "name": "stdout",
     "output_type": "stream",
     "text": [
      "(100, 15000, 3)\n"
     ]
    }
   ],
   "source": [
    "xyz_data = []\n",
    "for i in range(len(frames)):\n",
    "    temp_xyz = extract_xyz_data(frames[i])\n",
    "    xyz_data.append(temp_xyz)\n",
    "xyz_data = np.array(xyz_data)\n",
    "print(xyz_data.shape)"
   ]
  },
  {
   "cell_type": "code",
   "execution_count": 35,
   "id": "254e05ee",
   "metadata": {},
   "outputs": [],
   "source": [
    "timestep = np.linspace(1e-4,8,100)"
   ]
  },
  {
   "cell_type": "code",
   "execution_count": 36,
   "id": "b151fc7e",
   "metadata": {},
   "outputs": [
    {
     "name": "stdout",
     "output_type": "stream",
     "text": [
      "Diffusion Coefficient: [7.19250829e+05 8.88983896e+02 4.44766811e+02 2.96572338e+02\n",
      " 2.22452185e+02 1.77972757e+02 1.48316747e+02 1.27132386e+02\n",
      " 1.11243295e+02 9.88846284e+01 8.89973891e+01 8.09076275e+01\n",
      " 7.41660205e+01 6.84614850e+01 6.35718111e+01 5.93340400e+01\n",
      " 5.56259493e+01 5.23540728e+01 4.94457132e+01 4.68434767e+01\n",
      " 4.45014478e+01 4.23824561e+01 4.04560892e+01 3.86972234e+01\n",
      " 3.70849222e+01 3.56015988e+01 3.42323717e+01 3.29645642e+01\n",
      " 3.17873104e+01 3.06912430e+01 2.96682437e+01 2.87112418e+01\n",
      " 2.78140502e+01 2.69712318e+01 2.61779892e+01 2.54300731e+01\n",
      " 2.47237064e+01 2.40555205e+01 2.34225011e+01 2.28219432e+01\n",
      " 2.22514123e+01 2.17087113e+01 2.11918524e+01 2.06990328e+01\n",
      " 2.02286135e+01 1.97791011e+01 1.93491322e+01 1.89374594e+01\n",
      " 1.85429392e+01 1.81645214e+01 1.78012400e+01 1.74522045e+01\n",
      " 1.71165932e+01 1.67936461e+01 1.64826598e+01 1.61829818e+01\n",
      " 1.58940064e+01 1.56151702e+01 1.53459489e+01 1.50858535e+01\n",
      " 1.48344278e+01 1.45912454e+01 1.43559074e+01 1.41280404e+01\n",
      " 1.39072940e+01 1.36933397e+01 1.34858688e+01 1.32845909e+01\n",
      " 1.30892328e+01 1.28995372e+01 1.27152613e+01 1.25361762e+01\n",
      " 1.23620657e+01 1.21927252e+01 1.20279614e+01 1.18675912e+01\n",
      " 1.17114412e+01 1.15593470e+01 1.14111526e+01 1.12667099e+01\n",
      " 1.11258782e+01 1.09885238e+01 1.08545194e+01 1.07237441e+01\n",
      " 1.05960823e+01 1.04714243e+01 1.03496653e+01 1.02307054e+01\n",
      " 1.01144490e+01 1.00008051e+01 9.88968654e+00 9.78101014e+00\n",
      " 9.67469624e+00 9.57066864e+00 9.46885435e+00 9.36918350e+00\n",
      " 9.27158910e+00 9.17600692e+00 9.08237538e+00 8.99063536e+00]\n"
     ]
    }
   ],
   "source": [
    "# 使用示例\n",
    "# frames 是一个包含多帧的列表，每帧是一个包含原子坐标的二维数组\n",
    "# box_size 是周期性边界的盒子大小\n",
    "# timestep 是模拟的时间步长\n",
    "\n",
    "\n",
    "diffusion_coefficient = calculate_diffusion_coefficient(xyz_data, box_size, timestep)\n",
    "print(\"Diffusion Coefficient:\", diffusion_coefficient)\n"
   ]
  },
  {
   "cell_type": "code",
   "execution_count": 39,
   "id": "70d466b4",
   "metadata": {},
   "outputs": [],
   "source": [
    "# 转换单位 a2/ns 到cm2/s 要乘以10-7\n",
    "diffusion_coefficient = diffusion_coefficient*1e-7"
   ]
  },
  {
   "cell_type": "code",
   "execution_count": 40,
   "id": "90be3983",
   "metadata": {},
   "outputs": [
    {
     "data": {
      "text/plain": [
       "[<matplotlib.lines.Line2D at 0x28a92ad52a0>]"
      ]
     },
     "execution_count": 40,
     "metadata": {},
     "output_type": "execute_result"
    },
    {
     "data": {
      "image/png": "[encoded data removed]",
      "text/plain": [
       "<Figure size 432x288 with 1 Axes>"
      ]
     },
     "metadata": {
      "needs_background": "light"
     },
     "output_type": "display_data"
    }
   ],
   "source": [
    "plt.plot(timestep[1:],diffusion_coefficient[1:])"
   ]
  },
  {
   "cell_type": "code",
   "execution_count": 47,
   "id": "7c92c9fa",
   "metadata": {},
   "outputs": [],
   "source": [
    "# E-H计算黏度  先加入m值\n",
    "\n",
    "# 假设你的DataFrame为 df，帧数的列为 'frame'，id 列为 'id'\n",
    "# 创建一个新的列 'new_column'，并初始化为 None\n",
    "for frame in frames:\n",
    "    frame['m'] = None\n",
    "    # 使用循环遍历 DataFrame，根据条件设置新列的值\n",
    "    for index, row in frame.iterrows():\n",
    "        if row['type'] == 1:\n",
    "            frame.at[index, 'm'] = 16.0\n",
    "        elif row['type'] == 2:\n",
    "            frame.at[index, 'm'] = 92.91\n",
    "        elif row['type'] == 3:\n",
    "            frame.at[index, 'm'] = 6.941"
   ]
  },
  {
   "cell_type": "code",
   "execution_count": 48,
   "id": "39c0826b",
   "metadata": {},
   "outputs": [
    {
     "data": {
      "text/plain": [
       "<bound method NDFrame.head of           id  type    q           x          y          z        vx  \\\n",
       "0          1     1 -1.2   16.625241  10.270713  68.051973   7.83922   \n",
       "1          2     1 -1.2  102.797841  23.328713  50.311873  -4.47533   \n",
       "2          3     1 -1.2   97.044841  12.836113  31.344473  19.05400   \n",
       "3          4     1 -1.2   83.959441  16.609013  70.919173  -2.04431   \n",
       "4          5     1 -1.2  107.148841   5.541943  62.663773   4.46394   \n",
       "...      ...   ...  ...         ...        ...        ...       ...   \n",
       "14995  14996     3  0.6  102.150441   4.745753   9.390893 -19.67040   \n",
       "14996  14997     3  0.6   61.419141  12.236113  16.954373   4.98196   \n",
       "14997  14998     3  0.6   95.225741   9.073453  20.007273 -11.19490   \n",
       "14998  14999     3  0.6   66.212441  10.073183  64.054873  -7.46630   \n",
       "14999  15000     3  0.6  104.584841   8.687813  55.160073 -17.48930   \n",
       "\n",
       "              vy         vz        fx        fy        fz      m  \n",
       "0      12.867400  12.835600  0.922777  0.863851  4.225020   16.0  \n",
       "1      -8.928980  -0.385744  0.617288 -2.078150  1.553180   16.0  \n",
       "2      -1.245330   0.409621  0.429353  1.708660 -0.463510   16.0  \n",
       "3       1.276230   8.327770  4.135010 -1.189210  3.948670   16.0  \n",
       "4       0.593773  12.572100 -0.258735  1.441960  0.471671   16.0  \n",
       "...          ...        ...       ...       ...       ...    ...  \n",
       "14995 -11.152000 -22.420300  0.131291  0.505370  0.322147  6.941  \n",
       "14996 -11.139600 -17.640200 -0.401839  0.528676  0.596830  6.941  \n",
       "14997  -9.179620   8.773480  0.107784  0.796566 -0.991956  6.941  \n",
       "14998   4.327610  -6.338320 -0.698995 -0.373952 -1.362400  6.941  \n",
       "14999  -8.971140  23.335500  0.222440  0.321673  0.352328  6.941  \n",
       "\n",
       "[15000 rows x 13 columns]>"
      ]
     },
     "execution_count": 48,
     "metadata": {},
     "output_type": "execute_result"
    }
   ],
   "source": [
    "frame.head"
   ]
  },
  {
   "cell_type": "code",
   "execution_count": 49,
   "id": "23c0126d",
   "metadata": {},
   "outputs": [],
   "source": [
    "# 常量\n",
    "Kb = 1.38*1e-23\n",
    "T = 300\n",
    "V = a*b*c"
   ]
  },
  {
   "cell_type": "code",
   "execution_count": 56,
   "id": "d0810e1b",
   "metadata": {},
   "outputs": [],
   "source": [
    "# 从df中取出 x,y,z数据的函数\n",
    "def extract_need_data(frame):\n",
    "    return frame[['x', 'y', 'z','vy','m']].values"
   ]
  },
  {
   "cell_type": "code",
   "execution_count": 59,
   "id": "d2e7d2ba",
   "metadata": {},
   "outputs": [
    {
     "name": "stdout",
     "output_type": "stream",
     "text": [
      "(100, 15000, 5)\n"
     ]
    }
   ],
   "source": [
    "need_data = []\n",
    "for i in range(len(frames)):\n",
    "    temp_xyz = extract_need_data(frames[i])\n",
    "    need_data.append(temp_xyz)\n",
    "need_data = np.array(need_data)\n",
    "print(need_data.shape)"
   ]
  },
  {
   "cell_type": "code",
   "execution_count": 60,
   "id": "29030db1",
   "metadata": {},
   "outputs": [
    {
     "data": {
      "text/plain": [
       "array([16.829231, 18.785029, 9.793018, 5.28432, 16.0], dtype=object)"
      ]
     },
     "execution_count": 60,
     "metadata": {},
     "output_type": "execute_result"
    }
   ],
   "source": [
    "need_data[0][0]"
   ]
  },
  {
   "cell_type": "code",
   "execution_count": 78,
   "id": "923d4ab3",
   "metadata": {},
   "outputs": [],
   "source": [
    "def calculate_viscosity(frames, box_size, timestep):\n",
    "    num_frames = len(frames)\n",
    "    num_atoms = len(frames[0])\n",
    "    \n",
    "    frame_0 = frames[0]\n",
    "    \n",
    "    viscosity_list = np.zeros(num_frames)\n",
    "\n",
    "    for i in range(1, num_frames):\n",
    "        for j in range(num_atoms):\n",
    "            # 原子\n",
    "            temp_atom = frames[i][j]\n",
    "            temp_atom0 = frame_0[j]\n",
    "            # print(temp_atom)\n",
    "            # x*m*vy - x0*m0*vy0\n",
    "            #print(temp_atom0)\n",
    "            value = temp_atom[0]*temp_atom[3]*temp_atom[4] - temp_atom0[0]*temp_atom0[3]*temp_atom0[4] \n",
    "            \n",
    "            viscosity_list[i] += value**2\n",
    "    viscosity_list = viscosity_list/(2*Kb*T*V*num_atoms)\n",
    "    return viscosity_list"
   ]
  },
  {
   "cell_type": "code",
   "execution_count": 80,
   "id": "350970e4",
   "metadata": {},
   "outputs": [],
   "source": [
    "vis_list = calculate_viscosity(need_data, box_size, timestep)"
   ]
  },
  {
   "cell_type": "code",
   "execution_count": 82,
   "id": "7204c5f7",
   "metadata": {},
   "outputs": [
    {
     "data": {
      "text/plain": [
       "[<matplotlib.lines.Line2D at 0x28ab769f2e0>]"
      ]
     },
     "execution_count": 82,
     "metadata": {},
     "output_type": "execute_result"
    },
    {
     "data": {
      "image/png": "[encoded data removed]",
      "text/plain": [
       "<Figure size 432x288 with 1 Axes>"
      ]
     },
     "metadata": {
      "needs_background": "light"
     },
     "output_type": "display_data"
    }
   ],
   "source": [
    "plt.plot(range(len(vis_list[1:])),vis_list[1:])"
   ]
  },
  {
   "cell_type": "markdown",
   "id": "406de5b5",
   "metadata": {},
   "source": [
    "# 感觉不能用速度来计算黏度，而是应该用位移来计算黏度\n",
    "# 因为在模拟中，速度只跟温度有关系，即温度相同粒子运动速率是一定相同的\n",
    "# 但是粒子的运动情况却并不是速率能够表现出来的 位移更加能够代表这种性质\n",
    "# 即应该尝试采用位移的方法计算黏度"
   ]
  },
  {
   "cell_type": "code",
   "execution_count": null,
   "id": "092d0e81",
   "metadata": {},
   "outputs": [],
   "source": []
  }
 ],
 "metadata": {
  "kernelspec": {
   "display_name": "Python 3 (ipykernel)",
   "language": "python",
   "name": "python3"
  },
  "language_info": {
   "codemirror_mode": {
    "name": "ipython",
    "version": 3
   },
   "file_extension": ".py",
   "mimetype": "text/x-python",
   "name": "python",
   "nbconvert_exporter": "python",
   "pygments_lexer": "ipython3",
   "version": "3.10.6"
  }
 },
 "nbformat": 4,
 "nbformat_minor": 5
}
