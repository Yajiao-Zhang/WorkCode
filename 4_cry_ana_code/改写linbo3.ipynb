{
 "cells": [
  {
   "cell_type": "code",
   "execution_count": 2,
   "id": "fa1992b9",
   "metadata": {},
   "outputs": [],
   "source": [
    "import numpy as np\n",
    "import sys\n",
    "sys.path.append(r'C:\\Users\\zhang\\1_jupyter_code\\1_Functions')\n",
    "import matplotlib.pyplot as plt\n",
    "from cal_ppp_dis import cal_ppp_distance as cal_dis\n",
    "\n",
    "from matplotlib.colors import Normalize\n",
    "from matplotlib.font_manager import FontProperties"
   ]
  },
  {
   "cell_type": "code",
   "execution_count": 4,
   "id": "389d7f0d",
   "metadata": {},
   "outputs": [],
   "source": [
    "file_path = r'C:\\Users\\zhang\\Desktop\\md\\linbo3\\26k_nvt_out\\origin_xyz\\8cry_1000p_out.xyz'"
   ]
  },
  {
   "cell_type": "code",
   "execution_count": 5,
   "id": "1c91c323",
   "metadata": {},
   "outputs": [
    {
     "name": "stdout",
     "output_type": "stream",
     "text": [
      "Maximum X value: 112.847609\n",
      "Maximum Y value: 23.897123\n",
      "Maximum Z value: 74.23817\n"
     ]
    }
   ],
   "source": [
    "def read_xyz_frames(file_path):\n",
    "    frames = []\n",
    "    current_frame = None\n",
    "\n",
    "    with open(file_path, 'r') as file:\n",
    "        lines = file.readlines()\n",
    "        line_index = 0\n",
    "\n",
    "        while line_index < len(lines):\n",
    "            line = lines[line_index].strip()\n",
    "\n",
    "            if line.isdigit():\n",
    "                # 读取原子数\n",
    "                if current_frame:\n",
    "                    frames.append(current_frame)\n",
    "                num_atoms = int(line)\n",
    "                current_frame = {\"num_atoms\": num_atoms, \"atoms\": []}\n",
    "                line_index += 2  # 跳过标题行 \"Atoms\"\n",
    "            else:\n",
    "                # 读取原子坐标\n",
    "                if current_frame:\n",
    "                    atom_data = line.split()\n",
    "                    if len(atom_data) == 4:\n",
    "                        element, x, y, z = atom_data\n",
    "                        current_frame[\"atoms\"].append({\n",
    "                            \"element\": element,\n",
    "                            \"x\": float(x),\n",
    "                            \"y\": float(y),\n",
    "                            \"z\": float(z)\n",
    "                        })\n",
    "                line_index += 1\n",
    "\n",
    "        if current_frame:\n",
    "            frames.append(current_frame)\n",
    "\n",
    "    return frames\n",
    "\n",
    "# 使用之前的frames列表\n",
    "frames = read_xyz_frames(file_path)\n",
    "\n",
    "# 找出最大的x、y和z值\n",
    "max_x = max([max(frame[\"atoms\"], key=lambda atom: atom[\"x\"])[\"x\"] for frame in frames])\n",
    "max_y = max([max(frame[\"atoms\"], key=lambda atom: atom[\"y\"])[\"y\"] for frame in frames])\n",
    "max_z = max([max(frame[\"atoms\"], key=lambda atom: atom[\"z\"])[\"z\"] for frame in frames])\n",
    "\n",
    "print(\"Maximum X value:\", max_x)\n",
    "print(\"Maximum Y value:\", max_y)\n",
    "print(\"Maximum Z value:\", max_z)\n"
   ]
  },
  {
   "cell_type": "code",
   "execution_count": 15,
   "id": "79cb2c43",
   "metadata": {},
   "outputs": [
    {
     "name": "stdout",
     "output_type": "stream",
     "text": [
      "112.669616 23.860724 74.10566\n"
     ]
    }
   ],
   "source": [
    "frame_num =  20\n",
    "frame = frames[frame_num]\n",
    "temp_xmax, temp_ymax,temp_zmax = 0,0,0\n",
    "for i in frame['atoms']:\n",
    "    x,y,z = float(i['x']),float(i['y']),float(i['z'])\n",
    "    temp_xmax = max(x,temp_xmax) \n",
    "    temp_ymax = max(temp_ymax,y)\n",
    "    temp_zmax = max(z,temp_zmax)\n",
    "print(temp_xmax,temp_ymax,temp_zmax)"
   ]
  },
  {
   "cell_type": "code",
   "execution_count": null,
   "id": "c538b29c",
   "metadata": {},
   "outputs": [],
   "source": []
  },
  {
   "cell_type": "code",
   "execution_count": null,
   "id": "986436fa",
   "metadata": {},
   "outputs": [],
   "source": []
  },
  {
   "cell_type": "code",
   "execution_count": null,
   "id": "f99ccce2",
   "metadata": {},
   "outputs": [],
   "source": []
  },
  {
   "cell_type": "code",
   "execution_count": null,
   "id": "e71b6fc3",
   "metadata": {},
   "outputs": [],
   "source": []
  },
  {
   "cell_type": "code",
   "execution_count": null,
   "id": "2e163f55",
   "metadata": {},
   "outputs": [],
   "source": []
  },
  {
   "cell_type": "code",
   "execution_count": null,
   "id": "7249231b",
   "metadata": {},
   "outputs": [],
   "source": []
  },
  {
   "cell_type": "code",
   "execution_count": null,
   "id": "5f1b3220",
   "metadata": {},
   "outputs": [],
   "source": []
  },
  {
   "cell_type": "code",
   "execution_count": null,
   "id": "07fedc41",
   "metadata": {},
   "outputs": [],
   "source": []
  },
  {
   "cell_type": "code",
   "execution_count": null,
   "id": "38441774",
   "metadata": {},
   "outputs": [],
   "source": []
  }
 ],
 "metadata": {
  "kernelspec": {
   "display_name": "Python 3 (ipykernel)",
   "language": "python",
   "name": "python3"
  },
  "language_info": {
   "codemirror_mode": {
    "name": "ipython",
    "version": 3
   },
   "file_extension": ".py",
   "mimetype": "text/x-python",
   "name": "python",
   "nbconvert_exporter": "python",
   "pygments_lexer": "ipython3",
   "version": "3.10.6"
  }
 },
 "nbformat": 4,
 "nbformat_minor": 5
}
