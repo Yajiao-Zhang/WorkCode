{
 "cells": [
  {
   "cell_type": "code",
   "execution_count": 1,
   "id": "e93c0b88-155c-43c4-bfbc-b3ee917c3406",
   "metadata": {},
   "outputs": [],
   "source": [
    "# 先不取平均 看一看能否说明问题\n",
    "import numpy as np\n",
    "import sys\n",
    "import os\n",
    "sys.path.append(r'C:\\Users\\81004\\1_jupyter_code\\1_Functions')\n",
    "import matplotlib.pyplot as plt\n",
    "from cal_ppp_dis import cal_ppp_distance as cal_dis\n",
    "###\n",
    "# 设置全局字体为Times New Roman\n",
    "plt.rcParams['font.family'] = 'Times New Roman'"
   ]
  },
  {
   "cell_type": "code",
   "execution_count": 2,
   "id": "90e4e6df-0b6f-4900-aa29-7c21c440b5e3",
   "metadata": {},
   "outputs": [],
   "source": [
    "# 读取xyz数据\n",
    "root = r'D:\\MD_file\\Corning\\march\\laso4\\grwoth'\n",
    "file_path = os.path.join(root,'cry_1000p.lmp')\n",
    "\n",
    "start_frame = 0\n",
    "end_frame = 950\n",
    "step_frame = 1\n",
    "###########\n",
    "\n",
    "# 要分析的元素\n",
    "ana_element = ['Si','O','Al']\n",
    "# lmp对应的值\n",
    "dic_charge = {2.4:'Si', -1.2:'O', 1.8:'Al', 0.6:'Li'}\n",
    "# 画出分布的元素\n",
    "draw_element = ['O']\n",
    "set_cutoff = 4.0"
   ]
  },
  {
   "cell_type": "code",
   "execution_count": 3,
   "id": "4854e266-4134-4587-ba2a-2f01bb46e8a7",
   "metadata": {},
   "outputs": [],
   "source": [
    "# 先按照要求读取所有的lmp数据\n",
    "# 每一个原子的信息\n",
    "class Atom:\n",
    "    def __init__(self, id0, type0, q, x, y, z, vx, vy, vz, fx, fy, fz, c_ke_atom, c_pe_atom, v_e_total):\n",
    "        self.id = int(id0)\n",
    "        self.type = str(type0)\n",
    "        self.x = x\n",
    "        self.y = y\n",
    "        self.z = z\n",
    "        self.q = q\n",
    "        self.vx = vx\n",
    "        self.vy = vy\n",
    "        self.vz = vz\n",
    "        self.fx = fx\n",
    "        self.fy = fy\n",
    "        self.fz = fz\n",
    "        self.c_ke_atom = c_ke_atom\n",
    "        self.c_pe_atom = c_pe_atom\n",
    "        self.v_e_total = v_e_total\n",
    "    def print_info(self):\n",
    "        print(f'id:{int(self.id)}, type:{self.type}, x:{self.x}, y:{self.y}, z:{self.z}, q:{self.q}')\n",
    "        print(f'vx:{self.vx}, vy:{self.vy}, vz:{self.vz}, fx:{self.fx}, fy:{self.fy}, fz:{self.fz}')\n",
    "        print(f'E_total:{self.v_e_total}, E_kinetic:{self.c_ke_atom}, E_potential:{self.c_pe_atom}')"
   ]
  },
  {
   "cell_type": "code",
   "execution_count": 4,
   "id": "f33b70d1-a70a-4328-94bb-0eb5bdff86c8",
   "metadata": {},
   "outputs": [],
   "source": [
    "class Atom_sys(Atom):\n",
    "    def __init__(self, atom_instance, q4=None, q6=None, dis=None):\n",
    "        # 继承 Atom 实例的所有属性\n",
    "        super().__init__(atom_instance.id, atom_instance.type, atom_instance.q,\n",
    "                         atom_instance.x, atom_instance.y, atom_instance.z,\n",
    "                         atom_instance.vx, atom_instance.vy, atom_instance.vz,\n",
    "                         atom_instance.fx, atom_instance.fy, atom_instance.fz,\n",
    "                         atom_instance.c_ke_atom, atom_instance.c_pe_atom, atom_instance.v_e_total)\n",
    "        # 添加新的属性\n",
    "        self.q4 = q4 \n",
    "        self.q6 = q6 \n",
    "        self.dis = dis \n",
    "\n",
    "    def print_info(self):\n",
    "        super().print_info()\n",
    "        print(f'q4: {self.q4}, q6: {self.q6}, dis: {self.dis}')"
   ]
  },
  {
   "cell_type": "raw",
   "id": "72f8fcb9-40d7-4f65-9045-43d82d00e45b",
   "metadata": {},
   "source": [
    "def read_lmp(file_path):\n",
    "    # 所有信息储存的总列表\n",
    "    list_all_frames = []\n",
    "    x_min,x_max,y_min,y_max,z_min,z_max = None,None,None, None,None,None\n",
    "    box_size = [None, None, None]\n",
    "    num_atom = None\n",
    "    len_per_frame = None\n",
    "    # 第一次打开,是看一下基本数据：\n",
    "    with open(file_path,'r') as f_open:\n",
    "        # 前三行都不要\n",
    "        for i in range(3): \n",
    "            f_open.readline()\n",
    "        # 第四行是Number\n",
    "        num_atom = int(f_open.readline())\n",
    "        # 定义一页的行数\n",
    "        len_per_frame = num_atom + 9  \n",
    "        # 第五行不要\n",
    "        f_open.readline()\n",
    "        # 存储range范围\n",
    "        temp_range_list = []\n",
    "        for i in range(3): \n",
    "            temp_min,temp_max = f_open.readline().split()\n",
    "            temp_range_list.append(temp_min)\n",
    "            temp_range_list.append(temp_max)\n",
    "        # 将字符串转换为浮点数并直接赋值给变量\n",
    "        x_min, x_max, y_min, y_max, z_min, z_max = [float(i) for i in temp_range_list]\n",
    "    print(f'Num of atom: {num_atom}')\n",
    "    print(f'X range: {x_min}  {x_max}')\n",
    "    print(f'Y range: {y_min}  {y_max}')\n",
    "    print(f'Z range: {z_min}  {z_max}\\n')\n",
    "    \n",
    "    # 开始读取文件\n",
    "    f_open = open(file_path,'r')\n",
    "    # 记录当前行数\n",
    "    count_row = 0\n",
    "    for i_frame in range(start_frame, end_frame, step_frame):\n",
    "        if i_frame%50==0:\n",
    "            print(f'Now is reading frame {i_frame}')\n",
    "        list_frame = []\n",
    "        # 先判断下是不是我要的这页\n",
    "        now_frame_count = len_per_frame*i_frame\n",
    "        # 如果不是同一页，则跳过这一页,再继续空读\n",
    "        while count_row!=now_frame_count:\n",
    "            # print(f'Now:{now_frame_count}  count:{count_row}')\n",
    "            count_row+=len_per_frame\n",
    "            for i in range(len_per_frame):\n",
    "                f_open.readline()\n",
    "        # 如果是同一页，那么就开始读取数据\n",
    "        else:\n",
    "            # print(f'Now:{now_frame_count}  count:{count_row}')\n",
    "            # 首先就是跳过表头的9行\n",
    "            # for i in range(9):\n",
    "            #     f_open.readline()\n",
    "            # 读取表头九行的数据\n",
    "            f_open.readline()\n",
    "            time_step = int(f_open.readline())\n",
    "            f_open.readline()\n",
    "            atom_num = float(f_open.readline())\n",
    "            f_open.readline()\n",
    "            x_low,x_high = f_open.readline().split()\n",
    "            y_low,y_high = f_open.readline().split()\n",
    "            z_low,z_high = f_open.readline().split()\n",
    "            f_open.readline()\n",
    "            x_low,x_high,y_low,y_high,z_low,z_high = float(x_low),float(x_high),float(y_low),float(y_high),float(z_low),float(z_high)\n",
    "            dic_system = {'timestep':time_step, \n",
    "                         'num_atoms':atom_num,\n",
    "                          'x_low':x_low,'x_high':x_high,\n",
    "                          'y_low':y_low,'y_high':y_high,\n",
    "                          'z_low':z_low,'z_high':z_high,\n",
    "                         }\n",
    "            # 再读取其余的数据\n",
    "            for j_row in range(num_atom):\n",
    "                temp_data = f_open.readline().split()\n",
    "                id0, type0, q, x, y, z, vx, vy, vz, fx, fy, fz, c_ke_atom, c_pe_atom, v_e_total = [float(i) for i in temp_data]\n",
    "                #print(id0, type0, q, x, y, z)\n",
    "                # 类型转换回 str\n",
    "                type0 = dic_charge[q]\n",
    "                temp_atom = Atom(id0, type0, q, x, y, z, vx, vy, vz, fx, fy, fz, c_ke_atom, c_pe_atom, v_e_total)\n",
    "                list_frame.append(temp_atom)\n",
    "            # 这一页读取完了,首先是对原子的id排序\n",
    "            list_frame = sorted(list_frame, key = lambda Atom:Atom.id)\n",
    "            # 再存入信息帧中\n",
    "            frame_data = {\n",
    "                \"atom_data\":list_frame,\n",
    "                'system_info':dic_system\n",
    "            }\n",
    "            list_all_frames.append(frame_data)\n",
    "            count_row+=len_per_frame\n",
    "         \n",
    "    # 关闭文件\n",
    "    print('文件读取完毕！')\n",
    "    f_open.close()\n",
    "    return list_all_frames\n",
    "def read_xyz_frames(file_path):\n",
    "    frames = []\n",
    "    current_frame = None\n",
    "\n",
    "    with open(file_path, 'r') as file:\n",
    "        lines = file.readlines()\n",
    "        line_index = 0\n",
    "\n",
    "        while line_index < len(lines):\n",
    "            line = lines[line_index].strip()\n",
    "\n",
    "            if line.isdigit():\n",
    "                # 读取原子数\n",
    "                if current_frame:\n",
    "                    frames.append(current_frame)\n",
    "                num_atoms = int(line)\n",
    "                current_frame = {\"num_atoms\": num_atoms, \"atoms\": []}\n",
    "                line_index += 2  # 跳过标题行 \"Atoms\"\n",
    "            else:\n",
    "                # 读取原子坐标\n",
    "                if current_frame:\n",
    "                    atom_data = line.split()\n",
    "                    if len(atom_data) == 4:\n",
    "                        element, x, y, z = atom_data\n",
    "                        current_frame[\"atoms\"].append({\n",
    "                            \"element\": element,\n",
    "                            \"x\": float(x),\n",
    "                            \"y\": float(y),\n",
    "                            \"z\": float(z)\n",
    "                        })\n",
    "                line_index += 1\n",
    "\n",
    "        if current_frame:\n",
    "            frames.append(current_frame)\n",
    "    print('文件读取完毕！')\n",
    "    return frames"
   ]
  },
  {
   "cell_type": "code",
   "execution_count": 9,
   "id": "904dd441-c797-402f-bd72-a56aee6c1c46",
   "metadata": {},
   "outputs": [
    {
     "name": "stdout",
     "output_type": "stream",
     "text": [
      "输入文件为lmp格式！\n"
     ]
    },
    {
     "ename": "NameError",
     "evalue": "name 'read_lmp' is not defined",
     "output_type": "error",
     "traceback": [
      "\u001b[1;31m---------------------------------------------------------------------------\u001b[0m",
      "\u001b[1;31mNameError\u001b[0m                                 Traceback (most recent call last)",
      "Cell \u001b[1;32mIn[9], line 6\u001b[0m\n\u001b[0;32m      4\u001b[0m \u001b[38;5;28;01mif\u001b[39;00m file_type\u001b[38;5;241m==\u001b[39m\u001b[38;5;124m'\u001b[39m\u001b[38;5;124mlmp\u001b[39m\u001b[38;5;124m'\u001b[39m:\n\u001b[0;32m      5\u001b[0m     \u001b[38;5;28mprint\u001b[39m(\u001b[38;5;124m'\u001b[39m\u001b[38;5;124m输入文件为lmp格式！\u001b[39m\u001b[38;5;124m'\u001b[39m)\n\u001b[1;32m----> 6\u001b[0m     frames \u001b[38;5;241m=\u001b[39m read_lmp(file_path)   \n\u001b[0;32m      7\u001b[0m \u001b[38;5;28;01melif\u001b[39;00m file_type\u001b[38;5;241m==\u001b[39m\u001b[38;5;124m'\u001b[39m\u001b[38;5;124mxyz\u001b[39m\u001b[38;5;124m'\u001b[39m:\n\u001b[0;32m      8\u001b[0m     frames \u001b[38;5;241m=\u001b[39m read_xyz_frames(file_path)\n",
      "\u001b[1;31mNameError\u001b[0m: name 'read_lmp' is not defined"
     ]
    }
   ],
   "source": [
    "# 读取文件\n",
    "file_type = file_path.split('\\\\')[-1].split('.')[-1]\n",
    "frames = []\n",
    "if file_type=='lmp':\n",
    "    print('输入文件为lmp格式！')\n",
    "    frames = read_lmp(file_path)   \n",
    "elif file_type=='xyz':\n",
    "    frames = read_xyz_frames(file_path)\n",
    "    # 找出最大的x、y和z值\n",
    "    max_x = max([max(frame[\"atoms\"], key=lambda atom: atom[\"x\"])[\"x\"] for frame in frames])\n",
    "    max_y = max([max(frame[\"atoms\"], key=lambda atom: atom[\"y\"])[\"y\"] for frame in frames])\n",
    "    max_z = max([max(frame[\"atoms\"], key=lambda atom: atom[\"z\"])[\"z\"] for frame in frames])\n",
    "    print(\"Maximum X value:\", max_x)\n",
    "    print(\"Maximum Y value:\", max_y)\n",
    "    print(\"Maximum Z value:\", max_z)\n",
    "else:\n",
    "    print('输入文件有误！')"
   ]
  },
  {
   "cell_type": "code",
   "execution_count": 13,
   "id": "1c626f64-5ad4-4ca3-9b62-4e9c17a6de10",
   "metadata": {},
   "outputs": [],
   "source": [
    "All_Atom = []\n",
    "for i_frame in frames:\n",
    "    temp_atom = i_frame['atom_data']\n",
    "    All_Atom.append(temp_atom)"
   ]
  },
  {
   "cell_type": "code",
   "execution_count": 44,
   "id": "4e139b80-98fd-4161-b2a7-08cbef881cc7",
   "metadata": {},
   "outputs": [],
   "source": [
    "# 画图函数"
   ]
  },
  {
   "cell_type": "code",
   "execution_count": 48,
   "id": "aedb9cfa-dd93-42c1-8512-cfcc206cd213",
   "metadata": {},
   "outputs": [],
   "source": [
    "import numpy as np\n",
    "import matplotlib.pyplot as plt\n",
    "from matplotlib.colors import LinearSegmentedColormap, ListedColormap\n",
    "    \n",
    "def draw_q4(data_temp=None,critical_q4=0.18,label_list=None,title_name='No name'):\n",
    "    # 从 data_list 中提取 x、y、q4 和 q6 数据\n",
    "    #########\n",
    "    x_data = [item.x for item in data_temp]\n",
    "    y_data = [item.y for item in data_temp]\n",
    "    q4_data = [item.q4 for item in data_temp]\n",
    "    q6_data = [item.q6 for item in data_temp]\n",
    "    # 创建二维分布图\n",
    "    plt.figure(figsize=(10, 6) ,dpi=80)\n",
    "    mean_q4 = sum(q4_data)/len(q4_data)\n",
    "    num_max_q4 = len([i for i in q4_data if i>critical_q4])\n",
    "    print('Mean q4:' + str(round(mean_q4,4))+' Percentage of Q4 > 0.18:'+ str(round(num_max_q4/len(q4_data)*100,2))+'%')\n",
    "    \n",
    "    ###########################################\n",
    "    # 定义viridis色谱的底端绿色渐变\n",
    "    \n",
    "    viridis_cmap = plt.get_cmap('viridis')\n",
    "    \n",
    "    # 生成顶端橙黄色的渐变，使用非常短的橙色段\n",
    "    orange_yellow = ['#ffea00', '#ff7f0e']  # 橙色到黄色的 HEX 色码，顺序调整为黄色到橙色\n",
    "    orange_yellow_cmap = LinearSegmentedColormap.from_list('orange_yellow', orange_yellow, N=8)\n",
    "    \n",
    "    # 合并两个色谱，创建自定义色谱\n",
    "    colors = np.vstack((viridis_cmap(np.linspace(0, 1, 128)),\n",
    "                        orange_yellow_cmap(np.linspace(0, 1, 8))))  # 使用非常短的橙色段\n",
    "    custom_cmap = ListedColormap(colors)\n",
    "    ###########################################################\n",
    "    name_x = file_path.split('\\\\')[-1]\n",
    "    # 绘制 q4 在 x-y 平面上的二维分布图\n",
    "    title_name = title_name\n",
    "    plt.title(title_name , fontsize=15, fontweight='bold') \n",
    "    \n",
    "    ################\n",
    "    plt.scatter(x_data, y_data, s=15, c=q4_data, cmap=custom_cmap, marker='o',vmin=0.05, vmax=critical_q4)\n",
    "    plt.colorbar()\n",
    "    if label_list is not None:\n",
    "        plt.scatter(label_list[0],label_list[1],color='blue')\n",
    "    # plt.title('O' , fontsize=15, fontweight='bold')  \n",
    "    plt.xlabel('X-axis ', fontsize=15, fontweight='bold')  # 设置 x 轴标签字体大小和加粗\n",
    "    plt.ylabel('Y-axis', fontsize=15, fontweight='bold')  # 设置 y 轴标签字体大小和加粗\n",
    "    \n",
    "    # 设置 x 轴刻度值的字体大小、颜色和加粗\n",
    "    plt.xticks(range(0, int(max(x_data)) + 1, 10), fontsize=12, fontweight='bold')\n",
    "    # 设置 y 轴刻度值的字体大小、颜色和加粗\n",
    "    plt.yticks(fontsize=12, fontweight='bold')\n",
    "    # plt.legend()\n",
    "    plt.show()"
   ]
  },
  {
   "cell_type": "markdown",
   "id": "bc7cf07e-0f88-4cd5-98fe-e090ded67ca9",
   "metadata": {},
   "source": [
    "# 读取保存的文件"
   ]
  },
  {
   "cell_type": "code",
   "execution_count": 83,
   "id": "23dd9f27-ae4f-4f2f-9c73-98539da0c696",
   "metadata": {},
   "outputs": [
    {
     "name": "stdout",
     "output_type": "stream",
     "text": [
      "6006\n",
      "5148\n"
     ]
    }
   ],
   "source": [
    "# 加载数据\n",
    "filepath_analist = os.path.join(root,'ana_frame.npy')\n",
    "Frame_allatom_list = np.load(filepath_analist, allow_pickle=True)\n",
    "print(len(frame_allatom_list))\n",
    "filepath_q4q6dis = os.path.join(root,'ana_q4q6dis.npy')\n",
    "Frame_q4q6dis_list = np.load(filepath_q4q6dis, allow_pickle=True)\n",
    "print(len(frame_q4q6dis_list))\n",
    "# 读取boxsize\n",
    "filepath_boxsize = os.path.join(root,'boxsize.npy')\n",
    "Frame_boxsize = np.load(filepath_boxsize)"
   ]
  },
  {
   "cell_type": "markdown",
   "id": "92cfa915-36ee-4aac-8526-a358e35b4f97",
   "metadata": {},
   "source": [
    "# 计算键角分布\n"
   ]
  },
  {
   "cell_type": "code",
   "execution_count": 25,
   "id": "23d7cbef-b6a7-4530-8727-5f30af97ce68",
   "metadata": {},
   "outputs": [],
   "source": [
    "import numpy as np\n",
    "\n",
    "\n",
    "def minimum_image(vec, box_size):\n",
    "    \"\"\"应用最小镜像准则 (MIC) 修正周期性边界条件 (PBC)。\"\"\"\n",
    "    return vec - np.round(vec / box_size) * box_size\n",
    "\n",
    "def cal_bad(point_center, point_1, point_2, box_size):\n",
    "    \"\"\"\n",
    "    计算原子键角 (point_1 - point_center - point_2)，考虑周期性边界条件 (PBC)。\n",
    "\n",
    "    :param point_center: ndarray, 形如 (x, y, z) 的中心点坐标\n",
    "    :param point_1: ndarray, 形如 (x, y, z) 的第一个原子坐标\n",
    "    :param point_2: ndarray, 形如 (x, y, z) 的第二个原子坐标\n",
    "    :param box_size: ndarray, 盒子大小 (Lx, Ly, Lz)\n",
    "    :return: float, 角度值 (单位: 度)\n",
    "    \"\"\"\n",
    "    # 计算矢量，考虑 PBC\n",
    "    vec1 = minimum_image(point_1 - point_center, box_size)\n",
    "    vec2 = minimum_image(point_2 - point_center, box_size)\n",
    "\n",
    "    # 计算夹角\n",
    "    dot_product = np.dot(vec1, vec2)\n",
    "    norm_vec1 = np.linalg.norm(vec1)\n",
    "    norm_vec2 = np.linalg.norm(vec2)\n",
    "\n",
    "    # 避免除零错误\n",
    "    if norm_vec1 == 0 or norm_vec2 == 0:\n",
    "        raise ValueError(\"错误: 计算夹角时发现零长度矢量！\")\n",
    "\n",
    "    cos_theta = np.clip(dot_product / (norm_vec1 * norm_vec2), -1.0, 1.0)\n",
    "    angle = np.degrees(np.arccos(cos_theta))  # 转换为角度\n",
    "    \n",
    "    return angle\n"
   ]
  },
  {
   "cell_type": "code",
   "execution_count": 27,
   "id": "13ea238e-b8b1-4ef3-a6ba-4bb1d635c764",
   "metadata": {},
   "outputs": [
    {
     "name": "stdout",
     "output_type": "stream",
     "text": [
      "计算得到的键角: 180.00°\n"
     ]
    }
   ],
   "source": [
    "# 定义原子坐标 (x, y, z)\n",
    "point_center = np.array([0.5, 0.5, 0.5])\n",
    "point_1 = np.array([0.1, 0.5, 0.5])\n",
    "point_2 = np.array([0.9, 0.5, 0.5])\n",
    "\n",
    "# 盒子大小 (Lx, Ly, Lz)\n",
    "box_size = np.array([1.0, 1.0, 1.0])\n",
    "\n",
    "# 计算键角\n",
    "angle = cal_bad(point_center, point_1, point_2, box_size)\n",
    "print(f\"计算得到的键角: {angle:.2f}°\")\n"
   ]
  },
  {
   "cell_type": "code",
   "execution_count": 100,
   "id": "4f6905f9-b61d-4871-adf9-975142fde442",
   "metadata": {},
   "outputs": [],
   "source": [
    "import numpy as np\n",
    "from itertools import combinations\n",
    "\n",
    "def cal_dis(point_1,point_2, box_size):\n",
    "    xyz_1 = np.array([point_1.x,point_1.y,point_1.z])\n",
    "    xyz_2 = np.array([point_2.x,point_2.y,point_2.z])\n",
    "    delta = xyz_1-xyz_2\n",
    "    delta = delta - np.round(delta / box_size) * box_size\n",
    "    dis = np.sqrt(np.sum(np.square(delta)))\n",
    "    return dis\n",
    "    \n",
    "def minimum_image(vec, box_size):\n",
    "    \"\"\"应用最小镜像准则 (MIC) 修正周期性边界条件 (PBC)。\"\"\"\n",
    "    return vec - np.round(vec / box_size) * box_size\n",
    "\n",
    "def compute_bond_angle(point_center, point_1, point_2, box_size):\n",
    "    \"\"\"计算 O-center-O 的键角，考虑 PBC。\"\"\"\n",
    "    vec1 = minimum_image(np.array([point_1.x, point_1.y, point_1.z]) - \n",
    "                         np.array([point_center.x, point_center.y, point_center.z]), box_size)\n",
    "    \n",
    "    vec2 = minimum_image(np.array([point_2.x, point_2.y, point_2.z]) - \n",
    "                         np.array([point_center.x, point_center.y, point_center.z]), box_size)\n",
    "\n",
    "    # 计算夹角\n",
    "    dot_product = np.dot(vec1, vec2)\n",
    "    norm_vec1 = np.linalg.norm(vec1)\n",
    "    norm_vec2 = np.linalg.norm(vec2)\n",
    "\n",
    "    if norm_vec1 == 0 or norm_vec2 == 0:\n",
    "        return None  # 避免除零错误\n",
    "\n",
    "    cos_theta = np.clip(dot_product / (norm_vec1 * norm_vec2), -1.0, 1.0)\n",
    "    angle = np.degrees(np.arccos(cos_theta))  # 转换为角度\n",
    "    \n",
    "    return angle\n",
    "\n",
    "def find_neighbors(center_atom, endpoint_atoms, cutoff, box_size):\n",
    "    \"\"\"寻找距离 `center_atom` 小于 `cutoff` 的 `O` 原子。\"\"\"\n",
    "    neighbors = []\n",
    "    center_pos = np.array([center_atom.x, center_atom.y, center_atom.z])\n",
    "\n",
    "    for atom in endpoint_atoms:\n",
    "        endpoint_pos = np.array([atom.x, atom.y, atom.z])\n",
    "        vec = minimum_image(endpoint_pos - center_pos, box_size)\n",
    "        distance = np.linalg.norm(vec)\n",
    "\n",
    "        if distance <= cutoff and distance > 1.0:\n",
    "            neighbors.append(atom)\n",
    "    \n",
    "    return neighbors\n",
    "\n",
    "def calculate_angles(list_center, list_endpoints, box_size, cutoff, center_types, endpoint_type):\n",
    "    \"\"\"\n",
    "    计算所有 O-center-O 的键角，考虑周期性边界条件和截断距离。\n",
    "    \n",
    "    :param list_center: list, 中心原子列表 (Si, Al 等)\n",
    "    :param list_endpoints: list, 端点原子列表 (O 等)\n",
    "    :param box_size: ndarray, 盒子大小 [Lx, Ly, Lz]\n",
    "    :param cutoff: float, 截断半径\n",
    "    :param center_types: list, 需要作为中心的原子类型列表\n",
    "    :param endpoint_type: str, 需要作为端点的原子类型\n",
    "    :return: dict, {中心原子索引: [角度列表]}\n",
    "    \"\"\"\n",
    "    angles_dict = {}\n",
    "\n",
    "    for i, center_atom in enumerate(list_center):\n",
    "        if center_atom.type not in center_types:\n",
    "            continue\n",
    "        # 筛选符合要求的原子\n",
    "        list_neibor = [i for i in list_endpoints if i.type in endpoint_type]\n",
    "        \n",
    "        # 找到所有配位的 O 原子\n",
    "        neighbors = find_neighbors(center_atom, list_neibor, cutoff, box_size)\n",
    "\n",
    "        # 至少需要两个 O 原子才能计算 O-center-O 角度\n",
    "        if len(neighbors) < 2:\n",
    "            continue\n",
    "\n",
    "        # 计算所有可能的 O-center-O 角度\n",
    "        angles = []\n",
    "        for o1, o2 in combinations(neighbors, 2):\n",
    "            angle = compute_bond_angle(center_atom, o1, o2, box_size)\n",
    "            if angle is not None:\n",
    "                angles.append(angle)\n",
    "        if angles:\n",
    "            angles_dict[i] = angles  # 记录当前中心原子的键角信息\n",
    "    return angles_dict\n"
   ]
  },
  {
   "cell_type": "markdown",
   "id": "72d7e883-87dd-4b18-ad2e-9416a97222de",
   "metadata": {},
   "source": [
    "# 计算角度的分布 all型"
   ]
  },
  {
   "cell_type": "code",
   "execution_count": 180,
   "id": "fc5b11b1-af71-486e-b56b-9c10812570eb",
   "metadata": {},
   "outputs": [],
   "source": [
    "# 定义\n",
    "# 先筛选出dis在0-5范围内的 所有形成体 原子\n",
    "cutoff = 3.8\n",
    "range_dis = [cutoff,10-cutoff]\n",
    "# 中心原子类型和端点原子类型\n",
    "center_types = [ 'Si','Al',]  \n",
    "endpoint_types = [\"Al\",'Si' ] "
   ]
  },
  {
   "cell_type": "raw",
   "id": "13cc7c11-2118-47ef-a20b-d891e3cd38b6",
   "metadata": {},
   "source": [
    "# 加载数据\n",
    "filepath_analist = os.path.join(root,'ana_frame.npy')\n",
    "frame_allatom_list = np.load(filepath_analist, allow_pickle=True)\n",
    "print(len(frame_allatom_list))\n",
    "filepath_q4q6dis = os.path.join(root,'ana_q4q6dis.npy')\n",
    "frame_q4q6dis_list = np.load(filepath_q4q6dis, allow_pickle=True)\n",
    "print(len(frame_q4q6dis_list))"
   ]
  },
  {
   "cell_type": "code",
   "execution_count": 182,
   "id": "87125328-8eb7-406c-b417-4820e10ef2a1",
   "metadata": {},
   "outputs": [
    {
     "name": "stdout",
     "output_type": "stream",
     "text": [
      "id:1, type:O, x:8.35064, y:20.7209, z:10.2006, q:-1.2\n",
      "vx:9.59168, vy:6.4961, vz:-6.76946, fx:-1.45072, fy:-0.124733, fz:-0.442504\n",
      "E_total:-10.1631, E_kinetic:0.149261, E_potential:-10.3123\n",
      "q4: 0.1485150220995631, q6: 0.1485150220995631, dis: 23.96452141864093\n"
     ]
    }
   ],
   "source": [
    "frame_q4q6dis_list[0].print_info()"
   ]
  },
  {
   "cell_type": "code",
   "execution_count": 184,
   "id": "fe18900a-87ab-409b-829a-f7585da9cd1a",
   "metadata": {},
   "outputs": [
    {
     "name": "stdout",
     "output_type": "stream",
     "text": [
      "中心原子数量：72\n",
      "四周原子数量：210\n"
     ]
    }
   ],
   "source": [
    "# 中心原子 \n",
    "center_atom_list = [i for i in frame_q4q6dis_list if range_dis[0]<i.dis<range_dis[1] and i.type in center_types]\n",
    "# 四周原子 \n",
    "\n",
    "index_label = np.zeros_like(frame_allatom_list)\n",
    "# 首先先把 center原子给标记了\n",
    "neibor_atom_list = center_atom_list.copy()\n",
    "for i_num,i_atom in enumerate(center_atom_list):\n",
    "    i_index = i_atom.id -1\n",
    "    index_label[i_index] = 1\n",
    "#\n",
    "box_size = Frame_boxsize\n",
    "# 找四周的原子 \n",
    "for i_num,i_atom in enumerate(center_atom_list):\n",
    "    for j_num,j_atom in enumerate(frame_allatom_list):\n",
    "    # 如果不是中心原子类型 或者 已经在当中了 就不要\n",
    "        if j_atom.type not in endpoint_types or index_label[j_atom.id-1]==1:\n",
    "            continue\n",
    "        dis = cal_dis(i_atom,j_atom,box_size)\n",
    "        if dis<cutoff:\n",
    "            j_index = j_atom.id-1\n",
    "            index_label[j_index]=1\n",
    "            neibor_atom_list.append(j_atom)\n",
    "print(f'中心原子数量：{len(center_atom_list)}')\n",
    "print(f'四周原子数量：{len(neibor_atom_list)}')"
   ]
  },
  {
   "cell_type": "code",
   "execution_count": null,
   "id": "cc6a2618-3342-4538-8ba0-e47e19989803",
   "metadata": {},
   "outputs": [],
   "source": []
  },
  {
   "cell_type": "code",
   "execution_count": 186,
   "id": "f3591c3b-fb33-4997-81f4-ca502aae41f9",
   "metadata": {},
   "outputs": [],
   "source": [
    "# 分析的list\n",
    "list_center = center_atom_list\n",
    "list_endpoints = neibor_atom_list\n",
    "box_size = Frame_boxsize\n",
    "# 计算键角\n",
    "res_angles = calculate_angles(list_center, list_endpoints, box_size, cutoff, center_types, endpoint_type)\n",
    "\n",
    "# # 输出键角信息\n",
    "# for center_idx, angle_list in angles.items():\n",
    "#     print(f\"中心原子 {center_idx}: 键角列表 {angle_list}\")\n"
   ]
  },
  {
   "cell_type": "code",
   "execution_count": 187,
   "id": "9e568568-a7a4-4855-951f-dcffb7999719",
   "metadata": {},
   "outputs": [],
   "source": [
    "res_angle_list = list(res_angles.values())\n",
    "res_angle_list = [j for i in res_angle_list for j in i]\n"
   ]
  },
  {
   "cell_type": "code",
   "execution_count": 188,
   "id": "eee1b578-e33f-4077-80ad-1cafe260ddd9",
   "metadata": {},
   "outputs": [
    {
     "name": "stdout",
     "output_type": "stream",
     "text": [
      "dis range:[3.8, 6.2]\n"
     ]
    },
    {
     "data": {
      "image/png": "[encoded data removed]",
      "text/plain": [
       "<Figure size 640x480 with 1 Axes>"
      ]
     },
     "metadata": {},
     "output_type": "display_data"
    }
   ],
   "source": [
    "# 数据\n",
    "data =res_angle_list\n",
    "\n",
    "# 计算直方图\n",
    "bin_width = 1.0\n",
    "bins = np.arange(min(data), max(data) + bin_width, bin_width)  # 生成 bin 边界\n",
    "hist_values, bin_edges = np.histogram(data, bins=bins)  # 计算直方图\n",
    "\n",
    "# 计算 bin 中心\n",
    "bin_centers = (bin_edges[:-1] + bin_edges[1:]) / 2\n",
    "\n",
    "# 绘制折线图\n",
    "plt.plot(bin_centers, hist_values, marker='o', linestyle='-', color='b')\n",
    "\n",
    "# 设置标签\n",
    "plt.xlabel('Angle')\n",
    "plt.ylabel('Frequency')\n",
    "center_name = ''.join(str(x) for x in center_types) \n",
    "endpoints_name = ''.join(str(x) for x in endpoint_type) \n",
    "print(f'dis range:{range_dis}')\n",
    "plt.title(f'Distribution of {endpoints_name}-{center_name}-{endpoints_name} Angle')\n",
    "# 显示图像\n",
    "plt.show()\n"
   ]
  },
  {
   "cell_type": "markdown",
   "id": "4b442e79-dfa0-44a1-8877-a344fe795cfe",
   "metadata": {},
   "source": [
    "# 计算指定类型的角度"
   ]
  },
  {
   "cell_type": "code",
   "execution_count": null,
   "id": "cab6590b-775f-41dd-a1df-d6d014156293",
   "metadata": {},
   "outputs": [],
   "source": []
  },
  {
   "cell_type": "code",
   "execution_count": 239,
   "id": "fb024ebb-d245-43a9-bbe1-2f18fc8c32d7",
   "metadata": {},
   "outputs": [],
   "source": [
    "def apply_pbc(vec, box_size):\n",
    "    \"\"\" 处理周期性边界条件（PBC） \"\"\"\n",
    "    return vec - box_size * np.round(vec / box_size)\n",
    "\n",
    "def calculate_angle(vec1, vec2):\n",
    "    \"\"\" 计算两个向量之间的夹角（单位：度） \"\"\"\n",
    "    dot_product = np.dot(vec1, vec2)\n",
    "    norm_product = np.linalg.norm(vec1) * np.linalg.norm(vec2)\n",
    "    \n",
    "    if norm_product == 0:\n",
    "        return None  # 避免除零错误\n",
    "\n",
    "    cos_theta = np.clip(dot_product / norm_product, -1.0, 1.0)\n",
    "    return np.degrees(np.arccos(cos_theta))\n",
    "\n",
    "def compute_Si_O_Al_angles(center_atoms, si_atoms, al_atoms, box_size, cutoff=3.0):\n",
    "    angles = []\n",
    "    \n",
    "    for center in center_atoms:  # 遍历所有 O 原子\n",
    "        si_neighbors = []\n",
    "        al_neighbors = []\n",
    "        \n",
    "        # 找到 O 附近的 Si 原子\n",
    "        for si in si_atoms:\n",
    "            vec_si_o = np.array([si.x - center.x, si.y - center.y, si.z - center.z])\n",
    "            vec_si_o = apply_pbc(vec_si_o, box_size)\n",
    "            dist_si_o = np.linalg.norm(vec_si_o)\n",
    "\n",
    "            if dist_si_o < cutoff:\n",
    "                si_neighbors.append((si, vec_si_o))\n",
    "\n",
    "        # 找到 O 附近的 Al 原子\n",
    "        for al in al_atoms:\n",
    "            vec_al_o = np.array([al.x - center.x, al.y - center.y, al.z - center.z])\n",
    "            vec_al_o = apply_pbc(vec_al_o, box_size)\n",
    "            dist_al_o = np.linalg.norm(vec_al_o)\n",
    "\n",
    "            if dist_al_o < cutoff:\n",
    "                al_neighbors.append((al, vec_al_o))\n",
    "\n",
    "        # 计算所有 Si-O-Al 角度\n",
    "        for si_atom, vec_si in si_neighbors:\n",
    "            for al_atom, vec_al in al_neighbors:\n",
    "                angle = calculate_angle(vec_si, vec_al)\n",
    "                if angle is not None:\n",
    "                    angles.append(angle)\n",
    "\n",
    "    return angles"
   ]
  },
  {
   "cell_type": "code",
   "execution_count": 284,
   "id": "4d04b229-5656-47c3-8ff1-fe87b0c27697",
   "metadata": {},
   "outputs": [],
   "source": [
    "# 再次筛选原子\n",
    "# 定义\n",
    "# 先筛选出dis在0-5范围内的 所有形成体 原子\n",
    "cutoff = 2.5\n",
    "range_dis = [cutoff+10,20]\n",
    "center_types = ['O','Si','Al']\n",
    "endpoint_types = ['Si','Al','O']"
   ]
  },
  {
   "cell_type": "code",
   "execution_count": 286,
   "id": "9f89ae2b-bdf1-47a4-8b4e-97661bfece90",
   "metadata": {},
   "outputs": [
    {
     "name": "stdout",
     "output_type": "stream",
     "text": [
      "中心原子数量：644\n",
      "四周原子数量：5148\n"
     ]
    }
   ],
   "source": [
    "# 中心原子 \n",
    "center_atom_list = [i for i in frame_q4q6dis_list if range_dis[0]<i.dis<range_dis[1] and i.type in center_types]\n",
    "# 四周原子 \n",
    "\n",
    "index_label = np.zeros_like(frame_allatom_list)\n",
    "# 首先先把 center原子给标记了\n",
    "neibor_atom_list = center_atom_list.copy()\n",
    "for i_num,i_atom in enumerate(center_atom_list):\n",
    "    i_index = i_atom.id -1\n",
    "    index_label[i_index] = 1\n",
    "#\n",
    "box_size = Frame_boxsize\n",
    "# 找四周的原子 \n",
    "for i_num,i_atom in enumerate(center_atom_list):\n",
    "    for j_num,j_atom in enumerate(frame_allatom_list):\n",
    "    # 如果不是中心原子类型 或者 已经在当中了 就不要\n",
    "        if j_atom.type not in endpoint_types or index_label[j_atom.id-1]==1:\n",
    "            continue\n",
    "        dis = cal_dis(i_atom,j_atom,box_size)\n",
    "        if dis<cutoff:\n",
    "            j_index = j_atom.id-1\n",
    "            index_label[j_index]=1\n",
    "            neibor_atom_list.append(j_atom)\n",
    "print(f'中心原子数量：{len(center_atom_list)}')\n",
    "print(f'四周原子数量：{len(neibor_atom_list)}')"
   ]
  },
  {
   "cell_type": "code",
   "execution_count": 298,
   "id": "2b77e0d7-21db-41a7-a0d3-a78f9b314728",
   "metadata": {},
   "outputs": [],
   "source": [
    "# 分析的list Si-O-Al\n",
    "bad_type = ['Al','O','Al']\n",
    "list_center = [i for i in center_atom_list if i.type == bad_type[1]]\n",
    "list_end_1 = [i for i in neibor_atom_list if i.type == bad_type[0] ]\n",
    "list_end_2 = [i for i in neibor_atom_list if i.type == bad_type[2] ]\n",
    "# 盒子尺寸 和 截断半径\n",
    "box_size = Frame_boxsize\n",
    "cutoff = 2.5  \n",
    "# 计算 Si-O-Al 角度\n",
    "angles = compute_Si_O_Al_angles(list_center, list_end_1, list_end_2, Frame_boxsize, cutoff)"
   ]
  },
  {
   "cell_type": "code",
   "execution_count": 299,
   "id": "d706f4f3-3be9-455f-8e97-7508b7f51774",
   "metadata": {},
   "outputs": [
    {
     "name": "stdout",
     "output_type": "stream",
     "text": [
      "[12.5, 20]\n"
     ]
    },
    {
     "data": {
      "image/png": "[encoded data removed]",
      "text/plain": [
       "<Figure size 640x480 with 1 Axes>"
      ]
     },
     "metadata": {},
     "output_type": "display_data"
    }
   ],
   "source": [
    "# 自定义 bins，例如 0° 到 180° 之间，每 5° 一个 bin\n",
    "bins = np.arange(0, 185, 2)  # 0, 5, 10, ..., 180\n",
    "\n",
    "# 计算 Si-O-Al 角度\n",
    "title = f'{bad_type[0]}-{bad_type[1]}-{bad_type[2]}'\n",
    "angles = angles\n",
    "# 计算角度分布\n",
    "bin_counts, bin_edges = np.histogram(angles, bins=bins, density=True)\n",
    "\n",
    "# 计算 bin 中心位置\n",
    "bin_centers = (bin_edges[:-1] + bin_edges[1:]) / 2\n",
    "print(range_dis)\n",
    "# 画折线图\n",
    "plt.plot(bin_centers, bin_counts, marker='o', linestyle='-', color='b', label=title)\n",
    "# 添加标签\n",
    "plt.xlabel('Bond Angle (°)')\n",
    "plt.ylabel('Probability Density')\n",
    "plt.title(f'{title} Angle Distribution')\n",
    "plt.legend()\n",
    "plt.grid(True)\n",
    "# 显示图像\n",
    "plt.show()"
   ]
  },
  {
   "cell_type": "markdown",
   "id": "65432310-ca22-41aa-ba04-a5df545b2d5b",
   "metadata": {},
   "source": [
    "# 常规的键角差距不大，但是std应该会存在着差异"
   ]
  },
  {
   "cell_type": "code",
   "execution_count": 308,
   "id": "e5ee2db9-00ad-45ab-be21-4633febee2f2",
   "metadata": {},
   "outputs": [
    {
     "name": "stdout",
     "output_type": "stream",
     "text": [
      "[12.5, 20]\n"
     ]
    },
    {
     "data": {
      "image/png": "[encoded data removed]",
      "text/plain": [
       "<Figure size 640x480 with 1 Axes>"
      ]
     },
     "metadata": {},
     "output_type": "display_data"
    }
   ],
   "source": [
    "# 自定义 bins，例如 0° 到 180° 之间，每 5° 一个 bin\n",
    "bins = np.arange(0, 185, 5)  # 0, 5, 10, ..., 180\n",
    "\n",
    "# 计算 Si-O-Al 角度\n",
    "title = f'{bad_type[0]}-{bad_type[1]}-{bad_type[2]}'\n",
    "angles = angles\n",
    "\n",
    "# 计算每个 bin 的分布（直方图）\n",
    "bin_counts, bin_edges = np.histogram(angles, bins=bins, density=True)\n",
    "\n",
    "# 计算 bin 中心位置\n",
    "bin_centers = (bin_edges[:-1] + bin_edges[1:]) / 2\n",
    "\n",
    "# 计算每个 bin 内的标准差（std）\n",
    "bin_indices = np.digitize(angles, bins)  # 找到角度属于哪个 bin\n",
    "bin_stds = []\n",
    "\n",
    "for i in range(1, len(bins)):  # 遍历每个 bin\n",
    "    bin_values = [angles[j] for j in range(len(angles)) if bin_indices[j] == i]\n",
    "    if len(bin_values) > 1:\n",
    "        bin_stds.append(np.std(bin_values))  # 计算标准差\n",
    "    else:\n",
    "        bin_stds.append(0)  # 避免单值情况的错误\n",
    "\n",
    "# 画折线图 + 误差棒\n",
    "plt.errorbar(bin_centers, bin_counts, yerr=bin_stds, fmt='-o', color='b', \n",
    "             ecolor='r', capsize=3, label='Si-O-Al Angle Distribution')\n",
    "\n",
    "# 添加标签\n",
    "plt.xlabel('Bond Angle (°)')\n",
    "plt.ylabel('Probability Density')\n",
    "plt.title('Si-O-Al Bond Angle Distribution with Std')\n",
    "plt.legend()\n",
    "plt.grid(True)\n",
    "print(range_dis)\n",
    "# 显示图像\n",
    "plt.show()\n"
   ]
  },
  {
   "cell_type": "code",
   "execution_count": null,
   "id": "cf8aa5f8-597e-43c1-b31a-96db663a4640",
   "metadata": {},
   "outputs": [],
   "source": []
  },
  {
   "cell_type": "code",
   "execution_count": null,
   "id": "c516c298-f033-48f4-9d63-5d72a21b96ec",
   "metadata": {},
   "outputs": [],
   "source": []
  },
  {
   "cell_type": "code",
   "execution_count": null,
   "id": "a20c6ff0-b7ba-4cb2-9675-c79cce3ce26b",
   "metadata": {},
   "outputs": [],
   "source": []
  },
  {
   "cell_type": "code",
   "execution_count": null,
   "id": "235913db-c5f5-484e-9676-91bf2fe40b91",
   "metadata": {},
   "outputs": [],
   "source": []
  },
  {
   "cell_type": "markdown",
   "id": "c5278947-51e3-4769-9b53-54f5a9fb9365",
   "metadata": {},
   "source": [
    "# 看一下PDF的分布"
   ]
  },
  {
   "cell_type": "code",
   "execution_count": 322,
   "id": "b511b8c9-2be3-4b6d-9517-eec2fcfa59f5",
   "metadata": {},
   "outputs": [],
   "source": [
    "import numpy as np\n",
    "import matplotlib.pyplot as plt\n",
    "\n",
    "def calculate_pdf(atom_list, start_ele_type, end_ele_type, box_size, bin_width=0.1, r_max=10):\n",
    "    distances = []\n",
    "    \n",
    "    # 遍历所有原子对\n",
    "    for i in range(len(atom_list)):\n",
    "        for j in range(i + 1, len(atom_list)):\n",
    "            atom1, atom2 = atom_list[i], atom_list[j]\n",
    "            \n",
    "            # 仅计算指定的原子对\n",
    "            if (atom1.type in start_ele_type and atom2.type in end_ele_type) or \\\n",
    "               (atom1.type in end_ele_type and atom2.type in start_ele_type):\n",
    "                \n",
    "                # 计算 PBC 处理后的最小距离\n",
    "                r = periodic_distance(atom1, atom2, box_size)\n",
    "                \n",
    "                # 仅考虑合理范围的距离\n",
    "                if r < r_max:\n",
    "                    distances.append(r)\n",
    "    \n",
    "    # 计算直方图\n",
    "    bins = np.arange(0, r_max, bin_width)\n",
    "    hist, _ = np.histogram(distances, bins=bins)\n",
    "\n",
    "    # 计算 bin 中心\n",
    "    bin_centers = (bins[:-1] + bins[1:]) / 2\n",
    "\n",
    "    # 归一化\n",
    "    shell_volumes = 4 * np.pi * bin_centers**2 * bin_width  # 球壳体积\n",
    "    number_density = len(atom_list) / (box_size**3)  # 平均原子密度\n",
    "\n",
    "    gr = hist / (shell_volumes * number_density * len(atom_list))  # 归一化，变成概率密度\n",
    "\n",
    "    return bin_centers, gr\n",
    "\n",
    "def periodic_distance(atom1, atom2, box_size):\n",
    "    \"\"\"计算 PBC 处理后的最小距离\"\"\"\n",
    "    delta = np.array([atom1.x - atom2.x, atom1.y - atom2.y, atom1.z - atom2.z])\n",
    "    delta -= np.round(delta / box_size) * box_size  # PBC 处理\n",
    "    return np.linalg.norm(delta)\n",
    "\n"
   ]
  },
  {
   "cell_type": "code",
   "execution_count": 324,
   "id": "142e2590-ec79-473b-987f-097bb42ee866",
   "metadata": {},
   "outputs": [
    {
     "data": {
      "image/png": "[encoded data removed]",
      "text/plain": [
       "<Figure size 640x480 with 1 Axes>"
      ]
     },
     "metadata": {},
     "output_type": "display_data"
    }
   ],
   "source": [
    "# 设定计算参数\n",
    "box_size = 30  # 立方体模拟盒大小\n",
    "bin_width = 0.1\n",
    "r_max = 10\n",
    "\n",
    "# 计算 Si-O 对的 PDF\n",
    "pdf_ele = ['Si', 'O']\n",
    "bin_centers, g_r = calculate_pdf(atom_list, pdf_ele, pdf_ele, box_size, bin_width, r_max)\n",
    "\n",
    "# 绘制 PDF 曲线\n",
    "plt.plot(bin_centers, g_r, marker='o', linestyle='-', color='b', label=f'g(r) for {pdf_ele[0]}-{pdf_ele[1]}')\n",
    "\n",
    "# 添加标签\n",
    "plt.xlabel('r (Å)')\n",
    "plt.ylabel('Probability Density g(r)')\n",
    "plt.title(f'Pair Distribution Function: {pdf_ele[0]}-{pdf_ele[1]}')\n",
    "plt.legend()\n",
    "plt.grid(True)\n",
    "\n",
    "# 显示图像\n",
    "plt.show()\n"
   ]
  },
  {
   "cell_type": "code",
   "execution_count": 316,
   "id": "d83afd28-f5fa-4c1e-a779-647572813909",
   "metadata": {},
   "outputs": [
    {
     "ename": "ValueError",
     "evalue": "operands could not be broadcast together with shapes (49,) (3,) ",
     "output_type": "error",
     "traceback": [
      "\u001b[1;31m---------------------------------------------------------------------------\u001b[0m",
      "\u001b[1;31mValueError\u001b[0m                                Traceback (most recent call last)",
      "Cell \u001b[1;32mIn[316], line 45\u001b[0m\n\u001b[0;32m     42\u001b[0m list_endpoints \u001b[38;5;241m=\u001b[39m [i \u001b[38;5;28;01mfor\u001b[39;00m i \u001b[38;5;129;01min\u001b[39;00m neibor_atom_list \u001b[38;5;28;01mif\u001b[39;00m i\u001b[38;5;241m.\u001b[39mtype \u001b[38;5;241m==\u001b[39m pdf_ele[\u001b[38;5;241m1\u001b[39m]]\n\u001b[0;32m     44\u001b[0m \u001b[38;5;66;03m# 计算径向分布 g(r)\u001b[39;00m\n\u001b[1;32m---> 45\u001b[0m r, g_r \u001b[38;5;241m=\u001b[39m compute_rdf(list_center, list_endpoints, Frame_boxsize, cutoff, bins)\n\u001b[0;32m     47\u001b[0m \u001b[38;5;66;03m# 绘制 PDF 曲线\u001b[39;00m\n\u001b[0;32m     48\u001b[0m plt\u001b[38;5;241m.\u001b[39mplot(r, g_r, marker\u001b[38;5;241m=\u001b[39m\u001b[38;5;124m'\u001b[39m\u001b[38;5;124mo\u001b[39m\u001b[38;5;124m'\u001b[39m, linestyle\u001b[38;5;241m=\u001b[39m\u001b[38;5;124m'\u001b[39m\u001b[38;5;124m-\u001b[39m\u001b[38;5;124m'\u001b[39m, color\u001b[38;5;241m=\u001b[39m\u001b[38;5;124m'\u001b[39m\u001b[38;5;124mb\u001b[39m\u001b[38;5;124m'\u001b[39m, label\u001b[38;5;241m=\u001b[39m\u001b[38;5;124mf\u001b[39m\u001b[38;5;124m'\u001b[39m\u001b[38;5;124mg(r) for \u001b[39m\u001b[38;5;132;01m{\u001b[39;00mpdf_ele[\u001b[38;5;241m0\u001b[39m]\u001b[38;5;132;01m}\u001b[39;00m\u001b[38;5;124m-\u001b[39m\u001b[38;5;132;01m{\u001b[39;00mpdf_ele[\u001b[38;5;241m1\u001b[39m]\u001b[38;5;132;01m}\u001b[39;00m\u001b[38;5;124m'\u001b[39m)\n",
      "Cell \u001b[1;32mIn[316], line 25\u001b[0m, in \u001b[0;36mcompute_rdf\u001b[1;34m(list_center, list_endpoints, box_size, cutoff, bins)\u001b[0m\n\u001b[0;32m     23\u001b[0m \u001b[38;5;66;03m# 计算径向分布 g(r)\u001b[39;00m\n\u001b[0;32m     24\u001b[0m number_density \u001b[38;5;241m=\u001b[39m \u001b[38;5;28mlen\u001b[39m(list_endpoints) \u001b[38;5;241m/\u001b[39m (box_size\u001b[38;5;241m*\u001b[39m\u001b[38;5;241m*\u001b[39m\u001b[38;5;241m3\u001b[39m)\n\u001b[1;32m---> 25\u001b[0m gr \u001b[38;5;241m=\u001b[39m bin_counts \u001b[38;5;241m/\u001b[39m (shell_volumes \u001b[38;5;241m*\u001b[39m number_density)\n\u001b[0;32m     27\u001b[0m \u001b[38;5;28;01mreturn\u001b[39;00m bin_centers, gr\n",
      "\u001b[1;31mValueError\u001b[0m: operands could not be broadcast together with shapes (49,) (3,) "
     ]
    }
   ],
   "source": [
    "import numpy as np\n",
    "import matplotlib.pyplot as plt\n",
    "\n",
    "def compute_rdf(list_center, list_endpoints, box_size, cutoff, bins):\n",
    "    \"\"\"计算径向分布函数 (g(r))\"\"\"\n",
    "    distances = []\n",
    "    \n",
    "    for center in list_center:\n",
    "        for endpoint in list_endpoints:\n",
    "            r = distance(center, endpoint, box_size)\n",
    "            if r < cutoff:\n",
    "                distances.append(r)\n",
    "    \n",
    "    distances = np.array(distances)\n",
    "    \n",
    "    # 计算分布直方图\n",
    "    bin_counts, bin_edges = np.histogram(distances, bins=bins, density=False)\n",
    "    \n",
    "    # 计算壳体体积\n",
    "    bin_centers = (bin_edges[:-1] + bin_edges[1:]) / 2\n",
    "    shell_volumes = (4/3) * np.pi * (bin_edges[1:]**3 - bin_edges[:-1]**3)\n",
    "    \n",
    "    # 计算径向分布 g(r)\n",
    "    number_density = len(list_endpoints) / (box_size**3)\n",
    "    gr = bin_counts / (shell_volumes * number_density)\n",
    "    \n",
    "    return bin_centers, gr\n",
    "\n",
    "def distance(atom1, atom2, box_size):\n",
    "    \"\"\"计算周期性边界条件 (PBC) 下的最小距离\"\"\"\n",
    "    delta = np.array([atom1.x - atom2.x, atom1.y - atom2.y, atom1.z - atom2.z])\n",
    "    delta -= np.round(delta / box_size) * box_size  # PBC 处理\n",
    "    return np.linalg.norm(delta)\n",
    "\n",
    "# 设定计算参数\n",
    "cutoff = 10.0  # 截断半径\n",
    "bins = np.linspace(0, cutoff, 50)  # 均匀划分 50 个 bin\n",
    "\n",
    "# 选择 Si-O 对\n",
    "pdf_ele = ['Si', 'O']\n",
    "list_center = [i for i in center_atom_list if i.type == pdf_ele[0]]\n",
    "list_endpoints = [i for i in neibor_atom_list if i.type == pdf_ele[1]]\n",
    "\n",
    "# 计算径向分布 g(r)\n",
    "r, g_r = compute_rdf(list_center, list_endpoints, Frame_boxsize, cutoff, bins)\n",
    "\n",
    "# 绘制 PDF 曲线\n",
    "plt.plot(r, g_r, marker='o', linestyle='-', color='b', label=f'g(r) for {pdf_ele[0]}-{pdf_ele[1]}')\n",
    "\n",
    "# 添加标签\n",
    "plt.xlabel('r (Å)')\n",
    "plt.ylabel('g(r)')\n",
    "plt.title(f'Radial Distribution Function: {pdf_ele[0]}-{pdf_ele[1]}')\n",
    "plt.legend()\n",
    "plt.grid(True)\n",
    "\n",
    "# 显示图像\n",
    "plt.show()\n"
   ]
  },
  {
   "cell_type": "code",
   "execution_count": null,
   "id": "0d5bdf65-7ee8-43d1-8f3f-1c5c5fe65653",
   "metadata": {},
   "outputs": [],
   "source": []
  },
  {
   "cell_type": "code",
   "execution_count": null,
   "id": "fb4ec064-c59c-47ca-a519-3046a69528d9",
   "metadata": {},
   "outputs": [],
   "source": []
  },
  {
   "cell_type": "code",
   "execution_count": null,
   "id": "5f0dca81-2257-4bc3-9a31-40b23fcd1ce5",
   "metadata": {},
   "outputs": [],
   "source": []
  },
  {
   "cell_type": "code",
   "execution_count": null,
   "id": "038b80e4-bc6d-42ea-973c-14b073b42610",
   "metadata": {},
   "outputs": [],
   "source": []
  },
  {
   "cell_type": "code",
   "execution_count": null,
   "id": "9f5534e6-fb4c-4419-a861-e6bad5fcc018",
   "metadata": {},
   "outputs": [],
   "source": []
  },
  {
   "cell_type": "code",
   "execution_count": null,
   "id": "d3697764-c93e-42e3-b5e7-2732c8a71879",
   "metadata": {},
   "outputs": [],
   "source": []
  }
 ],
 "metadata": {
  "kernelspec": {
   "display_name": "Python 3 (ipykernel)",
   "language": "python",
   "name": "python3"
  },
  "language_info": {
   "codemirror_mode": {
    "name": "ipython",
    "version": 3
   },
   "file_extension": ".py",
   "mimetype": "text/x-python",
   "name": "python",
   "nbconvert_exporter": "python",
   "pygments_lexer": "ipython3",
   "version": "3.12.3"
  },
  "widgets": {
   "application/vnd.jupyter.widget-state+json": {
    "state": {},
    "version_major": 2,
    "version_minor": 0
   }
  }
 },
 "nbformat": 4,
 "nbformat_minor": 5
}
