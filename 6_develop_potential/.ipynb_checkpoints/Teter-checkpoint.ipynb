{
 "cells": [
  {
   "cell_type": "code",
   "execution_count": 3,
   "id": "020f532a-cc74-4418-822a-ce510c2c4c04",
   "metadata": {},
   "outputs": [],
   "source": [
    "import numpy as np\n",
    "import matplotlib.pyplot as plt"
   ]
  },
  {
   "cell_type": "code",
   "execution_count": 183,
   "id": "312857ab-da8c-4c41-a827-e2cf6fa9e91d",
   "metadata": {},
   "outputs": [],
   "source": [
    "Number_of_Grids = 10000\n",
    "Minimum_Cutoff = 0.001\n",
    "Maximum_Cutoff = 10.00"
   ]
  },
  {
   "cell_type": "code",
   "execution_count": 195,
   "id": "06b518ef-ae47-4d0d-a2b2-d35cc92ab602",
   "metadata": {},
   "outputs": [
    {
     "name": "stdout",
     "output_type": "stream",
     "text": [
      "10000\n"
     ]
    }
   ],
   "source": [
    "r_list = np.linspace(Minimum_Cutoff,Maximum_Cutoff,Number_of_Grids)\n",
    "print(len(r_list))"
   ]
  },
  {
   "cell_type": "code",
   "execution_count": 193,
   "id": "ae04dd70-dd74-4b32-854b-abdf7477b2b5",
   "metadata": {},
   "outputs": [
    {
     "data": {
      "text/plain": [
       "array([0.001, 0.002, 0.003, 0.004, 0.005, 0.006, 0.007, 0.008, 0.009,\n",
       "       0.01 ])"
      ]
     },
     "execution_count": 193,
     "metadata": {},
     "output_type": "execute_result"
    }
   ],
   "source": [
    "r_list[:10]"
   ]
  },
  {
   "cell_type": "raw",
   "id": "06d20555-e29c-489e-8261-fd3f4d0c777a",
   "metadata": {},
   "source": [
    "# 整体参数\n",
    "Number_of_Grids:            10000\n",
    "Minimum_Cutoff(A):          0.001\n",
    "Maximum_Cutoff(A):          10.00\n",
    "# Table-文件示例\n",
    "\n",
    "O2-O2-\n",
    "N  10000 R  0.001000 10.000000\n",
    "       1           0.00100  8.68917730E+11    2.67388995E+15\n",
    "       2           0.00200  8.09372739E+10    1.31247547E+14\n",
    "。。。\n",
    "O2-Si4+\n",
    "N  10000 R  0.001000 10.000000\n",
    "\n",
    "       1           0.00100  1.82214551E+13    6.36304458E+16\n",
    "       2           0.00200  1.19299084E+12    2.20820055E+15\n",
    "。。。\n",
    "Si4+Si4+\n",
    "N  10000 R  0.001000 10.000000\n",
    "\n",
    "       1           0.00100  0.00000000E+00    -0.00000000E+00\n",
    "       2           0.00200  0.00000000E+00    -0.00000000E+00\n",
    "。。。\n",
    "# 使用Table文件示例\n",
    "#set            pair style\n",
    "pair_style      hybrid/overlay coul/long 10.0 table linear 10000\n",
    "pair_coeff      * * coul/long\n",
    "pair_coeff      1 1 table TABLE-pair O2-O2-    10.0\n",
    "pair_coeff      1 2 table TABLE-pair O2-Si4+   10.0\n",
    "pair_coeff      2 2 table TABLE-pair Si4+Si4+  10.0"
   ]
  },
  {
   "cell_type": "markdown",
   "id": "86997754-21ba-42df-a136-fe02656c60a2",
   "metadata": {},
   "source": [
    "# 定义势函数参数"
   ]
  },
  {
   "cell_type": "code",
   "execution_count": 51,
   "id": "31b54cbd-408b-4e46-8ba7-da71a0803f20",
   "metadata": {},
   "outputs": [],
   "source": [
    "class ElementPairPotential:\n",
    "    def __init__(self, pair, A=None, rho=None, C=None, B=None, D=None, n=None, r0=None, charge1=None, charge2=None):\n",
    "        \"\"\"\n",
    "        初始化每个元素对的势函数参数\n",
    "\n",
    "        Args:\n",
    "        - pair (str): 元素对名称，例如 \"B-O\" 或 \"O-O\"\n",
    "        - A (float): Buckingham 势的指数项前因子 (eV)\n",
    "        - rho (float): Buckingham 势的距离参数 (Å)\n",
    "        - C (float): Buckingham 势的色散项 (eV·Å⁶)\n",
    "        - B (float): 修正势的幂项前因子 (eV·Åⁿ)\n",
    "        - D (float): 修正势的平方项前因子 (eV/Å²)\n",
    "        - n (float): 修正势的幂指数\n",
    "        - r0 (float): 拼接点 (Å)\n",
    "        - charge1 (float): 原子 1 的电荷 (单位: e)\n",
    "        - charge2 (float): 原子 2 的电荷 (单位: e)\n",
    "        \"\"\"\n",
    "        self.pair = pair\n",
    "        self.A = A\n",
    "        self.rho = rho\n",
    "        self.C = C\n",
    "        self.B = B\n",
    "        self.D = D\n",
    "        self.n = n\n",
    "        self.r0 = r0\n",
    "        self.charge1 = charge1\n",
    "        self.charge2 = charge2\n",
    "\n",
    "    def print_parameters(self):\n",
    "        \"\"\"打印参数\"\"\"\n",
    "        print(f\"Pair: {self.pair}\")\n",
    "        print(f\"  A = {self.A}, rho = {self.rho}, C = {self.C}\")\n",
    "        print(f\"  B = {self.B}, D = {self.D}, n = {self.n}\")\n",
    "        print(f\"  r0 = {self.r0}, charge1 = {self.charge1}, charge2 = {self.charge2}\\n\")\n"
   ]
  },
  {
   "cell_type": "code",
   "execution_count": 57,
   "id": "4a978002-a896-4154-a79d-cd8292fa5822",
   "metadata": {},
   "outputs": [],
   "source": [
    "# 定义元素对的参数\n",
    "Para_O_O = ElementPairPotential(\n",
    "    pair=\"O-O\",\n",
    "    A=2029.2204,\n",
    "    rho=0.343645,\n",
    "    C=192.58,\n",
    "    B=45.868,\n",
    "    D=-0.333,\n",
    "    n=3.402,\n",
    "    r0=1.903,\n",
    "    charge1=-1.2,\n",
    "    charge2=-1.2\n",
    ")\n",
    "\n",
    "Para_Si_O = ElementPairPotential(\n",
    "    pair=\"Si-O\",\n",
    "    A=13702.9050,\n",
    "    rho=0.193817,\n",
    "    C=54.681,\n",
    "    B=28.950,\n",
    "    D=-3.059,\n",
    "    n=3.932,\n",
    "    r0=1.168,\n",
    "    charge1=+2.4,\n",
    "    charge2=-1.2\n",
    ")"
   ]
  },
  {
   "cell_type": "code",
   "execution_count": 59,
   "id": "c6b53ebf-1088-4046-a3ee-6d48f6b51b5e",
   "metadata": {},
   "outputs": [
    {
     "name": "stdout",
     "output_type": "stream",
     "text": [
      "Pair: Si-O\n",
      "  A = 13702.905, rho = 0.193817, C = 54.681\n",
      "  B = 28.95, D = -3.059, n = 3.932\n",
      "  r0 = 1.168, charge1 = 2.4, charge2 = -1.2\n",
      "\n"
     ]
    }
   ],
   "source": [
    "Para_Si_O.print_parameters()"
   ]
  },
  {
   "cell_type": "code",
   "execution_count": 144,
   "id": "a95a25d7-a439-42e2-9892-f59283dbab3b",
   "metadata": {},
   "outputs": [
    {
     "data": {
      "text/plain": [
       "2.3066178143822714e-28"
      ]
     },
     "execution_count": 144,
     "metadata": {},
     "output_type": "execute_result"
    }
   ],
   "source": [
    "(1.602*10**-19)**2/(4*np.pi*8.854*10**-12 )"
   ]
  },
  {
   "cell_type": "code",
   "execution_count": null,
   "id": "c6aead28-9402-4474-98ce-395be1e3299b",
   "metadata": {},
   "outputs": [],
   "source": [
    "8.854187817 × 10-12"
   ]
  },
  {
   "cell_type": "code",
   "execution_count": 146,
   "id": "c8303756-ed3e-4204-9f93-3cbab79af4b7",
   "metadata": {},
   "outputs": [
    {
     "data": {
      "text/plain": [
       "0.007297353053019138"
      ]
     },
     "execution_count": 146,
     "metadata": {},
     "output_type": "execute_result"
    }
   ],
   "source": [
    "1/137.03599"
   ]
  },
  {
   "cell_type": "markdown",
   "id": "9b015e30-d71f-4ffd-87c7-b3946ff10307",
   "metadata": {},
   "source": [
    "# 定义势函数"
   ]
  },
  {
   "cell_type": "code",
   "execution_count": 209,
   "id": "2c982895-482a-4a57-8171-5241e2549d23",
   "metadata": {},
   "outputs": [],
   "source": [
    "def coulomb_potential(r, charge1, charge2):\n",
    "    \"\"\"计算库伦势\"\"\"\n",
    "    epsilon_0, e_spot, pi = 8.854187817*(10**-12),1.602176634*(10**-19),np.pi\n",
    "    if charge1 is None or charge2 is None:\n",
    "        raise ValueError(\"Missing charges for Coulomb interaction\")\n",
    "    return (charge1 * charge2 * e_spot**2 ) / (4*pi*epsilon_0*r) \n",
    "\n",
    "\n",
    "def buckingham_potential(r, A, rho, C):\n",
    "    \"\"\"计算 Buckingham 势\"\"\"\n",
    "    if A is None or rho is None or C is None:\n",
    "        raise ValueError(\"Missing Buckingham parameters\")\n",
    "    return A * np.exp(-r / rho) - C / r**6\n",
    "\n",
    "\n",
    "def correction_potential(r, B, D, n):\n",
    "    \"\"\"计算修正势函数\"\"\"\n",
    "    if B is None or D is None or n is None:\n",
    "        raise ValueError(\"Missing correction parameters\")\n",
    "    return B / r**n + D * r**2\n",
    "\n",
    "\n",
    "def combined_potential(r, params):\n",
    "    \"\"\"\n",
    "    计算拼接后的组合势函数，包括库伦项\n",
    "\n",
    "    Args:\n",
    "    - r (float): 原子间距离 (Å)\n",
    "    - params (ElementPairPotential): 元素对的参数实例\n",
    "\n",
    "    Returns:\n",
    "    - float: 势能值 (eV)\n",
    "    \"\"\"\n",
    "    # 库伦势\n",
    "    coulomb = coulomb_potential(r, params.charge1, params.charge2)\n",
    "\n",
    "    # 判断使用 Buckingham 势或修正势\n",
    "    if r > params.r0:\n",
    "        buckingham = buckingham_potential(r, params.A, params.rho, params.C)\n",
    "        return coulomb + buckingham\n",
    "    else:\n",
    "        correction = correction_potential(r, params.B, params.D, params.n)\n",
    "        return coulomb + correction"
   ]
  },
  {
   "cell_type": "code",
   "execution_count": null,
   "id": "cea94e34-b2be-4946-abea-358a14efdcf8",
   "metadata": {},
   "outputs": [],
   "source": [
    "# 变量为 A，C，rho，除此之外还要求Table连续，B和 D是拟合参数\n",
    "\n"
   ]
  },
  {
   "cell_type": "markdown",
   "id": "b1be27fa-45bc-4f3f-b78f-acf053356af8",
   "metadata": {},
   "source": [
    "# 根据不同的初始值计算B，D，n"
   ]
  },
  {
   "cell_type": "code",
   "execution_count": 231,
   "id": "f20759fa-67f3-49b1-b698-d480b355b25a",
   "metadata": {},
   "outputs": [
    {
     "name": "stdout",
     "output_type": "stream",
     "text": [
      "2.3070775512473707e-28\n"
     ]
    }
   ],
   "source": [
    "# 常数\n",
    "epsilon_0, e_spot, pi = 8.854187817*(10**-12),1.602176634*(10**-19),np.pi\n",
    "k0 = e_spot**2/(4*pi*epsilon_0)\n",
    "print(k0)"
   ]
  },
  {
   "cell_type": "code",
   "execution_count": 233,
   "id": "35a7a6f7-9bdb-4100-b443-7592fc243fb2",
   "metadata": {},
   "outputs": [],
   "source": [
    "# 截断函数的六个方程\n",
    "def Teter_potential(r, A, rho, C, charge1, charge2):\n",
    "    \"\"\"计算 Buckingham 势的值\"\"\"\n",
    "    Coulomb = (charge1 * charge2 * k0) / r\n",
    "    Buckingham = A * np.exp(-r / rho) - C / r**6\n",
    "    return Coulomb + Buckingham\n",
    "\n",
    "#########\n",
    "def Teter_derivative_1(r, A, rho, C, charge1, charge2):\n",
    "    \"\"\"计算 Buckingham 势的一阶导数\"\"\"\n",
    "    coulomb = -(charge1 * charge2 * k0) /  r**2\n",
    "    exp_term = -(A / rho) * np.exp(-r / rho)\n",
    "    dispersion = 6 * C / r**7\n",
    "    return coulomb + exp_term + dispersion\n",
    "\n",
    "def Teter_derivative_2(r, A, rho, C,charge1, charge2):\n",
    "    \"\"\"计算 Buckingham 势的二阶导数\"\"\"\n",
    "    coulomb = 2 * (charge1 * charge2 * k0) /  r**3\n",
    "    exp_term = (A / rho**2) * np.exp(-r / rho)\n",
    "    dispersion = -42 * C / r**8\n",
    "    return coulomb + exp_term + dispersion\n",
    "\n",
    "def Correction_function(r, B, D, n):\n",
    "    \"\"\"计算修正势的值\"\"\"\n",
    "    return B / r**n + D * r**2\n",
    "\n",
    "def Correction_derivative_1(r, B, D, n):\n",
    "    \"\"\"计算修正势的一阶导数\"\"\"\n",
    "    return -n * B / r**(n + 1) + 2 * D * r\n",
    "\n",
    "def Correction_derivative_2(r, B, D, n):\n",
    "    \"\"\"计算修正势的二阶导数\"\"\"\n",
    "    return n * (n + 1) * B / r**(n + 2) + 2 * D\n"
   ]
  },
  {
   "cell_type": "code",
   "execution_count": 235,
   "id": "1063451e-5383-4d0d-8fa6-c25cda5e60b7",
   "metadata": {},
   "outputs": [],
   "source": [
    "# 拟合r0"
   ]
  },
  {
   "cell_type": "code",
   "execution_count": 273,
   "id": "7e3e9e87-c764-48c3-8622-c9f64b51a051",
   "metadata": {},
   "outputs": [
    {
     "name": "stdout",
     "output_type": "stream",
     "text": [
      "87\n",
      "r0 = 1.100, B = 31.57716, D = -6.99396, n = 2.62598\n",
      "r0 = 1.101, B = 31.49003, D = -6.89343, n = 2.64904\n",
      "r0 = 1.102, B = 31.40511, D = -6.79492, n = 2.67194\n",
      "r0 = 1.104, B = 31.24165, D = -6.60378, n = 2.71734\n",
      "r0 = 1.105, B = 31.16301, D = -6.51103, n = 2.73983\n",
      "r0 = 1.106, B = 31.08637, D = -6.42011, n = 2.76219\n",
      "r0 = 1.107, B = 31.01168, D = -6.33095, n = 2.78441\n",
      "r0 = 1.108, B = 30.93890, D = -6.24352, n = 2.80651\n",
      "r0 = 1.109, B = 30.86797, D = -6.15777, n = 2.82847\n",
      "r0 = 1.110, B = 30.79886, D = -6.07366, n = 2.85031\n",
      "r0 = 1.111, B = 30.73153, D = -5.99114, n = 2.87202\n",
      "r0 = 1.112, B = 30.66593, D = -5.91018, n = 2.89361\n",
      "r0 = 1.113, B = 30.60202, D = -5.83074, n = 2.91507\n",
      "r0 = 1.114, B = 30.53978, D = -5.75278, n = 2.93642\n",
      "r0 = 1.115, B = 30.47916, D = -5.67625, n = 2.95765\n",
      "r0 = 1.116, B = 30.42013, D = -5.60114, n = 2.97876\n",
      "r0 = 1.117, B = 30.36265, D = -5.52740, n = 2.99975\n",
      "r0 = 1.118, B = 30.30670, D = -5.45500, n = 3.02063\n",
      "r0 = 1.119, B = 30.25223, D = -5.38390, n = 3.04140\n",
      "r0 = 1.120, B = 30.19923, D = -5.31409, n = 3.06205\n",
      "r0 = 1.121, B = 30.14765, D = -5.24552, n = 3.08260\n",
      "r0 = 1.122, B = 30.09747, D = -5.17816, n = 3.10304\n",
      "r0 = 1.123, B = 30.04867, D = -5.11200, n = 3.12338\n",
      "r0 = 1.124, B = 30.00121, D = -5.04699, n = 3.14360\n",
      "r0 = 1.125, B = 29.95507, D = -4.98312, n = 3.16373\n",
      "r0 = 1.126, B = 29.91022, D = -4.92036, n = 3.18375\n",
      "r0 = 1.127, B = 29.86664, D = -4.85867, n = 3.20367\n",
      "r0 = 1.129, B = 29.78319, D = -4.73846, n = 3.24322\n",
      "r0 = 1.130, B = 29.74328, D = -4.67988, n = 3.26285\n",
      "r0 = 1.131, B = 29.70454, D = -4.62229, n = 3.28238\n",
      "r0 = 1.132, B = 29.66695, D = -4.56567, n = 3.30182\n",
      "r0 = 1.133, B = 29.63050, D = -4.50999, n = 3.32117\n",
      "r0 = 1.134, B = 29.59516, D = -4.45524, n = 3.34042\n",
      "r0 = 1.135, B = 29.56091, D = -4.40139, n = 3.35958\n",
      "r0 = 1.136, B = 29.52774, D = -4.34843, n = 3.37866\n",
      "r0 = 1.137, B = 29.49563, D = -4.29633, n = 3.39764\n",
      "r0 = 1.138, B = 29.46455, D = -4.24508, n = 3.41654\n",
      "r0 = 1.139, B = 29.43450, D = -4.19466, n = 3.43536\n",
      "r0 = 1.140, B = 29.40544, D = -4.14505, n = 3.45409\n",
      "r0 = 1.141, B = 29.37738, D = -4.09624, n = 3.47273\n",
      "r0 = 1.142, B = 29.35029, D = -4.04821, n = 3.49129\n",
      "r0 = 1.143, B = 29.32415, D = -4.00093, n = 3.50977\n",
      "r0 = 1.144, B = 29.29895, D = -3.95441, n = 3.52818\n",
      "r0 = 1.145, B = 29.27468, D = -3.90861, n = 3.54650\n",
      "r0 = 1.146, B = 29.25132, D = -3.86353, n = 3.56474\n",
      "r0 = 1.147, B = 29.22886, D = -3.81915, n = 3.58291\n",
      "r0 = 1.148, B = 29.20728, D = -3.77546, n = 3.60100\n",
      "r0 = 1.149, B = 29.18657, D = -3.73245, n = 3.61901\n",
      "r0 = 1.152, B = 29.14772, D = -3.64838, n = 3.65482\n",
      "r0 = 1.154, B = 29.11220, D = -3.56685, n = 3.69034\n",
      "r0 = 1.155, B = 29.09565, D = -3.52701, n = 3.70799\n",
      "r0 = 1.156, B = 29.07991, D = -3.48776, n = 3.72558\n",
      "r0 = 1.157, B = 29.06495, D = -3.44910, n = 3.74309\n",
      "r0 = 1.158, B = 29.05078, D = -3.41102, n = 3.76054\n",
      "r0 = 1.159, B = 29.03736, D = -3.37349, n = 3.77792\n",
      "r0 = 1.160, B = 29.02471, D = -3.33653, n = 3.79524\n",
      "r0 = 1.162, B = 29.00162, D = -3.26421, n = 3.82967\n",
      "r0 = 1.163, B = 28.99118, D = -3.22883, n = 3.84679\n",
      "r0 = 1.164, B = 28.98145, D = -3.19397, n = 3.86385\n",
      "r0 = 1.165, B = 28.97244, D = -3.15962, n = 3.88085\n",
      "r0 = 1.166, B = 28.96412, D = -3.12575, n = 3.89778\n",
      "r0 = 1.167, B = 28.95650, D = -3.09237, n = 3.91466\n",
      "r0 = 1.169, B = 28.94330, D = -3.02703, n = 3.94824\n",
      "r0 = 1.171, B = 28.93278, D = -2.96352, n = 3.98158\n",
      "r0 = 1.172, B = 28.92851, D = -2.93244, n = 3.99817\n",
      "r0 = 1.173, B = 28.92488, D = -2.90178, n = 4.01470\n",
      "r0 = 1.175, B = 28.91954, D = -2.84175, n = 4.04759\n",
      "r0 = 1.176, B = 28.91781, D = -2.81235, n = 4.06396\n",
      "r0 = 1.179, B = 28.91633, D = -2.72656, n = 4.11275\n",
      "r0 = 1.180, B = 28.91704, D = -2.69873, n = 4.12891\n",
      "r0 = 1.181, B = 28.91836, D = -2.67128, n = 4.14502\n",
      "r0 = 1.182, B = 28.92027, D = -2.64421, n = 4.16108\n",
      "r0 = 1.183, B = 28.92276, D = -2.61749, n = 4.17710\n",
      "r0 = 1.184, B = 28.92583, D = -2.59114, n = 4.19306\n",
      "r0 = 1.185, B = 28.92948, D = -2.56513, n = 4.20898\n",
      "r0 = 1.186, B = 28.93370, D = -2.53947, n = 4.22485\n",
      "r0 = 1.187, B = 28.93849, D = -2.51415, n = 4.24067\n",
      "r0 = 1.188, B = 28.94383, D = -2.48916, n = 4.25645\n",
      "r0 = 1.189, B = 28.94973, D = -2.46451, n = 4.27218\n",
      "r0 = 1.190, B = 28.95619, D = -2.44017, n = 4.28787\n",
      "r0 = 1.191, B = 28.96319, D = -2.41615, n = 4.30351\n",
      "r0 = 1.192, B = 28.97073, D = -2.39244, n = 4.31911\n",
      "r0 = 1.194, B = 28.98743, D = -2.34595, n = 4.35018\n",
      "r0 = 1.196, B = 29.00626, D = -2.30064, n = 4.38109\n",
      "r0 = 1.197, B = 29.01647, D = -2.27841, n = 4.39648\n",
      "r0 = 1.198, B = 29.02719, D = -2.25648, n = 4.41184\n",
      "r0 = 1.199, B = 29.03843, D = -2.23481, n = 4.42715\n"
     ]
    },
    {
     "name": "stderr",
     "output_type": "stream",
     "text": [
      "C:\\Users\\81004\\AppData\\Local\\Temp\\ipykernel_19656\\2686651772.py:36: RuntimeWarning: xtol=0.000000 is too small, no further improvement in the approximate\n",
      "  solution is possible.\n",
      "  solution = fsolve(equations, initial_guess, xtol=1e-40)\n",
      "C:\\Users\\81004\\AppData\\Local\\Temp\\ipykernel_19656\\2686651772.py:36: RuntimeWarning: The iteration is not making good progress, as measured by the \n",
      "  improvement from the last ten iterations.\n",
      "  solution = fsolve(equations, initial_guess, xtol=1e-40)\n",
      "C:\\Users\\81004\\AppData\\Local\\Temp\\ipykernel_19656\\2686651772.py:36: RuntimeWarning: The iteration is not making good progress, as measured by the \n",
      "  improvement from the last five Jacobian evaluations.\n",
      "  solution = fsolve(equations, initial_guess, xtol=1e-40)\n"
     ]
    }
   ],
   "source": [
    "from scipy.optimize import fsolve\n",
    "import random\n",
    "# 要求左边近距离大，右边Teter大\n",
    "def another_judge(A, rho, C, charge1, charge2, r0, B, D, n):\n",
    "    r_left,r_right = r0-1e-5, r0+1e-5\n",
    "    compare_left = Teter_potential(r_left, A, rho, C, charge1, charge2) - Correction_function(r_left, B, D, n)\n",
    "    compare_right = Teter_potential(r_left, A, rho, C, charge1, charge2) - Correction_function(r_right, B, D, n)\n",
    "    if compare_left<0 and compare_right>0:\n",
    "        return True\n",
    "    else:\n",
    "        return False\n",
    "# 解方程的主函数\n",
    "def solve_correction_params(A, rho, C, charge1, charge2, r0_range):\n",
    "    \"\"\"\n",
    "    遍历 r0 的范围，寻找合适的 B, D, n\n",
    "    \"\"\"\n",
    "    results = []\n",
    "    \n",
    "    # 遍历 r0 从 0.1 到 5.0\n",
    "    for r0 in r0_range:\n",
    "        def equations(variables):\n",
    "            B, D, n = variables\n",
    "            # 方程 1：函数值相等\n",
    "            eq1 = Teter_potential(r0, A, rho, C, charge1, charge2) - Correction_function(r0, B, D, n)\n",
    "            # 方程 2：一阶导数相等\n",
    "            eq2 = Teter_derivative_1(r0, A, rho, C, charge1, charge2) - Correction_derivative_1(r0, B, D, n)\n",
    "            # 方程 3：二阶导数相等\n",
    "            eq3 = Teter_derivative_2(r0, A, rho, C, charge1, charge2) - Correction_derivative_2(r0, B, D, n)\n",
    "            return [eq1, eq2, eq3]\n",
    "        \n",
    "        # 初始猜测值\n",
    "        initial_guess = [random.uniform(1, 10), random.uniform(1, 10), random.uniform(1, 10)]  # B, D, n 的初始猜测值\n",
    "        \n",
    "        # 使用 fsolve 解方程\n",
    "        try:\n",
    "            solution = fsolve(equations, initial_guess, xtol=1e-40)\n",
    "            B, D, n = solution\n",
    "            # 检查是否满足物理意义\n",
    "            if another_judge(A, rho, C, charge1, charge2, r0, B, D, n):\n",
    "                results.append((r0, B, D, n))\n",
    "        except RuntimeError:\n",
    "            # 如果 fsolve 无法收敛，跳过\n",
    "            continue\n",
    "    \n",
    "    return results\n",
    "\n",
    "\n",
    "# 示例输入参数\n",
    "A = 13702.9050  # eV\n",
    "rho = 0.193817  # Å\n",
    "C = 54.681  # eV·Å^6\n",
    "charge1 = 2.4  # Si 的部分电荷\n",
    "charge2 = -1.2  # O 的部分电荷\n",
    "\n",
    "# r0 的范围\n",
    "r0_range = np.linspace(1.1, 1.2, 100)\n",
    "\n",
    "# 计算结果\n",
    "results = solve_correction_params(A, rho, C, charge1, charge2, r0_range)\n",
    "\n",
    "# 输出结果\n",
    "print(len(results))\n",
    "for r0, B, D, n in results:\n",
    "    print(f\"r0 = {r0:.3f}, B = {B:.5f}, D = {D:.5f}, n = {n:.5f}\")"
   ]
  },
  {
   "cell_type": "code",
   "execution_count": 257,
   "id": "c5da8957-d534-460d-9c26-7a0b123cec8b",
   "metadata": {},
   "outputs": [
    {
     "data": {
      "text/plain": [
       "(1.014949494949495,\n",
       " 69.17724663111528,\n",
       " -45.137849920847366,\n",
       " -0.16613300125885147)"
      ]
     },
     "execution_count": 257,
     "metadata": {},
     "output_type": "execute_result"
    }
   ],
   "source": [
    "results[0]"
   ]
  },
  {
   "cell_type": "code",
   "execution_count": 275,
   "id": "68a5dbc5-471c-4a43-a11a-584e64a00972",
   "metadata": {},
   "outputs": [
    {
     "name": "stdout",
     "output_type": "stream",
     "text": [
      "1.7763568394002505e-15 0.0 2.842170943040401e-14\n"
     ]
    }
   ],
   "source": [
    "# 示例输入参数\n",
    "A = 13702.9050  # eV\n",
    "rho = 0.193817  # Å\n",
    "C = 54.681  # eV·Å^6\n",
    "charge1 = 2.4  # Si 的部分电荷\n",
    "charge2 = -1.2  # O 的部分电荷\n",
    "######\n",
    "r0 , B, D , n = results[24]\n",
    "delta_0 = Teter_potential(r0, A, rho, C, charge1, charge2) - Correction_function(r0, B, D, n)\n",
    "# 方程 2：一阶导数相等\n",
    "delta_1 = Teter_derivative_1(r0, A, rho, C, charge1, charge2) - Correction_derivative_1(r0, B, D, n)\n",
    "# 方程 3：二阶导数相等\n",
    "delta_2 = eq3 = Teter_derivative_2(r0, A, rho, C, charge1, charge2) - Correction_derivative_2(r0, B, D, n)\n",
    "\n",
    "print(delta_0,delta_1,delta_2)"
   ]
  },
  {
   "cell_type": "code",
   "execution_count": null,
   "id": "0fda0573-ddcf-4abf-af2b-7d01044a3b00",
   "metadata": {},
   "outputs": [],
   "source": []
  },
  {
   "cell_type": "code",
   "execution_count": null,
   "id": "996a9837-b866-40bd-974a-690e06e27699",
   "metadata": {},
   "outputs": [],
   "source": []
  },
  {
   "cell_type": "markdown",
   "id": "d7f10b78-efb5-4aa2-94b7-8969c7b72791",
   "metadata": {},
   "source": [
    "# 输出势函数"
   ]
  },
  {
   "cell_type": "code",
   "execution_count": 211,
   "id": "d4e885b3-d75b-42eb-bdf1-e78ae58e164b",
   "metadata": {},
   "outputs": [
    {
     "name": "stdout",
     "output_type": "stream",
     "text": [
      "r = 0.80 Å, Potential = 67.65658 eV\n"
     ]
    }
   ],
   "source": [
    "# 单个距离的计算\n",
    "r = 0.8\n",
    "potential = combined_potential(r, Para_Si_O)\n",
    "print(f\"r = {r:.2f} Å, Potential = {potential:.5f} eV\")\n",
    "\n",
    "# 一组距离的计算\n",
    "r_values = np.linspace(0.5, 2.5, 10000)\n",
    "potentials = [combined_potential(r, Para_Si_O) for r in r_values]\n"
   ]
  },
  {
   "cell_type": "code",
   "execution_count": 213,
   "id": "cb72a2a2-6ab6-4419-9020-ba1bb05bca50",
   "metadata": {},
   "outputs": [
    {
     "name": "stdout",
     "output_type": "stream",
     "text": [
      "1.65991599159916\n"
     ]
    }
   ],
   "source": [
    "for i,j in zip(r_values,potentials):\n",
    "   if abs(j)<0.0005:\n",
    "       print(i)"
   ]
  },
  {
   "cell_type": "code",
   "execution_count": 215,
   "id": "316f027a-a769-4a45-be20-af36c70f5ba0",
   "metadata": {},
   "outputs": [
    {
     "data": {
      "text/plain": [
       "[<matplotlib.lines.Line2D at 0x1701e825850>]"
      ]
     },
     "execution_count": 215,
     "metadata": {},
     "output_type": "execute_result"
    },
    {
     "data": {
      "image/png": "[encoded data removed]",
      "text/plain": [
       "<Figure size 640x480 with 1 Axes>"
      ]
     },
     "metadata": {},
     "output_type": "display_data"
    }
   ],
   "source": [
    "plt.plot(r_values,potentials)\n"
   ]
  },
  {
   "cell_type": "code",
   "execution_count": null,
   "id": "8ad10301-8720-42b1-b94a-2343150974d9",
   "metadata": {},
   "outputs": [],
   "source": []
  }
 ],
 "metadata": {
  "kernelspec": {
   "display_name": "Python 3 (ipykernel)",
   "language": "python",
   "name": "python3"
  },
  "language_info": {
   "codemirror_mode": {
    "name": "ipython",
    "version": 3
   },
   "file_extension": ".py",
   "mimetype": "text/x-python",
   "name": "python",
   "nbconvert_exporter": "python",
   "pygments_lexer": "ipython3",
   "version": "3.12.3"
  }
 },
 "nbformat": 4,
 "nbformat_minor": 5
}
