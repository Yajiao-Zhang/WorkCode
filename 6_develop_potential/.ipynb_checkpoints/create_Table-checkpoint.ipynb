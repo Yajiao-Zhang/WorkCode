{
 "cells": [
  {
   "cell_type": "code",
   "execution_count": 1,
   "id": "6d58bb9d-6448-4abc-93a8-ded8a68bd8be",
   "metadata": {},
   "outputs": [],
   "source": [
    "import numpy as np\n",
    "import matplotlib.pyplot as plt"
   ]
  },
  {
   "cell_type": "code",
   "execution_count": 5,
   "id": "19c650b6-801e-4feb-9174-075099fc60a8",
   "metadata": {},
   "outputs": [],
   "source": [
    "# 生成Table文件\n",
    "Si_O = [12702.905, 0.53817, 20.681, 2278.0585428548206, -317.58083271789786, 1.2827443459759618, 1.0040080160320641]\n",
    "O_O = [1829.2204, 0.53645, 182.58, -40.45358967164747, 166.13382067912485, -5.233911689599193, 1.188376753507014]\n",
    "\n",
    "###\n",
    "write_content = ['O2-O2-','O2-Si4+','Si4+Si4+']\n",
    "# 输出文件位置\n",
    "file_path = r'C:\\Users\\81004\\Desktop\\Table\\TABLE-pair1'\n",
    "# 精度\n",
    "#######\n",
    "Number_of_Grids = 10000\n",
    "Minimum_Cutoff = 0.001\n",
    "Maximum_Cutoff = 10.00"
   ]
  },
  {
   "cell_type": "code",
   "execution_count": 7,
   "id": "65eaff0f-5b64-4bad-8572-5d0e40a592a9",
   "metadata": {},
   "outputs": [
    {
     "name": "stdout",
     "output_type": "stream",
     "text": [
      "10000\n"
     ]
    }
   ],
   "source": [
    "r_list = np.linspace(Minimum_Cutoff,Maximum_Cutoff,Number_of_Grids)\n",
    "print(len(r_list))"
   ]
  },
  {
   "cell_type": "code",
   "execution_count": 9,
   "id": "0638dff2-cda4-4108-9ca3-26a1639b0fe6",
   "metadata": {},
   "outputs": [],
   "source": [
    "class ElementPairPotential:\n",
    "    def __init__(self, pair, A=None, rho=None, C=None, B=None, D=None, n=None, r0=None, charge1=None, charge2=None):\n",
    "        \"\"\"\n",
    "        初始化每个元素对的势函数参数\n",
    "\n",
    "        Args:\n",
    "        - pair (str): 元素对名称，例如 \"B-O\" 或 \"O-O\"\n",
    "        - A (float): Buckingham 势的指数项前因子 (eV)\n",
    "        - rho (float): Buckingham 势的距离参数 (Å)\n",
    "        - C (float): Buckingham 势的色散项 (eV·Å⁶)\n",
    "        - B (float): 修正势的幂项前因子 (eV·Åⁿ)\n",
    "        - D (float): 修正势的平方项前因子 (eV/Å²)\n",
    "        - n (float): 修正势的幂指数\n",
    "        - r0 (float): 拼接点 (Å)\n",
    "        - charge1 (float): 原子 1 的电荷 (单位: e)\n",
    "        - charge2 (float): 原子 2 的电荷 (单位: e)\n",
    "        \"\"\"\n",
    "        self.pair = pair\n",
    "        self.A = A\n",
    "        self.rho = rho\n",
    "        self.C = C\n",
    "        self.B = B\n",
    "        self.D = D\n",
    "        self.n = n\n",
    "        self.r0 = r0\n",
    "        self.charge1 = charge1\n",
    "        self.charge2 = charge2\n",
    "\n",
    "    def print_parameters(self):\n",
    "        \"\"\"打印参数\"\"\"\n",
    "        print(f\"Pair: {self.pair}\")\n",
    "        print(f\"  A = {self.A}, rho = {self.rho}, C = {self.C}\")\n",
    "        print(f\"  B = {self.B}, D = {self.D}, n = {self.n}, r0 = {self.r0},\")\n",
    "        print(f\"  charge1 = {self.charge1}, charge2 = {self.charge2}\\n\")\n"
   ]
  },
  {
   "cell_type": "code",
   "execution_count": 11,
   "id": "61c46feb-4626-44df-bd12-280a57a8d86f",
   "metadata": {},
   "outputs": [
    {
     "name": "stdout",
     "output_type": "stream",
     "text": [
      "Pair: O-O\n",
      "  A = 1829.2204, rho = 0.53645, C = 182.58\n",
      "  B = -40.45358967164747, D = 166.13382067912485, n = -5.233911689599193, r0 = 1.188376753507014,\n",
      "  charge1 = -1.2, charge2 = -1.2\n",
      "\n",
      "Pair: Si-O\n",
      "  A = 12702.905, rho = 0.53817, C = 20.681\n",
      "  B = 2278.0585428548206, D = -317.58083271789786, n = 1.2827443459759618, r0 = 1.0040080160320641,\n",
      "  charge1 = 2.4, charge2 = -1.2\n",
      "\n"
     ]
    }
   ],
   "source": [
    "# 定义元素对的参数\n",
    "Para_Si_O = ElementPairPotential(\n",
    "    pair=\"Si-O\",\n",
    "    A=Si_O[0],\n",
    "    rho=Si_O[1],\n",
    "    C=Si_O[2],\n",
    "    B=Si_O[3],\n",
    "    D=Si_O[4],\n",
    "    n=Si_O[5],\n",
    "    r0=Si_O[6],\n",
    "    charge1=+2.4,\n",
    "    charge2=-1.2\n",
    ")\n",
    "\n",
    "Para_O_O = ElementPairPotential(\n",
    "    pair=\"O-O\",\n",
    "    A=O_O[0],\n",
    "    rho=O_O[1],\n",
    "    C=O_O[2],\n",
    "    B=O_O[3],\n",
    "    D=O_O[4],\n",
    "    n=O_O[5],\n",
    "    r0=O_O[6],\n",
    "    charge1=-1.2,\n",
    "    charge2=-1.2\n",
    ")\n",
    "Para_O_O.print_parameters()\n",
    "Para_Si_O.print_parameters()"
   ]
  },
  {
   "cell_type": "code",
   "execution_count": 13,
   "id": "dda22fb1-65f9-4297-ae28-da036bb690e0",
   "metadata": {},
   "outputs": [],
   "source": [
    "# 定义原始势函数形式\n",
    "def coulomb_potential(r, charge1, charge2):\n",
    "    \"\"\"计算库伦势\"\"\"\n",
    "    epsilon_0, e_spot, pi = 8.854187817*(10**-12),1.602176634*(10**-19),np.pi\n",
    "    if charge1 is None or charge2 is None:\n",
    "        raise ValueError(\"Missing charges for Coulomb interaction\")\n",
    "    return (charge1 * charge2 * e_spot**2 ) / (4*pi*epsilon_0*r) \n",
    "\n",
    "\n",
    "def buckingham_potential(r, A, rho, C):\n",
    "    \"\"\"计算 Buckingham 势\"\"\"\n",
    "    if A is None or rho is None or C is None:\n",
    "        raise ValueError(\"Missing Buckingham parameters\")\n",
    "    return A * np.exp(-r / rho) - C / r**6\n",
    "\n",
    "\n",
    "def correction_potential(r, B, D, n):\n",
    "    \"\"\"计算修正势函数\"\"\"\n",
    "    if B is None or D is None or n is None:\n",
    "        raise ValueError(\"Missing correction parameters\")\n",
    "    return B / r**n + D * r**2\n",
    "    \n",
    "def combined_potential(r, params):\n",
    "    \"\"\"\n",
    "    计算拼接后的组合势函数，包括库伦项\n",
    "\n",
    "    Args:\n",
    "    - r (float): 原子间距离 (Å)\n",
    "    - params (ElementPairPotential): 元素对的参数实例\n",
    "\n",
    "    Returns:\n",
    "    - float: 势能值 (eV)\n",
    "    \"\"\"\n",
    "    # 库伦势\n",
    "    coulomb = coulomb_potential(r, params.charge1, params.charge2)\n",
    "\n",
    "    # 判断使用 Buckingham 势或修正势\n",
    "    if r > params.r0:\n",
    "        buckingham = buckingham_potential(r, params.A, params.rho, params.C)\n",
    "        return coulomb + buckingham\n",
    "    else:\n",
    "        correction = correction_potential(r, params.B, params.D, params.n)\n",
    "        return coulomb + correction"
   ]
  },
  {
   "cell_type": "code",
   "execution_count": 15,
   "id": "c0943b64-bdda-4d16-9c01-da8ed759f663",
   "metadata": {},
   "outputs": [
    {
     "name": "stdout",
     "output_type": "stream",
     "text": [
      "2.3070775512473707e-28\n"
     ]
    }
   ],
   "source": [
    "# 定义一阶导形式\n",
    "# 常数\n",
    "epsilon_0, e_spot, pi = 8.854187817*(10**-12),1.602176634*(10**-19),np.pi\n",
    "k0 = e_spot**2/(4*pi*epsilon_0)\n",
    "print(k0)\n",
    "def Teter_derivative_1(r, A, rho, C, charge1, charge2):\n",
    "    \"\"\"计算 Buckingham 势的一阶导数\"\"\"\n",
    "    coulomb = -(charge1 * charge2 * k0) /  r**2\n",
    "    exp_term = -(A / rho) * np.exp(-r / rho)\n",
    "    dispersion = 6 * C / r**7\n",
    "    return coulomb + exp_term + dispersion\n",
    "    \n",
    "def Correction_derivative_1(r, B, D, n):\n",
    "    \"\"\"计算修正势的一阶导数\"\"\"\n",
    "    return -n * B / r**(n + 1) + 2 * D * r\n",
    "\n",
    "def combined_diff1(r, params):\n",
    "    if r > params.r0:\n",
    "        teter = Teter_derivative_1(r, params.A, params.rho, params.C,params.charge1,params.charge2)\n",
    "        return teter\n",
    "    else:\n",
    "        correction = Correction_derivative_1(r, params.B, params.D, params.n)\n",
    "        return correction"
   ]
  },
  {
   "cell_type": "code",
   "execution_count": 29,
   "id": "9df20084-6633-4454-a05b-ca0cc62dceb7",
   "metadata": {},
   "outputs": [
    {
     "name": "stdout",
     "output_type": "stream",
     "text": [
      "8.78\n"
     ]
    },
    {
     "data": {
      "image/png": "[encoded data removed]",
      "text/plain": [
       "<Figure size 640x480 with 1 Axes>"
      ]
     },
     "metadata": {},
     "output_type": "display_data"
    }
   ],
   "source": [
    "temp = np.linspace(0.01,10,1000)\n",
    "res = [combined_potential(i,Para_Si_O) for i in temp]\n",
    "plt.plot(temp,res)\n",
    "plt.ylim(-1000,1000)\n",
    "\n",
    "for i_r,i_res in zip(temp,res):\n",
    "    if abs(i_res)<0.001:\n",
    "        print(i_r)\n",
    "        break"
   ]
  },
  {
   "cell_type": "code",
   "execution_count": 31,
   "id": "a2d110c0-d650-4f25-a9fd-73fa228356f3",
   "metadata": {},
   "outputs": [
    {
     "name": "stdout",
     "output_type": "stream",
     "text": [
      "0 0.001\n",
      "1 0.002\n",
      "2 0.003\n",
      "3 0.004\n",
      "4 0.005\n",
      "5 0.006\n",
      "6 0.007\n",
      "7 0.008\n",
      "8 0.009000000000000001\n",
      "9 0.010000000000000002\n",
      "10 0.011\n",
      "11 0.012\n",
      "12 0.013000000000000001\n",
      "13 0.014000000000000002\n",
      "14 0.015\n",
      "15 0.016\n",
      "16 0.017\n",
      "17 0.018000000000000002\n",
      "18 0.019000000000000003\n",
      "19 0.02\n"
     ]
    }
   ],
   "source": [
    "for count,i_r in enumerate(r_list[:20]):\n",
    "    print(count,i_r)"
   ]
  },
  {
   "cell_type": "code",
   "execution_count": 33,
   "id": "3c2e1243-d92c-490b-a9ad-ea057c63070b",
   "metadata": {},
   "outputs": [
    {
     "name": "stdout",
     "output_type": "stream",
     "text": [
      "r = 0.80 Å, Potential = 2829.77091 eV\n"
     ]
    }
   ],
   "source": [
    "# 单个距离的计算\n",
    "r = 0.8\n",
    "potential = combined_potential(r, Para_Si_O)\n",
    "print(f\"r = {r:.2f} Å, Potential = {potential:.5f} eV\")\n",
    "\n",
    "# 一组距离的计算\n",
    "r_values = np.linspace(0.5, 2.5, 10000)\n",
    "potentials = [combined_potential(r, Para_Si_O) for r in r_values]\n"
   ]
  },
  {
   "cell_type": "code",
   "execution_count": 35,
   "id": "4a3abeb5-898c-4716-b4f1-54abf7401405",
   "metadata": {},
   "outputs": [
    {
     "name": "stdout",
     "output_type": "stream",
     "text": [
      "10000\n"
     ]
    }
   ],
   "source": [
    "save_path = file_path\n",
    "# 使用 open 函数以写入模式打开文件\n",
    "file = open(save_path, \"w\")\n",
    "###\n",
    "r_list = np.linspace(Minimum_Cutoff,Maximum_Cutoff,Number_of_Grids)\n",
    "print(len(r_list))\n",
    "####\n",
    "write_content = ['O2-O2-','O2-Si4+','Si4+Si4+']\n",
    "for section in write_content:\n",
    "    if section=='O2-O2-':\n",
    "        class_para = Para_O_O\n",
    "    if section=='O2-Si4+':\n",
    "        class_para = Para_Si_O\n",
    "    # 开始写入\n",
    "    else:\n",
    "        class_para=0;\n",
    "    # 开始写入文件\n",
    "    file.write(f\"{section} \\n\")\n",
    "    file.write(f\"N {Number_of_Grids} R {Minimum_Cutoff} {Maximum_Cutoff} \\n\")\n",
    "    file.write('\\n')\n",
    "    # 如果不是空文件\n",
    "    if class_para!=0:\n",
    "        for i_count,i_r in enumerate(r_list):\n",
    "            i_potential,i_force = combined_potential(i_r, class_para),combined_diff1(i_r,class_para)\n",
    "            file.write(f'{i_count+1:<5}  {i_r:.5e}  {i_potential:.10e}  {i_force:.10e}\\n')\n",
    "    else:\n",
    "        for i_count,i_r in enumerate(r_list):\n",
    "            file.write(f'{i_count+1:<5}  {i_r:.5e}  {0:.10e}  {0:.10e}\\n')\n",
    "    file.write('\\n')\n",
    "# 手动关闭文件\n",
    "file.close()"
   ]
  },
  {
   "cell_type": "code",
   "execution_count": null,
   "id": "1eff35bc-8b7c-4324-a897-7ca4e84251b1",
   "metadata": {},
   "outputs": [],
   "source": []
  },
  {
   "cell_type": "code",
   "execution_count": null,
   "id": "5341bc0c-0909-4bba-8ab8-bb5f9bb14cba",
   "metadata": {},
   "outputs": [],
   "source": []
  }
 ],
 "metadata": {
  "kernelspec": {
   "display_name": "Python 3 (ipykernel)",
   "language": "python",
   "name": "python3"
  },
  "language_info": {
   "codemirror_mode": {
    "name": "ipython",
    "version": 3
   },
   "file_extension": ".py",
   "mimetype": "text/x-python",
   "name": "python",
   "nbconvert_exporter": "python",
   "pygments_lexer": "ipython3",
   "version": "3.12.3"
  }
 },
 "nbformat": 4,
 "nbformat_minor": 5
}
