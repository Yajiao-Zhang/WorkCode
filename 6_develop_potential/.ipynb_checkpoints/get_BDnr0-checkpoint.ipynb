{
 "cells": [
  {
   "cell_type": "code",
   "execution_count": 1,
   "id": "5af6a3f8-a19d-4138-8943-d96eab3fb4e8",
   "metadata": {},
   "outputs": [],
   "source": [
    "import numpy as np\n",
    "import matplotlib.pyplot as plt\n",
    "from scipy.optimize import fsolve\n",
    "import random"
   ]
  },
  {
   "cell_type": "markdown",
   "id": "86a6f145-a119-4942-a4ca-16c1b9dbe40d",
   "metadata": {},
   "source": [
    "# 根据初始定义的A，Rho，C生成Table"
   ]
  },
  {
   "cell_type": "code",
   "execution_count": 3,
   "id": "4f0a7078-11ac-4ecf-93fa-f17917135313",
   "metadata": {},
   "outputs": [],
   "source": [
    "# A，Rho，C,r0大概值，电荷\n",
    "Si_O =[12502.9050,0.43817,7.681,     0,0,'Si_O']\n",
    "r0_range = np.linspace(1.0, 2.0, 10001)\n",
    "###\n",
    "O_O = [2404,5.43645,10.58,     0,0,'O_O']"
   ]
  },
  {
   "cell_type": "code",
   "execution_count": 4,
   "id": "e161f540-c9a7-4e58-9a36-4f17656e58e7",
   "metadata": {},
   "outputs": [],
   "source": [
    "ana_class = O_O"
   ]
  },
  {
   "cell_type": "code",
   "execution_count": 5,
   "id": "71d9aceb-41ce-452e-9a30-c5e7ae04948d",
   "metadata": {},
   "outputs": [],
   "source": [
    "class ElementPairPotential:\n",
    "    def __init__(self, pair, A=None, rho=None, C=None, B=None, D=None, n=None, r0=None, charge1=None, charge2=None):\n",
    "        \"\"\"\n",
    "        初始化每个元素对的势函数参数\n",
    "\n",
    "        Args:\n",
    "        - pair (str): 元素对名称，例如 \"B-O\" 或 \"O-O\"\n",
    "        - A (float): Buckingham 势的指数项前因子 (eV)\n",
    "        - rho (float): Buckingham 势的距离参数 (Å)\n",
    "        - C (float): Buckingham 势的色散项 (eV·Å⁶)\n",
    "        - B (float): 修正势的幂项前因子 (eV·Åⁿ)\n",
    "        - D (float): 修正势的平方项前因子 (eV/Å²)\n",
    "        - n (float): 修正势的幂指数\n",
    "        - r0 (float): 拼接点 (Å)\n",
    "        - charge1 (float): 原子 1 的电荷 (单位: e)\n",
    "        - charge2 (float): 原子 2 的电荷 (单位: e)\n",
    "        \"\"\"\n",
    "        self.pair = pair\n",
    "        self.A = A\n",
    "        self.rho = rho\n",
    "        self.C = C\n",
    "        self.B = B\n",
    "        self.D = D\n",
    "        self.n = n\n",
    "        self.r0 = r0\n",
    "        self.charge1 = charge1\n",
    "        self.charge2 = charge2\n",
    "\n",
    "    def print_parameters(self):\n",
    "        \"\"\"打印参数\"\"\"\n",
    "        print(f\"Pair: {self.pair}\")\n",
    "        print(f\"  A = {self.A}, rho = {self.rho}, C = {self.C}\")\n",
    "        print(f\"  B = {self.B}, D = {self.D}, n = {self.n} r0 = {self.r0}\")\n",
    "        print(f\"  charge1 = {self.charge1}, charge2 = {self.charge2}\\n\")\n"
   ]
  },
  {
   "cell_type": "code",
   "execution_count": 6,
   "id": "d70facc4-dcfd-4796-898b-b9d89ee55487",
   "metadata": {},
   "outputs": [
    {
     "name": "stdout",
     "output_type": "stream",
     "text": [
      "Pair: O_O\n",
      "  A = 2404, rho = 5.43645, C = 10.58\n",
      "  B = None, D = None, n = None r0 = None\n",
      "  charge1 = 0, charge2 = 0\n",
      "\n"
     ]
    }
   ],
   "source": [
    "Pair_list1 = ana_class\n",
    "class_temp = ElementPairPotential(pair=Pair_list1[-1],A=Pair_list1[0],rho=Pair_list1[1],C=Pair_list1[2],\n",
    "                                charge1=Pair_list1[3], charge2=Pair_list1[4])\n",
    "#Para_2 = ElementPairPotential(pair=['O','O'],A=Pair_list2[0],rho=Pair_list2[1],C=Pair_list2[2],\n",
    "                                #charge1=Pair_list2[3], charge2=Pair_list2[4])\n",
    "class_temp.print_parameters()\n",
    "#Para_2.print_parameters()"
   ]
  },
  {
   "cell_type": "code",
   "execution_count": null,
   "id": "ec90df64-018c-4da6-9bdc-91556ad2f894",
   "metadata": {},
   "outputs": [],
   "source": []
  },
  {
   "cell_type": "code",
   "execution_count": 7,
   "id": "880f7d1f-fb01-4e14-abb2-e5edfb94b077",
   "metadata": {},
   "outputs": [],
   "source": [
    "# 定义原始势函数形式\n",
    "def long_potential(r, para_class):\n",
    "    A, rho, C,charge1,charge2 = para_class.A,para_class.rho,para_class.C,para_class.charge1,para_class.charge2\n",
    "    bkh = A * np.exp(-r / rho) - C / r**6\n",
    "    return bkh\n",
    "\n",
    "def short_potential(r, para_class):\n",
    "    B, D, n = para_class.B,para_class.D,para_class.n\n",
    "    res = B / r**n + D * r**2\n",
    "    return res\n",
    "# 解方程方便\n",
    "def short_potential_c(r, B, D, n):\n",
    "    res = B / r**n + D * r**2\n",
    "    return res\n",
    "\n",
    "def combined_potential(r, para_class):\n",
    "    \"\"\"\n",
    "    计算拼接后的组合势函数\n",
    "    \"\"\"\n",
    "    # 判断使用 Buckingham 势或修正势\n",
    "    if r > para_class.r0:\n",
    "        res = long_potential(r, para_class)\n",
    "    else:\n",
    "        res = short_potential(r, para_class)\n",
    "    return res"
   ]
  },
  {
   "cell_type": "code",
   "execution_count": 8,
   "id": "ad3243c8-0d37-47c3-88c6-9f20440cd5da",
   "metadata": {},
   "outputs": [],
   "source": [
    "# 定义一阶导形式\n",
    "# print(k0)\n",
    "def long_dev_1(r, para_class):\n",
    "    A, rho, C, charge1, charge2 = para_class.A,para_class.rho,para_class.C,para_class.charge1,para_class.charge2\n",
    "    \"\"\"计算 Buckingham 势的一阶导数\"\"\"\n",
    "    exp_term = -(A / rho) * np.exp(-r / rho)\n",
    "    dispersion = 6 * C / r**7\n",
    "    return exp_term + dispersion\n",
    "    \n",
    "def short_dev_1(r,para_class):\n",
    "    \"\"\"计算修正势的一阶导数\"\"\"\n",
    "    B, D, n = para_class.B,para_class.D,para_class.n\n",
    "    return -n * B / r**(n + 1) + 2 * D * r\n",
    "# \n",
    "def short_dev_1_c(r,B, D, n):\n",
    "    \"\"\"计算修正势的一阶导数\"\"\"\n",
    "    return -n * B / r**(n + 1) + 2 * D * r\n",
    "\n",
    "def combined_dev1(r, para_class):\n",
    "    if r > para_class.r0:\n",
    "        res = long_dev_1(r, para_class)\n",
    "    else:\n",
    "        res = short_dev_1(r,para_class)\n",
    "    return res"
   ]
  },
  {
   "cell_type": "code",
   "execution_count": 9,
   "id": "944ff818-20bd-4be2-87fc-4601639b0559",
   "metadata": {},
   "outputs": [],
   "source": [
    "# 计算二阶导 \n",
    "def long_dev_2(r, para_class):\n",
    "    A, rho, C,charge1, charge2 = para_class.A,para_class.rho,para_class.C,para_class.charge1,para_class.charge2\n",
    "    \"\"\"计算 Buckingham 势的二阶导数\"\"\"\n",
    "    exp_term = (A / rho**2) * np.exp(-r / rho)\n",
    "    dispersion = -42 * C / r**8\n",
    "    return exp_term + dispersion\n",
    "def short_dev_2(r,para_class):\n",
    "    B, D, n = para_class.B,para_class.D,para_class.n\n",
    "    \"\"\"计算修正势的二阶导数\"\"\"\n",
    "    return n * (n + 1) * B / r**(n + 2) + 2 * D\n",
    "def short_dev_2_c(r,B, D, n):\n",
    "    \"\"\"计算修正势的二阶导数\"\"\"\n",
    "    return n * (n + 1) * B / r**(n + 2) + 2 * D"
   ]
  },
  {
   "cell_type": "code",
   "execution_count": null,
   "id": "a0c32412-c913-49bc-ae50-25ccf677f803",
   "metadata": {},
   "outputs": [],
   "source": []
  },
  {
   "cell_type": "code",
   "execution_count": 10,
   "id": "3b396415-c4ca-4158-97fe-d541095e6fd0",
   "metadata": {},
   "outputs": [],
   "source": [
    "# 根据拟合得到B D n r0\n",
    "from scipy.optimize import fsolve\n",
    "import random\n",
    "# 要求左边近距离大，右边Teter大\n",
    "def another_judge(delta,p_class):\n",
    "    rho, C, charge1, charge2, = p_class.rho,p_class.C,p_class.charge1,p_class.charge2\n",
    "    r0, B, D, n =p_class.r0,p_class.B,p_class.D,p_class.n\n",
    "    r_left,r_right = r0-delta, r0+delta\n",
    "    compare_left = long_potential(r_left,p_class) - short_potential(r_left, p_class)\n",
    "    compare_right = long_potential(r_right,p_class) - short_potential(r_right, p_class)\n",
    "    short = short_potential(0.5,p_class)\n",
    "    short2 = short_potential(0.001,p_class)\n",
    "\n",
    "    if compare_left<0 and compare_right>0 and  short2>1e4:\n",
    "        return True\n",
    "    else:\n",
    "        return False\n",
    "# 解方程的主函数\n",
    "def solve_correction_params(p_class, r0_range):\n",
    "    \"\"\"\n",
    "    遍历 r0 的范围，寻找合适的 B, D, n\n",
    "    \"\"\"\n",
    "    results = []\n",
    "    A, rho, C, charge1, charge2 = p_class.A,p_class.rho,p_class.C,p_class.charge1,p_class.charge2\n",
    "    # 遍历 r0 从 0.1 到 5.0\n",
    "    for r0 in r0_range:\n",
    "        def equations(variables):\n",
    "            B, D, n = variables\n",
    "            # 方程 1：函数值相等\n",
    "            eq1 = long_potential(r0, p_class) - short_potential_c(r0,  B, D, n)\n",
    "            # 方程 2：一阶导数相等\n",
    "            eq2 = long_dev_1(r0, p_class) - short_dev_1_c(r0,  B, D, n)\n",
    "            # 方程 3：二阶导数相等\n",
    "            eq3 = long_dev_2(r0, p_class) - short_dev_2_c(r0,  B, D, n)\n",
    "            return [eq3, eq2, eq1]\n",
    "        \n",
    "        # 初始猜测值\n",
    "        initial_guess = [15.0, 17.0, 12.0]  # B, D, n 的初始猜测值\n",
    "        \n",
    "        # 使用 fsolve 解方程\n",
    "        try:\n",
    "            solution = fsolve(equations, initial_guess, xtol=1e-20)\n",
    "            B, D, n = solution\n",
    "            # 检查是否满足额外条件\n",
    "            i_class = ElementPairPotential(['O','O'],A,rho,C,B,D,n,r0,charge1,charge2)\n",
    "            #i_class.print_parameters()\n",
    "            if another_judge(0.2,i_class):\n",
    "                results.append((B,D,n,r0))\n",
    "        except RuntimeError:\n",
    "            # 如果 fsolve 无法收敛，跳过\n",
    "            continue\n",
    "    \n",
    "    return results"
   ]
  },
  {
   "cell_type": "code",
   "execution_count": 11,
   "id": "ebcac9c8-2238-47f7-8cfd-ec16fcb0cf98",
   "metadata": {},
   "outputs": [
    {
     "name": "stdout",
     "output_type": "stream",
     "text": [
      "Pair: O_O\n",
      "  A = 2404, rho = 5.43645, C = 10.58\n",
      "  B = None, D = None, n = None r0 = None\n",
      "  charge1 = 0, charge2 = 0\n",
      "\n"
     ]
    }
   ],
   "source": [
    "class_temp.print_parameters()"
   ]
  },
  {
   "cell_type": "code",
   "execution_count": 12,
   "id": "eac0cf9a-c9df-41dc-9f80-96be42db3b02",
   "metadata": {},
   "outputs": [
    {
     "name": "stdout",
     "output_type": "stream",
     "text": [
      "54\n",
      "r0 = 30.446, B = 136.58004, D = 131.58004, n = 1.16280\n"
     ]
    },
    {
     "name": "stderr",
     "output_type": "stream",
     "text": [
      "C:\\Users\\81004\\AppData\\Local\\Temp\\ipykernel_15272\\1721931737.py:42: RuntimeWarning: The iteration is not making good progress, as measured by the \n",
      "  improvement from the last ten iterations.\n",
      "  solution = fsolve(equations, initial_guess, xtol=1e-20)\n",
      "C:\\Users\\81004\\AppData\\Local\\Temp\\ipykernel_15272\\1721931737.py:42: RuntimeWarning: The iteration is not making good progress, as measured by the \n",
      "  improvement from the last five Jacobian evaluations.\n",
      "  solution = fsolve(equations, initial_guess, xtol=1e-20)\n",
      "C:\\Users\\81004\\AppData\\Local\\Temp\\ipykernel_15272\\1721931737.py:42: RuntimeWarning: xtol=0.000000 is too small, no further improvement in the approximate\n",
      "  solution is possible.\n",
      "  solution = fsolve(equations, initial_guess, xtol=1e-20)\n",
      "C:\\Users\\81004\\AppData\\Local\\Temp\\ipykernel_15272\\3487580887.py:9: RuntimeWarning: divide by zero encountered in scalar divide\n",
      "  res = B / r**n + D * r**2\n",
      "C:\\Users\\81004\\AppData\\Local\\Temp\\ipykernel_15272\\3487580887.py:9: RuntimeWarning: overflow encountered in scalar divide\n",
      "  res = B / r**n + D * r**2\n",
      "C:\\Users\\81004\\AppData\\Local\\Temp\\ipykernel_15272\\2165266473.py:14: RuntimeWarning: overflow encountered in scalar divide\n",
      "  return n * (n + 1) * B / r**(n + 2) + 2 * D\n",
      "C:\\Users\\81004\\AppData\\Local\\Temp\\ipykernel_15272\\2945753104.py:17: RuntimeWarning: overflow encountered in scalar divide\n",
      "  return -n * B / r**(n + 1) + 2 * D * r\n",
      "C:\\Users\\81004\\AppData\\Local\\Temp\\ipykernel_15272\\3487580887.py:13: RuntimeWarning: overflow encountered in scalar divide\n",
      "  res = B / r**n + D * r**2\n",
      "C:\\Users\\81004\\AppData\\Local\\Temp\\ipykernel_15272\\3487580887.py:13: RuntimeWarning: divide by zero encountered in scalar divide\n",
      "  res = B / r**n + D * r**2\n",
      "C:\\Users\\81004\\AppData\\Local\\Temp\\ipykernel_15272\\2945753104.py:17: RuntimeWarning: divide by zero encountered in scalar divide\n",
      "  return -n * B / r**(n + 1) + 2 * D * r\n",
      "C:\\Users\\81004\\AppData\\Local\\Temp\\ipykernel_15272\\2165266473.py:14: RuntimeWarning: divide by zero encountered in scalar divide\n",
      "  return n * (n + 1) * B / r**(n + 2) + 2 * D\n"
     ]
    }
   ],
   "source": [
    "input_class = class_temp\n",
    "\n",
    "# r0 的范围\n",
    "r0_range = r0_range\n",
    "# 计算结果\n",
    "results = solve_correction_params(input_class,r0_range)\n",
    "#print(results)\n",
    "\n",
    "# 输出结果\n",
    "print(len(results))\n",
    "min_r0,min_B,min_D,min_n,sum_value =float('inf'),float('inf'),float('inf'),float('inf'),float('inf')\n",
    "for r0, B, D, n in results:\n",
    "    temp = r0+B+ D+ n\n",
    "    if temp<sum_value:\n",
    "        sum_value = temp\n",
    "        min_r0,min_B,min_D,min_n = r0, B, D, n\n",
    "print(f\"r0 = {min_r0:.3f}, B = {min_B:.5f}, D = {min_D:.5f}, n = {min_n:.5f}\")"
   ]
  },
  {
   "cell_type": "code",
   "execution_count": 13,
   "id": "3c83b828-0d9d-4cb2-9fea-adeef1431b56",
   "metadata": {},
   "outputs": [
    {
     "data": {
      "text/plain": [
       "True"
      ]
     },
     "execution_count": 13,
     "metadata": {},
     "output_type": "execute_result"
    }
   ],
   "source": [
    "index = 0  #r0, B, D, n\n",
    "try_class = ElementPairPotential(class_temp.pair,class_temp.A,class_temp.rho,class_temp.C,\n",
    "                                 results[index][0], results[index][1],results[index][2],results[index][3],\n",
    "                                 class_temp.charge1,class_temp.charge2)\n",
    "another_judge(0.2,try_class)"
   ]
  },
  {
   "cell_type": "code",
   "execution_count": 14,
   "id": "2d694a8e-bed2-472e-b54e-04e931bdfcea",
   "metadata": {},
   "outputs": [],
   "source": [
    "origin_SiO_class = ElementPairPotential(['Si','O'],13702.9050,0.193817,54.681,\n",
    "                                28.950, -3.059,3.932,1.168,\n",
    "                                 class_temp.charge1,class_temp.charge2)\n",
    "origin_OO_class = ElementPairPotential(['O','O'],2029.2204,0.343645,192.58,\n",
    "                                45.868, -0.333,3.402,1.903,\n",
    "                                 class_temp.charge1,class_temp.charge2)"
   ]
  },
  {
   "cell_type": "code",
   "execution_count": null,
   "id": "ac045350-cd6f-4118-8162-ea0610777c51",
   "metadata": {},
   "outputs": [],
   "source": []
  },
  {
   "cell_type": "code",
   "execution_count": 15,
   "id": "d2434ddb-5a05-4d2a-ae17-9f12d4f874db",
   "metadata": {},
   "outputs": [
    {
     "name": "stdout",
     "output_type": "stream",
     "text": [
      "Origin\n",
      "Pair: ['O', 'O']\n",
      "  A = 2029.2204, rho = 0.343645, C = 192.58\n",
      "  B = 45.868, D = -0.333, n = 3.402 r0 = 1.903\n",
      "  charge1 = 0, charge2 = 0\n",
      "\n",
      "Fitted\n",
      "Pair: O_O\n",
      "  A = 2404, rho = 5.43645, C = 10.58\n",
      "  B = 109.58329977376054, D = 255.18326697860704, n = 91.03606143747322 r0 = 1.0895\n",
      "  charge1 = 0, charge2 = 0\n",
      "\n"
     ]
    }
   ],
   "source": [
    "origin_now = origin_OO_class\n",
    "print('Origin')\n",
    "origin_now.print_parameters()\n",
    "print('Fitted')\n",
    "try_class.print_parameters()"
   ]
  },
  {
   "cell_type": "code",
   "execution_count": 16,
   "id": "165fe488-77cc-456d-815c-2ececf84cbb4",
   "metadata": {},
   "outputs": [],
   "source": [
    "# results"
   ]
  },
  {
   "cell_type": "code",
   "execution_count": 51,
   "id": "1a6529d9-0e93-45e7-a0c3-60c2ef98c961",
   "metadata": {},
   "outputs": [
    {
     "data": {
      "image/png": "[encoded data removed]",
      "text/plain": [
       "<Figure size 1500x500 with 3 Axes>"
      ]
     },
     "metadata": {},
     "output_type": "display_data"
    },
    {
     "name": "stdout",
     "output_type": "stream",
     "text": [
      "r0 点为1.0895\n"
     ]
    }
   ],
   "source": [
    "import matplotlib.pyplot as plt\n",
    "import numpy as np\n",
    "\n",
    "# 创建一个 1 行 3 列的子图布局\n",
    "fig, axes = plt.subplots(1, 3, figsize=(15, 5))\n",
    "\n",
    "# 1) 第一幅图：origin Teter\n",
    "test_class = try_class\n",
    "r_range = np.linspace(0.1, 10, 1000)\n",
    "teter_range = []\n",
    "for i_r in r_range:\n",
    "    temp = combined_potential(i_r, test_class)\n",
    "    teter_range.append(temp)\n",
    "\n",
    "axes[0].plot(r_range, teter_range)\n",
    "axes[0].set_title(\"origin Teter\")\n",
    "axes[0].set_ylim(0, 1e4)\n",
    "axes[0].set_xlim(0, 5)\n",
    "axes[0].set_xlabel('r')\n",
    "axes[0].set_ylabel('Potential')\n",
    "\n",
    "# 2) 第二幅图：dev1 Teter\n",
    "dev_range = []\n",
    "for i_r in r_range:\n",
    "    temp_1 = combined_dev1(i_r, test_class)\n",
    "    dev_range.append(temp_1)\n",
    "\n",
    "axes[1].plot(r_range, dev_range)\n",
    "axes[1].set_title(\"dev1 Teter\")\n",
    "axes[1].set_ylim(-1e3, 1e2)\n",
    "axes[1].set_xlabel('r')\n",
    "axes[1].set_ylabel('Derivative-1')\n",
    "\n",
    "# 3) 第三幅图：dev2 Teter\n",
    "dev2_range = []\n",
    "for i_r in r_range:\n",
    "    temp_2 = long_dev_2(i_r, test_class) + short_dev_2(i_r, test_class)\n",
    "    dev2_range.append(temp_2)\n",
    "\n",
    "axes[2].plot(r_range, dev2_range)\n",
    "axes[2].set_title(\"dev2 Teter\")\n",
    "#axes[2].set_ylim(-1e3, 1e3)\n",
    "axes[2].set_xlabel('r')\n",
    "axes[2].set_ylabel('Derivative-2')\n",
    "\n",
    "# 自动调整布局\n",
    "plt.tight_layout()\n",
    "\n",
    "# 显示所有图\n",
    "plt.show()\n",
    "print(f'r0 点为{test_class.r0}')"
   ]
  },
  {
   "cell_type": "code",
   "execution_count": 53,
   "id": "68a30788-4cd8-40aa-9aef-f6690f24346e",
   "metadata": {},
   "outputs": [],
   "source": [
    "# 输出"
   ]
  },
  {
   "cell_type": "code",
   "execution_count": 19,
   "id": "8085e0e3-36eb-4384-a970-d707aaa055ea",
   "metadata": {},
   "outputs": [
    {
     "name": "stdout",
     "output_type": "stream",
     "text": [
      "O_O\n"
     ]
    },
    {
     "data": {
      "text/plain": [
       "[2404,\n",
       " 5.43645,\n",
       " 10.58,\n",
       " 109.58329977376054,\n",
       " 255.18326697860704,\n",
       " 91.03606143747322,\n",
       " 1.0895]"
      ]
     },
     "execution_count": 19,
     "metadata": {},
     "output_type": "execute_result"
    }
   ],
   "source": [
    "print(f'{try_class.pair}')\n",
    "[try_class.A,try_class.rho,try_class.C,try_class.B,try_class.D,try_class.n,try_class.r0]"
   ]
  },
  {
   "cell_type": "code",
   "execution_count": null,
   "id": "71a9768e-0890-4fae-8fb4-4bac0b2d952a",
   "metadata": {},
   "outputs": [],
   "source": []
  },
  {
   "cell_type": "code",
   "execution_count": null,
   "id": "9ea2dedd-78f2-45a9-aca0-b8ad3cb665cf",
   "metadata": {},
   "outputs": [],
   "source": []
  },
  {
   "cell_type": "code",
   "execution_count": 61,
   "id": "a8593215-f599-4e8a-a443-3a0d1a1e3f17",
   "metadata": {},
   "outputs": [
    {
     "data": {
      "text/plain": [
       "Text(0.5, 1.0, 'origin Teter')"
      ]
     },
     "execution_count": 61,
     "metadata": {},
     "output_type": "execute_result"
    },
    {
     "data": {
      "image/png": "[encoded data removed]",
      "text/plain": [
       "<Figure size 400x300 with 1 Axes>"
      ]
     },
     "metadata": {},
     "output_type": "display_data"
    }
   ],
   "source": [
    "test_class = try_class\n",
    "\n",
    "r_range = np.linspace(0.1,10,1000)\n",
    "teter_range,dev_range = [],[]\n",
    "for i_r in r_range:\n",
    "    temp = long_potential(i_r,test_class)\n",
    "    #temp_1 = combined_dev1(i_r,try_class)\n",
    "\n",
    "    teter_range.append(temp)\n",
    "    #dev_range.append(temp_1)\n",
    "\n",
    "plt.figure(figsize=(4,3))\n",
    "plt.ylim(-1e2,1e4)\n",
    "plt.xlim(0,5)\n",
    "plt.plot(r_range,teter_range)\n",
    "plt.title(\"origin Teter\")"
   ]
  },
  {
   "cell_type": "code",
   "execution_count": 63,
   "id": "e4ff8cd1-d3cd-4e8c-894b-499a76f31014",
   "metadata": {},
   "outputs": [],
   "source": [
    "# print(k0)\n",
    "def long_dev_1(r, para_class):\n",
    "    A, rho, C, charge1, charge2 = para_class.A,para_class.rho,para_class.C,para_class.charge1,para_class.charge2\n",
    "    \"\"\"计算 Buckingham 势的一阶导数\"\"\"\n",
    "    exp_term = -(A / rho) * np.exp(-r / rho)\n",
    "    dispersion = 6 * C / r**7\n",
    "    return exp_term + dispersion"
   ]
  },
  {
   "cell_type": "code",
   "execution_count": null,
   "id": "56a3e95b-1aa0-4073-a3b9-3a6f249bb0a5",
   "metadata": {},
   "outputs": [],
   "source": []
  },
  {
   "cell_type": "code",
   "execution_count": 87,
   "id": "1606568a-dacf-4fc8-8e91-cd95ba8a657b",
   "metadata": {},
   "outputs": [
    {
     "name": "stdout",
     "output_type": "stream",
     "text": [
      "0.7734047340473404\n"
     ]
    },
    {
     "ename": "ValueError",
     "evalue": "x and y must have same first dimension, but have shapes (100000,) and (6803,)",
     "output_type": "error",
     "traceback": [
      "\u001b[1;31m---------------------------------------------------------------------------\u001b[0m",
      "\u001b[1;31mValueError\u001b[0m                                Traceback (most recent call last)",
      "Cell \u001b[1;32mIn[87], line 14\u001b[0m\n\u001b[0;32m     12\u001b[0m         \u001b[38;5;28;01mbreak\u001b[39;00m\n\u001b[0;32m     13\u001b[0m plt\u001b[38;5;241m.\u001b[39mfigure(figsize\u001b[38;5;241m=\u001b[39m(\u001b[38;5;241m4\u001b[39m,\u001b[38;5;241m3\u001b[39m))\n\u001b[1;32m---> 14\u001b[0m plt\u001b[38;5;241m.\u001b[39mplot(r_range,dev_range)\n\u001b[0;32m     15\u001b[0m plt\u001b[38;5;241m.\u001b[39mtitle(\u001b[38;5;124m\"\u001b[39m\u001b[38;5;124mdev1 Teter\u001b[39m\u001b[38;5;124m\"\u001b[39m)\n\u001b[0;32m     16\u001b[0m plt\u001b[38;5;241m.\u001b[39mylim(\u001b[38;5;241m-\u001b[39m\u001b[38;5;241m1e3\u001b[39m,\u001b[38;5;241m1e2\u001b[39m)\n",
      "File \u001b[1;32mD:\\anaconda3\\Lib\\site-packages\\matplotlib\\pyplot.py:3794\u001b[0m, in \u001b[0;36mplot\u001b[1;34m(scalex, scaley, data, *args, **kwargs)\u001b[0m\n\u001b[0;32m   3786\u001b[0m \u001b[38;5;129m@_copy_docstring_and_deprecators\u001b[39m(Axes\u001b[38;5;241m.\u001b[39mplot)\n\u001b[0;32m   3787\u001b[0m \u001b[38;5;28;01mdef\u001b[39;00m \u001b[38;5;21mplot\u001b[39m(\n\u001b[0;32m   3788\u001b[0m     \u001b[38;5;241m*\u001b[39margs: \u001b[38;5;28mfloat\u001b[39m \u001b[38;5;241m|\u001b[39m ArrayLike \u001b[38;5;241m|\u001b[39m \u001b[38;5;28mstr\u001b[39m,\n\u001b[1;32m   (...)\u001b[0m\n\u001b[0;32m   3792\u001b[0m     \u001b[38;5;241m*\u001b[39m\u001b[38;5;241m*\u001b[39mkwargs,\n\u001b[0;32m   3793\u001b[0m ) \u001b[38;5;241m-\u001b[39m\u001b[38;5;241m>\u001b[39m \u001b[38;5;28mlist\u001b[39m[Line2D]:\n\u001b[1;32m-> 3794\u001b[0m     \u001b[38;5;28;01mreturn\u001b[39;00m gca()\u001b[38;5;241m.\u001b[39mplot(\n\u001b[0;32m   3795\u001b[0m         \u001b[38;5;241m*\u001b[39margs,\n\u001b[0;32m   3796\u001b[0m         scalex\u001b[38;5;241m=\u001b[39mscalex,\n\u001b[0;32m   3797\u001b[0m         scaley\u001b[38;5;241m=\u001b[39mscaley,\n\u001b[0;32m   3798\u001b[0m         \u001b[38;5;241m*\u001b[39m\u001b[38;5;241m*\u001b[39m({\u001b[38;5;124m\"\u001b[39m\u001b[38;5;124mdata\u001b[39m\u001b[38;5;124m\"\u001b[39m: data} \u001b[38;5;28;01mif\u001b[39;00m data \u001b[38;5;129;01mis\u001b[39;00m \u001b[38;5;129;01mnot\u001b[39;00m \u001b[38;5;28;01mNone\u001b[39;00m \u001b[38;5;28;01melse\u001b[39;00m {}),\n\u001b[0;32m   3799\u001b[0m         \u001b[38;5;241m*\u001b[39m\u001b[38;5;241m*\u001b[39mkwargs,\n\u001b[0;32m   3800\u001b[0m     )\n",
      "File \u001b[1;32mD:\\anaconda3\\Lib\\site-packages\\matplotlib\\axes\\_axes.py:1779\u001b[0m, in \u001b[0;36mAxes.plot\u001b[1;34m(self, scalex, scaley, data, *args, **kwargs)\u001b[0m\n\u001b[0;32m   1536\u001b[0m \u001b[38;5;250m\u001b[39m\u001b[38;5;124;03m\"\"\"\u001b[39;00m\n\u001b[0;32m   1537\u001b[0m \u001b[38;5;124;03mPlot y versus x as lines and/or markers.\u001b[39;00m\n\u001b[0;32m   1538\u001b[0m \n\u001b[1;32m   (...)\u001b[0m\n\u001b[0;32m   1776\u001b[0m \u001b[38;5;124;03m(``'green'``) or hex strings (``'#008000'``).\u001b[39;00m\n\u001b[0;32m   1777\u001b[0m \u001b[38;5;124;03m\"\"\"\u001b[39;00m\n\u001b[0;32m   1778\u001b[0m kwargs \u001b[38;5;241m=\u001b[39m cbook\u001b[38;5;241m.\u001b[39mnormalize_kwargs(kwargs, mlines\u001b[38;5;241m.\u001b[39mLine2D)\n\u001b[1;32m-> 1779\u001b[0m lines \u001b[38;5;241m=\u001b[39m [\u001b[38;5;241m*\u001b[39m\u001b[38;5;28mself\u001b[39m\u001b[38;5;241m.\u001b[39m_get_lines(\u001b[38;5;28mself\u001b[39m, \u001b[38;5;241m*\u001b[39margs, data\u001b[38;5;241m=\u001b[39mdata, \u001b[38;5;241m*\u001b[39m\u001b[38;5;241m*\u001b[39mkwargs)]\n\u001b[0;32m   1780\u001b[0m \u001b[38;5;28;01mfor\u001b[39;00m line \u001b[38;5;129;01min\u001b[39;00m lines:\n\u001b[0;32m   1781\u001b[0m     \u001b[38;5;28mself\u001b[39m\u001b[38;5;241m.\u001b[39madd_line(line)\n",
      "File \u001b[1;32mD:\\anaconda3\\Lib\\site-packages\\matplotlib\\axes\\_base.py:296\u001b[0m, in \u001b[0;36m_process_plot_var_args.__call__\u001b[1;34m(self, axes, data, *args, **kwargs)\u001b[0m\n\u001b[0;32m    294\u001b[0m     this \u001b[38;5;241m+\u001b[39m\u001b[38;5;241m=\u001b[39m args[\u001b[38;5;241m0\u001b[39m],\n\u001b[0;32m    295\u001b[0m     args \u001b[38;5;241m=\u001b[39m args[\u001b[38;5;241m1\u001b[39m:]\n\u001b[1;32m--> 296\u001b[0m \u001b[38;5;28;01myield from\u001b[39;00m \u001b[38;5;28mself\u001b[39m\u001b[38;5;241m.\u001b[39m_plot_args(\n\u001b[0;32m    297\u001b[0m     axes, this, kwargs, ambiguous_fmt_datakey\u001b[38;5;241m=\u001b[39mambiguous_fmt_datakey)\n",
      "File \u001b[1;32mD:\\anaconda3\\Lib\\site-packages\\matplotlib\\axes\\_base.py:486\u001b[0m, in \u001b[0;36m_process_plot_var_args._plot_args\u001b[1;34m(self, axes, tup, kwargs, return_kwargs, ambiguous_fmt_datakey)\u001b[0m\n\u001b[0;32m    483\u001b[0m     axes\u001b[38;5;241m.\u001b[39myaxis\u001b[38;5;241m.\u001b[39mupdate_units(y)\n\u001b[0;32m    485\u001b[0m \u001b[38;5;28;01mif\u001b[39;00m x\u001b[38;5;241m.\u001b[39mshape[\u001b[38;5;241m0\u001b[39m] \u001b[38;5;241m!=\u001b[39m y\u001b[38;5;241m.\u001b[39mshape[\u001b[38;5;241m0\u001b[39m]:\n\u001b[1;32m--> 486\u001b[0m     \u001b[38;5;28;01mraise\u001b[39;00m \u001b[38;5;167;01mValueError\u001b[39;00m(\u001b[38;5;124mf\u001b[39m\u001b[38;5;124m\"\u001b[39m\u001b[38;5;124mx and y must have same first dimension, but \u001b[39m\u001b[38;5;124m\"\u001b[39m\n\u001b[0;32m    487\u001b[0m                      \u001b[38;5;124mf\u001b[39m\u001b[38;5;124m\"\u001b[39m\u001b[38;5;124mhave shapes \u001b[39m\u001b[38;5;132;01m{\u001b[39;00mx\u001b[38;5;241m.\u001b[39mshape\u001b[38;5;132;01m}\u001b[39;00m\u001b[38;5;124m and \u001b[39m\u001b[38;5;132;01m{\u001b[39;00my\u001b[38;5;241m.\u001b[39mshape\u001b[38;5;132;01m}\u001b[39;00m\u001b[38;5;124m\"\u001b[39m)\n\u001b[0;32m    488\u001b[0m \u001b[38;5;28;01mif\u001b[39;00m x\u001b[38;5;241m.\u001b[39mndim \u001b[38;5;241m>\u001b[39m \u001b[38;5;241m2\u001b[39m \u001b[38;5;129;01mor\u001b[39;00m y\u001b[38;5;241m.\u001b[39mndim \u001b[38;5;241m>\u001b[39m \u001b[38;5;241m2\u001b[39m:\n\u001b[0;32m    489\u001b[0m     \u001b[38;5;28;01mraise\u001b[39;00m \u001b[38;5;167;01mValueError\u001b[39;00m(\u001b[38;5;124mf\u001b[39m\u001b[38;5;124m\"\u001b[39m\u001b[38;5;124mx and y can be no greater than 2D, but have \u001b[39m\u001b[38;5;124m\"\u001b[39m\n\u001b[0;32m    490\u001b[0m                      \u001b[38;5;124mf\u001b[39m\u001b[38;5;124m\"\u001b[39m\u001b[38;5;124mshapes \u001b[39m\u001b[38;5;132;01m{\u001b[39;00mx\u001b[38;5;241m.\u001b[39mshape\u001b[38;5;132;01m}\u001b[39;00m\u001b[38;5;124m and \u001b[39m\u001b[38;5;132;01m{\u001b[39;00my\u001b[38;5;241m.\u001b[39mshape\u001b[38;5;132;01m}\u001b[39;00m\u001b[38;5;124m\"\u001b[39m)\n",
      "\u001b[1;31mValueError\u001b[0m: x and y must have same first dimension, but have shapes (100000,) and (6803,)"
     ]
    },
    {
     "data": {
      "image/png": "[encoded data removed]",
      "text/plain": [
       "<Figure size 400x300 with 1 Axes>"
      ]
     },
     "metadata": {},
     "output_type": "display_data"
    }
   ],
   "source": [
    "test_class = try_class\n",
    "##\n",
    "r_range = np.linspace(0.1,10,100000)\n",
    "teter_range,dev_range = [],[]\n",
    "for i_r in r_range:\n",
    "    #temp = combined_potential(i_r,try_class)\n",
    "    temp_1 = long_dev_1(i_r,test_class)\n",
    "    #teter_range.append(temp)\n",
    "    dev_range.append(temp_1)\n",
    "    if abs(temp_1)<1e-1:\n",
    "        print(i_r)\n",
    "        break\n",
    "plt.figure(figsize=(4,3))\n",
    "plt.plot(r_range,dev_range)\n",
    "plt.title(\"dev1 Teter\")\n",
    "plt.ylim(-1e3,1e2)"
   ]
  },
  {
   "cell_type": "code",
   "execution_count": 119,
   "id": "809bf0e2-ef46-453e-8d54-fe681c935a03",
   "metadata": {},
   "outputs": [],
   "source": [
    "min_r = np.linspace(0.01,0.7734047340473404,500)\n",
    "max_r = np.linspace(0.7734047340473404,500)\n",
    "range_r = []\n",
    "value = []\n",
    "for i in min_r:\n",
    "    temp = long_potential(i,try_class)\n",
    "    temp =-temp+2*long_potential(0.7734047340473404,try_class)\n",
    "    value.append(temp)\n",
    "    range_r.append(i)\n",
    "for i in max_r:\n",
    "    temp = long_potential(i,try_class)\n",
    "    value.append(temp)\n",
    "    range_r.append(i)"
   ]
  },
  {
   "cell_type": "code",
   "execution_count": 121,
   "id": "048d6b8b-dbf7-48bc-9a4e-1f4277e0486e",
   "metadata": {},
   "outputs": [
    {
     "data": {
      "text/plain": [
       "(-1000.0, 10000.0)"
      ]
     },
     "execution_count": 121,
     "metadata": {},
     "output_type": "execute_result"
    },
    {
     "data": {
      "image/png": "[encoded data removed]",
      "text/plain": [
       "<Figure size 640x480 with 1 Axes>"
      ]
     },
     "metadata": {},
     "output_type": "display_data"
    }
   ],
   "source": [
    "plt.plot(range_r,value)\n",
    "plt.ylim(-1e3,1e4)"
   ]
  },
  {
   "cell_type": "code",
   "execution_count": 22,
   "id": "8f1a3578-8fe1-46ad-b61d-c7ea0fa9c14e",
   "metadata": {},
   "outputs": [
    {
     "data": {
      "text/plain": [
       "(-1000.0, 1000.0)"
      ]
     },
     "execution_count": 22,
     "metadata": {},
     "output_type": "execute_result"
    },
    {
     "data": {
      "image/png": "[encoded data removed]",
      "text/plain": [
       "<Figure size 400x300 with 1 Axes>"
      ]
     },
     "metadata": {},
     "output_type": "display_data"
    }
   ],
   "source": [
    "test_class = try_class\n",
    "#\n",
    "r_range = np.linspace(0.1,10,1000)\n",
    "dev2_range = []\n",
    "for i_r in r_range:\n",
    "    #temp = combined_potential(i_r,try_class)\n",
    "    temp_2 = long_dev_2(i_r,test_class )+short_dev_2(i_r,test_class )\n",
    "    #teter_range.append(temp)\n",
    "    dev2_range.append(temp_2)\n",
    "plt.figure(figsize=(4,3))\n",
    "plt.plot(r_range,dev2_range)\n",
    "plt.title(\"dev2 Teter\")\n",
    "plt.ylim(-1e3,1e3)"
   ]
  },
  {
   "cell_type": "code",
   "execution_count": null,
   "id": "786d8ae4-d184-4cc7-af1f-7230813edd15",
   "metadata": {},
   "outputs": [],
   "source": []
  },
  {
   "cell_type": "code",
   "execution_count": null,
   "id": "268c1f0d-171b-46dd-8696-2152c5246306",
   "metadata": {},
   "outputs": [],
   "source": []
  }
 ],
 "metadata": {
  "kernelspec": {
   "display_name": "Python 3 (ipykernel)",
   "language": "python",
   "name": "python3"
  },
  "language_info": {
   "codemirror_mode": {
    "name": "ipython",
    "version": 3
   },
   "file_extension": ".py",
   "mimetype": "text/x-python",
   "name": "python",
   "nbconvert_exporter": "python",
   "pygments_lexer": "ipython3",
   "version": "3.12.3"
  }
 },
 "nbformat": 4,
 "nbformat_minor": 5
}
