{
 "cells": [
  {
   "cell_type": "code",
   "execution_count": 5,
   "id": "29ad569a",
   "metadata": {},
   "outputs": [],
   "source": [
    "max_len = 60\n",
    "min_len = 0\n",
    "# 截止半径\n",
    "dis = 3.5"
   ]
  },
  {
   "cell_type": "code",
   "execution_count": 14,
   "id": "ed73d4c3",
   "metadata": {},
   "outputs": [],
   "source": [
    "f = [1,20,20]\n"
   ]
  },
  {
   "cell_type": "code",
   "execution_count": 15,
   "id": "2bc42059",
   "metadata": {},
   "outputs": [],
   "source": [
    "# 先成功得出X的dis范围\n",
    "x_list = []\n",
    "y_list = []\n",
    "z_list = []\n",
    "# 若只有一个列表表示在中间的情况\n",
    "if 0 <= f[0]-dis and f[0]+dis <= max_len:\n",
    "    x_list.append([f[0]-dis,f[0]+dis])\n",
    "# 靠左\n",
    "elif f[0]-dis < 0:\n",
    "    # 在第一个列表中表示可以直接开始计算距离\n",
    "    x_list.append([0,f[0]+dis])\n",
    "    # 在第二个列表中表示要稍微转换一下\n",
    "    x_list.append([max_len-(dis-f[0]),max_len])\n",
    "else:\n",
    "    x_list.append([f[0]-dis,max_len])\n",
    "    x_list.append()"
   ]
  },
  {
   "cell_type": "code",
   "execution_count": 16,
   "id": "ee96220d",
   "metadata": {},
   "outputs": [
    {
     "data": {
      "text/plain": [
       "[[0, 4.5], [57.5, 60]]"
      ]
     },
     "execution_count": 16,
     "metadata": {},
     "output_type": "execute_result"
    }
   ],
   "source": [
    "x_list"
   ]
  },
  {
   "cell_type": "code",
   "execution_count": null,
   "id": "338e1b3d",
   "metadata": {},
   "outputs": [],
   "source": []
  }
 ],
 "metadata": {
  "kernelspec": {
   "display_name": "Python 3 (ipykernel)",
   "language": "python",
   "name": "python3"
  },
  "language_info": {
   "codemirror_mode": {
    "name": "ipython",
    "version": 3
   },
   "file_extension": ".py",
   "mimetype": "text/x-python",
   "name": "python",
   "nbconvert_exporter": "python",
   "pygments_lexer": "ipython3",
   "version": "3.10.6"
  }
 },
 "nbformat": 4,
 "nbformat_minor": 5
}
