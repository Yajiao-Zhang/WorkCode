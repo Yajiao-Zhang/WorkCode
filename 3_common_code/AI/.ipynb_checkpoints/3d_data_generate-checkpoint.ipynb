{
 "cells": [
  {
   "cell_type": "code",
   "execution_count": 1,
   "id": "d95cb588",
   "metadata": {},
   "outputs": [],
   "source": [
    "import numpy as np\n",
    "import copy"
   ]
  },
  {
   "cell_type": "code",
   "execution_count": 3,
   "id": "0ee1ad56-76ff-4da8-857c-04d7fb92756a",
   "metadata": {},
   "outputs": [],
   "source": [
    "# 原始文件路径  读取的是xyz格式数据\n",
    "file_path = r'D:\\MD_file\\结构识别\\xyz_try4\\1-O2Si1_ICSD_34889.xyz'\n",
    "\n",
    "# 是否将这个处理数据保存\n",
    "Is_save = 1\n",
    "# 输出文件的地址\n",
    "out_path = r'D:\\MD_file\\结构识别\\xyz_try4\\1_sio2.npy'\n"
   ]
  },
  {
   "cell_type": "code",
   "execution_count": 9,
   "id": "5c5a168b",
   "metadata": {},
   "outputs": [],
   "source": [
    "# 训练集 测试集 存储\n",
    "Train_data,Train_label = [],[]\n",
    "Test_data,Test_label = [],[]"
   ]
  },
  {
   "cell_type": "markdown",
   "id": "a838c296",
   "metadata": {},
   "source": [
    "# 获取数据部分"
   ]
  },
  {
   "cell_type": "code",
   "execution_count": 11,
   "id": "6c43737e",
   "metadata": {},
   "outputs": [],
   "source": [
    "# 制作的是训练集还是测试集\n",
    "is_train =  0\n",
    "# 这批数据是0 glass 是 1crystal\n",
    "label = 1\n",
    "# 分析帧数\n",
    "ana_frame_num = 0\n",
    "# 一帧中选取多少个数据出来\n",
    "generate_num = 1000\n",
    "# dis距离\n",
    "cut_off_dis  = 5.0\n",
    "# 设置中心原子\n",
    "center_atom_type = ['Si']\n",
    "center_atom_index = 8\n",
    "# 设置临近原子类型\n",
    "neighber_type_list = ['O','Li']\n",
    "# 一个数据中的原子总数\n",
    "neighber_atom_num = 45"
   ]
  },
  {
   "cell_type": "code",
   "execution_count": 13,
   "id": "c6c33783",
   "metadata": {},
   "outputs": [],
   "source": [
    "# 函数体\n",
    "# 每一个原子的信息\n",
    "class Atom:\n",
    "    def __init__(self, id=-1, type=-1, q=-1, x=-1, y=-1, z=-1, vx=-1, vy=-1, vz=-1, fx=-1, fy=-1, fz=-1, c_ke_atom=-1, c_pe_atom=-1, v_e_total=-1):\n",
    "        self.id = id\n",
    "        self.type = type\n",
    "        self.x = x\n",
    "        self.y = y\n",
    "        self.z = z\n",
    "        self.q = q\n",
    "        self.c_ke_atom = c_ke_atom\n",
    "        self.c_pe_atom = c_pe_atom\n",
    "        self.v_e_total = v_e_total\n",
    "        self.vx = vx\n",
    "        self.vy = vy\n",
    "        self.vz = vz\n",
    "        self.fx = fx\n",
    "        self.fy = fy\n",
    "        self.fz = fz\n",
    "# 计算ppp中的距离\n",
    "def cal_ppp_distance(pos1, pos2, box_size):\n",
    "    # 计算两个位置之间的最小距离，考虑周期性边界条件\n",
    "    pos1,pos2,box_size = np.array(pos1),np.array(pos2),np.array(box_size)\n",
    "    # 计算位置差矢量\n",
    "    delta = pos2 - pos1\n",
    "    \n",
    "    # 应用最小图像约束，确保距离在周期内最短\n",
    "    delta = delta - np.round(delta / box_size) * box_size\n",
    "    # 计算距离\n",
    "    distance = np.linalg.norm(delta)\n",
    "    if distance<1e-4:\n",
    "        distance = float('inf')\n",
    "    return distance\n",
    "# 转换ppp中的坐标\n",
    "def tran_position(center,pos1,box_size):\n",
    "    center,pos1,box_size = np.array(center),np.array(pos1),np.array(box_size)\n",
    "    delta = pos1 - center\n",
    "    pos1 = pos1 - np.round(delta/box_size)*box_size\n",
    "    return pos1-center\n",
    "# 旋转原子\n",
    "def rotate_atoms(positions, angles):\n",
    "    # 将具有 XYZ 坐标的原子群分别绕 X、Y、Z 轴旋转给定角度\n",
    "    \n",
    "    # 将角度转换为弧度\n",
    "    angles_rad = np.deg2rad(angles)\n",
    "    \n",
    "    # 初始化旋转矩阵为单位矩阵\n",
    "    rotation_matrix = np.eye(3)\n",
    "    \n",
    "    # 分别计算绕 X、Y、Z 轴的旋转矩阵，并依次应用\n",
    "    for i in range(3):\n",
    "        axis = np.zeros(3)\n",
    "        axis[i] = 1\n",
    "        rotation_matrix_i = get_rotation_matrix(axis, angles_rad[i])\n",
    "        rotation_matrix = np.dot(rotation_matrix_i, rotation_matrix)\n",
    "    \n",
    "    # 应用旋转矩阵到每个原子的坐标\n",
    "    rotated_positions = np.dot(positions, rotation_matrix.T)\n",
    "    \n",
    "    return rotated_positions\n",
    "\n",
    "def get_rotation_matrix(axis, angle):\n",
    "    # 根据给定轴和角度获取绕轴旋转的旋转矩阵\n",
    "    \n",
    "    axis = axis / np.linalg.norm(axis)  # 将轴向量归一化\n",
    "    \n",
    "    c = np.cos(angle)\n",
    "    s = np.sin(angle)\n",
    "    t = 1 - c\n",
    "    \n",
    "    rotation_matrix = np.array([[t*axis[0]*axis[0]+c, t*axis[0]*axis[1]-s*axis[2], t*axis[0]*axis[2]+s*axis[1]],\n",
    "                                [t*axis[0]*axis[1]+s*axis[2], t*axis[1]*axis[1]+c, t*axis[1]*axis[2]-s*axis[0]],\n",
    "                                [t*axis[0]*axis[2]-s*axis[1], t*axis[1]*axis[2]+s*axis[0], t*axis[2]*axis[2]+c]])\n",
    "    \n",
    "    return rotation_matrix"
   ]
  },
  {
   "cell_type": "code",
   "execution_count": 23,
   "id": "b5b46173",
   "metadata": {},
   "outputs": [
    {
     "ename": "ValueError",
     "evalue": "invalid literal for int() with base 10: ' O    3.369700    0.939369   12.279196\\n'",
     "output_type": "error",
     "traceback": [
      "\u001b[1;31m---------------------------------------------------------------------------\u001b[0m",
      "\u001b[1;31mValueError\u001b[0m                                Traceback (most recent call last)",
      "Cell \u001b[1;32mIn[23], line 9\u001b[0m\n\u001b[0;32m      7\u001b[0m     lines \u001b[38;5;241m=\u001b[39m file\u001b[38;5;241m.\u001b[39mreadlines()\n\u001b[0;32m      8\u001b[0m \u001b[38;5;66;03m# 每一页的原子数\u001b[39;00m\n\u001b[1;32m----> 9\u001b[0m num_atom \u001b[38;5;241m=\u001b[39m\u001b[38;5;28mint\u001b[39m(lines[\u001b[38;5;241m3\u001b[39m])\n\u001b[0;32m     10\u001b[0m \u001b[38;5;66;03m# 定义一页的行数\u001b[39;00m\n\u001b[0;32m     11\u001b[0m lines_per_page \u001b[38;5;241m=\u001b[39m num_atom \u001b[38;5;241m+\u001b[39m \u001b[38;5;241m9\u001b[39m\n",
      "\u001b[1;31mValueError\u001b[0m: invalid literal for int() with base 10: ' O    3.369700    0.939369   12.279196\\n'"
     ]
    }
   ],
   "source": [
    "# 所有信息储存的总列表\n",
    "list_all_frames = []\n",
    "\n",
    "# 读取lmp文件\n",
    "# 打开文件并读取所有行数据\n",
    "with open(file_path, 'r') as file:\n",
    "    lines = file.readlines()\n",
    "# 每一页的原子数\n",
    "num_atom =int(lines[3])\n",
    "# 定义一页的行数\n",
    "lines_per_page = num_atom + 9\n",
    "# 计算总页数\n",
    "total_pages = (len(lines) + lines_per_page - 1) // lines_per_page\n",
    "# 遍历每一页\n",
    "for page in range(total_pages):\n",
    "    # 计算当前页的起始行号和结束行号\n",
    "    start_line = page * lines_per_page\n",
    "    end_line = start_line + lines_per_page\n",
    "    # 从总行数据中获取当前页的行数据\n",
    "    page_lines = lines[start_line:end_line]\n",
    "    ## 开始分析每一页中的数据\n",
    "    # 每一页的数据存储在这个list中\n",
    "    list_frame = []\n",
    "    #print(\"Current frame number :\",page)\n",
    "    # 每一页的第九行开始才是原子数据\n",
    "    for i_atom in page_lines[9:]:\n",
    "        ii = i_atom.split()\n",
    "        atom = Atom(int(ii[0]),int(ii[1]),float(ii[2]),float(ii[3]))\n",
    "        \n",
    "        list_frame.append(atom)\n",
    "    list_all_frames.append(list_frame)\n",
    "# 输出文档中的其他信息\n",
    "print('\\nResult analysis completed')\n",
    "print(\"Other information:\")\n",
    "print(\"Number of total frames:\",total_pages)\n",
    "print(\"Number of atoms:\", lines[3].split()[0])\n",
    "print('Box size:',round(float(lines[5].split()[1]),3))\n"
   ]
  },
  {
   "cell_type": "code",
   "execution_count": 25,
   "id": "7bb90a35-cc70-4b62-adcb-ff78063fc85d",
   "metadata": {},
   "outputs": [
    {
     "data": {
      "text/plain": [
       "'37500\\n'"
      ]
     },
     "execution_count": 25,
     "metadata": {},
     "output_type": "execute_result"
    }
   ],
   "source": [
    "lines[0]"
   ]
  },
  {
   "cell_type": "code",
   "execution_count": 35,
   "id": "cd6018bd",
   "metadata": {},
   "outputs": [],
   "source": [
    "# 将要分析的列表单独独立出来 深拷贝\n",
    "All_atom_list = copy.deepcopy(list_all_frames[ana_frame_num])\n",
    "# 有两个列表 一个是center 一个是neighber\n",
    "Center_list = []\n",
    "# 先得出最大的BOX距离 并且这个BOX的xyz可以不相等\n",
    "x_max,y_max,z_max = 0,0,0\n",
    "for i in All_atom_list:\n",
    "    # 将要中心的原子种类放进列表\n",
    "    if i.type == center_atom_type:\n",
    "        Center_list.append(i)\n",
    "    if i.x>x_max:\n",
    "         x_max = i.x\n",
    "    if i.y>y_max:\n",
    "        y_max = i.y\n",
    "    if i.z>z_max:\n",
    "        z_max = i.z\n",
    "Box_size = np.array([x_max,y_max,z_max])"
   ]
  },
  {
   "cell_type": "code",
   "execution_count": 36,
   "id": "c2c68605",
   "metadata": {},
   "outputs": [],
   "source": [
    "# 随机选择center原子\n",
    "random_center_list = random.sample(Center_list,generate_num)\n",
    "# 每次处理一个原子的数据\n",
    "for center in random_center_list:\n",
    "    center_atom_position = np.array([center.x, center.y,center.z])\n",
    "    neighber_atom_list = []\n",
    "    #############找出附近原子#################\n",
    "    for i in range(len(All_atom_list)):\n",
    "        # 必须要这个原子的类型在特定的表中才分析\n",
    "        if All_atom_list[i].type in neighber_type_list:\n",
    "            # 只有两个原子的距离小于dis才\n",
    "            temp_neigh_list = [All_atom_list[i].type, All_atom_list[i].x, All_atom_list[i].y, All_atom_list[i].z]\n",
    "            if cal_ppp_distance(center_atom_position, temp_neigh_list[1:], Box_size) < cut_off_dis:\n",
    "                neighber_atom_list.append(temp_neigh_list)\n",
    "    neighber_atom_list = np.array(neighber_atom_list)\n",
    "    ####### 标准化数据 #################\n",
    "    neighber_type = neighber_atom_list[:,:1].reshape(-1)-1\n",
    "    # 平移坐标到原点\n",
    "    tran_zero_neighber = tran_position(center_atom_position,neighber_atom_list[:,1:],Box_size)   \n",
    "    # xyz三个角随机旋转0-180度\n",
    "    random_angle = [random.random() * 180,random.random() * 180,random.random() * 180]   \n",
    "    tran_rotate_neighber = rotate_atoms(tran_zero_neighber, random_angle)    \n",
    "    # 再加上标签 凑齐数据量 xyz和type\n",
    "    final_data = np.zeros(shape=(neighber_atom_num,4))\n",
    "    # 如果数据量比标准值大 后边的就不要了\n",
    "    for i in range(min(len(neighber_atom_list),neighber_atom_num)):\n",
    "        final_data[i] = [tran_rotate_neighber[i][0],tran_rotate_neighber[i][1],tran_rotate_neighber[i][2],neighber_type[i]]\n",
    "    #############再写入文件##################\n",
    "    if is_train==1:\n",
    "        Train_data.append(final_data)\n",
    "        Train_label.append(label)\n",
    "    else:\n",
    "        Test_data.append(final_data)\n",
    "        Test_label.append(label)"
   ]
  },
  {
   "cell_type": "markdown",
   "id": "b94adcca",
   "metadata": {},
   "source": [
    "# AI模型建立"
   ]
  },
  {
   "cell_type": "code",
   "execution_count": 37,
   "id": "23a3d64f",
   "metadata": {},
   "outputs": [],
   "source": [
    "import torch\n",
    "import torch.nn as nn\n",
    "import torch.optim as optim\n",
    "from torch.utils.data import Dataset, DataLoader\n",
    "import torch.nn.functional as F"
   ]
  },
  {
   "cell_type": "code",
   "execution_count": 38,
   "id": "a4e9ba6b",
   "metadata": {},
   "outputs": [],
   "source": [
    "# 参数设置\n",
    "batch_size = 64\n",
    "num_epochs = 100"
   ]
  },
  {
   "cell_type": "code",
   "execution_count": 39,
   "id": "0c05fbe6",
   "metadata": {},
   "outputs": [],
   "source": [
    "class PointNet(nn.Module):\n",
    "    def __init__(self):\n",
    "        super(PointNet, self).__init__()\n",
    "        \n",
    "        # MLP做局部特征提取\n",
    "        self.mlp1 = nn.Sequential(\n",
    "            nn.Conv1d(4, 64, 1),\n",
    "            nn.BatchNorm1d(64),\n",
    "            nn.ReLU(),\n",
    "            nn.Conv1d(64, 64, 1),\n",
    "            nn.BatchNorm1d(64),\n",
    "            nn.ReLU()\n",
    "        )\n",
    "        \n",
    "        # 提取全局特征\n",
    "        self.mlp2 = nn.Sequential(\n",
    "            nn.Conv1d(64, 128, 1),\n",
    "            nn.BatchNorm1d(128),\n",
    "            nn.ReLU(),\n",
    "            nn.Conv1d(128, 1024, 1),\n",
    "            nn.BatchNorm1d(1024),\n",
    "            nn.ReLU()\n",
    "        )\n",
    "        \n",
    "        # 全连接网络进行分类\n",
    "        self.fc1 = nn.Linear(1024, 512)\n",
    "        self.fc2 = nn.Linear(512, 256)\n",
    "        self.fc3 = nn.Linear(256, 2)  \n",
    "    \n",
    "    def forward(self, x):\n",
    "        # 对输入张量x进行维度排列操作，将通道维度放在第二个位置。\n",
    "        x = x.permute(0, 2, 1)\n",
    "        \n",
    "        # 局部特征提取\n",
    "        x = self.mlp1(x)\n",
    "        \n",
    "        # 最大池化操作，以获得全局特征。\n",
    "        x = torch.max(x, dim=2)[0]\n",
    "        \n",
    "        # 特征提取\n",
    "        x = self.mlp2(x.unsqueeze(2))\n",
    "        \n",
    "        # 再次进行最大池化操作，以获得最终的全局特征\n",
    "        x = torch.max(x, dim=2)[0]\n",
    "        \n",
    "        # 分类层\n",
    "        x = self.fc1(x)\n",
    "        x = self.fc2(x)\n",
    "        x = self.fc3(x)\n",
    "        \n",
    "        return x\n"
   ]
  },
  {
   "cell_type": "code",
   "execution_count": 40,
   "id": "2df5ecca",
   "metadata": {},
   "outputs": [
    {
     "name": "stderr",
     "output_type": "stream",
     "text": [
      "C:\\Users\\zhang\\AppData\\Local\\Temp\\ipykernel_29216\\3637984808.py:2: UserWarning: Creating a tensor from a list of numpy.ndarrays is extremely slow. Please consider converting the list to a single numpy.ndarray with numpy.array() before converting to a tensor. (Triggered internally at ..\\torch\\csrc\\utils\\tensor_new.cpp:248.)\n",
      "  train_data = torch.Tensor(Train_data)\n"
     ]
    }
   ],
   "source": [
    "# 将数据转换为Tensor\n",
    "train_data = torch.Tensor(Train_data)\n",
    "train_labels = torch.Tensor(Train_label).long()\n",
    "\n",
    "# 创建数据集和数据加载器\n",
    "dataset = torch.utils.data.TensorDataset(train_data, train_labels)\n",
    "dataloader = torch.utils.data.DataLoader(dataset, batch_size=batch_size, shuffle=True)\n",
    "\n",
    "# 将数据转换为Tensor\n",
    "test_data = torch.Tensor(Test_data)\n",
    "test_labels = torch.Tensor(Test_label).long()\n",
    "\n",
    "# 创建测试数据集和数据加载器\n",
    "test_dataset = torch.utils.data.TensorDataset(test_data, test_labels)\n",
    "test_dataloader = torch.utils.data.DataLoader(test_dataset, batch_size=batch_size, shuffle=False)\n"
   ]
  },
  {
   "cell_type": "code",
   "execution_count": 41,
   "id": "77bf4104",
   "metadata": {},
   "outputs": [],
   "source": [
    "# 创建PointNet模型实例\n",
    "model = PointNet()\n",
    "\n",
    "# 定义损失函数和优化器\n",
    "criterion = nn.CrossEntropyLoss()\n",
    "optimizer = optim.Adam(model.parameters(), lr=0.001)\n",
    "\n",
    "# 准备数据集并进行训练\n",
    "# 假设train_data是训练数据集，train_labels是对应的标签\n",
    "list_loss = []\n",
    "# 训练模型\n",
    "for epoch in range(num_epochs):\n",
    "    for batch_data, batch_labels in dataloader:\n",
    "        optimizer.zero_grad()\n",
    "        outputs = model(batch_data)\n",
    "        loss = criterion(outputs, batch_labels)\n",
    "        loss.backward()\n",
    "        optimizer.step()\n",
    "    list_loss.append(loss)"
   ]
  },
  {
   "cell_type": "code",
   "execution_count": 42,
   "id": "99e1b162",
   "metadata": {},
   "outputs": [
    {
     "data": {
      "text/plain": [
       "Text(0.5, 1.0, 'Loss with epochs')"
      ]
     },
     "execution_count": 42,
     "metadata": {},
     "output_type": "execute_result"
    },
    {
     "data": {
      "image/png": "[encoded data removed]",
      "text/plain": [
       "<Figure size 432x288 with 1 Axes>"
      ]
     },
     "metadata": {
      "needs_background": "light"
     },
     "output_type": "display_data"
    }
   ],
   "source": [
    "list_loss_np_y = []\n",
    "list_loss_x = []\n",
    "for i in range(len(list_loss)):\n",
    "    numpy_array = list_loss[i].detach().numpy()\n",
    "    list_loss_np_y.append(numpy_array)\n",
    "    list_loss_x.append(i)\n",
    "plt.plot(list_loss_x,list_loss_np_y)\n",
    "plt.title('Loss with epochs')"
   ]
  },
  {
   "cell_type": "code",
   "execution_count": 43,
   "id": "5203b8c3",
   "metadata": {},
   "outputs": [
    {
     "name": "stdout",
     "output_type": "stream",
     "text": [
      "Accuracy on test set: 91.10%\n"
     ]
    }
   ],
   "source": [
    "# 在测试集上进行预测\n",
    "model.eval()\n",
    "with torch.no_grad():\n",
    "    correct = 0\n",
    "    total = 0\n",
    "    for batch_data, batch_labels in test_dataloader:\n",
    "        outputs = model(batch_data)\n",
    "        _, predicted = torch.max(outputs.data, 1)\n",
    "        total += batch_labels.size(0)\n",
    "        correct += (predicted == batch_labels).sum().item()\n",
    "\n",
    "    accuracy = correct / total\n",
    "    print('Accuracy on test set: {:.2%}'.format(accuracy))"
   ]
  },
  {
   "cell_type": "markdown",
   "id": "57b53ca4",
   "metadata": {},
   "source": [
    "# 根据这个程序识别原子"
   ]
  },
  {
   "cell_type": "code",
   "execution_count": 110,
   "id": "790d44d7",
   "metadata": {},
   "outputs": [],
   "source": [
    "# 菜单栏\n",
    "val_path = r'C:\\Users\\zhang\\Desktop\\cry_300k.lmp'\n",
    "out_name = r'train_data'\n",
    "########################### \n",
    "# 制作的是训练集还是测试集\n",
    "is_train =  1\n",
    "\n",
    "# 这批数据是0 glass 是 1crystal\n",
    "label = 0\n",
    "\n",
    "# 分析帧数\n",
    "ana_frame_num = 400\n",
    "# 一帧中选取多少个数据出来\n",
    "generate_num = 1000\n",
    "\n",
    "# dis距离\n",
    "cut_off_dis  = 5.0\n",
    "# 设置中心原子\n",
    "center_atom_type = 2\n",
    "center_atom_index = 8\n",
    "# 设置临近原子类型\n",
    "neighber_type_list = [1,2]\n",
    "# 一个数据中的原子总数\n",
    "neighber_atom_num = 45"
   ]
  },
  {
   "cell_type": "code",
   "execution_count": 112,
   "id": "6a33b765",
   "metadata": {},
   "outputs": [
    {
     "name": "stdout",
     "output_type": "stream",
     "text": [
      "\n",
      "Result analysis completed\n",
      "Other information:\n",
      "Number of total frames: 401\n",
      "Number of atoms: 15000\n",
      "Box size: 107.264\n"
     ]
    }
   ],
   "source": [
    "# 所有信息储存的总列表\n",
    "list_all_frames = []\n",
    "\n",
    "# 读取lmp文件\n",
    "# 打开文件并读取所有行数据\n",
    "with open(val_path, 'r') as file:\n",
    "    lines = file.readlines()\n",
    "# 每一页的原子数\n",
    "num_atom =int(lines[3])\n",
    "# 定义一页的行数\n",
    "lines_per_page = num_atom + 9\n",
    "# 计算总页数\n",
    "total_pages = (len(lines) + lines_per_page - 1) // lines_per_page\n",
    "# 遍历每一页\n",
    "for page in range(total_pages):\n",
    "    # 计算当前页的起始行号和结束行号\n",
    "    start_line = page * lines_per_page\n",
    "    end_line = start_line + lines_per_page\n",
    "    # 从总行数据中获取当前页的行数据\n",
    "    page_lines = lines[start_line:end_line]\n",
    "    ## 开始分析每一页中的数据\n",
    "    # 每一页的数据存储在这个list中\n",
    "    list_frame = []\n",
    "    #print(\"Current frame number :\",page)\n",
    "    # 每一页的第九行开始才是原子数据\n",
    "    for i_atom in page_lines[9:]:\n",
    "        ii = i_atom.split()\n",
    "        atom = Atom(int(ii[0]),int(ii[1]),float(ii[2]),float(ii[3]),float(ii[4]),float(ii[5]),float(ii[6]),float(ii[7]),float(ii[8])\\\n",
    "                    ,float(ii[9]),float(ii[10]),float(ii[11]),float(ii[12]),float(ii[13]),float(ii[14]))\n",
    "        \n",
    "        list_frame.append(atom)\n",
    "    list_all_frames.append(list_frame)\n",
    "# 输出文档中的其他信息\n",
    "print('\\nResult analysis completed')\n",
    "print(\"Other information:\")\n",
    "print(\"Number of total frames:\",total_pages)\n",
    "print(\"Number of atoms:\", lines[3].split()[0])\n",
    "print('Box size:',round(float(lines[5].split()[1]),3))\n"
   ]
  },
  {
   "cell_type": "code",
   "execution_count": 113,
   "id": "94a3525a",
   "metadata": {},
   "outputs": [],
   "source": [
    "# 将要分析的列表单独独立出来 深拷贝\n",
    "All_atom_list = copy.deepcopy(list_all_frames[ana_frame_num])\n",
    "# 有两个列表 一个是center 一个是neighber\n",
    "Center_list = []\n",
    "# 先得出最大的BOX距离 并且这个BOX的xyz可以不相等\n",
    "x_max,y_max,z_max = 0,0,0\n",
    "for i in All_atom_list:\n",
    "    # 将要中心的原子种类放进列表\n",
    "    if i.type == center_atom_type:\n",
    "        Center_list.append(i)\n",
    "    if i.x>x_max:\n",
    "         x_max = i.x\n",
    "    if i.y>y_max:\n",
    "        y_max = i.y\n",
    "    if i.z>z_max:\n",
    "        z_max = i.z\n",
    "Box_size = np.array([x_max,y_max,z_max])"
   ]
  },
  {
   "cell_type": "code",
   "execution_count": 114,
   "id": "6cffe6d3",
   "metadata": {},
   "outputs": [],
   "source": [
    "Val_data = []\n",
    "Val_label = []"
   ]
  },
  {
   "cell_type": "code",
   "execution_count": 115,
   "id": "6f8408d7",
   "metadata": {},
   "outputs": [],
   "source": [
    "# 选择全部center原子\n",
    "random_center_list = Center_list\n",
    "# 每次处理一个原子的数据\n",
    "for center in random_center_list:\n",
    "    center_atom_position = np.array([center.x, center.y,center.z])\n",
    "    neighber_atom_list = []\n",
    "    #############找出附近原子#################\n",
    "    for i in range(len(All_atom_list)):\n",
    "        # 必须要这个原子的类型在特定的表中才分析\n",
    "        if All_atom_list[i].type in neighber_type_list:\n",
    "            # 只有两个原子的距离小于dis才\n",
    "            temp_neigh_list = [All_atom_list[i].type, All_atom_list[i].x, All_atom_list[i].y, All_atom_list[i].z]\n",
    "            if cal_ppp_distance(center_atom_position, temp_neigh_list[1:], Box_size) < cut_off_dis:\n",
    "                neighber_atom_list.append(temp_neigh_list)\n",
    "    neighber_atom_list = np.array(neighber_atom_list)\n",
    "    ####### 标准化数据 #################\n",
    "    neighber_type = neighber_atom_list[:,:1].reshape(-1)-1\n",
    "    # 平移坐标到原点\n",
    "    tran_zero_neighber = tran_position(center_atom_position,neighber_atom_list[:,1:],Box_size)   \n",
    "    # xyz三个角随机旋转0-180度\n",
    "    random_angle = [random.random() * 180,random.random() * 180,random.random() * 180]   \n",
    "    tran_rotate_neighber = rotate_atoms(tran_zero_neighber, random_angle)    \n",
    "    # 再加上标签 凑齐数据量 xyz和type\n",
    "    final_data = np.zeros(shape=(neighber_atom_num,4))\n",
    "    # 如果数据量比标准值大 后边的就不要了\n",
    "    for i in range(min(len(neighber_atom_list),neighber_atom_num)):\n",
    "        final_data[i] = [tran_rotate_neighber[i][0],tran_rotate_neighber[i][1],tran_rotate_neighber[i][2],neighber_type[i]]\n",
    "    #############再写入文件##################\n",
    "    Val_data.append(final_data)\n",
    "    Val_label.append(label)\n"
   ]
  },
  {
   "cell_type": "code",
   "execution_count": 116,
   "id": "6e93259b",
   "metadata": {},
   "outputs": [],
   "source": [
    "# 将数据转换为Tensor\n",
    "train_data = torch.Tensor(Val_data)\n",
    "train_labels = torch.Tensor(Val_label).long()\n",
    "\n",
    "# 创建数据集和数据加载器\n",
    "dataset = torch.utils.data.TensorDataset(train_data, train_labels)\n",
    "dataloader = torch.utils.data.DataLoader(dataset, batch_size=batch_size, shuffle=None)\n",
    "# # 执行推理\n",
    "# outputs = []\n",
    "# model = model.float()\n",
    "# for batch_input, batch_target in data_loader:\n",
    "#     # 将输入数据传递给模型进行推理\n",
    "#     batch_output = model(batch_input)\n",
    "#     outputs.append(batch_output)"
   ]
  },
  {
   "cell_type": "code",
   "execution_count": 117,
   "id": "59e28a57",
   "metadata": {},
   "outputs": [
    {
     "data": {
      "text/plain": [
       "3000"
      ]
     },
     "execution_count": 117,
     "metadata": {},
     "output_type": "execute_result"
    }
   ],
   "source": [
    "len(Val_data)"
   ]
  },
  {
   "cell_type": "code",
   "execution_count": 118,
   "id": "30aa746a",
   "metadata": {},
   "outputs": [],
   "source": [
    "# 在测试集上进行预测\n",
    "out_put = []\n",
    "model.eval()\n",
    "with torch.no_grad():\n",
    "    #correct = 0\n",
    "    #total = 0\n",
    "    \n",
    "    for batch_data, batch_labels in dataloader:\n",
    "        outputs = model(batch_data)\n",
    "        \n",
    "        _, predicted = torch.max(outputs.data, 1)\n",
    "        out_put.append(predicted)\n",
    "        #out_put.append(predicted)\n",
    "        #total += batch_labels.size(0)\n",
    "        #correct += (predicted == batch_labels).sum().item()\n",
    "\n",
    "    #accuracy = correct / total\n",
    "    #print('Accuracy on test set: {:.2%}'.format(accuracy))"
   ]
  },
  {
   "cell_type": "code",
   "execution_count": 119,
   "id": "5921fbd9",
   "metadata": {},
   "outputs": [
    {
     "data": {
      "text/plain": [
       "47"
      ]
     },
     "execution_count": 119,
     "metadata": {},
     "output_type": "execute_result"
    }
   ],
   "source": [
    "len(out_put)"
   ]
  },
  {
   "cell_type": "code",
   "execution_count": 120,
   "id": "21046a8f",
   "metadata": {},
   "outputs": [],
   "source": [
    "batch_size = 64"
   ]
  },
  {
   "cell_type": "code",
   "execution_count": 121,
   "id": "f61684dd",
   "metadata": {},
   "outputs": [],
   "source": [
    "tensor_tuple = out_put\n",
    "tensor_list = [tensor.tolist() for tensor in tensor_tuple]"
   ]
  },
  {
   "cell_type": "code",
   "execution_count": 122,
   "id": "dad7e3f9",
   "metadata": {},
   "outputs": [],
   "source": [
    "lab = []\n",
    "a = 0\n",
    "for i in tensor_list:\n",
    "    for j in i:\n",
    "        lab.append(j)\n"
   ]
  },
  {
   "cell_type": "code",
   "execution_count": 123,
   "id": "e9b3cb65",
   "metadata": {},
   "outputs": [
    {
     "data": {
      "text/plain": [
       "1"
      ]
     },
     "execution_count": 123,
     "metadata": {},
     "output_type": "execute_result"
    }
   ],
   "source": [
    "lab[0]"
   ]
  },
  {
   "cell_type": "code",
   "execution_count": 124,
   "id": "caaa6e81",
   "metadata": {},
   "outputs": [],
   "source": [
    "save_path = r'C:\\Users\\zhang\\Desktop\\val_300k1.xyz'"
   ]
  },
  {
   "cell_type": "code",
   "execution_count": 125,
   "id": "d6b9d627",
   "metadata": {},
   "outputs": [],
   "source": [
    "# 写回文件\n",
    "with open(save_path,'w') as file:\n",
    "    file.write('15000\\n')\n",
    "    file.write('Atoms\\n')\n",
    "    # 先把Nb写回去\n",
    "    for i in range(3000):\n",
    "        if lab[i]==0:\n",
    "            file.write('Si '+ str(Center_list[i].x)+' '+str(Center_list[i].y)+' '+str(Center_list[i].z)+'\\n')\n",
    "        else:\n",
    "            file.write('Nb '+str(Center_list[i].x)+' '+str(Center_list[i].y)+' '+str(Center_list[i].z)+'\\n')\n",
    "    # 再写回去其他原子\n",
    "    for i in All_atom_list:\n",
    "        if i.type!= 2:\n",
    "            if i.type==1:\n",
    "                file.write('O '+str(i.x)+' '+str(i.y)+' '+str(i.z)+'\\n')\n",
    "            else:\n",
    "                file.write('Li '+str(i.x)+' '+str(i.y)+' '+str(i.z)+'\\n')"
   ]
  },
  {
   "cell_type": "code",
   "execution_count": 101,
   "id": "0dacf730",
   "metadata": {},
   "outputs": [],
   "source": [
    "# 玻璃是0 Si   记为 晶体是1 cry Nb"
   ]
  },
  {
   "cell_type": "code",
   "execution_count": 103,
   "id": "bbbe1629",
   "metadata": {},
   "outputs": [
    {
     "data": {
      "text/plain": [
       "<__main__.Atom at 0x22f0a655ae0>"
      ]
     },
     "execution_count": 103,
     "metadata": {},
     "output_type": "execute_result"
    }
   ],
   "source": [
    "Center_list[0]"
   ]
  },
  {
   "cell_type": "code",
   "execution_count": null,
   "id": "193107ff",
   "metadata": {},
   "outputs": [],
   "source": []
  }
 ],
 "metadata": {
  "kernelspec": {
   "display_name": "Python 3 (ipykernel)",
   "language": "python",
   "name": "python3"
  },
  "language_info": {
   "codemirror_mode": {
    "name": "ipython",
    "version": 3
   },
   "file_extension": ".py",
   "mimetype": "text/x-python",
   "name": "python",
   "nbconvert_exporter": "python",
   "pygments_lexer": "ipython3",
   "version": "3.12.3"
  }
 },
 "nbformat": 4,
 "nbformat_minor": 5
}
