{
 "cells": [
  {
   "cell_type": "code",
   "execution_count": 5,
   "id": "4ae5d56e",
   "metadata": {},
   "outputs": [],
   "source": [
    "# 创建一个总的数据集，当作input\n",
    "Data_count = 0\n",
    "Data_set = []\n",
    "Labels = []"
   ]
  },
  {
   "cell_type": "code",
   "execution_count": 6,
   "id": "f5cc0500",
   "metadata": {},
   "outputs": [
    {
     "data": {
      "image/png": "[encoded data removed]",
      "text/plain": [
       "<Figure size 432x288 with 1 Axes>"
      ]
     },
     "metadata": {
      "needs_background": "light"
     },
     "output_type": "display_data"
    },
    {
     "name": "stdout",
     "output_type": "stream",
     "text": [
      "outside points number:  122\n",
      "inside points number:  30\n",
      "All points number: 152\n",
      " Dataset is legal!\n"
     ]
    }
   ],
   "source": [
    "import numpy as np\n",
    "import matplotlib.pyplot as plt\n",
    "from scipy.spatial import ConvexHull\n",
    "from shapely.geometry import Point, Polygon\n",
    "import random\n",
    "from matplotlib.path import Path\n",
    "\n",
    "# 第一步：生成间距为0.5距离的点，加上正负0.15的偏移，点尺寸设置为0.5\n",
    "spacing = 0.8\n",
    "offset = 0.3\n",
    "point_size = 0.5\n",
    "\n",
    "x_coords = np.arange(0, 10, spacing)\n",
    "y_coords = np.arange(0, 10, spacing)\n",
    "\n",
    "x_grid, y_grid = np.meshgrid(x_coords, y_coords)\n",
    "\n",
    "x_grid += np.random.uniform(-offset, offset, size=x_grid.shape)\n",
    "y_grid += np.random.uniform(-offset, offset, size=y_grid.shape)\n",
    "\n",
    "points = np.column_stack((x_grid.flatten(), y_grid.flatten()))\n",
    "\n",
    "# 第二步：随机生成几个点构成闭包区域，并删除在闭包区域内部的第一步生成的点\n",
    "num_hull_points = np.random.randint(4, 10)\n",
    "\n",
    "hull_indices = np.random.choice(len(points), size=num_hull_points, replace=False)\n",
    "hull_points = points[hull_indices]\n",
    "\n",
    "# 计算凸包\n",
    "hull = ConvexHull(hull_points)\n",
    "\n",
    "# 获取凸包的边界点\n",
    "hull_vertices = hull_points[hull.vertices]\n",
    "\n",
    "# 使用Shapely库创建凸包多边形对象\n",
    "polygon = Polygon(hull_vertices)\n",
    "\n",
    "# 删除在闭包区域内部的点\n",
    "outside_points = []\n",
    "for point in points:\n",
    "    if not polygon.contains(Point(point)):\n",
    "        outside_points.append(point)\n",
    "\n",
    "outside_points = np.array(outside_points)\n",
    "#################################\n",
    "convex_hull_path = Path(hull_vertices)\n",
    "\n",
    "def generate_random_matrix(matrix_shape):\n",
    "    return np.random.uniform(-0.1, 0.1, size=matrix_shape)\n",
    "\n",
    "\n",
    "def generate_points_in_convex_hull(convex_hull, min_spacing, max_spacing):\n",
    "    min_x = np.min(convex_hull[:, 0])\n",
    "    max_x = np.max(convex_hull[:, 0])\n",
    "    min_y = np.min(convex_hull[:, 1])\n",
    "    max_y = np.max(convex_hull[:, 1])\n",
    "\n",
    "    num_points_x = int((max_x - min_x) / min_spacing)\n",
    "    num_points_y = int((max_y - min_y) / min_spacing)\n",
    "\n",
    "    points = np.meshgrid(np.linspace(min_x, max_x, num_points_x),\n",
    "                         np.linspace(min_y, max_y, num_points_y))\n",
    "    points = np.vstack((points[0].flatten(), points[1].flatten())).T\n",
    "\n",
    "    mask = convex_hull_path.contains_points(points)\n",
    "    points = points[mask]\n",
    "\n",
    "    return points\n",
    "\n",
    "min_spacing_inside = 0.8\n",
    "max_spacing_inside = 0.82\n",
    "inside_points = generate_points_in_convex_hull(hull_vertices, min_spacing_inside, max_spacing_inside)\n",
    "# 再加上随机扰动\n",
    "inside_points = generate_random_matrix(inside_points.shape) + inside_points\n",
    "for i in inside_points:\n",
    "    for j in i:\n",
    "        if j<0:\n",
    "            j+=0.1\n",
    "        if j>10:\n",
    "            j-=0.1\n",
    "for i in outside_points:\n",
    "    for j in i:\n",
    "        if j<0:\n",
    "            j=0\n",
    "        if j>10:\n",
    "            j=10\n",
    "#################################\n",
    "# 可视化结果\n",
    "plt.scatter(outside_points[:, 0], outside_points[:, 1], s=point_size, color='blue')\n",
    "plt.scatter(hull_vertices[:, 0], hull_vertices[:, 1], s=point_size, color='red')\n",
    "plt.fill(hull_vertices[:, 0], hull_vertices[:, 1], edgecolor='red', facecolor='none')\n",
    "###\n",
    "plt.scatter(inside_points[:, 0], inside_points[:, 1], s=point_size, color='green')\n",
    "\n",
    "plt.xlim(0, 10)\n",
    "plt.ylim(0, 10)\n",
    "plt.gca().set_aspect('equal', adjustable='box')\n",
    "plt.grid(True)\n",
    "plt.show()\n",
    "\n",
    "# \n",
    "print('outside points number: ',len(outside_points))\n",
    "print('inside points number: ',len(inside_points))\n",
    "print('All points number:',len(outside_points)+len(inside_points))\n",
    "\n",
    "\n",
    "##########################\n",
    "if (len(outside_points)+len(inside_points))>160 or len(inside_points)<5:\n",
    "    print('This rand dataset is illegal.')\n",
    "else:\n",
    "    print(' Dataset is legal!')\n",
    "# 总的数据数组  \n",
    "list_temp_allData = []\n",
    "for i in outside_points:\n",
    "    # 晶体\n",
    "    list_temp_allData.append([i[0],i[1],1])\n",
    "for j in inside_points:\n",
    "    # 玻璃\n",
    "    list_temp_allData.append([j[0],j[1],2])\n",
    "# 再补上 补全数据\n",
    "for i in range(160-len(outside_points)-len(inside_points)):\n",
    "    list_temp_allData.append([0,0,0])\n",
    "\n",
    "####################\n",
    "temp_data = []\n",
    "temp_label = []\n",
    "for i in list_temp_allData:\n",
    "    temp_data.append([i[0],i[1]])\n",
    "    temp_label.append(i[2])"
   ]
  },
  {
   "cell_type": "code",
   "execution_count": 3,
   "id": "42170d14",
   "metadata": {},
   "outputs": [
    {
     "data": {
      "text/plain": [
       "1"
      ]
     },
     "execution_count": 3,
     "metadata": {},
     "output_type": "execute_result"
    }
   ],
   "source": [
    "Data_set.append(temp_data)\n",
    "Labels.append(temp_data)\n",
    "Data_count+=1\n",
    "Data_count"
   ]
  },
  {
   "cell_type": "markdown",
   "id": "038fee29",
   "metadata": {},
   "source": [
    "Is_save = 1\n",
    "###  是否将生成数据存入文件夹\n",
    "count = 0\n",
    "save_path = r\"C:\\Users\\zhang\\Desktop\\AI_test\"\n",
    "if len(outside_points)+len(inside_points)<160 and len(inside_points)>5:\n",
    "    # 打开文件，以写入模式打开（'w'），如果文件不存在则创建\n",
    "    with open(\"output.txt\", \"w\") as file:\n",
    "        # 循环写入数据\n",
    "        for item in list_temp_allData:\n",
    "            file.write(item + \"\\n\")\n",
    "\n",
    "\n",
    "\n"
   ]
  },
  {
   "cell_type": "code",
   "execution_count": null,
   "id": "b1350d3a",
   "metadata": {},
   "outputs": [],
   "source": []
  }
 ],
 "metadata": {
  "kernelspec": {
   "display_name": "Python 3 (ipykernel)",
   "language": "python",
   "name": "python3"
  },
  "language_info": {
   "codemirror_mode": {
    "name": "ipython",
    "version": 3
   },
   "file_extension": ".py",
   "mimetype": "text/x-python",
   "name": "python",
   "nbconvert_exporter": "python",
   "pygments_lexer": "ipython3",
   "version": "3.10.6"
  }
 },
 "nbformat": 4,
 "nbformat_minor": 5
}
