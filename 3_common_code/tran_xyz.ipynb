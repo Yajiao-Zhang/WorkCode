{
 "cells": [
  {
   "cell_type": "markdown",
   "id": "0c4f8954",
   "metadata": {},
   "source": [
    "# 首先说明这个文本的格式\n",
    "\"\"\"\n",
    "ITEM: TIMESTEP\n",
    "0\n",
    "ITEM: NUMBER OF ATOMS\n",
    "8000\n",
    "ITEM: BOX BOUNDS xy xz yz pp pp pp\n",
    "0.0000000000000000e+00 4.6533427000000003e+01 0.0000000000000000e+00\n",
    "0.0000000000000000e+00 4.6533427000000003e+01 0.0000000000000000e+00\n",
    "0.0000000000000000e+00 4.6533427000000003e+01 0.0000000000000000e+00\n",
    "ITEM: ATOMS id type x y z c_Ke_atom c_Pe_atom v_E_total\n",
    "124 1 2.58039 3.51121 2.23636 0.0825842 -10.2941 -10.2115\n",
    "140 1 2.66513 4.62293 5.07125 0.02891 -9.33703 -9.30812\n",
    "\"\"\"\n",
    "本代码旨在读取文本中的数据，每一帧中的原子的信息要放在一个class中，然后所有原子放在\n",
    "#一个列表中，这个最后每一帧的列表放在总的列表中供之后的处理使用"
   ]
  },
  {
   "cell_type": "code",
   "execution_count": 46,
   "id": "83b75d29",
   "metadata": {},
   "outputs": [],
   "source": [
    "#文件路径\n",
    "file_path = r'C:\\Users\\zhang\\Desktop\\g300K_100p.xyz'\n",
    "\n",
    "# 是否生成xyz文件\n",
    "out_xyz = 1\n",
    "# 生成xyz文件的地址\n",
    "out_path = r'C:\\Users\\zhang\\Desktop\\out11.xyz'\n",
    "list_type = ['O','Nb','Li']\n",
    "\n",
    "\n",
    "#所有信息储存的总列表\n",
    "list_all_frames = []\n",
    "# 每一个原子的信息\n",
    "class Atom:\n",
    "    def __init__(self, _id, _type, q,x, y, z):\n",
    "        self.id = _id\n",
    "        self.type = _type\n",
    "        self.q = q\n",
    "        self.x = x\n",
    "        self.y = y\n",
    "        self.z = z"
   ]
  },
  {
   "cell_type": "code",
   "execution_count": 47,
   "id": "74aab826",
   "metadata": {},
   "outputs": [
    {
     "data": {
      "text/plain": [
       "6500"
      ]
     },
     "execution_count": 47,
     "metadata": {},
     "output_type": "execute_result"
    }
   ],
   "source": [
    "# 打开文件并读取所有行数据\n",
    "with open(file_path, 'r') as file:\n",
    "    lines = file.readlines()\n",
    "int(lines[3])"
   ]
  },
  {
   "cell_type": "code",
   "execution_count": 48,
   "id": "0781ca87",
   "metadata": {},
   "outputs": [
    {
     "name": "stdout",
     "output_type": "stream",
     "text": [
      "\n",
      "Result analysis completed\n",
      "Other information:\n",
      "Number of total frames: 101\n",
      "Number of atoms: 6500\n",
      "Box XYZ: 120.0 50.0 12.19\n"
     ]
    }
   ],
   "source": [
    "# 打开文件并读取所有行数据\n",
    "with open(file_path, 'r') as file:\n",
    "    lines = file.readlines()\n",
    "# 每一页的原子数\n",
    "num_atom =int(lines[3])\n",
    "# 定义一页的行数\n",
    "lines_per_page = num_atom + 9\n",
    "# 计算总页数\n",
    "total_pages = (len(lines) + lines_per_page - 1) // lines_per_page\n",
    "# 遍历每一页\n",
    "for page in range(total_pages):\n",
    "    # 计算当前页的起始行号和结束行号\n",
    "    start_line = page * lines_per_page\n",
    "    end_line = start_line + lines_per_page\n",
    "    # 从总行数据中获取当前页的行数据\n",
    "    page_lines = lines[start_line:end_line]\n",
    "    ## 开始分析每一页中的数据\n",
    "    # 每一页的数据存储在这个list中\n",
    "    list_frame = []\n",
    "    #print(\"Current frame number :\",page)\n",
    "    # 每一页的第九行开始才是原子数据\n",
    "    for i_atom in page_lines[9:]:\n",
    "        ii = i_atom.split()\n",
    "        atom = Atom(int(ii[0]),int(ii[1]),float(ii[2]),float(ii[3]),float(ii[4]),float(ii[5]))\n",
    "        list_frame.append(atom)\n",
    "    list_all_frames.append(list_frame)\n",
    "# 输出文档中的其他信息\n",
    "print('\\nResult analysis completed')\n",
    "print(\"Other information:\")\n",
    "print(\"Number of total frames:\",total_pages)\n",
    "print(\"Number of atoms:\", lines[3].split()[0])\n",
    "print('Box XYZ:',round(float(lines[5].split()[1]),3), round(float(lines[6].split()[1]),2),round(float(lines[7].split()[1]),2))"
   ]
  },
  {
   "cell_type": "code",
   "execution_count": 49,
   "id": "8c0c97f5",
   "metadata": {},
   "outputs": [
    {
     "data": {
      "text/plain": [
       "{'id': 5842, 'type': 3, 'q': 0.6, 'x': 1.19198, 'y': 1.91315, 'z': 5.15806}"
      ]
     },
     "execution_count": 49,
     "metadata": {},
     "output_type": "execute_result"
    }
   ],
   "source": [
    "vars(list_all_frames[0][0])"
   ]
  },
  {
   "cell_type": "code",
   "execution_count": 50,
   "id": "b77cf6da",
   "metadata": {},
   "outputs": [
    {
     "data": {
      "text/plain": [
       "'6500'"
      ]
     },
     "execution_count": 50,
     "metadata": {},
     "output_type": "execute_result"
    }
   ],
   "source": [
    "lines[3].split()[0]"
   ]
  },
  {
   "cell_type": "code",
   "execution_count": 52,
   "id": "6e71f69d",
   "metadata": {},
   "outputs": [
    {
     "name": "stdout",
     "output_type": "stream",
     "text": [
      "output has been completed\n"
     ]
    }
   ],
   "source": [
    "# 生成xyz格式文件\n",
    "if out_xyz == 1:\n",
    "    # 打开文件，以追加模式打开\n",
    "    with open(out_path, 'a') as file:\n",
    "        for i in list_all_frames:\n",
    "            file.write(lines[3].split()[0] + '\\n')\n",
    "            file.write('Atoms\\n')\n",
    "            # 每一帧当中的代码\n",
    "            for ii in i:\n",
    "                file.write(list_type[ii.type-1] +' '+ str(ii.x) + ' '+ str(ii.y)+' '+str(ii.z) +'\\n')\n",
    "print('output has been completed')"
   ]
  },
  {
   "cell_type": "markdown",
   "id": "984d17b3",
   "metadata": {},
   "source": [
    "# 分析ke，pe，以及e_total三种能量的分布情况"
   ]
  },
  {
   "cell_type": "code",
   "execution_count": 70,
   "id": "29e8c37a",
   "metadata": {},
   "outputs": [],
   "source": [
    "# 分析数据选项\n",
    "ana_frame = 1000\n",
    "# 分析能量值 pe ke or e_total\n",
    "ana_type = 'total energy'\n",
    "# 切分份数\n",
    "x_split_size = 100\n",
    "y_split_size = 50"
   ]
  },
  {
   "cell_type": "code",
   "execution_count": 71,
   "id": "63db522a",
   "metadata": {},
   "outputs": [],
   "source": [
    "# 读取数据，假设x和y分别为x轴和y轴的数据，z为能量数据\n",
    "list_x = []\n",
    "list_y = []\n",
    "list_z = []\n",
    "list_pe = []\n",
    "list_ke = []\n",
    "list_e_total = []\n",
    "# 此处并不是把每一帧的数据都放进去，而是选择某一帧进行分析\n",
    "\n",
    "i = list_all_frames[ana_frame]\n",
    "for ii in i:\n",
    "    list_x.append(ii.x)\n",
    "    list_y.append(ii.y)\n",
    "    list_z.append(ii.z)\n",
    "    list_ke.append(ii.c_ke_atom)\n",
    "    list_pe.append(ii.c_pe_atom)\n",
    "    list_e_total.append(ii.v_e_total)"
   ]
  },
  {
   "cell_type": "code",
   "execution_count": 72,
   "id": "3598b3f4",
   "metadata": {},
   "outputs": [
    {
     "data": {
      "text/plain": [
       "1001"
      ]
     },
     "execution_count": 72,
     "metadata": {},
     "output_type": "execute_result"
    }
   ],
   "source": [
    "len(list_all_frames)"
   ]
  },
  {
   "cell_type": "code",
   "execution_count": 73,
   "id": "863bdc53",
   "metadata": {},
   "outputs": [
    {
     "data": {
      "image/png": "[encoded data removed]",
      "text/plain": [
       "<Figure size 720x480 with 2 Axes>"
      ]
     },
     "metadata": {
      "needs_background": "light"
     },
     "output_type": "display_data"
    },
    {
     "name": "stdout",
     "output_type": "stream",
     "text": [
      "Analysis frame: 1000\n",
      "Analysis type: total energy  Total energy: -85237.81171186\n"
     ]
    }
   ],
   "source": [
    "import numpy as np\n",
    "import matplotlib.pyplot as plt\n",
    "from matplotlib.font_manager import FontProperties\n",
    "# 设置全局字体\n",
    "plt.rcParams['font.family'] = 'Times New Roman'\n",
    "plt.rcParams['font.size'] = 12\n",
    "# 设置局部字体\n",
    "font = FontProperties()\n",
    "font.set_family('Times New Roman')\n",
    "# 创建绘图窗口\n",
    "fig = plt.figure(dpi=120)\n",
    "\n",
    "# 将x，y，energy转化为numpy数组\n",
    "x = np.array(list_x)\n",
    "y = np.array(list_y)\n",
    "\n",
    "# 辨别分析的能量类型\n",
    "energy = []\n",
    "if ana_type == 'pe':\n",
    "    energy = np.array(list_pe)\n",
    "elif ana_type == 'ke':\n",
    "    energy = np.array(list_ke)\n",
    "else:\n",
    "    energy = np.array(list_e_total)\n",
    "\n",
    "\n",
    "# 设置xy网格\n",
    "x_grid = np.linspace(x.min(), x.max(), x_split_size)\n",
    "y_grid = np.linspace(y.min(), y.max(), y_split_size)\n",
    "X, Y = np.meshgrid(x_grid, y_grid)\n",
    "\n",
    "# 计算每个网格上的总能量\n",
    "total_energy = np.zeros_like(X)\n",
    "for i in range(len(x)):\n",
    "    # 找到x，y所在的网格\n",
    "    x_idx = np.abs(x_grid - x[i]).argmin()\n",
    "    y_idx = np.abs(y_grid - y[i]).argmin()\n",
    "    # 将能量加到所在网格上\n",
    "    total_energy[y_idx, x_idx] += energy[i]\n",
    "\n",
    "# 绘制能量分布图\n",
    "plt.pcolormesh(X, Y, total_energy)\n",
    "plt.colorbar()\n",
    "plt.title('Energy distribution(eV)',fontproperties=font, fontsize=16)\n",
    "\n",
    "plt.xlabel('X(Å)', fontproperties=font, fontsize=12)\n",
    "plt.ylabel('Y(Å)', fontproperties=font, fontsize=12)\n",
    "\n",
    "\n",
    "#\n",
    "plt.show()\n",
    "\n",
    "# 计算总能量\n",
    "print('Analysis frame:',str(ana_frame))\n",
    "total_energy_sum = np.sum(total_energy)\n",
    "print('Analysis type:',ana_type,' Total energy:',total_energy_sum)"
   ]
  },
  {
   "cell_type": "code",
   "execution_count": 48,
   "id": "24932827",
   "metadata": {},
   "outputs": [
    {
     "name": "stdout",
     "output_type": "stream",
     "text": [
      "e\n",
      "e_cry: -13.069374973577222  e_glass -14.253412912423634\n"
     ]
    }
   ],
   "source": [
    "# 计算晶体区域和非晶区域的能量差别\n",
    "e_cry = 0\n",
    "count_cry_atom = 0\n",
    "# \n",
    "e_glass = 0\n",
    "count_glass_atom = 0\n",
    "#  分析的列表 \n",
    "cal_list = list_all_frames[100]\n",
    "# 计算区域的总能量\n",
    "for i in cal_list:\n",
    "    # cry 50-60\n",
    "    if 70<i.x<80:\n",
    "        count_cry_atom+=1\n",
    "        e_cry+=i.v_e_total\n",
    "    elif 100<i.x<110:\n",
    "        count_glass_atom+=1\n",
    "        e_glass+=i.v_e_total\n",
    "print('e')        \n",
    "print('e_cry:',e_cry/count_cry_atom,' e_glass',e_glass/count_glass_atom)"
   ]
  },
  {
   "cell_type": "code",
   "execution_count": null,
   "id": "534475fb",
   "metadata": {},
   "outputs": [],
   "source": []
  },
  {
   "cell_type": "code",
   "execution_count": null,
   "id": "4447fe83",
   "metadata": {},
   "outputs": [],
   "source": []
  }
 ],
 "metadata": {
  "kernelspec": {
   "display_name": "Python 3 (ipykernel)",
   "language": "python",
   "name": "python3"
  },
  "language_info": {
   "codemirror_mode": {
    "name": "ipython",
    "version": 3
   },
   "file_extension": ".py",
   "mimetype": "text/x-python",
   "name": "python",
   "nbconvert_exporter": "python",
   "pygments_lexer": "ipython3",
   "version": "3.10.6"
  }
 },
 "nbformat": 4,
 "nbformat_minor": 5
}
