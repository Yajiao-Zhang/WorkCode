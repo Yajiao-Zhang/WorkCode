{
 "cells": [
  {
   "cell_type": "code",
   "execution_count": 4,
   "id": "3ba430cb",
   "metadata": {},
   "outputs": [],
   "source": [
    "file_path = r'C:\\Users\\zhang\\1_jupyter_code\\3_common_code\\fun_data\\element.txt'"
   ]
  },
  {
   "cell_type": "markdown",
   "id": "db967887",
   "metadata": {},
   "source": [
    "# 0表示质量比转摩尔比   1表示摩尔比转质量比"
   ]
  },
  {
   "cell_type": "code",
   "execution_count": 5,
   "id": "7b7f4aa1",
   "metadata": {},
   "outputs": [],
   "source": [
    "# X=0"
   ]
  },
  {
   "cell_type": "code",
   "execution_count": 12,
   "id": "2ea1c256",
   "metadata": {},
   "outputs": [],
   "source": [
    "# 转换类型\n",
    "tran_type = 0\n",
    "# 元素类型及占比\n",
    "proportion = {\n",
    "    'SiO2': 45\n",
    ",   'Al2O3': 0\n",
    ",   'CaO':  24.5\n",
    ",   'Na2O': 24.5\n",
    ",   'P2O5': 6\n",
    ",   'CeO2': 0\n",
    "}\n",
    "# 保留几位小数\n",
    "accuracy = 2"
   ]
  },
  {
   "cell_type": "markdown",
   "id": "439f99dd",
   "metadata": {},
   "source": [
    "# 主程序"
   ]
  },
  {
   "cell_type": "code",
   "execution_count": 13,
   "id": "1abf2592",
   "metadata": {},
   "outputs": [],
   "source": [
    "# 从文件中读取元素数据并创建一个字典\n",
    "def read_element_data(filepath):\n",
    "    element_masses = {}\n",
    "    with open(filepath, 'r', encoding='utf-8') as file:\n",
    "        for line in file:\n",
    "            parts = line.split()\n",
    "            if len(parts) >= 4:\n",
    "                atomic_number = int(parts[0])\n",
    "                element_symbol = parts[2]\n",
    "                relative_mass = parts[3]\n",
    "                # 检查是否含有不确定的质量标记\n",
    "                if '［' not in relative_mass and '[' not in relative_mass:\n",
    "                    element_masses[element_symbol] = float(relative_mass)\n",
    "    return element_masses\n",
    "# 保留指定小数位数\n",
    "def format_results(results, accuracy):\n",
    "    return {key: round(value, accuracy) for key, value in results.items()}\n",
    "# 计算化合物的相对分子质量\n",
    "def calculate_molar_mass(formula):\n",
    "    import re\n",
    "    elements = re.findall('([A-Z][a-z]*)([0-9]*)', formula)\n",
    "    molar_mass = 0\n",
    "    for element, count in elements:\n",
    "        count = int(count) if count else 1\n",
    "        molar_mass += atomic_masses[element] * count\n",
    "    return molar_mass\n",
    "# 质量比转摩尔比\n",
    "def mass_to_mole(proportions,accuracy):\n",
    "    molar_masses = {compound: calculate_molar_mass(compound) for compound in proportions}\n",
    "    total_mass = sum(proportions.values())\n",
    "    moles = {compound: proportions[compound] / molar_masses[compound] for compound in proportions}\n",
    "    total_moles = sum(moles.values())\n",
    "    mole_percent = {compound: moles[compound] / total_moles * 100 for compound in proportions}\n",
    "    mole_percent = format_results(mole_percent, accuracy)\n",
    "    return mole_percent\n",
    "# 摩尔比转质量比\n",
    "def mole_to_mass(mole_percent,accuracy):\n",
    "    molar_masses = {compound: calculate_molar_mass(compound) for compound in mole_percent}\n",
    "    #print(molar_masses)\n",
    "    \n",
    "    total_moles = sum(mole_percent.values())\n",
    "    masses = {compound: mole_percent[compound] / total_moles * molar_masses[compound] for compound in mole_percent}\n",
    "    total_mass = sum(masses.values())\n",
    "    mass_percent = {compound: masses[compound] / total_mass * 100 for compound in mole_percent}\n",
    "    mass_percent = format_results(mass_percent, accuracy)\n",
    "    return mass_percent"
   ]
  },
  {
   "cell_type": "code",
   "execution_count": 14,
   "id": "94c15c33",
   "metadata": {},
   "outputs": [
    {
     "name": "stdout",
     "output_type": "stream",
     "text": [
      "本次是 wt% 转 mol% !\n",
      "摩尔比: {'SiO2': 46.13, 'Al2O3': 0.0, 'CaO': 26.91, 'Na2O': 24.35, 'P2O5': 2.6, 'CeO2': 0.0}\n",
      " \n",
      "原来的质量比:\n",
      "{'SiO2': 45, 'Al2O3': 0, 'CaO': 24.5, 'Na2O': 24.5, 'P2O5': 6, 'CeO2': 0}\n"
     ]
    }
   ],
   "source": [
    "atomic_masses = read_element_data(file_path)\n",
    "if tran_type== 0: \n",
    "    print('本次是 wt% 转 mol% !')\n",
    "    mole_percent = mass_to_mole(proportion,accuracy)\n",
    "    print(\"摩尔比:\", mole_percent)\n",
    "    print(' ')\n",
    "    print('原来的质量比:')\n",
    "    print(proportion)\n",
    "if tran_type == 1: \n",
    "    print('本次是 mol% 转 wt% !')\n",
    "    mass_percent = mole_to_mass(proportion,accuracy)\n",
    "    print(\"质量比:\", mass_percent)\n",
    "    print(' ')\n",
    "    print('原来的质量比:')\n",
    "    print(proportion)"
   ]
  },
  {
   "cell_type": "code",
   "execution_count": null,
   "id": "3bedd244",
   "metadata": {},
   "outputs": [],
   "source": []
  },
  {
   "cell_type": "code",
   "execution_count": null,
   "id": "0598af47",
   "metadata": {},
   "outputs": [],
   "source": []
  }
 ],
 "metadata": {
  "kernelspec": {
   "display_name": "Python 3 (ipykernel)",
   "language": "python",
   "name": "python3"
  },
  "language_info": {
   "codemirror_mode": {
    "name": "ipython",
    "version": 3
   },
   "file_extension": ".py",
   "mimetype": "text/x-python",
   "name": "python",
   "nbconvert_exporter": "python",
   "pygments_lexer": "ipython3",
   "version": "3.10.6"
  }
 },
 "nbformat": 4,
 "nbformat_minor": 5
}
