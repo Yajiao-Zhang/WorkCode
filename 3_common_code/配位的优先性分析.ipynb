{
 "cells": [
  {
   "cell_type": "code",
   "execution_count": 1,
   "id": "94a29b46",
   "metadata": {},
   "outputs": [],
   "source": [
    "import numpy as np\n",
    "import matplotlib.pyplot as plt"
   ]
  },
  {
   "cell_type": "code",
   "execution_count": 23,
   "id": "0e716d04",
   "metadata": {},
   "outputs": [],
   "source": [
    "# 组分比例\n",
    "list_com = [['Si',50/104*100],['Al',50/104*100],['Ti',4/104*100]]\n",
    "# 配位比例\n",
    "list_cn = [['Si',44.3],['Al',41.3],['Ti',14.6]]\n"
   ]
  },
  {
   "cell_type": "code",
   "execution_count": 24,
   "id": "284efd55",
   "metadata": {},
   "outputs": [
    {
     "data": {
      "text/plain": [
       "44.3"
      ]
     },
     "execution_count": 24,
     "metadata": {},
     "output_type": "execute_result"
    }
   ],
   "source": [
    "list_cn[0][1]"
   ]
  },
  {
   "cell_type": "code",
   "execution_count": 25,
   "id": "1b30ad9b",
   "metadata": {},
   "outputs": [
    {
     "name": "stdout",
     "output_type": "stream",
     "text": [
      "[0.9214399999999999, 0.8590399999999999, 3.796]\n"
     ]
    }
   ],
   "source": [
    "out_come = []\n",
    "for i in range(len(list_cn)):\n",
    "    temp = list_cn[i][1]/list_com[i][1]\n",
    "    out_come.append(temp)\n",
    "print(out_come)"
   ]
  },
  {
   "cell_type": "code",
   "execution_count": null,
   "id": "77016e85",
   "metadata": {},
   "outputs": [],
   "source": []
  },
  {
   "cell_type": "code",
   "execution_count": null,
   "id": "e63553db",
   "metadata": {},
   "outputs": [],
   "source": []
  },
  {
   "cell_type": "code",
   "execution_count": null,
   "id": "1a256394",
   "metadata": {},
   "outputs": [],
   "source": []
  },
  {
   "cell_type": "code",
   "execution_count": null,
   "id": "3a1a6192",
   "metadata": {},
   "outputs": [],
   "source": []
  },
  {
   "cell_type": "code",
   "execution_count": null,
   "id": "aee46b49",
   "metadata": {},
   "outputs": [],
   "source": []
  },
  {
   "cell_type": "code",
   "execution_count": null,
   "id": "4aa3f495",
   "metadata": {},
   "outputs": [],
   "source": []
  }
 ],
 "metadata": {
  "kernelspec": {
   "display_name": "Python 3 (ipykernel)",
   "language": "python",
   "name": "python3"
  },
  "language_info": {
   "codemirror_mode": {
    "name": "ipython",
    "version": 3
   },
   "file_extension": ".py",
   "mimetype": "text/x-python",
   "name": "python",
   "nbconvert_exporter": "python",
   "pygments_lexer": "ipython3",
   "version": "3.10.6"
  }
 },
 "nbformat": 4,
 "nbformat_minor": 5
}
