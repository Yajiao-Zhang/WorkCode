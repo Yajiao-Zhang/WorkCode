{
 "cells": [
  {
   "cell_type": "code",
   "execution_count": 5,
   "id": "ee5d518b",
   "metadata": {},
   "outputs": [],
   "source": [
    "# 文件路径\n",
    "file_path = r'C:\\Users\\zhang\\Desktop\\out'\n",
    "\n",
    "# 所有信息储存的总列表\n",
    "list_all_frames = []\n",
    "# 开始和结束的标志\n",
    "start_keyword = '111'\n",
    "end_keyword = '222'\n",
    "\n",
    "# 每一个原子的信息\n",
    "class Atom:\n",
    "    def __init__(self, id, type, q, x, y, z, vx, vy, vz, fx, fy, fz, c_ke_atom, c_pe_atom, v_e_total):\n",
    "        self.id = id\n",
    "        self.type = type\n",
    "        self.x = x\n",
    "        self.y = y\n",
    "        self.z = z\n",
    "        self.q = q\n",
    "        self.c_ke_atom = c_ke_atom\n",
    "        self.c_pe_atom = c_pe_atom\n",
    "        self.v_e_total = v_e_total\n",
    "        self.vx = vx\n",
    "        self.vy = vy\n",
    "        self.vz = vz\n",
    "        self.fx = fx\n",
    "        self.fy = fy\n",
    "        self.fz = fz"
   ]
  },
  {
   "cell_type": "code",
   "execution_count": 6,
   "id": "5934e3c7",
   "metadata": {},
   "outputs": [],
   "source": [
    "with open(file_path, 'r') as file:\n",
    "    is_reading = False  # 标志变量，用于判断是否开始读取\n",
    "    for line in file:\n",
    "        if line.strip() == start_keyword:\n",
    "            is_reading = True  # 遇到开始关键字，设置为开始读取\n",
    "        elif line.strip() == end_keyword:\n",
    "            is_reading = False  # 遇到结束关键字，设置为停止读取\n",
    "\n",
    "        if is_reading:\n",
    "            # 在开始和结束之间的行进行处理，例如打印或保存数据\n",
    "            list_all_frames.append(line.strip())\n"
   ]
  },
  {
   "cell_type": "code",
   "execution_count": 9,
   "id": "5c3b8cac",
   "metadata": {},
   "outputs": [
    {
     "data": {
      "text/plain": [
       "'Output  | 0.0018435  | 0.0018588  | 0.0024071  |   0.2 |  0.07'"
      ]
     },
     "execution_count": 9,
     "metadata": {},
     "output_type": "execute_result"
    }
   ],
   "source": [
    "list_all_frames[55]"
   ]
  },
  {
   "cell_type": "code",
   "execution_count": null,
   "id": "c9636164",
   "metadata": {},
   "outputs": [],
   "source": []
  }
 ],
 "metadata": {
  "kernelspec": {
   "display_name": "Python 3 (ipykernel)",
   "language": "python",
   "name": "python3"
  },
  "language_info": {
   "codemirror_mode": {
    "name": "ipython",
    "version": 3
   },
   "file_extension": ".py",
   "mimetype": "text/x-python",
   "name": "python",
   "nbconvert_exporter": "python",
   "pygments_lexer": "ipython3",
   "version": "3.10.6"
  }
 },
 "nbformat": 4,
 "nbformat_minor": 5
}
