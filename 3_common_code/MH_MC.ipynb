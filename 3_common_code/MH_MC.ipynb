{
 "cells": [
  {
   "cell_type": "code",
   "execution_count": 7,
   "id": "f3a15153",
   "metadata": {},
   "outputs": [
    {
     "data": {
      "image/png": "[encoded data removed]",
      "text/plain": [
       "<Figure size 432x288 with 1 Axes>"
      ]
     },
     "metadata": {
      "needs_background": "light"
     },
     "output_type": "display_data"
    }
   ],
   "source": [
    "import random\n",
    "import math\n",
    "import matplotlib.pyplot as plt\n",
    "from matplotlib.font_manager import FontProperties\n",
    "\n",
    "# 设置字体\n",
    "font = FontProperties()\n",
    "font.set_family('serif')\n",
    "font.set_name('Times New Roman')\n",
    "font.set_size(14)\n",
    "\n",
    "def energy(lattice, J):\n",
    "    \"\"\"计算晶格总能量\"\"\"\n",
    "    E = 0\n",
    "    N = len(lattice)\n",
    "    for i in range(N):\n",
    "        for j in range(N):\n",
    "            E += -J * lattice[i][j] * (lattice[(i+1)%N][j] + lattice[i][(j+1)%N] + lattice[(i-1)%N][j] + lattice[i][(j-1)%N])\n",
    "    return E\n",
    "\n",
    "def monte_carlo(n, m, T, J):\n",
    "    \"\"\"蒙特卡洛模拟析晶过程\"\"\"\n",
    "    # 初始化晶格\n",
    "    lattice = [[random.choice([1,-1]) for i in range(n)] for j in range(m)]\n",
    "    # 计算晶格总能量\n",
    "    E = energy(lattice, J)\n",
    "    # 初始化能量列表和温度列表\n",
    "    E_list = [E]\n",
    "    T_list = [T]\n",
    "    # 开始迭代\n",
    "    for i in range(100000):\n",
    "        # 随机选取晶格中一个位置\n",
    "        x = random.randint(0, n-1)\n",
    "        y = random.randint(0, m-1)\n",
    "        # 计算该位置的新状态\n",
    "        new_lattice = [row[:] for row in lattice]\n",
    "        new_lattice[x][y] *= -1\n",
    "        # 计算新状态的总能量\n",
    "        new_E = energy(new_lattice, J)\n",
    "        delta_E = new_E - E\n",
    "        if delta_E < 0 or random.random() < math.exp(-delta_E/T):\n",
    "            lattice = new_lattice\n",
    "            E = new_E\n",
    "        # 记录能量和温度\n",
    "        E_list.append(E)\n",
    "        T_list.append(T)\n",
    "        # 降低温度\n",
    "        T *= 0.9999\n",
    "    return E_list, T_list\n",
    "\n",
    "# 运行模拟\n",
    "E_list, T_list = monte_carlo(10, 10, 1, 1)\n",
    "\n",
    "# 绘制能量变化曲线\n",
    "plt.plot(E_list)\n",
    "plt.xlabel('Step', fontproperties=font)\n",
    "plt.ylabel('Energy', fontproperties=font)\n",
    "plt.title('Energy vs Step', fontproperties=font, fontsize=16, fontweight='bold')\n",
    "plt.show()\n"
   ]
  },
  {
   "cell_type": "markdown",
   "id": "6ab028a3",
   "metadata": {},
   "source": [
    "# MC代码解释\n",
    "这段代码是一个基于蒙特卡洛模拟的晶体融化模型。首先，我们通过定义晶体的尺寸和温度等参数来生成一个晶体，然后使用蒙特卡洛方法来模拟晶体的结构变化。每次模拟中，我们随机选取晶体内的一个原子，并随机改变它的位置。如果这样的变化能够使晶体的能量更小，那么就接受这个改变，否则以一定的概率接受这个改变。这个概率是由一个能量参数和温度决定的。这段代码中只包含了模拟晶体结构变化的部分，后面会继续介绍如何计算晶体的熔化温度。\n",
    "\n",
    "首先，我们导入了一些必要的模块和库，包括numpy、math、matplotlib等。这些模块和库提供了一些基础的数学运算、数据处理和绘图功能，方便我们进行模拟和结果的可视化。\n",
    "\n",
    "接下来，我们定义了一个函数energy，用于计算每个粒子在当前晶格结构下的势能。这个函数中，我们先计算每个粒子与其周围8个粒子的距离，然后使用Lennard-Jones势能公式计算每对粒子之间的势能。这个势能包括两部分：相互吸引的van der Waals势能和相互排斥的斥力势能。\n",
    "\n",
    "接着，我们定义了一个函数monte_carlo，用于进行Monte Carlo模拟。这个函数接受四个参数：n，m，T和J，分别表示晶格的行数和列数、温度和Lennard-Jones势能系数。在这个函数中，我们首先生成一个n*m的晶格，并将其随机初始化为0或1。接着，我们进行MC模拟，每次随机选取一个粒子，随机翻转其状态，并计算翻转后晶格的总能量变化。如果新晶格的总能量小于原晶格的总能量，或者以一定的概率接受新状态，我们就更新晶格状态。我们通过调整温度和Lennard-Jones势能系数来控制模拟过程的温度和粒子之间的相互作用强度。\n",
    "\n",
    "最后，我们在主函数中运行模拟，并将结果可视化为能量变化曲线和二维能量分布图。这个图中，我们使用热图来表示不同位置的总能量大小，颜色越深表示能量越高"
   ]
  },
  {
   "cell_type": "code",
   "execution_count": 12,
   "id": "8e4e7d56",
   "metadata": {},
   "outputs": [
    {
     "data": {
      "image/png": "[encoded data removed]",
      "text/plain": [
       "<Figure size 432x288 with 1 Axes>"
      ]
     },
     "metadata": {
      "needs_background": "light"
     },
     "output_type": "display_data"
    }
   ],
   "source": [
    "import numpy as np\n",
    "import random\n",
    "import math\n",
    "import matplotlib.pyplot as plt\n",
    "\n",
    "# 定义晶格大小和原子数目\n",
    "n = 30\n",
    "N = n*n\n",
    "\n",
    "# 定义晶格常数和原子位置\n",
    "a = 3.6\n",
    "x, y = np.meshgrid(np.linspace(0, n-1, n), np.linspace(0, n-1, n))\n",
    "x = x.reshape((N,))\n",
    "y = y.reshape((N,))\n",
    "x = x*a\n",
    "y = y*a\n",
    "\n",
    "# 定义初始温度和步长\n",
    "T = 1000\n",
    "delta = 0.1\n",
    "\n",
    "# 定义能量函数\n",
    "def energy(x, y):\n",
    "    # 定义势能\n",
    "    def potential(r):\n",
    "        return 4*(r**-12 - r**-6)\n",
    "    E = 0\n",
    "    for i in range(N):\n",
    "        for j in range(i+1, N):\n",
    "            r = np.sqrt((x[i]-x[j])**2 + (y[i]-y[j])**2)\n",
    "            E += potential(r)\n",
    "    return E\n",
    "\n",
    "# 定义MC函数\n",
    "def monte_carlo(n_steps, T, delta):\n",
    "    # 记录能量变化和温度变化\n",
    "    E_list = []\n",
    "    T_list = []\n",
    "    \n",
    "    # 初始化位置和能量\n",
    "    x_new = x.copy()\n",
    "    y_new = y.copy()\n",
    "    E = energy(x_new, y_new)\n",
    "    \n",
    "    for step in range(n_steps):\n",
    "        # 随机挑选一个原子\n",
    "        i = random.randint(0, N-1)\n",
    "        # 在x和y方向上随机移动\n",
    "        x_new[i] += random.uniform(-delta, delta)\n",
    "        y_new[i] += random.uniform(-delta, delta)\n",
    "        # 计算新能量\n",
    "        E_new = energy(x_new, y_new)\n",
    "        # 判断是否接受新状态\n",
    "        if E_new <= E or random.random() < math.exp(-(E_new-E)/T):\n",
    "            x[i] = x_new[i]\n",
    "            y[i] = y_new[i]\n",
    "            E = E_new\n",
    "        # 记录能量和温度\n",
    "        E_list.append(E)\n",
    "        T_list.append(T)\n",
    "    return E_list, T_list\n",
    "\n",
    "# 运行模拟\n",
    "E_list, T_list = monte_carlo(10000, T, delta)\n",
    "\n",
    "# 绘制能量变化曲线\n",
    "plt.plot(E_list)\n",
    "plt.xlabel('Step')\n",
    "plt.ylabel('Energy')\n",
    "plt.show()\n"
   ]
  },
  {
   "cell_type": "code",
   "execution_count": 1,
   "id": "2456e3d2",
   "metadata": {},
   "outputs": [
    {
     "ename": "NameError",
     "evalue": "name 'x' is not defined",
     "output_type": "error",
     "traceback": [
      "\u001b[1;31m---------------------------------------------------------------------------\u001b[0m",
      "\u001b[1;31mNameError\u001b[0m                                 Traceback (most recent call last)",
      "Input \u001b[1;32mIn [1]\u001b[0m, in \u001b[0;36m<cell line: 1>\u001b[1;34m()\u001b[0m\n\u001b[1;32m----> 1\u001b[0m \u001b[43mx\u001b[49m[i]\n",
      "\u001b[1;31mNameError\u001b[0m: name 'x' is not defined"
     ]
    }
   ],
   "source": [
    "x[i]"
   ]
  },
  {
   "cell_type": "code",
   "execution_count": null,
   "id": "5f825d75",
   "metadata": {},
   "outputs": [],
   "source": []
  }
 ],
 "metadata": {
  "kernelspec": {
   "display_name": "Python 3 (ipykernel)",
   "language": "python",
   "name": "python3"
  },
  "language_info": {
   "codemirror_mode": {
    "name": "ipython",
    "version": 3
   },
   "file_extension": ".py",
   "mimetype": "text/x-python",
   "name": "python",
   "nbconvert_exporter": "python",
   "pygments_lexer": "ipython3",
   "version": "3.10.6"
  }
 },
 "nbformat": 4,
 "nbformat_minor": 5
}
