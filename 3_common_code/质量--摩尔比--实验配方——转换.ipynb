{
 "cells": [
  {
   "cell_type": "markdown",
   "id": "db967887",
   "metadata": {},
   "source": [
    "# 表示质量比转摩尔比   1表示摩尔比转质量比"
   ]
  },
  {
   "cell_type": "code",
   "execution_count": 31,
   "id": "e83afd05",
   "metadata": {},
   "outputs": [],
   "source": [
    "import re"
   ]
  },
  {
   "cell_type": "code",
   "execution_count": 2,
   "id": "2ea1c256",
   "metadata": {},
   "outputs": [],
   "source": [
    "# 0表示质量 比转摩尔比   1表示摩尔 比转质量比\n",
    "tran_type = 0\n",
    "# 元素类型及占比\n",
    "\n",
    "proportion = {\n",
    "    'SiO2':49.31\n",
    ",   'Na2O':21.21\n",
    ",   'B2O3':  5.88\n",
    ",   'Al2O3':22.3\n",
    ",   'NiO':1.31\n",
    "}"
   ]
  },
  {
   "cell_type": "code",
   "execution_count": 19,
   "id": "8ef523d1",
   "metadata": {},
   "outputs": [],
   "source": [
    "# 自己创建一个常见元素类型的字典 以来查询质量\n",
    "elements = { 'Li':6.941, 'Be':9.012182, 'B':10.811, 'C':12.0107, 'N':14.0067, 'O':15.9994, 'F':18.9984032, 'Na':22.98976, 'Mg':24.3050,\n",
    "            'Al': 26.9815,  'Si':28.0855,'P':30.97376, 'S':32.065,'Cl':35.453,'K':39.098, 'Ca':40.078,'Sc':44.955912,'Ti':47.867, \n",
    "            'V':50.9415,'Cr':51.9961,'Mn':54.938045,'Fe':55.845,'Co':58.933195,'Ni':58.693,'Cu':63.546,'Zn':65.38,'Ga':69.723,\n",
    "            'Ge':72.64,'Nb':92.9063,'As':74.92160,'Se':78.96,'Br':79.904,'Kr':83.798,'Rb':85.4678,'Sr':87.62,'Y':88.90585,'Zr':91.224,\n",
    "            'Mo':95.94,'Tc':97.9072,'Ru':101.07,'Rh':102.90550,'Ag':107.8682,'Cd':112.411,'In':14.818,'Sn':118.710,'Sb':121.760,\n",
    "            'Te':127.60,'I':126.90447,'Cs':132.9054519,'Ba':137.327,'La':138.90547,'Ce':140.116,'Pr':140.90765,'Nd':144.242,'Bi':208.98040,\n",
    "           'H':1.00794,}\n"
   ]
  },
  {
   "cell_type": "code",
   "execution_count": 101,
   "id": "a00c8853",
   "metadata": {},
   "outputs": [],
   "source": [
    "# 来一个根据分子名称输出相对分子质量的程序\n",
    "def a_get_molecular_mass(a_molecular_name):\n",
    "    a_name_split = re.findall('[A-Z][^A-Z]*',a_molecular_name)\n",
    "    a_molecular_mass = 0\n",
    "    for a_i in a_name_split:\n",
    "        if 'a'<= a_i[-1] <= 'z' or 'A' <= a_i[-1] <='Z':\n",
    "            #print('元素',a_i,'有一个')\n",
    "            a_molecular_mass += elements[a_i]\n",
    "        else:\n",
    "            #print('元素',a_i[:-1],'有',a_i[-1],'个')\n",
    "            a_molecular_mass += elements[a_i[:-1]] * float(a_i[-1])\n",
    "    return a_molecular_mass"
   ]
  },
  {
   "cell_type": "code",
   "execution_count": 114,
   "id": "66bf7650",
   "metadata": {},
   "outputs": [
    {
     "data": {
      "text/plain": [
       "105.98841999999999"
      ]
     },
     "execution_count": 114,
     "metadata": {},
     "output_type": "execute_result"
    }
   ],
   "source": [
    "xxx = 'Na2CO3'\n",
    "a_get_molecular_mass(xxx)"
   ]
  },
  {
   "cell_type": "code",
   "execution_count": 99,
   "id": "32591dc0",
   "metadata": {},
   "outputs": [],
   "source": [
    "# 把分子式切割\n",
    "Sample_name = 'Li2CO3,NaPO3,KPO3,Rb2CO3,Cs2CO3,MgO,SrCO3,Ba(PO3)2,\\\n",
    "La2O3,Ce(NO3)3.6H2O,Nd2O3,ZrO2,V2O5,Cr2O3,MoO3,MnO2,Fe2O3,Co2O3,NiO,H3BO3,\\\n",
    "Al(H2PO4)3,SiO2,NH4H2PO4,Sb2O3,Bi2O3,TeO2,BaCO3,Al(OH)3'"
   ]
  },
  {
   "cell_type": "code",
   "execution_count": 100,
   "id": "d0ec1d92",
   "metadata": {},
   "outputs": [
    {
     "data": {
      "text/plain": [
       "['Li2CO3',\n",
       " 'NaPO3',\n",
       " 'KPO3',\n",
       " 'Rb2CO3',\n",
       " 'Cs2CO3',\n",
       " 'MgO',\n",
       " 'SrCO3',\n",
       " 'Ba(PO3)2',\n",
       " 'La2O3',\n",
       " 'Ce(NO3)3.6H2O',\n",
       " 'Nd2O3',\n",
       " 'ZrO2',\n",
       " 'V2O5',\n",
       " 'Cr2O3',\n",
       " 'MoO3',\n",
       " 'MnO2',\n",
       " 'Fe2O3',\n",
       " 'Co2O3',\n",
       " 'NiO',\n",
       " 'H3BO3',\n",
       " 'Al(H2PO4)3',\n",
       " 'SiO2',\n",
       " 'NH4H2PO4',\n",
       " 'Sb2O3',\n",
       " 'Bi2O3',\n",
       " 'TeO2',\n",
       " 'BaCO3',\n",
       " 'Al(OH)3']"
      ]
     },
     "execution_count": 100,
     "metadata": {},
     "output_type": "execute_result"
    }
   ],
   "source": [
    "Sample_name.split(',')"
   ]
  },
  {
   "cell_type": "code",
   "execution_count": 104,
   "id": "e9bf23ec",
   "metadata": {},
   "outputs": [
    {
     "name": "stdout",
     "output_type": "stream",
     "text": [
      "元素 Al 有 ( 个\n",
      "元素 O 有一个\n",
      "元素 H) 有 3 个\n"
     ]
    }
   ],
   "source": [
    "get_molecular_mass('Al(OH)3')"
   ]
  },
  {
   "cell_type": "code",
   "execution_count": 65,
   "id": "243f07c7",
   "metadata": {},
   "outputs": [
    {
     "data": {
      "text/plain": [
       "28.0855"
      ]
     },
     "execution_count": 65,
     "metadata": {},
     "output_type": "execute_result"
    }
   ],
   "source": [
    "elements['Si']"
   ]
  },
  {
   "cell_type": "code",
   "execution_count": 4,
   "id": "35ead6d8",
   "metadata": {},
   "outputs": [],
   "source": [
    "# 化合物的分子摩尔质量\n",
    "compound ={'SiO2':elements['Si']+elements['O']*2\n",
    "          ,'Na2O':elements['Na']*2+elements['O']\n",
    "          ,'B2O3':elements['B']*2+elements['O']*3\n",
    "          ,'Al2O3':elements['Al']*2+elements['O']*3\n",
    "          ,'NiO':elements['Ni']+ elements['O']\n",
    "          }"
   ]
  },
  {
   "cell_type": "code",
   "execution_count": 87,
   "id": "083fb217",
   "metadata": {},
   "outputs": [
    {
     "data": {
      "text/plain": [
       "60.0843"
      ]
     },
     "execution_count": 87,
     "metadata": {},
     "output_type": "execute_result"
    }
   ],
   "source": [
    "compound['SiO2']"
   ]
  },
  {
   "cell_type": "markdown",
   "id": "4ce25eb6",
   "metadata": {},
   "source": [
    "# 主程序"
   ]
  },
  {
   "cell_type": "code",
   "execution_count": 3,
   "id": "314b7182",
   "metadata": {},
   "outputs": [
    {
     "name": "stdout",
     "output_type": "stream",
     "text": [
      "得出摩尔的百分比：\n",
      "{'SiO2': 0.8206802775433849, 'Na2O': 0.34221312665661163, 'B2O3': 0.08445824631356992, 'Al2O3': 0.2187106467950554, 'NiO': 0.01753859830451291}\n",
      "SiO2  :  55.32\n",
      "Na2O  :  23.07\n",
      "B2O3  :  5.69\n",
      "Al2O3  :  14.74\n",
      "NiO  :  1.18\n"
     ]
    }
   ],
   "source": [
    "if tran_type==0:\n",
    "    print(\"得出摩尔的百分比：\")\n",
    "    mol_dic = {}\n",
    "    for i in proportion:\n",
    "        mol_dic[i]=proportion[i]/compound[i]\n",
    "    print(mol_dic)\n",
    "    sum_all = 0\n",
    "    for i in mol_dic:\n",
    "        sum_all+=mol_dic[i]\n",
    "    for i in mol_dic:\n",
    "        mol_dic[i]= round(mol_dic[i]/sum_all*100,2)\n",
    "        print(i,' : ',mol_dic[i])\n",
    "else:\n",
    "    print(\"得出质量的百分比：\")\n",
    "    mass_dic = {}\n",
    "    for i in proportion:\n",
    "        mass_dic[i]=proportion[i] * compound[i]\n",
    "    sum_all = 0\n",
    "    for i in mass_dic:\n",
    "        sum_all += mass_dic[i]\n",
    "    for i in mass_dic:\n",
    "        mass_dic[i]= round(mass_dic[i]/sum_all*100,2)\n",
    "        print(i,' : ',mass_dic[i])"
   ]
  },
  {
   "cell_type": "markdown",
   "id": "880744d8",
   "metadata": {},
   "source": [
    "mol\n",
    "'SiO2':55.32\n",
    ",   'Na2O':23.07\n",
    ",   'B2O3': 5.69\n",
    ",   'Al2O3':14.74\n",
    ",   'NiO':1.18\n",
    "\n",
    "得出质量的百分比：\n",
    "SiO2  :  49.31\n",
    "Na2O  :  21.21\n",
    "B2O3  :  5.88\n",
    "Al2O3  :  22.3\n",
    "NiO  :  1.31"
   ]
  }
 ],
 "metadata": {
  "kernelspec": {
   "display_name": "Python 3 (ipykernel)",
   "language": "python",
   "name": "python3"
  },
  "language_info": {
   "codemirror_mode": {
    "name": "ipython",
    "version": 3
   },
   "file_extension": ".py",
   "mimetype": "text/x-python",
   "name": "python",
   "nbconvert_exporter": "python",
   "pygments_lexer": "ipython3",
   "version": "3.10.6"
  }
 },
 "nbformat": 4,
 "nbformat_minor": 5
}
