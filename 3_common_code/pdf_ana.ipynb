{
 "cells": [
  {
   "cell_type": "code",
   "execution_count": 9,
   "id": "6668b373",
   "metadata": {},
   "outputs": [],
   "source": [
    "import sys\n",
    "sys.path.append('C:/Users/zhang/11_functions/')\n",
    "from read_file import read_one_frame_xyz as r_xyz\n",
    "import MDAnalysis as mda\n",
    "import numpy as np\n",
    "import matplotlib.pyplot as plt"
   ]
  },
  {
   "cell_type": "code",
   "execution_count": 59,
   "id": "00406782",
   "metadata": {},
   "outputs": [],
   "source": [
    "from MDAnalysis.analysis import rdf"
   ]
  },
  {
   "cell_type": "code",
   "execution_count": 63,
   "id": "fc835653",
   "metadata": {},
   "outputs": [],
   "source": [
    "file_path = r'C:\\Users\\zhang\\Desktop\\pre_file.xyz'\n"
   ]
  },
  {
   "cell_type": "code",
   "execution_count": 64,
   "id": "069fb478",
   "metadata": {},
   "outputs": [],
   "source": [
    "data = r_xyz(file_path,0)"
   ]
  },
  {
   "cell_type": "code",
   "execution_count": 67,
   "id": "5f884d55",
   "metadata": {},
   "outputs": [
    {
     "name": "stdout",
     "output_type": "stream",
     "text": [
      "107.256 22.7137 70.5591\n"
     ]
    }
   ],
   "source": [
    "x,y,z = 0,0,0\n",
    "for i in data:\n",
    "    x,y,z = max(x,i[1]),max(y,i[2]),max(z,i[3]) \n",
    "box_size = [x,y,z]\n",
    "print(x,y,z)"
   ]
  },
  {
   "cell_type": "code",
   "execution_count": 74,
   "id": "10f6d8f3",
   "metadata": {},
   "outputs": [],
   "source": [
    "si_data, o_data = [],[]\n",
    "for i in data:\n",
    "    if i[0]=='Si':\n",
    "        si_data.append(i)\n",
    "    if i[0]=='O':\n",
    "        o_data.append(i)"
   ]
  },
  {
   "cell_type": "code",
   "execution_count": 83,
   "id": "26b72b7e",
   "metadata": {},
   "outputs": [],
   "source": [
    "# 计算距离\n",
    "from cal_ppp_dis import cal_ppp_distance as cal\n",
    "dis_list = []\n",
    "r_max = 10\n",
    "for i in si_data:\n",
    "    for j in o_data:\n",
    "        # 先简易判断  减少计算量\n",
    "        temp = abs(np.array(i[1:])-np.array(j[1:]))\n",
    "        for temp_i in range(3):\n",
    "            if r_max< temp[temp_i] < (np.array(box_size)/2)[temp_i]:\n",
    "                continue\n",
    "        # 其他计算\n",
    "        dis = cal(i[1:],j[1:],box_size)\n",
    "        if dis<r_max:\n",
    "            dis_list.append(dis)"
   ]
  },
  {
   "cell_type": "code",
   "execution_count": 84,
   "id": "135e7391",
   "metadata": {},
   "outputs": [
    {
     "data": {
      "text/plain": [
       "array([53.628  , 11.35685, 35.27955])"
      ]
     },
     "execution_count": 84,
     "metadata": {},
     "output_type": "execute_result"
    }
   ],
   "source": [
    "np.array(box_size)/2"
   ]
  },
  {
   "cell_type": "code",
   "execution_count": 85,
   "id": "c797177e",
   "metadata": {},
   "outputs": [
    {
     "data": {
      "text/plain": [
       "330341"
      ]
     },
     "execution_count": 85,
     "metadata": {},
     "output_type": "execute_result"
    }
   ],
   "source": [
    "len(dis_list)"
   ]
  },
  {
   "cell_type": "code",
   "execution_count": 87,
   "id": "9eb0a4bf",
   "metadata": {},
   "outputs": [
    {
     "data": {
      "text/plain": [
       "9.999977434399538"
      ]
     },
     "execution_count": 87,
     "metadata": {},
     "output_type": "execute_result"
    }
   ],
   "source": [
    "max(dis_list)"
   ]
  },
  {
   "cell_type": "code",
   "execution_count": 88,
   "id": "367c4163",
   "metadata": {},
   "outputs": [
    {
     "data": {
      "text/plain": [
       "1.1224948750721753"
      ]
     },
     "execution_count": 88,
     "metadata": {},
     "output_type": "execute_result"
    }
   ],
   "source": [
    "min(dis_list)"
   ]
  },
  {
   "cell_type": "code",
   "execution_count": 92,
   "id": "874cb42b",
   "metadata": {},
   "outputs": [
    {
     "data": {
      "image/png": "[encoded data removed]",
      "text/plain": [
       "<Figure size 432x288 with 1 Axes>"
      ]
     },
     "metadata": {
      "needs_background": "light"
     },
     "output_type": "display_data"
    }
   ],
   "source": [
    "\n",
    "def compute_rdf(distances, r_max, dr):\n",
    "    # 计算直方图\n",
    "    hist, bin_edges = np.histogram(distances, bins=np.arange(0, r_max+dr, dr), density=False)\n",
    "\n",
    "    # 归一化因子\n",
    "    bin_widths = np.diff(bin_edges)\n",
    "    norm = np.sum(hist) * bin_widths\n",
    "\n",
    "    # 计算 RDF\n",
    "    rdf = hist / norm\n",
    "\n",
    "    return rdf, bin_edges[:-1]\n",
    "\n",
    "# 示例数据 - 距离列表\n",
    "distances = np.random.uniform(low=0, high=10, size=1000)\n",
    "\n",
    "# 参数设置\n",
    "r_max = 10.0  # 距离范围的最大值\n",
    "dr = 0.1  # 距离间隔\n",
    "\n",
    "# 缩放 RDF\n",
    "rdf_scaled = rdf / np.max(rdf)\n",
    "\n",
    "# 绘制配对分布函数\n",
    "plt.plot(bin_edges, rdf_scaled)\n",
    "plt.xlabel(\"Distance\")\n",
    "plt.ylabel(\"Pair Distribution Function\")\n",
    "plt.show()\n"
   ]
  },
  {
   "cell_type": "code",
   "execution_count": 94,
   "id": "89d0661a",
   "metadata": {},
   "outputs": [
    {
     "name": "stderr",
     "output_type": "stream",
     "text": [
      "C:\\Users\\zhang\\AppData\\Local\\Temp\\ipykernel_11664\\511675454.py:15: RuntimeWarning: divide by zero encountered in divide\n",
      "  rdf = hist / (norm * len(coordinates))\n"
     ]
    },
    {
     "data": {
      "image/png": "[encoded data removed]",
      "text/plain": [
       "<Figure size 432x288 with 1 Axes>"
      ]
     },
     "metadata": {
      "needs_background": "light"
     },
     "output_type": "display_data"
    }
   ],
   "source": [
    "import numpy as np\n",
    "\n",
    "def compute_rdf(coordinates, r_max, dr):\n",
    "    # 计算距离矩阵\n",
    "    distances = np.linalg.norm(coordinates[:, np.newaxis] - coordinates, axis=-1)\n",
    "\n",
    "    # 计算直方图\n",
    "    hist, bin_edges = np.histogram(distances, bins=np.arange(0, r_max+dr, dr), density=False)\n",
    "\n",
    "    # 归一化因子\n",
    "    bin_widths = np.diff(bin_edges)\n",
    "    norm = 4 * np.pi * bin_edges[:-1]**2 * bin_widths\n",
    "\n",
    "    # 计算 RDF\n",
    "    rdf = hist / (norm * len(coordinates))\n",
    "\n",
    "    return rdf, bin_edges[:-1]\n",
    "\n",
    "# 示例数据 - 原子坐标\n",
    "coordinates = np.array([[0, 0, 0], [1, 0, 0], [0, 1, 0], [1, 1, 0]])\n",
    "\n",
    "# 参数设置\n",
    "r_max = 2.0  # 距离范围的最大值\n",
    "dr = 0.1  # 距离间隔\n",
    "\n",
    "# 计算 RDF\n",
    "rdf, bin_edges = compute_rdf(coordinates, r_max, dr)\n",
    "\n",
    "# 绘制配对分布函数\n",
    "plt.plot(bin_edges, rdf)\n",
    "plt.xlabel(\"Distance\")\n",
    "plt.ylabel(\"Pair Distribution Function\")\n",
    "plt.show()"
   ]
  },
  {
   "cell_type": "code",
   "execution_count": null,
   "id": "c47a0a9b",
   "metadata": {},
   "outputs": [],
   "source": []
  }
 ],
 "metadata": {
  "kernelspec": {
   "display_name": "Python 3 (ipykernel)",
   "language": "python",
   "name": "python3"
  },
  "language_info": {
   "codemirror_mode": {
    "name": "ipython",
    "version": 3
   },
   "file_extension": ".py",
   "mimetype": "text/x-python",
   "name": "python",
   "nbconvert_exporter": "python",
   "pygments_lexer": "ipython3",
   "version": "3.10.6"
  }
 },
 "nbformat": 4,
 "nbformat_minor": 5
}
