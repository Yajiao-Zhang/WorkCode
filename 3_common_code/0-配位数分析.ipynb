{
 "cells": [
  {
   "cell_type": "code",
   "execution_count": 3,
   "id": "58e7cac1",
   "metadata": {},
   "outputs": [],
   "source": [
    "import numpy as np\n",
    "import matplotlib.pyplot as plt\n",
    "import copy\n",
    "import time"
   ]
  },
  {
   "cell_type": "code",
   "execution_count": 7,
   "id": "2b9883be",
   "metadata": {},
   "outputs": [],
   "source": [
    "# 文件名\n",
    "# file_name = 'static_0k_out.xyz'\n",
    "# 文件位置\n",
    "file_path = r'D:\\MD_file\\Ge-Si\\move_f\\glass_300k_out.xyz'\n",
    "#需要计算配位的元素名称 字典是用来计数这个元素在A附近出现的次数 \n",
    "all_element_dic = {'O':0,'F':0,'Si':0}\n",
    "\n",
    "#需要分析的元素以及第一近邻的距离\n",
    "A_dis = 2.5\n",
    "name_A = 'Si'\n",
    "\n",
    "# 分析的起始帧、终止帧、以及步长\n",
    "start_frame = 0\n",
    "steps_frame = 1\n",
    "final_frame = 1\n",
    "\n",
    "# 是否将分析结果存入文件\n",
    "save_result = 0\n",
    "save_path = r'C:\\Users\\zhang\\Desktop\\50sap_out\\\\'\n",
    "#save_name = file_name[:5] + '_ana'\n",
    "#save_name+='.txt'\n",
    "# 是否创建新帧  转换格式\n",
    "creat_new_frame = 0\n",
    "out_type = 'xyz'"
   ]
  },
  {
   "cell_type": "code",
   "execution_count": 9,
   "id": "99f0007f",
   "metadata": {},
   "outputs": [],
   "source": [
    "# 打开文件并读取所有行数据\n",
    "with open(file_path, 'r') as file:\n",
    "    lines = file.readlines()\n",
    "int(lines[0])\n",
    "# 每一页的原子数\n",
    "num_atom =int(lines[0])\n",
    "# 定义一页的行数\n",
    "lines_per_page = num_atom + 2\n",
    "# 计算总页数\n",
    "total_pages = (len(lines) + lines_per_page - 1) // lines_per_page\n",
    "\n",
    "if final_frame>total_pages:\n",
    "    print('Input Error!')"
   ]
  },
  {
   "cell_type": "code",
   "execution_count": 11,
   "id": "ca0e8443",
   "metadata": {},
   "outputs": [],
   "source": [
    "def cal_ppp_distance(pos1, pos2, box_size):\n",
    "    # 计算两个位置之间的最小距离，考虑周期性边界条件\n",
    "    pos1,pos2,box_size = np.array(pos1),np.array(pos2),np.array(box_size)\n",
    "    # 计算位置差矢量\n",
    "    delta = pos2 - pos1\n",
    "    \n",
    "    # 应用最小图像约束，确保距离在周期内最短\n",
    "    delta = delta - np.round(delta / box_size) * box_size\n",
    "    # 计算距离\n",
    "    distance = np.linalg.norm(delta)\n",
    "    # 如果是原子本身\n",
    "    if distance<1e-5:\n",
    "        distance=float('inf')\n",
    "    return distance"
   ]
  },
  {
   "cell_type": "code",
   "execution_count": 13,
   "id": "8e06ec93",
   "metadata": {},
   "outputs": [],
   "source": [
    "def draw_flower():\n",
    "    pattern = [\n",
    "        \" 🌹🌹🌹  🌹   🌹    🌹 \",\n",
    "        \" 🌹  🌹  🌹  🌹     🌹 \",\n",
    "        \" 🌹  🌹  🌹🌹🌹     🌹 \",\n",
    "        \" 🌹  🌹  🌹   🌹       \",\n",
    "        \" 🌹🌹🌹  🌹    🌹   🌹  \"\n",
    "    ]\n",
    "\n",
    "    for row in pattern:\n",
    "        print(row)"
   ]
  },
  {
   "cell_type": "code",
   "execution_count": 15,
   "id": "8edfe9fc",
   "metadata": {},
   "outputs": [],
   "source": [
    "# # 记录每一个帧数处理后得到的信息，然后加和\n",
    "# 得到元素A的数量\n",
    "num_A_atom = 0\n",
    "# 记录A总的近邻和Cn数\n",
    "sum_A_neibor = 0\n",
    "sum_A_Cn = np.zeros(100)\n",
    "# 字典是用来计数的\n",
    "sum_element_dic = copy.deepcopy(all_element_dic)\n",
    "# 盒子尺寸\n",
    "box_size = []\n",
    "# 循环次数\n",
    "count_cycle = 0 "
   ]
  },
  {
   "cell_type": "code",
   "execution_count": 17,
   "id": "42fbd256",
   "metadata": {},
   "outputs": [
    {
     "name": "stdout",
     "output_type": "stream",
     "text": [
      "此处更改了下boxsize，[53.8095, 250, 53.8098]\n",
      "程序运行时间： 103.7117018699646 秒\n"
     ]
    }
   ],
   "source": [
    "# 开始计时\n",
    "start_time = time.time()\n",
    "# \n",
    "max_x,max_y,max_z = 0,0,0\n",
    "################### 开始循环处理每一帧 #################\n",
    "for frame in range(start_frame,final_frame,steps_frame):\n",
    "    \n",
    "    count_cycle+=1\n",
    "    \n",
    "    data = lines[frame*lines_per_page:(frame+1)*lines_per_page]\n",
    "    ##  去除表头\n",
    "    data = data[2:]\n",
    "    ##  先对数据处理一遍\n",
    "    new_data = []\n",
    "    ana_element_list = []\n",
    "#     # 先把数据切片，再分析\n",
    "#     data = data.split()\n",
    "#     for i in range(0,len(data),4):\n",
    "#         temp_x,temp_y,temp_z =data[i+1],data[i+2],data[i+3]\n",
    "#         max_x,max_y,max_z = max(temp_x,max_x),max(temp_y,max_y),max(temp_z,max_z)\n",
    "#         new_data.append([atom[0],temp_x,temp_y,temp_z])\n",
    "    for atom in data:\n",
    "        # 转换格式\n",
    "        atom = atom.split()\n",
    "        temp_x,temp_y,temp_z = float(atom[1]),float(atom[2]),float(atom[3])\n",
    "        max_x,max_y,max_z = max(temp_x,max_x),max(temp_y,max_y),max(temp_z,max_z)\n",
    "        new_data.append([atom[0],temp_x,temp_y,temp_z])\n",
    "        # 如果是要分析的元素则记录下来\n",
    "        if atom[0] == name_A:\n",
    "            ana_element_list.append([atom[0],float(atom[1]),float(atom[2]),float(atom[3])])\n",
    "    ## 全局变量\n",
    "    box_size = [max_x,250,max_z]\n",
    "    print(f'此处更改了下boxsize，{box_size}')\n",
    "    num_A_atom = len(ana_element_list)\n",
    "    ## 配位数记录的数据表\n",
    "    # 记录这个A是几配位\n",
    "    temp_cn_list = np.zeros(100)\n",
    "    # 每一次要拷贝一次字典 便于重新计数\n",
    "    frame_element_dic = copy.deepcopy(all_element_dic)\n",
    "    ## 开始分析\n",
    "    # 对所有A原子进行分析\n",
    "    for ana_atom in ana_element_list:\n",
    "        # 这是分析每一个A原子\n",
    "        temp_cn = 0\n",
    "        for neighber_atom in new_data:\n",
    "            # 只关注于dic中有没有这个元素\n",
    "            if (neighber_atom[0] not in all_element_dic):\n",
    "                continue\n",
    "            atom1 = [ana_atom[1],ana_atom[2],ana_atom[3]]\n",
    "            atom2 = [neighber_atom[1],neighber_atom[2],neighber_atom[3]]\n",
    "            if cal_ppp_distance(atom1,atom2,box_size)<A_dis:\n",
    "                temp_cn+=1\n",
    "                # 再记录这个近邻的种类 先取出原有值，再加一\n",
    "                temp = frame_element_dic[neighber_atom[0]]\n",
    "                frame_element_dic[neighber_atom[0]] = temp+1\n",
    "        # 本循环结束 记录下这个A元素的Cn值   \n",
    "        temp_cn_list[temp_cn]+= 1\n",
    "    #####################已经得到了这一帧的所有数据########################   \n",
    "    # 第一项 Cn累加\n",
    "    for i in range(100):\n",
    "        sum_A_Cn[i] += temp_cn_list[i]\n",
    "    # 第二项 总的配位数累加\n",
    "    for i in frame_element_dic:\n",
    "        # 如果表明不计数 则跳过\n",
    "        if frame_element_dic[i] == -1:\n",
    "            continue\n",
    "        sum_element_dic[i] += frame_element_dic[i]\n",
    "\n",
    "# 结束计时\n",
    "end_time = time.time()\n",
    "# 计算运行时间\n",
    "run_time = end_time - start_time\n",
    "\n",
    "# 打印运行时间\n",
    "print(\"程序运行时间：\", run_time, \"秒\")"
   ]
  },
  {
   "cell_type": "code",
   "execution_count": 18,
   "id": "9b205646",
   "metadata": {},
   "outputs": [
    {
     "name": "stdout",
     "output_type": "stream",
     "text": [
      "file_name: glass_300k_out.xyz\n",
      "我们关注的是 Si 的配位数，采取的截断距离为 2.5\n",
      "Si有1876个，它的Cn分布如下：\n",
      "C0:   2.0       占比： 0.11%\n",
      "C2:   1.0       占比： 0.05%\n",
      "C3:   43.0      占比： 2.29%\n",
      "C4:  1803.0     占比： 96.11%\n",
      "C5:   26.0      占比： 1.39%\n",
      "C6:   1.0       占比： 0.05%\n",
      "Si的平均Cn是： 3.99\n",
      "元素列表中的总体配位情况如下：\n",
      "O : 配位数量：6676 占比： 89.3%  均值: 3.559\n",
      "F : 配位数量：797 占比： 10.7%  均值: 0.425\n",
      "Si : 配位数量：6 占比： 0.1%  均值: 0.003\n"
     ]
    }
   ],
   "source": [
    "########  计算完成 输出结果  ##############\n",
    "print('file_name: ' + file_path.split('\\\\')[-1])\n",
    "print('我们关注的是 '+ name_A +' 的配位数，采取的截断距离为 '+str(A_dis))\n",
    "print(name_A+'有'+ str(num_A_atom) +'个，它的Cn分布如下：')\n",
    "for i in range(100):\n",
    "    if sum_A_Cn[i] != 0 :\n",
    "        temp_x = sum_A_Cn[i]//count_cycle\n",
    "        pro = temp_x/num_A_atom*100\n",
    "        print(f'C' +str(i)+': '+str(sum_A_Cn[i]//count_cycle).center(8)+ '    占比： '+str(round(pro,2))+'%')\n",
    "# 再来分析A的平均配位数\n",
    "sum_cn = 0\n",
    "for i in sum_element_dic:\n",
    "    if sum_element_dic[i] != -1:\n",
    "        sum_cn += sum_element_dic[i]\n",
    "print(name_A+'的平均Cn是： '+str(round(sum_cn/(num_A_atom*count_cycle),2)))\n",
    "\n",
    "cn = round(sum_cn/(num_A_atom*count_cycle),3)\n",
    "\n",
    "# 分析各个元素的配位占比\n",
    "print('元素列表中的总体配位情况如下：')\n",
    "for i in sum_element_dic:\n",
    "    if sum_element_dic[i]== -1:\n",
    "        pass\n",
    "        #print(i + \" 元素不计入配位计算！\")\n",
    "    else:\n",
    "        print(i + ' : '+'配位数量：'+str(sum_element_dic[i]//count_cycle)+' 占比： '+ str(round(sum_element_dic[i]/sum_cn*100,1))+'%',' 均值:',str(round(cn*(sum_element_dic[i]/sum_cn),3)))"
   ]
  },
  {
   "cell_type": "code",
   "execution_count": null,
   "id": "a8527d1d",
   "metadata": {},
   "outputs": [],
   "source": []
  },
  {
   "cell_type": "code",
   "execution_count": 20,
   "id": "735c59df",
   "metadata": {},
   "outputs": [
    {
     "name": "stdout",
     "output_type": "stream",
     "text": [
      "结果没有存储!\n"
     ]
    }
   ],
   "source": [
    "# 输出到文件中去\n",
    "if save_result == 1:\n",
    "    with open(save_path+save_name,'w') as note:\n",
    "        note.write('我们关注的是 '+ name_A +' 的配位数，采取的截断距离为 '+str(A_dis)+'\\n')\n",
    "        note.write(name_A+'有'+ str(num_A_atom) +'个，它的Cn分布如下：'+'\\n')\n",
    "        for i in range(50):\n",
    "            if sum_A_Cn[i] != 0 :\n",
    "                note.write('C' +str(i)+': '+str(sum_A_Cn[i]//count_cycle)+'\\n')\n",
    "        # 再来分析A的平均配位数\n",
    "        sum_cn = 0\n",
    "        for i in sum_element_dic:\n",
    "            if sum_element_dic[i] != -1:\n",
    "                sum_cn += sum_element_dic[i]\n",
    "        note.write(name_A+'的平均Cn是： '+str(round(sum_cn/(num_A_atom*count_cycle),2))+'\\n')\n",
    "\n",
    "        # 分析各个元素的配位占比\n",
    "        note.write('元素列表中的总体配位情况如下：'+'\\n')\n",
    "        for i in sum_element_dic:\n",
    "            if sum_element_dic[i]== -1:\n",
    "                pass\n",
    "            else:\n",
    "                note.write(i + ' : '+'配位数量：'+str(sum_element_dic[i]//count_cycle)+' 占比： '+ str(round(sum_element_dic[i]/sum_cn*100,1))+'%'+'\\n')\n",
    "        print('结果已经保存!')\n",
    "else:\n",
    "    print('结果没有存储!')"
   ]
  },
  {
   "cell_type": "code",
   "execution_count": 21,
   "id": "c0cc5e61",
   "metadata": {},
   "outputs": [
    {
     "name": "stdout",
     "output_type": "stream",
     "text": [
      " 🌹🌹🌹  🌹   🌹    🌹 \n",
      " 🌹  🌹  🌹  🌹     🌹 \n",
      " 🌹  🌹  🌹🌹🌹     🌹 \n",
      " 🌹  🌹  🌹   🌹       \n",
      " 🌹🌹🌹  🌹    🌹   🌹  \n"
     ]
    }
   ],
   "source": [
    "# 调用函数绘制小红花\n",
    "draw_flower()"
   ]
  },
  {
   "cell_type": "code",
   "execution_count": null,
   "id": "b339087a",
   "metadata": {},
   "outputs": [],
   "source": []
  },
  {
   "cell_type": "code",
   "execution_count": null,
   "id": "942b271a",
   "metadata": {},
   "outputs": [],
   "source": []
  },
  {
   "cell_type": "code",
   "execution_count": null,
   "id": "05a5674f",
   "metadata": {},
   "outputs": [],
   "source": []
  }
 ],
 "metadata": {
  "kernelspec": {
   "display_name": "Python 3 (ipykernel)",
   "language": "python",
   "name": "python3"
  },
  "language_info": {
   "codemirror_mode": {
    "name": "ipython",
    "version": 3
   },
   "file_extension": ".py",
   "mimetype": "text/x-python",
   "name": "python",
   "nbconvert_exporter": "python",
   "pygments_lexer": "ipython3",
   "version": "3.12.3"
  }
 },
 "nbformat": 4,
 "nbformat_minor": 5
}
