{
 "cells": [
  {
   "cell_type": "code",
   "execution_count": 9,
   "id": "81da7ff6",
   "metadata": {},
   "outputs": [],
   "source": [
    "import numpy as np\n",
    "import matplotlib.pyplot as plt"
   ]
  },
  {
   "cell_type": "code",
   "execution_count": 10,
   "id": "11d947e7",
   "metadata": {},
   "outputs": [],
   "source": [
    "frame_num = 5\n",
    "file_path = r'C:\\Users\\zhang\\Desktop\\g34output_out.xyz'\n",
    "creat_new_frame = 1"
   ]
  },
  {
   "cell_type": "code",
   "execution_count": 11,
   "id": "626dc873",
   "metadata": {},
   "outputs": [],
   "source": [
    "#读取文本函数，返回直接d选帧\n",
    "def get_data(path,frame_num):\n",
    "    with open(path) as f:\n",
    "        str_data = f.read()\n",
    "    data = str_data.split()\n",
    "    ###选帧#########\n",
    "    #此处写个程序选帧\n",
    "    atoms_num = int(data[0])\n",
    "    frame_len = atoms_num*4+2\n",
    "    data_len =len(data)\n",
    "    max_frame = data_len // frame_len\n",
    "    \n",
    "    temp = []\n",
    "    temp = data[frame_len*frame_num:frame_len*(frame_num+1)]\n",
    "\n",
    "    #暂时先自行处理了表头\n",
    "    temp = temp[2:]\n",
    "    frame_list = []\n",
    "    for i in range(atoms_num):\n",
    "        frame_list.append([temp[i*4+0],float(temp[i*4+1]),float(temp[i*4+2]),float(temp[i*4+3])])\n",
    "    \n",
    "    return frame_list"
   ]
  },
  {
   "cell_type": "markdown",
   "id": "60063a4b",
   "metadata": {},
   "source": [
    "# 主函数"
   ]
  },
  {
   "cell_type": "code",
   "execution_count": 12,
   "id": "5200c324",
   "metadata": {},
   "outputs": [],
   "source": [
    "new_name = r'C:\\Users\\zhang\\Desktop\\frame_ana_cry.xyz'\n",
    "if(creat_new_frame==1):\n",
    "    new_name = \"C:\\\\Users\\zhang\\\\Desktop\\\\\"\n",
    "    new_name += str(frame_num) + 'frame.xyz'\n",
    "\n",
    "data = get_data(file_path,frame_num)"
   ]
  },
  {
   "cell_type": "code",
   "execution_count": null,
   "id": "8d750bf3",
   "metadata": {},
   "outputs": [],
   "source": []
  },
  {
   "cell_type": "markdown",
   "id": "4a8acae8",
   "metadata": {},
   "source": [
    "# 保存文件"
   ]
  },
  {
   "cell_type": "code",
   "execution_count": null,
   "id": "ec0e4bd7",
   "metadata": {},
   "outputs": [],
   "source": [
    "#看文件是否存在 存在也删了 都要重建\n",
    "if not os.path.exists(new_name):\n",
    "    os.system(r'touch {}'.format(new_name))\n",
    "else:\n",
    "    os.remove(new_name)\n",
    "    os.system(r'touch {}'.format(new_name))"
   ]
  },
  {
   "cell_type": "code",
   "execution_count": null,
   "id": "990bdc34",
   "metadata": {},
   "outputs": [],
   "source": [
    "#先把文件头写上去\n",
    "with open(new_name,'a') as file:\n",
    "        file.write(\"{} \\n\".format(6200))\n",
    "        file.write(\"{} \\n\".format(\"Atoms\"))\n",
    "\n",
    "#如果cry标志位为1  那么写入的原子name为Ag\n",
    "with open(new_name,'a') as file:\n",
    "    for i in copy_list_nbnb:\n",
    "        if(i.cry==1):\n",
    "            file.write(\"{}    {}    {}    {}\\n\".format(\"Ag\",i.x,i.y,i.z))\n",
    "        else:\n",
    "            file.write(\"{}    {}    {}    {}\\n\".format(i.name,i.x,i.y,i.z))\n",
    "#再写入其他原子\n",
    "with open(new_name,'a') as file:\n",
    "    for i in o_list:\n",
    "        file.write(\"{}    {}    {}    {}\\n\".format(i.name,i.x,i.y,i.z))\n",
    "    for i in si_list:\n",
    "        file.write(\"{}    {}    {}    {}\\n\".format(i.name,i.x,i.y,i.z))\n",
    "    for i in li_list:\n",
    "        file.write(\"{}    {}    {}    {}\\n\".format(i.name,i.x,i.y,i.z))"
   ]
  }
 ],
 "metadata": {
  "kernelspec": {
   "display_name": "Python 3 (ipykernel)",
   "language": "python",
   "name": "python3"
  },
  "language_info": {
   "codemirror_mode": {
    "name": "ipython",
    "version": 3
   },
   "file_extension": ".py",
   "mimetype": "text/x-python",
   "name": "python",
   "nbconvert_exporter": "python",
   "pygments_lexer": "ipython3",
   "version": "3.10.6"
  }
 },
 "nbformat": 4,
 "nbformat_minor": 5
}
