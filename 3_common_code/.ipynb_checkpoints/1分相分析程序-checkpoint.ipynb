{
 "cells": [
  {
   "cell_type": "code",
   "execution_count": 20,
   "id": "81da7ff6",
   "metadata": {},
   "outputs": [],
   "source": [
    "import numpy as np\n",
    "import matplotlib.pyplot as plt\n",
    "import os\n",
    "import copy"
   ]
  },
  {
   "cell_type": "code",
   "execution_count": 2,
   "id": "11d947e7",
   "metadata": {},
   "outputs": [],
   "source": [
    "frame_num = 200\n",
    "file_path = r'C:\\Users\\zhang\\Desktop\\share\\18knpt_1000p_out.xyz'\n",
    "creat_new_frame = 1"
   ]
  },
  {
   "cell_type": "code",
   "execution_count": 3,
   "id": "626dc873",
   "metadata": {},
   "outputs": [],
   "source": [
    "#读取文本函数，返回直接d选帧\n",
    "def get_data(path,frame_num):\n",
    "    with open(path) as f:\n",
    "        str_data = f.read()\n",
    "    data = str_data.split()\n",
    "    ###选帧#########\n",
    "    #此处写个程序选帧\n",
    "    atoms_num = int(data[0])\n",
    "    frame_len = atoms_num*4+2\n",
    "    data_len =len(data)\n",
    "    max_frame = data_len // frame_len\n",
    "    \n",
    "    temp = []\n",
    "    temp = data[frame_len*frame_num:frame_len*(frame_num+1)]\n",
    "\n",
    "    #暂时先自行处理了表头\n",
    "    temp = temp[2:]\n",
    "    frame_list = []\n",
    "    for i in range(atoms_num):\n",
    "        frame_list.append([temp[i*4+0],float(temp[i*4+1]),float(temp[i*4+2]),float(temp[i*4+3])])\n",
    "    \n",
    "    return frame_list"
   ]
  },
  {
   "cell_type": "markdown",
   "id": "60063a4b",
   "metadata": {},
   "source": [
    "# 主函数"
   ]
  },
  {
   "cell_type": "code",
   "execution_count": 4,
   "id": "5200c324",
   "metadata": {},
   "outputs": [],
   "source": [
    "new_name = r'C:\\Users\\zhang\\Desktop\\frame_ana_cry.xyz'\n",
    "if(creat_new_frame==1):\n",
    "    new_name = \"C:\\\\Users\\zhang\\\\Desktop\\\\\"\n",
    "    new_name += str(frame_num) + 'frame.xyz'\n",
    "\n",
    "data = get_data(file_path,frame_num)"
   ]
  },
  {
   "cell_type": "code",
   "execution_count": 5,
   "id": "77677d26",
   "metadata": {},
   "outputs": [
    {
     "data": {
      "text/plain": [
       "['O', 26.805283, 6.579493, 25.72208]"
      ]
     },
     "execution_count": 5,
     "metadata": {},
     "output_type": "execute_result"
    }
   ],
   "source": [
    "data[0]"
   ]
  },
  {
   "cell_type": "code",
   "execution_count": 6,
   "id": "3e099968",
   "metadata": {},
   "outputs": [
    {
     "data": {
      "text/plain": [
       "['O', 44.586483, 39.081783, 14.98418]"
      ]
     },
     "execution_count": 6,
     "metadata": {},
     "output_type": "execute_result"
    }
   ],
   "source": [
    "data[1]"
   ]
  },
  {
   "cell_type": "code",
   "execution_count": 21,
   "id": "ad8dbdc9",
   "metadata": {},
   "outputs": [
    {
     "name": "stdout",
     "output_type": "stream",
     "text": [
      "57.891383\n",
      "{'O': 6333, 'Si': 1666, 'Al': 1999, 'F': 1333, 'Ba': 490, 'Cs': 175}\n"
     ]
    }
   ],
   "source": [
    "# 先设置最大值xyz的最大值 由于其为npt，所以其xyz边界是变化的，那么最大的就动态获取\n",
    "max_xyz = 0\n",
    "dic_ele = {}\n",
    "ba_list = []\n",
    "all_atoms = 0\n",
    "for i in data:\n",
    "    all_atoms+=1\n",
    "    if i[1]>max_xyz:\n",
    "        max_xyz = i[1]\n",
    "    if i[2]>max_xyz:\n",
    "        max_xyz = i[2]\n",
    "    if i[3]>max_xyz:\n",
    "        max_xyz = i[3]\n",
    "        \n",
    "    # 统计元素种类及个数\n",
    "    if i[0] not in dic_ele:\n",
    "        dic_ele[i[0]] = 0\n",
    "    else:\n",
    "        dic_ele[i[0]]+=1\n",
    "    # 得到ba列表\n",
    "    if i[0]=='Ba':\n",
    "        ba_list.append(i.copy())\n",
    "print(max_xyz)    \n",
    "print(dic_ele)"
   ]
  },
  {
   "cell_type": "code",
   "execution_count": 22,
   "id": "dfc2f25b",
   "metadata": {},
   "outputs": [
    {
     "name": "stdout",
     "output_type": "stream",
     "text": [
      "['Cs', 17.133083, 3.750713, 46.75858]\n",
      "['Cs', 2.959733, 24.201483, 2.12409]\n",
      "['Cs', 13.947783, 25.400283, 47.73248]\n",
      "['Cs', 9.000983, 35.686383, 53.76928]\n",
      "['Cs', 9.541773, 26.946883, 56.55188]\n",
      "['Cs', 23.404783, 22.583683, 5.8597]\n",
      "['Cs', 17.535683, 33.404383, 57.43198]\n",
      "['Cs', 44.340883, 48.491683, 37.20558]\n",
      "['Cs', 4.476943, 14.040283, 20.61828]\n",
      "['Cs', 9.199163, 2.201562, 9.98818]\n",
      "['Cs', 48.107683, 49.805883, 40.65338]\n",
      "['Cs', 19.275583, 1.707745, 57.63408]\n",
      "['Cs', 4.637983, 4.483813, 10.16993]\n",
      "['Cs', 11.520353, 20.193983, 5.42564]\n",
      "['Cs', 19.396183, 34.956083, 5.36355]\n",
      "['Cs', 21.081183, 36.564683, 56.60878]\n",
      "['Cs', 11.431333, 2.732093, 54.30988]\n",
      "['Cs', 31.453583, 6.311603, 51.06778]\n",
      "['Cs', 19.236783, 55.908583, 4.12422]\n",
      "['Cs', 24.090083, 28.322283, 56.69648]\n",
      "['Cs', 17.827183, 6.256483, 8.52162]\n",
      "['Cs', 0.662861, 49.107483, 27.25748]\n",
      "['Cs', 4.677263, 48.183783, 34.88588]\n",
      "['Cs', 15.095183, 11.451323, 5.9007]\n",
      "['Cs', 16.676083, 42.203883, 0.0925]\n",
      "['Cs', 9.497493, 29.598283, 7.83267]\n",
      "['Cs', 16.096983, 47.797683, 0.92314]\n",
      "['Cs', 43.881683, 52.151883, 2.46218]\n",
      "['Cs', 11.293233, 5.089513, 1.1418]\n",
      "['Cs', 20.059383, 47.601883, 3.10126]\n",
      "['Cs', 16.838583, 23.887983, 2.01892]\n",
      "['Cs', 11.002183, 17.254183, 10.50224]\n",
      "['Cs', 24.994683, 6.966493, 47.27508]\n",
      "['Cs', 22.685283, 6.044133, 42.98008]\n",
      "['Cs', 54.752583, 28.296183, 54.83318]\n",
      "['Cs', 5.761363, 53.687083, 31.06168]\n",
      "['Cs', 29.164383, 3.094613, 54.63348]\n",
      "['Cs', 42.931183, 56.917683, 1.82912]\n",
      "['Cs', 51.787183, 48.764483, 32.18648]\n",
      "['Cs', 1.292136, 21.270283, 5.30367]\n",
      "['Cs', 22.447983, 4.459103, 49.74508]\n",
      "['Cs', 25.388083, 56.988183, 55.59198]\n",
      "['Cs', 14.749083, 23.706483, 6.6752]\n",
      "['Cs', 14.805683, 18.709883, 4.17024]\n",
      "['Cs', 8.759383, 11.137683, 22.56418]\n",
      "['Cs', 10.506823, 15.725783, 16.02298]\n",
      "['Cs', 20.585083, 2.240784, 53.83758]\n",
      "['Cs', 8.050713, 18.998983, 7.97039]\n",
      "['Cs', 15.010983, 37.234283, 56.53178]\n",
      "['Cs', 54.745483, 22.494083, 53.22178]\n",
      "['Cs', 47.347283, 19.304183, 52.27348]\n",
      "['Cs', 0.415283, 48.659883, 34.97398]\n",
      "['Cs', 0.321973, 21.104883, 56.60398]\n",
      "['Cs', 20.368483, 54.370383, 54.05828]\n",
      "['Cs', 0.735869, 26.094383, 4.7701]\n",
      "['Cs', 7.059603, 27.602183, 2.62489]\n",
      "['Cs', 56.982683, 48.521583, 30.28388]\n",
      "['Cs', 49.798683, 23.083583, 52.68878]\n",
      "['Cs', 51.204883, 18.862083, 52.22688]\n",
      "['Cs', 21.498983, 1.143559, 4.96272]\n",
      "['Cs', 55.014083, 24.490083, 57.22608]\n",
      "['Cs', 8.573903, 10.060543, 3.53771]\n",
      "['Cs', 54.740683, 27.544283, 4.47916]\n",
      "['Cs', 0.95809, 10.794753, 10.88602]\n",
      "['Cs', 11.871883, 11.939683, 8.91306]\n",
      "['Cs', 11.184003, 22.318083, 54.82358]\n",
      "['Cs', 55.208983, 29.549783, 1.24223]\n",
      "['Cs', 19.463083, 2.764043, 42.48918]\n",
      "['Cs', 15.085183, 52.841983, 54.23978]\n",
      "['Cs', 20.535783, 30.710983, 55.81598]\n",
      "['Cs', 54.234883, 23.555483, 4.30516]\n",
      "['Cs', 10.377533, 32.792983, 57.16098]\n",
      "['Cs', 1.831722, 1.827332, 6.28839]\n",
      "['Cs', 14.776983, 5.982953, 6.2197]\n",
      "['Cs', 53.637383, 46.534383, 35.85968]\n",
      "['Cs', 15.626883, 44.212383, 3.67848]\n",
      "['Cs', 56.395083, 54.590383, 37.44608]\n",
      "['Cs', 54.985183, 50.224083, 38.07498]\n",
      "['Cs', 19.483383, 39.424083, 56.53988]\n",
      "['Cs', 1.425499, 22.558883, 51.92328]\n",
      "['Cs', 2.779823, 11.200823, 15.29188]\n",
      "['Cs', 9.171043, 1.994181, 1.69162]\n",
      "['Cs', 18.502483, 38.610383, 2.1231]\n",
      "['Cs', 46.857983, 14.102683, 53.03688]\n",
      "['Cs', 11.969383, 21.989383, 9.23752]\n",
      "['Cs', 20.588583, 9.020333, 50.74188]\n",
      "['Cs', 49.332783, 52.645383, 32.14198]\n",
      "['Cs', 3.267803, 1.913476, 2.46339]\n",
      "['Cs', 14.413083, 55.626483, 57.62138]\n",
      "['Cs', 10.317493, 3.472843, 5.4699]\n",
      "['Cs', 22.163583, 31.303983, 2.75616]\n",
      "['Cs', 15.276283, 23.475283, 53.18478]\n",
      "['Cs', 11.517693, 8.336973, 5.24903]\n",
      "['Cs', 23.515283, 52.026083, 54.91018]\n",
      "['Cs', 4.870043, 15.301883, 16.37468]\n",
      "['Cs', 3.980623, 21.988283, 55.44398]\n",
      "['Cs', 22.262483, 26.310983, 2.78863]\n",
      "['Cs', 22.022483, 2.531644, 46.13698]\n",
      "['Cs', 17.054283, 28.057783, 52.31698]\n",
      "['Cs', 25.370083, 5.601093, 52.43678]\n",
      "['Cs', 6.417633, 34.018383, 56.54618]\n",
      "['Cs', 1.626106, 7.258803, 3.12291]\n",
      "['Cs', 19.212483, 28.796883, 0.97978]\n",
      "['Cs', 29.175883, 9.098583, 47.85318]\n",
      "['Cs', 56.658783, 57.492683, 32.67308]\n",
      "['Cs', 20.127883, 55.719683, 57.49108]\n",
      "['Cs', 0.810534, 27.970083, 0.91977]\n",
      "['Cs', 0.699503, 6.254383, 7.40173]\n",
      "['Cs', 54.880783, 54.893283, 30.25798]\n",
      "['Cs', 11.018233, 25.239083, 5.62074]\n",
      "['Cs', 25.963883, 9.436483, 50.41168]\n",
      "['Cs', 6.830223, 5.211593, 2.85758]\n",
      "['Cs', 1.991471, 56.226083, 35.02908]\n",
      "['Cs', 48.268783, 47.606583, 36.05408]\n",
      "['Cs', 5.774263, 25.286383, 54.35328]\n",
      "['Cs', 52.844583, 55.424483, 35.17438]\n",
      "['Cs', 11.278953, 28.360183, 50.13208]\n",
      "['Cs', 25.762083, 9.432583, 44.29688]\n",
      "['Cs', 19.229983, 25.174083, 7.43532]\n",
      "['Cs', 14.667883, 33.165483, 54.34658]\n",
      "['Cs', 32.492283, 2.600739, 51.21378]\n",
      "['Cs', 19.772283, 0.618403, 49.78398]\n",
      "['Cs', 1.260406, 31.748283, 56.03698]\n",
      "['Cs', 29.008083, 2.673233, 43.72088]\n",
      "['Cs', 48.317083, 55.424783, 34.25108]\n",
      "['Cs', 30.318483, 3.903463, 47.33008]\n",
      "['Cs', 2.346469, 50.945283, 32.39318]\n",
      "['Cs', 7.298863, 30.364883, 47.85588]\n",
      "['Cs', 0.99267, 38.243283, 3.41162]\n",
      "['Cs', 7.807043, 8.903823, 9.00094]\n",
      "['Cs', 7.520583, 13.466883, 10.17269]\n",
      "['Cs', 17.248083, 20.200183, 6.62417]\n",
      "['Cs', 6.017833, 20.408983, 3.15634]\n",
      "['Cs', 20.204383, 49.217683, 57.56028]\n",
      "['Cs', 7.661243, 12.421383, 18.51318]\n",
      "['Cs', 7.460213, 32.437383, 4.32755]\n",
      "['Cs', 16.877583, 6.023043, 57.57108]\n",
      "['Cs', 5.893153, 28.973683, 56.89268]\n",
      "['Cs', 43.631183, 50.149583, 40.49128]\n",
      "['Cs', 10.342603, 17.049983, 20.37778]\n",
      "['Cs', 7.230823, 1.07937, 6.38533]\n",
      "['Cs', 27.944283, 8.766843, 53.86978]\n",
      "['Cs', 43.835783, 19.764283, 55.59768]\n",
      "['Cs', 6.973623, 23.810083, 5.11584]\n",
      "['Cs', 24.301783, 0.300623, 51.88568]\n",
      "['Cs', 56.430683, 51.955983, 40.93718]\n",
      "['Cs', 57.891283, 31.780183, 4.42185]\n",
      "['Cs', 55.908483, 52.407483, 33.54758]\n",
      "['Cs', 48.576483, 22.908983, 56.53818]\n",
      "['Cs', 14.027083, 21.779883, 0.33742]\n",
      "['Cs', 7.957823, 28.927783, 52.67718]\n",
      "['Cs', 13.404583, 34.492883, 1.67684]\n",
      "['Cs', 16.062083, 2.559835, 53.45648]\n",
      "['Cs', 21.057783, 26.500183, 55.37848]\n",
      "['Cs', 3.782313, 30.675083, 3.05855]\n",
      "['Cs', 5.786153, 6.127263, 6.12955]\n",
      "['Cs', 16.452083, 23.940983, 10.32568]\n",
      "['Cs', 6.627843, 17.490883, 12.40678]\n",
      "['Cs', 51.900583, 51.451183, 36.28508]\n",
      "['Cs', 17.302683, 7.499283, 43.52958]\n",
      "['Cs', 3.156983, 27.224283, 49.69668]\n",
      "['Cs', 20.629483, 29.120983, 6.61843]\n",
      "['Cs', 7.316623, 9.302753, 12.60788]\n",
      "['Cs', 17.950183, 37.389083, 52.99198]\n",
      "['Cs', 51.215383, 17.114383, 56.66498]\n",
      "['Cs', 1.170818, 26.437283, 54.42578]\n",
      "['Cs', 28.019783, 3.161943, 50.37638]\n",
      "['Cs', 23.607283, 23.290583, 57.12868]\n",
      "['Cs', 17.646083, 31.547583, 4.37946]\n",
      "['Cs', 3.819043, 24.743183, 7.38344]\n",
      "['Cs', 15.444783, 2.124971, 2.13188]\n",
      "['Cs', 9.289053, 37.385583, 2.35122]\n",
      "['Cs', 11.720683, 24.751683, 0.79184]\n",
      "['Cs', 30.901783, 6.738273, 43.07088]\n",
      "['Cs', 4.852403, 32.025283, 51.64488]\n",
      "['Cs', 15.381183, 28.105383, 9.1817]\n",
      "491 1667 2000 1334 6334\n"
     ]
    }
   ],
   "source": [
    "ba_num = 0\n",
    "si_num = 0\n",
    "al_num = 0\n",
    "f_num = 0\n",
    "o_num = 0\n",
    "for i in data:\n",
    "    if i[0]=='Ba':\n",
    "        ba_num+=1\n",
    "    elif i[0]=='Si':\n",
    "            si_num+=1   \n",
    "    elif i[0]=='Al':\n",
    "        al_num+=1\n",
    "    elif i[0]=='F':\n",
    "        f_num+=1\n",
    "    elif i[0]=='O':\n",
    "        o_num+=1\n",
    "    else:\n",
    "        print(i)\n",
    "print(ba_num,si_num,al_num,f_num,o_num)"
   ]
  },
  {
   "cell_type": "code",
   "execution_count": 9,
   "id": "263153e2",
   "metadata": {},
   "outputs": [
    {
     "data": {
      "text/plain": [
       "12002"
      ]
     },
     "execution_count": 9,
     "metadata": {},
     "output_type": "execute_result"
    }
   ],
   "source": [
    "len(data)"
   ]
  },
  {
   "cell_type": "code",
   "execution_count": 10,
   "id": "edaac24e",
   "metadata": {},
   "outputs": [],
   "source": [
    "# 定义距离函数\n",
    "def cal_distance(x1,y1,z1,x2,y2,z2):\n",
    "    dis = ((x1-x2)**2+(y1-y2)**2+(z1-z2)**2)**(1/2)\n",
    "    if dis<1:\n",
    "        return 10\n",
    "    return dis"
   ]
  },
  {
   "cell_type": "raw",
   "id": "03f7cf34",
   "metadata": {},
   "source": [
    "什么时候需要转换坐标呢，就是当对立面的两个原子在计算的时候\n",
    "1.两个原子"
   ]
  },
  {
   "cell_type": "code",
   "execution_count": 11,
   "id": "d0759a08",
   "metadata": {},
   "outputs": [],
   "source": [
    "# 定义坐标转换函数\n",
    "def tran_coordinate(x1,y1,z1,x2,y2,z2):\n",
    "    pass"
   ]
  },
  {
   "cell_type": "code",
   "execution_count": null,
   "id": "a14312a8",
   "metadata": {},
   "outputs": [],
   "source": []
  },
  {
   "cell_type": "markdown",
   "id": "f87be37e",
   "metadata": {},
   "source": [
    "1.如果一个Ba原子的第一近邻大多数都为F\n",
    "2.Ba原子的中程形成体大多数都是Ba 而Al和Si很少"
   ]
  },
  {
   "cell_type": "code",
   "execution_count": 12,
   "id": "ddabfc7e",
   "metadata": {},
   "outputs": [],
   "source": [
    "# 定义分析函数\n",
    "def ana_separation(n1,x1,y1,z1,n2,x2,y2,z2):\n",
    "    pass"
   ]
  },
  {
   "cell_type": "code",
   "execution_count": 13,
   "id": "eb29cbac",
   "metadata": {},
   "outputs": [],
   "source": [
    "for ba_i in ba_list:\n",
    "    count_ba_ba = 0\n",
    "    count_al_si = 0\n",
    "    count_o = 0\n",
    "    count_f = 0\n",
    "    \n",
    "    for j in data:\n",
    "        # 如果是同一原子则跳过 这个在计算距离的时候判断就行了  不然计算太多遍了\n",
    "        # if (i[1]-j[1]<1e-4 and i[2]-j[2]<1e-4 and i[3]-j[3]\n",
    "        if j[0]=='Ba' or j[0]=='Cs':\n",
    "            if cal_distance(ba_i[1],ba_i[2],ba_i[3],j[1],j[2],j[3])< 6.0:\n",
    "                count_ba_ba+=1\n",
    "        if j[0]=='Al' or j[0]=='Si':\n",
    "            if cal_distance(ba_i[1],ba_i[2],ba_i[3],j[1],j[2],j[3])< 6.0:\n",
    "                count_al_si+=1\n",
    "        if j[0]=='O' :\n",
    "            if cal_distance(ba_i[1],ba_i[2],ba_i[3],j[1],j[2],j[3])< 3.5:\n",
    "                count_o+=1\n",
    "        if j[0]=='F' :\n",
    "            if cal_distance(ba_i[1],ba_i[2],ba_i[3],j[1],j[2],j[3])< 3.5:\n",
    "                count_f+=1\n",
    "        \n",
    "        #综合判断\n",
    "    if(count_al_si<=count_ba_ba and count_o <= count_f):\n",
    "        ba_i[0]='Cs'"
   ]
  },
  {
   "cell_type": "code",
   "execution_count": null,
   "id": "31607f32",
   "metadata": {},
   "outputs": [],
   "source": []
  },
  {
   "cell_type": "code",
   "execution_count": 14,
   "id": "7c53c59f",
   "metadata": {},
   "outputs": [],
   "source": [
    "num = 0\n",
    "for i in ba_list:\n",
    "    if i[0]=='Cs':\n",
    "        num+=1"
   ]
  },
  {
   "cell_type": "code",
   "execution_count": 15,
   "id": "226392dd",
   "metadata": {},
   "outputs": [
    {
     "name": "stdout",
     "output_type": "stream",
     "text": [
      "{'O': 6333, 'Si': 1666, 'Al': 1999, 'F': 1333, 'Ba': 666}\n",
      "separation Ba: 176\n"
     ]
    }
   ],
   "source": [
    "print(dic_ele)\n",
    "print(\"separation Ba:\",num)"
   ]
  },
  {
   "cell_type": "markdown",
   "id": "4a8acae8",
   "metadata": {},
   "source": [
    "# 保存文件"
   ]
  },
  {
   "cell_type": "markdown",
   "id": "b0f6f5bc",
   "metadata": {},
   "source": [
    "#看文件是否存在 存在也删了 都要重建\n",
    "if not os.path.exists(new_name):\n",
    "    os.system(r'touch {}'.format(new_name))\n",
    "else:\n",
    "    os.remove(new_name)\n",
    "    os.system(r'touch {}'.format(new_name))"
   ]
  },
  {
   "cell_type": "code",
   "execution_count": 24,
   "id": "c817d617",
   "metadata": {},
   "outputs": [],
   "source": [
    "#看文件是否存在 存在也删了 都要重建\n",
    "if not os.path.exists(new_name):\n",
    "    os.system(r'touch {}'.format(new_name))\n",
    "else:\n",
    "    os.remove(new_name)\n",
    "    os.system(r'touch {}'.format(new_name))"
   ]
  },
  {
   "cell_type": "code",
   "execution_count": 31,
   "id": "990bdc34",
   "metadata": {},
   "outputs": [
    {
     "name": "stdout",
     "output_type": "stream",
     "text": [
      "12003 491\n"
     ]
    }
   ],
   "source": [
    "count = 1\n",
    "count_ba = 0\n",
    "#先把文件头写上去\n",
    "with open(new_name,'a') as file:\n",
    "        file.write(\"{} \\n\".format(all_atoms))\n",
    "        file.write(\"{} \\n\".format(\"Atoms\"))\n",
    "#在两个循环里分别写入原子\n",
    "with open(new_name,'a') as file:\n",
    "    for i in data:\n",
    "        if i[0]!='Ba':\n",
    "            count+=1\n",
    "            file.write(\"{}    {}    {}    {}\\n\".format(i[0],i[1],i[2],i[3]))\n",
    "    for j in ba_list:\n",
    "        count_ba +=1\n",
    "        count+=1\n",
    "        file.write(\"{}    {}    {}    {}\\n\".format(j[0],j[1],j[2],j[3]))\n",
    "        if j[0]=='Cs':\n",
    "            print(j)\n",
    "\n",
    "print(count,count_ba)"
   ]
  },
  {
   "cell_type": "code",
   "execution_count": 18,
   "id": "5d3a4ef9",
   "metadata": {},
   "outputs": [
    {
     "data": {
      "text/plain": [
       "12002"
      ]
     },
     "execution_count": 18,
     "metadata": {},
     "output_type": "execute_result"
    }
   ],
   "source": [
    "len(data)"
   ]
  },
  {
   "cell_type": "code",
   "execution_count": 19,
   "id": "08db5818",
   "metadata": {},
   "outputs": [
    {
     "data": {
      "text/plain": [
       "176"
      ]
     },
     "execution_count": 19,
     "metadata": {},
     "output_type": "execute_result"
    }
   ],
   "source": [
    "a = 0\n",
    "for i in data:\n",
    "    if i[0]=='Cs':\n",
    "        a+=1\n",
    "a"
   ]
  },
  {
   "cell_type": "code",
   "execution_count": 32,
   "id": "cbdea8cd",
   "metadata": {},
   "outputs": [],
   "source": [
    "xx = 'wqeqw'\n",
    "yy = '41241'\n",
    "with open(new_name,'a') as file:\n",
    "        file.write(xx+yy)\n",
    "        file.write(\"{} \\n\".format(\"Atoms\"))"
   ]
  },
  {
   "cell_type": "code",
   "execution_count": null,
   "id": "21c3546d",
   "metadata": {},
   "outputs": [],
   "source": []
  }
 ],
 "metadata": {
  "kernelspec": {
   "display_name": "Python 3 (ipykernel)",
   "language": "python",
   "name": "python3"
  },
  "language_info": {
   "codemirror_mode": {
    "name": "ipython",
    "version": 3
   },
   "file_extension": ".py",
   "mimetype": "text/x-python",
   "name": "python",
   "nbconvert_exporter": "python",
   "pygments_lexer": "ipython3",
   "version": "3.10.6"
  }
 },
 "nbformat": 4,
 "nbformat_minor": 5
}
