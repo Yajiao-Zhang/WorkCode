{
 "cells": [
  {
   "cell_type": "code",
   "execution_count": 1,
   "id": "9255c053",
   "metadata": {},
   "outputs": [],
   "source": [
    "import numpy as np\n",
    "import matplotlib.pyplot as plt"
   ]
  },
  {
   "cell_type": "code",
   "execution_count": 20,
   "id": "904c4800",
   "metadata": {},
   "outputs": [],
   "source": [
    "# 文件位置\n",
    "file_path = r'C:\\Users\\zhang\\Desktop\\md\\bop_ana\\output_out.xyz'\n",
    "\n",
    "#所有元素的名称 字典是用来计数这个元素在A附近出现的次数 如果这个初始值为-1则表示不计算A与此元素的近邻\n",
    "all_element_dic = {'Si':0}\n",
    "\n",
    "#需要分析的元素以及第一近邻的距离\n",
    "A_dis = 4.0\n",
    "name_A = 'Si'\n",
    "\n",
    "# 分析的起始帧、终止帧、以及步长\n",
    "start_frame = 0\n",
    "steps_frame = 1\n",
    "final_frame = 0\n",
    "\n",
    "# 是否将分析结果存入文件\n",
    "save_path = r'C:\\Users\\zhang\\Desktop\\40sap_out\\\\'\n",
    "save_name = file_name[:5] + '_ana'\n",
    "# 是否创建新帧 \n",
    "creat_new_frame = 0\n"
   ]
  },
  {
   "cell_type": "code",
   "execution_count": 21,
   "id": "5a659efc",
   "metadata": {},
   "outputs": [],
   "source": [
    "# 现在把文件读取\n",
    "with open(file_path) as f:\n",
    "    str_data = f.read()\n",
    "all_data = str_data.split()\n",
    "# 选择要处理的帧数\n",
    "def get_data(frame_num):\n",
    "    atoms_num = int(all_data[0])\n",
    "    frame_len = atoms_num*4+2\n",
    "    data_len =len(all_data)\n",
    "    max_frame = data_len // frame_len\n",
    "\n",
    "    temp = []\n",
    "    temp = all_data[frame_len*frame_num:frame_len*(frame_num+1)]\n",
    "\n",
    "    #暂时先自行处理了表头\n",
    "    temp = temp[2:]\n",
    "    frame_list = []\n",
    "    for i in range(atoms_num):\n",
    "        frame_list.append([temp[i*4+0],float(temp[i*4+1]),float(temp[i*4+2]),float(temp[i*4+3])])\n",
    "    \n",
    "    return frame_list\n",
    "#定义距离函数\n",
    "def cal_distance(x1,y1,z1,x2,y2,z2):\n",
    "    dis = ((x1-x2)**2+(y1-y2)**2+(z1-z2)**2)**(1/2)\n",
    "    return dis\n",
    "\n",
    "def cal_ppp_distance(pos1, pos2):\n",
    "    global box_size\n",
    "    # 计算两个位置之间的最小距离，考虑周期性边界条件\n",
    "    pos1,pos2,box_size = np.array(pos1),np.array(pos2),np.array(box_size)\n",
    "    # 计算位置差矢量\n",
    "    delta = pos2 - pos1\n",
    "    \n",
    "    # 应用最小图像约束，确保距离在周期内最短\n",
    "    delta = delta - np.round(delta / box_size) * box_size\n",
    "    # 计算距离\n",
    "    distance = np.linalg.norm(delta)\n",
    "    if distance<1e-4:\n",
    "        distance = 100.0\n",
    "    return distance"
   ]
  },
  {
   "cell_type": "code",
   "execution_count": 22,
   "id": "2ccff1bf",
   "metadata": {},
   "outputs": [
    {
     "name": "stdout",
     "output_type": "stream",
     "text": [
      "[42.95421, 42.95421, 42.95421]\n"
     ]
    }
   ],
   "source": [
    "box_max_value = 0\n",
    "for atom in get_data(0):\n",
    "    max_v = max(atom[1:])\n",
    "    if max_v > box_max_value:\n",
    "        box_max_value = max_v\n",
    "box_size = [box_max_value,box_max_value,box_max_value]\n",
    "print(box_size)"
   ]
  },
  {
   "cell_type": "code",
   "execution_count": 23,
   "id": "c4f5052a",
   "metadata": {
    "scrolled": true
   },
   "outputs": [
    {
     "name": "stdout",
     "output_type": "stream",
     "text": [
      "我们关注的是 Si 的配位数，采取的截断距离为 4.0\n",
      "Si的Cn分布如下：\n"
     ]
    },
    {
     "ename": "ZeroDivisionError",
     "evalue": "division by zero",
     "output_type": "error",
     "traceback": [
      "\u001b[1;31m---------------------------------------------------------------------------\u001b[0m",
      "\u001b[1;31mZeroDivisionError\u001b[0m                         Traceback (most recent call last)",
      "Input \u001b[1;32mIn [23]\u001b[0m, in \u001b[0;36m<cell line: 81>\u001b[1;34m()\u001b[0m\n\u001b[0;32m     79\u001b[0m     \u001b[38;5;28;01mif\u001b[39;00m sum_element_dic[i] \u001b[38;5;241m!=\u001b[39m \u001b[38;5;241m-\u001b[39m\u001b[38;5;241m1\u001b[39m:\n\u001b[0;32m     80\u001b[0m         sum_cn \u001b[38;5;241m+\u001b[39m\u001b[38;5;241m=\u001b[39m sum_element_dic[i]\n\u001b[1;32m---> 81\u001b[0m \u001b[38;5;28mprint\u001b[39m(name_A\u001b[38;5;241m+\u001b[39m\u001b[38;5;124m'\u001b[39m\u001b[38;5;124m的平均Cn是： \u001b[39m\u001b[38;5;124m'\u001b[39m\u001b[38;5;241m+\u001b[39m\u001b[38;5;28mstr\u001b[39m(\u001b[38;5;28mround\u001b[39m(\u001b[43msum_cn\u001b[49m\u001b[38;5;241;43m/\u001b[39;49m\u001b[43m(\u001b[49m\u001b[43mnum_A_atom\u001b[49m\u001b[38;5;241;43m*\u001b[39;49m\u001b[43mcount_cycle\u001b[49m\u001b[43m)\u001b[49m,\u001b[38;5;241m2\u001b[39m)))\n\u001b[0;32m     84\u001b[0m \u001b[38;5;66;03m# 分析各个元素的配位占比\u001b[39;00m\n\u001b[0;32m     85\u001b[0m \u001b[38;5;28mprint\u001b[39m(\u001b[38;5;124m'\u001b[39m\u001b[38;5;124m元素列表中的总体配位情况如下：\u001b[39m\u001b[38;5;124m'\u001b[39m)\n",
      "\u001b[1;31mZeroDivisionError\u001b[0m: division by zero"
     ]
    }
   ],
   "source": [
    "# # 记录每一个帧数处理后得到的信息，然后加和\n",
    "# 得到元素A的数量\n",
    "num_A_atom = 0\n",
    "# 记录A总的近邻和Cn数\n",
    "sum_A_neibor = 0\n",
    "sum_A_Cn = []\n",
    "for i in range(50):\n",
    "    sum_A_Cn.append(0)\n",
    "# 字典是用来计数的\n",
    "sum_element_dic = all_element_dic.copy()\n",
    "# 循环次数\n",
    "count_cycle = 0\n",
    "################### 开始循环处理每一帧 #################\n",
    "for step in range(start_frame,final_frame,steps_frame):\n",
    "    count_cycle+=1\n",
    "    # 获取数据\n",
    "    data = get_data(step)\n",
    "    # 找到最大的盒子边界以及A元素的列表\n",
    "    box_length = 0\n",
    "    for i in data:\n",
    "        if i[2]>box_length:\n",
    "            box_length=float(i[2])\n",
    "    A_list = []\n",
    "    for i in data:\n",
    "        if i[0]==name_A:\n",
    "            if A_dis <i[1]<box_length-A_dis and A_dis <i[2]<box_length-A_dis and A_dis <i[3]<box_length-A_dis :\n",
    "                A_list.append(i)\n",
    "    # 记录A元素的总个数\n",
    "    num_A_atom = len(A_list)\n",
    "    \n",
    "    # 计量本次A总的近邻原子次数 后边好计算\n",
    "    count_A_neibor = 0\n",
    "    \n",
    "    # 记录每个A的Cn的分布\n",
    "    A_cn_list = []\n",
    "    for i in range(50):\n",
    "        A_cn_list.append(0)\n",
    "\n",
    "    # 每一次要拷贝一次字典 便于重新计数\n",
    "    frame_element_dic = all_element_dic.copy()\n",
    "    # 开始计算\n",
    "    for i in A_list:\n",
    "        # 记录这个元素有几个配位\n",
    "        A_cn = 0\n",
    "        for j in data:\n",
    "            # 如果就是A本身或者与dic中表示了不计数，那么跳过\n",
    "            if j[0]==name_A or all_element_dic[j[0]]== -1:\n",
    "                continue\n",
    "            # 不是A且元素在近邻内\n",
    "            if cal_distance(i[1],i[2],i[3],j[1],j[2],j[3])<A_dis:\n",
    "                # 首先记录多了一个近邻\n",
    "                A_cn+=1\n",
    "                # 再记录这个近邻的种类 先取出原有值，再加一\n",
    "                temp = frame_element_dic[j[0]]\n",
    "                frame_element_dic[j[0]] = temp+1\n",
    "        # 本循环结束 记录下这个A元素的Cn值        \n",
    "        A_cn_list[A_cn]+=1\n",
    "    ####################已经得到了这一帧的所有数据########################   \n",
    "    # 第一项 Cn累加\n",
    "    for i in range(50):\n",
    "        sum_A_Cn[i]+=A_cn_list[i]\n",
    "    # 第二项 总的配位数累加\n",
    "    for i in frame_element_dic:\n",
    "        # 如果表明不计数 则跳过\n",
    "        if frame_element_dic[i] == -1:\n",
    "            continue\n",
    "        sum_element_dic[i] += frame_element_dic[i]\n",
    "        \n",
    "\n",
    "########  计算完成 输出结果  ##############\n",
    "print('我们关注的是 '+ name_A +' 的配位数，采取的截断距离为 '+str(A_dis))\n",
    "print(name_A +'的Cn分布如下：')\n",
    "for i in range(50):\n",
    "    if sum_A_Cn[i] != 0 :\n",
    "        print('C' +str(i)+': '+str(sum_A_Cn[i]//count_cycle))\n",
    "# 再来分析A的平均配位数\n",
    "sum_cn = 0\n",
    "for i in sum_element_dic:\n",
    "    if sum_element_dic[i] != -1:\n",
    "        sum_cn += sum_element_dic[i]\n",
    "print(name_A+'的平均Cn是： '+str(round(sum_cn/(num_A_atom*count_cycle),2)))\n",
    "\n",
    "\n",
    "# 分析各个元素的配位占比\n",
    "print('元素列表中的总体配位情况如下：')\n",
    "for i in sum_element_dic:\n",
    "    if sum_element_dic[i]== -1:\n",
    "        print(i + \" 元素不计入配位计算！\")\n",
    "    else:\n",
    "        print(i + ' : '+'配位数量：'+str(sum_element_dic[i]//count_cycle)+' 占比： '+ str(round(sum_element_dic[i]/sum_cn*100,1))+'%')"
   ]
  },
  {
   "cell_type": "code",
   "execution_count": 24,
   "id": "340ca970",
   "metadata": {},
   "outputs": [],
   "source": [
    "for i in range(0,0,1):\n",
    "    pass"
   ]
  },
  {
   "cell_type": "code",
   "execution_count": null,
   "id": "4c47c5ba",
   "metadata": {},
   "outputs": [],
   "source": []
  },
  {
   "cell_type": "code",
   "execution_count": null,
   "id": "a6c9d513",
   "metadata": {},
   "outputs": [],
   "source": []
  }
 ],
 "metadata": {
  "kernelspec": {
   "display_name": "Python 3 (ipykernel)",
   "language": "python",
   "name": "python3"
  },
  "language_info": {
   "codemirror_mode": {
    "name": "ipython",
    "version": 3
   },
   "file_extension": ".py",
   "mimetype": "text/x-python",
   "name": "python",
   "nbconvert_exporter": "python",
   "pygments_lexer": "ipython3",
   "version": "3.10.6"
  }
 },
 "nbformat": 4,
 "nbformat_minor": 5
}
