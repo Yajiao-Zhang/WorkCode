{
 "cells": [
  {
   "cell_type": "code",
   "execution_count": 1,
   "id": "81da7ff6",
   "metadata": {},
   "outputs": [],
   "source": [
    "import numpy as np\n",
    "import matplotlib.pyplot as plt\n",
    "import os\n",
    "import copy"
   ]
  },
  {
   "cell_type": "code",
   "execution_count": 2,
   "id": "11d947e7",
   "metadata": {},
   "outputs": [],
   "source": [
    "frame_num = 1\n",
    "file_path = r'C:\\Users\\zhang\\Desktop\\share\\18knpt_1000p_out.xyz'\n",
    "new_name = r'C:\\Users\\zhang\\Desktop\\18knpt_ana.lammpstrj'"
   ]
  },
  {
   "cell_type": "code",
   "execution_count": 3,
   "id": "626dc873",
   "metadata": {},
   "outputs": [],
   "source": [
    "#读取文本函数，返回直接d选帧\n",
    "def get_data(path,frame_num):\n",
    "    with open(path) as f:\n",
    "        str_data = f.read()\n",
    "    data = str_data.split()\n",
    "    ###选帧#########\n",
    "    #此处写个程序选帧\n",
    "    atoms_num = int(data[0])\n",
    "    frame_len = atoms_num*4+2\n",
    "    data_len =len(data)\n",
    "    max_frame = data_len // frame_len\n",
    "    \n",
    "    temp = []\n",
    "    temp = data[frame_len*frame_num:frame_len*(frame_num+1)]\n",
    "\n",
    "    #暂时先自行处理了表头\n",
    "    temp = temp[2:]\n",
    "    frame_list = []\n",
    "    for i in range(atoms_num):\n",
    "        frame_list.append([temp[i*4+0],float(temp[i*4+1]),float(temp[i*4+2]),float(temp[i*4+3])])\n",
    "    \n",
    "    return frame_list"
   ]
  },
  {
   "cell_type": "code",
   "execution_count": 4,
   "id": "bb60073f",
   "metadata": {},
   "outputs": [],
   "source": [
    "# 定义距离函数\n",
    "def cal_distance(x1,y1,z1,x2,y2,z2):\n",
    "    dis = ((x1-x2)**2+(y1-y2)**2+(z1-z2)**2)**(1/2)\n",
    "    if dis<1:\n",
    "        return 10\n",
    "    return dis"
   ]
  },
  {
   "cell_type": "markdown",
   "id": "60063a4b",
   "metadata": {},
   "source": [
    "# 主函数"
   ]
  },
  {
   "cell_type": "code",
   "execution_count": 5,
   "id": "75e48a18",
   "metadata": {},
   "outputs": [
    {
     "name": "stdout",
     "output_type": "stream",
     "text": [
      "帧数： 1   Cs原子数：  33\n",
      "帧数： 11   Cs原子数：  35\n",
      "帧数： 21   Cs原子数：  59\n",
      "帧数： 31   Cs原子数：  54\n",
      "帧数： 41   Cs原子数：  78\n"
     ]
    }
   ],
   "source": [
    "start_frame = 1\n",
    "end_frame = 50\n",
    "step_frame = 10\n",
    "\n",
    "#看文件是否存在 存在也删了 都要重建\n",
    "if not os.path.exists(new_name):\n",
    "    os.system(r'touch {}'.format(new_name))\n",
    "else:\n",
    "    os.remove(new_name)\n",
    "    os.system(r'touch {}'.format(new_name))\n",
    "    \n",
    "for frame in range(start_frame,end_frame,step_frame):\n",
    "    frame_count = int((end_frame-start_frame)/step_frame)\n",
    "# 获取数据\n",
    "    data = get_data(file_path,frame).copy()\n",
    "# 处理数据准备\n",
    "    num_cs = 0\n",
    "    max_xyz = 0\n",
    "    dic_ele = {}\n",
    "    ba_list = []\n",
    "    all_atoms = 0\n",
    "    for i in data:\n",
    "        all_atoms+=1\n",
    "        if i[1]>max_xyz:\n",
    "            max_xyz = i[1]\n",
    "        if i[2]>max_xyz:\n",
    "            max_xyz = i[2]\n",
    "        if i[3]>max_xyz:\n",
    "            max_xyz = i[3]\n",
    "        \n",
    "        # 统计元素种类及个数\n",
    "        if i[0] not in dic_ele:\n",
    "            dic_ele[i[0]] = 0\n",
    "        else:\n",
    "            dic_ele[i[0]]+=1\n",
    "        # 得到ba列表\n",
    "        if i[0]=='Ba':\n",
    "            ba_list.append(i.copy())\n",
    "    \n",
    "    \n",
    "#  开始处理数据\n",
    "    for ba_i in ba_list:\n",
    "        count_ba_ba = 0\n",
    "        count_al_si = 0\n",
    "        count_o = 0\n",
    "        count_f = 0\n",
    "    \n",
    "        for j in data:\n",
    "            # 如果是同一原子则跳过 这个在计算距离的时候判断就行了  不然计算太多遍了\n",
    "            # if (i[1]-j[1]<1e-4 and i[2]-j[2]<1e-4 and i[3]-j[3]\n",
    "            if j[0]=='Ba':\n",
    "                if cal_distance(ba_i[1],ba_i[2],ba_i[3],j[1],j[2],j[3])< 6.0:\n",
    "                    count_ba_ba+=1\n",
    "            if j[0]=='Al' or j[0]=='Si':\n",
    "                if cal_distance(ba_i[1],ba_i[2],ba_i[3],j[1],j[2],j[3])< 6.0:\n",
    "                    count_al_si+=1\n",
    "            if j[0]=='O' :\n",
    "                if cal_distance(ba_i[1],ba_i[2],ba_i[3],j[1],j[2],j[3])< 3.5:\n",
    "                    count_o+=1\n",
    "            if j[0]=='F' :\n",
    "                if cal_distance(ba_i[1],ba_i[2],ba_i[3],j[1],j[2],j[3])< 3.5:\n",
    "                    count_f+=1\n",
    "\n",
    "        #综合判断\n",
    "        if(count_al_si<=count_ba_ba and count_o <= count_f):\n",
    "            ba_i[0]='Cs'\n",
    "    \n",
    "# 储存回文本\n",
    "#先把文件头写上去\n",
    "    with open(new_name,'a') as file:\n",
    "# 文件头\n",
    "        file.write(\"ITEM: TIMESTEP\\n\")\n",
    "        #  帧数\n",
    "        file.write(str(frame_count) +'\\n')\n",
    "        file.write(\"ITEM: NUMBER OF ATOMS\\n\")\n",
    "        # 原子数\n",
    "        file.write(str(all_atoms) +'\\n')\n",
    "        file.write(\"ITEM: BOX BOUNDS xy xz yz pp pp pp\\n\\\n",
    "0.0    100.0  0.0 \\n\\\n",
    "0.0    100.0  0.0 \\n\\\n",
    "0.0    100.0  0.0 \\n\\\n",
    "ITEM: ATOMS type x y z vx vy vz\\n\")    \n",
    "# 写回数据\n",
    "        for i_d in data:\n",
    "            if i_d[0]!='Ba':\n",
    "                file.write(str(i_d[0]) + '  ' + str(i_d[1]) +'  '+ str(i_d[2]) + '  ' + str(i_d[3]) +  ' 0 0 0 '+ '\\n')\n",
    "            if i_d[0]=='Cs':\n",
    "                print('nonono')\n",
    "        \n",
    "        for j in ba_list:\n",
    "            if j[0]=='Ba':\n",
    "                file.write(str(j[0]) + '  ' + str(j[1]) +'  '+ str(j[2]) + '  ' + str(j[3])+ ' 0 0 0 '+ '\\n')\n",
    "            elif j[0]=='Cs':\n",
    "                num_cs+=1 \n",
    "                file.write('Ba' +  '  ' + str(j[1]) +'  '+ str(j[2]) +'  '+ str(j[3])+ ' 1 1 1 ' +  '\\n')\n",
    "            else:\n",
    "                print('no')\n",
    "    # 输出相关信息\n",
    "    print('帧数：',frame,'  Cs原子数： ',num_cs)"
   ]
  },
  {
   "cell_type": "code",
   "execution_count": 6,
   "id": "19a761e8",
   "metadata": {},
   "outputs": [
    {
     "name": "stdout",
     "output_type": "stream",
     "text": [
      "ok\n"
     ]
    }
   ],
   "source": [
    "print('ok')"
   ]
  },
  {
   "cell_type": "markdown",
   "id": "fab5c25c",
   "metadata": {},
   "source": [
    "# 先设置最大值xyz的最大值 由于其为npt，所以其xyz边界是变化的，那么最大的就动态获取\n",
    "max_xyz = 0\n",
    "dic_ele = {}\n",
    "ba_list = []\n",
    "all_atoms = 0\n",
    "for i in data:\n",
    "    all_atoms+=1\n",
    "    if i[1]>max_xyz:\n",
    "        max_xyz = i[1]\n",
    "    if i[2]>max_xyz:\n",
    "        max_xyz = i[2]\n",
    "    if i[3]>max_xyz:\n",
    "        max_xyz = i[3]\n",
    "        \n",
    "    # 统计元素种类及个数\n",
    "    if i[0] not in dic_ele:\n",
    "        dic_ele[i[0]] = 0\n",
    "    else:\n",
    "        dic_ele[i[0]]+=1\n",
    "    # 得到ba列表\n",
    "    if i[0]=='Ba':\n",
    "        ba_list.append(i)\n",
    "print(max_xyz)    \n",
    "print(dic_ele)"
   ]
  }
 ],
 "metadata": {
  "kernelspec": {
   "display_name": "Python 3 (ipykernel)",
   "language": "python",
   "name": "python3"
  },
  "language_info": {
   "codemirror_mode": {
    "name": "ipython",
    "version": 3
   },
   "file_extension": ".py",
   "mimetype": "text/x-python",
   "name": "python",
   "nbconvert_exporter": "python",
   "pygments_lexer": "ipython3",
   "version": "3.10.6"
  }
 },
 "nbformat": 4,
 "nbformat_minor": 5
}
