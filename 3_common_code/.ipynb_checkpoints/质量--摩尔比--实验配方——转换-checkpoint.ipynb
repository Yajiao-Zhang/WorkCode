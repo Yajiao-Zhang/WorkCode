{
 "cells": [
  {
   "cell_type": "markdown",
   "id": "db967887",
   "metadata": {},
   "source": [
    "# 表示质量比转摩尔比   1表示摩尔比转质量比"
   ]
  },
  {
   "cell_type": "code",
   "execution_count": 2,
   "id": "2ea1c256",
   "metadata": {},
   "outputs": [],
   "source": [
    "# 0表示质量 比转摩尔比   1表示摩尔 比转质量比\n",
    "tran_type = 0\n",
    "# 元素类型及占比\n",
    "\n",
    "proportion = {\n",
    "    'SiO2':49.31\n",
    ",   'Na2O':21.21\n",
    ",   'B2O3':  5.88\n",
    ",   'Al2O3':22.3\n",
    ",   'NiO':1.31\n",
    "}"
   ]
  },
  {
   "cell_type": "code",
   "execution_count": 19,
   "id": "8ef523d1",
   "metadata": {},
   "outputs": [],
   "source": [
    "# 自己创建一个常见元素类型的字典 以来查询质量\n",
    "elements = { 'Li':6.941, 'Be':9.012182, 'B':10.811, 'C':12.0107, 'N':14.0067, 'O':15.9994, 'F':18.9984032, 'Na':22.98976, 'Mg':24.3050,\n",
    "            'Al': 26.9815,  'Si':28.0855,'P':30.97376, 'S':32.065,'Cl':35.453,'K':39.098, 'Ca':40.078,'Sc':44.955912,'Ti':47.867, \n",
    "            'V':50.9415,'Cr':51.9961,'Mn':54.938045,'Fe':55.845,'Co':58.933195,'Ni':58.693,'Cu':63.546,'Zn':65.38,'Ga':69.723,\n",
    "            'Ge':72.64,'Nb':92.9063,'As':74.92160,'Se':78.96,'Br':79.904,'Kr':83.798,'Rb':85.4678,'Sr':87.62,'Y':88.90585,'Zr':91.224,\n",
    "            'Mo':95.94,'Tc':97.9072,'Ru':101.07,'Rh':102.90550,'Ag':107.8682,'Cd':112.411,'In':14.818,'Sn':118.710,'Sb':121.760,\n",
    "            'Te':127.60,'I':126.90447,'Cs':132.9054519,'Ba':137.327,'La':138.90547,'Ce':140.116,'Pr':140.90765,'Nd':144.242,'Bi':208.98040,\n",
    "           'H':1.00794,}\n"
   ]
  },
  {
   "cell_type": "code",
   "execution_count": 25,
   "id": "aaa30bc5",
   "metadata": {},
   "outputs": [],
   "source": [
    "# 来一个根据分子名称输出相对分子质量的程序\n",
    "def get_molecular_mass(molecular_name='no'):\n",
    "    if molecular_name=='no':\n",
    "        print('分子式有误！')\n",
    "    \n"
   ]
  },
  {
   "cell_type": "code",
   "execution_count": null,
   "id": "46f00115",
   "metadata": {},
   "outputs": [],
   "source": [
    "get_molecular_mass()"
   ]
  },
  {
   "cell_type": "code",
   "execution_count": 4,
   "id": "14e3c6cc",
   "metadata": {},
   "outputs": [],
   "source": [
    "# 化合物的分子摩尔质量\n",
    "compound ={'SiO2':elements['Si']+elements['O']*2\n",
    "          ,'Na2O':elements['Na']*2+elements['O']\n",
    "          ,'B2O3':elements['B']*2+elements['O']*3\n",
    "          ,'Al2O3':elements['Al']*2+elements['O']*3\n",
    "          ,'NiO':elements['Ni']+ elements['O']\n",
    "          }"
   ]
  },
  {
   "cell_type": "markdown",
   "id": "4ce25eb6",
   "metadata": {},
   "source": [
    "# 主程序"
   ]
  },
  {
   "cell_type": "code",
   "execution_count": 3,
   "id": "314b7182",
   "metadata": {},
   "outputs": [
    {
     "name": "stdout",
     "output_type": "stream",
     "text": [
      "得出摩尔的百分比：\n",
      "{'SiO2': 0.8206802775433849, 'Na2O': 0.34221312665661163, 'B2O3': 0.08445824631356992, 'Al2O3': 0.2187106467950554, 'NiO': 0.01753859830451291}\n",
      "SiO2  :  55.32\n",
      "Na2O  :  23.07\n",
      "B2O3  :  5.69\n",
      "Al2O3  :  14.74\n",
      "NiO  :  1.18\n"
     ]
    }
   ],
   "source": [
    "if tran_type==0:\n",
    "    print(\"得出摩尔的百分比：\")\n",
    "    mol_dic = {}\n",
    "    for i in proportion:\n",
    "        mol_dic[i]=proportion[i]/compound[i]\n",
    "    print(mol_dic)\n",
    "    sum_all = 0\n",
    "    for i in mol_dic:\n",
    "        sum_all+=mol_dic[i]\n",
    "    for i in mol_dic:\n",
    "        mol_dic[i]= round(mol_dic[i]/sum_all*100,2)\n",
    "        print(i,' : ',mol_dic[i])\n",
    "else:\n",
    "    print(\"得出质量的百分比：\")\n",
    "    mass_dic = {}\n",
    "    for i in proportion:\n",
    "        mass_dic[i]=proportion[i] * compound[i]\n",
    "    sum_all = 0\n",
    "    for i in mass_dic:\n",
    "        sum_all += mass_dic[i]\n",
    "    for i in mass_dic:\n",
    "        mass_dic[i]= round(mass_dic[i]/sum_all*100,2)\n",
    "        print(i,' : ',mass_dic[i])"
   ]
  },
  {
   "cell_type": "markdown",
   "id": "880744d8",
   "metadata": {},
   "source": [
    "mol\n",
    "'SiO2':55.32\n",
    ",   'Na2O':23.07\n",
    ",   'B2O3': 5.69\n",
    ",   'Al2O3':14.74\n",
    ",   'NiO':1.18\n",
    "\n",
    "得出质量的百分比：\n",
    "SiO2  :  49.31\n",
    "Na2O  :  21.21\n",
    "B2O3  :  5.88\n",
    "Al2O3  :  22.3\n",
    "NiO  :  1.31"
   ]
  }
 ],
 "metadata": {
  "kernelspec": {
   "display_name": "Python 3 (ipykernel)",
   "language": "python",
   "name": "python3"
  },
  "language_info": {
   "codemirror_mode": {
    "name": "ipython",
    "version": 3
   },
   "file_extension": ".py",
   "mimetype": "text/x-python",
   "name": "python",
   "nbconvert_exporter": "python",
   "pygments_lexer": "ipython3",
   "version": "3.10.6"
  }
 },
 "nbformat": 4,
 "nbformat_minor": 5
}
