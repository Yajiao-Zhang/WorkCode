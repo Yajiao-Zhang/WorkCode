{
 "cells": [
  {
   "cell_type": "code",
   "execution_count": 1,
   "id": "4f6687e3",
   "metadata": {},
   "outputs": [],
   "source": [
    "import numpy as np\n",
    "import matplotlib.pyplot as plt\n",
    "from scipy.interpolate import griddata\n",
    "import numpy as np"
   ]
  },
  {
   "cell_type": "markdown",
   "id": "428a9c84",
   "metadata": {},
   "source": [
    "# 读取文件"
   ]
  },
  {
   "cell_type": "code",
   "execution_count": 2,
   "id": "acec7600",
   "metadata": {},
   "outputs": [],
   "source": [
    "# 需要分析的第几帧\n",
    "frame_num = 0\n",
    "# 文件位置\n",
    "file_path = r'C:\\Users\\zhang\\Desktop\\output_out.xyz'\n",
    "creat_new_frame = 0\n",
    "# 需要分析的元素，多种元素的话放在同一个列表里\n",
    "ana_element = ['Si']\n",
    "# 是否添加颜色轴\n",
    "have_colorbar= 1"
   ]
  },
  {
   "cell_type": "code",
   "execution_count": 3,
   "id": "7beddb3f",
   "metadata": {},
   "outputs": [],
   "source": [
    "# 读取文件\n",
    "def get_data(path,frame_num):\n",
    "    with open(path) as f:\n",
    "        str_data = f.read()\n",
    "    data = str_data.split()\n",
    "    ###选帧#########\n",
    "    #此处写个程序选帧\n",
    "    atoms_num = int(data[0])\n",
    "    frame_len = atoms_num*4+2\n",
    "    data_len =len(data)\n",
    "    max_frame = data_len // frame_len\n",
    "    \n",
    "    temp = []\n",
    "    temp = data[frame_len*frame_num:frame_len*(frame_num+1)]\n",
    "    #暂时先自行处理了表头\n",
    "    temp = temp[2:]\n",
    "    frame_list = []\n",
    "    for i in range(atoms_num):\n",
    "        frame_list.append([temp[i*4+0],float(temp[i*4+1]),float(temp[i*4+2]),float(temp[i*4+3])])\n",
    "    \n",
    "    return frame_list"
   ]
  },
  {
   "cell_type": "code",
   "execution_count": 4,
   "id": "643650f3",
   "metadata": {},
   "outputs": [],
   "source": [
    "# 此处从函数中读取数据\n",
    "data = get_data(file_path,frame_num)"
   ]
  },
  {
   "cell_type": "code",
   "execution_count": 5,
   "id": "ef571cf6",
   "metadata": {},
   "outputs": [],
   "source": [
    "# 存储原子的列表 找到我们需要分析的元素 \n",
    "atom_list = []\n",
    "# 循环读取\n",
    "for i in data:\n",
    "    len_element = len(ana_element)\n",
    "    for ii in range(len_element):\n",
    "        if( i[0] == ana_element[ii]):\n",
    "            atom_list.append([i[1],i[2],i[3]])\n",
    "            break"
   ]
  },
  {
   "cell_type": "code",
   "execution_count": 6,
   "id": "185eba9c",
   "metadata": {},
   "outputs": [
    {
     "name": "stdout",
     "output_type": "stream",
     "text": [
      "102.057618 101.623618 9.92224\n"
     ]
    }
   ],
   "source": [
    "# 因为xyz数据没有边界值 我们就设最大的xyz为边界值，我做过对比，基本上没有太大的误差 \n",
    "a,b,c = 0,0,0\n",
    "for i in atom_list:\n",
    "    if(i[0]>a):\n",
    "        a=i[0]\n",
    "    if(i[1]>b):\n",
    "        b=i[1]\n",
    "    if(i[2]>c):\n",
    "        c=i[2]\n",
    "print(a,b,c)"
   ]
  },
  {
   "cell_type": "markdown",
   "id": "d5f6115d",
   "metadata": {},
   "source": [
    "# 画图程序"
   ]
  },
  {
   "cell_type": "code",
   "execution_count": 7,
   "id": "e9491389",
   "metadata": {},
   "outputs": [],
   "source": [
    "# 现在有了程序 然后分析把数据切割成xyz三个列表放入函数中"
   ]
  },
  {
   "cell_type": "code",
   "execution_count": 8,
   "id": "92d6fc8d",
   "metadata": {},
   "outputs": [],
   "source": [
    "# 首先得到最大的xyz值\n",
    "x_max = 0\n",
    "y_max = 0\n",
    "z_max = 0\n",
    "for i in data:\n",
    "    if(x_max<i[1]):\n",
    "        x_max=i[1]\n",
    "    if(y_max<i[2]):\n",
    "        y_max=i[2]\n",
    "    if(z_max<i[3]):\n",
    "        z_max=i[3]\n",
    "\n",
    "# 切多少份 就是每个区域的精度大小\n",
    "num_split = 20"
   ]
  },
  {
   "cell_type": "code",
   "execution_count": null,
   "id": "473f736c",
   "metadata": {},
   "outputs": [],
   "source": []
  },
  {
   "cell_type": "code",
   "execution_count": 9,
   "id": "5b51d572",
   "metadata": {},
   "outputs": [],
   "source": [
    "x_list = np.linspace(0,x_max,num_split)\n",
    "y_list = np.linspace(0,y_max,num_split)\n",
    "# z应该是二维的 表示每个位置的强度\n",
    "z_list = np.zeros((num_split,num_split))"
   ]
  },
  {
   "cell_type": "markdown",
   "id": "3cb31766",
   "metadata": {},
   "source": [
    "# 然后为z列表赋值"
   ]
  },
  {
   "cell_type": "code",
   "execution_count": 10,
   "id": "70df69bf",
   "metadata": {},
   "outputs": [],
   "source": [
    "# 写个函数 给出一个xyz，返回其在z中的xy位置\n",
    "def get_xy(x,y,res):\n",
    "    xn = x//res\n",
    "    yn = y//res\n",
    "    return (xn-1,yn-1)"
   ]
  },
  {
   "cell_type": "code",
   "execution_count": 11,
   "id": "2d26da64",
   "metadata": {},
   "outputs": [],
   "source": [
    "# 遍历f原子的id，为其所在的组别分组\n",
    "for i in f_list:\n",
    "    (m,n) = get_xy(i[0],i[1],x_max/num_split)\n",
    "    z_list[int(m),int(n)]+=1"
   ]
  },
  {
   "cell_type": "code",
   "execution_count": 12,
   "id": "03768b1b",
   "metadata": {},
   "outputs": [
    {
     "data": {
      "image/png": "[encoded data removed]",
      "text/plain": [
       "<Figure size 432x288 with 2 Axes>"
      ]
     },
     "metadata": {
      "needs_background": "light"
     },
     "output_type": "display_data"
    }
   ],
   "source": [
    "import matplotlib.pyplot as plt\n",
    "import matplotlib.colors as mcolors\n",
    "import numpy as np\n",
    "from matplotlib.ticker import MaxNLocator\n",
    "from matplotlib.ticker import FixedLocator\n",
    "\n",
    "from matplotlib.colors import Normalize\n",
    "\n",
    "data1 = z_list\n",
    "\n",
    "#\n",
    "# 设置字体\n",
    "font = {'family': 'Times New Roman',\n",
    "        'weight': 'bold',\n",
    "        'size': 12}\n",
    "\n",
    "# 设置图像的分辨率为300像素/英寸\n",
    "plt.rcParams['figure.dpi'] = 150\n",
    "\n",
    "\n",
    "# 定义颜色映射，红色表示较小值，蓝色表示较大值\n",
    "cmap = plt.cm.get_cmap(\"YlOrRd\")\n",
    "\n",
    "# 定义颜色边界\n",
    "bounds = np.linspace(0, 5, 6)\n",
    "norm = mcolors.BoundaryNorm(bounds, cmap.N)\n",
    "\n",
    "# 绘制热力图\n",
    "plt.imshow(data1, cmap=cmap, norm=norm,origin='lower',interpolation='bicubic')\n",
    "\n",
    "# 设置字体\n",
    "plt.rcParams['font.family'] = 'Times New Roman'\n",
    "plt.rcParams['font.weight'] = 'bold'\n",
    "# 设置字号\n",
    "plt.rcParams['font.size'] = 16\n",
    "\n",
    "# 设置X轴刻度的位置和标签\n",
    "x_tick_locs = [0,6.3,12.6,19]\n",
    "x_tick_labels = ['0', '33', '66','100']\n",
    "plt.gca().xaxis.set_major_locator(FixedLocator(x_tick_locs))\n",
    "plt.gca().set_xticklabels(x_tick_labels)\n",
    "plt.xlabel('X(Å)' )\n",
    "# 设置Y轴刻度的位置和标签\n",
    "y_tick_locs = [0,6.3,12.6,19]\n",
    "y_tick_labels = ['0', '33', '66','100']\n",
    "plt.gca().yaxis.set_major_locator(FixedLocator(y_tick_locs))\n",
    "plt.gca().set_yticklabels(y_tick_labels)\n",
    "plt.ylabel('Y(Å)' )\n",
    "\n",
    "# 添加颜色条\n",
    "if have_colorbar==1:\n",
    "    colorbar = plt.colorbar()\n",
    "    colorbar.set_label('Si Intensity')\n",
    "\n",
    "# 设置X轴和Y轴标签字体加粗\n",
    "plt.rcParams['font.weight'] = 'bold'\n",
    "plt.rcParams['axes.labelweight'] = 'bold'\n",
    "\n",
    "\n",
    "# 显示图形\n",
    "plt.show()\n"
   ]
  },
  {
   "cell_type": "code",
   "execution_count": null,
   "id": "4b0a4925",
   "metadata": {},
   "outputs": [],
   "source": []
  },
  {
   "cell_type": "code",
   "execution_count": null,
   "id": "23e48ad7",
   "metadata": {},
   "outputs": [],
   "source": []
  },
  {
   "cell_type": "code",
   "execution_count": null,
   "id": "ed1f28c7",
   "metadata": {},
   "outputs": [],
   "source": []
  },
  {
   "cell_type": "code",
   "execution_count": null,
   "id": "fd97e4f8",
   "metadata": {},
   "outputs": [],
   "source": []
  }
 ],
 "metadata": {
  "kernelspec": {
   "display_name": "Python 3 (ipykernel)",
   "language": "python",
   "name": "python3"
  },
  "language_info": {
   "codemirror_mode": {
    "name": "ipython",
    "version": 3
   },
   "file_extension": ".py",
   "mimetype": "text/x-python",
   "name": "python",
   "nbconvert_exporter": "python",
   "pygments_lexer": "ipython3",
   "version": "3.10.6"
  }
 },
 "nbformat": 4,
 "nbformat_minor": 5
}
