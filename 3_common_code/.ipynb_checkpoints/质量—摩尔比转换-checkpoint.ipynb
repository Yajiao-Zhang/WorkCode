{
 "cells": [
  {
   "cell_type": "markdown",
   "id": "db967887",
   "metadata": {},
   "source": [
    "# 0表示质量比转摩尔比   1表示摩尔比转质量比"
   ]
  },
  {
   "cell_type": "code",
   "execution_count": 1,
   "id": "2ea1c256",
   "metadata": {},
   "outputs": [],
   "source": [
    "# 0表示质量比转摩尔比   1表示摩尔比转质量比\n",
    "tran_type = 0\n",
    "# 元素类型及占比\n",
    "\n",
    "proportion = {\n",
    "    'SiO2':55.36568\n",
    ",   'B2O3':8.92638\n",
    ",   'Na2O':18.47618\n",
    ",   'Al2O3':15.96969\n",
    ",   'NiO':1.26206\n",
    ",   'CaO':6.628799\n",
    "\n",
    "}"
   ]
  },
  {
   "cell_type": "code",
   "execution_count": 4,
   "id": "8ef523d1",
   "metadata": {},
   "outputs": [],
   "source": [
    "# 自己创建一个常见元素类型的字典 以来查询质量\n",
    "elements = { 'Li':6.941, 'B':10.811, 'O':15.9994, 'F':18.9984032, 'Na':22.98976, 'Mg':24.3050, 'Al': 26.9815, 'Si':28.0855,\n",
    "           'P':30.97376, 'K':39.098, 'Ca':40.078, 'Ni':58.693,  'Nb':92.9063, 'Br':79.904,}\n",
    "# 化合物的分子摩尔质量\n",
    "compound ={'SiO2':elements['Si']+elements['O']*2\n",
    "          ,'Na2O':elements['Na']*2+elements['O']\n",
    "          ,'B2O3':elements['B']*2+elements['O']*3\n",
    "          ,'Al2O3':elements['Al']*2+elements['O']*3\n",
    "          ,'NiO':elements['Ni']+ elements['O']\n",
    "           ,'Li2O':elements['Li']*2+elements['O']\n",
    "           ,'CaO':elements['Ca']+elements['O']\n",
    "          }"
   ]
  },
  {
   "cell_type": "markdown",
   "id": "4ce25eb6",
   "metadata": {},
   "source": [
    "# 主程序"
   ]
  },
  {
   "cell_type": "code",
   "execution_count": 6,
   "id": "314b7182",
   "metadata": {},
   "outputs": [
    {
     "name": "stdout",
     "output_type": "stream",
     "text": [
      "得出摩尔的百分比：\n",
      "{'SiO2': 0.9214666726582484, 'B2O3': 0.12821537427355853, 'Na2O': 0.2981042586737555, 'Al2O3': 0.15662516722047212, 'NiO': 0.016896765936025623, 'CaO': 0.11820803032950884}\n",
      "SiO2  :  56.2\n",
      "B2O3  :  7.82\n",
      "Na2O  :  18.18\n",
      "Al2O3  :  9.55\n",
      "NiO  :  1.03\n",
      "CaO  :  7.21\n",
      "原来的质量比：\n",
      "{'SiO2': 55.36568, 'B2O3': 8.92638, 'Na2O': 18.47618, 'Al2O3': 15.96969, 'NiO': 1.26206, 'CaO': 6.628799}\n"
     ]
    }
   ],
   "source": [
    "if tran_type==0:\n",
    "    print(\"得出摩尔的百分比：\")\n",
    "    mol_dic = {}\n",
    "    for i in proportion:\n",
    "        mol_dic[i]=proportion[i]/compound[i]\n",
    "    print(mol_dic)\n",
    "    sum_all = 0\n",
    "    for i in mol_dic:\n",
    "        sum_all+=mol_dic[i]\n",
    "    for i in mol_dic:\n",
    "        mol_dic[i]= round(mol_dic[i]/sum_all*100,2)\n",
    "        print(i,' : ',mol_dic[i])\n",
    "    print('原来的质量比：')\n",
    "    print(proportion)\n",
    "else:\n",
    "    print(\"得出质量的百分比：\")\n",
    "    mass_dic = {}\n",
    "    for i in proportion:\n",
    "        mass_dic[i]=proportion[i] * compound[i]\n",
    "    sum_all = 0\n",
    "    for i in mass_dic:\n",
    "        sum_all += mass_dic[i]\n",
    "    for i in mass_dic:\n",
    "        mass_dic[i]= round(mass_dic[i]/sum_all*100,2)\n",
    "        print(i,' : ',mass_dic[i])"
   ]
  },
  {
   "cell_type": "code",
   "execution_count": null,
   "id": "6fd062bc",
   "metadata": {},
   "outputs": [],
   "source": []
  }
 ],
 "metadata": {
  "kernelspec": {
   "display_name": "Python 3 (ipykernel)",
   "language": "python",
   "name": "python3"
  },
  "language_info": {
   "codemirror_mode": {
    "name": "ipython",
    "version": 3
   },
   "file_extension": ".py",
   "mimetype": "text/x-python",
   "name": "python",
   "nbconvert_exporter": "python",
   "pygments_lexer": "ipython3",
   "version": "3.10.6"
  }
 },
 "nbformat": 4,
 "nbformat_minor": 5
}
