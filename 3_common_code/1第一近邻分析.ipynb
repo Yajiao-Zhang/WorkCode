{
 "cells": [
  {
   "cell_type": "code",
   "execution_count": 1,
   "id": "81da7ff6",
   "metadata": {},
   "outputs": [],
   "source": [
    "import numpy as np\n",
    "import matplotlib.pyplot as plt"
   ]
  },
  {
   "cell_type": "code",
   "execution_count": 3,
   "id": "11d947e7",
   "metadata": {},
   "outputs": [],
   "source": [
    "# 所有元素的名称 字典是用来计数这个元素在A附近出现的次数 如果这个初始值为-1则表示不计算A与此元素的近邻\n",
    "# 如果这个数值\n",
    "all_element_dic = {'O':0,'Si':-1,'Na':-1,'Al':-1,'Zn':-1,'F':-1,'Br':-1,'K':-1,'P':-1}\n",
    "\n",
    "#需要分析的元素以及第一近邻的距离\n",
    "A_dis = 1.8\n",
    "name_A = 'Si'\n",
    "\n",
    "# 去除边缘原子\n",
    "discard_margin_atom = 1\n",
    "# \n",
    "frame_num = 0\n",
    "file_path = r'C:\\Users\\zhang\\Desktop\\md\\las_growth\\19k_md_1108\\xyz\\0glass_300k_out.xyz'\n",
    "# 是否创建新帧 \n",
    "creat_new_frame = 0"
   ]
  },
  {
   "cell_type": "code",
   "execution_count": 5,
   "id": "626dc873",
   "metadata": {},
   "outputs": [],
   "source": [
    "#读取文本函数，返回直接d选帧\n",
    "def get_data(path,frame_num):\n",
    "    with open(path) as f:\n",
    "        str_data = f.read()\n",
    "    data = str_data.split()\n",
    "    ###选帧#########\n",
    "    #此处写个程序选帧\n",
    "    atoms_num = int(data[0])\n",
    "    frame_len = atoms_num*4+2\n",
    "    data_len =len(data)\n",
    "    max_frame = data_len // frame_len\n",
    "    \n",
    "    temp = []\n",
    "    temp = data[frame_len*frame_num:frame_len*(frame_num+1)]\n",
    "\n",
    "    #暂时先自行处理了表头\n",
    "    temp = temp[2:]\n",
    "    frame_list = []\n",
    "    for i in range(atoms_num):\n",
    "        frame_list.append([temp[i*4+0],float(temp[i*4+1]),float(temp[i*4+2]),float(temp[i*4+3])])\n",
    "    \n",
    "    return frame_list"
   ]
  },
  {
   "cell_type": "markdown",
   "id": "60063a4b",
   "metadata": {},
   "source": [
    "# 主函数"
   ]
  },
  {
   "cell_type": "code",
   "execution_count": 8,
   "id": "5200c324",
   "metadata": {},
   "outputs": [
    {
     "name": "stderr",
     "output_type": "stream",
     "text": [
      "<>:3: SyntaxWarning: invalid escape sequence '\\z'\n",
      "<>:3: SyntaxWarning: invalid escape sequence '\\z'\n",
      "C:\\Users\\81004\\AppData\\Local\\Temp\\ipykernel_21732\\4155369179.py:3: SyntaxWarning: invalid escape sequence '\\z'\n",
      "  new_name = \"C:\\\\Users\\zhang\\\\Desktop\\\\\"\n"
     ]
    }
   ],
   "source": [
    "new_name = r'C:\\Users\\zhang\\Desktop\\frame_ana_cry.xyz'\n",
    "if(creat_new_frame==1):\n",
    "    new_name = \"C:\\\\Users\\zhang\\\\Desktop\\\\\"\n",
    "    new_name += str(frame_num) + 'frame.xyz'\n"
   ]
  },
  {
   "cell_type": "code",
   "execution_count": 5,
   "id": "b3c72a42",
   "metadata": {},
   "outputs": [
    {
     "ename": "NameError",
     "evalue": "name 'data' is not defined",
     "output_type": "error",
     "traceback": [
      "\u001b[1;31m---------------------------------------------------------------------------\u001b[0m",
      "\u001b[1;31mNameError\u001b[0m                                 Traceback (most recent call last)",
      "Input \u001b[1;32mIn [5]\u001b[0m, in \u001b[0;36m<cell line: 3>\u001b[1;34m()\u001b[0m\n\u001b[0;32m      1\u001b[0m \u001b[38;5;66;03m# 找到最大的和盒子边界\u001b[39;00m\n\u001b[0;32m      2\u001b[0m box_length \u001b[38;5;241m=\u001b[39m \u001b[38;5;241m0\u001b[39m\n\u001b[1;32m----> 3\u001b[0m \u001b[38;5;28;01mfor\u001b[39;00m i \u001b[38;5;129;01min\u001b[39;00m \u001b[43mdata\u001b[49m: \n\u001b[0;32m      4\u001b[0m     \u001b[38;5;28;01mif\u001b[39;00m i[\u001b[38;5;241m2\u001b[39m]\u001b[38;5;241m>\u001b[39mbox_length:\n\u001b[0;32m      5\u001b[0m         box_length\u001b[38;5;241m=\u001b[39m\u001b[38;5;28mfloat\u001b[39m(i[\u001b[38;5;241m2\u001b[39m])\n",
      "\u001b[1;31mNameError\u001b[0m: name 'data' is not defined"
     ]
    }
   ],
   "source": [
    "# 找到最大的和盒子边界\n",
    "box_length = 0\n",
    "for i in data: \n",
    "    if i[2]>box_length:\n",
    "        box_length=float(i[2])\n",
    "print(box_length)"
   ]
  },
  {
   "cell_type": "code",
   "execution_count": 6,
   "id": "80c6a79a",
   "metadata": {},
   "outputs": [],
   "source": [
    "data = get_data(file_path,frame_num)"
   ]
  },
  {
   "cell_type": "code",
   "execution_count": 7,
   "id": "8d750bf3",
   "metadata": {},
   "outputs": [
    {
     "ename": "SyntaxError",
     "evalue": "invalid syntax (2562851433.py, line 5)",
     "output_type": "error",
     "traceback": [
      "\u001b[1;36m  Input \u001b[1;32mIn [7]\u001b[1;36m\u001b[0m\n\u001b[1;33m    box_size =\u001b[0m\n\u001b[1;37m               ^\u001b[0m\n\u001b[1;31mSyntaxError\u001b[0m\u001b[1;31m:\u001b[0m invalid syntax\n"
     ]
    }
   ],
   "source": [
    "#定义距离函数\n",
    "def cal_distance(x1,y1,z1,x2,y2,z2):\n",
    "    dis = ((x1-x2)**2+(y1-y2)**2+(z1-z2)**2)**(1/2)\n",
    "    return dis\n",
    "box_size = \n",
    "def cal_ppp_distance(pos1, pos2, box_size):\n",
    "    # 计算两个位置之间的最小距离，考虑周期性边界条件\n",
    "    pos1,pos2,box_size = np.array(pos1),np.array(pos2),np.array(box_size)\n",
    "    # 计算位置差矢量\n",
    "    delta = pos2 - pos1\n",
    "    # 应用最小图像约束，确保距离在周期内最短\n",
    "    delta = delta - np.round(delta / box_size) * box_size\n",
    "    # 计算距离\n",
    "    distance = np.linalg.norm(delta)\n",
    "    return distance"
   ]
  },
  {
   "cell_type": "code",
   "execution_count": 15,
   "id": "d9cc67a0",
   "metadata": {},
   "outputs": [],
   "source": [
    "A_list = []\n",
    "# 去除边缘原子再计算看看结果\n",
    "for i in data:\n",
    "    if i[0]== name_A:\n",
    "        if A_dis <i[1]<box_length-A_dis and A_dis <i[2]<box_length-A_dis and A_dis <i[3]<box_length-A_dis :\n",
    "            A_list.append(i)\n",
    "num_A = len(A_list)"
   ]
  },
  {
   "cell_type": "code",
   "execution_count": 16,
   "id": "c71b9d28",
   "metadata": {},
   "outputs": [
    {
     "ename": "NameError",
     "evalue": "name 'cal_distance' is not defined",
     "output_type": "error",
     "traceback": [
      "\u001b[1;31m---------------------------------------------------------------------------\u001b[0m",
      "\u001b[1;31mNameError\u001b[0m                                 Traceback (most recent call last)",
      "Input \u001b[1;32mIn [16]\u001b[0m, in \u001b[0;36m<cell line: 9>\u001b[1;34m()\u001b[0m\n\u001b[0;32m     15\u001b[0m     \u001b[38;5;28;01mcontinue\u001b[39;00m\n\u001b[0;32m     16\u001b[0m \u001b[38;5;66;03m# 不是A且元素在近邻内\u001b[39;00m\n\u001b[1;32m---> 17\u001b[0m \u001b[38;5;28;01mif\u001b[39;00m \u001b[43mcal_distance\u001b[49m(i[\u001b[38;5;241m1\u001b[39m],i[\u001b[38;5;241m2\u001b[39m],i[\u001b[38;5;241m3\u001b[39m],j[\u001b[38;5;241m1\u001b[39m],j[\u001b[38;5;241m2\u001b[39m],j[\u001b[38;5;241m3\u001b[39m])\u001b[38;5;241m<\u001b[39mA_dis:\n\u001b[0;32m     18\u001b[0m     \u001b[38;5;66;03m# 首先记录多了一个近邻\u001b[39;00m\n\u001b[0;32m     19\u001b[0m     A_cn\u001b[38;5;241m+\u001b[39m\u001b[38;5;241m=\u001b[39m\u001b[38;5;241m1\u001b[39m\n\u001b[0;32m     20\u001b[0m     \u001b[38;5;66;03m# 再记录这个近邻的种类 先取出原有值，再加一\u001b[39;00m\n",
      "\u001b[1;31mNameError\u001b[0m: name 'cal_distance' is not defined"
     ]
    }
   ],
   "source": [
    "# 计量统共的原子次数 后边好计算\n",
    "count_A_neibor = 0\n",
    "# 记录每个A的Cn的分布\n",
    "A_cn_list = []\n",
    "for i in range(50):\n",
    "    A_cn_list.append(0)\n",
    "\n",
    "# 开始计算\n",
    "for i in A_list:\n",
    "    # 记录这个元素有几个配位\n",
    "    A_cn = 0\n",
    "    for j in data:\n",
    "        # 如果就是A本身或者与dic中表示了不计数，那么跳过\n",
    "        if j[0]== name_A or all_element_dic[j[0]]== -1:\n",
    "            continue\n",
    "        # 不是A且元素在近邻内\n",
    "        if cal_distance(i[1],i[2],i[3],j[1],j[2],j[3])<A_dis:\n",
    "            # 首先记录多了一个近邻\n",
    "            A_cn+=1\n",
    "            # 再记录这个近邻的种类 先取出原有值，再加一\n",
    "            temp = all_element_dic[j[0]]\n",
    "            all_element_dic[j[0]] = temp+1\n",
    "    # 本循环结束 记录下这个A元素的Cn值        \n",
    "    A_cn_list[A_cn]+=1\n",
    "# 再输出字典中的值\n",
    "print('文件名：',file_path.split('\\\\')[-1])\n",
    "print('我们关注的是 '+ name_A +' 的配位数，采取的截断距离为 '+str(A_dis)+'，他有'+ str(num_A) +' 个原子')\n",
    "print(name_A +'的Cn分布如下：')\n",
    "for i in range(50):\n",
    "    if A_cn_list[i] != 0 :\n",
    "        print('C' +str(i)+': '+str(A_cn_list[i]))\n",
    "        \n",
    "# 再来分析A的平均配位数\n",
    "sum_cn = 0\n",
    "for i in all_element_dic:\n",
    "    if all_element_dic[i]== -1:\n",
    "        continue\n",
    "    sum_cn+=all_element_dic[i]\n",
    "print(name_A+'的平均Cn是： '+str(round(sum_cn/num_A,2)))        \n",
    "\n",
    "# 分析各个元素的配位占比\n",
    "print('元素列表中的总体配位情况如下：')\n",
    "for i in all_element_dic:\n",
    "    if all_element_dic[i]==-1:\n",
    "        print(i+ \" 元素不计入配位计算！\")\n",
    "    else:\n",
    "        print(i + ' : '+'配位数量：'+str(all_element_dic[i])+' 占比： '+ str(round(all_element_dic[i]/sum_cn*100,1))+'%')"
   ]
  },
  {
   "cell_type": "code",
   "execution_count": null,
   "id": "ac1ae08d",
   "metadata": {},
   "outputs": [],
   "source": []
  }
 ],
 "metadata": {
  "kernelspec": {
   "display_name": "Python 3 (ipykernel)",
   "language": "python",
   "name": "python3"
  },
  "language_info": {
   "codemirror_mode": {
    "name": "ipython",
    "version": 3
   },
   "file_extension": ".py",
   "mimetype": "text/x-python",
   "name": "python",
   "nbconvert_exporter": "python",
   "pygments_lexer": "ipython3",
   "version": "3.12.4"
  }
 },
 "nbformat": 4,
 "nbformat_minor": 5
}
