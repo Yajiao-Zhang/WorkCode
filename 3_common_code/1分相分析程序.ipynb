{
 "cells": [
  {
   "cell_type": "code",
   "execution_count": 1,
   "id": "81da7ff6",
   "metadata": {},
   "outputs": [],
   "source": [
    "import numpy as np\n",
    "import matplotlib.pyplot as plt\n",
    "import os\n",
    "import copy"
   ]
  },
  {
   "cell_type": "code",
   "execution_count": 2,
   "id": "11d947e7",
   "metadata": {},
   "outputs": [],
   "source": [
    "frame_num = 50\n",
    "file_path = r'C:\\Users\\zhang\\Desktop\\share\\18knpt_1000p_out.xyz'\n",
    "creat_new_frame = 1"
   ]
  },
  {
   "cell_type": "code",
   "execution_count": 3,
   "id": "626dc873",
   "metadata": {},
   "outputs": [],
   "source": [
    "#读取文本函数，返回直接d选帧\n",
    "def get_data(path,frame_num):\n",
    "    with open(path) as f:\n",
    "        str_data = f.read()\n",
    "    data = str_data.split()\n",
    "    ###选帧#########\n",
    "    #此处写个程序选帧\n",
    "    atoms_num = int(data[0])\n",
    "    frame_len = atoms_num*4+2\n",
    "    data_len =len(data)\n",
    "    max_frame = data_len // frame_len\n",
    "    \n",
    "    temp = []\n",
    "    temp = data[frame_len*frame_num:frame_len*(frame_num+1)]\n",
    "\n",
    "    #暂时先自行处理了表头\n",
    "    temp = temp[2:]\n",
    "    frame_list = []\n",
    "    for i in range(atoms_num):\n",
    "        frame_list.append([temp[i*4+0],float(temp[i*4+1]),float(temp[i*4+2]),float(temp[i*4+3])])\n",
    "    \n",
    "    return frame_list"
   ]
  },
  {
   "cell_type": "markdown",
   "id": "60063a4b",
   "metadata": {},
   "source": [
    "# 主函数"
   ]
  },
  {
   "cell_type": "code",
   "execution_count": 4,
   "id": "5200c324",
   "metadata": {},
   "outputs": [],
   "source": [
    "new_name = r'C:\\Users\\zhang\\Desktop\\frame_ana_cry.xyz'\n",
    "if(creat_new_frame==1):\n",
    "    new_name = \"C:\\\\Users\\zhang\\\\Desktop\\\\\"\n",
    "    new_name += str(frame_num) + 'frame.xyz'\n",
    "\n",
    "data = get_data(file_path,frame_num)"
   ]
  },
  {
   "cell_type": "code",
   "execution_count": 5,
   "id": "77677d26",
   "metadata": {},
   "outputs": [
    {
     "data": {
      "text/plain": [
       "['O', 24.979952, 5.559612, 24.81585]"
      ]
     },
     "execution_count": 5,
     "metadata": {},
     "output_type": "execute_result"
    }
   ],
   "source": [
    "data[0]"
   ]
  },
  {
   "cell_type": "code",
   "execution_count": 6,
   "id": "3e099968",
   "metadata": {},
   "outputs": [
    {
     "data": {
      "text/plain": [
       "['O', 37.970052, 36.308752, 13.46295]"
      ]
     },
     "execution_count": 6,
     "metadata": {},
     "output_type": "execute_result"
    }
   ],
   "source": [
    "data[1]"
   ]
  },
  {
   "cell_type": "code",
   "execution_count": 7,
   "id": "ad8dbdc9",
   "metadata": {},
   "outputs": [
    {
     "name": "stdout",
     "output_type": "stream",
     "text": [
      "57.32145\n",
      "{'O': 6333, 'Si': 1666, 'Al': 1999, 'F': 1333, 'Ba': 666}\n"
     ]
    }
   ],
   "source": [
    "# 先设置最大值xyz的最大值 由于其为npt，所以其xyz边界是变化的，那么最大的就动态获取\n",
    "max_xyz = 0\n",
    "dic_ele = {}\n",
    "ba_list = []\n",
    "all_atoms = 0\n",
    "for i in data:\n",
    "    all_atoms+=1\n",
    "    if i[1]>max_xyz:\n",
    "        max_xyz = i[1]\n",
    "    if i[2]>max_xyz:\n",
    "        max_xyz = i[2]\n",
    "    if i[3]>max_xyz:\n",
    "        max_xyz = i[3]\n",
    "        \n",
    "    # 统计元素种类及个数\n",
    "    if i[0] not in dic_ele:\n",
    "        dic_ele[i[0]] = 0\n",
    "    else:\n",
    "        dic_ele[i[0]]+=1\n",
    "    # 得到ba列表\n",
    "    if i[0]=='Ba':\n",
    "        ba_list.append(i.copy())\n",
    "print(max_xyz)    \n",
    "print(dic_ele)"
   ]
  },
  {
   "cell_type": "code",
   "execution_count": 8,
   "id": "dfc2f25b",
   "metadata": {},
   "outputs": [
    {
     "name": "stdout",
     "output_type": "stream",
     "text": [
      "667 1667 2000 1334 6334\n"
     ]
    }
   ],
   "source": [
    "ba_num = 0\n",
    "si_num = 0\n",
    "al_num = 0\n",
    "f_num = 0\n",
    "o_num = 0\n",
    "for i in data:\n",
    "    if i[0]=='Ba':\n",
    "        ba_num+=1\n",
    "    elif i[0]=='Si':\n",
    "            si_num+=1   \n",
    "    elif i[0]=='Al':\n",
    "        al_num+=1\n",
    "    elif i[0]=='F':\n",
    "        f_num+=1\n",
    "    elif i[0]=='O':\n",
    "        o_num+=1\n",
    "    else:\n",
    "        print(i)\n",
    "print(ba_num,si_num,al_num,f_num,o_num)"
   ]
  },
  {
   "cell_type": "code",
   "execution_count": 9,
   "id": "263153e2",
   "metadata": {},
   "outputs": [
    {
     "data": {
      "text/plain": [
       "12002"
      ]
     },
     "execution_count": 9,
     "metadata": {},
     "output_type": "execute_result"
    }
   ],
   "source": [
    "len(data)"
   ]
  },
  {
   "cell_type": "code",
   "execution_count": 10,
   "id": "edaac24e",
   "metadata": {},
   "outputs": [],
   "source": [
    "# 定义距离函数\n",
    "def cal_distance(x1,y1,z1,x2,y2,z2):\n",
    "    dis = ((x1-x2)**2+(y1-y2)**2+(z1-z2)**2)**(1/2)\n",
    "    if dis<1:\n",
    "        return 10\n",
    "    return dis"
   ]
  },
  {
   "cell_type": "raw",
   "id": "03f7cf34",
   "metadata": {},
   "source": [
    "什么时候需要转换坐标呢，就是当对立面的两个原子在计算的时候\n",
    "1.两个原子"
   ]
  },
  {
   "cell_type": "code",
   "execution_count": 11,
   "id": "d0759a08",
   "metadata": {},
   "outputs": [],
   "source": [
    "# 定义坐标转换函数\n",
    "def tran_coordinate(x1,y1,z1,x2,y2,z2):\n",
    "    pass"
   ]
  },
  {
   "cell_type": "code",
   "execution_count": null,
   "id": "a14312a8",
   "metadata": {},
   "outputs": [],
   "source": []
  },
  {
   "cell_type": "markdown",
   "id": "f87be37e",
   "metadata": {},
   "source": [
    "1.如果一个Ba原子的第一近邻大多数都为F\n",
    "2.Ba原子的中程形成体大多数都是Ba 而Al和Si很少"
   ]
  },
  {
   "cell_type": "code",
   "execution_count": 12,
   "id": "ddabfc7e",
   "metadata": {},
   "outputs": [],
   "source": [
    "# 定义分析函数\n",
    "def ana_separation(n1,x1,y1,z1,n2,x2,y2,z2):\n",
    "    pass"
   ]
  },
  {
   "cell_type": "code",
   "execution_count": 13,
   "id": "eb29cbac",
   "metadata": {},
   "outputs": [],
   "source": [
    "for ba_i in ba_list:\n",
    "    count_ba_ba = 0\n",
    "    count_al_si = 0\n",
    "    count_o = 0\n",
    "    count_f = 0\n",
    "    \n",
    "    for j in data:\n",
    "        # 如果是同一原子则跳过 这个在计算距离的时候判断就行了  不然计算太多遍了\n",
    "        # if (i[1]-j[1]<1e-4 and i[2]-j[2]<1e-4 and i[3]-j[3]\n",
    "        if j[0]=='Ba' or j[0]=='Cs':\n",
    "            if cal_distance(ba_i[1],ba_i[2],ba_i[3],j[1],j[2],j[3])< 6.0:\n",
    "                count_ba_ba+=1\n",
    "        if j[0]=='Al' or j[0]=='Si':\n",
    "            if cal_distance(ba_i[1],ba_i[2],ba_i[3],j[1],j[2],j[3])< 6.0:\n",
    "                count_al_si+=1\n",
    "        if j[0]=='O' :\n",
    "            if cal_distance(ba_i[1],ba_i[2],ba_i[3],j[1],j[2],j[3])< 3.5:\n",
    "                count_o+=1\n",
    "        if j[0]=='F' :\n",
    "            if cal_distance(ba_i[1],ba_i[2],ba_i[3],j[1],j[2],j[3])< 3.5:\n",
    "                count_f+=1\n",
    "        \n",
    "        #综合判断\n",
    "    if(count_al_si<=count_ba_ba and count_o <= count_f):\n",
    "        ba_i[0]='Cs'"
   ]
  },
  {
   "cell_type": "code",
   "execution_count": null,
   "id": "31607f32",
   "metadata": {},
   "outputs": [],
   "source": []
  },
  {
   "cell_type": "code",
   "execution_count": 14,
   "id": "7c53c59f",
   "metadata": {},
   "outputs": [],
   "source": [
    "num = 0\n",
    "for i in ba_list:\n",
    "    if i[0]=='Cs':\n",
    "        num+=1"
   ]
  },
  {
   "cell_type": "code",
   "execution_count": 15,
   "id": "226392dd",
   "metadata": {},
   "outputs": [
    {
     "name": "stdout",
     "output_type": "stream",
     "text": [
      "{'O': 6333, 'Si': 1666, 'Al': 1999, 'F': 1333, 'Ba': 666}\n",
      "separation Ba: 108\n"
     ]
    }
   ],
   "source": [
    "print(dic_ele)\n",
    "print(\"separation Ba:\",num)"
   ]
  },
  {
   "cell_type": "markdown",
   "id": "4a8acae8",
   "metadata": {},
   "source": [
    "# 保存文件"
   ]
  },
  {
   "cell_type": "markdown",
   "id": "b0f6f5bc",
   "metadata": {},
   "source": [
    "#看文件是否存在 存在也删了 都要重建\n",
    "if not os.path.exists(new_name):\n",
    "    os.system(r'touch {}'.format(new_name))\n",
    "else:\n",
    "    os.remove(new_name)\n",
    "    os.system(r'touch {}'.format(new_name))"
   ]
  },
  {
   "cell_type": "code",
   "execution_count": 16,
   "id": "c817d617",
   "metadata": {},
   "outputs": [],
   "source": [
    "#看文件是否存在 存在也删了 都要重建\n",
    "if not os.path.exists(new_name):\n",
    "    os.system(r'touch {}'.format(new_name))\n",
    "else:\n",
    "    os.remove(new_name)\n",
    "    os.system(r'touch {}'.format(new_name))"
   ]
  },
  {
   "cell_type": "code",
   "execution_count": 17,
   "id": "990bdc34",
   "metadata": {},
   "outputs": [
    {
     "name": "stdout",
     "output_type": "stream",
     "text": [
      "['Cs', 26.903252, 1.98128, 40.44975]\n",
      "['Cs', 7.346942, 12.036052, 17.25135]\n",
      "['Cs', 5.884362, 18.878552, 19.23575]\n",
      "['Cs', 13.237352, 23.395652, 5.75637]\n",
      "['Cs', 2.225521, 33.179852, 4.38447]\n",
      "['Cs', 12.474052, 26.126552, 2.18953]\n",
      "['Cs', 16.953152, 30.081352, 3.7602]\n",
      "['Cs', 3.479232, 1.105017, 7.55694]\n",
      "['Cs', 0.939512, 54.172752, 30.65365]\n",
      "['Cs', 54.949052, 51.806752, 29.53465]\n",
      "['Cs', 18.156652, 26.573952, 53.80425]\n",
      "['Cs', 8.001832, 2.930012, 14.07755]\n",
      "['Cs', 2.289784, 10.596902, 16.62175]\n",
      "['Cs', 15.567152, 28.968452, 0.28568]\n",
      "['Cs', 8.648382, 6.700782, 9.52353]\n",
      "['Cs', 9.993082, 25.768552, 6.56165]\n",
      "['Cs', 54.395152, 48.653852, 35.65795]\n",
      "['Cs', 8.386562, 15.407652, 21.82435]\n",
      "['Cs', 4.093952, 29.328552, 56.36975]\n",
      "['Cs', 6.823572, 30.905052, 5.83151]\n",
      "['Cs', 8.855582, 16.378052, 17.66165]\n",
      "['Cs', 18.369352, 2.26741, 43.11915]\n",
      "['Cs', 4.135092, 2.815662, 14.28075]\n",
      "['Cs', 5.512212, 26.835452, 7.3577]\n",
      "['Cs', 10.827682, 11.759852, 12.95485]\n",
      "['Cs', 16.026352, 4.517192, 41.37485]\n",
      "['Cs', 29.388952, 9.219932, 43.93365]\n",
      "['Cs', 5.822152, 12.916352, 12.16135]\n",
      "['Cs', 8.602082, 29.598752, 51.66675]\n",
      "['Cs', 15.961252, 1.217019, 44.81185]\n",
      "['Cs', 2.180184, 12.575452, 23.17885]\n",
      "['Cs', 56.367952, 30.976052, 1.27772]\n",
      "['Cs', 12.290752, 10.258492, 9.68128]\n",
      "['Cs', 5.198172, 2.060381, 0.19441]\n",
      "['Cs', 5.690512, 38.010352, 53.56265]\n",
      "['Cs', 15.305952, 39.315152, 1.58553]\n",
      "['Cs', 13.582752, 5.673732, 9.33112]\n",
      "['Cs', 49.297652, 47.696952, 37.25945]\n",
      "['Cs', 25.724052, 1.590408, 44.15065]\n",
      "['Cs', 11.273612, 31.738452, 55.36165]\n",
      "['Cs', 7.153922, 35.587652, 2.8599]\n",
      "['Cs', 1.813766, 13.531152, 18.79295]\n",
      "['Cs', 46.926152, 51.486952, 35.75465]\n",
      "['Cs', 32.049352, 0.057262, 1.9694]\n",
      "['Cs', 1.783038, 12.765952, 12.68985]\n",
      "['Cs', 8.003032, 30.982952, 1.24334]\n",
      "['Cs', 9.881232, 12.742152, 8.69172]\n",
      "['Cs', 9.310042, 34.171752, 7.7656]\n",
      "['Cs', 13.808752, 35.007952, 52.81165]\n",
      "['Cs', 21.582052, 27.671252, 50.48585]\n",
      "['Cs', 12.919152, 28.650252, 5.6596]\n",
      "['Cs', 0.157662, 34.773352, 54.28205]\n",
      "['Cs', 12.077852, 27.553852, 54.16285]\n",
      "['Cs', 22.562152, 23.742152, 52.64825]\n",
      "['Cs', 7.209122, 8.857552, 13.36845]\n",
      "['Cs', 0.562037, 9.112772, 9.77465]\n",
      "['Cs', 16.955552, 18.996552, 0.38717]\n",
      "['Cs', 54.873452, 52.713252, 33.62105]\n",
      "['Cs', 11.698352, 35.008052, 0.91623]\n",
      "['Cs', 51.433852, 48.861152, 32.93695]\n",
      "['Cs', 13.024552, 36.376552, 4.36105]\n",
      "['Cs', 49.008852, 56.653652, 36.80645]\n",
      "['Cs', 17.256052, 30.805352, 53.99145]\n",
      "['Cs', 7.250712, 4.819692, 5.84759]\n",
      "['Cs', 12.704052, 32.212052, 5.41819]\n",
      "['Cs', 49.965852, 7.035002, 51.21945]\n",
      "['Cs', 51.170852, 54.114052, 33.67925]\n",
      "['Cs', 17.580252, 20.968652, 4.63933]\n",
      "['Cs', 7.719712, 26.581052, 2.65099]\n",
      "['Cs', 3.276562, 7.583262, 13.53545]\n",
      "['Cs', 15.736452, 34.359252, 1.43012]\n",
      "['Cs', 11.466952, 5.802292, 6.3521]\n",
      "['Cs', 3.162142, 52.179352, 33.90435]\n",
      "['Cs', 49.575752, 52.168252, 38.93565]\n",
      "['Cs', 54.382052, 33.637052, 3.60117]\n",
      "['Cs', 1.654867, 49.467052, 28.63455]\n",
      "['Cs', 17.912852, 4.034192, 47.01665]\n",
      "['Cs', 5.177102, 14.854352, 19.50865]\n",
      "['Cs', 0.321332, 56.267152, 34.60625]\n",
      "['Cs', 0.547945, 30.589952, 53.76335]\n",
      "['Cs', 5.359172, 34.558952, 6.5451]\n",
      "['Cs', 9.538262, 29.103352, 4.95107]\n",
      "['Cs', 15.967952, 24.748352, 2.62934]\n",
      "['Cs', 23.062052, 4.130402, 41.85885]\n",
      "['Cs', 54.326252, 56.200452, 38.88665]\n",
      "['Cs', 55.264352, 30.129352, 5.68467]\n",
      "['Cs', 19.045052, 26.151452, 2.08817]\n",
      "['Cs', 55.326552, 56.688152, 30.64755]\n",
      "['Cs', 13.158652, 21.236652, 1.80881]\n",
      "['Cs', 4.813062, 33.298252, 54.32745]\n",
      "['Cs', 12.185452, 30.239352, 50.28715]\n",
      "['Cs', 5.944092, 10.083892, 8.26105]\n",
      "['Cs', 3.522362, 15.756752, 22.13535]\n",
      "['Cs', 13.849852, 24.319152, 51.00885]\n",
      "['Cs', 5.030072, 39.358452, 56.56065]\n",
      "['Cs', 0.888481, 3.738462, 3.40563]\n",
      "['Cs', 53.448952, 55.128252, 27.16055]\n",
      "['Cs', 20.168352, 56.242652, 2.81054]\n",
      "['Cs', 9.750362, 2.138471, 8.76884]\n",
      "['Cs', 4.543582, 5.801452, 2.28639]\n",
      "['Cs', 2.547042, 31.058152, 8.22327]\n",
      "['Cs', 9.236862, 34.869352, 52.51755]\n",
      "['Cs', 48.047052, 22.722952, 0.54277]\n",
      "['Cs', 52.550952, 53.192952, 36.71795]\n",
      "['Cs', 25.140252, 8.555262, 43.06685]\n",
      "['Cs', 29.098652, 5.503342, 41.00145]\n",
      "['Cs', 5.029222, 4.216612, 9.64997]\n",
      "['Cs', 1.989033, 28.555152, 4.4582]\n",
      "12003 667\n"
     ]
    }
   ],
   "source": [
    "count = 1\n",
    "count_ba = 0\n",
    "#先把文件头写上去\n",
    "with open(new_name,'a') as file:\n",
    "        file.write(\"{} \\n\".format(all_atoms))\n",
    "        file.write(\"{} \\n\".format(\"Atoms\"))\n",
    "#在两个循环里分别写入原子\n",
    "with open(new_name,'a') as file:\n",
    "    for i in data:\n",
    "        if i[0]!='Ba':\n",
    "            count+=1\n",
    "            file.write(\"{}    {}    {}    {}\\n\".format(i[0],i[1],i[2],i[3]))\n",
    "    for j in ba_list:\n",
    "        count_ba +=1\n",
    "        count+=1\n",
    "        file.write(\"{}    {}    {}    {}\\n\".format(j[0],j[1],j[2],j[3]))\n",
    "        if j[0]=='Cs':\n",
    "            print(j)\n",
    "\n",
    "print(count,count_ba)"
   ]
  },
  {
   "cell_type": "code",
   "execution_count": 18,
   "id": "5d3a4ef9",
   "metadata": {},
   "outputs": [
    {
     "data": {
      "text/plain": [
       "12002"
      ]
     },
     "execution_count": 18,
     "metadata": {},
     "output_type": "execute_result"
    }
   ],
   "source": [
    "len(data)"
   ]
  },
  {
   "cell_type": "code",
   "execution_count": 19,
   "id": "08db5818",
   "metadata": {},
   "outputs": [
    {
     "data": {
      "text/plain": [
       "0"
      ]
     },
     "execution_count": 19,
     "metadata": {},
     "output_type": "execute_result"
    }
   ],
   "source": [
    "a = 0\n",
    "for i in data:\n",
    "    if i[0]=='Cs':\n",
    "        a+=1\n",
    "a"
   ]
  },
  {
   "cell_type": "code",
   "execution_count": 20,
   "id": "cbdea8cd",
   "metadata": {},
   "outputs": [],
   "source": [
    "xx = 'wqeqw'\n",
    "yy = '41241'\n",
    "with open(new_name,'a') as file:\n",
    "        file.write(xx+yy)\n",
    "        file.write(\"{} \\n\".format(\"Atoms\"))"
   ]
  },
  {
   "cell_type": "code",
   "execution_count": null,
   "id": "21c3546d",
   "metadata": {},
   "outputs": [],
   "source": []
  }
 ],
 "metadata": {
  "kernelspec": {
   "display_name": "Python 3 (ipykernel)",
   "language": "python",
   "name": "python3"
  },
  "language_info": {
   "codemirror_mode": {
    "name": "ipython",
    "version": 3
   },
   "file_extension": ".py",
   "mimetype": "text/x-python",
   "name": "python",
   "nbconvert_exporter": "python",
   "pygments_lexer": "ipython3",
   "version": "3.10.6"
  }
 },
 "nbformat": 4,
 "nbformat_minor": 5
}
