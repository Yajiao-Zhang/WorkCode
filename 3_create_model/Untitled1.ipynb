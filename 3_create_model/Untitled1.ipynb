{
 "cells": [
  {
   "cell_type": "code",
   "execution_count": null,
   "id": "393967eb-1144-4389-aefd-6d2eecf52704",
   "metadata": {},
   "outputs": [],
   "source": [
    "{'O': 3522, 'Si': 1000, 'Al': 490, 'Li': 490}"
   ]
  },
  {
   "cell_type": "code",
   "execution_count": 7,
   "id": "fd6ddd13-a707-485f-b3a8-34f8696b1dd5",
   "metadata": {},
   "outputs": [],
   "source": [
    "import numpy as np"
   ]
  },
  {
   "cell_type": "code",
   "execution_count": 3,
   "id": "446c2d0e-046c-4bd2-84de-6a9118db6595",
   "metadata": {},
   "outputs": [
    {
     "data": {
      "text/plain": [
       "1.1368683772161603e-13"
      ]
     },
     "execution_count": 3,
     "metadata": {},
     "output_type": "execute_result"
    }
   ],
   "source": [
    "-1.2*2856+ 2.4*714 +714*1.8 + 714*0.6 "
   ]
  },
  {
   "cell_type": "code",
   "execution_count": 15,
   "id": "1fb59206-4007-4051-a52d-116f3ceac20f",
   "metadata": {},
   "outputs": [
    {
     "data": {
      "text/plain": [
       "1.9402379381819184"
      ]
     },
     "execution_count": 15,
     "metadata": {},
     "output_type": "execute_result"
    }
   ],
   "source": [
    "5.275*2*np.sin(69.30)"
   ]
  },
  {
   "cell_type": "code",
   "execution_count": 17,
   "id": "dc45de1d-11b6-44ca-ad28-9eed31c5e758",
   "metadata": {},
   "outputs": [
    {
     "data": {
      "text/plain": [
       "680.0"
      ]
     },
     "execution_count": 17,
     "metadata": {},
     "output_type": "execute_result"
    }
   ],
   "source": [
    "320+180/2+180/2*3"
   ]
  },
  {
   "cell_type": "code",
   "execution_count": 29,
   "id": "a56fa204-1efa-49bb-afc3-d39e3421357f",
   "metadata": {},
   "outputs": [
    {
     "data": {
      "text/plain": [
       "52.41482788417792"
      ]
     },
     "execution_count": 29,
     "metadata": {},
     "output_type": "execute_result"
    }
   ],
   "source": [
    "(80*60*30)**(1/3)"
   ]
  },
  {
   "cell_type": "code",
   "execution_count": 31,
   "id": "63e6856d-660a-4b7c-8c1e-995d1c406458",
   "metadata": {},
   "outputs": [
    {
     "data": {
      "text/plain": [
       "1.3"
      ]
     },
     "execution_count": 31,
     "metadata": {},
     "output_type": "execute_result"
    }
   ],
   "source": [
    "13000/10000"
   ]
  },
  {
   "cell_type": "code",
   "execution_count": 33,
   "id": "38c0985b-c744-442d-bd9d-58f9422f064f",
   "metadata": {},
   "outputs": [
    {
     "data": {
      "text/plain": [
       "13.0"
      ]
     },
     "execution_count": 33,
     "metadata": {},
     "output_type": "execute_result"
    }
   ],
   "source": [
    "78000/6000"
   ]
  },
  {
   "cell_type": "code",
   "execution_count": 35,
   "id": "e5de0324-271f-44ad-9ef4-e273961033fc",
   "metadata": {},
   "outputs": [
    {
     "data": {
      "text/plain": [
       "12.75"
      ]
     },
     "execution_count": 35,
     "metadata": {},
     "output_type": "execute_result"
    }
   ],
   "source": [
    "51000/4000"
   ]
  },
  {
   "cell_type": "code",
   "execution_count": null,
   "id": "421f562e-d964-4d40-9067-d89c8a69e2ea",
   "metadata": {},
   "outputs": [],
   "source": []
  }
 ],
 "metadata": {
  "kernelspec": {
   "display_name": "Python 3 (ipykernel)",
   "language": "python",
   "name": "python3"
  },
  "language_info": {
   "codemirror_mode": {
    "name": "ipython",
    "version": 3
   },
   "file_extension": ".py",
   "mimetype": "text/x-python",
   "name": "python",
   "nbconvert_exporter": "python",
   "pygments_lexer": "ipython3",
   "version": "3.12.3"
  }
 },
 "nbformat": 4,
 "nbformat_minor": 5
}
