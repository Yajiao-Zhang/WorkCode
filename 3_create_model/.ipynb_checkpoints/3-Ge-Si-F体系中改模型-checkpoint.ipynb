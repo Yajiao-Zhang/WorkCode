{
 "cells": [
  {
   "cell_type": "code",
   "execution_count": 1,
   "id": "dbcafbce",
   "metadata": {},
   "outputs": [],
   "source": [
    "import numpy as np"
   ]
  },
  {
   "cell_type": "code",
   "execution_count": 2,
   "id": "9bffca4f",
   "metadata": {},
   "outputs": [],
   "source": [
    "file_path = r'D:\\MD_file\\Ge-Si\\move_f\\50si-output_out.xyz'\n",
    "save_path = r'D:\\MD_file\\Ge-Si\\move_f\\50si_inp.xyz'\n",
    "save_region = r'D:\\MD_file\\Ge-Si\\move_f\\50si_inp.region'"
   ]
  },
  {
   "cell_type": "code",
   "execution_count": 3,
   "id": "17710c59-804a-4dbf-8c7c-adac51369777",
   "metadata": {},
   "outputs": [],
   "source": [
    "# 参数\n",
    "move_dis = 100\n",
    "# 到底转移多少个F原子呢\n",
    "num_tran_f = 100"
   ]
  },
  {
   "cell_type": "markdown",
   "id": "7eda4973",
   "metadata": {},
   "source": [
    "# 读取原始数据"
   ]
  },
  {
   "cell_type": "code",
   "execution_count": 5,
   "id": "2417ac6e",
   "metadata": {},
   "outputs": [
    {
     "name": "stdout",
     "output_type": "stream",
     "text": [
      "BOX的xyz范围：\n",
      "x 值: 0.002261 -- 53.808825\n",
      "y 值: 0.009522 -- 53.800225\n",
      "z 值: 0.00326 -- 53.80993\n",
      "体系中的原子数：\n",
      "10004\n",
      "{'O': 5626, 'Si': 1876, 'Ge': 1250, 'F': 1252}\n"
     ]
    }
   ],
   "source": [
    "num_cry_dic = {'O':0,'Si':0,'Ge':0,'F':0}\n",
    "# 记录下F所有的index \n",
    "F_list = []\n",
    "# 读取文件函数\n",
    "def read_xyz_file_with_conditions(filename):\n",
    "    # 读取xyz文件并按照给定条件筛选坐标\n",
    "    max_x = max_y = max_z = float('-inf')\n",
    "    min_x = min_y = min_z = float('inf')\n",
    "    coordinates = []\n",
    "    count_atom = 0\n",
    "    with open(filename, 'r') as f:\n",
    "        lines = f.readlines()\n",
    "        for line in lines[2:]:  # 从第三行开始读取坐标数据\n",
    "            parts = line.split()\n",
    "            if len(parts) >= 4:\n",
    "                atom = parts[0]\n",
    "                #  转换一下单位 \n",
    "                x = float(parts[1])\n",
    "                y = float(parts[2])\n",
    "                z = float(parts[3])\n",
    "                coordinates.append([atom, x, y, z])\n",
    "                # 统计所有原子数\n",
    "                num_cry_dic[atom] += 1\n",
    "                # 记录下F的count\n",
    "                if atom=='F':\n",
    "                    F_list.append(count_atom)\n",
    "                # 更新最值\n",
    "                max_x = x if x>max_x else max_x\n",
    "                max_y = y if y>max_y else max_y\n",
    "                max_z = z if z>max_z else max_z\n",
    "                min_x = x if x<min_x else min_x\n",
    "                min_y = y if y<min_y else min_y\n",
    "                min_z = z if z<min_z else min_z\n",
    "                #\n",
    "                count_atom+=1\n",
    "    print(\"BOX的xyz范围：\")\n",
    "    print(f\"x 值: {min_x} -- {max_x}\")\n",
    "    print(f\"y 值: {min_y} -- {max_y}\")\n",
    "    print(f\"z 值: {min_z} -- {max_z}\")\n",
    "    return coordinates\n",
    "# 使用示例\n",
    "filename = file_path  # 替换为你的xyz文件名\n",
    "all_xyz = read_xyz_file_with_conditions(filename)\n",
    "# 输出平移后所有原子中最大的和最小的 x, y, z 值\n",
    "print(\"体系中的原子数：\")\n",
    "print(len(all_xyz))\n",
    "print(num_cry_dic)"
   ]
  },
  {
   "cell_type": "code",
   "execution_count": 6,
   "id": "5cdb4d41-8f4d-4cd4-b087-752c2093baa6",
   "metadata": {},
   "outputs": [
    {
     "name": "stdout",
     "output_type": "stream",
     "text": [
      "随机选择的100个数: [8756, 8766, 8794, 8797, 8828, 8857, 8868, 8877, 8895, 8914, 8920, 8922, 8925, 8938, 8962, 8964, 8980, 9008, 9010, 9012, 9027, 9036, 9041, 9045, 9104, 9119, 9127, 9131, 9132, 9140, 9150, 9154, 9157, 9160, 9212, 9217, 9218, 9219, 9229, 9239, 9263, 9266, 9292, 9300, 9322, 9328, 9353, 9360, 9412, 9422, 9433, 9451, 9472, 9490, 9507, 9515, 9517, 9519, 9525, 9529, 9550, 9552, 9573, 9574, 9608, 9626, 9634, 9670, 9682, 9685, 9693, 9699, 9734, 9744, 9749, 9753, 9761, 9764, 9778, 9783, 9825, 9830, 9837, 9840, 9863, 9866, 9868, 9870, 9878, 9880, 9889, 9894, 9899, 9933, 9939, 9941, 9942, 9967, 10001, 10002]\n",
      "100\n"
     ]
    }
   ],
   "source": [
    "len(F_list)\n",
    "import random\n",
    "# 假设你提供的列表有1000个数\n",
    "my_list = F_list  # 这是一个简单的例子，列表包含1到1000的整数\n",
    "# 随机选出100个数\n",
    "selected_numbers = random.sample(my_list, 100)\n",
    "# 将选出的100个数按照大小顺序排列\n",
    "sorted_selected_numbers = sorted(selected_numbers)\n",
    "ss_num = sorted_selected_numbers\n",
    "print(\"随机选择的100个数:\", sorted_selected_numbers)\n",
    "print(len(sorted_selected_numbers))"
   ]
  },
  {
   "cell_type": "markdown",
   "id": "e71de6a7-cd7d-4725-a3f4-e9d8d9829469",
   "metadata": {},
   "source": [
    " # 改变F的坐标"
   ]
  },
  {
   "cell_type": "code",
   "execution_count": 8,
   "id": "125dfd43-4168-4e72-8c40-53b3c7f9cce7",
   "metadata": {},
   "outputs": [
    {
     "name": "stdout",
     "output_type": "stream",
     "text": [
      "10004\n"
     ]
    }
   ],
   "source": [
    "# \n",
    "count_f = 0\n",
    "new_allxyz = []\n",
    "for i_n,i_atom in enumerate(all_xyz):\n",
    "    atom,x,y,z = i_atom[0],i_atom[1],i_atom[2],i_atom[3]\n",
    "    if count_f<len(ss_num) and atom=='F' and  i_n == ss_num[count_f]:\n",
    "        y+=move_dis\n",
    "        count_f+=1\n",
    "    new_allxyz.append([atom,x,y,z])\n",
    "print(len(new_allxyz))"
   ]
  },
  {
   "cell_type": "code",
   "execution_count": null,
   "id": "3637497c-422c-4ab8-9ccb-08ac452e005b",
   "metadata": {},
   "outputs": [],
   "source": []
  },
  {
   "cell_type": "markdown",
   "id": "a1f2c1f1",
   "metadata": {},
   "source": [
    "# 组合"
   ]
  },
  {
   "cell_type": "code",
   "execution_count": 10,
   "id": "f843b34d",
   "metadata": {},
   "outputs": [
    {
     "name": "stdout",
     "output_type": "stream",
     "text": [
      "Filtered coordinates saved to D:\\MD_file\\Ge-Si\\move_f\\50si_inp.xyz\n"
     ]
    }
   ],
   "source": [
    "ele_dic = {'O':1,'Si':2,'Ge':3,'F':4}\n",
    "# 将坐标写回到xyz文件中\n",
    "def write_xyz_file(filename, coordinates):\n",
    "    with open(filename, 'w') as f:\n",
    "        f.write(f\"{len(coordinates)}\\n\")\n",
    "        f.write(\"Atoms\\n\")\n",
    "        for atom, x, y, z in coordinates:\n",
    "            f.write(f\"{ele_dic[atom]}    {x:.6f}    {y:.6f}    {z:.6f}\\n\")\n",
    "\n",
    "# 使用示例\n",
    "save_path = save_path  # 设置保存文件的路径和文件名\n",
    "write_xyz_file(save_path, new_allxyz)\n",
    "print(f\"Filtered coordinates saved to {save_path}\")"
   ]
  },
  {
   "cell_type": "code",
   "execution_count": 11,
   "id": "90e68b43",
   "metadata": {},
   "outputs": [
    {
     "ename": "NameError",
     "evalue": "name 'dsda' is not defined",
     "output_type": "error",
     "traceback": [
      "\u001b[1;31m---------------------------------------------------------------------------\u001b[0m",
      "\u001b[1;31mNameError\u001b[0m                                 Traceback (most recent call last)",
      "Cell \u001b[1;32mIn[11], line 1\u001b[0m\n\u001b[1;32m----> 1\u001b[0m dsda\n",
      "\u001b[1;31mNameError\u001b[0m: name 'dsda' is not defined"
     ]
    }
   ],
   "source": [
    "dsda"
   ]
  },
  {
   "cell_type": "code",
   "execution_count": null,
   "id": "5a7e730f-f318-46b9-9e04-26a1a03eb13c",
   "metadata": {},
   "outputs": [],
   "source": []
  },
  {
   "cell_type": "code",
   "execution_count": null,
   "id": "8233734b-c355-450f-99ff-560fae47c3e9",
   "metadata": {},
   "outputs": [],
   "source": []
  },
  {
   "cell_type": "code",
   "execution_count": null,
   "id": "39a1e6f2-e72b-4c8c-99ac-366d9e86396a",
   "metadata": {},
   "outputs": [],
   "source": []
  },
  {
   "cell_type": "code",
   "execution_count": null,
   "id": "0e38194e-4412-4cbc-a501-3342e04de08a",
   "metadata": {},
   "outputs": [],
   "source": [
    "# 计算总电荷数量\n",
    "print('crystal atoms: {}  {} '.format(len(final_cry_xyz),num_cry_dic))\n",
    "print('glass atoms:   {}  {}'.format(len(glass_xyz),glass_create_dic))\n",
    "print(charge_dic)\n",
    "charge = 0\n",
    "for i in num_cry_dic:\n",
    "    charge += (num_cry_dic[i] + glass_create_dic[i]) * charge_dic[i]\n",
    "print(charge)"
   ]
  },
  {
   "cell_type": "code",
   "execution_count": null,
   "id": "b37d6aee-dae9-41e8-9b10-97e8e24b04fb",
   "metadata": {},
   "outputs": [],
   "source": [
    "# 计算总电荷数量\n",
    "print('crystal atoms: {}  {} '.format(len(final_cry_xyz),num_cry_dic))\n",
    "print('glass atoms:   {}  {}'.format(len(glass_xyz),glass_create_dic))\n",
    "count_dic = {'O': 0, 'Si': 0, 'Al': 0, 'Li': 0} \n",
    "for i_line in glass_xyz:\n",
    "    i_type = i_line[0]\n",
    "    count_dic[i_type] += 1\n",
    "for i_line in final_cry_xyz:\n",
    "    i_type = i_line[0]\n",
    "    count_dic[i_type] += 1\n",
    "print(count_dic)\n",
    "print(charge_dic)\n",
    "charge = 0\n",
    "\n",
    "for i in charge_dic:\n",
    "    charge += charge_dic[i]*count_dic[i]\n",
    "print(round(charge,5))"
   ]
  },
  {
   "cell_type": "code",
   "execution_count": null,
   "id": "4e555fe5-09c0-4219-8659-44e92eff7ca5",
   "metadata": {},
   "outputs": [],
   "source": [
    "new_charge = 0\n",
    "for i in num_cry_dic:\n",
    "    new_charge += charge_dic[i]*count_dic[i]\n",
    "print(round(new_charge,5))"
   ]
  },
  {
   "cell_type": "code",
   "execution_count": null,
   "id": "d9cc4264-457f-473a-bd82-c8a43e188337",
   "metadata": {},
   "outputs": [],
   "source": []
  },
  {
   "cell_type": "code",
   "execution_count": null,
   "id": "6619b482-7a34-4a5c-9202-8abb034e4908",
   "metadata": {},
   "outputs": [],
   "source": [
    "glass_create_dic"
   ]
  },
  {
   "cell_type": "code",
   "execution_count": null,
   "id": "1b5d0f02-f975-44fb-aa5c-9a3f618648d1",
   "metadata": {},
   "outputs": [],
   "source": []
  },
  {
   "cell_type": "code",
   "execution_count": null,
   "id": "06a48ca7-a3a6-4a5c-b6bd-a52b34592bc2",
   "metadata": {},
   "outputs": [],
   "source": [
    "print(\"盒子尺寸：\")\n",
    "print(box_size)\n",
    "print(\"晶体区域：\")\n",
    "print(cry_range)\n",
    "print(\"玻璃中的原子数量：\")\n",
    "print(glass_create_dic)\n",
    "print(\"晶体中的原子数量：\")\n",
    "print(num_cry_dic)\n"
   ]
  },
  {
   "cell_type": "code",
   "execution_count": null,
   "id": "68ad75cf-f377-46f8-92c2-718e85456d9e",
   "metadata": {},
   "outputs": [],
   "source": []
  },
  {
   "cell_type": "code",
   "execution_count": null,
   "id": "6d2e6e05-6803-4a31-b933-b3c2d531debe",
   "metadata": {},
   "outputs": [],
   "source": []
  },
  {
   "cell_type": "code",
   "execution_count": null,
   "id": "a2de62ed-0be7-4108-879c-403b654228a7",
   "metadata": {},
   "outputs": [],
   "source": []
  },
  {
   "cell_type": "code",
   "execution_count": null,
   "id": "95a29e56-ebf2-4b31-8305-3e059d54ff23",
   "metadata": {},
   "outputs": [],
   "source": []
  },
  {
   "cell_type": "code",
   "execution_count": null,
   "id": "6d4412af-9768-4967-a333-35b2d9976eda",
   "metadata": {},
   "outputs": [],
   "source": []
  },
  {
   "cell_type": "code",
   "execution_count": null,
   "id": "3160c3b0-1c21-4c73-94fd-541d4c8e1bac",
   "metadata": {},
   "outputs": [],
   "source": []
  }
 ],
 "metadata": {
  "kernelspec": {
   "display_name": "Python 3 (ipykernel)",
   "language": "python",
   "name": "python3"
  },
  "language_info": {
   "codemirror_mode": {
    "name": "ipython",
    "version": 3
   },
   "file_extension": ".py",
   "mimetype": "text/x-python",
   "name": "python",
   "nbconvert_exporter": "python",
   "pygments_lexer": "ipython3",
   "version": "3.12.3"
  }
 },
 "nbformat": 4,
 "nbformat_minor": 5
}
