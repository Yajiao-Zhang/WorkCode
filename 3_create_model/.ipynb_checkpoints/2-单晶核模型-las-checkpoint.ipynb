{
 "cells": [
  {
   "cell_type": "code",
   "execution_count": 1,
   "id": "dbcafbce",
   "metadata": {},
   "outputs": [],
   "source": [
    "import numpy as np"
   ]
  },
  {
   "cell_type": "code",
   "execution_count": 2,
   "id": "9bffca4f",
   "metadata": {},
   "outputs": [],
   "source": [
    "file_path = r'D:\\MD_file\\Corning\\las2o6\\biger_model\\Al1Li1O6Si2_ICSD_159530.xyz'\n",
    "save_path = r'D:\\MD_file\\Corning\\las2o6\\biger_model\\las_530mode_c.xyz'\n",
    "save_region = r'D:\\MD_file\\Corning\\las2o6\\biger_model\\las_530mode_c.region'"
   ]
  },
  {
   "cell_type": "markdown",
   "id": "7eda4973",
   "metadata": {},
   "source": [
    "# 晶体"
   ]
  },
  {
   "cell_type": "code",
   "execution_count": 6,
   "id": "2417ac6e",
   "metadata": {},
   "outputs": [],
   "source": [
    "# 读取xyz文件并按照给定条件筛选坐标\n",
    "def read_xyz_file_with_conditions(filename):\n",
    "    coordinates = []\n",
    "    with open(filename, 'r') as f:\n",
    "        lines = f.readlines()\n",
    "        for line in lines[2:]:  # 从第三行开始读取坐标数据\n",
    "            parts = line.split()\n",
    "            if len(parts) >= 4:\n",
    "                atom = parts[0]\n",
    "                #  转换一下单位 \n",
    "                x = float(parts[1])\n",
    "                y = float(parts[2])\n",
    "                z = float(parts[3])\n",
    "                coordinates.append((atom, x, y, z))\n",
    "    return coordinates\n",
    "\n",
    "# 使用示例\n",
    "filename = file_path  # 替换为你的xyz文件名\n",
    "cry_xyz = read_xyz_file_with_conditions(filename)"
   ]
  },
  {
   "cell_type": "code",
   "execution_count": 8,
   "id": "c7baddf9-b6b4-4080-9a6b-dd230096e94f",
   "metadata": {},
   "outputs": [
    {
     "name": "stdout",
     "output_type": "stream",
     "text": [
      "晶体的初始xyz范围：\n",
      "x 值: -0.698745 -- 43.06101\n",
      "y 值: -0.917861 -- 43.202641\n",
      "z 值: -0.998862 -- 10.868341\n",
      "晶体的原子数：\n",
      "2092\n",
      "{'O': 1412, 'Si': 320, 'Al': 180, 'Li': 180}\n"
     ]
    }
   ],
   "source": [
    "# 原始坐标列表\n",
    "coordinates = cry_xyz\n",
    "# 晶体中原子的计数\n",
    "num_cry_dic = create_dic = {'O':0,'Si':0,'Al':0,'Li':0}\n",
    "# 平移的距离\n",
    "a, b, c = 0, 0, 0.0  # 替换为你需要的平移值\n",
    "# 初始化最大最小值\n",
    "max_x = max_y = max_z = float('-inf')\n",
    "min_x = min_y = min_z = float('inf')\n",
    "\n",
    "new_cry_xyz = []\n",
    "\n",
    "# 平移坐标并寻找最大最小值\n",
    "for atom, x, y, z in coordinates:\n",
    "    # 对每个坐标平移\n",
    "    new_x = x + a\n",
    "    new_y = y + b\n",
    "    new_z = z + c\n",
    "    new_cry_xyz.append([atom,new_x,new_y,new_z])\n",
    "    # 对晶体在的原子计数\n",
    "    num_cry_dic[atom] += 1\n",
    "    # 更新最大值\n",
    "    if new_x > max_x:\n",
    "        max_x = new_x\n",
    "    if new_y > max_y:\n",
    "        max_y = new_y\n",
    "    if new_z > max_z:\n",
    "        max_z = new_z\n",
    "    \n",
    "    # 更新最小值\n",
    "    if new_x < min_x:\n",
    "        min_x = new_x\n",
    "    if new_y < min_y:\n",
    "        min_y = new_y\n",
    "    if new_z < min_z:\n",
    "        min_z = new_z\n",
    "\n",
    "# 输出平移后所有原子中最大的和最小的 x, y, z 值\n",
    "print(\"晶体的初始xyz范围：\")\n",
    "print(f\"x 值: {min_x} -- {max_x}\")\n",
    "print(f\"y 值: {min_y} -- {max_y}\")\n",
    "print(f\"z 值: {min_z} -- {max_z}\")\n",
    "print(\"晶体的原子数：\")\n",
    "print(len(cry_xyz))\n",
    "print(num_cry_dic)"
   ]
  },
  {
   "cell_type": "markdown",
   "id": "e71de6a7-cd7d-4725-a3f4-e9d8d9829469",
   "metadata": {},
   "source": [
    "# 当遇到xyz小于0的，先全部给它加上 "
   ]
  },
  {
   "cell_type": "code",
   "execution_count": 11,
   "id": "91f6ca13-ff21-43bb-a11a-49c05c9854d5",
   "metadata": {},
   "outputs": [
    {
     "name": "stdout",
     "output_type": "stream",
     "text": [
      "修正过后的晶体的xyz范围：\n",
      "x 值: 0.0 -- 43.759755000000006\n",
      "y 值: 0.0 -- 44.120502\n",
      "z 值: 0.0 -- 11.867203\n"
     ]
    }
   ],
   "source": [
    "# 只有确实是有小于O的部分才会执行\n",
    "if min_x<0 or min_y<0 or min_z<0:\n",
    "    # 原始坐标列表\n",
    "    coordinates = cry_xyz\n",
    "    # 平移的距离\n",
    "    a, b, c = 0,0,0\n",
    "    if min_x<0:\n",
    "        a=-min_x\n",
    "    if min_y<0:\n",
    "        b = -min_y\n",
    "    if min_z<0:\n",
    "        c = -min_z\n",
    "    # 替换为你需要的平移值\n",
    "    # 初始化最大最小值\n",
    "    max_x = max_y = max_z = float('-inf')\n",
    "    min_x = min_y = min_z = float('inf')\n",
    "    \n",
    "    new_cry_xyz = []\n",
    "    \n",
    "    # 平移坐标并寻找最大最小值\n",
    "    for atom, x, y, z in coordinates:\n",
    "        # 对每个坐标平移\n",
    "        new_x = x + a\n",
    "        new_y = y + b\n",
    "        new_z = z + c\n",
    "        new_cry_xyz.append([atom,new_x,new_y,new_z])\n",
    "        # 更新最大值\n",
    "        if new_x > max_x:\n",
    "            max_x = new_x\n",
    "        if new_y > max_y:\n",
    "            max_y = new_y\n",
    "        if new_z > max_z:\n",
    "            max_z = new_z\n",
    "        \n",
    "        # 更新最小值\n",
    "        if new_x < min_x:\n",
    "            min_x = new_x\n",
    "        if new_y < min_y:\n",
    "            min_y = new_y\n",
    "        if new_z < min_z:\n",
    "            min_z = new_z\n",
    "\n",
    "    min_a,min_b,min_c = min_x,min_y,min_z\n",
    "    max_a,max_b,max_c = max_x,max_y,max_z\n",
    "    # 输出平移后所有原子中最大的和最小的 x, y, z 值\n",
    "    print(\"修正过后的晶体的xyz范围：\")\n",
    "    print(f\"x 值: {min_a} -- {max_a}\")\n",
    "    print(f\"y 值: {min_b} -- {max_b}\")\n",
    "    print(f\"z 值: {min_c} -- {max_c}\")"
   ]
  },
  {
   "cell_type": "code",
   "execution_count": null,
   "id": "aa5f6c41-81f7-4fb2-86ec-d11970e49f1b",
   "metadata": {},
   "outputs": [],
   "source": []
  },
  {
   "cell_type": "code",
   "execution_count": null,
   "id": "854d2550-b2d8-4ed4-9d1b-2da71629657d",
   "metadata": {},
   "outputs": [],
   "source": []
  },
  {
   "cell_type": "code",
   "execution_count": 15,
   "id": "81240519-ec32-4b4f-b019-b2efb8dbec13",
   "metadata": {},
   "outputs": [
    {
     "name": "stdout",
     "output_type": "stream",
     "text": [
      "86.8 12.0\n"
     ]
    }
   ],
   "source": [
    "thickness = round(max_c+0.15,1)\n",
    "len_box = round(((83*60*13.5+max_b*max_a*thickness)/thickness)**(0.5),1)\n",
    "print(len_box,thickness)"
   ]
  },
  {
   "cell_type": "code",
   "execution_count": 17,
   "id": "7df65449-4b98-4187-b9c0-d8c4176667bd",
   "metadata": {},
   "outputs": [
    {
     "name": "stdout",
     "output_type": "stream",
     "text": [
      "x 值: 0.0 -- 43.759755000000006\n",
      "y 值: 0.0 -- 44.120502\n",
      "z 值: 0.0 -- 11.867203\n"
     ]
    }
   ],
   "source": [
    "print(f\"x 值: {min_x} -- {max_x}\")\n",
    "print(f\"y 值: {min_y} -- {max_y}\")\n",
    "print(f\"z 值: {min_z} -- {max_z}\")"
   ]
  },
  {
   "cell_type": "code",
   "execution_count": 19,
   "id": "1db5abdc",
   "metadata": {},
   "outputs": [
    {
     "name": "stdout",
     "output_type": "stream",
     "text": [
      "盒子尺寸：\n",
      "[86.8, 86.8, 12.0]\n",
      "晶体区域：\n",
      "[[20.0, 66.8], [19.8, 67.0], [0, 12.0]]\n",
      "玻璃中的原子数量：\n",
      "{'O': 4412, 'Si': 1320, 'Al': 680, 'Li': 680}\n"
     ]
    }
   ],
   "source": [
    "box_size = [len_box,len_box,thickness]\n",
    "low_x, high_x = round(0.5*len_box - (max_x-min_x)*0.5-1.5,1), round(0.5*len_box - (max_x-min_x)*0.5+max_x+ 1.5,1)\n",
    "low_y, high_y = round(0.5*len_box - (max_y-min_y)*0.5-1.5,1), round(0.5*len_box - (max_y-min_y)*0.5+max_y+ 1.5,1)\n",
    "cry_range = [[low_x,high_x],[low_y,high_y],[0,thickness]]\n",
    "# 把两个list加到一起去 算一下总的原子数\n",
    "cry_dic_list = []\n",
    "for i in num_cry_dic:\n",
    "    temp =num_cry_dic[i]\n",
    "    cry_dic_list.append(temp)\n",
    "create_dic = {'O':3000+cry_dic_list[0],'Si':1000+cry_dic_list[1],'Al':500+cry_dic_list[2],'Li':500+cry_dic_list[3]}\n",
    "print(\"盒子尺寸：\")\n",
    "print(box_size)\n",
    "print(\"晶体区域：\")\n",
    "print(cry_range)\n",
    "print(\"玻璃中的原子数量：\")\n",
    "print(create_dic)"
   ]
  },
  {
   "cell_type": "code",
   "execution_count": 21,
   "id": "fa9cc84d-c133-4485-9b37-5f4282330a67",
   "metadata": {},
   "outputs": [
    {
     "name": "stdout",
     "output_type": "stream",
     "text": [
      "{'O': 3000, 'Si': 1000, 'Al': 500, 'Li': 500}\n"
     ]
    }
   ],
   "source": [
    "# 算一下新的组成的原子数\n",
    "for i in create_dic:\n",
    "    create_dic[i] = create_dic[i]-num_cry_dic[i]\n",
    "print(create_dic)"
   ]
  },
  {
   "cell_type": "code",
   "execution_count": 23,
   "id": "43140a72-e166-4dcd-884c-bafb62f9665d",
   "metadata": {},
   "outputs": [
    {
     "name": "stdout",
     "output_type": "stream",
     "text": [
      "x 值: 21.520122499999996 -- 65.2798775\n",
      "y 值: 21.339748999999998 -- 65.460251\n",
      "z 值: 0.0 -- 11.867203\n",
      "[[20.0, 66.8], [19.8, 67.0], [0, 12.0]]\n"
     ]
    }
   ],
   "source": [
    "# 平移晶体元素 xyz\n",
    "\n",
    "# 原始坐标列表\n",
    "coordinates = new_cry_xyz\n",
    "# 平移的距离\n",
    "a, b, c = 0.5*len_box - (max_x-min_x)*0.5,  0.5*len_box - (max_y-min_y)*0.5, 0.0  # 替换为你需要的平移值\n",
    "# 初始化最大最小值\n",
    "max_x = max_y = max_z = float('-inf')\n",
    "min_x = min_y = min_z = float('inf')\n",
    "\n",
    "final_cry_xyz = []\n",
    "\n",
    "# 平移坐标并寻找最大最小值\n",
    "for atom, x, y, z in coordinates:\n",
    "    # 对每个坐标平移\n",
    "    new_x = x + a\n",
    "    new_y = y + b\n",
    "    new_z = z + c\n",
    "    final_cry_xyz.append([atom,new_x,new_y,new_z])\n",
    "    # 更新最大值\n",
    "    if new_x > max_x:\n",
    "        max_x = new_x\n",
    "    if new_y > max_y:\n",
    "        max_y = new_y\n",
    "    if new_z > max_z:\n",
    "        max_z = new_z\n",
    "    \n",
    "    # 更新最小值\n",
    "    if new_x < min_x:\n",
    "        min_x = new_x\n",
    "    if new_y < min_y:\n",
    "        min_y = new_y\n",
    "    if new_z < min_z:\n",
    "        min_z = new_z\n",
    "\n",
    "# 输出平移后所有原子中最大的和最小的 x, y, z 值\n",
    "print(f\"x 值: {min_x} -- {max_x}\")\n",
    "print(f\"y 值: {min_y} -- {max_y}\")\n",
    "print(f\"z 值: {min_z} -- {max_z}\")\n",
    "print(cry_range)"
   ]
  },
  {
   "cell_type": "code",
   "execution_count": 25,
   "id": "b30c477c-0132-486d-8880-da28b5e56e32",
   "metadata": {},
   "outputs": [
    {
     "data": {
      "text/plain": [
       "21.339748999999998"
      ]
     },
     "execution_count": 25,
     "metadata": {},
     "output_type": "execute_result"
    }
   ],
   "source": [
    "0.5*len_box - (max_y-min_y)*0.5"
   ]
  },
  {
   "cell_type": "markdown",
   "id": "752ee8b5",
   "metadata": {},
   "source": [
    "# 玻璃"
   ]
  },
  {
   "cell_type": "code",
   "execution_count": 28,
   "id": "4a88b9c8",
   "metadata": {},
   "outputs": [],
   "source": [
    "import numpy as np\n",
    "import random\n",
    "total_atoms = sum(create_dic.values())\n",
    "# 函数判断位置是否在禁止区域内\n",
    "def in_forbidden_range(x, y, z, cry_range):\n",
    "    return (cry_range[0][0] <= x <= cry_range[0][1] and\n",
    "            cry_range[1][0] <= y <= cry_range[1][1] and\n",
    "            cry_range[2][0] <= z <= cry_range[2][1])\n",
    "# 生成候选坐标\n",
    "def generate_positions(box_size, cry_range, num_atoms):\n",
    "    positions = []\n",
    "    while len(positions) < num_atoms:\n",
    "        # 随机生成一个坐标 (x, y, z)\n",
    "        x = random.uniform(0, box_size[0])\n",
    "        y = random.uniform(0, box_size[1])\n",
    "        z = random.uniform(0, box_size[2])\n",
    "        \n",
    "        # 检查是否在禁止区域内\n",
    "        if not in_forbidden_range(x, y, z, cry_range):\n",
    "            positions.append([x, y, z])\n",
    "    \n",
    "    return positions\n",
    "\n",
    "# 生成均匀分布的随机坐标\n",
    "positions = generate_positions(box_size, cry_range, total_atoms)\n",
    "\n",
    "# 随机分配原子种类\n",
    "atom_types = []\n",
    "for atom, count in create_dic.items():\n",
    "    atom_types += [atom] * count\n",
    "\n",
    "# 打乱原子的顺序\n",
    "random.shuffle(atom_types)\n",
    "\n",
    "glass_xyz = []\n",
    "temp_list = []\n",
    "# 输出原子及其对应的位置\n",
    "for i in range(total_atoms):\n",
    "    atom = atom_types[i]\n",
    "    x, y, z = positions[i]\n",
    "    #print(f\"{atom}: ({x:.2f}, {y:.2f}, {z:.2f})\")\n",
    "    temp = [atom,x,y,z]\n",
    "    glass_xyz.append(temp)\n",
    "    temp_list.append([x,y,z])"
   ]
  },
  {
   "cell_type": "code",
   "execution_count": 30,
   "id": "364c3a04",
   "metadata": {},
   "outputs": [],
   "source": [
    "import numpy as np\n",
    "from scipy.spatial.distance import cdist\n",
    "\n",
    "# 盒子尺寸\n",
    "box_size = np.array(box_size)\n",
    "\n",
    "# 最小距离阈值\n",
    "min_distance = 0.2  # 替换为你的实际最小距离阈值\n",
    "\n",
    "# 计算周期性边界条件下的距离\n",
    "def periodic_distance(p1, p2, box_size):\n",
    "    diff = np.abs(p1 - p2)\n",
    "    diff = np.minimum(diff, box_size - diff)  # 考虑周期性边界\n",
    "    return np.sqrt(np.sum(diff**2))\n",
    "\n",
    "# 检查原子是否距离过近\n",
    "def check_closest_atoms(positions, box_size, min_distance):\n",
    "    num_atoms = len(positions)\n",
    "    for i in range(num_atoms):\n",
    "        for j in range(i + 1, num_atoms):\n",
    "            distance = periodic_distance(positions[i], positions[j], box_size)\n",
    "            if distance < min_distance:\n",
    "                print(f\"原子 {i} 和原子 {j} 之间的距离过近: {distance:.2f}\")\n",
    "\n"
   ]
  },
  {
   "cell_type": "code",
   "execution_count": 13,
   "id": "2c8e8a43",
   "metadata": {},
   "outputs": [
    {
     "name": "stdout",
     "output_type": "stream",
     "text": [
      "原子 1607 和原子 2889 之间的距离过近: 0.18\n",
      "原子 1684 和原子 3278 之间的距离过近: 0.19\n",
      "原子 3349 和原子 3607 之间的距离过近: 0.15\n",
      "原子 3349 和原子 3649 之间的距离过近: 0.19\n"
     ]
    }
   ],
   "source": [
    "# 原子位置（示例）\n",
    "# 检查原子距离\n",
    "temp_positions = np.array(temp_list)\n",
    "check_closest_atoms(temp_positions, box_size, min_distance)\n"
   ]
  },
  {
   "cell_type": "markdown",
   "id": "a1f2c1f1",
   "metadata": {},
   "source": [
    "# 组合"
   ]
  },
  {
   "cell_type": "code",
   "execution_count": 32,
   "id": "767bc9ed",
   "metadata": {},
   "outputs": [],
   "source": [
    "all_xyz = glass_xyz +final_cry_xyz"
   ]
  },
  {
   "cell_type": "code",
   "execution_count": 34,
   "id": "b172ea63",
   "metadata": {},
   "outputs": [
    {
     "name": "stdout",
     "output_type": "stream",
     "text": [
      "atoms of crystal: 2092\n",
      "atoms of glass: 5000\n",
      "All atoms: 7092\n"
     ]
    }
   ],
   "source": [
    "print('atoms of crystal: ' + str(len(cry_xyz)))\n",
    "print('atoms of glass: ' + str(len(glass_xyz)))\n",
    "print('All atoms: ' + str(len(glass_xyz)+len(cry_xyz)))"
   ]
  },
  {
   "cell_type": "code",
   "execution_count": 36,
   "id": "bddb6390",
   "metadata": {},
   "outputs": [
    {
     "name": "stdout",
     "output_type": "stream",
     "text": [
      "原子 178 和原子 1146 之间的距离过近: 0.19\n",
      "原子 456 和原子 4577 之间的距离过近: 0.12\n",
      "原子 678 和原子 1862 之间的距离过近: 0.18\n",
      "原子 1750 和原子 4418 之间的距离过近: 0.16\n",
      "原子 2283 和原子 3845 之间的距离过近: 0.15\n"
     ]
    }
   ],
   "source": [
    "check_list = []\n",
    "for i in all_xyz:\n",
    "    check_list.append(i[1:])\n",
    "\n",
    "temp_positions = np.array(check_list)\n",
    "check_closest_atoms(temp_positions, box_size, min_distance)"
   ]
  },
  {
   "cell_type": "code",
   "execution_count": 37,
   "id": "f843b34d",
   "metadata": {},
   "outputs": [
    {
     "name": "stdout",
     "output_type": "stream",
     "text": [
      "Filtered coordinates saved to D:\\MD_file\\Corning\\las2o6\\biger_model\\las_530mode_c.xyz\n"
     ]
    }
   ],
   "source": [
    "ele_dic = {'O':1,'Si':2,'Al':3,'Li':4}\n",
    "# 将坐标写回到xyz文件中\n",
    "def write_xyz_file(filename, coordinates):\n",
    "    with open(filename, 'w') as f:\n",
    "        f.write(f\"{len(coordinates)}\\n\")\n",
    "        f.write(\"Atoms\\n\")\n",
    "        for atom, x, y, z in coordinates:\n",
    "            f.write(f\"{ele_dic[atom]}    {x:.6f}    {y:.6f}    {z:.6f}\\n\")\n",
    "\n",
    "# 使用示例\n",
    "save_path = save_path  # 设置保存文件的路径和文件名\n",
    "write_xyz_file(save_path, all_xyz)\n",
    "print(f\"Filtered coordinates saved to {save_path}\")\n"
   ]
  },
  {
   "cell_type": "code",
   "execution_count": 38,
   "id": "90e68b43",
   "metadata": {},
   "outputs": [
    {
     "name": "stdout",
     "output_type": "stream",
     "text": [
      "Filtered coordinates saved to D:\\MD_file\\Corning\\las2o6\\biger_model\\las_530mode_c.region\n"
     ]
    }
   ],
   "source": [
    "# 将lmp文件写进las_112.region\n",
    "def write_xyz_file(filename, coordinates):\n",
    "    with open(filename, 'w') as f:\n",
    "        f.write(\"region box_region block {} {} {} {} {} {}\\n\\n\".format(0, len_box, 0, len_box, 0, thickness))\n",
    "        f.write(\"region cry_region block {} {} {} {} {} {}\\n\\n\".format(low_x, high_x, low_y, high_y, 0, thickness))\n",
    "        f.write(\"group all_atoms region box_region\\n\\n\")\n",
    "        f.write(\"group cry_group region cry_region\\n\\n\")\n",
    "        f.write(\"group glass_group subtract all_atoms cry_group\\n\")\n",
    "# 使用示例\n",
    "save_path = save_region  # 设置保存文件的路径和文件名\n",
    "write_xyz_file(save_path, all_xyz)\n",
    "print(f\"Filtered coordinates saved to {save_path}\")\n"
   ]
  },
  {
   "cell_type": "code",
   "execution_count": 39,
   "id": "06a48ca7-a3a6-4a5c-b6bd-a52b34592bc2",
   "metadata": {},
   "outputs": [
    {
     "name": "stdout",
     "output_type": "stream",
     "text": [
      "盒子尺寸：\n",
      "[86.8 86.8 12. ]\n",
      "晶体区域：\n",
      "[[20.0, 66.8], [19.8, 67.0], [0, 12.0]]\n",
      "玻璃中的原子数量：\n",
      "{'O': 3000, 'Si': 1000, 'Al': 500, 'Li': 500}\n"
     ]
    }
   ],
   "source": [
    "print(\"盒子尺寸：\")\n",
    "print(box_size)\n",
    "print(\"晶体区域：\")\n",
    "print(cry_range)\n",
    "print(\"玻璃中的原子数量：\")\n",
    "print(create_dic)"
   ]
  },
  {
   "cell_type": "code",
   "execution_count": null,
   "id": "68ad75cf-f377-46f8-92c2-718e85456d9e",
   "metadata": {},
   "outputs": [],
   "source": []
  },
  {
   "cell_type": "code",
   "execution_count": null,
   "id": "6d2e6e05-6803-4a31-b933-b3c2d531debe",
   "metadata": {},
   "outputs": [],
   "source": []
  }
 ],
 "metadata": {
  "kernelspec": {
   "display_name": "Python 3 (ipykernel)",
   "language": "python",
   "name": "python3"
  },
  "language_info": {
   "codemirror_mode": {
    "name": "ipython",
    "version": 3
   },
   "file_extension": ".py",
   "mimetype": "text/x-python",
   "name": "python",
   "nbconvert_exporter": "python",
   "pygments_lexer": "ipython3",
   "version": "3.12.3"
  }
 },
 "nbformat": 4,
 "nbformat_minor": 5
}
