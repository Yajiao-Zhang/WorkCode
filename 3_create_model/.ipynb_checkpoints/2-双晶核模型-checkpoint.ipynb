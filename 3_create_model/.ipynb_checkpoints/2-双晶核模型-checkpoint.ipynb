{
 "cells": [
  {
   "cell_type": "code",
   "execution_count": 2,
   "id": "dbcafbce",
   "metadata": {},
   "outputs": [],
   "source": [
    "import numpy as np"
   ]
  },
  {
   "cell_type": "code",
   "execution_count": 4,
   "id": "9bffca4f",
   "metadata": {},
   "outputs": [],
   "source": [
    "file_path = r'D:\\Atomsk\\atomsk_data\\las2o6_112.xyz'\n",
    "save_path = r'D:\\MD_file\\Corning\\las2o6\\112_model\\LAS_112.xyz'"
   ]
  },
  {
   "cell_type": "code",
   "execution_count": 8,
   "id": "90877855-1723-4ae5-902c-d176494ff3bd",
   "metadata": {},
   "outputs": [],
   "source": []
  },
  {
   "cell_type": "markdown",
   "id": "7eda4973",
   "metadata": {},
   "source": [
    "# 晶体"
   ]
  },
  {
   "cell_type": "code",
   "execution_count": 6,
   "id": "2417ac6e",
   "metadata": {},
   "outputs": [],
   "source": [
    "# 读取xyz文件并按照给定条件筛选坐标\n",
    "def read_xyz_file_with_conditions(filename):\n",
    "    coordinates = []\n",
    "    with open(filename, 'r') as f:\n",
    "        lines = f.readlines()\n",
    "        for line in lines[2:]:  # 从第三行开始读取坐标数据\n",
    "            parts = line.split()\n",
    "            if len(parts) >= 4:\n",
    "                atom = parts[0]\n",
    "                x = float(parts[1])\n",
    "                y = float(parts[2])\n",
    "                z = float(parts[3])\n",
    "                coordinates.append((atom, x, y, z))\n",
    "    return coordinates\n",
    "\n",
    "# 使用示例\n",
    "filename = file_path  # 替换为你的xyz文件名\n",
    "origin_cry_xyz = read_xyz_file_with_conditions(filename)"
   ]
  },
  {
   "cell_type": "code",
   "execution_count": 10,
   "id": "08410ea5",
   "metadata": {},
   "outputs": [
    {
     "name": "stdout",
     "output_type": "stream",
     "text": [
      " x值: 0.1627652 -- 8.3097348\n",
      "y 值: 1.39820978 -- 11.96944963\n",
      "z 值: 0.32975913 -- 9.53972286\n"
     ]
    }
   ],
   "source": [
    "# 原始坐标列表\n",
    "coordinates = origin_cry_xyz\n",
    "# 平移的距离\n",
    "a, b, c = 0, 0, 0.0  # 替换为你需要的平移值\n",
    "\n",
    "# 初始化最大最小值\n",
    "max_x = max_y = max_z = float('-inf')\n",
    "min_x = min_y = min_z = float('inf')\n",
    "\n",
    "new_cry_xyz1 = []\n",
    "\n",
    "# 平移坐标并寻找最大最小值\n",
    "for atom, x, y, z in coordinates:\n",
    "    # 对每个坐标平移\n",
    "    new_x = x + a\n",
    "    new_y = y + b\n",
    "    new_z = z + c\n",
    "    new_cry_xyz1.append([atom,new_x,new_y,new_z])\n",
    "    # 更新最大值\n",
    "    if new_x > max_x:\n",
    "        max_x = new_x\n",
    "    if new_y > max_y:\n",
    "        max_y = new_y\n",
    "    if new_z > max_z:\n",
    "        max_z = new_z\n",
    "    \n",
    "    # 更新最小值\n",
    "    if new_x < min_x:\n",
    "        min_x = new_x\n",
    "    if new_y < min_y:\n",
    "        min_y = new_y\n",
    "    if new_z < min_z:\n",
    "        min_z = new_z\n",
    "\n",
    "# 输出平移后所有原子中最大的和最小的 x, y, z 值\n",
    "print(f\" x值: {min_x} -- {max_x}\")\n",
    "print(f\"y 值: {min_y} -- {max_y}\")\n",
    "print(f\"z 值: {min_z} -- {max_z}\")"
   ]
  },
  {
   "cell_type": "markdown",
   "id": "6cdeb9e7",
   "metadata": {},
   "source": [
    "# 2为转换xy后的晶体"
   ]
  },
  {
   "cell_type": "code",
   "execution_count": 14,
   "id": "11d2f883-d10d-48c0-9da4-646a1ff30b24",
   "metadata": {},
   "outputs": [],
   "source": [
    "# 平移的距离\n",
    "a, b, c = 10, 10, 10.0  # 替换为你需要的平移值"
   ]
  },
  {
   "cell_type": "code",
   "execution_count": 16,
   "id": "4f75f24b",
   "metadata": {},
   "outputs": [
    {
     "name": "stdout",
     "output_type": "stream",
     "text": [
      " x值: 10.1627652 -- 18.3097348\n",
      "y 值: 11.39820978 -- 21.96944963\n",
      "z 值: 10.32975913 -- 19.539722859999998\n"
     ]
    }
   ],
   "source": [
    "# 原始坐标列表\n",
    "coordinates = origin_cry_xyz\n",
    "\n",
    "\n",
    "\n",
    "# 初始化最大最小值\n",
    "max_x = max_y = max_z = float('-inf')\n",
    "min_x = min_y = min_z = float('inf')\n",
    "\n",
    "new_cry_xyz2 = []\n",
    "\n",
    "# 平移坐标并寻找最大最小值\n",
    "for atom, x, y, z in coordinates:\n",
    "    # 对每个坐标平移\n",
    "    new_x = x + a\n",
    "    new_y = y + b\n",
    "    new_z = z + c\n",
    "    new_cry_xyz2.append([atom,new_y,new_x,new_z])\n",
    "  # 更新最大值\n",
    "    if new_x > max_x:\n",
    "        max_x = new_x\n",
    "    if new_y > max_y:\n",
    "        max_y = new_y\n",
    "    if new_z > max_z:\n",
    "        max_z = new_z\n",
    "    \n",
    "    # 更新最小值\n",
    "    if new_x < min_x:\n",
    "        min_x = new_x\n",
    "    if new_y < min_y:\n",
    "        min_y = new_y\n",
    "    if new_z < min_z:\n",
    "        min_z = new_z\n",
    "\n",
    "# 输出平移后所有原子中最大的和最小的 x, y, z 值\n",
    "print(f\" x值: {min_x} -- {max_x}\")\n",
    "print(f\"y 值: {min_y} -- {max_y}\")\n",
    "print(f\"z 值: {min_z} -- {max_z}\")"
   ]
  },
  {
   "cell_type": "code",
   "execution_count": 18,
   "id": "256b5be2",
   "metadata": {},
   "outputs": [
    {
     "data": {
      "text/plain": [
       "6289"
      ]
     },
     "execution_count": 18,
     "metadata": {},
     "output_type": "execute_result"
    }
   ],
   "source": [
    "(67*67+900+900)"
   ]
  },
  {
   "cell_type": "markdown",
   "id": "752ee8b5",
   "metadata": {},
   "source": [
    "# 玻璃"
   ]
  },
  {
   "cell_type": "code",
   "execution_count": 30,
   "id": "1db5abdc",
   "metadata": {},
   "outputs": [],
   "source": [
    "box_size = [110,60,11.40]\n",
    "cry_range1 = [[69,103],[19,58],[0,11.40]]\n",
    "cry_range2 = [[0,38],[0,33],[0,11.40]]\n",
    "create_dic = {'O':2000,'Si':500,'Al':500,'Li':500}"
   ]
  },
  {
   "cell_type": "code",
   "execution_count": 31,
   "id": "4a88b9c8",
   "metadata": {},
   "outputs": [],
   "source": [
    "import numpy as np\n",
    "import random\n",
    "\n",
    "total_atoms = sum(create_dic.values())\n",
    "\n",
    "# 函数判断位置是否在禁止区域内\n",
    "def in_forbidden_range(x, y, z, cry_range):\n",
    "    return (cry_range[0][0] <= x <= cry_range[0][1] and\n",
    "            cry_range[1][0] <= y <= cry_range[1][1] and\n",
    "            cry_range[2][0] <= z <= cry_range[2][1])\n",
    "\n",
    "# 生成候选坐标\n",
    "def generate_positions(box_size, cry_range1,cry_range2, num_atoms):\n",
    "    positions = []\n",
    "    while len(positions) < num_atoms:\n",
    "        # 随机生成一个坐标 (x, y, z)\n",
    "        x = random.uniform(0, box_size[0])\n",
    "        y = random.uniform(0, box_size[1])\n",
    "        z = random.uniform(0, box_size[2])\n",
    "        \n",
    "        # 检查是否在禁止区域内\n",
    "        if not (in_forbidden_range(x, y, z, cry_range1) or in_forbidden_range(x, y, z, cry_range2)):\n",
    "            positions.append([x, y, z])\n",
    "    \n",
    "    return positions\n",
    "\n",
    "# 生成均匀分布的随机坐标\n",
    "positions = generate_positions(box_size, cry_range1,cry_range2, total_atoms)\n",
    "\n",
    "# 随机分配原子种类\n",
    "atom_types = []\n",
    "for atom, count in create_dic.items():\n",
    "    atom_types += [atom] * count\n",
    "\n",
    "# 打乱原子的顺序\n",
    "random.shuffle(atom_types)\n",
    "\n",
    "glass_xyz = []\n",
    "temp_list = []\n",
    "# 输出原子及其对应的位置\n",
    "for i in range(total_atoms):\n",
    "    atom = atom_types[i]\n",
    "    x, y, z = positions[i]\n",
    "    #print(f\"{atom}: ({x:.2f}, {y:.2f}, {z:.2f})\")\n",
    "    temp = [atom,x,y,z]\n",
    "    glass_xyz.append(temp)\n",
    "    temp_list.append([x,y,z])"
   ]
  },
  {
   "cell_type": "code",
   "execution_count": 9,
   "id": "364c3a04",
   "metadata": {},
   "outputs": [],
   "source": [
    "import numpy as np\n",
    "from scipy.spatial.distance import cdist\n",
    "\n",
    "# 盒子尺寸\n",
    "box_size = np.array(box_size)\n",
    "\n",
    "# 最小距离阈值\n",
    "min_distance = 0.2  # 替换为你的实际最小距离阈值\n",
    "\n",
    "# 计算周期性边界条件下的距离\n",
    "def periodic_distance(p1, p2, box_size):\n",
    "    diff = np.abs(p1 - p2)\n",
    "    diff = np.minimum(diff, box_size - diff)  # 考虑周期性边界\n",
    "    return np.sqrt(np.sum(diff**2))\n",
    "\n",
    "# 检查原子是否距离过近\n",
    "def check_closest_atoms(positions, box_size, min_distance):\n",
    "    num_atoms = len(positions)\n",
    "    for i in range(num_atoms):\n",
    "        for j in range(i + 1, num_atoms):\n",
    "            distance = periodic_distance(positions[i], positions[j], box_size)\n",
    "            if distance < min_distance:\n",
    "                print(f\"原子 {i} 和原子 {j} 之间的距离过近: {distance:.2f}\")\n",
    "\n"
   ]
  },
  {
   "cell_type": "code",
   "execution_count": 23,
   "id": "2c8e8a43",
   "metadata": {},
   "outputs": [
    {
     "name": "stdout",
     "output_type": "stream",
     "text": [
      "原子 270 和原子 3149 之间的距离过近: 0.14\n",
      "原子 383 和原子 2510 之间的距离过近: 0.09\n",
      "原子 732 和原子 978 之间的距离过近: 0.16\n",
      "原子 825 和原子 2749 之间的距离过近: 0.17\n"
     ]
    }
   ],
   "source": [
    "# 原子位置（示例）\n",
    "# 检查原子距离\n",
    "temp_positions = np.array(temp_list)\n",
    "check_closest_atoms(temp_positions, box_size, min_distance)\n"
   ]
  },
  {
   "cell_type": "markdown",
   "id": "df6578d8",
   "metadata": {},
   "source": [
    "import numpy as np\n",
    "\n",
    "# 计算盒子的总体积\n",
    "box_volume = np.prod(box_size)\n",
    "\n",
    "# 计算禁区的体积\n",
    "def calculate_forbidden_volume(cry_range):\n",
    "    x_range = cry_range[0][1] - cry_range[0][0]\n",
    "    y_range = cry_range[1][1] - cry_range[1][0]\n",
    "    z_range = cry_range[2][1] - cry_range[2][0]\n",
    "    return x_range * y_range * z_range\n",
    "\n",
    "forbidden_volume = calculate_forbidden_volume(cry_range)\n",
    "\n",
    "# 计算允许范围的体积\n",
    "allowed_volume = box_volume - forbidden_volume\n",
    "\n",
    "# 计算单个原子的允许体积\n",
    "atom_volume = allowed_volume / total_atoms\n",
    "\n",
    "# 计算单个原子的边长范围\n",
    "atom_edge_length = atom_volume ** (1/3)\n",
    "\n",
    "# 输出结果\n",
    "print(f\"盒子总体积: {box_volume:.4f}\")\n",
    "print(f\"禁区体积: {forbidden_volume:.4f}\")\n",
    "print(f\"允许范围的体积: {allowed_volume:.4f}\")\n",
    "print(f\"单个原子的允许体积: {atom_volume:.4f}\")\n",
    "print(f\"单个原子的边长范围: {atom_edge_length:.4f}\")\n"
   ]
  },
  {
   "cell_type": "markdown",
   "id": "a1f2c1f1",
   "metadata": {},
   "source": [
    "# 组合"
   ]
  },
  {
   "cell_type": "code",
   "execution_count": 32,
   "id": "767bc9ed",
   "metadata": {},
   "outputs": [],
   "source": [
    "all_xyz = glass_xyz +new_cry_xyz1+new_cry_xyz2"
   ]
  },
  {
   "cell_type": "code",
   "execution_count": 33,
   "id": "b172ea63",
   "metadata": {},
   "outputs": [
    {
     "data": {
      "text/plain": [
       "5516"
      ]
     },
     "execution_count": 33,
     "metadata": {},
     "output_type": "execute_result"
    }
   ],
   "source": [
    "len(all_xyz)"
   ]
  },
  {
   "cell_type": "code",
   "execution_count": 34,
   "id": "bddb6390",
   "metadata": {},
   "outputs": [
    {
     "name": "stdout",
     "output_type": "stream",
     "text": [
      "原子 677 和原子 2747 之间的距离过近: 0.17\n",
      "原子 801 和原子 1992 之间的距离过近: 0.14\n",
      "原子 1071 和原子 3390 之间的距离过近: 0.16\n",
      "原子 1604 和原子 2936 之间的距离过近: 0.20\n",
      "原子 1681 和原子 1909 之间的距离过近: 0.11\n",
      "原子 3078 和原子 3092 之间的距离过近: 0.09\n"
     ]
    }
   ],
   "source": [
    "check_list = []\n",
    "for i in all_xyz:\n",
    "    check_list.append(i[1:])\n",
    "\n",
    "temp_positions = np.array(check_list)\n",
    "check_closest_atoms(temp_positions, box_size, min_distance)"
   ]
  },
  {
   "cell_type": "code",
   "execution_count": 14,
   "id": "2fd943bb",
   "metadata": {},
   "outputs": [
    {
     "data": {
      "text/plain": [
       "['O', 56.018307424516784, 41.155975851960136, 2.458323649769725]"
      ]
     },
     "execution_count": 14,
     "metadata": {},
     "output_type": "execute_result"
    }
   ],
   "source": [
    "all_xyz[0]"
   ]
  },
  {
   "cell_type": "code",
   "execution_count": 15,
   "id": "e9301513",
   "metadata": {},
   "outputs": [],
   "source": [
    "ele_dic = {'O':1,'Si':2,'Al':3,'Li':4}"
   ]
  },
  {
   "cell_type": "code",
   "execution_count": 16,
   "id": "fafeef1e",
   "metadata": {},
   "outputs": [
    {
     "data": {
      "text/plain": [
       "2"
      ]
     },
     "execution_count": 16,
     "metadata": {},
     "output_type": "execute_result"
    }
   ],
   "source": [
    "ele_dic[atom]"
   ]
  },
  {
   "cell_type": "code",
   "execution_count": 17,
   "id": "4617bf41",
   "metadata": {},
   "outputs": [],
   "source": [
    "# save_path = r'C:\\Users\\zhang\\Desktop\\corning\\model\\las_model_321.xyz'"
   ]
  },
  {
   "cell_type": "code",
   "execution_count": 35,
   "id": "f843b34d",
   "metadata": {},
   "outputs": [
    {
     "name": "stdout",
     "output_type": "stream",
     "text": [
      "Filtered coordinates saved to C:\\Users\\zhang\\Desktop\\corning\\model\\las_model_2_321.xyz\n"
     ]
    }
   ],
   "source": [
    "# 将坐标写回到xyz文件中\n",
    "def write_xyz_file(filename, coordinates):\n",
    "    with open(filename, 'w') as f:\n",
    "        f.write(f\"{len(coordinates)}\\n\")\n",
    "        f.write(\"Atoms\\n\")\n",
    "        for atom, x, y, z in coordinates:\n",
    "            f.write(f\"{ele_dic[atom]}    {x:.6f}    {y:.6f}    {z:.6f}\\n\")\n",
    "\n",
    "# 使用示例\n",
    "save_path = save_path  # 设置保存文件的路径和文件名\n",
    "write_xyz_file(save_path, all_xyz)\n",
    "print(f\"Filtered coordinates saved to {save_path}\")\n"
   ]
  },
  {
   "cell_type": "code",
   "execution_count": null,
   "id": "90e68b43",
   "metadata": {},
   "outputs": [],
   "source": []
  }
 ],
 "metadata": {
  "kernelspec": {
   "display_name": "Python 3 (ipykernel)",
   "language": "python",
   "name": "python3"
  },
  "language_info": {
   "codemirror_mode": {
    "name": "ipython",
    "version": 3
   },
   "file_extension": ".py",
   "mimetype": "text/x-python",
   "name": "python",
   "nbconvert_exporter": "python",
   "pygments_lexer": "ipython3",
   "version": "3.12.4"
  }
 },
 "nbformat": 4,
 "nbformat_minor": 5
}
