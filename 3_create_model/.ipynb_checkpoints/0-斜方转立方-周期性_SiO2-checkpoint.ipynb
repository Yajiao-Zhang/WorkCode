{
 "cells": [
  {
   "cell_type": "code",
   "execution_count": 1,
   "id": "dbcafbce",
   "metadata": {},
   "outputs": [],
   "source": [
    "import numpy as np\n",
    "import datetime"
   ]
  },
  {
   "cell_type": "code",
   "execution_count": 100,
   "id": "9bffca4f",
   "metadata": {},
   "outputs": [],
   "source": [
    "file_path = r'C:\\Users\\81004\\Desktop\\laso4-ovito.xyz'"
   ]
  },
  {
   "cell_type": "code",
   "execution_count": 102,
   "id": "2d265dd5-cd2e-40a9-9cb2-8646f42fa456",
   "metadata": {},
   "outputs": [],
   "source": [
    "# 输出实时时间\n",
    "def now_time():\n",
    "    # 获取当前时间\n",
    "    current_time = datetime.datetime.now()\n",
    "    # 输出当前时间\n",
    "    print(\"当前时间是:\", current_time)"
   ]
  },
  {
   "cell_type": "markdown",
   "id": "7eda4973",
   "metadata": {},
   "source": [
    "# 晶体"
   ]
  },
  {
   "cell_type": "code",
   "execution_count": 105,
   "id": "2417ac6e",
   "metadata": {},
   "outputs": [],
   "source": [
    "# 读取xyz文件并按照给定条件筛选坐标\n",
    "def read_xyz_file_with_conditions(filename):\n",
    "    coordinates = []\n",
    "    with open(filename, 'r') as f:\n",
    "        lines = f.readlines()\n",
    "        for line in lines[2:]:  # 从第三行开始读取坐标数据\n",
    "            parts = line.split()\n",
    "            if len(parts) >= 4:\n",
    "                atom = parts[0]\n",
    "                #  转换一下单位 \n",
    "                x = float(parts[1])\n",
    "                y = float(parts[2])\n",
    "                z = float(parts[3])\n",
    "                coordinates.append((atom, x, y, z))\n",
    "    return coordinates\n",
    "\n",
    "# 使用示例\n",
    "filename = file_path  # 替换为你的xyz文件名\n",
    "cry_xyz = read_xyz_file_with_conditions(filename)"
   ]
  },
  {
   "cell_type": "code",
   "execution_count": 107,
   "id": "c7baddf9-b6b4-4080-9a6b-dd230096e94f",
   "metadata": {},
   "outputs": [
    {
     "name": "stdout",
     "output_type": "stream",
     "text": [
      "晶体的初始xyz范围：\n",
      "x 值: -20.0734325625 -- 19.8450745012\n",
      "y 值: -9.2715213548 -- 17.6827887711\n",
      "z 值: -11.099709465 -- 21.2621265677\n",
      "晶体的原子数：\n",
      "1890\n",
      "{'O': 1080, 'Si': 270, 'Al': 270, 'Li': 270}\n"
     ]
    }
   ],
   "source": [
    "# 原始坐标列表\n",
    "coordinates = cry_xyz\n",
    "# 晶体中原子的计数\n",
    "num_cry_dic = create_dic = {'O':0,'Si':0,'Al':0,'Li':0}\n",
    "# 平移的距离\n",
    "a, b, c = 0, 0, 0.0  # 替换为你需要的平移值\n",
    "# 初始化最大最小值\n",
    "max_x = max_y = max_z = float('-inf')\n",
    "min_x = min_y = min_z = float('inf')\n",
    "\n",
    "new_cry_xyz = []\n",
    "\n",
    "# 平移坐标并寻找最大最小值\n",
    "for atom, x, y, z in coordinates:\n",
    "    # 对每个坐标平移\n",
    "    new_x = x + a\n",
    "    new_y = y + b\n",
    "    new_z = z + c\n",
    "    new_cry_xyz.append([atom,new_x,new_y,new_z])\n",
    "    # 对晶体在的原子计数\n",
    "    num_cry_dic[atom] += 1\n",
    "    # 更新最大值\n",
    "    if new_x > max_x:\n",
    "        max_x = new_x\n",
    "    if new_y > max_y:\n",
    "        max_y = new_y\n",
    "    if new_z > max_z:\n",
    "        max_z = new_z\n",
    "    \n",
    "    # 更新最小值\n",
    "    if new_x < min_x:\n",
    "        min_x = new_x\n",
    "    if new_y < min_y:\n",
    "        min_y = new_y\n",
    "    if new_z < min_z:\n",
    "        min_z = new_z\n",
    "\n",
    "# 输出平移后所有原子中最大的和最小的 x, y, z 值\n",
    "print(\"晶体的初始xyz范围：\")\n",
    "print(f\"x 值: {min_x} -- {max_x}\")\n",
    "print(f\"y 值: {min_y} -- {max_y}\")\n",
    "print(f\"z 值: {min_z} -- {max_z}\")\n",
    "print(\"晶体的原子数：\")\n",
    "print(len(cry_xyz))\n",
    "print(num_cry_dic)"
   ]
  },
  {
   "cell_type": "markdown",
   "id": "7b34d1c7-8301-477f-ae77-9e83ca3d8f93",
   "metadata": {},
   "source": [
    "charge_dic = {'O':0,'Li':0,'Nb':0}\n",
    "\n",
    "def get_charge(atom_list):\n",
    "    sum_charge = 0\n",
    "    for i_atom in atom_list:\n",
    "        temp_type = i_atom[0]\n",
    "        sum_charge += charge_dic[temp_type]\n",
    "    print('总电荷数： {}'.format(round(sum_charge,1)))\n",
    "# \n",
    "get_charge(new_cry_xyz)"
   ]
  },
  {
   "cell_type": "code",
   "execution_count": 110,
   "id": "535fb930-402d-4693-94e5-945e8e7b96de",
   "metadata": {},
   "outputs": [
    {
     "data": {
      "text/plain": [
       "{'O': 1080, 'Si': 270, 'Al': 270, 'Li': 270}"
      ]
     },
     "execution_count": 110,
     "metadata": {},
     "output_type": "execute_result"
    }
   ],
   "source": [
    "num_cry_dic"
   ]
  },
  {
   "cell_type": "markdown",
   "id": "87d49a16-ca88-450c-825b-4414f104c80c",
   "metadata": {},
   "source": [
    "# 变换坐标"
   ]
  },
  {
   "cell_type": "code",
   "execution_count": 115,
   "id": "5f627699-4f31-4bbd-a29b-d9503eb0b467",
   "metadata": {},
   "outputs": [
    {
     "name": "stdout",
     "output_type": "stream",
     "text": [
      "[26.7646  27.81456 33.2991 ]\n",
      "4.63576\n"
     ]
    }
   ],
   "source": [
    "# 原有等效大小的立方 a b c\n",
    "a = 5.35292\n",
    "b = 4.63576     # np.sin(np.deg2rad(120.0000000000))*10\n",
    "c = 11.0997\n",
    "#########\n",
    "times_a = 5\n",
    "times_b = 6\n",
    "times_c = 3\n",
    "##############\n",
    "len_x,len_y,len_z = a*times_a,b*times_b,c*times_c\n",
    "box_size = np.array([len_x,len_y,len_z])\n",
    "print(box_size)\n",
    "print(b)"
   ]
  },
  {
   "cell_type": "code",
   "execution_count": 117,
   "id": "38735d01-ebf3-40b1-9c53-4da3dfce238d",
   "metadata": {},
   "outputs": [
    {
     "data": {
      "text/plain": [
       "['Li', -5.35291535, -9.2715213548, -9.2497578871]"
      ]
     },
     "execution_count": 117,
     "metadata": {},
     "output_type": "execute_result"
    }
   ],
   "source": [
    "new_cry_xyz[4]"
   ]
  },
  {
   "cell_type": "code",
   "execution_count": 119,
   "id": "45801086-c6ba-4349-8333-2cbb61db0c88",
   "metadata": {},
   "outputs": [
    {
     "data": {
      "text/plain": [
       "14.646376666666669"
      ]
     },
     "execution_count": 119,
     "metadata": {},
     "output_type": "execute_result"
    }
   ],
   "source": [
    "(len_x+len_y+len_z)/3/2"
   ]
  },
  {
   "cell_type": "code",
   "execution_count": 121,
   "id": "b496285c-82d1-443f-a260-6c6f5ccc0ba4",
   "metadata": {},
   "outputs": [
    {
     "name": "stdout",
     "output_type": "stream",
     "text": [
      "将会把接合面转移一半：14.646376666666669\n"
     ]
    }
   ],
   "source": [
    "# 然后变换坐标  让结合面放在四周 而非中间\n",
    "tran_half_d = (len_x+len_y+len_z)/(3*2)\n",
    "print(f'将会把接合面转移一半：{tran_half_d}')\n",
    "#######\n",
    "cube_list = []\n",
    "for i_type,x,y,z in new_cry_xyz:\n",
    "    temp_list = np.array([x,y,z])\n",
    "    temp_list = (temp_list+tran_half_d)%box_size\n",
    "    cube_list.append([i_type,temp_list[0],temp_list[1],temp_list[2]])"
   ]
  },
  {
   "cell_type": "code",
   "execution_count": 123,
   "id": "1c24bc51-a066-422d-b9af-c071e9c49b51",
   "metadata": {},
   "outputs": [
    {
     "data": {
      "text/plain": [
       "['Li', 9.293461316666669, 5.374855311866668, 5.396618779566669]"
      ]
     },
     "execution_count": 123,
     "metadata": {},
     "output_type": "execute_result"
    }
   ],
   "source": [
    "cube_list[4]"
   ]
  },
  {
   "cell_type": "markdown",
   "id": "e71de6a7-cd7d-4725-a3f4-e9d8d9829469",
   "metadata": {},
   "source": [
    "# 当遇到xyz小于0的，先全部给它加上 "
   ]
  },
  {
   "cell_type": "code",
   "execution_count": null,
   "id": "0f430874-defe-4763-b1b2-6e1d1e7198b1",
   "metadata": {},
   "outputs": [],
   "source": []
  },
  {
   "cell_type": "code",
   "execution_count": 127,
   "id": "91f6ca13-ff21-43bb-a11a-49c05c9854d5",
   "metadata": {},
   "outputs": [
    {
     "name": "stdout",
     "output_type": "stream",
     "text": [
      "原来晶体的xyz范围：\n",
      "x 值: 0.1541942654666677 -- 26.69045945416667\n",
      "y 值: 0.7390986988666697 -- 27.693404760266667\n",
      "z 值: 0.7840848032666656 -- 33.14589244206667\n"
     ]
    }
   ],
   "source": [
    "def move_to_0(atom_list):\n",
    "    # 先遍历一边 然后得出xyz的范围\n",
    "    # 原始坐标列表\n",
    "    coordinates = atom_list\n",
    "    # 初始化最大最小值\n",
    "    max_x = max_y = max_z = float('-inf')\n",
    "    min_x = min_y = min_z = float('inf')\n",
    "    # 平移坐标并寻找最大最小值\n",
    "    for atom, new_x, new_y, new_z in coordinates:\n",
    "        # 更新最大值\n",
    "        if new_x > max_x:\n",
    "            max_x = new_x\n",
    "        if new_y > max_y:\n",
    "            max_y = new_y\n",
    "        if new_z > max_z:\n",
    "            max_z = new_z\n",
    "        # 更新最小值\n",
    "        if new_x < min_x:\n",
    "            min_x = new_x\n",
    "        if new_y < min_y:\n",
    "            min_y = new_y\n",
    "        if new_z < min_z:\n",
    "            min_z = new_z\n",
    "    # 找到最值了 然后平移\n",
    "    move_x,move_y,move_z = -min_x,-min_y,-min_z\n",
    "    # 原来数据\n",
    "    print(\"原来晶体的xyz范围：\")\n",
    "    print(f\"x 值: {min_x} -- {max_x}\")\n",
    "    print(f\"y 值: {min_y} -- {max_y}\")\n",
    "    print(f\"z 值: {min_z} -- {max_z}\")\n",
    "# 处理对象\n",
    "\n",
    "move_to_0(cube_list)"
   ]
  },
  {
   "cell_type": "markdown",
   "id": "54061a0b-b513-47bc-a406-862699f5ed38",
   "metadata": {},
   "source": [
    "# 输出"
   ]
  },
  {
   "cell_type": "code",
   "execution_count": 130,
   "id": "32508b89-9a24-4b43-8821-d8718f874727",
   "metadata": {},
   "outputs": [
    {
     "name": "stdout",
     "output_type": "stream",
     "text": [
      "Filtered coordinates saved to C:\\Users\\81004\\Desktop\\laso4_VMD.xyz\n",
      "当前时间是: 2025-01-10 03:26:35.364311\n"
     ]
    }
   ],
   "source": [
    "ele_dic1 = {'O':'O','Si':'Si','Al':'Al','Li':'Li'}\n",
    "# 将坐标写回到xyz文件中\n",
    "def write_xyz_file(filename, coordinates):\n",
    "    with open(filename, 'w') as f:\n",
    "        f.write(f\"{len(coordinates)}\\n\")\n",
    "        f.write(\"Atoms\\n\")\n",
    "        for atom, x, y, z in coordinates:\n",
    "            f.write(f\"{ele_dic1[atom]}    {x:.6f}    {y:.6f}    {z:.6f}\\n\")\n",
    "\n",
    "##########\n",
    "write_list = cube_list\n",
    "save_path =  r'C:\\Users\\81004\\Desktop\\laso4_VMD.xyz'\n",
    "\n",
    "path = save_path\n",
    "############\n",
    "# 使用示例\n",
    "write_xyz_file(path, write_list)\n",
    "print(f\"Filtered coordinates saved to {save_path}\")\n",
    "now_time()"
   ]
  },
  {
   "cell_type": "code",
   "execution_count": 132,
   "id": "ce169418-ddd8-4e43-a223-779c23a9ac97",
   "metadata": {},
   "outputs": [],
   "source": [
    "# 调整元素的顺序 以满足dat文件的要求\n",
    "# 将坐标写回到dat文件中\n",
    "ele_dic = {'O':1,'Si':2,'Al':3,'Li':4}\n",
    "\n",
    "save_path_dat = r'C:\\Users\\81004\\Desktop\\laso4_MD.dat'\n",
    "\n",
    "# 按照元素种类排序\n",
    "sorted_coordinates = sorted(write_list, key=lambda x: ele_dic.get(x[0], float('inf')))"
   ]
  },
  {
   "cell_type": "code",
   "execution_count": 134,
   "id": "ff89437b-d56e-4d03-8731-fb931d4b45d7",
   "metadata": {},
   "outputs": [
    {
     "data": {
      "text/plain": [
       "4"
      ]
     },
     "execution_count": 134,
     "metadata": {},
     "output_type": "execute_result"
    }
   ],
   "source": [
    "len(ele_dic)"
   ]
  },
  {
   "cell_type": "code",
   "execution_count": 136,
   "id": "6427d509-413d-4541-8833-d33c390a64ee",
   "metadata": {},
   "outputs": [
    {
     "data": {
      "text/plain": [
       "85.35"
      ]
     },
     "execution_count": 136,
     "metadata": {},
     "output_type": "execute_result"
    }
   ],
   "source": [
    "8.535*10"
   ]
  },
  {
   "cell_type": "code",
   "execution_count": 138,
   "id": "eb0a1075-0484-40c8-bf4c-7e8a8ca54952",
   "metadata": {},
   "outputs": [
    {
     "data": {
      "text/plain": [
       "83.184"
      ]
     },
     "execution_count": 138,
     "metadata": {},
     "output_type": "execute_result"
    }
   ],
   "source": [
    "5.199*16"
   ]
  },
  {
   "cell_type": "code",
   "execution_count": 140,
   "id": "8941718c-3c9a-4a41-8b00-2aa5103e4b3a",
   "metadata": {},
   "outputs": [
    {
     "data": {
      "text/plain": [
       "80.64000000000001"
      ]
     },
     "execution_count": 140,
     "metadata": {},
     "output_type": "execute_result"
    }
   ],
   "source": [
    "8.96*9"
   ]
  },
  {
   "cell_type": "code",
   "execution_count": 142,
   "id": "39cf8230-0c1a-4837-828d-c36ee4bdfef6",
   "metadata": {},
   "outputs": [
    {
     "name": "stdout",
     "output_type": "stream",
     "text": [
      "Filtered coordinates saved to C:\\Users\\81004\\Desktop\\laso4_MD.dat\n",
      "当前时间是: 2025-01-10 03:26:45.365442\n"
     ]
    }
   ],
   "source": [
    "\n",
    "############\n",
    "def write_dat_file(filename, coordinates):\n",
    "    with open(filename, 'w') as f:\n",
    "        f.write('# Translate data using python code by Yajiao Zhang.\\n')\n",
    "        f.write(f\"{len(cube_list)} atoms \\n\")\n",
    "        f.write(f\"{len(ele_dic)} atom types\\n\")\n",
    "        f.write(f\"    0.000000    {len_x:.6f}  xlo xhi\\n\")\n",
    "        f.write(f\"    0.000000    {len_y:.6f}  ylo yhi\\n\")\n",
    "        f.write(f\"    0.000000    {len_z:.6f}  zlo zhi\\n\")\n",
    "        f.write('    0.000000     0.000000     0.000000 xy xz yz\\n')\n",
    "        f.write('\\n')\n",
    "        f.write(\"Atoms\\n\\n\")\n",
    "        count_num = 1\n",
    "        for atom, x, y, z in coordinates:\n",
    "            \n",
    "            f.write(f\"    {count_num}  {ele_dic[atom]}  0.00   {x:.6f}    {y:.6f}    {z:.6f}\\n\")\n",
    "            count_num+=1\n",
    "##########\n",
    "write_list = cube_list\n",
    "\n",
    "############\n",
    "# 使用示例\n",
    "write_dat_file(save_path_dat, sorted_coordinates)\n",
    "print(f\"Filtered coordinates saved to {save_path_dat}\")\n",
    "now_time()"
   ]
  },
  {
   "cell_type": "code",
   "execution_count": 98,
   "id": "8a6b377d-d52e-4dbf-878f-5d21626aaa4b",
   "metadata": {},
   "outputs": [
    {
     "data": {
      "text/plain": [
       "[['O', 9.630556601333334, 3.832615548833333, 3.9950267610333334],\n",
       " ['O', 5.394330212933333, 8.652143524433335, 3.9950267610333334],\n",
       " ['O', 5.394330212933333, 1.5199065126333338, 5.069461589933333],\n",
       " ['O', 9.630556601333334, 6.339434488333334, 5.069461589933333],\n",
       " ['O', 12.469293676833333, 2.452045180933334, 7.536831349333333],\n",
       " ['O', 8.233067288433332, 7.271573156633334, 7.536831349333333],\n",
       " ['O', 8.233067288433332, 4.7647542171333335, 6.462396520433334],\n",
       " ['O', 12.469293676833333, 9.584282192833333, 6.462396520433334],\n",
       " ['O', 11.183998487333334, 1.6504269136333338, 4.767067450633334],\n",
       " ['O', 6.947772098833333, 6.469954889333334, 4.767067450633334]]"
      ]
     },
     "execution_count": 98,
     "metadata": {},
     "output_type": "execute_result"
    }
   ],
   "source": [
    "sorted_coordinates[:10]"
   ]
  },
  {
   "cell_type": "code",
   "execution_count": null,
   "id": "68ad75cf-f377-46f8-92c2-718e85456d9e",
   "metadata": {},
   "outputs": [],
   "source": []
  },
  {
   "cell_type": "code",
   "execution_count": null,
   "id": "6d2e6e05-6803-4a31-b933-b3c2d531debe",
   "metadata": {},
   "outputs": [],
   "source": []
  },
  {
   "cell_type": "code",
   "execution_count": null,
   "id": "a2de62ed-0be7-4108-879c-403b654228a7",
   "metadata": {},
   "outputs": [],
   "source": []
  },
  {
   "cell_type": "code",
   "execution_count": null,
   "id": "95a29e56-ebf2-4b31-8305-3e059d54ff23",
   "metadata": {},
   "outputs": [],
   "source": []
  },
  {
   "cell_type": "code",
   "execution_count": null,
   "id": "6d4412af-9768-4967-a333-35b2d9976eda",
   "metadata": {},
   "outputs": [],
   "source": []
  },
  {
   "cell_type": "code",
   "execution_count": null,
   "id": "3160c3b0-1c21-4c73-94fd-541d4c8e1bac",
   "metadata": {},
   "outputs": [],
   "source": []
  }
 ],
 "metadata": {
  "kernelspec": {
   "display_name": "Python 3 (ipykernel)",
   "language": "python",
   "name": "python3"
  },
  "language_info": {
   "codemirror_mode": {
    "name": "ipython",
    "version": 3
   },
   "file_extension": ".py",
   "mimetype": "text/x-python",
   "name": "python",
   "nbconvert_exporter": "python",
   "pygments_lexer": "ipython3",
   "version": "3.12.3"
  }
 },
 "nbformat": 4,
 "nbformat_minor": 5
}
