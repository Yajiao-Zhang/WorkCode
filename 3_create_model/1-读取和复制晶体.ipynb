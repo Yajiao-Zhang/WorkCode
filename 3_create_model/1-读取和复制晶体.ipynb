{
 "cells": [
  {
   "cell_type": "code",
   "execution_count": 11,
   "id": "635e1512",
   "metadata": {},
   "outputs": [],
   "source": [
    "file_path = r'E:\\atomsk\\las_superce211.xyz'\n",
    "save_path = r'C:\\Users\\zhang\\Desktop\\corning\\model\\LAS_cry_center.xyz'"
   ]
  },
  {
   "cell_type": "code",
   "execution_count": 12,
   "id": "3c4dce57",
   "metadata": {},
   "outputs": [],
   "source": [
    "# 读取xyz文件并按照给定条件筛选坐标\n",
    "def read_xyz_file_with_conditions(filename):\n",
    "    coordinates = []\n",
    "    with open(filename, 'r') as f:\n",
    "        lines = f.readlines()\n",
    "        for line in lines[2:]:  # 从第三行开始读取坐标数据\n",
    "            parts = line.split()\n",
    "            if len(parts) >= 4:\n",
    "                atom = parts[0]\n",
    "                x = float(parts[1])\n",
    "                y = float(parts[2])\n",
    "                z = float(parts[3])\n",
    "                coordinates.append((atom, x, y, z))\n",
    "    return coordinates\n",
    "\n",
    "# 使用示例\n",
    "filename = file_path  # 替换为你的xyz文件名\n",
    "file_xyz = read_xyz_file_with_conditions(filename)"
   ]
  },
  {
   "cell_type": "code",
   "execution_count": 13,
   "id": "f2144ee9",
   "metadata": {},
   "outputs": [
    {
     "data": {
      "text/plain": [
       "('O', 7.97276738, 6.47686515, 6.79233949)"
      ]
     },
     "execution_count": 13,
     "metadata": {},
     "output_type": "execute_result"
    }
   ],
   "source": [
    "file_xyz[0]"
   ]
  },
  {
   "cell_type": "code",
   "execution_count": 14,
   "id": "61414561",
   "metadata": {},
   "outputs": [
    {
     "name": "stdout",
     "output_type": "stream",
     "text": [
      "最大 x 值: 21.1802\n",
      "最大 y 值: 18.3425\n",
      "最大 z 值: 11.31381221\n"
     ]
    }
   ],
   "source": [
    "# 假设你的列表如下\n",
    "coordinates = file_xyz\n",
    "\n",
    "# 初始化 x, y, z 的最大值\n",
    "max_x = max_y = max_z = float('-inf')\n",
    "\n",
    "# 遍历列表，寻找最大的 x, y, z\n",
    "for atom, x, y, z in coordinates:\n",
    "    if x > max_x:\n",
    "        max_x = x\n",
    "    if y > max_y:\n",
    "        max_y = y\n",
    "    if z > max_z:\n",
    "        max_z = z\n",
    "\n",
    "# 输出最大值\n",
    "print(f\"最大 x 值: {max_x}\")\n",
    "print(f\"最大 y 值: {max_y}\")\n",
    "print(f\"最大 z 值: {max_z}\")"
   ]
  },
  {
   "cell_type": "code",
   "execution_count": 10,
   "id": "248f6afe",
   "metadata": {},
   "outputs": [
    {
     "data": {
      "text/plain": [
       "56.7626637852735"
      ]
     },
     "execution_count": 10,
     "metadata": {},
     "output_type": "execute_result"
    }
   ],
   "source": [
    "(60*60-21*18)**0.5"
   ]
  },
  {
   "cell_type": "code",
   "execution_count": 17,
   "id": "77845a2d",
   "metadata": {},
   "outputs": [
    {
     "name": "stdout",
     "output_type": "stream",
     "text": [
      "最大 x 值: 42.6802\n",
      "最小 x 值: 21.5\n",
      "最大 y 值: 39.1425\n",
      "最小 y 值: 20.8\n",
      "最大 z 值: 11.31381221\n",
      "最小 z 值: 0.0\n"
     ]
    }
   ],
   "source": [
    "# 原始坐标列表\n",
    "coordinates = file_xyz\n",
    "\n",
    "# 平移的距离\n",
    "a, b, c = 21.5, 20.8, 0.0  # 替换为你需要的平移值\n",
    "\n",
    "# 初始化最大最小值\n",
    "max_x = max_y = max_z = float('-inf')\n",
    "min_x = min_y = min_z = float('inf')\n",
    "\n",
    "# 平移坐标并寻找最大最小值\n",
    "for atom, x, y, z in coordinates:\n",
    "    # 对每个坐标平移\n",
    "    new_x = x + a\n",
    "    new_y = y + b\n",
    "    new_z = z + c\n",
    "    \n",
    "    # 更新最大值\n",
    "    if new_x > max_x:\n",
    "        max_x = new_x\n",
    "    if new_y > max_y:\n",
    "        max_y = new_y\n",
    "    if new_z > max_z:\n",
    "        max_z = new_z\n",
    "    \n",
    "    # 更新最小值\n",
    "    if new_x < min_x:\n",
    "        min_x = new_x\n",
    "    if new_y < min_y:\n",
    "        min_y = new_y\n",
    "    if new_z < min_z:\n",
    "        min_z = new_z\n",
    "\n",
    "# 输出平移后所有原子中最大的和最小的 x, y, z 值\n",
    "print(f\"最大 x 值: {max_x}\")\n",
    "print(f\"最小 x 值: {min_x}\")\n",
    "print(f\"最大 y 值: {max_y}\")\n",
    "print(f\"最小 y 值: {min_y}\")\n",
    "print(f\"最大 z 值: {max_z}\")\n",
    "print(f\"最小 z 值: {min_z}\")\n"
   ]
  },
  {
   "cell_type": "code",
   "execution_count": null,
   "id": "4da2ad0c",
   "metadata": {},
   "outputs": [],
   "source": [
    "[21,43],[20,40]"
   ]
  },
  {
   "cell_type": "code",
   "execution_count": null,
   "id": "84fd94fc",
   "metadata": {},
   "outputs": [],
   "source": []
  },
  {
   "cell_type": "code",
   "execution_count": null,
   "id": "1256a56c",
   "metadata": {},
   "outputs": [],
   "source": []
  },
  {
   "cell_type": "markdown",
   "id": "6af1f4f7",
   "metadata": {},
   "source": [
    "# 存储"
   ]
  },
  {
   "cell_type": "code",
   "execution_count": 21,
   "id": "c70c95c2",
   "metadata": {},
   "outputs": [],
   "source": [
    "save_path = r'C:\\Users\\zhang\\Desktop\\corning\\model\\las_y.xyz'"
   ]
  },
  {
   "cell_type": "code",
   "execution_count": 22,
   "id": "ce92742f",
   "metadata": {},
   "outputs": [
    {
     "name": "stdout",
     "output_type": "stream",
     "text": [
      "Filtered coordinates saved to C:\\Users\\zhang\\Desktop\\corning\\model\\las_y.xyz\n"
     ]
    }
   ],
   "source": [
    "ele_dic = {'O':1,'Si':2,'Al':3,'Li':4}\n",
    "# 将坐标写回到xyz文件中\n",
    "def write_xyz_file(filename, coordinates):\n",
    "    with open(filename, 'w') as f:\n",
    "        f.write(f\"{len(coordinates)}\\n\")\n",
    "        f.write(\"Atoms\\n\")\n",
    "        for atom, x, y, z in coordinates:\n",
    "            f.write(f\"{ele_dic[atom]}    {y:.6f}    {x:.6f}    {z:.6f}\\n\")\n",
    "\n",
    "# 使用示例\n",
    "save_path = save_path  # 设置保存文件的路径和文件名\n",
    "write_xyz_file(save_path, file_xyz)\n",
    "print(f\"Filtered coordinates saved to {save_path}\")\n"
   ]
  },
  {
   "cell_type": "code",
   "execution_count": null,
   "id": "4723f707",
   "metadata": {},
   "outputs": [],
   "source": []
  },
  {
   "cell_type": "code",
   "execution_count": 24,
   "id": "e1e671c2",
   "metadata": {},
   "outputs": [
    {
     "data": {
      "text/plain": [
       "1008"
      ]
     },
     "execution_count": 24,
     "metadata": {},
     "output_type": "execute_result"
    }
   ],
   "source": [
    "168*6"
   ]
  },
  {
   "cell_type": "code",
   "execution_count": null,
   "id": "0e0530f0",
   "metadata": {},
   "outputs": [],
   "source": []
  }
 ],
 "metadata": {
  "kernelspec": {
   "display_name": "Python 3 (ipykernel)",
   "language": "python",
   "name": "python3"
  },
  "language_info": {
   "codemirror_mode": {
    "name": "ipython",
    "version": 3
   },
   "file_extension": ".py",
   "mimetype": "text/x-python",
   "name": "python",
   "nbconvert_exporter": "python",
   "pygments_lexer": "ipython3",
   "version": "3.10.6"
  }
 },
 "nbformat": 4,
 "nbformat_minor": 5
}
