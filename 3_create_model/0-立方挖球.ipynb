{
 "cells": [
  {
   "cell_type": "code",
   "execution_count": 54,
   "id": "dbcafbce",
   "metadata": {},
   "outputs": [],
   "source": [
    "import numpy as np"
   ]
  },
  {
   "cell_type": "code",
   "execution_count": 56,
   "id": "9bffca4f",
   "metadata": {},
   "outputs": [],
   "source": [
    "file_path = r'D:\\Atomsk\\las_cif\\las2o6_c_0.xyz'\n",
    "save_path = r'D:\\Atomsk\\las_cif\\lasp_inp_box54.dat'"
   ]
  },
  {
   "cell_type": "code",
   "execution_count": 58,
   "id": "17710c59-804a-4dbf-8c7c-adac51369777",
   "metadata": {},
   "outputs": [],
   "source": [
    "# 参数\n",
    "interval_dis = 1.0\n"
   ]
  },
  {
   "cell_type": "markdown",
   "id": "7eda4973",
   "metadata": {},
   "source": [
    "# 晶体"
   ]
  },
  {
   "cell_type": "code",
   "execution_count": 61,
   "id": "2417ac6e",
   "metadata": {},
   "outputs": [],
   "source": [
    "# 读取xyz文件并按照给定条件筛选坐标\n",
    "def read_xyz_file_with_conditions(filename):\n",
    "    coordinates = []\n",
    "    with open(filename, 'r') as f:\n",
    "        lines = f.readlines()\n",
    "        for line in lines[2:]:  # 从第三行开始读取坐标数据\n",
    "            parts = line.split()\n",
    "            if len(parts) >= 4:\n",
    "                atom = parts[0]\n",
    "                #  转换一下单位 \n",
    "                x = float(parts[1])\n",
    "                y = float(parts[2])\n",
    "                z = float(parts[3])\n",
    "                coordinates.append((atom, x, y, z))\n",
    "    return coordinates\n",
    "\n",
    "# 使用示例\n",
    "filename = file_path  # 替换为你的xyz文件名\n",
    "cry_xyz = read_xyz_file_with_conditions(filename)"
   ]
  },
  {
   "cell_type": "code",
   "execution_count": 63,
   "id": "c7baddf9-b6b4-4080-9a6b-dd230096e94f",
   "metadata": {},
   "outputs": [
    {
     "name": "stdout",
     "output_type": "stream",
     "text": [
      "晶体的初始xyz范围：\n",
      "x 值: -8.3096886899 -- 16.7821414668\n",
      "y 值: -11.0372639538 -- 21.47911941\n",
      "z 值: -4.6049828094 -- 9.5397223282\n",
      "晶体的原子数：\n",
      "1080\n",
      "{'O': 648, 'Si': 216, 'Al': 108, 'Li': 108}\n"
     ]
    }
   ],
   "source": [
    "# 原始坐标列表\n",
    "coordinates = cry_xyz\n",
    "# 晶体中原子的计数\n",
    "num_cry_dic = create_dic = {'O':0,'Si':0,'Al':0,'Li':0}\n",
    "# 平移的距离\n",
    "a, b, c = 0, 0, 0.0  # 替换为你需要的平移值\n",
    "# 初始化最大最小值\n",
    "max_x = max_y = max_z = float('-inf')\n",
    "min_x = min_y = min_z = float('inf')\n",
    "\n",
    "new_cry_xyz = []\n",
    "\n",
    "# 平移坐标并寻找最大最小值\n",
    "for atom, x, y, z in coordinates:\n",
    "    # 对每个坐标平移\n",
    "    new_x = x + a\n",
    "    new_y = y + b\n",
    "    new_z = z + c\n",
    "    new_cry_xyz.append([atom,new_x,new_y,new_z])\n",
    "    # 对晶体在的原子计数\n",
    "    num_cry_dic[atom] += 1\n",
    "    # 更新最大值\n",
    "    if new_x > max_x:\n",
    "        max_x = new_x\n",
    "    if new_y > max_y:\n",
    "        max_y = new_y\n",
    "    if new_z > max_z:\n",
    "        max_z = new_z\n",
    "    \n",
    "    # 更新最小值\n",
    "    if new_x < min_x:\n",
    "        min_x = new_x\n",
    "    if new_y < min_y:\n",
    "        min_y = new_y\n",
    "    if new_z < min_z:\n",
    "        min_z = new_z\n",
    "\n",
    "# 输出平移后所有原子中最大的和最小的 x, y, z 值\n",
    "print(\"晶体的初始xyz范围：\")\n",
    "print(f\"x 值: {min_x} -- {max_x}\")\n",
    "print(f\"y 值: {min_y} -- {max_y}\")\n",
    "print(f\"z 值: {min_z} -- {max_z}\")\n",
    "print(\"晶体的原子数：\")\n",
    "print(len(cry_xyz))\n",
    "print(num_cry_dic)"
   ]
  },
  {
   "cell_type": "code",
   "execution_count": 65,
   "id": "12ee821b-9683-4b12-90b5-12ac5124a242",
   "metadata": {},
   "outputs": [
    {
     "name": "stdout",
     "output_type": "stream",
     "text": [
      "总电荷数： -0.0\n"
     ]
    }
   ],
   "source": [
    "is_charge = 1\n",
    "charge_balance_dic = {'O':0,'Si':0,'Al':0,'Li':0}\n",
    "sum_charge = 0\n",
    "charge_dic = {'O':-1.2,'Si':2.4,'Al':1.8,'Li':0.6}\n",
    "for i in num_cry_dic:\n",
    "    sum_charge += (num_cry_dic[i] + charge_balance_dic[i] )*charge_dic[i]\n",
    "print('总电荷数： {}'.format(round(sum_charge,1)))"
   ]
  },
  {
   "cell_type": "markdown",
   "id": "e71de6a7-cd7d-4725-a3f4-e9d8d9829469",
   "metadata": {},
   "source": [
    "# 当遇到xyz小于0的，先全部给它加上 "
   ]
  },
  {
   "cell_type": "code",
   "execution_count": 15,
   "id": "91f6ca13-ff21-43bb-a11a-49c05c9854d5",
   "metadata": {},
   "outputs": [],
   "source": [
    "# 只有确实是有小于O的部分才会执行 或者取值范围不为0-x的方向\n",
    "if min_x!=0 or min_y!=0 or min_z!=0:\n",
    "    # 原始坐标列表\n",
    "    coordinates = cry_xyz\n",
    "    # 平移的距离\n",
    "    a, b, c = 0,0,0\n",
    "    if min_x!=0:\n",
    "        a=-min_x\n",
    "    if min_y!=0:\n",
    "        b = -min_y\n",
    "    if min_z!=0:\n",
    "        \n",
    "        c = -min_z\n",
    "    # 替换为你需要的平移值\n",
    "    # 初始化最大最小值\n",
    "    max_x = max_y = max_z = float('-inf')\n",
    "    min_x = min_y = min_z = float('inf')\n",
    "    \n",
    "    new_cry_xyz = []\n",
    "    \n",
    "    # 平移坐标并寻找最大最小值\n",
    "    for atom, x, y, z in coordinates:\n",
    "        # 对每个坐标平移\n",
    "        new_x = x + a\n",
    "        new_y = y + b\n",
    "        new_z = z + c\n",
    "        new_cry_xyz.append([atom,new_x,new_y,new_z])\n",
    "        # 更新最大值\n",
    "        if new_x > max_x:\n",
    "            max_x = new_x\n",
    "        if new_y > max_y:\n",
    "            max_y = new_y\n",
    "        if new_z > max_z:\n",
    "            max_z = new_z\n",
    "        \n",
    "        # 更新最小值\n",
    "        if new_x < min_x:\n",
    "            min_x = new_x\n",
    "        if new_y < min_y:\n",
    "            min_y = new_y\n",
    "        if new_z < min_z:\n",
    "            min_z = new_z\n",
    "\n",
    "    min_a,min_b,min_c = min_x,min_y,min_z\n",
    "    max_a,max_b,max_c = max_x,max_y,max_z\n",
    "    # 输出平移后所有原子中最大的和最小的 x, y, z 值\n",
    "    print(\"修正过后的晶体的xyz范围：\")\n",
    "    print(f\"x 值: {min_a} -- {max_a}\")\n",
    "    print(f\"y 值: {min_b} -- {max_b}\")\n",
    "    print(f\"z 值: {min_c} -- {max_c}\")"
   ]
  },
  {
   "cell_type": "code",
   "execution_count": null,
   "id": "ac00c7e5-bfbe-4173-8bb2-43b16f494752",
   "metadata": {},
   "outputs": [],
   "source": []
  },
  {
   "cell_type": "code",
   "execution_count": 18,
   "id": "7df65449-4b98-4187-b9c0-d8c4176667bd",
   "metadata": {},
   "outputs": [
    {
     "name": "stdout",
     "output_type": "stream",
     "text": [
      "x 值: 0.0 -- 52.89728751\n",
      "y 值: 0.0 -- 55.0635\n",
      "z 值: 0.0 -- 56.86861427\n"
     ]
    }
   ],
   "source": [
    "print(f\"x 值: {min_x} -- {max_x}\")\n",
    "print(f\"y 值: {min_y} -- {max_y}\")\n",
    "print(f\"z 值: {min_z} -- {max_z}\")"
   ]
  },
  {
   "cell_type": "code",
   "execution_count": 20,
   "id": "620cd1d8-eb48-420d-b20a-8e9319f9593b",
   "metadata": {},
   "outputs": [
    {
     "data": {
      "text/plain": [
       "'\\n#LAMMPS data file transformed from *.xyz file\\n9213 atoms\\n4 atom types\\n    0.000000    46.100000 xlo xhi\\n    0.000000    46.100000 ylo yhi\\n    0.000000    46.100000 zlo zhi\\n    0.000000     0.000000     0.000000 xy xz yz\\n\\nAtoms\\n\\n      1 1  0.00    36.678737     2.066764    41.325880\\n      2 1  0.00     1.221441     3.114431     0.279197\\n      3 1  0.00    32.759957    19.543366     2.110140\\n      4 1  0.00    17.250993     4.961661     8.228568\\n\\n'"
      ]
     },
     "execution_count": 20,
     "metadata": {},
     "output_type": "execute_result"
    }
   ],
   "source": [
    "\"\"\"\n",
    "#LAMMPS data file transformed from *.xyz file\n",
    "9213 atoms\n",
    "4 atom types\n",
    "    0.000000    46.100000 xlo xhi\n",
    "    0.000000    46.100000 ylo yhi\n",
    "    0.000000    46.100000 zlo zhi\n",
    "    0.000000     0.000000     0.000000 xy xz yz\n",
    "\n",
    "Atoms\n",
    "\n",
    "      1 1  0.00    36.678737     2.066764    41.325880\n",
    "      2 1  0.00     1.221441     3.114431     0.279197\n",
    "      3 1  0.00    32.759957    19.543366     2.110140\n",
    "      4 1  0.00    17.250993     4.961661     8.228568\n",
    "\n",
    "\"\"\""
   ]
  },
  {
   "cell_type": "code",
   "execution_count": 22,
   "id": "3305fbbd-afa8-49aa-b640-e8d1fc97620e",
   "metadata": {},
   "outputs": [],
   "source": [
    "# 直接输出dat文件  "
   ]
  },
  {
   "cell_type": "code",
   "execution_count": null,
   "id": "32508b89-9a24-4b43-8821-d8718f874727",
   "metadata": {},
   "outputs": [],
   "source": []
  },
  {
   "cell_type": "code",
   "execution_count": 43,
   "id": "39cf8230-0c1a-4837-828d-c36ee4bdfef6",
   "metadata": {},
   "outputs": [
    {
     "name": "stdout",
     "output_type": "stream",
     "text": [
      "Filtered coordinates saved to D:\\Atomsk\\las_cif\\lasp_inp_box54.dat\n"
     ]
    }
   ],
   "source": [
    "\n",
    "ele_dic = {'O':1,'Si':2,'Al':3,'Li':4}\n",
    "# 将坐标写回到dat文件中\n",
    "\n",
    "def write_dat_file(filename, coordinates):\n",
    "    with open(filename, 'w') as f:\n",
    "        f.write('# Translate data using python code by Yajiao Zhang.\\n')\n",
    "        f.write(f\"{len(coordinates)} atoms \\n\")\n",
    "        f.write(\"4 atom types\\n\")\n",
    "        f.write(f\"    0.000000    {max_x:.6f}  xlo xhi\\n\")\n",
    "        f.write(f\"    0.000000    {max_y:.6f}  ylo yhi\\n\")\n",
    "        f.write(f\"    0.000000    {max_z:.6f}  zlo zhi\\n\")\n",
    "        f.write('    0.000000     0.000000     0.000000 xy xz yz\\n')\n",
    "        f.write('\\n')\n",
    "        f.write(\"Atoms\\n\\n\")\n",
    "        count_num = 1\n",
    "        for atom, x, y, z in coordinates:\n",
    "            \n",
    "            f.write(f\"    {count_num}  {ele_dic[atom]}  0.00   {x:.6f}    {y:.6f}    {z:.6f}\\n\")\n",
    "            count_num+=1\n",
    "\n",
    "# 使用示例\n",
    "save_path = save_path  # 设置保存文件的路径和文件名\n",
    "write_dat_file(save_path, new_cry_xyz)\n",
    "print(f\"Filtered coordinates saved to {save_path}\")\n"
   ]
  },
  {
   "cell_type": "raw",
   "id": "29cba4fc-90e2-401c-abec-9ea0613ca4dd",
   "metadata": {},
   "source": [
    "\n",
    "ele_dic = {'O':1,'Si':2,'Al':3,'Li':4}\n",
    "# 将坐标写回到xyz文件中\n",
    "def write_xyz_file(filename, coordinates):\n",
    "    with open(filename, 'w') as f:\n",
    "        f.write(f\"{len(coordinates)}\\n\")\n",
    "        f.write(\"Atoms\\n\")\n",
    "        for atom, x, y, z in coordinates:\n",
    "            f.write(f\"{ele_dic[atom]}    {x:.6f}    {y:.6f}    {z:.6f}\\n\")\n",
    "\n",
    "# 使用示例\n",
    "save_path = save_path  # 设置保存文件的路径和文件名\n",
    "write_xyz_file(save_path, new_cry_xyz)\n",
    "print(f\"Filtered coordinates saved to {save_path}\")\n"
   ]
  },
  {
   "cell_type": "code",
   "execution_count": 24,
   "id": "90e68b43",
   "metadata": {},
   "outputs": [
    {
     "name": "stdout",
     "output_type": "stream",
     "text": [
      "Filtered coordinates saved to D:\\MD_file\\Corning\\las2o6\\1012_cube\\lasp_inp.region\n"
     ]
    }
   ],
   "source": [
    "# 将lmp文件写进las_112.region\n",
    "def write_xyz_file(filename, coordinates):\n",
    "    with open(filename, 'w') as f:\n",
    "        f.write(\"region box_region block {} {} {} {} {} {}\\n\\n\".format(0, len_box, 0, len_box, 0, len_box))\n",
    "        f.write(\"region cry_region block {} {} {} {} {} {}\\n\\n\".format(low_x, high_x, low_y, high_y,low_z, high_z))\n",
    "        f.write(\"group all_atoms region box_region\\n\\n\")\n",
    "        f.write(\"group cry_group region cry_region\\n\\n\")\n",
    "        f.write(\"group glass_group subtract all_atoms cry_group\\n\")\n",
    "# 使用示例\n",
    "save_path = save_region  # 设置保存文件的路径和文件名\n",
    "write_xyz_file(save_path, all_xyz)\n",
    "print(f\"Filtered coordinates saved to {save_path}\")\n"
   ]
  },
  {
   "cell_type": "code",
   "execution_count": null,
   "id": "68ad75cf-f377-46f8-92c2-718e85456d9e",
   "metadata": {},
   "outputs": [],
   "source": []
  },
  {
   "cell_type": "code",
   "execution_count": null,
   "id": "6d2e6e05-6803-4a31-b933-b3c2d531debe",
   "metadata": {},
   "outputs": [],
   "source": []
  },
  {
   "cell_type": "code",
   "execution_count": null,
   "id": "a2de62ed-0be7-4108-879c-403b654228a7",
   "metadata": {},
   "outputs": [],
   "source": []
  },
  {
   "cell_type": "code",
   "execution_count": null,
   "id": "95a29e56-ebf2-4b31-8305-3e059d54ff23",
   "metadata": {},
   "outputs": [],
   "source": []
  },
  {
   "cell_type": "code",
   "execution_count": null,
   "id": "6d4412af-9768-4967-a333-35b2d9976eda",
   "metadata": {},
   "outputs": [],
   "source": []
  },
  {
   "cell_type": "code",
   "execution_count": null,
   "id": "3160c3b0-1c21-4c73-94fd-541d4c8e1bac",
   "metadata": {},
   "outputs": [],
   "source": []
  }
 ],
 "metadata": {
  "kernelspec": {
   "display_name": "Python 3 (ipykernel)",
   "language": "python",
   "name": "python3"
  },
  "language_info": {
   "codemirror_mode": {
    "name": "ipython",
    "version": 3
   },
   "file_extension": ".py",
   "mimetype": "text/x-python",
   "name": "python",
   "nbconvert_exporter": "python",
   "pygments_lexer": "ipython3",
   "version": "3.12.3"
  }
 },
 "nbformat": 4,
 "nbformat_minor": 5
}
