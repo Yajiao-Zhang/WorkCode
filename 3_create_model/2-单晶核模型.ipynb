{
 "cells": [
  {
   "cell_type": "code",
   "execution_count": 1,
   "id": "dbcafbce",
   "metadata": {},
   "outputs": [],
   "source": [
    "import numpy as np"
   ]
  },
  {
   "cell_type": "code",
   "execution_count": 31,
   "id": "9bffca4f",
   "metadata": {},
   "outputs": [],
   "source": [
    "file_path = r'D:\\Atomsk\\las_cif\\las2o6_c_temp.xyz'\n",
    "save_path = r'D:\\MD_file\\Corning\\las2o6\\1004_model\\lasp_inp.xyz'\n",
    "save_region = r'D:\\MD_file\\Corning\\las2o6\\1004_model\\lasp_inp.region'"
   ]
  },
  {
   "cell_type": "markdown",
   "id": "7eda4973",
   "metadata": {},
   "source": [
    "# 晶体"
   ]
  },
  {
   "cell_type": "code",
   "execution_count": 34,
   "id": "2417ac6e",
   "metadata": {},
   "outputs": [],
   "source": [
    "# 读取xyz文件并按照给定条件筛选坐标\n",
    "def read_xyz_file_with_conditions(filename):\n",
    "    coordinates = []\n",
    "    with open(filename, 'r') as f:\n",
    "        lines = f.readlines()\n",
    "        for line in lines[2:]:  # 从第三行开始读取坐标数据\n",
    "            parts = line.split()\n",
    "            if len(parts) >= 4:\n",
    "                atom = parts[0]\n",
    "                x = float(parts[1])\n",
    "                y = float(parts[2])\n",
    "                z = float(parts[3])\n",
    "                coordinates.append((atom, x, y, z))\n",
    "    return coordinates\n",
    "\n",
    "# 使用示例\n",
    "filename = file_path  # 替换为你的xyz文件名\n",
    "cry_xyz = read_xyz_file_with_conditions(filename)"
   ]
  },
  {
   "cell_type": "code",
   "execution_count": 36,
   "id": "4f75f24b",
   "metadata": {},
   "outputs": [
    {
     "name": "stdout",
     "output_type": "stream",
     "text": [
      "x 值: 0.162765 -- 8.309735\n",
      "y 值: 0.00133 -- 9.632507\n",
      "z 值: 0.329764 -- 99.968846\n",
      "{'O': 486, 'Si': 164, 'Al': 82, 'Li': 82}\n",
      "晶体中原子总数：814\n"
     ]
    }
   ],
   "source": [
    "# 原始坐标列表\n",
    "coordinates = cry_xyz\n",
    "# 晶体中原子的计数\n",
    "num_cry_dic = create_dic = {'O':0,'Si':0,'Al':0,'Li':0}\n",
    "# 平移的距离\n",
    "a, b, c = 0, 0, 0.0  # 替换为你需要的平移值\n",
    "# 初始化最大最小值\n",
    "max_x = max_y = max_z = float('-inf')\n",
    "min_x = min_y = min_z = float('inf')\n",
    "\n",
    "new_cry_xyz = []\n",
    "\n",
    "# 平移坐标并寻找最大最小值\n",
    "for atom, x, y, z in coordinates:\n",
    "    # 对每个坐标平移\n",
    "    new_x = x + a\n",
    "    new_y = y + b\n",
    "    new_z = z + c\n",
    "    new_cry_xyz.append([atom,new_x,new_y,new_z])\n",
    "    # 对晶体在的原子计数\n",
    "    num_cry_dic[atom] += 1\n",
    "    # 更新最大值\n",
    "    if new_x > max_x:\n",
    "        max_x = new_x\n",
    "    if new_y > max_y:\n",
    "        max_y = new_y\n",
    "    if new_z > max_z:\n",
    "        max_z = new_z\n",
    "    \n",
    "    # 更新最小值\n",
    "    if new_x < min_x:\n",
    "        min_x = new_x\n",
    "    if new_y < min_y:\n",
    "        min_y = new_y\n",
    "    if new_z < min_z:\n",
    "        min_z = new_z\n",
    "\n",
    "# 输出平移后所有原子中最大的和最小的 x, y, z 值\n",
    "print(f\"x 值: {min_x} -- {max_x}\")\n",
    "print(f\"y 值: {min_y} -- {max_y}\")\n",
    "print(f\"z 值: {min_z} -- {max_z}\")\n",
    "print(num_cry_dic)\n",
    "num_temp = 0 \n",
    "for i in num_cry_dic:\n",
    "    num_temp+=num_cry_dic[i]\n",
    "print(\"晶体中原子总数：{}\".format(num_temp))"
   ]
  },
  {
   "cell_type": "code",
   "execution_count": 23,
   "id": "81240519-ec32-4b4f-b019-b2efb8dbec13",
   "metadata": {},
   "outputs": [
    {
     "name": "stdout",
     "output_type": "stream",
     "text": [
      "inf -inf\n"
     ]
    }
   ],
   "source": [
    "v_5k_atom = 40.8*40.8*40.8\n",
    "len_box = round((v_5k_atom + (max_x-min_x)*(max_y-min_y)*(max_z-min_z))**0.5+0.1,1)\n",
    "thickness = round(max_z-min_z+0.1,1)\n",
    "print(len_box,thickness)"
   ]
  },
  {
   "cell_type": "code",
   "execution_count": 62,
   "id": "1db5abdc",
   "metadata": {},
   "outputs": [
    {
     "name": "stdout",
     "output_type": "stream",
     "text": [
      "9720\n",
      "[402.6, 402.6, 1198.6]\n",
      "[[195.7, 207.0], [195.0, 207.6], [0, 1198.6]]\n",
      "{'O': 3048, 'Si': 1016, 'Al': 508, 'Li': 508}\n"
     ]
    }
   ],
   "source": [
    "box_size = [len_box,len_box,thickness]\n",
    "low_x, high_x = round(0.5*len_box - (max_x-min_x)*0.5-1.5,1), round(0.5*len_box - (max_x-min_x)*0.5+max_x+ 1.5,1)\n",
    "low_y, high_y = round(0.5*len_box - (max_y-min_y)*0.5-1.5,1), round(0.5*len_box - (max_y-min_y)*0.5+max_y+ 1.5,1)\n",
    "cry_range = [[low_x,high_x],[low_y,high_y],[0,thickness]]\n",
    "create_dic = {'O':3000+48,'Si':1000+16,'Al':500+8,'Li':500+8}\n",
    "print(len(cry_xyz))\n",
    "print(box_size)\n",
    "print(cry_range)\n",
    "print(create_dic)"
   ]
  },
  {
   "cell_type": "code",
   "execution_count": 64,
   "id": "fa9cc84d-c133-4485-9b37-5f4282330a67",
   "metadata": {},
   "outputs": [
    {
     "name": "stdout",
     "output_type": "stream",
     "text": [
      "{'O': -2784, 'Si': -928, 'Al': -464, 'Li': -464}\n"
     ]
    }
   ],
   "source": [
    "# 算一下新的组成的原子数\n",
    "for i in create_dic:\n",
    "    create_dic[i] = create_dic[i]-num_cry_dic[i]\n",
    "print(create_dic)"
   ]
  },
  {
   "cell_type": "code",
   "execution_count": 66,
   "id": "43140a72-e166-4dcd-884c-bafb62f9665d",
   "metadata": {},
   "outputs": [
    {
     "name": "stdout",
     "output_type": "stream",
     "text": [
      "x 值: 197.38928040000002 -- 205.53625000000002\n",
      "y 值: 196.48308630000002 -- 206.11957410000002\n",
      "z 值: 0.32976397 -- 1198.81193603\n",
      "[[195.7, 207.0], [195.0, 207.6], [0, 1198.6]]\n"
     ]
    }
   ],
   "source": [
    "# 原始坐标列表\n",
    "coordinates = cry_xyz\n",
    "# 平移的距离\n",
    "a, b, c = 0.5*len_box - (max_x-min_x)*0.5, 0.5*len_box - (max_y-min_y)*0.5, 0.0  # 替换为你需要的平移值\n",
    "# 初始化最大最小值\n",
    "max_x = max_y = max_z = float('-inf')\n",
    "min_x = min_y = min_z = float('inf')\n",
    "\n",
    "new_cry_xyz = []\n",
    "\n",
    "# 平移坐标并寻找最大最小值\n",
    "for atom, x, y, z in coordinates:\n",
    "    # 对每个坐标平移\n",
    "    new_x = x + a\n",
    "    new_y = y + b\n",
    "    new_z = z + c\n",
    "    new_cry_xyz.append([atom,new_x,new_y,new_z])\n",
    "    # 更新最大值\n",
    "    if new_x > max_x:\n",
    "        max_x = new_x\n",
    "    if new_y > max_y:\n",
    "        max_y = new_y\n",
    "    if new_z > max_z:\n",
    "        max_z = new_z\n",
    "    \n",
    "    # 更新最小值\n",
    "    if new_x < min_x:\n",
    "        min_x = new_x\n",
    "    if new_y < min_y:\n",
    "        min_y = new_y\n",
    "    if new_z < min_z:\n",
    "        min_z = new_z\n",
    "\n",
    "# 输出平移后所有原子中最大的和最小的 x, y, z 值\n",
    "print(f\"x 值: {min_x} -- {max_x}\")\n",
    "print(f\"y 值: {min_y} -- {max_y}\")\n",
    "print(f\"z 值: {min_z} -- {max_z}\")\n",
    "print(cry_range)"
   ]
  },
  {
   "cell_type": "markdown",
   "id": "752ee8b5",
   "metadata": {},
   "source": [
    "# 玻璃"
   ]
  },
  {
   "cell_type": "code",
   "execution_count": 53,
   "id": "4a88b9c8",
   "metadata": {},
   "outputs": [],
   "source": [
    "import numpy as np\n",
    "import random\n",
    "total_atoms = sum(create_dic.values())\n",
    "# 函数判断位置是否在禁止区域内\n",
    "def in_forbidden_range(x, y, z, cry_range):\n",
    "    return (cry_range[0][0] <= x <= cry_range[0][1] and\n",
    "            cry_range[1][0] <= y <= cry_range[1][1] and\n",
    "            cry_range[2][0] <= z <= cry_range[2][1])\n",
    "# 生成候选坐标\n",
    "def generate_positions(box_size, cry_range, num_atoms):\n",
    "    positions = []\n",
    "    while len(positions) < num_atoms:\n",
    "        # 随机生成一个坐标 (x, y, z)\n",
    "        x = random.uniform(0, box_size[0])\n",
    "        y = random.uniform(0, box_size[1])\n",
    "        z = random.uniform(0, box_size[2])\n",
    "        \n",
    "        # 检查是否在禁止区域内\n",
    "        if not in_forbidden_range(x, y, z, cry_range):\n",
    "            positions.append([x, y, z])\n",
    "    \n",
    "    return positions\n",
    "\n",
    "# 生成均匀分布的随机坐标\n",
    "positions = generate_positions(box_size, cry_range, total_atoms)\n",
    "\n",
    "# 随机分配原子种类\n",
    "atom_types = []\n",
    "for atom, count in create_dic.items():\n",
    "    atom_types += [atom] * count\n",
    "\n",
    "# 打乱原子的顺序\n",
    "random.shuffle(atom_types)\n",
    "\n",
    "glass_xyz = []\n",
    "temp_list = []\n",
    "# 输出原子及其对应的位置\n",
    "for i in range(total_atoms):\n",
    "    atom = atom_types[i]\n",
    "    x, y, z = positions[i]\n",
    "    #print(f\"{atom}: ({x:.2f}, {y:.2f}, {z:.2f})\")\n",
    "    temp = [atom,x,y,z]\n",
    "    glass_xyz.append(temp)\n",
    "    temp_list.append([x,y,z])"
   ]
  },
  {
   "cell_type": "code",
   "execution_count": 55,
   "id": "364c3a04",
   "metadata": {},
   "outputs": [],
   "source": [
    "import numpy as np\n",
    "from scipy.spatial.distance import cdist\n",
    "\n",
    "# 盒子尺寸\n",
    "box_size = np.array(box_size)\n",
    "\n",
    "# 最小距离阈值\n",
    "min_distance = 0.2  # 替换为你的实际最小距离阈值\n",
    "\n",
    "# 计算周期性边界条件下的距离\n",
    "def periodic_distance(p1, p2, box_size):\n",
    "    diff = np.abs(p1 - p2)\n",
    "    diff = np.minimum(diff, box_size - diff)  # 考虑周期性边界\n",
    "    return np.sqrt(np.sum(diff**2))\n",
    "\n",
    "# 检查原子是否距离过近\n",
    "def check_closest_atoms(positions, box_size, min_distance):\n",
    "    num_atoms = len(positions)\n",
    "    for i in range(num_atoms):\n",
    "        for j in range(i + 1, num_atoms):\n",
    "            distance = periodic_distance(positions[i], positions[j], box_size)\n",
    "            if distance < min_distance:\n",
    "                print(f\"原子 {i} 和原子 {j} 之间的距离过近: {distance:.2f}\")\n",
    "\n"
   ]
  },
  {
   "cell_type": "code",
   "execution_count": 13,
   "id": "2c8e8a43",
   "metadata": {},
   "outputs": [
    {
     "name": "stdout",
     "output_type": "stream",
     "text": [
      "原子 1607 和原子 2889 之间的距离过近: 0.18\n",
      "原子 1684 和原子 3278 之间的距离过近: 0.19\n",
      "原子 3349 和原子 3607 之间的距离过近: 0.15\n",
      "原子 3349 和原子 3649 之间的距离过近: 0.19\n"
     ]
    }
   ],
   "source": [
    "# 原子位置（示例）\n",
    "# 检查原子距离\n",
    "temp_positions = np.array(temp_list)\n",
    "check_closest_atoms(temp_positions, box_size, min_distance)\n"
   ]
  },
  {
   "cell_type": "markdown",
   "id": "a1f2c1f1",
   "metadata": {},
   "source": [
    "# 组合"
   ]
  },
  {
   "cell_type": "code",
   "execution_count": 10,
   "id": "767bc9ed",
   "metadata": {},
   "outputs": [],
   "source": [
    "all_xyz = new_cry_xyz  # glass_xyz # +"
   ]
  },
  {
   "cell_type": "code",
   "execution_count": 48,
   "id": "b172ea63",
   "metadata": {},
   "outputs": [
    {
     "name": "stdout",
     "output_type": "stream",
     "text": [
      "atoms of crystal: 9720\n"
     ]
    },
    {
     "ename": "NameError",
     "evalue": "name 'glass_xyz' is not defined",
     "output_type": "error",
     "traceback": [
      "\u001b[1;31m---------------------------------------------------------------------------\u001b[0m",
      "\u001b[1;31mNameError\u001b[0m                                 Traceback (most recent call last)",
      "Cell \u001b[1;32mIn[48], line 2\u001b[0m\n\u001b[0;32m      1\u001b[0m \u001b[38;5;28mprint\u001b[39m(\u001b[38;5;124m'\u001b[39m\u001b[38;5;124matoms of crystal: \u001b[39m\u001b[38;5;124m'\u001b[39m \u001b[38;5;241m+\u001b[39m \u001b[38;5;28mstr\u001b[39m(\u001b[38;5;28mlen\u001b[39m(cry_xyz)))\n\u001b[1;32m----> 2\u001b[0m \u001b[38;5;28mprint\u001b[39m(\u001b[38;5;124m'\u001b[39m\u001b[38;5;124matoms of glass: \u001b[39m\u001b[38;5;124m'\u001b[39m \u001b[38;5;241m+\u001b[39m \u001b[38;5;28mstr\u001b[39m(\u001b[38;5;28mlen\u001b[39m(glass_xyz)))\n\u001b[0;32m      3\u001b[0m \u001b[38;5;28mprint\u001b[39m(\u001b[38;5;124m'\u001b[39m\u001b[38;5;124mAll atoms: \u001b[39m\u001b[38;5;124m'\u001b[39m \u001b[38;5;241m+\u001b[39m \u001b[38;5;28mstr\u001b[39m(\u001b[38;5;28mlen\u001b[39m(glass_xyz)\u001b[38;5;241m+\u001b[39m\u001b[38;5;28mlen\u001b[39m(cry_xyz)))\n",
      "\u001b[1;31mNameError\u001b[0m: name 'glass_xyz' is not defined"
     ]
    }
   ],
   "source": [
    "print('atoms of crystal: ' + str(len(cry_xyz)))\n",
    "print('atoms of glass: ' + str(len(glass_xyz)))\n",
    "print('All atoms: ' + str(len(glass_xyz)+len(cry_xyz)))"
   ]
  },
  {
   "cell_type": "code",
   "execution_count": 61,
   "id": "bddb6390",
   "metadata": {},
   "outputs": [
    {
     "name": "stdout",
     "output_type": "stream",
     "text": [
      "原子 219 和原子 1342 之间的距离过近: 0.06\n",
      "原子 1200 和原子 3162 之间的距离过近: 0.12\n",
      "原子 1261 和原子 3116 之间的距离过近: 0.07\n",
      "原子 1270 和原子 2627 之间的距离过近: 0.20\n",
      "原子 1393 和原子 1610 之间的距离过近: 0.16\n",
      "原子 1626 和原子 2728 之间的距离过近: 0.13\n",
      "原子 2725 和原子 3143 之间的距离过近: 0.10\n",
      "原子 3412 和原子 3540 之间的距离过近: 0.19\n"
     ]
    }
   ],
   "source": [
    "check_list = []\n",
    "for i in all_xyz:\n",
    "    check_list.append(i[1:])\n",
    "\n",
    "temp_positions = np.array(check_list)\n",
    "check_closest_atoms(temp_positions, box_size, min_distance)"
   ]
  },
  {
   "cell_type": "code",
   "execution_count": 27,
   "id": "a7e88ac1-8ffd-44c2-9c40-e66be047543c",
   "metadata": {},
   "outputs": [],
   "source": [
    "file_path = r'D:\\Atomsk\\las_cif\\las2o6_c_origin.xyz'\n",
    "save_path = r'D:\\Atomsk\\las_cif\\las2o6_c_temp.xyz'"
   ]
  },
  {
   "cell_type": "code",
   "execution_count": 29,
   "id": "f843b34d",
   "metadata": {},
   "outputs": [
    {
     "name": "stdout",
     "output_type": "stream",
     "text": [
      "Filtered coordinates saved to D:\\Atomsk\\las_cif\\las2o6_c_temp.xyz\n"
     ]
    }
   ],
   "source": [
    "ele_dic = {'O':1,'Si':2,'Al':3,'Li':4}\n",
    "# 将坐标写回到xyz文件中\n",
    "def write_xyz_file(filename, coordinates):\n",
    "    with open(filename, 'w') as f:\n",
    "        f.write(f\"{len(coordinates)}\\n\")\n",
    "        f.write(\"Atoms\\n\")\n",
    "        for atom, x, y, z in coordinates:\n",
    "            if z<100:\n",
    "                # \n",
    "                # f.write(f\"{ele_dic[atom]}    {x:.6f}    {y:.6f}    {z:.6f}\\n\")\n",
    "                f.write(f\"{atom}    {x:.6f}    {y:.6f}    {z:.6f}\\n\")\n",
    "\n",
    "# 使用示例\n",
    "save_path = save_path  # 设置保存文件的路径和文件名\n",
    "write_xyz_file(save_path, all_xyz)\n",
    "print(f\"Filtered coordinates saved to {save_path}\")\n"
   ]
  },
  {
   "cell_type": "code",
   "execution_count": 63,
   "id": "90e68b43",
   "metadata": {},
   "outputs": [
    {
     "name": "stdout",
     "output_type": "stream",
     "text": [
      "Filtered coordinates saved to D:\\MD_file\\Corning\\las2o6\\112_model\\las2o6_442.region\n"
     ]
    }
   ],
   "source": [
    "# 将lmp文件写进las_112.region\n",
    "def write_xyz_file(filename, coordinates):\n",
    "    with open(filename, 'w') as f:\n",
    "        f.write(\"region box_region block {} {} {} {} {} {}\\n\\n\".format(0, len_box, 0, len_box, 0, thickness))\n",
    "        f.write(\"region cry_region block {} {} {} {} {} {}\\n\\n\".format(low_x, high_x, low_y, high_y, 0, thickness))\n",
    "        f.write(\"group all_atoms region box_region\\n\\n\")\n",
    "        f.write(\"group cry_group region cry_region\\n\\n\")\n",
    "        f.write(\"group glass_group subtract all_atoms cry_group\\n\")\n",
    "# 使用示例\n",
    "save_path = save_region  # 设置保存文件的路径和文件名\n",
    "write_xyz_file(save_path, all_xyz)\n",
    "print(f\"Filtered coordinates saved to {save_path}\")\n"
   ]
  },
  {
   "cell_type": "code",
   "execution_count": null,
   "id": "06a48ca7-a3a6-4a5c-b6bd-a52b34592bc2",
   "metadata": {},
   "outputs": [],
   "source": []
  },
  {
   "cell_type": "code",
   "execution_count": null,
   "id": "68ad75cf-f377-46f8-92c2-718e85456d9e",
   "metadata": {},
   "outputs": [],
   "source": []
  },
  {
   "cell_type": "code",
   "execution_count": null,
   "id": "6d2e6e05-6803-4a31-b933-b3c2d531debe",
   "metadata": {},
   "outputs": [],
   "source": []
  }
 ],
 "metadata": {
  "kernelspec": {
   "display_name": "Python 3 (ipykernel)",
   "language": "python",
   "name": "python3"
  },
  "language_info": {
   "codemirror_mode": {
    "name": "ipython",
    "version": 3
   },
   "file_extension": ".py",
   "mimetype": "text/x-python",
   "name": "python",
   "nbconvert_exporter": "python",
   "pygments_lexer": "ipython3",
   "version": "3.12.3"
  }
 },
 "nbformat": 4,
 "nbformat_minor": 5
}
