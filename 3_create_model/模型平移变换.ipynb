{
 "cells": [
  {
   "cell_type": "code",
   "execution_count": 20,
   "id": "23e14e5d",
   "metadata": {},
   "outputs": [],
   "source": [
    "import numpy as np\n",
    "import matplotlib.pyplot as plt"
   ]
  },
  {
   "cell_type": "code",
   "execution_count": 27,
   "id": "99735a55",
   "metadata": {},
   "outputs": [],
   "source": [
    "file_path = r'C:\\Users\\zhang\\Desktop\\corning\\out_data\\merge\\30ns-600pcry_1000p_out.xyz'\n",
    "save_path = r'C:\\Users\\zhang\\Desktop\\corning\\out_data\\merge\\movex_18-30ns-600p-cry.xyz'"
   ]
  },
  {
   "cell_type": "code",
   "execution_count": 28,
   "id": "30770b66",
   "metadata": {},
   "outputs": [],
   "source": [
    "start_frame = 0\n",
    "end_frame = 599\n",
    "step_frame = 1\n",
    "\n",
    "#################\n",
    "add_x = 55\n",
    "add_y = 40\n",
    "add_z = 0"
   ]
  },
  {
   "cell_type": "code",
   "execution_count": 29,
   "id": "13a83204",
   "metadata": {},
   "outputs": [],
   "source": [
    "box_x = 109.287941+0.1\n",
    "box_y = 59.60575 +0.1"
   ]
  },
  {
   "cell_type": "code",
   "execution_count": 30,
   "id": "aba2ab64",
   "metadata": {},
   "outputs": [],
   "source": [
    "w_file = open(save_path,'w')\n",
    "\n",
    "def read_xyz_frames(file_path):\n",
    "    frames = []\n",
    "    current_frame = None\n",
    "\n",
    "    with open(file_path, 'r') as file:\n",
    "        lines = file.readlines()\n",
    "        line_index = 0\n",
    "\n",
    "        while line_index < len(lines):\n",
    "            line = lines[line_index].strip()\n",
    "\n",
    "            if line.isdigit():\n",
    "                # 读取原子数\n",
    "                if current_frame:\n",
    "                    frames.append(current_frame)\n",
    "                num_atoms = int(line)\n",
    "                current_frame = {\"num_atoms\": num_atoms, \"atoms\": []}\n",
    "                line_index += 2  # 跳过标题行 \"Atoms\"\n",
    "                ############  写  ##########\n",
    "#                 str_num = str(num_atoms)\n",
    "                w_file.write('{} \\n'.format(num_atoms))\n",
    "                w_file.write('Atoms\\n')\n",
    "            else:\n",
    "                # 读取原子坐标\n",
    "                if current_frame:\n",
    "                    atom_data = line.split()\n",
    "                    if len(atom_data) == 4:\n",
    "                        element, x, y, z = atom_data\n",
    "                        ######写回去########\n",
    "                        x,y = float(x),float(y)\n",
    "                        temp_x = (x+add_x)%box_x\n",
    "                        temp_y = (y+add_y)%box_y\n",
    "                        x,y = temp_x,temp_y\n",
    "                        row = '{} {} {} {}  \\n'.format(element,x,y,z)\n",
    "                        w_file.write(row)\n",
    "                line_index += 1\n",
    "\n",
    "        if current_frame:\n",
    "            frames.append(current_frame)\n",
    "\n",
    "    return frames\n",
    "\n",
    "# 使用之前的frames列表\n",
    "frames = read_xyz_frames(file_path)\n",
    "w_file.close()\n",
    "# # 找出最大的x、y和z值\n",
    "# max_x = max([max(frame[\"atoms\"], key=lambda atom: atom[\"x\"])[\"x\"] for frame in frames])\n",
    "# max_y = max([max(frame[\"atoms\"], key=lambda atom: atom[\"y\"])[\"y\"] for frame in frames])\n",
    "# max_z = max([max(frame[\"atoms\"], key=lambda atom: atom[\"z\"])[\"z\"] for frame in frames])\n",
    "\n",
    "# print(\"Maximum X value:\", max_x)\n",
    "# print(\"Maximum Y value:\", max_y)\n",
    "# print(\"Maximum Z value:\", max_z)\n"
   ]
  },
  {
   "cell_type": "code",
   "execution_count": 25,
   "id": "2264f34a",
   "metadata": {},
   "outputs": [
    {
     "data": {
      "text/plain": [
       "59.60575"
      ]
     },
     "execution_count": 25,
     "metadata": {},
     "output_type": "execute_result"
    }
   ],
   "source": [
    "max_y"
   ]
  },
  {
   "cell_type": "markdown",
   "id": "93b31817",
   "metadata": {},
   "source": [
    "frames[0]['atoms']"
   ]
  },
  {
   "cell_type": "code",
   "execution_count": 5,
   "id": "43f468d5",
   "metadata": {},
   "outputs": [
    {
     "data": {
      "text/plain": [
       "8.655763"
      ]
     },
     "execution_count": 5,
     "metadata": {},
     "output_type": "execute_result"
    }
   ],
   "source": [
    "frames[0]['atoms'][0]['x']"
   ]
  },
  {
   "cell_type": "code",
   "execution_count": 6,
   "id": "49df2552",
   "metadata": {},
   "outputs": [
    {
     "data": {
      "text/plain": [
       "8.655763"
      ]
     },
     "execution_count": 6,
     "metadata": {},
     "output_type": "execute_result"
    }
   ],
   "source": [
    "frames[0]['atoms'][0]['x']"
   ]
  },
  {
   "cell_type": "code",
   "execution_count": 7,
   "id": "c47abcdc",
   "metadata": {},
   "outputs": [],
   "source": [
    "box_x = max_x"
   ]
  },
  {
   "cell_type": "code",
   "execution_count": 8,
   "id": "eadd8891",
   "metadata": {},
   "outputs": [
    {
     "data": {
      "text/plain": [
       "109.287941"
      ]
     },
     "execution_count": 8,
     "metadata": {},
     "output_type": "execute_result"
    }
   ],
   "source": [
    "box_x"
   ]
  },
  {
   "cell_type": "code",
   "execution_count": 9,
   "id": "aeb9515d",
   "metadata": {},
   "outputs": [
    {
     "data": {
      "text/plain": [
       "70.80266"
      ]
     },
     "execution_count": 9,
     "metadata": {},
     "output_type": "execute_result"
    }
   ],
   "source": [
    "180%109.19734"
   ]
  },
  {
   "cell_type": "code",
   "execution_count": 10,
   "id": "372f16cc",
   "metadata": {},
   "outputs": [],
   "source": [
    "for i_frame in frames:\n",
    "    for i_atom in i_frame['atoms']:\n",
    "        temp_x = (i_atom['x']+add_x)%box_x\n",
    "        i_atom['x'] = temp_x"
   ]
  },
  {
   "cell_type": "markdown",
   "id": "2f81e3f3",
   "metadata": {},
   "source": [
    "# 存储"
   ]
  },
  {
   "cell_type": "markdown",
   "id": "316262aa",
   "metadata": {},
   "source": [
    "frames[0]['atoms']"
   ]
  },
  {
   "cell_type": "code",
   "execution_count": 11,
   "id": "879b0270",
   "metadata": {},
   "outputs": [],
   "source": [
    "num_atoms = frames[0]['num_atoms']"
   ]
  },
  {
   "cell_type": "code",
   "execution_count": 13,
   "id": "31fd1d72",
   "metadata": {},
   "outputs": [
    {
     "data": {
      "text/plain": [
       "5516"
      ]
     },
     "execution_count": 13,
     "metadata": {},
     "output_type": "execute_result"
    }
   ],
   "source": [
    "num_atoms"
   ]
  },
  {
   "cell_type": "code",
   "execution_count": 12,
   "id": "207a3e58",
   "metadata": {},
   "outputs": [],
   "source": [
    "with open(save_path, 'w') as file:\n",
    "        # 追加内容\n",
    "        file.write(str(num_atoms)+'\\n')\n",
    "        file.write('Atoms\\n')\n",
    "        for i_frame in frames:\n",
    "            for i_atom in i_frame['atoms']:\n",
    "                ele,x,y,z = i_atom['element'],i_atom['x'],i_atom['y'],i_atom['z']\n",
    "                row = '{} {} {} {}  \\n'.format(ele,x,y,z)\n",
    "                file.write(row)"
   ]
  },
  {
   "cell_type": "code",
   "execution_count": null,
   "id": "ca40c17e",
   "metadata": {},
   "outputs": [],
   "source": []
  },
  {
   "cell_type": "code",
   "execution_count": null,
   "id": "ffd101e5",
   "metadata": {},
   "outputs": [],
   "source": []
  },
  {
   "cell_type": "code",
   "execution_count": null,
   "id": "d7139e78",
   "metadata": {},
   "outputs": [],
   "source": []
  },
  {
   "cell_type": "code",
   "execution_count": null,
   "id": "43e9f6d6",
   "metadata": {},
   "outputs": [],
   "source": []
  },
  {
   "cell_type": "code",
   "execution_count": null,
   "id": "b6c4fe50",
   "metadata": {},
   "outputs": [],
   "source": []
  }
 ],
 "metadata": {
  "kernelspec": {
   "display_name": "Python 3 (ipykernel)",
   "language": "python",
   "name": "python3"
  },
  "language_info": {
   "codemirror_mode": {
    "name": "ipython",
    "version": 3
   },
   "file_extension": ".py",
   "mimetype": "text/x-python",
   "name": "python",
   "nbconvert_exporter": "python",
   "pygments_lexer": "ipython3",
   "version": "3.10.6"
  }
 },
 "nbformat": 4,
 "nbformat_minor": 5
}
