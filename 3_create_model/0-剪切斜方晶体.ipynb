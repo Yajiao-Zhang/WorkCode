{
 "cells": [
  {
   "cell_type": "code",
   "execution_count": 47,
   "id": "dbcafbce",
   "metadata": {},
   "outputs": [],
   "source": [
    "import numpy as np"
   ]
  },
  {
   "cell_type": "code",
   "execution_count": 1,
   "id": "9bffca4f",
   "metadata": {},
   "outputs": [],
   "source": [
    "file_path = r'D:\\Atomsk\\las_cif\\las2o6-c\\las2o6-c-232.xyz'"
   ]
  },
  {
   "cell_type": "code",
   "execution_count": 3,
   "id": "17710c59-804a-4dbf-8c7c-adac51369777",
   "metadata": {},
   "outputs": [],
   "source": [
    "# 参数\n"
   ]
  },
  {
   "cell_type": "markdown",
   "id": "7eda4973",
   "metadata": {},
   "source": [
    "# 晶体"
   ]
  },
  {
   "cell_type": "code",
   "execution_count": 6,
   "id": "2417ac6e",
   "metadata": {},
   "outputs": [],
   "source": [
    "# 读取xyz文件并按照给定条件筛选坐标\n",
    "def read_xyz_file_with_conditions(filename):\n",
    "    coordinates = []\n",
    "    with open(filename, 'r') as f:\n",
    "        lines = f.readlines()\n",
    "        for line in lines[2:]:  # 从第三行开始读取坐标数据\n",
    "            parts = line.split()\n",
    "            if len(parts) >= 4:\n",
    "                atom = parts[0]\n",
    "                #  转换一下单位 \n",
    "                x = float(parts[1])\n",
    "                y = float(parts[2])\n",
    "                z = float(parts[3])\n",
    "                coordinates.append((atom, x, y, z))\n",
    "    return coordinates\n",
    "\n",
    "# 使用示例\n",
    "filename = file_path  # 替换为你的xyz文件名\n",
    "cry_xyz = read_xyz_file_with_conditions(filename)"
   ]
  },
  {
   "cell_type": "code",
   "execution_count": 8,
   "id": "c7baddf9-b6b4-4080-9a6b-dd230096e94f",
   "metadata": {},
   "outputs": [
    {
     "name": "stdout",
     "output_type": "stream",
     "text": [
      "晶体的初始xyz范围：\n",
      "x 值: 0.162764087 -- 16.7821414668\n",
      "y 值: -9.1729866171 -- 21.47911941\n",
      "z 值: 0.3297567093 -- 9.5397223282\n",
      "晶体的原子数：\n",
      "480\n",
      "{'O': 288, 'Si': 96, 'Al': 48, 'Li': 48}\n"
     ]
    }
   ],
   "source": [
    "# 原始坐标列表\n",
    "coordinates = cry_xyz\n",
    "# 晶体中原子的计数\n",
    "num_cry_dic = create_dic = {'O':0,'Si':0,'Al':0,'Li':0}\n",
    "# 平移的距离\n",
    "a, b, c = 0, 0, 0.0  # 替换为你需要的平移值\n",
    "# 初始化最大最小值\n",
    "max_x = max_y = max_z = float('-inf')\n",
    "min_x = min_y = min_z = float('inf')\n",
    "\n",
    "new_cry_xyz = []\n",
    "\n",
    "# 平移坐标并寻找最大最小值\n",
    "for atom, x, y, z in coordinates:\n",
    "    # 对每个坐标平移\n",
    "    new_x = x + a\n",
    "    new_y = y + b\n",
    "    new_z = z + c\n",
    "    new_cry_xyz.append([atom,new_x,new_y,new_z])\n",
    "    # 对晶体在的原子计数\n",
    "    num_cry_dic[atom] += 1\n",
    "    # 更新最大值\n",
    "    if new_x > max_x:\n",
    "        max_x = new_x\n",
    "    if new_y > max_y:\n",
    "        max_y = new_y\n",
    "    if new_z > max_z:\n",
    "        max_z = new_z\n",
    "    \n",
    "    # 更新最小值\n",
    "    if new_x < min_x:\n",
    "        min_x = new_x\n",
    "    if new_y < min_y:\n",
    "        min_y = new_y\n",
    "    if new_z < min_z:\n",
    "        min_z = new_z\n",
    "\n",
    "# 输出平移后所有原子中最大的和最小的 x, y, z 值\n",
    "print(\"晶体的初始xyz范围：\")\n",
    "print(f\"x 值: {min_x} -- {max_x}\")\n",
    "print(f\"y 值: {min_y} -- {max_y}\")\n",
    "print(f\"z 值: {min_z} -- {max_z}\")\n",
    "print(\"晶体的原子数：\")\n",
    "print(len(cry_xyz))\n",
    "print(num_cry_dic)"
   ]
  },
  {
   "cell_type": "code",
   "execution_count": 10,
   "id": "e57cd1b2-0839-403a-9eab-f2f60b421037",
   "metadata": {},
   "outputs": [
    {
     "name": "stdout",
     "output_type": "stream",
     "text": [
      "总电荷数： 0.0\n"
     ]
    }
   ],
   "source": [
    "charge_dic = {'O':-1.2,'Si':2.4,'Al':1.8,'Li':0.6}\n",
    "\n",
    "def get_charge(atom_list):\n",
    "    sum_charge = 0\n",
    "    for i_atom in atom_list:\n",
    "        temp_type = i_atom[0]\n",
    "        sum_charge += charge_dic[temp_type]\n",
    "    print('总电荷数： {}'.format(round(sum_charge,1)))\n",
    "# \n",
    "get_charge(new_cry_xyz)"
   ]
  },
  {
   "cell_type": "code",
   "execution_count": 12,
   "id": "535fb930-402d-4693-94e5-945e8e7b96de",
   "metadata": {},
   "outputs": [
    {
     "data": {
      "text/plain": [
       "{'O': 288, 'Si': 96, 'Al': 48, 'Li': 48}"
      ]
     },
     "execution_count": 12,
     "metadata": {},
     "output_type": "execute_result"
    }
   ],
   "source": [
    "num_cry_dic"
   ]
  },
  {
   "cell_type": "markdown",
   "id": "87d49a16-ca88-450c-825b-4414f104c80c",
   "metadata": {},
   "source": [
    "# 筛选原子"
   ]
  },
  {
   "cell_type": "code",
   "execution_count": 15,
   "id": "ee477099-cd52-4591-9958-e1c581ddcae9",
   "metadata": {},
   "outputs": [],
   "source": [
    "# 原来的a b c\n",
    "a = 8.4725\n",
    "b = 9.6391  # Y上\n",
    "c = 5.2751"
   ]
  },
  {
   "cell_type": "code",
   "execution_count": 83,
   "id": "d027544c-1795-4eb7-a857-ee89a48b7a80",
   "metadata": {},
   "outputs": [
    {
     "name": "stdout",
     "output_type": "stream",
     "text": [
      "19.27811 19.2782\n"
     ]
    }
   ],
   "source": [
    "# 找到一个周期性的边界  然后一边删除 一边扩胞\n",
    "low_value, high_value =  -1.55704,17.72107 \n",
    "len_value = high_value- low_value\n",
    "print(len_value,b*2)"
   ]
  },
  {
   "cell_type": "code",
   "execution_count": 31,
   "id": "38735d01-ebf3-40b1-9c53-4da3dfce238d",
   "metadata": {},
   "outputs": [
    {
     "data": {
      "text/plain": [
       "['Al', 7.6695695559, -9.1729866171, 1.2336848797]"
      ]
     },
     "execution_count": 31,
     "metadata": {},
     "output_type": "execute_result"
    }
   ],
   "source": [
    "new_cry_xyz[0]"
   ]
  },
  {
   "cell_type": "code",
   "execution_count": 33,
   "id": "c46d5e0c-c975-435c-b891-897f7f87ab55",
   "metadata": {},
   "outputs": [
    {
     "name": "stdout",
     "output_type": "stream",
     "text": [
      "总电荷数： 0.0\n"
     ]
    }
   ],
   "source": [
    "new_list = []\n",
    "for i_atom in new_cry_xyz:\n",
    "    # 确定下比较的单位\n",
    "    temp_value = i_atom[2]\n",
    "    #print(i_atom)\n",
    "    # 【区间是左闭右开）  要大于等于1.5 and 小于3.5\n",
    "    if low_value<=temp_value<high_value:\n",
    "        new_list.append(i_atom)\n",
    "get_charge(new_list)"
   ]
  },
  {
   "cell_type": "markdown",
   "id": "e71de6a7-cd7d-4725-a3f4-e9d8d9829469",
   "metadata": {},
   "source": [
    "# 当遇到xyz小于0的，先全部给它加上 "
   ]
  },
  {
   "cell_type": "code",
   "execution_count": null,
   "id": "0f430874-defe-4763-b1b2-6e1d1e7198b1",
   "metadata": {},
   "outputs": [],
   "source": []
  },
  {
   "cell_type": "code",
   "execution_count": 49,
   "id": "91f6ca13-ff21-43bb-a11a-49c05c9854d5",
   "metadata": {},
   "outputs": [
    {
     "name": "stdout",
     "output_type": "stream",
     "text": [
      "原来晶体的xyz范围：\n",
      "x 值: 0.162764087 -- 16.7821414668\n",
      "y 值: -1.5452816712 -- 17.7210692661\n",
      "z 值: 0.3297567093 -- 9.5397223282\n",
      "修正过后的晶体的xyz范围：\n",
      "x 值: 0.0 -- 16.6193773798\n",
      "y 值: 0.0 -- 19.2663509373\n",
      "z 值: 0.0 -- 9.2099656189\n",
      "总电荷数： 0.0\n",
      "None\n",
      "原子数：320\n",
      "切割的边长： 19.27811\n"
     ]
    }
   ],
   "source": [
    "def move_to_0(atom_list):\n",
    "    # 先遍历一边 然后得出xyz的范围\n",
    "    # 原始坐标列表\n",
    "    coordinates = atom_list\n",
    "    # 初始化最大最小值\n",
    "    max_x = max_y = max_z = float('-inf')\n",
    "    min_x = min_y = min_z = float('inf')\n",
    "    # 平移坐标并寻找最大最小值\n",
    "    for atom, new_x, new_y, new_z in coordinates:\n",
    "        # 更新最大值\n",
    "        if new_x > max_x:\n",
    "            max_x = new_x\n",
    "        if new_y > max_y:\n",
    "            max_y = new_y\n",
    "        if new_z > max_z:\n",
    "            max_z = new_z\n",
    "        # 更新最小值\n",
    "        if new_x < min_x:\n",
    "            min_x = new_x\n",
    "        if new_y < min_y:\n",
    "            min_y = new_y\n",
    "        if new_z < min_z:\n",
    "            min_z = new_z\n",
    "    # 找到最值了 然后平移\n",
    "    move_x,move_y,move_z = -min_x,-min_y,-min_z\n",
    "    # 原来数据\n",
    "    print(\"原来晶体的xyz范围：\")\n",
    "    print(f\"x 值: {min_x} -- {max_x}\")\n",
    "    print(f\"y 值: {min_y} -- {max_y}\")\n",
    "    print(f\"z 值: {min_z} -- {max_z}\")\n",
    "    # 存储所有新数据\n",
    "    temp_all_list = []\n",
    "    # 新的范围 \n",
    "      # 初始化最大最小值\n",
    "    max_x1 = max_y1 = max_z1 = float('-inf')\n",
    "    min_x1 = min_y1 = min_z1 = float('inf')\n",
    "    for atom, x, y, z in coordinates:\n",
    "        x1,y1,z1 = x+move_x,y+move_y,z+move_z\n",
    "        temp_all_list.append([atom,x1,y1,z1])\n",
    "        ###\n",
    "        # 更新最大值\n",
    "        if x1 > max_x1:\n",
    "            max_x1 = x1\n",
    "        if y1 > max_y1:\n",
    "            max_y1 = y1\n",
    "        if z1 > max_z1:\n",
    "            max_z1 = z1\n",
    "        # 更新最小值\n",
    "        if x1 < min_x1:\n",
    "            min_x1 = x1\n",
    "        if y1 < min_y1:\n",
    "            min_y1 = x1\n",
    "        if z1 < min_z1:\n",
    "            min_z1 = x1\n",
    "    \n",
    "    # 输出平移后所有原子中最大的和最小的 x, y, z 值\n",
    "    print(\"修正过后的晶体的xyz范围：\")\n",
    "    print(f\"x 值: {min_x1} -- {max_x1}\")\n",
    "    print(f\"y 值: {min_y1} -- {max_y1}\")\n",
    "    print(f\"z 值: {min_z1} -- {max_z1}\")\n",
    "# 处理对象\n",
    "    return temp_all_list\n",
    "final_list = move_to_0(new_list)\n",
    "print(get_charge(final_list))\n",
    "print(f'原子数：{len(final_list)}')\n",
    "print(f'切割的边长： {len_value}')"
   ]
  },
  {
   "cell_type": "code",
   "execution_count": 39,
   "id": "ac00c7e5-bfbe-4173-8bb2-43b16f494752",
   "metadata": {},
   "outputs": [],
   "source": []
  },
  {
   "cell_type": "code",
   "execution_count": 55,
   "id": "5f627699-4f31-4bbd-a29b-d9503eb0b467",
   "metadata": {},
   "outputs": [
    {
     "name": "stdout",
     "output_type": "stream",
     "text": [
      "[16.945, 19.2782, 9.8694]\n"
     ]
    }
   ],
   "source": [
    "# 原有abc\n",
    "a = 8.4725\n",
    "b = 9.6391\n",
    "c = 4.9347\n",
    "#########\n",
    "len_x,len_y,len_z = a*2,b*2,c*2\n",
    "box_size = [len_x,len_y,len_z]\n",
    "print(box_size)"
   ]
  },
  {
   "cell_type": "code",
   "execution_count": 59,
   "id": "9eb76017-98a8-4f0a-b686-6515b8d45a1d",
   "metadata": {},
   "outputs": [],
   "source": [
    "count=1\n",
    "for atom, x, y, z in  final_list:\n",
    "    #print(f'{atom}{count}  {atom}  {x}  {y}  {z} 0.00000  Uiso   1.00')\n",
    "    count+=1"
   ]
  },
  {
   "cell_type": "code",
   "execution_count": 61,
   "id": "c875b566-ff74-4dd3-8f50-4e189313ce82",
   "metadata": {},
   "outputs": [
    {
     "data": {
      "text/plain": [
       "4.934601274638562"
      ]
     },
     "execution_count": 61,
     "metadata": {},
     "output_type": "execute_result"
    }
   ],
   "source": [
    "5.2750*np.sin(np.deg2rad(69.3041183826))"
   ]
  },
  {
   "cell_type": "code",
   "execution_count": 72,
   "id": "17a6899d-df5a-4a4e-a8d7-bf5d27488ec1",
   "metadata": {},
   "outputs": [
    {
     "name": "stdout",
     "output_type": "stream",
     "text": [
      "New boxsize:\n",
      "67.78  57.834599999999995  59.21640000000001\n",
      "23040\n"
     ]
    }
   ],
   "source": [
    "temp_list = final_list\n",
    "#\n",
    "copy_list = []\n",
    "#  复制晶胞  4,3,4,\n",
    "copy_x,copy_y,copy_z = 4,3,6\n",
    "# 生成新数据\n",
    "for i_x in range(copy_x):\n",
    "    for i_y in range(copy_y):\n",
    "        for i_z in range(copy_z):\n",
    "            # 然后遍历原子\n",
    "            dx,dy,dz = i_x*len_x,i_y*len_y,i_z*len_z\n",
    "            for atom,x,y,z in temp_list:\n",
    "                temp_atom = [atom,x+dx,y+dy,z+dz]\n",
    "                copy_list.append(temp_atom)\n",
    "print('New boxsize:')\n",
    "print(f'{len_x*copy_x}  {len_y*copy_y}  {len_z*copy_z}')\n",
    "print(len(copy_list))"
   ]
  },
  {
   "cell_type": "code",
   "execution_count": 74,
   "id": "0966b4ef-0856-4174-81d9-eb901a752905",
   "metadata": {},
   "outputs": [
    {
     "data": {
      "text/plain": [
       "8.0"
      ]
     },
     "execution_count": 74,
     "metadata": {},
     "output_type": "execute_result"
    }
   ],
   "source": [
    "5760/720"
   ]
  },
  {
   "cell_type": "code",
   "execution_count": null,
   "id": "8e8ed594-d276-4790-9348-f8f8629453d0",
   "metadata": {},
   "outputs": [],
   "source": []
  },
  {
   "cell_type": "code",
   "execution_count": 77,
   "id": "620cd1d8-eb48-420d-b20a-8e9319f9593b",
   "metadata": {},
   "outputs": [
    {
     "data": {
      "text/plain": [
       "'\\n#LAMMPS data file transformed from *.xyz file\\n9213 atoms\\n4 atom types\\n    0.000000    46.100000 xlo xhi\\n    0.000000    46.100000 ylo yhi\\n    0.000000    46.100000 zlo zhi\\n    0.000000     0.000000     0.000000 xy xz yz\\n\\nAtoms\\n\\n      1 1  0.00    36.678737     2.066764    41.325880\\n      2 1  0.00     1.221441     3.114431     0.279197\\n      3 1  0.00    32.759957    19.543366     2.110140\\n      4 1  0.00    17.250993     4.961661     8.228568\\n\\n'"
      ]
     },
     "execution_count": 77,
     "metadata": {},
     "output_type": "execute_result"
    }
   ],
   "source": [
    "\"\"\"\n",
    "#LAMMPS data file transformed from *.xyz file\n",
    "9213 atoms\n",
    "4 atom types\n",
    "    0.000000    46.100000 xlo xhi\n",
    "    0.000000    46.100000 ylo yhi\n",
    "    0.000000    46.100000 zlo zhi\n",
    "    0.000000     0.000000     0.000000 xy xz yz\n",
    "\n",
    "Atoms\n",
    "\n",
    "      1 1  0.00    36.678737     2.066764    41.325880\n",
    "      2 1  0.00     1.221441     3.114431     0.279197\n",
    "      3 1  0.00    32.759957    19.543366     2.110140\n",
    "      4 1  0.00    17.250993     4.961661     8.228568\n",
    "\n",
    "\"\"\""
   ]
  },
  {
   "cell_type": "code",
   "execution_count": 22,
   "id": "3305fbbd-afa8-49aa-b640-e8d1fc97620e",
   "metadata": {},
   "outputs": [],
   "source": []
  },
  {
   "cell_type": "code",
   "execution_count": 79,
   "id": "32508b89-9a24-4b43-8821-d8718f874727",
   "metadata": {},
   "outputs": [
    {
     "name": "stdout",
     "output_type": "stream",
     "text": [
      "Filtered coordinates saved to D:\\Atomsk\\las_cif\\las2o6-c\\las2o6_c_cube_copy_si.xyz\n"
     ]
    }
   ],
   "source": [
    "\n",
    "ele_dic = {'O':1,'Si':2,'Al':3,'Li':4}\n",
    "ele_dic1 = {'O':'O','Si':'Si','Al':'Al','Li':'Li'}\n",
    "# 将坐标写回到xyz文件中\n",
    "def write_xyz_file(filename, coordinates):\n",
    "    with open(filename, 'w') as f:\n",
    "        f.write(f\"{len(coordinates)}\\n\")\n",
    "        f.write(\"Atoms\\n\")\n",
    "        for atom, x, y, z in coordinates:\n",
    "            f.write(f\"{ele_dic1[atom]}    {x:.6f}    {y:.6f}    {z:.6f}\\n\")\n",
    "\n",
    "##########\n",
    "write_list = copy_list\n",
    "save_path = r'D:\\Atomsk\\las_cif\\las2o6-c\\las2o6_c_cube_copy_si.xyz'\n",
    "save_path_0 = r'D:\\Atomsk\\las_cif\\las2o6-c\\las2o6_c_cube0.xyz'\n",
    "\n",
    "path = save_path_0\n",
    "############\n",
    "\n",
    "# 使用示例\n",
    "write_xyz_file(path, write_list)\n",
    "print(f\"Filtered coordinates saved to {save_path}\")\n"
   ]
  },
  {
   "cell_type": "code",
   "execution_count": null,
   "id": "ad6ed22e-60fc-4384-a034-1ebab3d3f26c",
   "metadata": {},
   "outputs": [],
   "source": []
  },
  {
   "cell_type": "code",
   "execution_count": null,
   "id": "977379bf-55c8-48c0-aaa8-da5788c25f23",
   "metadata": {},
   "outputs": [],
   "source": []
  },
  {
   "cell_type": "code",
   "execution_count": null,
   "id": "2632bd35-43d4-421f-ac58-cb3ca24331c3",
   "metadata": {},
   "outputs": [],
   "source": []
  },
  {
   "cell_type": "code",
   "execution_count": null,
   "id": "934f64b7-fe10-4cbe-a10b-33323cd1dd0a",
   "metadata": {},
   "outputs": [],
   "source": []
  },
  {
   "cell_type": "code",
   "execution_count": 84,
   "id": "39cf8230-0c1a-4837-828d-c36ee4bdfef6",
   "metadata": {},
   "outputs": [
    {
     "name": "stdout",
     "output_type": "stream",
     "text": [
      "Filtered coordinates saved to D:\\Atomsk\\las_cif\\las2o6_cube.xyz\n"
     ]
    }
   ],
   "source": [
    "\n",
    "ele_dic = {'O':1,'Si':2,'Al':3,'Li':4}\n",
    "# 将坐标写回到dat文件中\n",
    "\n",
    "def write_dat_file(filename, coordinates):\n",
    "    with open(filename, 'w') as f:\n",
    "        f.write('# Translate data using python code by Yajiao Zhang.\\n')\n",
    "        f.write(f\"{len(coordinates)} atoms \\n\")\n",
    "        f.write(\"4 atom types\\n\")\n",
    "        f.write(f\"    0.000000    {max_x:.6f}  xlo xhi\\n\")\n",
    "        f.write(f\"    0.000000    {max_y:.6f}  ylo yhi\\n\")\n",
    "        f.write(f\"    0.000000    {max_z:.6f}  zlo zhi\\n\")\n",
    "        f.write('    0.000000     0.000000     0.000000 xy xz yz\\n')\n",
    "        f.write('\\n')\n",
    "        f.write(\"Atoms\\n\\n\")\n",
    "        count_num = 1\n",
    "        for atom, x, y, z in coordinates:\n",
    "            \n",
    "            f.write(f\"    {count_num}  {ele_dic[atom]}  0.00   {x:.6f}    {y:.6f}    {z:.6f}\\n\")\n",
    "            count_num+=1\n",
    "##########\n",
    "write_list = final_list\n",
    "save_path = r'D:\\Atomsk\\las_cif\\las2o6_cube.xyz'\n",
    "############\n",
    "# 使用示例\n",
    "write_dat_file(save_path, write_list)\n",
    "print(f\"Filtered coordinates saved to {save_path}\")\n"
   ]
  },
  {
   "cell_type": "code",
   "execution_count": null,
   "id": "8a6b377d-d52e-4dbf-878f-5d21626aaa4b",
   "metadata": {},
   "outputs": [],
   "source": []
  },
  {
   "cell_type": "code",
   "execution_count": null,
   "id": "50f038ca-40ae-4a23-a38c-839db1ef6d08",
   "metadata": {},
   "outputs": [],
   "source": []
  },
  {
   "cell_type": "code",
   "execution_count": null,
   "id": "2461e044-1706-4044-8b71-e78c649f0c43",
   "metadata": {},
   "outputs": [],
   "source": []
  },
  {
   "cell_type": "code",
   "execution_count": 24,
   "id": "90e68b43",
   "metadata": {},
   "outputs": [
    {
     "name": "stdout",
     "output_type": "stream",
     "text": [
      "Filtered coordinates saved to D:\\MD_file\\Corning\\las2o6\\1012_cube\\lasp_inp.region\n"
     ]
    }
   ],
   "source": [
    "# 将lmp文件写进las_112.region\n",
    "def write_xyz_file(filename, coordinates):\n",
    "    with open(filename, 'w') as f:\n",
    "        f.write(\"region box_region block {} {} {} {} {} {}\\n\\n\".format(0, len_box, 0, len_box, 0, len_box))\n",
    "        f.write(\"region cry_region block {} {} {} {} {} {}\\n\\n\".format(low_x, high_x, low_y, high_y,low_z, high_z))\n",
    "        f.write(\"group all_atoms region box_region\\n\\n\")\n",
    "        f.write(\"group cry_group region cry_region\\n\\n\")\n",
    "        f.write(\"group glass_group subtract all_atoms cry_group\\n\")\n",
    "# 使用示例\n",
    "save_path = save_region  # 设置保存文件的路径和文件名\n",
    "write_xyz_file(save_path, all_xyz)\n",
    "print(f\"Filtered coordinates saved to {save_path}\")\n"
   ]
  },
  {
   "cell_type": "code",
   "execution_count": null,
   "id": "1d6b5bfb-7800-42ed-916b-72702e1d53ff",
   "metadata": {},
   "outputs": [],
   "source": []
  },
  {
   "cell_type": "code",
   "execution_count": null,
   "id": "ba42651d-1795-4290-8260-ae5671d42a77",
   "metadata": {},
   "outputs": [],
   "source": []
  },
  {
   "cell_type": "code",
   "execution_count": null,
   "id": "bcd765ad-936f-4c8e-bccf-311ff49c5e6e",
   "metadata": {},
   "outputs": [],
   "source": []
  },
  {
   "cell_type": "code",
   "execution_count": null,
   "id": "a544f4dd-5b6d-4993-b4ef-b5f50855da9b",
   "metadata": {},
   "outputs": [],
   "source": []
  },
  {
   "cell_type": "code",
   "execution_count": 82,
   "id": "8655e2b0-336c-4c07-8819-603dc928ad59",
   "metadata": {},
   "outputs": [
    {
     "name": "stdout",
     "output_type": "stream",
     "text": [
      "Filtered coordinates saved to D:\\Atomsk\\las_cif\\las2o6_cube.xyz\n"
     ]
    }
   ],
   "source": [
    "\n",
    "ele_dic = {'O':1,'Si':2,'Al':3,'Li':4}\n",
    "# 将坐标写回到xyz文件中\n",
    "def write_xyz_file(filename, coordinates):\n",
    "    with open(filename, 'w') as f:\n",
    "        f.write(f\"{len(coordinates)}\\n\")\n",
    "        f.write(\"Atoms\\n\")\n",
    "        for atom, x, y, z in coordinates:\n",
    "            f.write(f\"{ele_dic[atom]}    {x:.6f}    {y:.6f}    {z:.6f}\\n\")\n",
    "\n",
    "# 使用示例\n",
    "save_path = save_path  # 设置保存文件的路径和文件名\n",
    "write_xyz_file(save_path, new_cry_xyz)\n",
    "print(f\"Filtered coordinates saved to {save_path}\")\n"
   ]
  },
  {
   "cell_type": "code",
   "execution_count": null,
   "id": "68ad75cf-f377-46f8-92c2-718e85456d9e",
   "metadata": {},
   "outputs": [],
   "source": []
  },
  {
   "cell_type": "code",
   "execution_count": null,
   "id": "6d2e6e05-6803-4a31-b933-b3c2d531debe",
   "metadata": {},
   "outputs": [],
   "source": []
  },
  {
   "cell_type": "code",
   "execution_count": null,
   "id": "a2de62ed-0be7-4108-879c-403b654228a7",
   "metadata": {},
   "outputs": [],
   "source": []
  },
  {
   "cell_type": "code",
   "execution_count": null,
   "id": "95a29e56-ebf2-4b31-8305-3e059d54ff23",
   "metadata": {},
   "outputs": [],
   "source": []
  },
  {
   "cell_type": "code",
   "execution_count": null,
   "id": "6d4412af-9768-4967-a333-35b2d9976eda",
   "metadata": {},
   "outputs": [],
   "source": []
  },
  {
   "cell_type": "code",
   "execution_count": null,
   "id": "3160c3b0-1c21-4c73-94fd-541d4c8e1bac",
   "metadata": {},
   "outputs": [],
   "source": []
  }
 ],
 "metadata": {
  "kernelspec": {
   "display_name": "Python 3 (ipykernel)",
   "language": "python",
   "name": "python3"
  },
  "language_info": {
   "codemirror_mode": {
    "name": "ipython",
    "version": 3
   },
   "file_extension": ".py",
   "mimetype": "text/x-python",
   "name": "python",
   "nbconvert_exporter": "python",
   "pygments_lexer": "ipython3",
   "version": "3.12.3"
  }
 },
 "nbformat": 4,
 "nbformat_minor": 5
}
