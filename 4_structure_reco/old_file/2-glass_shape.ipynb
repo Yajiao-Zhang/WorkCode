{
 "cells": [
  {
   "cell_type": "code",
   "execution_count": 6,
   "id": "b8bb758d",
   "metadata": {},
   "outputs": [],
   "source": [
    "file_path = r'C:\\Users\\zhang\\Desktop\\cif\\paper\\output_out.xyz'\n",
    "save_path = r'C:\\Users\\zhang\\Desktop\\cif\\paper\\las_0.xyz'"
   ]
  },
  {
   "cell_type": "code",
   "execution_count": 7,
   "id": "e71fc9e2",
   "metadata": {},
   "outputs": [],
   "source": [
    "def check_condition(x, y, z, conditions):\n",
    "    for condition in conditions:\n",
    "        if condition(x, y, z):\n",
    "            return False\n",
    "    return True\n",
    "\n",
    "def read_xyz_file_with_conditions(filename, conditions):\n",
    "    coordinates = []\n",
    "    with open(filename, 'r') as f:\n",
    "        lines = f.readlines()\n",
    "        for line in lines[2:]:  # 从第三行开始读取坐标数据\n",
    "            parts = line.split()\n",
    "            if len(parts) >= 4:\n",
    "                atom = parts[0]\n",
    "                x = float(parts[1])\n",
    "                y = float(parts[2])\n",
    "                z = float(parts[3])\n",
    "                if check_condition(x, y, z, conditions):\n",
    "                    coordinates.append((atom, x, y, z))\n",
    "    return coordinates\n",
    "\n",
    "# 条件函数定义  要在圆和方形之外\n",
    "def condition1(x, y, z):\n",
    "    return  ((x -30 )**2 + (y - 30)**2 < 20**2) \n",
    "\n",
    "def condition2(x, y, z):\n",
    "    return  ((x -30 )**2 + (y - 90)**2 < 20**2) \n",
    "\n",
    "def condition3(x, y, z):\n",
    "    return  ((x -90 )**2 + (y - 30)**2 < 20**2) \n",
    "\n",
    "def condition4(x, y, z):\n",
    "    return  ((x -90 )**2 + (y - 90)**2 < 20**2) \n",
    "\n",
    "\n",
    "# 使用示例\n",
    "filename = file_path  # 将文件名替换为你的实际xyz文件名\n",
    "conditions = [condition1, condition2, condition3, condition4]\n",
    "filtered_coordinates = read_xyz_file_with_conditions(filename, conditions)"
   ]
  },
  {
   "cell_type": "code",
   "execution_count": 8,
   "id": "3bbab484",
   "metadata": {},
   "outputs": [
    {
     "data": {
      "text/plain": [
       "('O', 10.7549, 84.1183, 20.5335)"
      ]
     },
     "execution_count": 8,
     "metadata": {},
     "output_type": "execute_result"
    }
   ],
   "source": [
    "filtered_coordinates[0]"
   ]
  },
  {
   "cell_type": "code",
   "execution_count": 9,
   "id": "97763103",
   "metadata": {},
   "outputs": [
    {
     "name": "stdout",
     "output_type": "stream",
     "text": [
      "Filtered coordinates saved to C:\\Users\\zhang\\Desktop\\cif\\paper\\las_0.xyz\n"
     ]
    }
   ],
   "source": [
    "# 将坐标写回到xyz文件中\n",
    "def write_xyz_file(filename, coordinates):\n",
    "    with open(filename, 'w') as f:\n",
    "        f.write(f\"{len(coordinates)}\\n\")\n",
    "        f.write(\"Generated XYZ file\\n\")\n",
    "        for atom, x, y, z in coordinates:\n",
    "            f.write(f\"{atom}    {x:.6f}    {y:.6f}    {z:.6f}\\n\")\n",
    "\n",
    "# 使用示例\n",
    "save_path = save_path  # 设置保存文件的路径和文件名\n",
    "write_xyz_file(save_path, filtered_coordinates)\n",
    "print(f\"Filtered coordinates saved to {save_path}\")\n"
   ]
  },
  {
   "cell_type": "code",
   "execution_count": null,
   "id": "eb246519",
   "metadata": {},
   "outputs": [],
   "source": []
  }
 ],
 "metadata": {
  "kernelspec": {
   "display_name": "Python 3 (ipykernel)",
   "language": "python",
   "name": "python3"
  },
  "language_info": {
   "codemirror_mode": {
    "name": "ipython",
    "version": 3
   },
   "file_extension": ".py",
   "mimetype": "text/x-python",
   "name": "python",
   "nbconvert_exporter": "python",
   "pygments_lexer": "ipython3",
   "version": "3.10.6"
  }
 },
 "nbformat": 4,
 "nbformat_minor": 5
}
