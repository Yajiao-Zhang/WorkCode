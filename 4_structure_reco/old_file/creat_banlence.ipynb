{
 "cells": [
  {
   "cell_type": "code",
   "execution_count": 9,
   "id": "7e9bdf25",
   "metadata": {},
   "outputs": [],
   "source": [
    "file_path = r'C:\\Users\\zhang\\Desktop\\cif\\paper\\all_not_charge.xyz'\n",
    "save_path = r'C:\\Users\\zhang\\Desktop\\cif\\paper\\final.xyz'"
   ]
  },
  {
   "cell_type": "code",
   "execution_count": 15,
   "id": "73103a29",
   "metadata": {},
   "outputs": [
    {
     "name": "stdout",
     "output_type": "stream",
     "text": [
      "0\n"
     ]
    }
   ],
   "source": [
    "# 读取xyz文件并按照给定条件筛选坐标\n",
    "\n",
    "def read_xyz_file_with_conditions(filename):\n",
    "    coordinates = []\n",
    "    with open(filename, 'r') as f:\n",
    "        lines = f.readlines()\n",
    "        for line in lines[2:]:  # 从第三行开始读取坐标数据\n",
    "            parts = line.split()\n",
    "            count_na = 0\n",
    "            if len(parts) >= 4:\n",
    "                atom = parts[0]\n",
    "                x = float(parts[1])\n",
    "                y = float(parts[2])\n",
    "                z = float(parts[3])\n",
    "                if atom == 'Na':\n",
    "                    atom = 'Li'\n",
    "                    count_na +=1\n",
    "                coordinates.append((atom, x, y, z))\n",
    "    print(count_na)\n",
    "    return coordinates\n",
    "\n",
    "# 使用示例\n",
    "filename = file_path  # 替换为你的xyz文件名\n",
    "all_cordinates0 = read_xyz_file_with_conditions(filename)"
   ]
  },
  {
   "cell_type": "code",
   "execution_count": 11,
   "id": "b1515b5b",
   "metadata": {},
   "outputs": [
    {
     "name": "stdout",
     "output_type": "stream",
     "text": [
      "[[117.03753611  79.41520372  16.16417643]\n",
      " [118.45625891  79.70497182  22.87794119]\n",
      " [ 72.34811279 100.2235557   25.38613375]\n",
      " ...\n",
      " [119.05164125  81.90499775   1.34809518]\n",
      " [112.78988258  83.2395087    9.6326176 ]\n",
      " [ 66.86468839  42.0599113   14.04206288]]\n"
     ]
    }
   ],
   "source": [
    "import numpy as np\n",
    "\n",
    "# 定义盒子的尺寸\n",
    "box_x = 120\n",
    "box_y = 120\n",
    "box_z = 26\n",
    "\n",
    "# 定义四个圆形区域的参数\n",
    "circles = [\n",
    "    (30, 30, 20),\n",
    "    (30, 90, 20),\n",
    "    (90, 30, 20),\n",
    "    (90, 90, 20)\n",
    "]\n",
    "\n",
    "def is_inside_circle(x, y, circles):\n",
    "    for (cx, cy, radius) in circles:\n",
    "        if (x - cx)**2 + (y - cy)**2 < radius**2:\n",
    "            return True\n",
    "    return False\n",
    "\n",
    "# 生成不重复的800个点\n",
    "num_points = 1500\n",
    "points = set()\n",
    "\n",
    "while len(points) < num_points:\n",
    "    # 生成一个随机点\n",
    "    x = np.random.uniform(0, box_x)\n",
    "    y = np.random.uniform(0, box_y)\n",
    "    z = np.random.uniform(0, box_z)\n",
    "    \n",
    "    # 检查点是否在四个圆形区域之外\n",
    "    if not is_inside_circle(x, y, circles):\n",
    "        # 添加到集合中，确保不重复\n",
    "        points.add((x, y, z))\n",
    "\n",
    "# 将集合转换为numpy数组\n",
    "points_array = np.array(list(points))\n",
    "\n",
    "# 输出生成的点\n",
    "print(points_array)\n"
   ]
  },
  {
   "cell_type": "code",
   "execution_count": 12,
   "id": "0a1997af",
   "metadata": {},
   "outputs": [],
   "source": [
    "# 生成随机数，然后融化一下 只要是没有在圆的内部 就可以\n",
    "new_cordinates = []\n",
    "si_count = 26\n",
    "al_count = 27\n",
    "o_count = 0\n",
    "li_count = 28\n",
    "\n",
    "for i in range(si_count):\n",
    "    points_temp = points_array[0:310]\n",
    "    x,y,z = points_temp[i,0],points_temp[i,1],points_temp[i,2]\n",
    "    new_cordinates.append(['Si',x,y,z])\n",
    "    \n",
    "for i in range(al_count):\n",
    "    points_temp = points_array[350:600]\n",
    "    x,y,z = points_temp[i,0],points_temp[i,1],points_temp[i,2]\n",
    "    new_cordinates.append(['Al',x,y,z])\n",
    "    \n",
    "for i in range(o_count):\n",
    "    points_temp = points_array[700:750]\n",
    "    x,y,z = points_temp[i,0],points_temp[i,1],points_temp[i,2]\n",
    "    new_cordinates.append(['O',x,y,z])\n",
    "    \n",
    "    \n",
    "for i in range(li_count):\n",
    "    points_temp = points_array[800:1500]\n",
    "    x,y,z = points_temp[i,0],points_temp[i,1],points_temp[i,2]\n",
    "    new_cordinates.append(['Li',x,y,z])"
   ]
  },
  {
   "cell_type": "code",
   "execution_count": 16,
   "id": "22e24672",
   "metadata": {},
   "outputs": [],
   "source": [
    "final  = all_cordinates0 +  new_cordinates\n",
    "save_path = r'C:\\Users\\zhang\\Desktop\\cif\\paper\\final.xyz'\n"
   ]
  },
  {
   "cell_type": "code",
   "execution_count": 17,
   "id": "900baeb5",
   "metadata": {},
   "outputs": [
    {
     "name": "stdout",
     "output_type": "stream",
     "text": [
      "Filtered coordinates saved to C:\\Users\\zhang\\Desktop\\cif\\paper\\final.xyz\n"
     ]
    }
   ],
   "source": [
    "# 将坐标写回到xyz文件中\n",
    "def write_xyz_file(filename, coordinates):\n",
    "    with open(filename, 'w') as f:\n",
    "        f.write(f\"{len(coordinates)}\\n\")\n",
    "        f.write(\"Atoms\\n\")\n",
    "        for atom, x, y, z in coordinates:\n",
    "            f.write(f\"{atom}    {x:.6f}    {y:.6f}    {z:.6f}\\n\")\n",
    "\n",
    "# 使用示例\n",
    "save_path = save_path  # 设置保存文件的路径和文件名\n",
    "write_xyz_file(save_path, final)\n",
    "print(f\"Filtered coordinates saved to {save_path}\")\n"
   ]
  },
  {
   "cell_type": "code",
   "execution_count": null,
   "id": "990fdd21",
   "metadata": {},
   "outputs": [],
   "source": []
  },
  {
   "cell_type": "code",
   "execution_count": null,
   "id": "2b62636f",
   "metadata": {},
   "outputs": [],
   "source": []
  }
 ],
 "metadata": {
  "kernelspec": {
   "display_name": "Python 3 (ipykernel)",
   "language": "python",
   "name": "python3"
  },
  "language_info": {
   "codemirror_mode": {
    "name": "ipython",
    "version": 3
   },
   "file_extension": ".py",
   "mimetype": "text/x-python",
   "name": "python",
   "nbconvert_exporter": "python",
   "pygments_lexer": "ipython3",
   "version": "3.10.6"
  }
 },
 "nbformat": 4,
 "nbformat_minor": 5
}
