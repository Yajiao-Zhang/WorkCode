{
 "cells": [
  {
   "cell_type": "code",
   "execution_count": 56,
   "id": "e49852c9",
   "metadata": {},
   "outputs": [],
   "source": [
    "file_path = r'C:\\Users\\zhang\\Desktop\\cif\\paper\\cry_O2Si1_ICSD_41672.xyz'\n",
    "save_path = r'C:\\Users\\zhang\\Desktop\\cif\\paper\\A_sio2.xyz'"
   ]
  },
  {
   "cell_type": "code",
   "execution_count": 52,
   "id": "6ca706d7",
   "metadata": {},
   "outputs": [],
   "source": [
    "xmin, xmax = 0, 40\n",
    "ymin, ymax = 0, 40\n",
    "zmin, zmax = 0, 40"
   ]
  },
  {
   "cell_type": "code",
   "execution_count": 53,
   "id": "b47e5fd5",
   "metadata": {},
   "outputs": [],
   "source": [
    "# 读取xyz文件并按照给定条件筛选坐标\n",
    "def read_xyz_file_with_conditions(filename, xmin, xmax, ymin, ymax, zmin, zmax):\n",
    "    coordinates = []\n",
    "    with open(filename, 'r') as f:\n",
    "        lines = f.readlines()\n",
    "        for line in lines[2:]:  # 从第三行开始读取坐标数据\n",
    "            parts = line.split()\n",
    "            if len(parts) >= 4:\n",
    "                atom = parts[0]\n",
    "                x = float(parts[1])\n",
    "                y = float(parts[2])\n",
    "                z = float(parts[3])\n",
    "                # 检查坐标是否在指定范围内\n",
    "                if xmin < x < xmax and ymin < y < ymax and zmin < z < zmax:\n",
    "                    coordinates.append((atom, x, y, z))\n",
    "    return coordinates\n",
    "\n",
    "# 使用示例\n",
    "filename = file_path  # 替换为你的xyz文件名\n",
    "filtered_coordinates = read_xyz_file_with_conditions(filename, xmin, xmax, ymin, ymax, zmin, zmax)"
   ]
  },
  {
   "cell_type": "code",
   "execution_count": 54,
   "id": "fedd456d",
   "metadata": {},
   "outputs": [
    {
     "data": {
      "text/plain": [
       "('Al', 3.965238, 6.867993, 5.697631)"
      ]
     },
     "execution_count": 54,
     "metadata": {},
     "output_type": "execute_result"
    }
   ],
   "source": [
    "filtered_coordinates[0]"
   ]
  },
  {
   "cell_type": "code",
   "execution_count": 55,
   "id": "ada5931e",
   "metadata": {},
   "outputs": [
    {
     "name": "stdout",
     "output_type": "stream",
     "text": [
      "Filtered coordinates saved to C:\\Users\\zhang\\Desktop\\cif\\las\\cry_Al1Li1O4Si1_ICSD_22011.xyz\n"
     ]
    }
   ],
   "source": [
    "# 将坐标写回到xyz文件中\n",
    "def write_xyz_file(filename, coordinates):\n",
    "    with open(filename, 'w') as f:\n",
    "        f.write(f\"{len(coordinates)}\\n\")\n",
    "        f.write(\"Generated XYZ file\\n\")\n",
    "        for atom, x, y, z in coordinates:\n",
    "            f.write(f\"{atom}    {x:.6f}    {y:.6f}    {z:.6f}\\n\")\n",
    "\n",
    "# 使用示例\n",
    "save_path = save_path  # 设置保存文件的路径和文件名\n",
    "write_xyz_file(save_path, filtered_coordinates)\n",
    "print(f\"Filtered coordinates saved to {save_path}\")\n"
   ]
  },
  {
   "cell_type": "code",
   "execution_count": null,
   "id": "ee841c55",
   "metadata": {},
   "outputs": [],
   "source": []
  },
  {
   "cell_type": "code",
   "execution_count": null,
   "id": "ac89f7ae",
   "metadata": {},
   "outputs": [],
   "source": []
  }
 ],
 "metadata": {
  "kernelspec": {
   "display_name": "Python 3 (ipykernel)",
   "language": "python",
   "name": "python3"
  },
  "language_info": {
   "codemirror_mode": {
    "name": "ipython",
    "version": 3
   },
   "file_extension": ".py",
   "mimetype": "text/x-python",
   "name": "python",
   "nbconvert_exporter": "python",
   "pygments_lexer": "ipython3",
   "version": "3.10.6"
  }
 },
 "nbformat": 4,
 "nbformat_minor": 5
}
