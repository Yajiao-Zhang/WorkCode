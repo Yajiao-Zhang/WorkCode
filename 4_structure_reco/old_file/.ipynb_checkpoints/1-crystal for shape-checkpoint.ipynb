{
 "cells": [
  {
   "cell_type": "code",
   "execution_count": 4,
   "id": "e49852c9",
   "metadata": {},
   "outputs": [],
   "source": [
    "file_path = r'C:\\Users\\zhang\\Desktop\\big_try.xyz'\n",
    "save_path = r'C:\\Users\\zhang\\Desktop\\filtered_xyz_file.xyz'"
   ]
  },
  {
   "cell_type": "code",
   "execution_count": 8,
   "id": "b47e5fd5",
   "metadata": {},
   "outputs": [],
   "source": [
    "# 读取xyz文件并按照给定条件筛选坐标\n",
    "def read_xyz_file_with_conditions(filename, xmin, xmax, ymin, ymax, zmin, zmax):\n",
    "    coordinates = []\n",
    "    with open(filename, 'r') as f:\n",
    "        lines = f.readlines()\n",
    "        for line in lines[2:]:  # 从第三行开始读取坐标数据\n",
    "            parts = line.split()\n",
    "            if len(parts) >= 4:\n",
    "                atom = parts[0]\n",
    "                x = float(parts[1])\n",
    "                y = float(parts[2])\n",
    "                z = float(parts[3])\n",
    "                # 检查坐标是否在指定范围内\n",
    "                if xmin < x < xmax and ymin < y < ymax and zmin < z < zmax:\n",
    "                    coordinates.append((atom, x, y, z))\n",
    "    return coordinates\n",
    "\n",
    "# 使用示例\n",
    "filename = file_path  # 替换为你的xyz文件名\n",
    "xmin, xmax = 0, 100\n",
    "ymin, ymax = 0, 100\n",
    "zmin, zmax = 2, 22\n",
    "filtered_coordinates = read_xyz_file_with_conditions(filename, xmin, xmax, ymin, ymax, zmin, zmax)"
   ]
  },
  {
   "cell_type": "code",
   "execution_count": 9,
   "id": "fedd456d",
   "metadata": {},
   "outputs": [
    {
     "data": {
      "text/plain": [
       "('Na', 5.025, 8.703555, 8.38)"
      ]
     },
     "execution_count": 9,
     "metadata": {},
     "output_type": "execute_result"
    }
   ],
   "source": [
    "filtered_coordinates[0]"
   ]
  },
  {
   "cell_type": "code",
   "execution_count": 10,
   "id": "ada5931e",
   "metadata": {},
   "outputs": [
    {
     "name": "stdout",
     "output_type": "stream",
     "text": [
      "Filtered coordinates saved to C:\\Users\\zhang\\Desktop\\filtered_xyz_file.xyz\n"
     ]
    }
   ],
   "source": [
    "# 将坐标写回到xyz文件中\n",
    "def write_xyz_file(filename, coordinates):\n",
    "    with open(filename, 'w') as f:\n",
    "        f.write(f\"{len(coordinates)}\\n\")\n",
    "        f.write(\"Generated XYZ file\\n\")\n",
    "        for atom, x, y, z in coordinates:\n",
    "            f.write(f\"{atom}    {x:.6f}    {y:.6f}    {z:.6f}\\n\")\n",
    "\n",
    "# 使用示例\n",
    "save_path = save_path  # 设置保存文件的路径和文件名\n",
    "write_xyz_file(save_path, filtered_coordinates)\n",
    "print(f\"Filtered coordinates saved to {save_path}\")\n"
   ]
  },
  {
   "cell_type": "code",
   "execution_count": null,
   "id": "ee841c55",
   "metadata": {},
   "outputs": [],
   "source": []
  }
 ],
 "metadata": {
  "kernelspec": {
   "display_name": "Python 3 (ipykernel)",
   "language": "python",
   "name": "python3"
  },
  "language_info": {
   "codemirror_mode": {
    "name": "ipython",
    "version": 3
   },
   "file_extension": ".py",
   "mimetype": "text/x-python",
   "name": "python",
   "nbconvert_exporter": "python",
   "pygments_lexer": "ipython3",
   "version": "3.10.6"
  }
 },
 "nbformat": 4,
 "nbformat_minor": 5
}
