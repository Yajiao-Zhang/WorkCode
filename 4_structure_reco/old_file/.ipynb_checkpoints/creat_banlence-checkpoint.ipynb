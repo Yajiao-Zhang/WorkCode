{
 "cells": [
  {
   "cell_type": "code",
   "execution_count": 8,
   "id": "7e9bdf25",
   "metadata": {},
   "outputs": [],
   "source": [
    "file_path = r'C:\\Users\\zhang\\Desktop\\cif\\paper\\cry_all.xyz'"
   ]
  },
  {
   "cell_type": "code",
   "execution_count": 9,
   "id": "73103a29",
   "metadata": {},
   "outputs": [
    {
     "name": "stdout",
     "output_type": "stream",
     "text": [
      "Coordinates:\n",
      "('O', 20.250212, 76.82515, 4.29712)\n",
      "Total charge: -120.6\n",
      "Positive charge: 5699.4\n",
      "Negative charge: -5820.0\n"
     ]
    }
   ],
   "source": [
    "def read_xyz_file_with_charge(filename):\n",
    "    coordinates = []\n",
    "    total_charge = 0.0\n",
    "    positive_charge = 0.0\n",
    "    negative_charge = 0.0\n",
    "    \n",
    "    charge_dict = {\n",
    "        'Si': 2.4,\n",
    "        'Al': 1.8,\n",
    "        'Li': 0.6,\n",
    "        'O': -1.2\n",
    "    }\n",
    "\n",
    "    with open(filename, 'r') as f:\n",
    "        lines = f.readlines()\n",
    "        for line in lines[2:]:  # 从第三行开始读取坐标数据\n",
    "            parts = line.split()\n",
    "            if len(parts) >= 4:\n",
    "                atom = parts[0]\n",
    "                x = float(parts[1])\n",
    "                y = float(parts[2])\n",
    "                z = float(parts[3])\n",
    "                coordinates.append((atom, x, y, z))\n",
    "                if atom in charge_dict:\n",
    "                    charge = charge_dict[atom]\n",
    "                    total_charge += charge\n",
    "                    if charge > 0:\n",
    "                        positive_charge += charge\n",
    "                    else:\n",
    "                        negative_charge += charge\n",
    "    \n",
    "    return coordinates, total_charge, positive_charge, negative_charge\n",
    "\n",
    "# 使用示例\n",
    "filename = file_path  # 替换为实际的XYZ文件名\n",
    "coordinates, total_charge, positive_charge, negative_charge = read_xyz_file_with_charge(filename)\n",
    "\n",
    "print(\"Coordinates:\")\n",
    "print(coordinates[0])\n",
    "print(\"Total charge:\", round(total_charge,2))\n",
    "print(\"Positive charge:\", round(positive_charge,2))\n",
    "print(\"Negative charge:\", round(negative_charge,2))\n"
   ]
  },
  {
   "cell_type": "code",
   "execution_count": 10,
   "id": "0636118c",
   "metadata": {},
   "outputs": [
    {
     "data": {
      "text/plain": [
       "1072.8"
      ]
     },
     "execution_count": 10,
     "metadata": {},
     "output_type": "execute_result"
    }
   ],
   "source": [
    "2.4*300+1.8*196"
   ]
  },
  {
   "cell_type": "code",
   "execution_count": null,
   "id": "5217cbf9",
   "metadata": {},
   "outputs": [],
   "source": []
  }
 ],
 "metadata": {
  "kernelspec": {
   "display_name": "Python 3 (ipykernel)",
   "language": "python",
   "name": "python3"
  },
  "language_info": {
   "codemirror_mode": {
    "name": "ipython",
    "version": 3
   },
   "file_extension": ".py",
   "mimetype": "text/x-python",
   "name": "python",
   "nbconvert_exporter": "python",
   "pygments_lexer": "ipython3",
   "version": "3.10.6"
  }
 },
 "nbformat": 4,
 "nbformat_minor": 5
}
