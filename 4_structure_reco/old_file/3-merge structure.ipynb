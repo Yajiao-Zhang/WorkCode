{
 "cells": [
  {
   "cell_type": "code",
   "execution_count": 1,
   "id": "1d196632",
   "metadata": {},
   "outputs": [],
   "source": [
    "file_path_1 =  r'C:\\Users\\zhang\\Desktop\\struct_reco\\glass_shape.xyz'\n",
    "file_path_2 = r'C:\\Users\\zhang\\Desktop\\struct_reco\\crystal_shape.xyz'\n",
    "##########\n",
    "save_path = r'C:\\Users\\zhang\\Desktop\\struct_reco\\merge_struct.xyz'"
   ]
  },
  {
   "cell_type": "code",
   "execution_count": 2,
   "id": "a0d26fa3",
   "metadata": {},
   "outputs": [],
   "source": [
    "def read_xyz_file(filename):\n",
    "    coordinates = []\n",
    "    with open(filename, 'r') as f:\n",
    "        lines = f.readlines()\n",
    "        for line in lines[2:]:  # 从第三行开始读取坐标数据\n",
    "            parts = line.split()\n",
    "            if len(parts) >= 4:\n",
    "                atom = parts[0]\n",
    "                x = float(parts[1])\n",
    "                y = float(parts[2])\n",
    "                z = float(parts[3])\n",
    "                coordinates.append((atom, x, y, z))\n",
    "    return coordinates\n",
    "\n",
    "def merge_xyz_files(filenames):\n",
    "    all_coordinates = []\n",
    "    for filename in filenames:\n",
    "        coordinates = read_xyz_file(filename)\n",
    "        all_coordinates.extend(coordinates)\n",
    "    return all_coordinates"
   ]
  },
  {
   "cell_type": "code",
   "execution_count": 3,
   "id": "e69ab895",
   "metadata": {},
   "outputs": [],
   "source": [
    "# 文件名列表示例\n",
    "filenames = [file_path_1, file_path_2]  # 替换为实际的文件名列表\n",
    "\n",
    "# 合并并读取文件\n",
    "merged_coordinates = merge_xyz_files(filenames)\n"
   ]
  },
  {
   "cell_type": "code",
   "execution_count": 4,
   "id": "78e79a03",
   "metadata": {},
   "outputs": [
    {
     "data": {
      "text/plain": [
       "('O', 6.199284, 12.339344, 11.5449)"
      ]
     },
     "execution_count": 4,
     "metadata": {},
     "output_type": "execute_result"
    }
   ],
   "source": [
    "merged_coordinates[0]"
   ]
  },
  {
   "cell_type": "code",
   "execution_count": 5,
   "id": "11984b54",
   "metadata": {},
   "outputs": [
    {
     "name": "stdout",
     "output_type": "stream",
     "text": [
      "Filtered coordinates saved to C:\\Users\\zhang\\Desktop\\struct_reco\\merge_struct.xyz\n"
     ]
    }
   ],
   "source": [
    "# 将坐标写回到xyz文件中\n",
    "def write_xyz_file(filename, coordinates):\n",
    "    with open(filename, 'w') as f:\n",
    "        f.write(f\"{len(coordinates)}\\n\")\n",
    "        f.write(\"Generated XYZ file\\n\")\n",
    "        for atom, x, y, z in coordinates:\n",
    "            f.write(f\"{atom}    {x:.6f}    {y:.6f}    {z:.6f}\\n\")\n",
    "\n",
    "# 使用示例\n",
    "save_path = save_path  # 设置保存文件的路径和文件名\n",
    "write_xyz_file(save_path, merged_coordinates)\n",
    "print(f\"Filtered coordinates saved to {save_path}\")\n"
   ]
  },
  {
   "cell_type": "code",
   "execution_count": null,
   "id": "1c855a4e",
   "metadata": {},
   "outputs": [],
   "source": []
  }
 ],
 "metadata": {
  "kernelspec": {
   "display_name": "Python 3 (ipykernel)",
   "language": "python",
   "name": "python3"
  },
  "language_info": {
   "codemirror_mode": {
    "name": "ipython",
    "version": 3
   },
   "file_extension": ".py",
   "mimetype": "text/x-python",
   "name": "python",
   "nbconvert_exporter": "python",
   "pygments_lexer": "ipython3",
   "version": "3.10.6"
  }
 },
 "nbformat": 4,
 "nbformat_minor": 5
}
