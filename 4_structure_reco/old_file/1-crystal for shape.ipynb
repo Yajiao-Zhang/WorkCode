{
 "cells": [
  {
   "cell_type": "code",
   "execution_count": 1,
   "id": "e49852c9",
   "metadata": {},
   "outputs": [],
   "source": [
    "file_path = r'C:\\Users\\zhang\\Desktop\\struct_reco\\big_try.xyz'\n",
    "save_path = r'C:\\Users\\zhang\\Desktop\\struct_reco\\crystal_shape.xyz'"
   ]
  },
  {
   "cell_type": "code",
   "execution_count": 2,
   "id": "b47e5fd5",
   "metadata": {},
   "outputs": [],
   "source": [
    "def check_condition(x, y, z, conditions):\n",
    "    for condition in conditions:\n",
    "        if condition(x, y, z):\n",
    "            return True\n",
    "    return False\n",
    "\n",
    "def read_xyz_file_with_conditions(filename, conditions):\n",
    "    coordinates = []\n",
    "    with open(filename, 'r') as f:\n",
    "        lines = f.readlines()\n",
    "        for line in lines[2:]:  # 从第三行开始读取坐标数据\n",
    "            parts = line.split()\n",
    "            if len(parts) >= 4:\n",
    "                atom = parts[0]\n",
    "                x = float(parts[1])\n",
    "                y = float(parts[2])\n",
    "                z = float(parts[3])\n",
    "                if check_condition(x, y, z, conditions):\n",
    "                    coordinates.append((atom, x, y, z))\n",
    "    return coordinates\n",
    "\n",
    "# 条件函数定义\n",
    "def condition1(x, y, z):\n",
    "    return ((x - 25)**2 + (y - 75)**2 < 18**2) and (2 < z < 22)\n",
    "\n",
    "def condition2(x, y, z):\n",
    "    return (50 < x < 80) and (20 < y < 50) and (2 < z < 22)\n",
    "\n",
    "# 使用示例\n",
    "filename = file_path  # 将文件名替换为你的实际xyz文件名\n",
    "conditions = [condition1, condition2]\n",
    "filtered_coordinates = read_xyz_file_with_conditions(filename, conditions)"
   ]
  },
  {
   "cell_type": "code",
   "execution_count": 3,
   "id": "fedd456d",
   "metadata": {},
   "outputs": [
    {
     "data": {
      "text/plain": [
       "('Na', 15.075, 60.924888, 8.38)"
      ]
     },
     "execution_count": 3,
     "metadata": {},
     "output_type": "execute_result"
    }
   ],
   "source": [
    "filtered_coordinates[0]"
   ]
  },
  {
   "cell_type": "code",
   "execution_count": 4,
   "id": "ada5931e",
   "metadata": {},
   "outputs": [
    {
     "name": "stdout",
     "output_type": "stream",
     "text": [
      "Filtered coordinates saved to C:\\Users\\zhang\\Desktop\\struct_reco\\crystal_shape.xyz\n"
     ]
    }
   ],
   "source": [
    "# 将坐标写回到xyz文件中\n",
    "def write_xyz_file(filename, coordinates):\n",
    "    with open(filename, 'w') as f:\n",
    "        f.write(f\"{len(coordinates)}\\n\")\n",
    "        f.write(\"Generated XYZ file\\n\")\n",
    "        for atom, x, y, z in coordinates:\n",
    "            f.write(f\"{atom}    {x:.6f}    {y:.6f}    {z:.6f}\\n\")\n",
    "\n",
    "# 使用示例\n",
    "save_path = save_path  # 设置保存文件的路径和文件名\n",
    "write_xyz_file(save_path, filtered_coordinates)\n",
    "print(f\"Filtered coordinates saved to {save_path}\")\n"
   ]
  },
  {
   "cell_type": "code",
   "execution_count": null,
   "id": "ee841c55",
   "metadata": {},
   "outputs": [],
   "source": []
  }
 ],
 "metadata": {
  "kernelspec": {
   "display_name": "Python 3 (ipykernel)",
   "language": "python",
   "name": "python3"
  },
  "language_info": {
   "codemirror_mode": {
    "name": "ipython",
    "version": 3
   },
   "file_extension": ".py",
   "mimetype": "text/x-python",
   "name": "python",
   "nbconvert_exporter": "python",
   "pygments_lexer": "ipython3",
   "version": "3.10.6"
  }
 },
 "nbformat": 4,
 "nbformat_minor": 5
}
