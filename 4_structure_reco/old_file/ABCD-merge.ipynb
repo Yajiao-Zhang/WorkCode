{
 "cells": [
  {
   "cell_type": "code",
   "execution_count": 19,
   "id": "1d196632",
   "metadata": {},
   "outputs": [],
   "source": [
    "# glass\n",
    "file_path_0 = r'C:\\Users\\zhang\\Desktop\\cif\\paper\\las_0.xyz'\n",
    "# \n",
    "file_path_A =  r'C:\\Users\\zhang\\Desktop\\cif\\paper\\A_sio2.xyz'\n",
    "file_path_B = r'C:\\Users\\zhang\\Desktop\\cif\\paper\\B_lialsio4.xyz'\n",
    "file_path_C = r'C:\\Users\\zhang\\Desktop\\cif\\paper\\C_lialsi2o6.xyz'\n",
    "file_path_D = r'C:\\Users\\zhang\\Desktop\\cif\\paper\\D_lialsi2o6.xyz'\n",
    "\n",
    "##########\n",
    "save_path = r'C:\\Users\\zhang\\Desktop\\cif\\paper\\all_cry.xyz'"
   ]
  },
  {
   "cell_type": "code",
   "execution_count": 20,
   "id": "4bc44946",
   "metadata": {},
   "outputs": [],
   "source": [
    "def read_xyz_file(filename,dx,dy,dz):\n",
    "    coordinates = []\n",
    "    with open(filename, 'r') as f:\n",
    "        lines = f.readlines()\n",
    "        for line in lines[2:]:  # 从第三行开始读取坐标数据\n",
    "            parts = line.split()\n",
    "            if len(parts) >= 4:\n",
    "                atom = parts[0]\n",
    "                x = float(parts[1])+dx\n",
    "                y = float(parts[2])+dy\n",
    "                z = float(parts[3])+dz\n",
    "                coordinates.append((atom, x, y, z))\n",
    "    return coordinates"
   ]
  },
  {
   "cell_type": "code",
   "execution_count": 21,
   "id": "c3419d95",
   "metadata": {},
   "outputs": [],
   "source": [
    "list_A = read_xyz_file(file_path_A,10,70,0)\n",
    "list_B = read_xyz_file(file_path_B,70,70,0)\n",
    "list_C = read_xyz_file(file_path_C,-20,-20,0)\n",
    "list_D = read_xyz_file(file_path_D,70,10,0)\n",
    "#list_g = read_xyz_file(file_path_0,0,0,0)"
   ]
  },
  {
   "cell_type": "code",
   "execution_count": 22,
   "id": "ba94033c",
   "metadata": {},
   "outputs": [
    {
     "data": {
      "text/plain": [
       "('O', 20.250211999999998, 76.82515, 4.29712)"
      ]
     },
     "execution_count": 22,
     "metadata": {},
     "output_type": "execute_result"
    }
   ],
   "source": [
    "list_A[0]"
   ]
  },
  {
   "cell_type": "markdown",
   "id": "2d001e71",
   "metadata": {},
   "source": [
    "def merge_xyz_files(list_all):\n",
    "    all_coordinates = []\n",
    "    for list_temp in list_all:\n",
    "        all_coordinates+list_temp\n",
    "    return all_coordinates"
   ]
  },
  {
   "cell_type": "code",
   "execution_count": 23,
   "id": "e69ab895",
   "metadata": {},
   "outputs": [],
   "source": [
    "# 文件名列表示例\n",
    "# list_all= [list_A,list_B,list_C, list_D, list_g]  # 替换为实际的文件名列表\n",
    "all_coordinates = list_A + list_B + list_C + list_D\n",
    "# 合并并读取文件\n",
    "merged_coordinates = all_coordinates \n"
   ]
  },
  {
   "cell_type": "code",
   "execution_count": 24,
   "id": "78e79a03",
   "metadata": {},
   "outputs": [
    {
     "data": {
      "text/plain": [
       "('O', 20.250211999999998, 76.82515, 4.29712)"
      ]
     },
     "execution_count": 24,
     "metadata": {},
     "output_type": "execute_result"
    }
   ],
   "source": [
    "merged_coordinates[0]"
   ]
  },
  {
   "cell_type": "code",
   "execution_count": 25,
   "id": "11984b54",
   "metadata": {},
   "outputs": [
    {
     "name": "stdout",
     "output_type": "stream",
     "text": [
      "Filtered coordinates saved to C:\\Users\\zhang\\Desktop\\cif\\paper\\all_cry.xyz\n"
     ]
    }
   ],
   "source": [
    "# 将坐标写回到xyz文件中\n",
    "def write_xyz_file(filename, coordinates):\n",
    "    with open(filename, 'w') as f:\n",
    "        f.write(f\"{len(coordinates)}\\n\")\n",
    "        f.write(\"Generated XYZ file\\n\")\n",
    "        for atom, x, y, z in coordinates:\n",
    "            f.write(f\"{atom}    {x:.6f}    {y:.6f}    {z:.6f}\\n\")\n",
    "\n",
    "# 使用示例\n",
    "save_path = save_path  # 设置保存文件的路径和文件名\n",
    "write_xyz_file(save_path, merged_coordinates)\n",
    "print(f\"Filtered coordinates saved to {save_path}\")\n"
   ]
  },
  {
   "cell_type": "code",
   "execution_count": null,
   "id": "1c855a4e",
   "metadata": {},
   "outputs": [],
   "source": []
  },
  {
   "cell_type": "code",
   "execution_count": null,
   "id": "21cb1a4b",
   "metadata": {},
   "outputs": [],
   "source": []
  },
  {
   "cell_type": "code",
   "execution_count": null,
   "id": "86aceb51",
   "metadata": {},
   "outputs": [],
   "source": []
  }
 ],
 "metadata": {
  "kernelspec": {
   "display_name": "Python 3 (ipykernel)",
   "language": "python",
   "name": "python3"
  },
  "language_info": {
   "codemirror_mode": {
    "name": "ipython",
    "version": 3
   },
   "file_extension": ".py",
   "mimetype": "text/x-python",
   "name": "python",
   "nbconvert_exporter": "python",
   "pygments_lexer": "ipython3",
   "version": "3.10.6"
  }
 },
 "nbformat": 4,
 "nbformat_minor": 5
}
