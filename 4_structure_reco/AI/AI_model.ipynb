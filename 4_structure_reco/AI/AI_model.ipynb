{
 "cells": [
  {
   "cell_type": "code",
   "execution_count": 1,
   "id": "cd11fc5a",
   "metadata": {},
   "outputs": [],
   "source": [
    "#!/usr/bin/env python\n",
    "# coding: utf-8\n",
    "\n",
    "import numpy as np\n",
    "import matplotlib.pyplot as plt\n",
    "\n",
    "import torch\n",
    "import torch.nn as nn\n",
    "import torch.optim as optim\n",
    "from torch.utils.data import Dataset, DataLoader\n",
    "import torch.nn.functional as F"
   ]
  },
  {
   "cell_type": "code",
   "execution_count": null,
   "id": "cefbb938-607c-483b-a838-4d93af8cd536",
   "metadata": {},
   "outputs": [],
   "source": []
  },
  {
   "cell_type": "code",
   "execution_count": 6,
   "id": "577b32e7",
   "metadata": {},
   "outputs": [],
   "source": [
    "Train_file = []\n",
    "# 数据文件夹\n",
    "data_path =  r'C:\\Users\\zhang\\Desktop\\桌面资料\\论文\\AI_test\\npy_file'\n",
    "train_data_name = ['1glass_2500k.npy','2glass_2500k.npy','11glass_300k.npy','21glass_300k.npy',\n",
    "                   '1cry_2500k.npy','2cry_2500k.npy','11crystal_300k.npy','21crystal_300k.npy',]"
   ]
  },
  {
   "cell_type": "code",
   "execution_count": 7,
   "id": "0997d000",
   "metadata": {},
   "outputs": [],
   "source": [
    "Train_data,Train_label = [],[]\n",
    "for i in range(len(train_data_name)):\n",
    "    Train_file.append(data_path + '\\\\'+ train_data_name[i])"
   ]
  },
  {
   "cell_type": "code",
   "execution_count": 8,
   "id": "40cf0b6d",
   "metadata": {},
   "outputs": [],
   "source": [
    "def out_shape():\n",
    "    print('Train_data:',np.array(Train_data).shape)\n",
    "    print('Train_label:',np.array(Train_label).shape)"
   ]
  },
  {
   "cell_type": "code",
   "execution_count": 9,
   "id": "d025fdbb",
   "metadata": {},
   "outputs": [],
   "source": [
    "Train_data =  [np.load(data_path) for data_path in Train_file]\n",
    "Train_label = [0] * 4000 + [1] * 4000"
   ]
  },
  {
   "cell_type": "code",
   "execution_count": 10,
   "id": "a687e79a",
   "metadata": {},
   "outputs": [],
   "source": [
    "Train_data = np.array(Train_data ).reshape(-1,45,4)"
   ]
  },
  {
   "cell_type": "code",
   "execution_count": 11,
   "id": "7d148a37",
   "metadata": {},
   "outputs": [
    {
     "name": "stdout",
     "output_type": "stream",
     "text": [
      "Train_data: (8000, 45, 4)\n",
      "Train_label: (8000,)\n"
     ]
    }
   ],
   "source": [
    "out_shape()"
   ]
  },
  {
   "cell_type": "markdown",
   "id": "423a220d",
   "metadata": {},
   "source": [
    "# # 模型建立与训练"
   ]
  },
  {
   "cell_type": "code",
   "execution_count": 3,
   "id": "72b8ad11",
   "metadata": {},
   "outputs": [],
   "source": [
    "class PointNet(nn.Module):\n",
    "    def __init__(self):\n",
    "        super(PointNet, self).__init__()\n",
    "        \n",
    "        # MLP做局部特征提取\n",
    "        self.mlp1 = nn.Sequential(\n",
    "            nn.Conv1d(4, 64, 1),\n",
    "            nn.BatchNorm1d(64),\n",
    "            nn.ReLU(),\n",
    "            nn.Conv1d(64, 64, 1),\n",
    "            nn.BatchNorm1d(64),\n",
    "            nn.ReLU()\n",
    "        )\n",
    "        \n",
    "        # 提取全局特征\n",
    "        self.mlp2 = nn.Sequential(\n",
    "            nn.Conv1d(64, 128, 1),\n",
    "            nn.BatchNorm1d(128),\n",
    "            nn.ReLU(),\n",
    "            nn.Conv1d(128, 1024, 1),\n",
    "            nn.BatchNorm1d(1024),\n",
    "            nn.ReLU()\n",
    "        )\n",
    "        \n",
    "        # 全连接网络进行分类\n",
    "        self.fc1 = nn.Linear(1024, 512)\n",
    "        self.fc2 = nn.Linear(512, 256)\n",
    "        self.fc3 = nn.Linear(256, 2)\n",
    "    \n",
    "    def forward(self, x):\n",
    "        # 对输入张量x进行维度排列操作，将通道维度放在第二个位置。\n",
    "        x = x.permute(0, 2, 1)\n",
    "        \n",
    "        # 局部特征提取\n",
    "        x = self.mlp1(x)\n",
    "        \n",
    "        # 最大池化操作，以获得全局特征。\n",
    "        x = torch.max(x, dim=2)[0]\n",
    "        \n",
    "        # 特征提取\n",
    "        x = self.mlp2(x.unsqueeze(2))\n",
    "        \n",
    "        # 再次进行最大池化操作，以获得最终的全局特征\n",
    "        x = torch.max(x, dim=2)[0]\n",
    "        \n",
    "        # 分类层\n",
    "        x = self.fc1(x)\n",
    "        x = self.fc2(x)\n",
    "        x = self.fc3(x)\n",
    "        # 应用Softmax函数\n",
    "        # x = torch.softmax(x, dim=-1)\n",
    "        \n",
    "        return x"
   ]
  },
  {
   "cell_type": "code",
   "execution_count": 4,
   "id": "0a0fb699",
   "metadata": {},
   "outputs": [],
   "source": [
    "# 参数设置\n",
    "batch_size = 64\n",
    "num_epochs = 50"
   ]
  },
  {
   "cell_type": "code",
   "execution_count": 15,
   "id": "60c66fb5",
   "metadata": {},
   "outputs": [],
   "source": [
    "# 将数据转换为Tensor\n",
    "train_data = torch.Tensor(Train_data)\n",
    "train_labels = torch.Tensor(Train_label).long()\n",
    "\n",
    "# 创建数据集和数据加载器\n",
    "dataset = torch.utils.data.TensorDataset(train_data, train_labels)\n",
    "dataloader = torch.utils.data.DataLoader(dataset, batch_size=batch_size, shuffle=True)"
   ]
  },
  {
   "cell_type": "code",
   "execution_count": 6,
   "id": "aefaede7",
   "metadata": {},
   "outputs": [
    {
     "ename": "NameError",
     "evalue": "name 'dataloader' is not defined",
     "output_type": "error",
     "traceback": [
      "\u001b[1;31m---------------------------------------------------------------------------\u001b[0m",
      "\u001b[1;31mNameError\u001b[0m                                 Traceback (most recent call last)",
      "Input \u001b[1;32mIn [6]\u001b[0m, in \u001b[0;36m<cell line: 17>\u001b[1;34m()\u001b[0m\n\u001b[0;32m     16\u001b[0m \u001b[38;5;66;03m# 训练模型\u001b[39;00m\n\u001b[0;32m     17\u001b[0m \u001b[38;5;28;01mfor\u001b[39;00m epoch \u001b[38;5;129;01min\u001b[39;00m \u001b[38;5;28mrange\u001b[39m(num_epochs):\n\u001b[1;32m---> 18\u001b[0m     \u001b[38;5;28;01mfor\u001b[39;00m batch_data, batch_labels \u001b[38;5;129;01min\u001b[39;00m \u001b[43mdataloader\u001b[49m:\n\u001b[0;32m     19\u001b[0m         optimizer\u001b[38;5;241m.\u001b[39mzero_grad()\n\u001b[0;32m     20\u001b[0m         outputs \u001b[38;5;241m=\u001b[39m model(batch_data)\n",
      "\u001b[1;31mNameError\u001b[0m: name 'dataloader' is not defined"
     ]
    }
   ],
   "source": [
    "# 创建PointNet模型实例\n",
    "model = PointNet()\n",
    "model.train()\n",
    "# 定义损失函数和优化器\n",
    "criterion = nn.CrossEntropyLoss()\n",
    "optimizer = optim.Adam(model.parameters(), lr=0.001)\n",
    "\n",
    "# 保存loss最小的那次模型\n",
    "best_loss = float('inf')  # 初始化为正无穷大\n",
    "best_model_state_dict = None\n",
    "\n",
    "\n",
    "# 准备数据集并进行训练\n",
    "# 假设train_data是训练数据集，train_labels是对应的标签\n",
    "list_loss = []\n",
    "# 训练模型\n",
    "for epoch in range(num_epochs):\n",
    "    for batch_data, batch_labels in dataloader:\n",
    "        optimizer.zero_grad()\n",
    "        outputs = model(batch_data)\n",
    "        loss = criterion(outputs, batch_labels)\n",
    "        loss.backward()\n",
    "        optimizer.step()\n",
    "    # 找到最小的loss 并保存\n",
    "    if loss.detach().numpy() < best_loss:\n",
    "        best_loss = loss.detach().numpy()\n",
    "        best_model_state_dict = model.state_dict()\n",
    "    list_loss.append(loss)\n",
    "    if epoch%20==0:\n",
    "        print('Epochs:',epoch,' loss: ',loss.detach().numpy())"
   ]
  },
  {
   "cell_type": "code",
   "execution_count": 17,
   "id": "c0db77db",
   "metadata": {},
   "outputs": [
    {
     "data": {
      "text/plain": [
       "Text(0.5, 1.0, 'Loss with epochs')"
      ]
     },
     "execution_count": 17,
     "metadata": {},
     "output_type": "execute_result"
    },
    {
     "data": {
      "image/png": "[encoded data removed]",
      "text/plain": [
       "<Figure size 432x288 with 1 Axes>"
      ]
     },
     "metadata": {
      "needs_background": "light"
     },
     "output_type": "display_data"
    }
   ],
   "source": [
    "# 画图\n",
    "list_loss_np_y = []\n",
    "list_loss_x = []\n",
    "for i in range(len(list_loss)):\n",
    "    numpy_array = list_loss[i].detach().numpy()\n",
    "    list_loss_np_y.append(numpy_array)\n",
    "    list_loss_x.append(i)\n",
    "plt.plot(list_loss_x,list_loss_np_y)\n",
    "plt.title('Loss with epochs')"
   ]
  },
  {
   "cell_type": "markdown",
   "id": "c5a2f51e",
   "metadata": {},
   "source": [
    "# 保存最好的那个模型\n",
    "torch.save(best_model_state_dict, 'best_model.pth')\n"
   ]
  },
  {
   "cell_type": "markdown",
   "id": "b842bfc7",
   "metadata": {},
   "source": [
    "# 模型保存与加载"
   ]
  },
  {
   "cell_type": "code",
   "execution_count": 18,
   "id": "15cbc780",
   "metadata": {},
   "outputs": [],
   "source": [
    "# 保存完整模型（包括模型结构和参数）\n",
    "model_path = 'model_low_and_high.pth'\n",
    "torch.save(model, model_path)"
   ]
  },
  {
   "cell_type": "code",
   "execution_count": 20,
   "id": "751bf262",
   "metadata": {},
   "outputs": [],
   "source": [
    "# 创建PointNet模型实例\n",
    "model = PointNet()\n",
    "# 加载完整模型\n",
    "model = torch.load('model_500_95.pth')"
   ]
  },
  {
   "cell_type": "markdown",
   "id": "8f40dddf",
   "metadata": {},
   "source": [
    "# 模式测试"
   ]
  },
  {
   "cell_type": "code",
   "execution_count": 8,
   "id": "a95e4cd1",
   "metadata": {},
   "outputs": [
    {
     "ename": "NameError",
     "evalue": "name 'data_path' is not defined",
     "output_type": "error",
     "traceback": [
      "\u001b[1;31m---------------------------------------------------------------------------\u001b[0m",
      "\u001b[1;31mNameError\u001b[0m                                 Traceback (most recent call last)",
      "Input \u001b[1;32mIn [8]\u001b[0m, in \u001b[0;36m<cell line: 7>\u001b[1;34m()\u001b[0m\n\u001b[0;32m      6\u001b[0m Test_data,Test_label,Test_file \u001b[38;5;241m=\u001b[39m [],[],[]\n\u001b[0;32m      7\u001b[0m \u001b[38;5;28;01mfor\u001b[39;00m i \u001b[38;5;129;01min\u001b[39;00m \u001b[38;5;28mrange\u001b[39m(\u001b[38;5;28mlen\u001b[39m(test_data_name)):\n\u001b[1;32m----> 8\u001b[0m     Test_file\u001b[38;5;241m.\u001b[39mappend(\u001b[43mdata_path\u001b[49m \u001b[38;5;241m+\u001b[39m \u001b[38;5;124m'\u001b[39m\u001b[38;5;130;01m\\\\\u001b[39;00m\u001b[38;5;124m'\u001b[39m \u001b[38;5;241m+\u001b[39m test_data_name[i])\n",
      "\u001b[1;31mNameError\u001b[0m: name 'data_path' is not defined"
     ]
    }
   ],
   "source": [
    "#  测试数据\n",
    "\n",
    "\n",
    "test_data_name = ['3glass_2500k.npy','3cry_2500k.npy']\n",
    "# data_path =  r'C:\\Users\\zhang\\Desktop\\桌面资料\\论文\\AI_test\\npy_file'\n",
    "Test_data,Test_label,Test_file = [],[],[]\n",
    "for i in range(len(test_data_name)):\n",
    "    Test_file.append(data_path + '\\\\' + test_data_name[i])"
   ]
  },
  {
   "cell_type": "code",
   "execution_count": 19,
   "id": "1b923ba6",
   "metadata": {},
   "outputs": [
    {
     "name": "stdout",
     "output_type": "stream",
     "text": [
      "Test_data: (2000, 45, 4)\n",
      "Test_label: (2000,)\n"
     ]
    }
   ],
   "source": [
    "# \n",
    "Test_data =  [np.load(data_path) for data_path in Test_file]\n",
    "Test_label = [0] * 1000 + [1] * 1000\n",
    "Test_data = np.array(Test_data ).reshape(-1,45,4)\n",
    "print('Test_data:',np.array(Test_data).shape)\n",
    "print('Test_label:',np.array(Test_label).shape)"
   ]
  },
  {
   "cell_type": "code",
   "execution_count": 20,
   "id": "63e35ead",
   "metadata": {},
   "outputs": [],
   "source": [
    "# 将数据转换为Tensor\n",
    "test_data = torch.Tensor(Test_data)\n",
    "test_labels = torch.Tensor(Test_label).long()\n",
    "\n",
    "# 创建测试数据集和数据加载器\n",
    "test_dataset = torch.utils.data.TensorDataset(test_data, test_labels)\n",
    "test_dataloader = torch.utils.data.DataLoader(test_dataset, batch_size=batch_size, shuffle=False)"
   ]
  },
  {
   "cell_type": "code",
   "execution_count": 21,
   "id": "4a93a403",
   "metadata": {},
   "outputs": [
    {
     "name": "stdout",
     "output_type": "stream",
     "text": [
      "Accuracy: 88.95%\n"
     ]
    }
   ],
   "source": [
    "# 设置模型为评估模式\n",
    "model.eval()\n",
    "probability_list = []\n",
    "wrong_list = []\n",
    "with torch.no_grad():\n",
    "    correct = 0\n",
    "    total = 0\n",
    "    \n",
    "    for batch_data, batch_labels in test_dataloader:\n",
    "        outputs = model(batch_data)\n",
    "        max_values, predicted = torch.max(outputs, dim=1)\n",
    "        correct += (predicted == batch_labels).sum().item()\n",
    "        # \n",
    "        probability_list.append(torch.softmax(outputs, dim=1))\n",
    "        # 如果有错误的 看一下错误率差多少\n",
    "        if (predicted == batch_labels).sum().item()<batch_size:\n",
    "            wrong_list.append([predicted,batch_labels,torch.softmax(outputs, dim=1)])\n",
    "        \n",
    "    #print(predicted[:5])\n",
    "    # 计算准确率\n",
    "    total = test_data.size(0)\n",
    "    accuracy = correct / total * 100\n",
    "    print(f\"Accuracy: {accuracy:.2f}%\")"
   ]
  },
  {
   "cell_type": "code",
   "execution_count": 22,
   "id": "dfd0a79d",
   "metadata": {},
   "outputs": [
    {
     "data": {
      "text/plain": [
       "1779"
      ]
     },
     "execution_count": 22,
     "metadata": {},
     "output_type": "execute_result"
    }
   ],
   "source": [
    "correct"
   ]
  },
  {
   "cell_type": "markdown",
   "id": "e991d827",
   "metadata": {},
   "source": [
    "# 查看正确率分布"
   ]
  },
  {
   "cell_type": "code",
   "execution_count": 23,
   "id": "2eb242f6",
   "metadata": {},
   "outputs": [
    {
     "name": "stdout",
     "output_type": "stream",
     "text": [
      "tensor([0.0028, 0.9972])\n",
      "tensor([1.0844e-04, 9.9989e-01])\n",
      "tensor([0.6241, 0.3759])\n",
      "tensor([9.9997e-01, 3.3635e-05])\n",
      "tensor([0.9982, 0.0018])\n",
      "tensor([9.9997e-01, 2.7331e-05])\n",
      "tensor([0.9650, 0.0350])\n",
      "tensor([0.9355, 0.0645])\n",
      "tensor([9.9901e-01, 9.9053e-04])\n",
      "tensor([9.9957e-01, 4.3362e-04])\n",
      "tensor([0.6193, 0.3807])\n"
     ]
    }
   ],
   "source": [
    "for temp_list in wrong_list:\n",
    "    for i in range(len(temp_list)):\n",
    "        if (temp_list[0][i] != temp_list[1][i]).any():\n",
    "            print(temp_list[2][i])"
   ]
  },
  {
   "cell_type": "code",
   "execution_count": 32,
   "id": "f1b513dc",
   "metadata": {},
   "outputs": [
    {
     "data": {
      "text/plain": [
       "32"
      ]
     },
     "execution_count": 32,
     "metadata": {},
     "output_type": "execute_result"
    }
   ],
   "source": [
    "len(probability_list)"
   ]
  },
  {
   "cell_type": "code",
   "execution_count": 34,
   "id": "7e889b7f",
   "metadata": {},
   "outputs": [],
   "source": [
    "probalility = []\n",
    "for i_list in probability_list:\n",
    "    for j in i_list:\n",
    "        probalility.append(j[0])"
   ]
  },
  {
   "cell_type": "code",
   "execution_count": 36,
   "id": "e90dd44a",
   "metadata": {},
   "outputs": [
    {
     "data": {
      "text/plain": [
       "<matplotlib.collections.PathCollection at 0x17068199630>"
      ]
     },
     "execution_count": 36,
     "metadata": {},
     "output_type": "execute_result"
    },
    {
     "data": {
      "image/png": "[encoded data removed]",
      "text/plain": [
       "<Figure size 432x288 with 1 Axes>"
      ]
     },
     "metadata": {
      "needs_background": "light"
     },
     "output_type": "display_data"
    }
   ],
   "source": [
    "plt.scatter(range(len(probalility)),probalility)"
   ]
  },
  {
   "cell_type": "code",
   "execution_count": 41,
   "id": "8720ed60",
   "metadata": {},
   "outputs": [
    {
     "name": "stdout",
     "output_type": "stream",
     "text": [
      "2000\n",
      "153\n"
     ]
    }
   ],
   "source": [
    "print(len(probalility))\n",
    "medium_i = []\n",
    "for i in probalility:\n",
    "    if 0.1<i<0.8:\n",
    "        medium_i.append(i.float())\n",
    "print(len(medium_i))"
   ]
  },
  {
   "cell_type": "markdown",
   "id": "f22e7872",
   "metadata": {},
   "source": [
    "# 模型预测"
   ]
  },
  {
   "cell_type": "code",
   "execution_count": 21,
   "id": "0102b690",
   "metadata": {},
   "outputs": [],
   "source": [
    "# 原有数据处理后的npy文件\n",
    "npy_path = r'C:\\Users\\zhang\\Desktop\\桌面资料\\论文\\AI_test\\26k-paper_data\\26kcry_0p.npy'\n",
    "\n",
    "# 原有的xyz文件\n",
    "xyz_path = r'C:\\Users\\zhang\\Desktop\\桌面资料\\论文\\AI_test\\26k-paper_data\\old_2600k_0p.xyz'\n",
    "\n",
    "# 新产生的xyz识别文件\n",
    "new_xyz_path = r'C:\\Users\\zhang\\Desktop\\桌面资料\\论文\\AI_test\\26k-paper_data\\pre_2600k_0p.xyz'"
   ]
  },
  {
   "cell_type": "code",
   "execution_count": 22,
   "id": "5f50c006",
   "metadata": {},
   "outputs": [
    {
     "data": {
      "text/plain": [
       "(3000, 45, 4)"
      ]
     },
     "execution_count": 22,
     "metadata": {},
     "output_type": "execute_result"
    }
   ],
   "source": [
    "Predict_data_list = np.load(npy_path)\n",
    "Predict_label = np.zeros(len(Predict_data_list))\n",
    "np.array(Predict_data_list).shape"
   ]
  },
  {
   "cell_type": "code",
   "execution_count": 23,
   "id": "31329be6",
   "metadata": {},
   "outputs": [],
   "source": [
    "# 将数据转换为Tensor\n",
    "predict_data = torch.Tensor(Predict_data_list)\n",
    "predict_labels = torch.Tensor(Predict_label).long()\n",
    "\n",
    "# 创建数据集和数据加载器\n",
    "dataset = torch.utils.data.TensorDataset(predict_data, predict_labels)\n",
    "pre_dataloader = torch.utils.data.DataLoader(dataset, batch_size=batch_size, shuffle=False)"
   ]
  },
  {
   "cell_type": "code",
   "execution_count": 24,
   "id": "9ceb38bf",
   "metadata": {},
   "outputs": [],
   "source": [
    "# 设置模型为评估模式\n",
    "model.eval()\n",
    "labe_lsit = []       # 记录预测标签的结果\n",
    "proba_list = []  # 用于记录每个点的可能性\n",
    "with torch.no_grad():\n",
    "    for batch_data, batch_labels in pre_dataloader:\n",
    "        outputs = model(batch_data)\n",
    "        proba_list.append(torch.softmax(outputs, dim=1))\n",
    "        _, predicted = torch.max(outputs.data, 1)\n",
    "        labe_lsit.append(predicted)\n",
    "\n",
    "# 将现有的label_list的tensor转为list\n",
    "tensor_list = [tensor.tolist() for tensor in labe_lsit]\n",
    "# 正儿八经的标签值\n",
    "lab = []\n",
    "for i in tensor_list:\n",
    "    for j in i:\n",
    "        lab.append(j)"
   ]
  },
  {
   "cell_type": "code",
   "execution_count": 25,
   "id": "5501b1bd",
   "metadata": {},
   "outputs": [],
   "source": [
    "pro_list = []\n",
    "for i in proba_list:\n",
    "    for j in i:\n",
    "        pro_list.append(j.tolist())"
   ]
  },
  {
   "cell_type": "code",
   "execution_count": 26,
   "id": "43708ccb",
   "metadata": {},
   "outputs": [
    {
     "name": "stdout",
     "output_type": "stream",
     "text": [
      "173\n"
     ]
    }
   ],
   "source": [
    "# 将lab中的标签按照概率分分类\n",
    "count=0\n",
    "for i in range(3000):\n",
    "    if 0.1<pro_list[i][0]<0.9:\n",
    "        lab[i]=2\n",
    "        count+=1\n",
    "print(count)"
   ]
  },
  {
   "cell_type": "code",
   "execution_count": 27,
   "id": "6d6b3cd7",
   "metadata": {},
   "outputs": [],
   "source": [
    "# 为了便于总结，要把训练的相关信息输出 \n",
    "cry_atoms = 0 \n",
    "# 先读取原有的xyz文件\n",
    "xyz_list = []\n",
    "with open(xyz_path, 'r') as file:\n",
    "    lines = file.readlines()\n",
    "    for line in lines[2:]:  # 跳过前两行\n",
    "        line = line.strip().split()\n",
    "        atom = str(line[0])\n",
    "        coordinates = [float(coord) for coord in line[1:]]\n",
    "        xyz_list.append([atom] + coordinates)\n",
    "# 先取出原有的Nb\n",
    "Center_list = []\n",
    "for i in xyz_list:\n",
    "    if i[0]=='Nb':\n",
    "         Center_list.append([i[1],i[2],i[3]])\n"
   ]
  },
  {
   "cell_type": "code",
   "execution_count": 28,
   "id": "e267d65a",
   "metadata": {},
   "outputs": [
    {
     "name": "stdout",
     "output_type": "stream",
     "text": [
      "新的xyz文件已经生成！\n"
     ]
    }
   ],
   "source": [
    "# 再结合预测 输出新的xyz文件\n",
    "with open(new_xyz_path,'w') as file:\n",
    "    file.write('15000\\n')\n",
    "    file.write('Atoms\\n')\n",
    "    # 先把Nb写回去 玻璃是0 Si   记为 晶体是1 cry Nb\n",
    "    for i in range(3000):\n",
    "        if lab[i]==0:\n",
    "            file.write('Si '+ str(Center_list[i][0])+' '+str(Center_list[i][1])+' '+str(Center_list[i][2])+'\\n')\n",
    "        if lab[i]==1:\n",
    "            cry_atoms+=1\n",
    "            file.write('Nb '+str(Center_list[i][0])+' '+str(Center_list[i][1])+' '+str(Center_list[i][2])+'\\n')\n",
    "        else:\n",
    "            file.write('Ti '+str(Center_list[i][0])+' '+str(Center_list[i][1])+' '+str(Center_list[i][2])+'\\n')\n",
    "    # 再写回去其他原子\n",
    "    for i in xyz_list:\n",
    "        if i[0] != 'Nb':\n",
    "            if i[0]== 'O':\n",
    "                file.write('O '+str(i[1])+' '+str(i[2])+' '+str(i[3])+'\\n')\n",
    "            else:\n",
    "                file.write('Li '+str(i[1])+' '+str(i[2])+' '+str(i[3])+'\\n')\n",
    "    print('新的xyz文件已经生成！')"
   ]
  },
  {
   "cell_type": "code",
   "execution_count": 29,
   "id": "7e5eb63c",
   "metadata": {},
   "outputs": [
    {
     "name": "stdout",
     "output_type": "stream",
     "text": [
      "Batch_size:  64      Epochs: 50\n",
      "Crystal_atom:  279\n"
     ]
    }
   ],
   "source": [
    "# 输出\n",
    "print('Batch_size: ',batch_size,'     Epochs:',num_epochs)\n",
    "print('Crystal_atom: ',cry_atoms)"
   ]
  },
  {
   "cell_type": "code",
   "execution_count": null,
   "id": "cb6d01ef",
   "metadata": {},
   "outputs": [],
   "source": []
  },
  {
   "cell_type": "code",
   "execution_count": null,
   "id": "641ccf06",
   "metadata": {},
   "outputs": [],
   "source": []
  },
  {
   "cell_type": "code",
   "execution_count": null,
   "id": "82cd4d58",
   "metadata": {},
   "outputs": [],
   "source": []
  }
 ],
 "metadata": {
  "kernelspec": {
   "display_name": "Python 3 (ipykernel)",
   "language": "python",
   "name": "python3"
  },
  "language_info": {
   "codemirror_mode": {
    "name": "ipython",
    "version": 3
   },
   "file_extension": ".py",
   "mimetype": "text/x-python",
   "name": "python",
   "nbconvert_exporter": "python",
   "pygments_lexer": "ipython3",
   "version": "3.12.3"
  }
 },
 "nbformat": 4,
 "nbformat_minor": 5
}
