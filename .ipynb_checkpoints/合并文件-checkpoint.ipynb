{
 "cells": [
  {
   "cell_type": "code",
   "execution_count": 12,
   "id": "5885cda8",
   "metadata": {},
   "outputs": [],
   "source": [
    "import numpy as np\n",
    "import matplotlib.pyplot as plt"
   ]
  },
  {
   "cell_type": "code",
   "execution_count": 152,
   "id": "24526d56",
   "metadata": {},
   "outputs": [],
   "source": [
    "dir_path = r'C:\\Users\\zhang\\Desktop\\wfm_data\\初始数据\\初始数据'\n",
    "file_name = 'yes-vibration-process_0_00_pdf.data'\n",
    "\n",
    "file_path = dir_path+'\\\\'+file_name"
   ]
  },
  {
   "cell_type": "code",
   "execution_count": 153,
   "id": "78e0c55e",
   "metadata": {},
   "outputs": [],
   "source": [
    "# 命名 0-12\n",
    "fist_num = range(0,13)\n",
    "# 0-3\n",
    "second = range(0,4)\n",
    "# \n",
    "third = range(0,4)"
   ]
  },
  {
   "cell_type": "code",
   "execution_count": 154,
   "id": "84dbb5cd",
   "metadata": {},
   "outputs": [
    {
     "name": "stdout",
     "output_type": "stream",
     "text": [
      "[[  0.       0.    ]\n",
      " [  0.       0.    ]\n",
      " [  0.       0.    ]\n",
      " ...\n",
      " [ 96.9186 192.0424]\n",
      " [290.5813 479.8179]\n",
      " [387.2092 191.812 ]]\n"
     ]
    }
   ],
   "source": [
    "\n",
    "\n",
    "# 打开文件并读取数据\n",
    "with open(file_path, 'r') as file:\n",
    "    # 读取所有行\n",
    "    lines = file.readlines()\n",
    "\n",
    "# 去除第一行和第一列\n",
    "data = [line.split()[1:] for line in lines[1:]]  # assuming whitespace as the delimiter\n",
    "\n",
    "# 将数据转为 NumPy 数组\n",
    "numeric_data = np.array(data, dtype=float)\n",
    "\n",
    "# 打印结果\n",
    "print(numeric_data)\n"
   ]
  },
  {
   "cell_type": "code",
   "execution_count": 155,
   "id": "5802088c",
   "metadata": {},
   "outputs": [],
   "source": [
    "def read_cn_qn(file_path):\n",
    "    # 打开文件并读取数据\n",
    "    with open(file_path, 'r') as file:\n",
    "        # 读取所有行\n",
    "        lines = file.readlines()\n",
    "\n",
    "    # 去除第一行和第一列\n",
    "    data = [line.split()[1:] for line in lines[1:]]  # assuming whitespace as the delimiter\n",
    "\n",
    "    # 将数据转为 NumPy 数组\n",
    "    numeric_data = np.array(data, dtype=float)\n",
    "    return numeric_data"
   ]
  },
  {
   "cell_type": "code",
   "execution_count": 156,
   "id": "0c96efb4",
   "metadata": {},
   "outputs": [
    {
     "data": {
      "text/plain": [
       "(3333, 2)"
      ]
     },
     "execution_count": 156,
     "metadata": {},
     "output_type": "execute_result"
    }
   ],
   "source": [
    "numeric_data.shape"
   ]
  },
  {
   "cell_type": "code",
   "execution_count": 157,
   "id": "ff31ade7",
   "metadata": {},
   "outputs": [],
   "source": [
    "name_list = []\n",
    "name_title = 'yes-vibration-process_'\n",
    "all_data = []\n",
    "\n",
    "# 为了计算cn和qn的std\n",
    "for i in fist_num:\n",
    "    # 平均\n",
    "    sum_list = np.zeros_like(numeric_data)\n",
    "    for j in second:\n",
    "        for k in third:\n",
    "            name = name_title+str(i)+'_'+str(j)+str(k)+'_pdf.data'\n",
    "            file_path = dir_path+'//'+name\n",
    "            # 开始读取 pdf_bad 用这个读取\n",
    "            # temp_data = np.loadtxt(file_path, skiprows=1, delimiter=None)\n",
    "            \n",
    "            # cn qn\n",
    "            temp_data = read_cn_qn(file_path)\n",
    "            sum_list = temp_data+sum_list \n",
    "            \n",
    "            # 加好了 放进去\n",
    "    all_data.append(sum_list)\n",
    "all_data = np.array(all_data)"
   ]
  },
  {
   "cell_type": "code",
   "execution_count": 158,
   "id": "3fd33e6d",
   "metadata": {},
   "outputs": [
    {
     "data": {
      "text/plain": [
       "array([[   0.    ,    0.    ],\n",
       "       [   0.    ,    0.    ],\n",
       "       [   0.    ,    0.    ],\n",
       "       ...,\n",
       "       [3051.78  , 4144.9035],\n",
       "       [3827.3267, 5069.7287],\n",
       "       [3745.4446, 2341.2913]])"
      ]
     },
     "execution_count": 158,
     "metadata": {},
     "output_type": "execute_result"
    }
   ],
   "source": [
    "all_data[0]"
   ]
  },
  {
   "cell_type": "code",
   "execution_count": 159,
   "id": "24ff1aca",
   "metadata": {},
   "outputs": [
    {
     "data": {
      "text/plain": [
       "(13, 3333, 2)"
      ]
     },
     "execution_count": 159,
     "metadata": {},
     "output_type": "execute_result"
    }
   ],
   "source": [
    "all_data.shape"
   ]
  },
  {
   "cell_type": "code",
   "execution_count": 160,
   "id": "f1e817d7",
   "metadata": {},
   "outputs": [],
   "source": [
    "all_data = np.array(all_data)/16\n"
   ]
  },
  {
   "cell_type": "code",
   "execution_count": 161,
   "id": "51bbe517",
   "metadata": {},
   "outputs": [
    {
     "data": {
      "text/plain": [
       "(13, 3333, 2)"
      ]
     },
     "execution_count": 161,
     "metadata": {},
     "output_type": "execute_result"
    }
   ],
   "source": [
    "all_data.shape"
   ]
  },
  {
   "cell_type": "markdown",
   "id": "651c6ded",
   "metadata": {},
   "source": [
    "new_data = np.zeros_like((3333,26))\n",
    "for i in all_data"
   ]
  },
  {
   "cell_type": "markdown",
   "id": "1f712061",
   "metadata": {},
   "source": [
    "# 在第一个和第二个轴上进行转置\n",
    "transposed_array = np.transpose(all_data, (0, 2, 1))\n",
    "\n",
    "# 打印结果\n",
    "print(transposed_array.shape)\n",
    "all_data = transposed_array"
   ]
  },
  {
   "cell_type": "code",
   "execution_count": 162,
   "id": "30524da4",
   "metadata": {},
   "outputs": [
    {
     "data": {
      "text/plain": [
       "[<matplotlib.lines.Line2D at 0x20186a03fd0>]"
      ]
     },
     "execution_count": 162,
     "metadata": {},
     "output_type": "execute_result"
    },
    {
     "data": {
      "image/png": "[encoded data removed]",
      "text/plain": [
       "<Figure size 432x288 with 1 Axes>"
      ]
     },
     "metadata": {
      "needs_background": "light"
     },
     "output_type": "display_data"
    }
   ],
   "source": [
    "plt.plot( range(len(all_data[0][0])), all_data[0][0])"
   ]
  },
  {
   "cell_type": "code",
   "execution_count": 163,
   "id": "bb1ae289",
   "metadata": {},
   "outputs": [],
   "source": [
    "# 直接在第二个轴上合并这个数组\n",
    "merged_array = np.concatenate(all_data, axis=1)"
   ]
  },
  {
   "cell_type": "code",
   "execution_count": 164,
   "id": "232cf38e",
   "metadata": {},
   "outputs": [
    {
     "data": {
      "text/plain": [
       "(3333, 26)"
      ]
     },
     "execution_count": 164,
     "metadata": {},
     "output_type": "execute_result"
    }
   ],
   "source": [
    "merged_array.shape"
   ]
  },
  {
   "cell_type": "code",
   "execution_count": 165,
   "id": "e6e1a8fa",
   "metadata": {},
   "outputs": [],
   "source": [
    "new_column = np.linspace(0, 10, 3333).reshape(-1, 1)"
   ]
  },
  {
   "cell_type": "code",
   "execution_count": 166,
   "id": "21ba7a97",
   "metadata": {},
   "outputs": [],
   "source": [
    "# 在数组的第一列添加新的数据列\n",
    "array_new_column = np.hstack((new_column, merged_array))"
   ]
  },
  {
   "cell_type": "code",
   "execution_count": 167,
   "id": "35f95707",
   "metadata": {},
   "outputs": [
    {
     "data": {
      "text/plain": [
       "(3333, 27)"
      ]
     },
     "execution_count": 167,
     "metadata": {},
     "output_type": "execute_result"
    }
   ],
   "source": [
    "array_new_column.shape"
   ]
  },
  {
   "cell_type": "code",
   "execution_count": 168,
   "id": "5d6ced89",
   "metadata": {},
   "outputs": [
    {
     "data": {
      "text/plain": [
       "[<matplotlib.lines.Line2D at 0x20186a03310>]"
      ]
     },
     "execution_count": 168,
     "metadata": {},
     "output_type": "execute_result"
    },
    {
     "data": {
      "image/png": "[encoded data removed]",
      "text/plain": [
       "<Figure size 432x288 with 1 Axes>"
      ]
     },
     "metadata": {
      "needs_background": "light"
     },
     "output_type": "display_data"
    }
   ],
   "source": [
    "plt.plot(array_new_column[:,0],array_new_column[:,3])"
   ]
  },
  {
   "cell_type": "code",
   "execution_count": 169,
   "id": "eda2a101",
   "metadata": {},
   "outputs": [
    {
     "name": "stdout",
     "output_type": "stream",
     "text": [
      "Column 1: Max Value = 8752.555862500001, Corresponding x = 2.57202881152461\n",
      "Column 2: Max Value = 46486.59592500001, Corresponding x = 1.599639855942377\n",
      "Column 3: Max Value = 9787.77939375, Corresponding x = 2.5840336134453783\n",
      "Column 4: Max Value = 37818.234587499996, Corresponding x = 1.6116446578631454\n",
      "Column 5: Max Value = 8382.090062500001, Corresponding x = 2.608043217286915\n",
      "Column 6: Max Value = 39672.07619374999, Corresponding x = 1.593637454981993\n",
      "Column 7: Max Value = 10550.27045625, Corresponding x = 2.6260504201680672\n",
      "Column 8: Max Value = 37955.08981875, Corresponding x = 1.602641056422569\n",
      "Column 9: Max Value = 10695.219118749998, Corresponding x = 2.5990396158463387\n",
      "Column 10: Max Value = 45129.974681249994, Corresponding x = 1.6146458583433374\n",
      "Column 11: Max Value = 8822.2514, Corresponding x = 2.611044417767107\n",
      "Column 12: Max Value = 40716.9363625, Corresponding x = 1.5906362545018007\n",
      "Column 13: Max Value = 10597.549056249998, Corresponding x = 2.6320528211284513\n",
      "Column 14: Max Value = 34268.46833125, Corresponding x = 1.599639855942377\n",
      "Column 15: Max Value = 8017.635812500001, Corresponding x = 2.5420168067226894\n",
      "Column 16: Max Value = 36718.026225, Corresponding x = 1.602641056422569\n",
      "Column 17: Max Value = 9052.7084875, Corresponding x = 2.638055222088836\n",
      "Column 18: Max Value = 42716.566443749995, Corresponding x = 1.6206482593037215\n",
      "Column 19: Max Value = 9183.26435, Corresponding x = 2.6410564225690276\n",
      "Column 20: Max Value = 36359.8207625, Corresponding x = 1.602641056422569\n",
      "Column 21: Max Value = 8197.78115625, Corresponding x = 2.617046818727491\n",
      "Column 22: Max Value = 31388.16324375, Corresponding x = 1.6356542617046819\n",
      "Column 23: Max Value = 9426.102456249999, Corresponding x = 2.5960384153661464\n",
      "Column 24: Max Value = 41936.93975, Corresponding x = 1.6206482593037215\n",
      "Column 25: Max Value = 8713.812206249999, Corresponding x = 2.575030012004802\n",
      "Column 26: Max Value = 40491.9694625, Corresponding x = 1.6146458583433374\n"
     ]
    }
   ],
   "source": [
    "import numpy as np\n",
    "\n",
    "# 假设你的数组是一个形状为 (360, 27) 的数组\n",
    "data_array = array_new_column\n",
    "\n",
    "# 提取x值（第一列）\n",
    "x_values = data_array[:, 0]\n",
    "\n",
    "# 提取第二列到最后一列的数据\n",
    "y_values = data_array[:, 1:]\n",
    "\n",
    "# 找出每列最大值的索引\n",
    "max_indices = np.argmax(y_values, axis=0)\n",
    "\n",
    "# 对应的x值\n",
    "max_x_values = x_values[max_indices]\n",
    "\n",
    "list_result_0 = []\n",
    "list_result_1 = []\n",
    "count = 0\n",
    "# 打印结果\n",
    "for i, (x, y) in enumerate(zip(max_x_values, np.max(y_values, axis=0))):\n",
    "    print(f\"Column {i+1}: Max Value = {y}, Corresponding x = {x}\")\n",
    "    list_result_0.append(x)\n"
   ]
  },
  {
   "cell_type": "code",
   "execution_count": 170,
   "id": "c4392d16",
   "metadata": {},
   "outputs": [
    {
     "data": {
      "text/plain": [
       "26"
      ]
     },
     "execution_count": 170,
     "metadata": {},
     "output_type": "execute_result"
    }
   ],
   "source": [
    "len(max_x_values)"
   ]
  },
  {
   "cell_type": "code",
   "execution_count": 172,
   "id": "907b690e",
   "metadata": {},
   "outputs": [
    {
     "name": "stdout",
     "output_type": "stream",
     "text": [
      "0 2.57202881152461\n",
      "1 2.5840336134453783\n",
      "2 2.608043217286915\n",
      "3 2.6260504201680672\n",
      "4 2.5990396158463387\n",
      "5 2.611044417767107\n",
      "6 2.6320528211284513\n",
      "7 2.5420168067226894\n",
      "8 2.638055222088836\n",
      "9 2.6410564225690276\n",
      "10 2.617046818727491\n",
      "11 2.5960384153661464\n",
      "12 2.575030012004802\n"
     ]
    }
   ],
   "source": [
    "for i in range(26):\n",
    "    if i%2==0:\n",
    "        print(int(i/2),max_x_values[i])\n",
    "    "
   ]
  },
  {
   "cell_type": "code",
   "execution_count": null,
   "id": "fd01881e",
   "metadata": {},
   "outputs": [],
   "source": [
    "# 假设你已经有了max_x_values和max_y_values\n",
    "# 这里使用示例数据进行演示\n",
    "max_x_values = np.array([1, 2, 3, 4, 5])\n",
    "max_y_values = np.array([10, 20, 15, 30, 25])\n",
    "\n",
    "# 将x和y分类，偶数分一类，奇数分一类\n",
    "even_indices = max_x_values % 2 == 0\n",
    "odd_indices = max_x_values % 2 != 0\n",
    "\n",
    "# 分类后的数据\n",
    "even_x_values = max_x_values[even_indices]\n",
    "even_y_values = max_y_values[even_indices]\n",
    "\n",
    "odd_x_values = max_x_values[odd_indices]\n",
    "odd_y_values = max_y_values[odd_indices]\n",
    "\n",
    "# 打印结果\n",
    "print(\"Even Values:\")\n",
    "print(\"x:\", even_x_values)\n",
    "print(\"y:\", even_y_values)\n",
    "\n",
    "print(\"\\nOdd Values:\")\n",
    "print(\"x:\", odd_x_values)\n",
    "print(\"y:\", odd_y_values)\n"
   ]
  },
  {
   "cell_type": "code",
   "execution_count": null,
   "id": "0f6c9978",
   "metadata": {},
   "outputs": [],
   "source": []
  },
  {
   "cell_type": "code",
   "execution_count": null,
   "id": "c751b994",
   "metadata": {},
   "outputs": [],
   "source": []
  },
  {
   "cell_type": "code",
   "execution_count": 116,
   "id": "fa1f9b28",
   "metadata": {},
   "outputs": [],
   "source": [
    "# 保存为txt文件\n",
    "save_path = r'C:\\Users\\zhang\\Desktop\\wfm_data'+'\\\\'+'all_cn.txt'\n",
    "\n",
    "np.savetxt(save_path, array_new_column, fmt='%f', delimiter='\\t')"
   ]
  },
  {
   "cell_type": "code",
   "execution_count": null,
   "id": "74dcea2a",
   "metadata": {},
   "outputs": [],
   "source": []
  },
  {
   "cell_type": "code",
   "execution_count": null,
   "id": "b5ee6b2d",
   "metadata": {},
   "outputs": [],
   "source": []
  },
  {
   "cell_type": "code",
   "execution_count": null,
   "id": "ae40fcc0",
   "metadata": {},
   "outputs": [],
   "source": []
  },
  {
   "cell_type": "code",
   "execution_count": null,
   "id": "eb0374e5",
   "metadata": {},
   "outputs": [],
   "source": []
  },
  {
   "cell_type": "code",
   "execution_count": null,
   "id": "7573060e",
   "metadata": {},
   "outputs": [],
   "source": []
  }
 ],
 "metadata": {
  "kernelspec": {
   "display_name": "Python 3 (ipykernel)",
   "language": "python",
   "name": "python3"
  },
  "language_info": {
   "codemirror_mode": {
    "name": "ipython",
    "version": 3
   },
   "file_extension": ".py",
   "mimetype": "text/x-python",
   "name": "python",
   "nbconvert_exporter": "python",
   "pygments_lexer": "ipython3",
   "version": "3.10.6"
  }
 },
 "nbformat": 4,
 "nbformat_minor": 5
}
