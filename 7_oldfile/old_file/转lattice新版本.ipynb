{
 "cells": [
  {
   "cell_type": "code",
   "execution_count": 1,
   "id": "ee2384ef",
   "metadata": {},
   "outputs": [],
   "source": [
    "# # 这个程序用于cif文件转为lattice和creat_atoms两部分\n",
    "# 有时间了继续优化一下 提升脚本的自动化程度 能够直接根据输入的cif文件输出结果\n",
    "# \n",
    "# #实例\n",
    "# lattice          custom 3.52 a1 1.0 ll0.0 0.0 a2 0.5 1.0 0.0 a3 0.0 0.0 0.5 &\n",
    "#                     basis 0.0 0.0 0.0 basis 0.5 0.5 0.5\n",
    "# create_atoms    1 box      &\n",
    "#         basis   5       2       &\n",
    "#         basis   6       2       &"
   ]
  },
  {
   "cell_type": "code",
   "execution_count": 2,
   "id": "7c006af4",
   "metadata": {},
   "outputs": [],
   "source": [
    "import re\n",
    "import os"
   ]
  },
  {
   "cell_type": "code",
   "execution_count": 3,
   "id": "1232a9ae",
   "metadata": {},
   "outputs": [],
   "source": [
    "###################   输入   ###########################\n",
    "\n",
    "#记录元素种类及type id\n",
    "dic_element = {'O':1, 'B':3, 'Zn':4}\n",
    "\n",
    "#cif文件路径\n",
    "path = 'C:\\\\Users\\\\zhang\\\\Desktop\\\\cif文件\\\\B4O7Zn1_ICSD_412688.cif'\n",
    "\n",
    "#正则表达式的通式\n",
    "re_type = '.*?(-{0,1}0\\.\\d{1,15}).*?(-{0,1}0\\.\\d{1,15}).*?(-{0,1}0\\.\\d{1,15})'\n",
    "\n",
    "#新建文件的名字\n",
    "file_name = 'lattice.set'"
   ]
  },
  {
   "cell_type": "code",
   "execution_count": 4,
   "id": "dd34ba77",
   "metadata": {},
   "outputs": [],
   "source": [
    "#看文件是否存在 存在也删了 都要重建\n",
    "if not os.path.exists(file_name):\n",
    "    os.system(r'touch {}'.format(file_name))\n",
    "else:\n",
    "    os.remove(file_name)\n",
    "    os.system(r'touch {}'.format(file_name))"
   ]
  },
  {
   "cell_type": "code",
   "execution_count": 5,
   "id": "4bac1851",
   "metadata": {},
   "outputs": [
    {
     "name": "stdout",
     "output_type": "stream",
     "text": [
      "晶体为立方体，直接输出结果。\n"
     ]
    }
   ],
   "source": [
    "file = open(path)\n",
    "data = file.read()\n",
    "file.close()\n",
    "\n",
    "#解析abc\n",
    "abc_list = []\n",
    "abc_list.clear()\n",
    "abc_list.extend(re.findall(r'_cell_length_[abc].*?(\\d{1,2}.\\d{0,9})',data))\n",
    "abc_list.extend(re.findall(r'_cell_angle.*?(\\d{1,2}.\\d{0,9})',data))\n",
    "\n",
    "if float(abc_list[3])==90.0 and float(abc_list[4])==90.0 and float(abc_list[5])==90.0:\n",
    "    print('晶体为立方体，直接输出结果。')\n",
    "\n",
    "else:\n",
    "    print('晶体为斜方晶，需要后续处理！')\n"
   ]
  },
  {
   "cell_type": "code",
   "execution_count": 6,
   "id": "548ea667",
   "metadata": {},
   "outputs": [],
   "source": [
    "#定义两个函数 分别输出lattice和create_atoms两个\n",
    "#write_data()\n",
    "def write_data(temp):\n",
    "    with open(file_name,'a') as file:\n",
    "        file.write(\"{}\\n\".format(temp)) "
   ]
  },
  {
   "cell_type": "code",
   "execution_count": 7,
   "id": "ee5e1d02",
   "metadata": {},
   "outputs": [
    {
     "name": "stdout",
     "output_type": "stream",
     "text": [
      "lattice          custom   1.0   &\n",
      "a1 6.498217499 0.0 0.0 a2 0.0 10.867204568 0.0 a3 0.0 0.0 5.183521062 &\n",
      "basis  0.4266252928  0.5000000000  0.7500000000  &\n",
      "basis  0.9266252928  0.0000000000  0.7500000000  &\n",
      "basis  0.0733747072  0.0000000000  0.2500000000  &\n",
      "basis  0.5733747072  0.5000000000  0.2500000000  &\n",
      "basis  0.4759502093  0.2783906193  0.7500000000  &\n",
      "basis  0.9759502093  0.7783906193  0.7500000000  &\n",
      "basis  0.0240497907  0.2216093807  0.2500000000  &\n",
      "basis  0.5240497907  0.7216093807  0.2500000000  &\n",
      "basis  0.4759502093  0.7216093807  0.7500000000  &\n",
      "basis  0.9759502093  0.2216093807  0.7500000000  &\n",
      "basis  0.0240497907  0.7783906193  0.2500000000  &\n",
      "basis  0.5240497907  0.2783906193  0.2500000000  &\n",
      "basis  0.3159787214  0.1259908709  0.0210248457  &\n",
      "basis  0.8159787214  0.6259908709  0.0210248457  &\n",
      "basis  0.1840212786  0.3740091291  0.5210248457  &\n",
      "basis  0.6840212786  0.8740091291  0.5210248457  &\n",
      "basis  0.3159787214  0.8740091291  0.4789751543  &\n",
      "basis  0.8159787214  0.3740091291  0.4789751543  &\n",
      "basis  0.1840212786  0.6259908709  0.9789751543  &\n",
      "basis  0.6840212786  0.1259908709  0.9789751543  &\n",
      "basis  0.1840212786  0.3740091291  0.9789751543  &\n",
      "basis  0.6840212786  0.8740091291  0.9789751543  &\n",
      "basis  0.3159787214  0.1259908709  0.4789751543  &\n",
      "basis  0.8159787214  0.6259908709  0.4789751543  &\n",
      "basis  0.1840212786  0.6259908709  0.5210248457  &\n",
      "basis  0.6840212786  0.1259908709  0.5210248457  &\n",
      "basis  0.3159787214  0.8740091291  0.0210248457  &\n",
      "basis  0.8159787214  0.3740091291  0.0210248457  &\n",
      "basis  0.0000000000  0.7008546861  0.0000000000  &\n",
      "basis  0.5000000000  0.2008546861  0.0000000000  &\n",
      "basis  0.0000000000  0.2991453139  0.5000000000  &\n",
      "basis  0.5000000000  0.7991453139  0.5000000000  &\n",
      "basis  0.0000000000  0.2991453139  0.0000000000  &\n",
      "basis  0.5000000000  0.7991453139  0.0000000000  &\n",
      "basis  0.0000000000  0.7008546861  0.5000000000  &\n",
      "basis  0.5000000000  0.2008546861  0.5000000000  &\n",
      "basis  0.1903053345  0.1167335266  0.2500000000  &\n",
      "basis  0.6903053345  0.6167335266  0.2500000000  &\n",
      "basis  0.3096946655  0.3832664734  0.7500000000  &\n",
      "basis  0.8096946655  0.8832664734  0.7500000000  &\n",
      "basis  0.1903053345  0.8832664734  0.2500000000  &\n",
      "basis  0.6903053345  0.3832664734  0.2500000000  &\n",
      "basis  0.3096946655  0.6167335266  0.7500000000  &\n",
      "basis  0.8096946655  0.1167335266  0.7500000000  &\n",
      "basis  0.2350963415  0.0000000000  0.7500000000  &\n",
      "basis  0.7350963415  0.5000000000  0.7500000000  &\n",
      "basis  0.2649036585  0.5000000000  0.2500000000  &\n",
      "basis  0.7649036585  0.0000000000  0.2500000000\n",
      "\n"
     ]
    }
   ],
   "source": [
    "element_num = len(dic_element)\n",
    "#输出前缀\n",
    "print('lattice          custom   1.0   &')\n",
    "write_data('lattice          custom   1.0   &')\n",
    "\n",
    "print('a1 {} 0.0 0.0 a2 0.0 {} 0.0 a3 0.0 0.0 {} &'.format(abc_list[0], abc_list[1], abc_list[2]))\n",
    "write_data('a1 {} 0.0 0.0 a2 0.0 {} 0.0 a3 0.0 0.0 {} &'.format(abc_list[0], abc_list[1], abc_list[2]))\n",
    "\n",
    "#再循环输出lattice\n",
    "for element in dic_element:\n",
    "    temp_list = []\n",
    "    re_all = element + re_type\n",
    "    temp_list.extend(re.findall(re_all, data, re.M))\n",
    "    for i in temp_list:\n",
    "        #如果是最后一个 最后就没有&\n",
    "        if element==list(dic_element)[-1] and temp_list[-1]==i:\n",
    "            print('basis  {}  {}  {}\\n'.format(i[0], i[1], i[2]))\n",
    "            write_data('basis  {}  {}  {}\\n'.format(i[0], i[1], i[2]))\n",
    "\n",
    "        else:\n",
    "            print('basis  {}  {}  {}  &'.format(i[0], i[1], i[2]))\n",
    "            write_data('basis  {}  {}  {}  &'.format(i[0], i[1], i[2]))\n",
    "    temp_list.clear()"
   ]
  },
  {
   "cell_type": "code",
   "execution_count": 8,
   "id": "cf549b7a",
   "metadata": {},
   "outputs": [
    {
     "name": "stdout",
     "output_type": "stream",
     "text": [
      "lattice          custom   1.0   &\n",
      "a1 6.498217499 0.0 0.0 a2 0.0 10.867204568 0.0 a3 0.0 0.0 5.183521062 &\n",
      "basis   1       1       &\n",
      "basis   2       1       &\n",
      "basis   3       1       &\n",
      "basis   4       1       &\n",
      "basis   5       1       &\n",
      "basis   6       1       &\n",
      "basis   7       1       &\n",
      "basis   8       1       &\n",
      "basis   9       1       &\n",
      "basis   10       1       &\n",
      "basis   11       1       &\n",
      "basis   12       1       &\n",
      "basis   13       1       &\n",
      "basis   14       1       &\n",
      "basis   15       1       &\n",
      "basis   16       1       &\n",
      "basis   17       1       &\n",
      "basis   18       1       &\n",
      "basis   19       1       &\n",
      "basis   20       1       &\n",
      "basis   21       1       &\n",
      "basis   22       1       &\n",
      "basis   23       1       &\n",
      "basis   24       1       &\n",
      "basis   25       1       &\n",
      "basis   26       1       &\n",
      "basis   27       1       &\n",
      "basis   28       1       &\n",
      "basis   29       3       &\n",
      "basis   30       3       &\n",
      "basis   31       3       &\n",
      "basis   32       3       &\n",
      "basis   33       3       &\n",
      "basis   34       3       &\n",
      "basis   35       3       &\n",
      "basis   36       3       &\n",
      "basis   37       3       &\n",
      "basis   38       3       &\n",
      "basis   39       3       &\n",
      "basis   40       3       &\n",
      "basis   41       3       &\n",
      "basis   42       3       &\n",
      "basis   43       3       &\n",
      "basis   44       3       &\n",
      "basis   45       4       &\n",
      "basis   46       4       &\n",
      "basis   47       4       &\n",
      "basis   48       4\n"
     ]
    }
   ],
   "source": [
    "#输出前缀\n",
    "count = 1\n",
    "print('create_atoms    {} region    cry_region  &'.format(element_num))\n",
    "write_data('create_atoms    {} region    cry_region  &'.format(element_num))\n",
    "print('a1 {} 0.0 0.0 a2 0.0 {} 0.0 a3 0.0 0.0 {} &'.format(abc_list[0], abc_list[1], abc_list[2]))\n",
    "write_data('a1 {} 0.0 0.0 a2 0.0 {} 0.0 a3 0.0 0.0 {} &'.format(abc_list[0], abc_list[1], abc_list[2]))\n",
    "\n",
    "#再输出create_atoms\n",
    "for element in dic_element:\n",
    "    temp_list = []\n",
    "    re_all = element + re_type\n",
    "    temp_list.extend(re.findall(re_all, data, re.M))\n",
    "    for i in temp_list:\n",
    "        #如果是最后一个 最后就没有&\n",
    "        if element==list(dic_element)[-1] and temp_list[-1]==i:\n",
    "            print('basis   {}       {}'.format(count, dic_element[element]))\n",
    "            write_data('basis   {}       {}'.format(count, dic_element[element]))\n",
    "        else:\n",
    "            print('basis   {}       {}       &'.format(count, dic_element[element]))\n",
    "            write_data('basis   {}       {}       &'.format(count, dic_element[element]))\n",
    "        count+=1\n",
    "    temp_list.clear()"
   ]
  },
  {
   "cell_type": "code",
   "execution_count": null,
   "id": "34010d98",
   "metadata": {},
   "outputs": [],
   "source": []
  }
 ],
 "metadata": {
  "kernelspec": {
   "display_name": "Python 3 (ipykernel)",
   "language": "python",
   "name": "python3"
  },
  "language_info": {
   "codemirror_mode": {
    "name": "ipython",
    "version": 3
   },
   "file_extension": ".py",
   "mimetype": "text/x-python",
   "name": "python",
   "nbconvert_exporter": "python",
   "pygments_lexer": "ipython3",
   "version": "3.10.6"
  }
 },
 "nbformat": 4,
 "nbformat_minor": 5
}
