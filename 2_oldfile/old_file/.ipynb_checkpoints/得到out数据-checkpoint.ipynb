{
 "cells": [
  {
   "cell_type": "code",
   "execution_count": 11,
   "id": "bf337c6b",
   "metadata": {},
   "outputs": [],
   "source": [
    "# 这个程序是为了得到特定的out输出文件\n",
    "import re\n",
    "import os\n",
    "import matplotlib.pyplot as plt\n",
    "import pandas as pd\n",
    "import numpy as np"
   ]
  },
  {
   "cell_type": "code",
   "execution_count": 2,
   "id": "17b65a4e",
   "metadata": {},
   "outputs": [],
   "source": [
    "file_path = r'C:\\Users\\zhang\\Desktop\\out'"
   ]
  },
  {
   "cell_type": "code",
   "execution_count": 3,
   "id": "74a462f7",
   "metadata": {},
   "outputs": [],
   "source": [
    "file = open(file_path)\n",
    "data = file.read()\n",
    "file.close()"
   ]
  },
  {
   "cell_type": "code",
   "execution_count": 4,
   "id": "c6d7b753",
   "metadata": {},
   "outputs": [],
   "source": [
    "#取出区间内的数据\n",
    "out = re.findall('out_begin(.*?)out_end', data, re.DOTALL)[0]\n",
    "#取出step及之后数据\n",
    "out1 = re.findall(\"Mbytes\\\\n(.*?)\\\\nLoop time\", out, re.DOTALL)[0]\n",
    "#先按行切割数据\n",
    "out2 = out1.split('\\n')"
   ]
  },
  {
   "cell_type": "code",
   "execution_count": 5,
   "id": "cc71876e",
   "metadata": {},
   "outputs": [],
   "source": [
    "data_list = []\n",
    "for i in out2:\n",
    "    data_list.append(i.split())"
   ]
  },
  {
   "cell_type": "code",
   "execution_count": 6,
   "id": "dabf13aa",
   "metadata": {
    "collapsed": true
   },
   "outputs": [
    {
     "name": "stdout",
     "output_type": "stream",
     "text": [
      "['Step', 'Temp', 'TotEng', 'Enthalpy']\n",
      "['1000', '167.25789', '-18305.697', '-18090.111']\n",
      "['1100', '177.5084', '-18305.477', '-18049.973']\n",
      "['1200', '185.71179', '-18305.103', '-18076.868']\n",
      "['1300', '179.31509', '-18304.544', '-18079.046']\n",
      "['1400', '176.60423', '-18303.951', '-18057.757']\n",
      "['1500', '187.7832', '-18303.425', '-18084.729']\n",
      "['1600', '191.23895', '-18302.781', '-18058.045']\n",
      "['1700', '191.76933', '-18302.064', '-18045.213']\n",
      "['1800', '180.42816', '-18301.321', '-18076.709']\n",
      "['1900', '187.67638', '-18300.504', '-18061.494']\n",
      "['2000', '202.3554', '-18299.588', '-18048.187']\n",
      "['2100', '201.84672', '-18298.649', '-18060.362']\n",
      "['2200', '204.59967', '-18297.689', '-18054.476']\n",
      "['2300', '200.0221', '-18296.643', '-18044.975']\n",
      "['2400', '202.93106', '-18295.566', '-18053.312']\n",
      "['2500', '207.70635', '-18294.428', '-18045.844']\n",
      "['2600', '220.07891', '-18293.237', '-18027.297']\n",
      "['2700', '217.89048', '-18292.022', '-18036.732']\n",
      "['2800', '222.59838', '-18290.788', '-18042.524']\n",
      "['2900', '234.28052', '-18289.47', '-18026.328']\n",
      "['3000', '233.57032', '-18288.109', '-18027.262']\n",
      "['3100', '225.93584', '-18286.696', '-18028.723']\n",
      "['3200', '242.881', '-18285.23', '-18015.414']\n",
      "['3300', '242.67536', '-18283.699', '-18010.125']\n",
      "['3400', '249.63126', '-18282.189', '-18019.328']\n",
      "['3500', '258.79425', '-18280.562', '-18005.096']\n",
      "['3600', '259.5702', '-18278.901', '-18008.127']\n",
      "['3700', '266.39214', '-18277.226', '-18010.711']\n",
      "['3800', '272.78674', '-18275.467', '-18009.49']\n",
      "['3900', '272.80727', '-18273.593', '-17980.738']\n",
      "['4000', '279.44536', '-18271.755', '-18005.548']\n",
      "['4100', '285.08817', '-18269.829', '-17991.1']\n",
      "['4200', '292.72799', '-18267.804', '-17967.449']\n",
      "['4300', '297.84313', '-18265.788', '-17976.139']\n",
      "['4400', '301.69622', '-18263.691', '-17990.13']\n",
      "['4500', '321.69067', '-18261.51', '-17938.843']\n",
      "['4600', '322.17875', '-18259.226', '-17955.933']\n",
      "['4700', '326.63666', '-18257', '-17976.588']\n",
      "['4800', '335.04183', '-18254.595', '-17944.275']\n",
      "['4900', '352.48425', '-18252.166', '-17931.549']\n",
      "['5000', '341.92158', '-18249.682', '-17970.149']\n",
      "['5100', '364.53042', '-18247.11', '-17933.435']\n",
      "['5200', '366.58832', '-18244.438', '-17902.309']\n",
      "['5300', '377.89077', '-18241.749', '-17947.444']\n",
      "['5400', '382.88268', '-18238.898', '-17911.871']\n",
      "['5500', '386.08652', '-18236.051', '-17888.618']\n",
      "['5600', '408.10513', '-18233.111', '-17914.75']\n",
      "['5700', '403.48106', '-18230.091', '-17895.593']\n",
      "['5800', '418.0292', '-18226.958', '-17881.064']\n",
      "['5900', '424.86142', '-18223.773', '-17899.984']\n",
      "['6000', '440.22816', '-18220.484', '-17873.97']\n",
      "['6100', '436.52932', '-18217.041', '-17828.407']\n",
      "['6200', '458.31716', '-18213.645', '-17872.692']\n",
      "['6300', '473.88772', '-18210.039', '-17873.415']\n",
      "['6400', '476.74874', '-18206.37', '-17801.201']\n",
      "['6500', '489.4871', '-18202.603', '-17813.077']\n",
      "['6600', '494.43761', '-18198.772', '-17857.386']\n",
      "['6700', '509.68332', '-18194.806', '-17820.034']\n",
      "['6800', '521.66198', '-18190.667', '-17764.899']\n",
      "['6900', '541.17876', '-18186.526', '-17812.416']\n",
      "['7000', '553.58271', '-18182.272', '-17805.895']\n",
      "['7100', '557.56892', '-18177.764', '-17763.051']\n",
      "['7200', '596.13852', '-18173.259', '-17746.616']\n",
      "['7300', '599.73086', '-18168.671', '-17776.206']\n",
      "['7400', '621.72141', '-18163.866', '-17775.121']\n",
      "['7500', '631.79601', '-18158.917', '-17697.732']\n",
      "['7600', '664.99518', '-18153.928', '-17735.51']\n",
      "['7700', '650.78605', '-18148.812', '-17737.708']\n",
      "['7800', '666.80792', '-18143.476', '-17689.451']\n",
      "['7900', '679.26803', '-18138.034', '-17685.077']\n",
      "['8000', '676.69336', '-18132.485', '-17676.516']\n",
      "['8100', '727.5127', '-18126.806', '-17631.94']\n",
      "['8200', '748.03452', '-18120.917', '-17651.373']\n",
      "['8300', '751.89567', '-18114.884', '-17655.359']\n",
      "['8400', '788.64045', '-18108.776', '-17624.31']\n",
      "['8500', '789.34706', '-18102.404', '-17619.245']\n",
      "['8600', '813.18149', '-18095.876', '-17604.006']\n",
      "['8700', '839.01844', '-18089.274', '-17557.928']\n",
      "['8800', '819.71387', '-18082.424', '-17560.463']\n",
      "['8900', '866.91348', '-18075.489', '-17528.646']\n",
      "['9000', '884.79508', '-18068.259', '-17519.057']\n",
      "['9100', '927.787', '-18060.949', '-17514.685']\n",
      "['9200', '925.53128', '-18053.443', '-17488.067']\n",
      "['9300', '954.5747', '-18045.744', '-17437.439']\n",
      "['9400', '992.2978', '-18037.792', '-17494.912']\n",
      "['9500', '1018.3781', '-18029.736', '-17463.318']\n",
      "['9600', '1028.1606', '-18021.387', '-17410.85']\n",
      "['9700', '1075.1588', '-18012.858', '-17374.935']\n",
      "['9800', '1078.38', '-18004.205', '-17359.936']\n",
      "['9900', '1136.2172', '-17995.286', '-17385.816']\n",
      "['10000', '1188.1146', '-17986.17', '-17339.122']\n",
      "['10100', '1191.4719', '-17976.862', '-17351.244']\n",
      "['10200', '1188.2616', '-17967.367', '-17289.819']\n",
      "['10300', '1266.0582', '-17957.513', '-17267.508']\n",
      "['10400', '1265.8407', '-17947.537', '-17277.434']\n",
      "['10500', '1281.7682', '-17937.296', '-17196.712']\n",
      "['10600', '1301.5577', '-17926.896', '-17219.844']\n",
      "['10700', '1373.8627', '-17916.193', '-17200.353']\n",
      "['10800', '1393.8916', '-17905.305', '-17158.213']\n",
      "['10900', '1419.8162', '-17894.181', '-17163.65']\n",
      "['11000', '1453.8389', '-17882.683', '-17087.635']\n",
      "['11100', '1516.8432', '-17871.044', '-17110.453']\n",
      "['11200', '1598.0562', '-17859.143', '-17085.379']\n",
      "['11300', '1570.7831', '-17846.895', '-17002.404']\n",
      "['11400', '1606.3272', '-17834.522', '-16961.642']\n",
      "['11500', '1668.819', '-17821.85', '-16954.163']\n",
      "['11600', '1687.6618', '-17808.952', '-16963.07']\n",
      "['11700', '1713.1358', '-17795.791', '-16985.645']\n",
      "['11800', '1786.3301', '-17782.273', '-16919.283']\n",
      "['11900', '1811.2476', '-17768.528', '-16907.937']\n",
      "['12000', '1838.0205', '-17754.55', '-16829.66']\n",
      "['12100', '1866.1634', '-17740.272', '-16785.77']\n",
      "['12200', '1939.6359', '-17725.792', '-16723.87']\n",
      "['12300', '1980.6721', '-17710.991', '-16733.12']\n",
      "['12400', '2042.7161', '-17695.964', '-16711.009']\n",
      "['12500', '2046.0926', '-17680.58', '-16636.475']\n",
      "['12600', '2095.539', '-17664.969', '-16580.28']\n",
      "['12700', '2113.2078', '-17649.156', '-16574.813']\n",
      "['12800', '2244.1807', '-17633.133', '-16604.137']\n",
      "['12900', '2293.2493', '-17616.704', '-16518.662']\n",
      "['13000', '2275.2282', '-17600.025', '-16485.19']\n",
      "['13100', '2356.9915', '-17583.229', '-16464.007']\n",
      "['13200', '2526.0578', '-17565.94', '-16409.042']\n",
      "['13300', '2461.0755', '-17548.495', '-16312.636']\n",
      "['13400', '2460.1061', '-17530.922', '-16226.235']\n",
      "['13500', '2520.9126', '-17513.164', '-16311.4']\n",
      "['13600', '2658.0503', '-17494.927', '-16299.916']\n",
      "['13700', '2692.1372', '-17476.499', '-16235.094']\n",
      "['13800', '2786.8659', '-17457.912', '-16185.458']\n",
      "['13900', '2827.7134', '-17439.058', '-16112.676']\n",
      "['14000', '2822.4755', '-17420.009', '-16062.823']\n",
      "['14100', '3003.27', '-17400.825', '-16037.586']\n",
      "['14200', '2994.314', '-17381.364', '-16065.987']\n",
      "['14300', '3108.6379', '-17361.779', '-15956.363']\n",
      "['14400', '3145.7338', '-17341.98', '-15930.003']\n",
      "['14500', '3275.2094', '-17322.058', '-15897.508']\n",
      "['14600', '3220.8875', '-17302.021', '-15888.856']\n",
      "['14700', '3308.5522', '-17281.947', '-15794.22']\n",
      "['14800', '3277.2439', '-17261.33', '-15728.206']\n",
      "['14900', '3352.4232', '-17240.922', '-15792.605']\n",
      "['15000', '3480.4407', '-17220.235', '-15619.093']\n",
      "['15100', '3434.4886', '-17199.68', '-15543.037']\n",
      "['15200', '3542.6117', '-17178.92', '-15545.82']\n",
      "['15300', '3687.1051', '-17158.173', '-15545.792']\n",
      "['15400', '3629.2093', '-17137.308', '-15496.042']\n",
      "['15500', '3706.9412', '-17116.342', '-15502.851']\n",
      "['15600', '3864.6716', '-17095.362', '-15454.925']\n",
      "['15700', '3924.5674', '-17074.461', '-15341.486']\n",
      "['15800', '3870.4639', '-17053.367', '-15332.669']\n",
      "['15900', '4059.2322', '-17032.363', '-15341.89']\n",
      "['16000', '4133.6159', '-17011.491', '-15259.218']\n",
      "['16100', '4192.1589', '-16990.806', '-15230.629']\n",
      "['16200', '4164.1782', '-16970.244', '-15160.733']\n",
      "['16300', '4211.2883', '-16949.541', '-15157.352']\n",
      "['16400', '4184.346', '-16928.953', '-14985.189']\n",
      "['16500', '4384.372', '-16908.456', '-15072.286']\n",
      "['16600', '4451.5611', '-16888.14', '-15186.485']\n",
      "['16700', '4429.836', '-16868.04', '-14908.55']\n",
      "['16800', '4507.9643', '-16847.994', '-14931.878']\n",
      "['16900', '4677.9456', '-16828.324', '-14941.333']\n",
      "['17000', '4545.9484', '-16808.757', '-14824.173']\n",
      "['17100', '4575.0564', '-16789.334', '-14816.657']\n",
      "['17200', '4684.7884', '-16770.184', '-14784.613']\n",
      "['17300', '4674.3511', '-16751.123', '-14582.464']\n",
      "['17400', '4896.1653', '-16732.609', '-14638.625']\n",
      "['17500', '4855.937', '-16714.086', '-14791.555']\n",
      "['17600', '4916.7804', '-16695.933', '-14640.367']\n",
      "['17700', '4952.4313', '-16678.245', '-14507.616']\n",
      "['17800', '4996.4211', '-16660.785', '-14620.689']\n",
      "['17900', '5017.6651', '-16643.632', '-14534.912']\n",
      "['18000', '4964.2361', '-16626.284', '-14471.329']\n",
      "['18100', '4941.0746', '-16609.658', '-14425.77']\n",
      "['18200', '5214.2442', '-16593.305', '-14421.45']\n",
      "['18300', '5272.6369', '-16577.263', '-14370.996']\n",
      "['18400', '5251.1267', '-16561.573', '-14326.663']\n",
      "['18500', '5237.3017', '-16546.093', '-14310.31']\n",
      "['18600', '5459.3905', '-16531.366', '-14240.818']\n",
      "['18700', '5177.4112', '-16517.134', '-14158.277']\n",
      "['18800', '5377.5705', '-16503.072', '-14098.646']\n",
      "['18900', '5373.0307', '-16489.051', '-14223.161']\n",
      "['19000', '5529.5209', '-16475.909', '-14164.313']\n",
      "['19100', '5573.4036', '-16463.042', '-14245.792']\n",
      "['19200', '5636.946', '-16450.319', '-14188.188']\n",
      "['19300', '5657.8356', '-16438.136', '-14000.416']\n",
      "['19400', '5498.9516', '-16426.199', '-14106.752']\n",
      "['19500', '5813.4368', '-16414.804', '-14078.055']\n",
      "['19600', '5585.3651', '-16403.457', '-14018.802']\n",
      "['19700', '5711.8752', '-16392.651', '-14034.657']\n",
      "['19800', '5583.5327', '-16382.285', '-14129.46']\n",
      "['19900', '5648.4746', '-16371.607', '-13908.827']\n",
      "['20000', '5750.808', '-16361.079', '-14060.043']\n",
      "['20100', '5777.1039', '-16350.592', '-13938.594']\n",
      "['20200', '5661.2144', '-16340.388', '-13858.546']\n",
      "['20300', '5856.3564', '-16329.94', '-13900.474']\n",
      "['20400', '5715.7081', '-16319.543', '-13982.462']\n",
      "['20500', '5621.7092', '-16309.129', '-13848.667']\n",
      "['20600', '5761.2091', '-16298.415', '-13852.374']\n",
      "['20700', '6032.0274', '-16287.496', '-13878.087']\n",
      "['20800', '5907.6036', '-16275.963', '-13779.529']\n",
      "['20900', '5802.6882', '-16264.675', '-13917.233']\n",
      "['21000', '5789.095', '-16252.916', '-13816.089']\n"
     ]
    }
   ],
   "source": [
    "for i in data_list:\n",
    "    print(i)"
   ]
  },
  {
   "cell_type": "code",
   "execution_count": 13,
   "id": "01da0c33",
   "metadata": {},
   "outputs": [],
   "source": [
    "data_list = np.array(data_list)\n",
    "title = data_list[0]\n",
    "data_list=data_list[1:]"
   ]
  },
  {
   "cell_type": "code",
   "execution_count": 20,
   "id": "faa53b36",
   "metadata": {},
   "outputs": [
    {
     "data": {
      "text/plain": [
       "array(['Step', 'Temp', 'TotEng', 'Enthalpy'], dtype='<U10')"
      ]
     },
     "execution_count": 20,
     "metadata": {},
     "output_type": "execute_result"
    }
   ],
   "source": [
    "title"
   ]
  },
  {
   "cell_type": "code",
   "execution_count": 19,
   "id": "f3adf4eb",
   "metadata": {},
   "outputs": [
    {
     "data": {
      "text/plain": [
       "[<matplotlib.lines.Line2D at 0x1b7d0281a20>]"
      ]
     },
     "execution_count": 19,
     "metadata": {},
     "output_type": "execute_result"
    },
    {
     "data": {
      "image/png": "[encoded data removed]",
      "text/plain": [
       "<Figure size 432x288 with 1 Axes>"
      ]
     },
     "metadata": {
      "needs_background": "light"
     },
     "output_type": "display_data"
    }
   ],
   "source": [
    "plt.plot(data_list[1],data_list[3])\n"
   ]
  },
  {
   "cell_type": "code",
   "execution_count": null,
   "id": "f69cc3e0",
   "metadata": {},
   "outputs": [],
   "source": []
  }
 ],
 "metadata": {
  "kernelspec": {
   "display_name": "Python 3 (ipykernel)",
   "language": "python",
   "name": "python3"
  },
  "language_info": {
   "codemirror_mode": {
    "name": "ipython",
    "version": 3
   },
   "file_extension": ".py",
   "mimetype": "text/x-python",
   "name": "python",
   "nbconvert_exporter": "python",
   "pygments_lexer": "ipython3",
   "version": "3.10.6"
  }
 },
 "nbformat": 4,
 "nbformat_minor": 5
}
