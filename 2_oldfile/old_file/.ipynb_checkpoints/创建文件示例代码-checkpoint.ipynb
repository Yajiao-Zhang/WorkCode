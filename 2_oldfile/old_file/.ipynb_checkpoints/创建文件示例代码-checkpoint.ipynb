{
 "cells": [
  {
   "cell_type": "code",
   "execution_count": 2,
   "id": "b4af38fb",
   "metadata": {},
   "outputs": [],
   "source": [
    "# 这个程序是为了输出lattice的数据为set文件\n"
   ]
  },
  {
   "cell_type": "code",
   "execution_count": 3,
   "id": "d0d96e72",
   "metadata": {},
   "outputs": [],
   "source": [
    "import os\n"
   ]
  },
  {
   "cell_type": "code",
   "execution_count": 4,
   "id": "122fa6a1",
   "metadata": {},
   "outputs": [],
   "source": [
    "file_name = 'lattice.set'\n"
   ]
  },
  {
   "cell_type": "code",
   "execution_count": 5,
   "id": "e5b9332c",
   "metadata": {},
   "outputs": [],
   "source": [
    "#看文件是否存在 存在也删了 都要重建\n",
    "if not os.path.exists(file_name):\n",
    "    os.system(r'touch {}'.format(file_name))\n",
    "else:\n",
    "    os.remove(file_name)\n",
    "    os.system(r'touch {}'.format(file_name))"
   ]
  },
  {
   "cell_type": "code",
   "execution_count": null,
   "id": "7ba02aea",
   "metadata": {},
   "outputs": [],
   "source": [
    "# 把内容写入文件\n",
    "\n",
    "\n"
   ]
  }
 ],
 "metadata": {
  "kernelspec": {
   "display_name": "Python 3 (ipykernel)",
   "language": "python",
   "name": "python3"
  },
  "language_info": {
   "codemirror_mode": {
    "name": "ipython",
    "version": 3
   },
   "file_extension": ".py",
   "mimetype": "text/x-python",
   "name": "python",
   "nbconvert_exporter": "python",
   "pygments_lexer": "ipython3",
   "version": "3.10.6"
  }
 },
 "nbformat": 4,
 "nbformat_minor": 5
}
