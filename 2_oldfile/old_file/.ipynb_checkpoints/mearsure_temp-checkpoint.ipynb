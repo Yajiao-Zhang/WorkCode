{
 "cells": [
  {
   "cell_type": "code",
   "execution_count": 22,
   "id": "bd4cc09d",
   "metadata": {},
   "outputs": [],
   "source": [
    "import os\n",
    "import numpy as np\n",
    "import pandas as pd\n",
    "import matplotlib.pyplot as plt"
   ]
  },
  {
   "cell_type": "code",
   "execution_count": 23,
   "id": "4e78debd",
   "metadata": {},
   "outputs": [],
   "source": [
    "path = r\"C:\\Users\\zhang\\Desktop\\data.txt\""
   ]
  },
  {
   "cell_type": "code",
   "execution_count": 24,
   "id": "6928a4e5",
   "metadata": {},
   "outputs": [],
   "source": [
    "with open(path) as f:\n",
    "    str_data = f.read()\n",
    "data = str_data.split()"
   ]
  },
  {
   "cell_type": "code",
   "execution_count": 25,
   "id": "02dbbeda",
   "metadata": {},
   "outputs": [],
   "source": [
    "np_data  = np.array(data)"
   ]
  },
  {
   "cell_type": "code",
   "execution_count": 36,
   "id": "f128f7ec",
   "metadata": {},
   "outputs": [
    {
     "data": {
      "text/plain": [
       "array(['Step', 'Temp', 'PotEng', ..., '51222.354', '4.1567159',\n",
       "       '37.138114'], dtype='<U10')"
      ]
     },
     "execution_count": 36,
     "metadata": {},
     "output_type": "execute_result"
    }
   ],
   "source": [
    "np_data"
   ]
  },
  {
   "cell_type": "code",
   "execution_count": 40,
   "id": "b5988e6d",
   "metadata": {},
   "outputs": [],
   "source": [
    "data1 = np_data[7:]"
   ]
  },
  {
   "cell_type": "code",
   "execution_count": 41,
   "id": "6d6a1a8e",
   "metadata": {},
   "outputs": [
    {
     "data": {
      "text/plain": [
       "array(['20005', '309.52884', '-52587.202', ..., '51222.354', '4.1567159',\n",
       "       '37.138114'], dtype='<U10')"
      ]
     },
     "execution_count": 41,
     "metadata": {},
     "output_type": "execute_result"
    }
   ],
   "source": [
    "data1"
   ]
  },
  {
   "cell_type": "code",
   "execution_count": 54,
   "id": "2d09ad57",
   "metadata": {},
   "outputs": [],
   "source": [
    "data2 = data1.reshape(-1,7)"
   ]
  },
  {
   "cell_type": "code",
   "execution_count": 55,
   "id": "77964aa9",
   "metadata": {},
   "outputs": [
    {
     "data": {
      "text/plain": [
       "array(['20005', '309.52884', '-52587.202', '-2619.9415', '48923.796',\n",
       "       '4.3520084', '36.574078'], dtype='<U10')"
      ]
     },
     "execution_count": 55,
     "metadata": {},
     "output_type": "execute_result"
    }
   ],
   "source": [
    "data2[0]"
   ]
  },
  {
   "cell_type": "code",
   "execution_count": 60,
   "id": "cc3e2894",
   "metadata": {},
   "outputs": [],
   "source": [
    "x,y = [],[]\n",
    "for i in data2[::5]:\n",
    "    x.append(float(i[0]))\n",
    "    y.append(float(i[1]))"
   ]
  },
  {
   "cell_type": "code",
   "execution_count": 62,
   "id": "c7ab2726",
   "metadata": {},
   "outputs": [
    {
     "data": {
      "text/plain": [
       "<matplotlib.collections.PathCollection at 0x223e6fce3b0>"
      ]
     },
     "execution_count": 62,
     "metadata": {},
     "output_type": "execute_result"
    },
    {
     "data": {
      "image/png": "[encoded data removed]",
      "text/plain": [
       "<Figure size 432x288 with 1 Axes>"
      ]
     },
     "metadata": {
      "needs_background": "light"
     },
     "output_type": "display_data"
    }
   ],
   "source": [
    "plt.scatter(y,x)"
   ]
  },
  {
   "cell_type": "code",
   "execution_count": null,
   "id": "3610ef5a",
   "metadata": {},
   "outputs": [],
   "source": []
  },
  {
   "cell_type": "code",
   "execution_count": null,
   "id": "4007aa7a",
   "metadata": {},
   "outputs": [],
   "source": []
  }
 ],
 "metadata": {
  "kernelspec": {
   "display_name": "Python 3 (ipykernel)",
   "language": "python",
   "name": "python3"
  },
  "language_info": {
   "codemirror_mode": {
    "name": "ipython",
    "version": 3
   },
   "file_extension": ".py",
   "mimetype": "text/x-python",
   "name": "python",
   "nbconvert_exporter": "python",
   "pygments_lexer": "ipython3",
   "version": "3.10.6"
  }
 },
 "nbformat": 4,
 "nbformat_minor": 5
}
