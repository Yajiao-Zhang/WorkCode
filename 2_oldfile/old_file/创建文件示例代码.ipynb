{
 "cells": [
  {
   "cell_type": "code",
   "execution_count": 2,
   "id": "031bbbfa",
   "metadata": {},
   "outputs": [],
   "source": [
    "# 这个程序是为了输出lattice的数据为set文件\n"
   ]
  },
  {
   "cell_type": "code",
   "execution_count": 6,
   "id": "ffb9f741",
   "metadata": {},
   "outputs": [],
   "source": [
    "import os\n"
   ]
  },
  {
   "cell_type": "code",
   "execution_count": 1,
   "id": "8d152650",
   "metadata": {},
   "outputs": [],
   "source": [
    "file_name = 'lattice.set'"
   ]
  },
  {
   "cell_type": "code",
   "execution_count": 8,
   "id": "9ae6ad08",
   "metadata": {},
   "outputs": [],
   "source": [
    "#看文件是否存在 存在也删了 都要重建\n",
    "if not os.path.exists(file_name):\n",
    "    os.system(r'touch {}'.format(file_name))\n",
    "else:\n",
    "    os.remove(file_name)\n",
    "    os.system(r'touch {}'.format(file_name))"
   ]
  },
  {
   "cell_type": "code",
   "execution_count": 12,
   "id": "b9441f04",
   "metadata": {},
   "outputs": [
    {
     "name": "stdout",
     "output_type": "stream",
     "text": [
      "1 adaskmd\n",
      "\n",
      "2 adaskmd\n",
      "\n",
      "3 adaskmd\n",
      "\n",
      "4 adaskmd\n",
      "\n",
      "5 adaskmd\n",
      "\n",
      "12 adaskmd\n",
      "\n",
      "5 adaskmd\n",
      "\n"
     ]
    }
   ],
   "source": [
    "# 把内容写入文件\n",
    "for i in range(10):\n",
    "    with open(file_name,'a') as file:\n",
    "        file.write(\" {} \\n\".format(i))\n",
    "\n",
    "b = [1,2,3,4,5,12,5]\n",
    "for i in range(len(b)):\n",
    "    print(\"{} adaskmd\\n\".format(b[i]))\n"
   ]
  },
  {
   "cell_type": "code",
   "execution_count": 15,
   "id": "415d5228",
   "metadata": {},
   "outputs": [],
   "source": [
    "def wd(temp):\n",
    "    with open(file_name,'a') as file:\n",
    "        file.write(\" {} \\n\".format(temp))"
   ]
  },
  {
   "cell_type": "code",
   "execution_count": 17,
   "id": "70e6a36f",
   "metadata": {},
   "outputs": [],
   "source": [
    "wd(\"{} adaskmd\\n\".format(b[i]))"
   ]
  },
  {
   "cell_type": "code",
   "execution_count": null,
   "id": "fbd2f56f",
   "metadata": {},
   "outputs": [],
   "source": []
  }
 ],
 "metadata": {
  "kernelspec": {
   "display_name": "Python 3 (ipykernel)",
   "language": "python",
   "name": "python3"
  },
  "language_info": {
   "codemirror_mode": {
    "name": "ipython",
    "version": 3
   },
   "file_extension": ".py",
   "mimetype": "text/x-python",
   "name": "python",
   "nbconvert_exporter": "python",
   "pygments_lexer": "ipython3",
   "version": "3.10.6"
  }
 },
 "nbformat": 4,
 "nbformat_minor": 5
}
