{
 "cells": [
  {
   "cell_type": "code",
   "execution_count": 1,
   "id": "372d0b5c",
   "metadata": {},
   "outputs": [],
   "source": [
    "#调库 析晶程序判别\n",
    "import os\n",
    "import math\n",
    "import matplotlib.pyplot as plt\n",
    "import numpy as np\n",
    "import copy"
   ]
  },
  {
   "cell_type": "code",
   "execution_count": 2,
   "id": "5d7c72fd",
   "metadata": {},
   "outputs": [],
   "source": [
    "#定义距离函数\n",
    "def cal_distance(x1,y1,z1,x2,y2,z2):\n",
    "    dis = ((x1-x2)**2+(y1-y2)**2+(z1-z2)**2)**(1/2)\n",
    "    return dis"
   ]
  },
  {
   "cell_type": "code",
   "execution_count": 3,
   "id": "593648c0",
   "metadata": {},
   "outputs": [],
   "source": [
    "########参数列表#############\n",
    "max_neigh = 6\n",
    "max_dis = 6.0"
   ]
  },
  {
   "cell_type": "code",
   "execution_count": 4,
   "id": "23ac7f46",
   "metadata": {},
   "outputs": [],
   "source": [
    "#读取文本函数，返回直接d选帧\n",
    "def get_data(path,frame_num):\n",
    "    with open(path) as f:\n",
    "        str_data = f.read()\n",
    "    data = str_data.split()\n",
    "    ###选帧#########\n",
    "    #此处写个程序选帧\n",
    "    atoms_num = int(data[0])\n",
    "    frame_len = atoms_num*4+2\n",
    "    data_len =len(data)\n",
    "    max_frame = data_len // frame_len\n",
    "    \n",
    "    temp = []\n",
    "    temp = data[frame_len*frame_num:frame_len*(frame_num+1)]\n",
    "\n",
    "    #暂时先自行处理了表头\n",
    "    temp = temp[2:]\n",
    "    frame_list = []\n",
    "    for i in range(atoms_num):\n",
    "        frame_list.append([temp[i*4+0],float(temp[i*4+1]),float(temp[i*4+2]),float(temp[i*4+3])])\n",
    "    \n",
    "    return frame_list"
   ]
  },
  {
   "cell_type": "code",
   "execution_count": null,
   "id": "3393554c",
   "metadata": {},
   "outputs": [],
   "source": [
    "#  此处需要改一下架构 存入邻近原子的id 而非具体坐标  这样不但减少了内存消耗 而且便于索引\n",
    "\n",
    "class point:\n",
    "    def __init__(self,name,x,y,z):\n",
    "        #自身坐标\n",
    "        self.x=x\n",
    "        self.y=y\n",
    "        self.z=z\n",
    "        self.name=name\n",
    "        self.cry=0\n",
    "        #记录最近的几个点 每个点按顺序记录下  nei的 索引和dis \n",
    "        #例如 nei[ [id1,dis1], [id2,dis2] ]\n",
    "        self.neighbor_atom=[]\n",
    "        #记录与最近的几个点的角度 \n",
    "        self.angle=[]\n",
    "    \n",
    "    #定义类中的替换函数  如果这个距离比原有的小，就替换掉原有点的记录\n",
    "    def show(self):\n",
    "        print(\"name: \",self.name,\" xyz: \",self.x,\" \",self.y,\" \" ,self.z)\n",
    "        print(\"neighbor: \")\n",
    "        for i in self.neighbor_atom:\n",
    "            print(i)\n",
    "        print(\"angle: \")\n",
    "        for i in self.angle:\n",
    "            print(i)\n",
    "            \n",
    "    def sub(self,x,y,z,dis,max_dis):\n",
    "        \n",
    "        #为空的话直接放进去\n",
    "        if(len(self.neighbor_atom)==0):\n",
    "            self.neighbor_atom.append([x,y,z,dis])\n",
    "            return\n",
    "        #大多数点是比表中最大的点距离大的 所以大的直接返回\n",
    "        if(dis>max_dis):\n",
    "            return\n",
    "        #如果需要调整,那么先插入表尾，再排序，再删除最后一个节点就行\n",
    "        else:\n",
    "            self.neighbor_atom.append([x,y,z,dis])\n",
    "            self.neighbor_atom.sort(key=lambda xx:xx[-1])\n",
    "            #如果表满了则删除最后一个 或者最后一个大于了max dis\n",
    "            if(len(self.neighbor_atom)>max_neigh or self.neighbor_atom[-1][-1]>max_dis):\n",
    "                del self.neighbor_atom[-1]\n",
    "    \n",
    "    def filter_neighbor(self,max_dis):\n",
    "        self.neighbor_atom.sort(key=lambda xx:xx[-1])\n",
    "        for i in range(len(self.neighbor_atom)-1,-1,-1):\n",
    "            if(self.neighbor_atom[-1][-1]>max_dis):\n",
    "                self.neighbor_atom.pop()\n",
    "    def cal_angle(self):\n",
    "        self.angle.clear()\n",
    "        for i in range(len(self.neighbor_atom)):\n",
    "            for j in range(i+1,len(self.neighbor_atom)):\n",
    "                a = [self.neighbor_atom[i][0], self.neighbor_atom[i][1], self.neighbor_atom[i][2]]\n",
    "                \n",
    "                b = [self.x, self.y, self.z]\n",
    "                \n",
    "                c=[self.neighbor_atom[j][0], self.neighbor_atom[j][1], self.neighbor_atom[j][2]]\n",
    "                \n",
    "                temp = fun_angle(a,b,c)\n",
    "                self.angle.append(temp)\n",
    "        self.angle.sort()\n",
    "    #最后还应该有一个判断是不是晶体的程序\n",
    "    def judge_cry(self):\n",
    "        pass"
   ]
  },
  {
   "cell_type": "code",
   "execution_count": null,
   "id": "4216b8f7",
   "metadata": {},
   "outputs": [],
   "source": []
  },
  {
   "cell_type": "code",
   "execution_count": null,
   "id": "2c719915",
   "metadata": {},
   "outputs": [],
   "source": []
  },
  {
   "cell_type": "code",
   "execution_count": null,
   "id": "8958d679",
   "metadata": {},
   "outputs": [],
   "source": []
  },
  {
   "cell_type": "code",
   "execution_count": null,
   "id": "2d2e66f7",
   "metadata": {},
   "outputs": [],
   "source": []
  },
  {
   "cell_type": "code",
   "execution_count": null,
   "id": "c8ce3386",
   "metadata": {},
   "outputs": [],
   "source": []
  }
 ],
 "metadata": {
  "kernelspec": {
   "display_name": "Python 3 (ipykernel)",
   "language": "python",
   "name": "python3"
  },
  "language_info": {
   "codemirror_mode": {
    "name": "ipython",
    "version": 3
   },
   "file_extension": ".py",
   "mimetype": "text/x-python",
   "name": "python",
   "nbconvert_exporter": "python",
   "pygments_lexer": "ipython3",
   "version": "3.10.6"
  }
 },
 "nbformat": 4,
 "nbformat_minor": 5
}
