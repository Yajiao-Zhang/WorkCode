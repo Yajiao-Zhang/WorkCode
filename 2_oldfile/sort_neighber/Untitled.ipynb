{
 "cells": [
  {
   "cell_type": "code",
   "execution_count": 9,
   "id": "ea2ec157",
   "metadata": {},
   "outputs": [],
   "source": [
    "# 这个是分析平均帧数的 计算方法  比较析晶前后的差异"
   ]
  },
  {
   "cell_type": "code",
   "execution_count": 4,
   "id": "c983b111",
   "metadata": {},
   "outputs": [],
   "source": [
    "# 先来个300k下的文件练练手\n",
    "import numpy as np\n",
    "import sys\n",
    "import matplotlib.pyplot as plt\n",
    "sys.path.append(r'C:\\Users\\zhang\\11_functions')\n",
    "from read_file import read_one_frame_xyz as r_xyz\n",
    "from cal_ppp_dis import cal_ppp_distance as cal_dis\n",
    "from ReadAll import read_file"
   ]
  },
  {
   "cell_type": "code",
   "execution_count": 5,
   "id": "3e38a24e",
   "metadata": {},
   "outputs": [],
   "source": [
    "# 参数定义\n",
    "file_path = r'C:\\Users\\zhang\\Desktop\\桌面资料\\论文\\刚度理论分析\\2600k原始文件\\glass_300k.lmp'\n"
   ]
  },
  {
   "cell_type": "code",
   "execution_count": 6,
   "id": "87ddf4fb",
   "metadata": {},
   "outputs": [
    {
     "name": "stdout",
     "output_type": "stream",
     "text": [
      "Custom data will be returned: ['id', 'type', 'x', 'y', 'z']\n"
     ]
    }
   ],
   "source": [
    "data = read_file(file_path=file_path,file_type='lmp',start_frame=0,step_frame=4,end_frame=400,label=1,parameter= ['id','type','x','y','z'])"
   ]
  },
  {
   "cell_type": "code",
   "execution_count": 7,
   "id": "ac90d8c6",
   "metadata": {},
   "outputs": [
    {
     "name": "stdout",
     "output_type": "stream",
     "text": [
      "107.621 22.7903 70.7978\n"
     ]
    }
   ],
   "source": [
    "# 找到最大的box\n",
    "max_x,max_y,max_z = 0,0,0\n",
    "for i_frame in data:\n",
    "    for j_atom in i_frame:\n",
    "        max_x,max_y,max_z = max(j_atom.x,max_x),max(j_atom.y,max_y),max(j_atom.z,max_z)\n",
    "print(max_x,max_y,max_z)\n",
    "box_size = [max_x,max_y,max_z]"
   ]
  },
  {
   "cell_type": "code",
   "execution_count": null,
   "id": "b51a14e0",
   "metadata": {},
   "outputs": [],
   "source": []
  }
 ],
 "metadata": {
  "kernelspec": {
   "display_name": "Python 3 (ipykernel)",
   "language": "python",
   "name": "python3"
  },
  "language_info": {
   "codemirror_mode": {
    "name": "ipython",
    "version": 3
   },
   "file_extension": ".py",
   "mimetype": "text/x-python",
   "name": "python",
   "nbconvert_exporter": "python",
   "pygments_lexer": "ipython3",
   "version": "3.10.6"
  }
 },
 "nbformat": 4,
 "nbformat_minor": 5
}
